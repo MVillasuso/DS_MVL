{
 "metadata": {
  "language_info": {
   "codemirror_mode": {
    "name": "ipython",
    "version": 3
   },
   "file_extension": ".py",
   "mimetype": "text/x-python",
   "name": "python",
   "nbconvert_exporter": "python",
   "pygments_lexer": "ipython3",
   "version": "3.8.3-final"
  },
  "orig_nbformat": 2,
  "kernelspec": {
   "name": "python38364bit61836de9583b4678983c2459e76af05f",
   "display_name": "Python 3.8.3 64-bit"
  }
 },
 "nbformat": 4,
 "nbformat_minor": 2,
 "cells": [
  {
   "cell_type": "code",
   "execution_count": 22,
   "metadata": {},
   "outputs": [],
   "source": [
    "def permutations(string):\n",
    "    result = []\n",
    "    tam = len (string)\n",
    "    if tam == 2:\n",
    "        result.append(string[0]+ string[1])\n",
    "        result.append(string[1]+ string[0])\n",
    "    else:\n",
    "        for j in range(2,tam):\n",
    "            for elem in result:\n",
    "                size= tam(elem)\n",
    "                \n",
    "            result.append()\n",
    "            print(string[j])\n",
    "    return(result)\n"
   ]
  },
  {
   "cell_type": "code",
   "execution_count": 44,
   "metadata": {},
   "outputs": [],
   "source": [
    "from itertools import permutations\n",
    "def permut(string):\n",
    "    perms = [''.join(p) for p in permutations(string)]\n",
    "    perms = set(perms)\n",
    "    return (perms)"
   ]
  },
  {
   "cell_type": "code",
   "execution_count": 45,
   "metadata": {},
   "outputs": [
    {
     "output_type": "execute_result",
     "data": {
      "text/plain": [
       "{'abc', 'acb', 'bac', 'bca', 'cab', 'cba'}"
      ]
     },
     "metadata": {},
     "execution_count": 45
    }
   ],
   "source": [
    "permut (\"abc\")"
   ]
  },
  {
   "cell_type": "code",
   "execution_count": 26,
   "metadata": {},
   "outputs": [
    {
     "output_type": "stream",
     "name": "stdout",
     "text": [
      "ba\n"
     ]
    }
   ],
   "source": [
    "import random\n",
    "\n",
    "tamano = 2\n",
    "\n",
    "abecedario = 'ab'\n",
    "desordenar = random.sample(abecedario, tamano)\n",
    "palabra = ''.join(desordenar)\n",
    "print(palabra)\n"
   ]
  },
  {
   "cell_type": "code",
   "execution_count": 28,
   "metadata": {},
   "outputs": [],
   "source": [
    "import itertools"
   ]
  },
  {
   "cell_type": "code",
   "execution_count": 39,
   "metadata": {},
   "outputs": [
    {
     "output_type": "stream",
     "name": "stdout",
     "text": [
      "[('abcd',)]\n"
     ]
    }
   ],
   "source": [
    "col_names = [\"abcd\"]\n",
    "all_combinations = itertools.chain(*[itertools.combinations(col_names,i+1) for i,_ in enumerate(col_names)])\n",
    "print(list(all_combinations))"
   ]
  },
  {
   "cell_type": "code",
   "execution_count": 40,
   "metadata": {},
   "outputs": [
    {
     "output_type": "execute_result",
     "data": {
      "text/plain": [
       "[]"
      ]
     },
     "metadata": {},
     "execution_count": 40
    }
   ],
   "source": [
    "list(itertools.permutations(col_names,4))"
   ]
  },
  {
   "cell_type": "code",
   "execution_count": null,
   "metadata": {},
   "outputs": [],
   "source": []
  }
 ]
}