{
 "metadata": {
  "language_info": {
   "codemirror_mode": {
    "name": "ipython",
    "version": 3
   },
   "file_extension": ".py",
   "mimetype": "text/x-python",
   "name": "python",
   "nbconvert_exporter": "python",
   "pygments_lexer": "ipython3",
   "version": "3.8.3-final"
  },
  "orig_nbformat": 2,
  "kernelspec": {
   "name": "python38364bit61836de9583b4678983c2459e76af05f",
   "display_name": "Python 3.8.3 64-bit"
  }
 },
 "nbformat": 4,
 "nbformat_minor": 2,
 "cells": [
  {
   "cell_type": "markdown",
   "metadata": {},
   "source": [
    "## THE BRIDGE (Data Science Bootcamp - Agosto 2020)\n",
    "##  PROYECTO GRUPO D \n",
    "________________\n",
    "### Análisis de datos asociados al COVID-19 del grupo de paises conformado por Portugal, Venezuela, Turquía, Reino Unido y España.\n",
    "\n",
    "Fuente de datos (Data Set)  \"https://covid.ourworldindata.org/data/owid-covid-data.csv\"\n",
    "\n",
    "Team members: \n",
    "- José Luis Manjon  presimanjon@yahoo.es\n",
    "- Filipa Teles      filipa.teles@icloud.com\n",
    "- Mónica Villasuso  villasuso.monica@gmail.com\n",
    "_________________"
   ]
  },
  {
   "cell_type": "markdown",
   "metadata": {},
   "source": [
    "Import de las librerías requeridas para el análisis"
   ]
  },
  {
   "cell_type": "code",
   "execution_count": 1,
   "metadata": {},
   "outputs": [],
   "source": [
    "import pandas as pd \n",
    "import json "
   ]
  },
  {
   "cell_type": "markdown",
   "metadata": {},
   "source": [
    "Carga de datos en un dataframe de la fuente a utilizar"
   ]
  },
  {
   "cell_type": "code",
   "execution_count": 2,
   "metadata": {},
   "outputs": [
    {
     "output_type": "execute_result",
     "data": {
      "text/plain": "      iso_code continent       location        date  total_cases  new_cases  \\\n0          AFG      Asia    Afghanistan  2019-12-31          0.0        0.0   \n1          AFG      Asia    Afghanistan  2020-01-01          0.0        0.0   \n2          AFG      Asia    Afghanistan  2020-01-02          0.0        0.0   \n3          AFG      Asia    Afghanistan  2020-01-03          0.0        0.0   \n4          AFG      Asia    Afghanistan  2020-01-04          0.0        0.0   \n...        ...       ...            ...         ...          ...        ...   \n33622      NaN       NaN  International  2020-02-28        705.0        0.0   \n33623      NaN       NaN  International  2020-02-29        705.0        0.0   \n33624      NaN       NaN  International  2020-03-01        705.0        0.0   \n33625      NaN       NaN  International  2020-03-02        705.0        0.0   \n33626      NaN       NaN  International  2020-03-10        696.0       -9.0   \n\n       total_deaths  new_deaths  total_cases_per_million  \\\n0               0.0         0.0                      0.0   \n1               0.0         0.0                      0.0   \n2               0.0         0.0                      0.0   \n3               0.0         0.0                      0.0   \n4               0.0         0.0                      0.0   \n...             ...         ...                      ...   \n33622           4.0         0.0                      NaN   \n33623           6.0         2.0                      NaN   \n33624           6.0         0.0                      NaN   \n33625           6.0         0.0                      NaN   \n33626           7.0         1.0                      NaN   \n\n       new_cases_per_million  ...  aged_70_older  gdp_per_capita  \\\n0                        0.0  ...          1.337        1803.987   \n1                        0.0  ...          1.337        1803.987   \n2                        0.0  ...          1.337        1803.987   \n3                        0.0  ...          1.337        1803.987   \n4                        0.0  ...          1.337        1803.987   \n...                      ...  ...            ...             ...   \n33622                    NaN  ...            NaN             NaN   \n33623                    NaN  ...            NaN             NaN   \n33624                    NaN  ...            NaN             NaN   \n33625                    NaN  ...            NaN             NaN   \n33626                    NaN  ...            NaN             NaN   \n\n       extreme_poverty  cardiovasc_death_rate  diabetes_prevalence  \\\n0                  NaN                597.029                 9.59   \n1                  NaN                597.029                 9.59   \n2                  NaN                597.029                 9.59   \n3                  NaN                597.029                 9.59   \n4                  NaN                597.029                 9.59   \n...                ...                    ...                  ...   \n33622              NaN                    NaN                  NaN   \n33623              NaN                    NaN                  NaN   \n33624              NaN                    NaN                  NaN   \n33625              NaN                    NaN                  NaN   \n33626              NaN                    NaN                  NaN   \n\n       female_smokers  male_smokers  handwashing_facilities  \\\n0                 NaN           NaN                  37.746   \n1                 NaN           NaN                  37.746   \n2                 NaN           NaN                  37.746   \n3                 NaN           NaN                  37.746   \n4                 NaN           NaN                  37.746   \n...               ...           ...                     ...   \n33622             NaN           NaN                     NaN   \n33623             NaN           NaN                     NaN   \n33624             NaN           NaN                     NaN   \n33625             NaN           NaN                     NaN   \n33626             NaN           NaN                     NaN   \n\n      hospital_beds_per_thousand  life_expectancy  \n0                            0.5            64.83  \n1                            0.5            64.83  \n2                            0.5            64.83  \n3                            0.5            64.83  \n4                            0.5            64.83  \n...                          ...              ...  \n33622                        NaN              NaN  \n33623                        NaN              NaN  \n33624                        NaN              NaN  \n33625                        NaN              NaN  \n33626                        NaN              NaN  \n\n[33627 rows x 34 columns]",
      "text/html": "<div>\n<style scoped>\n    .dataframe tbody tr th:only-of-type {\n        vertical-align: middle;\n    }\n\n    .dataframe tbody tr th {\n        vertical-align: top;\n    }\n\n    .dataframe thead th {\n        text-align: right;\n    }\n</style>\n<table border=\"1\" class=\"dataframe\">\n  <thead>\n    <tr style=\"text-align: right;\">\n      <th></th>\n      <th>iso_code</th>\n      <th>continent</th>\n      <th>location</th>\n      <th>date</th>\n      <th>total_cases</th>\n      <th>new_cases</th>\n      <th>total_deaths</th>\n      <th>new_deaths</th>\n      <th>total_cases_per_million</th>\n      <th>new_cases_per_million</th>\n      <th>...</th>\n      <th>aged_70_older</th>\n      <th>gdp_per_capita</th>\n      <th>extreme_poverty</th>\n      <th>cardiovasc_death_rate</th>\n      <th>diabetes_prevalence</th>\n      <th>female_smokers</th>\n      <th>male_smokers</th>\n      <th>handwashing_facilities</th>\n      <th>hospital_beds_per_thousand</th>\n      <th>life_expectancy</th>\n    </tr>\n  </thead>\n  <tbody>\n    <tr>\n      <th>0</th>\n      <td>AFG</td>\n      <td>Asia</td>\n      <td>Afghanistan</td>\n      <td>2019-12-31</td>\n      <td>0.0</td>\n      <td>0.0</td>\n      <td>0.0</td>\n      <td>0.0</td>\n      <td>0.0</td>\n      <td>0.0</td>\n      <td>...</td>\n      <td>1.337</td>\n      <td>1803.987</td>\n      <td>NaN</td>\n      <td>597.029</td>\n      <td>9.59</td>\n      <td>NaN</td>\n      <td>NaN</td>\n      <td>37.746</td>\n      <td>0.5</td>\n      <td>64.83</td>\n    </tr>\n    <tr>\n      <th>1</th>\n      <td>AFG</td>\n      <td>Asia</td>\n      <td>Afghanistan</td>\n      <td>2020-01-01</td>\n      <td>0.0</td>\n      <td>0.0</td>\n      <td>0.0</td>\n      <td>0.0</td>\n      <td>0.0</td>\n      <td>0.0</td>\n      <td>...</td>\n      <td>1.337</td>\n      <td>1803.987</td>\n      <td>NaN</td>\n      <td>597.029</td>\n      <td>9.59</td>\n      <td>NaN</td>\n      <td>NaN</td>\n      <td>37.746</td>\n      <td>0.5</td>\n      <td>64.83</td>\n    </tr>\n    <tr>\n      <th>2</th>\n      <td>AFG</td>\n      <td>Asia</td>\n      <td>Afghanistan</td>\n      <td>2020-01-02</td>\n      <td>0.0</td>\n      <td>0.0</td>\n      <td>0.0</td>\n      <td>0.0</td>\n      <td>0.0</td>\n      <td>0.0</td>\n      <td>...</td>\n      <td>1.337</td>\n      <td>1803.987</td>\n      <td>NaN</td>\n      <td>597.029</td>\n      <td>9.59</td>\n      <td>NaN</td>\n      <td>NaN</td>\n      <td>37.746</td>\n      <td>0.5</td>\n      <td>64.83</td>\n    </tr>\n    <tr>\n      <th>3</th>\n      <td>AFG</td>\n      <td>Asia</td>\n      <td>Afghanistan</td>\n      <td>2020-01-03</td>\n      <td>0.0</td>\n      <td>0.0</td>\n      <td>0.0</td>\n      <td>0.0</td>\n      <td>0.0</td>\n      <td>0.0</td>\n      <td>...</td>\n      <td>1.337</td>\n      <td>1803.987</td>\n      <td>NaN</td>\n      <td>597.029</td>\n      <td>9.59</td>\n      <td>NaN</td>\n      <td>NaN</td>\n      <td>37.746</td>\n      <td>0.5</td>\n      <td>64.83</td>\n    </tr>\n    <tr>\n      <th>4</th>\n      <td>AFG</td>\n      <td>Asia</td>\n      <td>Afghanistan</td>\n      <td>2020-01-04</td>\n      <td>0.0</td>\n      <td>0.0</td>\n      <td>0.0</td>\n      <td>0.0</td>\n      <td>0.0</td>\n      <td>0.0</td>\n      <td>...</td>\n      <td>1.337</td>\n      <td>1803.987</td>\n      <td>NaN</td>\n      <td>597.029</td>\n      <td>9.59</td>\n      <td>NaN</td>\n      <td>NaN</td>\n      <td>37.746</td>\n      <td>0.5</td>\n      <td>64.83</td>\n    </tr>\n    <tr>\n      <th>...</th>\n      <td>...</td>\n      <td>...</td>\n      <td>...</td>\n      <td>...</td>\n      <td>...</td>\n      <td>...</td>\n      <td>...</td>\n      <td>...</td>\n      <td>...</td>\n      <td>...</td>\n      <td>...</td>\n      <td>...</td>\n      <td>...</td>\n      <td>...</td>\n      <td>...</td>\n      <td>...</td>\n      <td>...</td>\n      <td>...</td>\n      <td>...</td>\n      <td>...</td>\n      <td>...</td>\n    </tr>\n    <tr>\n      <th>33622</th>\n      <td>NaN</td>\n      <td>NaN</td>\n      <td>International</td>\n      <td>2020-02-28</td>\n      <td>705.0</td>\n      <td>0.0</td>\n      <td>4.0</td>\n      <td>0.0</td>\n      <td>NaN</td>\n      <td>NaN</td>\n      <td>...</td>\n      <td>NaN</td>\n      <td>NaN</td>\n      <td>NaN</td>\n      <td>NaN</td>\n      <td>NaN</td>\n      <td>NaN</td>\n      <td>NaN</td>\n      <td>NaN</td>\n      <td>NaN</td>\n      <td>NaN</td>\n    </tr>\n    <tr>\n      <th>33623</th>\n      <td>NaN</td>\n      <td>NaN</td>\n      <td>International</td>\n      <td>2020-02-29</td>\n      <td>705.0</td>\n      <td>0.0</td>\n      <td>6.0</td>\n      <td>2.0</td>\n      <td>NaN</td>\n      <td>NaN</td>\n      <td>...</td>\n      <td>NaN</td>\n      <td>NaN</td>\n      <td>NaN</td>\n      <td>NaN</td>\n      <td>NaN</td>\n      <td>NaN</td>\n      <td>NaN</td>\n      <td>NaN</td>\n      <td>NaN</td>\n      <td>NaN</td>\n    </tr>\n    <tr>\n      <th>33624</th>\n      <td>NaN</td>\n      <td>NaN</td>\n      <td>International</td>\n      <td>2020-03-01</td>\n      <td>705.0</td>\n      <td>0.0</td>\n      <td>6.0</td>\n      <td>0.0</td>\n      <td>NaN</td>\n      <td>NaN</td>\n      <td>...</td>\n      <td>NaN</td>\n      <td>NaN</td>\n      <td>NaN</td>\n      <td>NaN</td>\n      <td>NaN</td>\n      <td>NaN</td>\n      <td>NaN</td>\n      <td>NaN</td>\n      <td>NaN</td>\n      <td>NaN</td>\n    </tr>\n    <tr>\n      <th>33625</th>\n      <td>NaN</td>\n      <td>NaN</td>\n      <td>International</td>\n      <td>2020-03-02</td>\n      <td>705.0</td>\n      <td>0.0</td>\n      <td>6.0</td>\n      <td>0.0</td>\n      <td>NaN</td>\n      <td>NaN</td>\n      <td>...</td>\n      <td>NaN</td>\n      <td>NaN</td>\n      <td>NaN</td>\n      <td>NaN</td>\n      <td>NaN</td>\n      <td>NaN</td>\n      <td>NaN</td>\n      <td>NaN</td>\n      <td>NaN</td>\n      <td>NaN</td>\n    </tr>\n    <tr>\n      <th>33626</th>\n      <td>NaN</td>\n      <td>NaN</td>\n      <td>International</td>\n      <td>2020-03-10</td>\n      <td>696.0</td>\n      <td>-9.0</td>\n      <td>7.0</td>\n      <td>1.0</td>\n      <td>NaN</td>\n      <td>NaN</td>\n      <td>...</td>\n      <td>NaN</td>\n      <td>NaN</td>\n      <td>NaN</td>\n      <td>NaN</td>\n      <td>NaN</td>\n      <td>NaN</td>\n      <td>NaN</td>\n      <td>NaN</td>\n      <td>NaN</td>\n      <td>NaN</td>\n    </tr>\n  </tbody>\n</table>\n<p>33627 rows × 34 columns</p>\n</div>"
     },
     "metadata": {},
     "execution_count": 2
    }
   ],
   "source": [
    "url = \"https://covid.ourworldindata.org/data/owid-covid-data.csv\"\n",
    "covid_general = pd.read_csv(url, sep=\",\")\n",
    "covid_general"
   ]
  },
  {
   "cell_type": "markdown",
   "metadata": {},
   "source": [
    "Exploración de los datos del dataframe"
   ]
  },
  {
   "cell_type": "code",
   "execution_count": 3,
   "metadata": {},
   "outputs": [
    {
     "output_type": "execute_result",
     "data": {
      "text/plain": "(33627, 34)"
     },
     "metadata": {},
     "execution_count": 3
    }
   ],
   "source": [
    "covid_general.shape"
   ]
  },
  {
   "cell_type": "code",
   "execution_count": 4,
   "metadata": {
    "tags": []
   },
   "outputs": [
    {
     "output_type": "stream",
     "name": "stdout",
     "text": "<class 'pandas.core.frame.DataFrame'>\nRangeIndex: 33627 entries, 0 to 33626\nData columns (total 34 columns):\n #   Column                           Non-Null Count  Dtype  \n---  ------                           --------------  -----  \n 0   iso_code                         33563 non-null  object \n 1   continent                        33350 non-null  object \n 2   location                         33627 non-null  object \n 3   date                             33627 non-null  object \n 4   total_cases                      33272 non-null  float64\n 5   new_cases                        33272 non-null  float64\n 6   total_deaths                     33272 non-null  float64\n 7   new_deaths                       33272 non-null  float64\n 8   total_cases_per_million          33208 non-null  float64\n 9   new_cases_per_million            33208 non-null  float64\n 10  total_deaths_per_million         33208 non-null  float64\n 11  new_deaths_per_million           33208 non-null  float64\n 12  new_tests                        10676 non-null  float64\n 13  total_tests                      10904 non-null  float64\n 14  total_tests_per_thousand         10904 non-null  float64\n 15  new_tests_per_thousand           10676 non-null  float64\n 16  new_tests_smoothed               11849 non-null  float64\n 17  new_tests_smoothed_per_thousand  11849 non-null  float64\n 18  tests_units                      12614 non-null  object \n 19  stringency_index                 27316 non-null  float64\n 20  population                       33563 non-null  float64\n 21  population_density               32109 non-null  float64\n 22  median_age                       30260 non-null  float64\n 23  aged_65_older                    29821 non-null  float64\n 24  aged_70_older                    30104 non-null  float64\n 25  gdp_per_capita                   29891 non-null  float64\n 26  extreme_poverty                  19987 non-null  float64\n 27  cardiovasc_death_rate            30269 non-null  float64\n 28  diabetes_prevalence              31297 non-null  float64\n 29  female_smokers                   24018 non-null  float64\n 30  male_smokers                     23730 non-null  float64\n 31  handwashing_facilities           13856 non-null  float64\n 32  hospital_beds_per_thousand       27518 non-null  float64\n 33  life_expectancy                  33158 non-null  float64\ndtypes: float64(29), object(5)\nmemory usage: 8.7+ MB\n"
    }
   ],
   "source": [
    "covid_general.info()"
   ]
  },
  {
   "cell_type": "code",
   "execution_count": 5,
   "metadata": {},
   "outputs": [
    {
     "output_type": "execute_result",
     "data": {
      "text/plain": "RangeIndex(start=0, stop=33627, step=1)"
     },
     "metadata": {},
     "execution_count": 5
    }
   ],
   "source": [
    "covid_general.index"
   ]
  },
  {
   "cell_type": "markdown",
   "metadata": {},
   "source": [
    "Filtro (en un dataframe) de los datos correspondientes a los países del grupo D"
   ]
  },
  {
   "cell_type": "code",
   "execution_count": 6,
   "metadata": {},
   "outputs": [
    {
     "output_type": "execute_result",
     "data": {
      "text/plain": "      iso_code      continent   location        date  total_cases  new_cases  \\\n24458      PRT         Europe   Portugal  2020-03-01          NaN        NaN   \n24459      PRT         Europe   Portugal  2020-03-02          NaN        NaN   \n24460      PRT         Europe   Portugal  2020-03-03          2.0        2.0   \n24461      PRT         Europe   Portugal  2020-03-04          4.0        2.0   \n24462      PRT         Europe   Portugal  2020-03-05          5.0        1.0   \n...        ...            ...        ...         ...          ...        ...   \n32658      VEN  South America  Venezuela  2020-07-26      14263.0        0.0   \n32659      VEN  South America  Venezuela  2020-07-27      15463.0     1200.0   \n32660      VEN  South America  Venezuela  2020-07-28      15988.0      525.0   \n32661      VEN  South America  Venezuela  2020-07-29      16571.0      583.0   \n32662      VEN  South America  Venezuela  2020-07-30      16571.0        0.0   \n\n       total_deaths  new_deaths  total_cases_per_million  \\\n24458           NaN         NaN                      NaN   \n24459           NaN         NaN                      NaN   \n24460           0.0         0.0                    0.196   \n24461           0.0         0.0                    0.392   \n24462           0.0         0.0                    0.490   \n...             ...         ...                      ...   \n32658         134.0         0.0                  501.584   \n32659         142.0         8.0                  543.784   \n32660         146.0         4.0                  562.246   \n32661         151.0         5.0                  582.748   \n32662         151.0         0.0                  582.748   \n\n       new_cases_per_million  ...  aged_70_older  gdp_per_capita  \\\n24458                    NaN  ...         14.924       27936.896   \n24459                    NaN  ...         14.924       27936.896   \n24460                  0.196  ...         14.924       27936.896   \n24461                  0.196  ...         14.924       27936.896   \n24462                  0.098  ...         14.924       27936.896   \n...                      ...  ...            ...             ...   \n32658                  0.000  ...          3.915       16745.022   \n32659                 42.200  ...          3.915       16745.022   \n32660                 18.463  ...          3.915       16745.022   \n32661                 20.502  ...          3.915       16745.022   \n32662                  0.000  ...          3.915       16745.022   \n\n       extreme_poverty  cardiovasc_death_rate  diabetes_prevalence  \\\n24458              0.5                127.842                 9.85   \n24459              0.5                127.842                 9.85   \n24460              0.5                127.842                 9.85   \n24461              0.5                127.842                 9.85   \n24462              0.5                127.842                 9.85   \n...                ...                    ...                  ...   \n32658              NaN                204.850                 6.47   \n32659              NaN                204.850                 6.47   \n32660              NaN                204.850                 6.47   \n32661              NaN                204.850                 6.47   \n32662              NaN                204.850                 6.47   \n\n       female_smokers  male_smokers  handwashing_facilities  \\\n24458            16.3          30.0                     NaN   \n24459            16.3          30.0                     NaN   \n24460            16.3          30.0                     NaN   \n24461            16.3          30.0                     NaN   \n24462            16.3          30.0                     NaN   \n...               ...           ...                     ...   \n32658             NaN           NaN                     NaN   \n32659             NaN           NaN                     NaN   \n32660             NaN           NaN                     NaN   \n32661             NaN           NaN                     NaN   \n32662             NaN           NaN                     NaN   \n\n      hospital_beds_per_thousand  life_expectancy  \n24458                       3.39            82.05  \n24459                       3.39            82.05  \n24460                       3.39            82.05  \n24461                       3.39            82.05  \n24462                       3.39            82.05  \n...                          ...              ...  \n32658                       0.80            72.06  \n32659                       0.80            72.06  \n32660                       0.80            72.06  \n32661                       0.80            72.06  \n32662                       0.80            72.06  \n\n[853 rows x 34 columns]",
      "text/html": "<div>\n<style scoped>\n    .dataframe tbody tr th:only-of-type {\n        vertical-align: middle;\n    }\n\n    .dataframe tbody tr th {\n        vertical-align: top;\n    }\n\n    .dataframe thead th {\n        text-align: right;\n    }\n</style>\n<table border=\"1\" class=\"dataframe\">\n  <thead>\n    <tr style=\"text-align: right;\">\n      <th></th>\n      <th>iso_code</th>\n      <th>continent</th>\n      <th>location</th>\n      <th>date</th>\n      <th>total_cases</th>\n      <th>new_cases</th>\n      <th>total_deaths</th>\n      <th>new_deaths</th>\n      <th>total_cases_per_million</th>\n      <th>new_cases_per_million</th>\n      <th>...</th>\n      <th>aged_70_older</th>\n      <th>gdp_per_capita</th>\n      <th>extreme_poverty</th>\n      <th>cardiovasc_death_rate</th>\n      <th>diabetes_prevalence</th>\n      <th>female_smokers</th>\n      <th>male_smokers</th>\n      <th>handwashing_facilities</th>\n      <th>hospital_beds_per_thousand</th>\n      <th>life_expectancy</th>\n    </tr>\n  </thead>\n  <tbody>\n    <tr>\n      <th>24458</th>\n      <td>PRT</td>\n      <td>Europe</td>\n      <td>Portugal</td>\n      <td>2020-03-01</td>\n      <td>NaN</td>\n      <td>NaN</td>\n      <td>NaN</td>\n      <td>NaN</td>\n      <td>NaN</td>\n      <td>NaN</td>\n      <td>...</td>\n      <td>14.924</td>\n      <td>27936.896</td>\n      <td>0.5</td>\n      <td>127.842</td>\n      <td>9.85</td>\n      <td>16.3</td>\n      <td>30.0</td>\n      <td>NaN</td>\n      <td>3.39</td>\n      <td>82.05</td>\n    </tr>\n    <tr>\n      <th>24459</th>\n      <td>PRT</td>\n      <td>Europe</td>\n      <td>Portugal</td>\n      <td>2020-03-02</td>\n      <td>NaN</td>\n      <td>NaN</td>\n      <td>NaN</td>\n      <td>NaN</td>\n      <td>NaN</td>\n      <td>NaN</td>\n      <td>...</td>\n      <td>14.924</td>\n      <td>27936.896</td>\n      <td>0.5</td>\n      <td>127.842</td>\n      <td>9.85</td>\n      <td>16.3</td>\n      <td>30.0</td>\n      <td>NaN</td>\n      <td>3.39</td>\n      <td>82.05</td>\n    </tr>\n    <tr>\n      <th>24460</th>\n      <td>PRT</td>\n      <td>Europe</td>\n      <td>Portugal</td>\n      <td>2020-03-03</td>\n      <td>2.0</td>\n      <td>2.0</td>\n      <td>0.0</td>\n      <td>0.0</td>\n      <td>0.196</td>\n      <td>0.196</td>\n      <td>...</td>\n      <td>14.924</td>\n      <td>27936.896</td>\n      <td>0.5</td>\n      <td>127.842</td>\n      <td>9.85</td>\n      <td>16.3</td>\n      <td>30.0</td>\n      <td>NaN</td>\n      <td>3.39</td>\n      <td>82.05</td>\n    </tr>\n    <tr>\n      <th>24461</th>\n      <td>PRT</td>\n      <td>Europe</td>\n      <td>Portugal</td>\n      <td>2020-03-04</td>\n      <td>4.0</td>\n      <td>2.0</td>\n      <td>0.0</td>\n      <td>0.0</td>\n      <td>0.392</td>\n      <td>0.196</td>\n      <td>...</td>\n      <td>14.924</td>\n      <td>27936.896</td>\n      <td>0.5</td>\n      <td>127.842</td>\n      <td>9.85</td>\n      <td>16.3</td>\n      <td>30.0</td>\n      <td>NaN</td>\n      <td>3.39</td>\n      <td>82.05</td>\n    </tr>\n    <tr>\n      <th>24462</th>\n      <td>PRT</td>\n      <td>Europe</td>\n      <td>Portugal</td>\n      <td>2020-03-05</td>\n      <td>5.0</td>\n      <td>1.0</td>\n      <td>0.0</td>\n      <td>0.0</td>\n      <td>0.490</td>\n      <td>0.098</td>\n      <td>...</td>\n      <td>14.924</td>\n      <td>27936.896</td>\n      <td>0.5</td>\n      <td>127.842</td>\n      <td>9.85</td>\n      <td>16.3</td>\n      <td>30.0</td>\n      <td>NaN</td>\n      <td>3.39</td>\n      <td>82.05</td>\n    </tr>\n    <tr>\n      <th>...</th>\n      <td>...</td>\n      <td>...</td>\n      <td>...</td>\n      <td>...</td>\n      <td>...</td>\n      <td>...</td>\n      <td>...</td>\n      <td>...</td>\n      <td>...</td>\n      <td>...</td>\n      <td>...</td>\n      <td>...</td>\n      <td>...</td>\n      <td>...</td>\n      <td>...</td>\n      <td>...</td>\n      <td>...</td>\n      <td>...</td>\n      <td>...</td>\n      <td>...</td>\n      <td>...</td>\n    </tr>\n    <tr>\n      <th>32658</th>\n      <td>VEN</td>\n      <td>South America</td>\n      <td>Venezuela</td>\n      <td>2020-07-26</td>\n      <td>14263.0</td>\n      <td>0.0</td>\n      <td>134.0</td>\n      <td>0.0</td>\n      <td>501.584</td>\n      <td>0.000</td>\n      <td>...</td>\n      <td>3.915</td>\n      <td>16745.022</td>\n      <td>NaN</td>\n      <td>204.850</td>\n      <td>6.47</td>\n      <td>NaN</td>\n      <td>NaN</td>\n      <td>NaN</td>\n      <td>0.80</td>\n      <td>72.06</td>\n    </tr>\n    <tr>\n      <th>32659</th>\n      <td>VEN</td>\n      <td>South America</td>\n      <td>Venezuela</td>\n      <td>2020-07-27</td>\n      <td>15463.0</td>\n      <td>1200.0</td>\n      <td>142.0</td>\n      <td>8.0</td>\n      <td>543.784</td>\n      <td>42.200</td>\n      <td>...</td>\n      <td>3.915</td>\n      <td>16745.022</td>\n      <td>NaN</td>\n      <td>204.850</td>\n      <td>6.47</td>\n      <td>NaN</td>\n      <td>NaN</td>\n      <td>NaN</td>\n      <td>0.80</td>\n      <td>72.06</td>\n    </tr>\n    <tr>\n      <th>32660</th>\n      <td>VEN</td>\n      <td>South America</td>\n      <td>Venezuela</td>\n      <td>2020-07-28</td>\n      <td>15988.0</td>\n      <td>525.0</td>\n      <td>146.0</td>\n      <td>4.0</td>\n      <td>562.246</td>\n      <td>18.463</td>\n      <td>...</td>\n      <td>3.915</td>\n      <td>16745.022</td>\n      <td>NaN</td>\n      <td>204.850</td>\n      <td>6.47</td>\n      <td>NaN</td>\n      <td>NaN</td>\n      <td>NaN</td>\n      <td>0.80</td>\n      <td>72.06</td>\n    </tr>\n    <tr>\n      <th>32661</th>\n      <td>VEN</td>\n      <td>South America</td>\n      <td>Venezuela</td>\n      <td>2020-07-29</td>\n      <td>16571.0</td>\n      <td>583.0</td>\n      <td>151.0</td>\n      <td>5.0</td>\n      <td>582.748</td>\n      <td>20.502</td>\n      <td>...</td>\n      <td>3.915</td>\n      <td>16745.022</td>\n      <td>NaN</td>\n      <td>204.850</td>\n      <td>6.47</td>\n      <td>NaN</td>\n      <td>NaN</td>\n      <td>NaN</td>\n      <td>0.80</td>\n      <td>72.06</td>\n    </tr>\n    <tr>\n      <th>32662</th>\n      <td>VEN</td>\n      <td>South America</td>\n      <td>Venezuela</td>\n      <td>2020-07-30</td>\n      <td>16571.0</td>\n      <td>0.0</td>\n      <td>151.0</td>\n      <td>0.0</td>\n      <td>582.748</td>\n      <td>0.000</td>\n      <td>...</td>\n      <td>3.915</td>\n      <td>16745.022</td>\n      <td>NaN</td>\n      <td>204.850</td>\n      <td>6.47</td>\n      <td>NaN</td>\n      <td>NaN</td>\n      <td>NaN</td>\n      <td>0.80</td>\n      <td>72.06</td>\n    </tr>\n  </tbody>\n</table>\n<p>853 rows × 34 columns</p>\n</div>"
     },
     "metadata": {},
     "execution_count": 6
    }
   ],
   "source": [
    "paises_grupoD=[\"PRT\", \"VEN\", \"TUR\", \"GBR\", \"ESP\"]\n",
    "covid_grupoD=covid_general[covid_general.iso_code.isin(paises_grupoD)]\n",
    "covid_grupoD\n"
   ]
  },
  {
   "cell_type": "code",
   "execution_count": 5,
   "metadata": {
    "tags": []
   },
   "outputs": [
    {
     "output_type": "stream",
     "name": "stdout",
     "text": "<class 'pandas.core.frame.DataFrame'>\nInt64Index: 848 entries, 24306 to 32458\nData columns (total 34 columns):\n #   Column                           Non-Null Count  Dtype  \n---  ------                           --------------  -----  \n 0   iso_code                         848 non-null    object \n 1   continent                        848 non-null    object \n 2   location                         848 non-null    object \n 3   date                             848 non-null    object \n 4   total_cases                      846 non-null    float64\n 5   new_cases                        846 non-null    float64\n 6   total_deaths                     846 non-null    float64\n 7   new_deaths                       846 non-null    float64\n 8   total_cases_per_million          846 non-null    float64\n 9   new_cases_per_million            846 non-null    float64\n 10  total_deaths_per_million         846 non-null    float64\n 11  new_deaths_per_million           846 non-null    float64\n 12  new_tests                        369 non-null    float64\n 13  total_tests                      394 non-null    float64\n 14  total_tests_per_thousand         394 non-null    float64\n 15  new_tests_per_thousand           369 non-null    float64\n 16  new_tests_smoothed               457 non-null    float64\n 17  new_tests_smoothed_per_thousand  457 non-null    float64\n 18  tests_units                      485 non-null    object \n 19  stringency_index                 825 non-null    float64\n 20  population                       848 non-null    float64\n 21  population_density               848 non-null    float64\n 22  median_age                       848 non-null    float64\n 23  aged_65_older                    848 non-null    float64\n 24  aged_70_older                    848 non-null    float64\n 25  gdp_per_capita                   848 non-null    float64\n 26  extreme_poverty                  712 non-null    float64\n 27  cardiovasc_death_rate            848 non-null    float64\n 28  diabetes_prevalence              848 non-null    float64\n 29  female_smokers                   712 non-null    float64\n 30  male_smokers                     712 non-null    float64\n 31  handwashing_facilities           0 non-null      float64\n 32  hospital_beds_per_thousand       848 non-null    float64\n 33  life_expectancy                  848 non-null    float64\ndtypes: float64(29), object(5)\nmemory usage: 231.9+ KB\n"
    }
   ],
   "source": [
    "covid_grupoD.info()# queriamos ver el tipo Dtype de cada columna"
   ]
  },
  {
   "cell_type": "code",
   "execution_count": 6,
   "metadata": {},
   "outputs": [],
   "source": [
    "#covid_grupoD[\"date\"]=pd.to_datetime(covid_grupoD[\"date\"],format=\"%Y-%m-%d\")\n",
    "#covid_grupoD"
   ]
  },
  {
   "cell_type": "code",
   "execution_count": 7,
   "metadata": {
    "tags": []
   },
   "outputs": [
    {
     "output_type": "stream",
     "name": "stdout",
     "text": "<class 'pandas.core.frame.DataFrame'>\nInt64Index: 848 entries, 24306 to 32458\nData columns (total 34 columns):\n #   Column                           Non-Null Count  Dtype  \n---  ------                           --------------  -----  \n 0   iso_code                         848 non-null    object \n 1   continent                        848 non-null    object \n 2   location                         848 non-null    object \n 3   date                             848 non-null    object \n 4   total_cases                      846 non-null    float64\n 5   new_cases                        846 non-null    float64\n 6   total_deaths                     846 non-null    float64\n 7   new_deaths                       846 non-null    float64\n 8   total_cases_per_million          846 non-null    float64\n 9   new_cases_per_million            846 non-null    float64\n 10  total_deaths_per_million         846 non-null    float64\n 11  new_deaths_per_million           846 non-null    float64\n 12  new_tests                        369 non-null    float64\n 13  total_tests                      394 non-null    float64\n 14  total_tests_per_thousand         394 non-null    float64\n 15  new_tests_per_thousand           369 non-null    float64\n 16  new_tests_smoothed               457 non-null    float64\n 17  new_tests_smoothed_per_thousand  457 non-null    float64\n 18  tests_units                      485 non-null    object \n 19  stringency_index                 825 non-null    float64\n 20  population                       848 non-null    float64\n 21  population_density               848 non-null    float64\n 22  median_age                       848 non-null    float64\n 23  aged_65_older                    848 non-null    float64\n 24  aged_70_older                    848 non-null    float64\n 25  gdp_per_capita                   848 non-null    float64\n 26  extreme_poverty                  712 non-null    float64\n 27  cardiovasc_death_rate            848 non-null    float64\n 28  diabetes_prevalence              848 non-null    float64\n 29  female_smokers                   712 non-null    float64\n 30  male_smokers                     712 non-null    float64\n 31  handwashing_facilities           0 non-null      float64\n 32  hospital_beds_per_thousand       848 non-null    float64\n 33  life_expectancy                  848 non-null    float64\ndtypes: float64(29), object(5)\nmemory usage: 231.9+ KB\n"
    }
   ],
   "source": [
    "covid_grupoD.info()"
   ]
  },
  {
   "cell_type": "code",
   "execution_count": 8,
   "metadata": {},
   "outputs": [],
   "source": [
    "covid_grupoD.set_index([\"date\"],inplace=True)"
   ]
  },
  {
   "cell_type": "code",
   "execution_count": 9,
   "metadata": {},
   "outputs": [
    {
     "output_type": "execute_result",
     "data": {
      "text/plain": "           iso_code      continent   location  total_cases  new_cases  \\\ndate                                                                    \n2020-03-01      PRT         Europe   Portugal          NaN        NaN   \n2020-03-02      PRT         Europe   Portugal          NaN        NaN   \n2020-03-03      PRT         Europe   Portugal          2.0        2.0   \n2020-03-04      PRT         Europe   Portugal          4.0        2.0   \n2020-03-05      PRT         Europe   Portugal          5.0        1.0   \n...             ...            ...        ...          ...        ...   \n2020-07-25      VEN  South America  Venezuela      14263.0      650.0   \n2020-07-26      VEN  South America  Venezuela      14263.0        0.0   \n2020-07-27      VEN  South America  Venezuela      15463.0     1200.0   \n2020-07-28      VEN  South America  Venezuela      15988.0      525.0   \n2020-07-29      VEN  South America  Venezuela      16571.0      583.0   \n\n            total_deaths  new_deaths  total_cases_per_million  \\\ndate                                                            \n2020-03-01           NaN         NaN                      NaN   \n2020-03-02           NaN         NaN                      NaN   \n2020-03-03           0.0         0.0                    0.196   \n2020-03-04           0.0         0.0                    0.392   \n2020-03-05           0.0         0.0                    0.490   \n...                  ...         ...                      ...   \n2020-07-25         134.0         5.0                  501.584   \n2020-07-26         134.0         0.0                  501.584   \n2020-07-27         142.0         8.0                  543.784   \n2020-07-28         146.0         4.0                  562.246   \n2020-07-29         151.0         5.0                  582.748   \n\n            new_cases_per_million  total_deaths_per_million  ...  \\\ndate                                                         ...   \n2020-03-01                    NaN                       NaN  ...   \n2020-03-02                    NaN                       NaN  ...   \n2020-03-03                  0.196                     0.000  ...   \n2020-03-04                  0.196                     0.000  ...   \n2020-03-05                  0.098                     0.000  ...   \n...                           ...                       ...  ...   \n2020-07-25                 22.858                     4.712  ...   \n2020-07-26                  0.000                     4.712  ...   \n2020-07-27                 42.200                     4.994  ...   \n2020-07-28                 18.463                     5.134  ...   \n2020-07-29                 20.502                     5.310  ...   \n\n            aged_70_older  gdp_per_capita  extreme_poverty  \\\ndate                                                         \n2020-03-01         14.924       27936.896              0.5   \n2020-03-02         14.924       27936.896              0.5   \n2020-03-03         14.924       27936.896              0.5   \n2020-03-04         14.924       27936.896              0.5   \n2020-03-05         14.924       27936.896              0.5   \n...                   ...             ...              ...   \n2020-07-25          3.915       16745.022              NaN   \n2020-07-26          3.915       16745.022              NaN   \n2020-07-27          3.915       16745.022              NaN   \n2020-07-28          3.915       16745.022              NaN   \n2020-07-29          3.915       16745.022              NaN   \n\n            cardiovasc_death_rate  diabetes_prevalence  female_smokers  \\\ndate                                                                     \n2020-03-01                127.842                 9.85            16.3   \n2020-03-02                127.842                 9.85            16.3   \n2020-03-03                127.842                 9.85            16.3   \n2020-03-04                127.842                 9.85            16.3   \n2020-03-05                127.842                 9.85            16.3   \n...                           ...                  ...             ...   \n2020-07-25                204.850                 6.47             NaN   \n2020-07-26                204.850                 6.47             NaN   \n2020-07-27                204.850                 6.47             NaN   \n2020-07-28                204.850                 6.47             NaN   \n2020-07-29                204.850                 6.47             NaN   \n\n            male_smokers handwashing_facilities  hospital_beds_per_thousand  \\\ndate                                                                          \n2020-03-01          30.0                    NaN                        3.39   \n2020-03-02          30.0                    NaN                        3.39   \n2020-03-03          30.0                    NaN                        3.39   \n2020-03-04          30.0                    NaN                        3.39   \n2020-03-05          30.0                    NaN                        3.39   \n...                  ...                    ...                         ...   \n2020-07-25           NaN                    NaN                        0.80   \n2020-07-26           NaN                    NaN                        0.80   \n2020-07-27           NaN                    NaN                        0.80   \n2020-07-28           NaN                    NaN                        0.80   \n2020-07-29           NaN                    NaN                        0.80   \n\n            life_expectancy  \ndate                         \n2020-03-01            82.05  \n2020-03-02            82.05  \n2020-03-03            82.05  \n2020-03-04            82.05  \n2020-03-05            82.05  \n...                     ...  \n2020-07-25            72.06  \n2020-07-26            72.06  \n2020-07-27            72.06  \n2020-07-28            72.06  \n2020-07-29            72.06  \n\n[848 rows x 33 columns]",
      "text/html": "<div>\n<style scoped>\n    .dataframe tbody tr th:only-of-type {\n        vertical-align: middle;\n    }\n\n    .dataframe tbody tr th {\n        vertical-align: top;\n    }\n\n    .dataframe thead th {\n        text-align: right;\n    }\n</style>\n<table border=\"1\" class=\"dataframe\">\n  <thead>\n    <tr style=\"text-align: right;\">\n      <th></th>\n      <th>iso_code</th>\n      <th>continent</th>\n      <th>location</th>\n      <th>total_cases</th>\n      <th>new_cases</th>\n      <th>total_deaths</th>\n      <th>new_deaths</th>\n      <th>total_cases_per_million</th>\n      <th>new_cases_per_million</th>\n      <th>total_deaths_per_million</th>\n      <th>...</th>\n      <th>aged_70_older</th>\n      <th>gdp_per_capita</th>\n      <th>extreme_poverty</th>\n      <th>cardiovasc_death_rate</th>\n      <th>diabetes_prevalence</th>\n      <th>female_smokers</th>\n      <th>male_smokers</th>\n      <th>handwashing_facilities</th>\n      <th>hospital_beds_per_thousand</th>\n      <th>life_expectancy</th>\n    </tr>\n    <tr>\n      <th>date</th>\n      <th></th>\n      <th></th>\n      <th></th>\n      <th></th>\n      <th></th>\n      <th></th>\n      <th></th>\n      <th></th>\n      <th></th>\n      <th></th>\n      <th></th>\n      <th></th>\n      <th></th>\n      <th></th>\n      <th></th>\n      <th></th>\n      <th></th>\n      <th></th>\n      <th></th>\n      <th></th>\n      <th></th>\n    </tr>\n  </thead>\n  <tbody>\n    <tr>\n      <th>2020-03-01</th>\n      <td>PRT</td>\n      <td>Europe</td>\n      <td>Portugal</td>\n      <td>NaN</td>\n      <td>NaN</td>\n      <td>NaN</td>\n      <td>NaN</td>\n      <td>NaN</td>\n      <td>NaN</td>\n      <td>NaN</td>\n      <td>...</td>\n      <td>14.924</td>\n      <td>27936.896</td>\n      <td>0.5</td>\n      <td>127.842</td>\n      <td>9.85</td>\n      <td>16.3</td>\n      <td>30.0</td>\n      <td>NaN</td>\n      <td>3.39</td>\n      <td>82.05</td>\n    </tr>\n    <tr>\n      <th>2020-03-02</th>\n      <td>PRT</td>\n      <td>Europe</td>\n      <td>Portugal</td>\n      <td>NaN</td>\n      <td>NaN</td>\n      <td>NaN</td>\n      <td>NaN</td>\n      <td>NaN</td>\n      <td>NaN</td>\n      <td>NaN</td>\n      <td>...</td>\n      <td>14.924</td>\n      <td>27936.896</td>\n      <td>0.5</td>\n      <td>127.842</td>\n      <td>9.85</td>\n      <td>16.3</td>\n      <td>30.0</td>\n      <td>NaN</td>\n      <td>3.39</td>\n      <td>82.05</td>\n    </tr>\n    <tr>\n      <th>2020-03-03</th>\n      <td>PRT</td>\n      <td>Europe</td>\n      <td>Portugal</td>\n      <td>2.0</td>\n      <td>2.0</td>\n      <td>0.0</td>\n      <td>0.0</td>\n      <td>0.196</td>\n      <td>0.196</td>\n      <td>0.000</td>\n      <td>...</td>\n      <td>14.924</td>\n      <td>27936.896</td>\n      <td>0.5</td>\n      <td>127.842</td>\n      <td>9.85</td>\n      <td>16.3</td>\n      <td>30.0</td>\n      <td>NaN</td>\n      <td>3.39</td>\n      <td>82.05</td>\n    </tr>\n    <tr>\n      <th>2020-03-04</th>\n      <td>PRT</td>\n      <td>Europe</td>\n      <td>Portugal</td>\n      <td>4.0</td>\n      <td>2.0</td>\n      <td>0.0</td>\n      <td>0.0</td>\n      <td>0.392</td>\n      <td>0.196</td>\n      <td>0.000</td>\n      <td>...</td>\n      <td>14.924</td>\n      <td>27936.896</td>\n      <td>0.5</td>\n      <td>127.842</td>\n      <td>9.85</td>\n      <td>16.3</td>\n      <td>30.0</td>\n      <td>NaN</td>\n      <td>3.39</td>\n      <td>82.05</td>\n    </tr>\n    <tr>\n      <th>2020-03-05</th>\n      <td>PRT</td>\n      <td>Europe</td>\n      <td>Portugal</td>\n      <td>5.0</td>\n      <td>1.0</td>\n      <td>0.0</td>\n      <td>0.0</td>\n      <td>0.490</td>\n      <td>0.098</td>\n      <td>0.000</td>\n      <td>...</td>\n      <td>14.924</td>\n      <td>27936.896</td>\n      <td>0.5</td>\n      <td>127.842</td>\n      <td>9.85</td>\n      <td>16.3</td>\n      <td>30.0</td>\n      <td>NaN</td>\n      <td>3.39</td>\n      <td>82.05</td>\n    </tr>\n    <tr>\n      <th>...</th>\n      <td>...</td>\n      <td>...</td>\n      <td>...</td>\n      <td>...</td>\n      <td>...</td>\n      <td>...</td>\n      <td>...</td>\n      <td>...</td>\n      <td>...</td>\n      <td>...</td>\n      <td>...</td>\n      <td>...</td>\n      <td>...</td>\n      <td>...</td>\n      <td>...</td>\n      <td>...</td>\n      <td>...</td>\n      <td>...</td>\n      <td>...</td>\n      <td>...</td>\n      <td>...</td>\n    </tr>\n    <tr>\n      <th>2020-07-25</th>\n      <td>VEN</td>\n      <td>South America</td>\n      <td>Venezuela</td>\n      <td>14263.0</td>\n      <td>650.0</td>\n      <td>134.0</td>\n      <td>5.0</td>\n      <td>501.584</td>\n      <td>22.858</td>\n      <td>4.712</td>\n      <td>...</td>\n      <td>3.915</td>\n      <td>16745.022</td>\n      <td>NaN</td>\n      <td>204.850</td>\n      <td>6.47</td>\n      <td>NaN</td>\n      <td>NaN</td>\n      <td>NaN</td>\n      <td>0.80</td>\n      <td>72.06</td>\n    </tr>\n    <tr>\n      <th>2020-07-26</th>\n      <td>VEN</td>\n      <td>South America</td>\n      <td>Venezuela</td>\n      <td>14263.0</td>\n      <td>0.0</td>\n      <td>134.0</td>\n      <td>0.0</td>\n      <td>501.584</td>\n      <td>0.000</td>\n      <td>4.712</td>\n      <td>...</td>\n      <td>3.915</td>\n      <td>16745.022</td>\n      <td>NaN</td>\n      <td>204.850</td>\n      <td>6.47</td>\n      <td>NaN</td>\n      <td>NaN</td>\n      <td>NaN</td>\n      <td>0.80</td>\n      <td>72.06</td>\n    </tr>\n    <tr>\n      <th>2020-07-27</th>\n      <td>VEN</td>\n      <td>South America</td>\n      <td>Venezuela</td>\n      <td>15463.0</td>\n      <td>1200.0</td>\n      <td>142.0</td>\n      <td>8.0</td>\n      <td>543.784</td>\n      <td>42.200</td>\n      <td>4.994</td>\n      <td>...</td>\n      <td>3.915</td>\n      <td>16745.022</td>\n      <td>NaN</td>\n      <td>204.850</td>\n      <td>6.47</td>\n      <td>NaN</td>\n      <td>NaN</td>\n      <td>NaN</td>\n      <td>0.80</td>\n      <td>72.06</td>\n    </tr>\n    <tr>\n      <th>2020-07-28</th>\n      <td>VEN</td>\n      <td>South America</td>\n      <td>Venezuela</td>\n      <td>15988.0</td>\n      <td>525.0</td>\n      <td>146.0</td>\n      <td>4.0</td>\n      <td>562.246</td>\n      <td>18.463</td>\n      <td>5.134</td>\n      <td>...</td>\n      <td>3.915</td>\n      <td>16745.022</td>\n      <td>NaN</td>\n      <td>204.850</td>\n      <td>6.47</td>\n      <td>NaN</td>\n      <td>NaN</td>\n      <td>NaN</td>\n      <td>0.80</td>\n      <td>72.06</td>\n    </tr>\n    <tr>\n      <th>2020-07-29</th>\n      <td>VEN</td>\n      <td>South America</td>\n      <td>Venezuela</td>\n      <td>16571.0</td>\n      <td>583.0</td>\n      <td>151.0</td>\n      <td>5.0</td>\n      <td>582.748</td>\n      <td>20.502</td>\n      <td>5.310</td>\n      <td>...</td>\n      <td>3.915</td>\n      <td>16745.022</td>\n      <td>NaN</td>\n      <td>204.850</td>\n      <td>6.47</td>\n      <td>NaN</td>\n      <td>NaN</td>\n      <td>NaN</td>\n      <td>0.80</td>\n      <td>72.06</td>\n    </tr>\n  </tbody>\n</table>\n<p>848 rows × 33 columns</p>\n</div>"
     },
     "metadata": {},
     "execution_count": 9
    }
   ],
   "source": [
    "covid_grupoD"
   ]
  }
 ]
}