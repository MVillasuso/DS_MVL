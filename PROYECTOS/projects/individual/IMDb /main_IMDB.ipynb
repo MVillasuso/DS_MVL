{
 "metadata": {
  "language_info": {
   "codemirror_mode": {
    "name": "ipython",
    "version": 3
   },
   "file_extension": ".py",
   "mimetype": "text/x-python",
   "name": "python",
   "nbconvert_exporter": "python",
   "pygments_lexer": "ipython3",
   "version": "3.8.3-final"
  },
  "orig_nbformat": 2,
  "kernelspec": {
   "name": "python38364bit61836de9583b4678983c2459e76af05f",
   "display_name": "Python 3.8.3 64-bit"
  }
 },
 "nbformat": 4,
 "nbformat_minor": 2,
 "cells": [
  {
   "cell_type": "markdown",
   "metadata": {},
   "source": [
    "## THE BRIDGE (Data Science Bootcamp - Agosto 2020)\n",
    "##  PROYECTO IMDB\n",
    "________________\n",
    "### Análisis de datos asociados al dataset de IMDb\n",
    "\n",
    "Fuente de datos (Data Set)  \"data_title_basics.tsv\"\n",
    "\n",
    "- Mónica Villasuso  villasuso.monica@gmail.com  git @MVillasuso\n",
    "_________________"
   ]
  },
  {
   "cell_type": "markdown",
   "metadata": {},
   "source": [
    "Import de las librerías requeridas para el análisis"
   ]
  },
  {
   "cell_type": "code",
   "execution_count": 1,
   "metadata": {},
   "outputs": [],
   "source": [
    "import pandas as pd \n",
    "import json \n",
    "import seaborn as sns\n",
    "import numpy as np\n",
    "%matplotlib inline\n",
    "import matplotlib.pyplot as plt"
   ]
  },
  {
   "cell_type": "markdown",
   "metadata": {},
   "source": [
    "Carga de datos en un dataframe de la fuente a utilizar"
   ]
  },
  {
   "cell_type": "code",
   "execution_count": 2,
   "metadata": {},
   "outputs": [],
   "source": [
    "titles_df = pd.read_csv(\"data_title_basics.tsv\", sep=\"\\t\")\n"
   ]
  },
  {
   "cell_type": "code",
   "execution_count": null,
   "metadata": {},
   "outputs": [],
   "source": [
    "ratings_df = pd.read_csv(\"data_ratings.tsv\", sep=\"\\t\")\n",
    "akas_df =  pd.read_csv(\"data_akas.tsv\", sep=\"\\t\")"
   ]
  },
  {
   "cell_type": "markdown",
   "metadata": {},
   "source": [
    "Exploración y limpieza de los datos del dataframe"
   ]
  },
  {
   "cell_type": "code",
   "execution_count": 3,
   "metadata": {
    "tags": []
   },
   "outputs": [
    {
     "output_type": "stream",
     "name": "stdout",
     "text": "<class 'pandas.core.frame.DataFrame'>\nRangeIndex: 7047600 entries, 0 to 7047599\nData columns (total 9 columns):\n #   Column          Dtype \n---  ------          ----- \n 0   tconst          object\n 1   titleType       object\n 2   primaryTitle    object\n 3   originalTitle   object\n 4   isAdult         int64 \n 5   startYear       object\n 6   endYear         object\n 7   runtimeMinutes  object\n 8   genres          object\ndtypes: int64(1), object(8)\nmemory usage: 483.9+ MB\n"
    }
   ],
   "source": [
    "titles_df.info()"
   ]
  },
  {
   "cell_type": "code",
   "execution_count": null,
   "metadata": {},
   "outputs": [],
   "source": [
    "titles_df.head(15)"
   ]
  },
  {
   "cell_type": "code",
   "execution_count": 4,
   "metadata": {},
   "outputs": [
    {
     "output_type": "execute_result",
     "data": {
      "text/plain": "\\N      577958\n2017    370583\n2018    368287\n2016    354289\n2015    338449\n         ...  \n2028         1\n1881         1\n1885         1\n1883         1\n1988         1\nName: startYear, Length: 256, dtype: int64"
     },
     "metadata": {},
     "execution_count": 4
    }
   ],
   "source": [
    "titles_df.startYear.value_counts()"
   ]
  },
  {
   "cell_type": "code",
   "execution_count": 35,
   "metadata": {},
   "outputs": [],
   "source": [
    "titles_df[\"startYear\"] = titles_df[\"startYear\"].astype(\"str\")"
   ]
  },
  {
   "cell_type": "code",
   "execution_count": 33,
   "metadata": {
    "tags": []
   },
   "outputs": [
    {
     "output_type": "stream",
     "name": "stdout",
     "text": "<class 'pandas.core.frame.DataFrame'>\nRangeIndex: 7047600 entries, 0 to 7047599\nData columns (total 9 columns):\n #   Column          Dtype \n---  ------          ----- \n 0   tconst          object\n 1   titleType       object\n 2   primaryTitle    object\n 3   originalTitle   object\n 4   isAdult         int64 \n 5   startYear       object\n 6   endYear         object\n 7   runtimeMinutes  object\n 8   genres          object\ndtypes: int64(1), object(8)\nmemory usage: 483.9+ MB\n"
    }
   ],
   "source": [
    "titles_df.info()"
   ]
  },
  {
   "cell_type": "code",
   "execution_count": 26,
   "metadata": {},
   "outputs": [
    {
     "output_type": "execute_result",
     "data": {
      "text/plain": "\\N      577958\n2017    370584\n2018    368287\n2016    354289\n2015    338449\n         ...  \n1885         1\n1881         1\n2115         1\n2028         1\n1883         1\nName: startYear, Length: 149, dtype: int64"
     },
     "metadata": {},
     "execution_count": 26
    }
   ],
   "source": [
    "titles_df.startYear.value_counts()"
   ]
  },
  {
   "cell_type": "code",
   "execution_count": 37,
   "metadata": {},
   "outputs": [],
   "source": [
    "# Dejar en un DF los titulos que no poseen fecha de lanzamiento\n",
    "nostartYear = titles_df[titles_df[\"startYear\"]==\"\\\\N\"]"
   ]
  },
  {
   "cell_type": "code",
   "execution_count": 39,
   "metadata": {},
   "outputs": [],
   "source": [
    "# Eliminar del DF de titulos aquellos que NO poseen fecha de lanzamiento\n",
    "titles_df = titles_df[~(titles_df[\"startYear\"]==\"\\\\N\")]"
   ]
  },
  {
   "cell_type": "code",
   "execution_count": 40,
   "metadata": {},
   "outputs": [
    {
     "output_type": "execute_result",
     "data": {
      "text/plain": "(577958, 9)"
     },
     "metadata": {},
     "execution_count": 40
    }
   ],
   "source": [
    "nostartYear.shape"
   ]
  },
  {
   "cell_type": "code",
   "execution_count": 41,
   "metadata": {},
   "outputs": [
    {
     "output_type": "execute_result",
     "data": {
      "text/plain": "(6469642, 9)"
     },
     "metadata": {},
     "execution_count": 41
    }
   ],
   "source": [
    "titles_df.shape"
   ]
  },
  {
   "cell_type": "code",
   "execution_count": 42,
   "metadata": {},
   "outputs": [
    {
     "output_type": "execute_result",
     "data": {
      "text/plain": "2017    370584\n2018    368287\n2016    354289\n2015    338449\n2019    336036\n         ...  \n1885         1\n2115         1\n1883         1\n1881         1\n2028         1\nName: startYear, Length: 148, dtype: int64"
     },
     "metadata": {},
     "execution_count": 42
    }
   ],
   "source": [
    "titles_df.startYear.value_counts()"
   ]
  },
  {
   "cell_type": "code",
   "execution_count": 43,
   "metadata": {},
   "outputs": [],
   "source": [
    "titles_df.startYear = pd.to_datetime(titles_df[\"startYear\"], format = \"%Y\")"
   ]
  },
  {
   "cell_type": "code",
   "execution_count": 44,
   "metadata": {
    "tags": []
   },
   "outputs": [
    {
     "output_type": "stream",
     "name": "stdout",
     "text": "<class 'pandas.core.frame.DataFrame'>\nInt64Index: 6469642 entries, 0 to 7047599\nData columns (total 9 columns):\n #   Column          Dtype         \n---  ------          -----         \n 0   tconst          object        \n 1   titleType       object        \n 2   primaryTitle    object        \n 3   originalTitle   object        \n 4   isAdult         int64         \n 5   startYear       datetime64[ns]\n 6   endYear         object        \n 7   runtimeMinutes  object        \n 8   genres          object        \ndtypes: datetime64[ns](1), int64(1), object(7)\nmemory usage: 813.6+ MB\n"
    }
   ],
   "source": [
    "titles_df.info()"
   ]
  },
  {
   "cell_type": "code",
   "execution_count": 53,
   "metadata": {
    "tags": []
   },
   "outputs": [
    {
     "output_type": "stream",
     "name": "stdout",
     "text": "<class 'pandas.core.frame.DataFrame'>\nInt64Index: 6469642 entries, 0 to 7047599\nData columns (total 9 columns):\n #   Column          Dtype         \n---  ------          -----         \n 0   tconst          object        \n 1   titleType       object        \n 2   primaryTitle    object        \n 3   originalTitle   object        \n 4   isAdult         int64         \n 5   startYear       datetime64[ns]\n 6   endYear         object        \n 7   runtimeMinutes  object        \n 8   genres          object        \ndtypes: datetime64[ns](1), int64(1), object(7)\nmemory usage: 813.6+ MB\n"
    }
   ],
   "source": [
    "titles_df.info()\n"
   ]
  },
  {
   "cell_type": "code",
   "execution_count": 52,
   "metadata": {},
   "outputs": [
    {
     "output_type": "execute_result",
     "data": {
      "text/plain": "            tconst  titleType  primaryTitle  originalTitle  isAdult  endYear  \\\nstartYear                                                                      \n1874-01-01       2          2             2              2        2        2   \n1878-01-01       2          2             2              2        2        2   \n1881-01-01       1          1             1              1        1        1   \n1883-01-01       1          1             1              1        1        1   \n1885-01-01       1          1             1              1        1        1   \n...            ...        ...           ...            ...      ...      ...   \n2025-01-01       5          5             5              5        5        5   \n2026-01-01       7          7             7              7        7        7   \n2027-01-01       5          5             5              5        5        5   \n2028-01-01       1          1             1              1        1        1   \n2115-01-01       1          1             1              1        1        1   \n\n            runtimeMinutes  genres  \nstartYear                           \n1874-01-01               2       2  \n1878-01-01               2       2  \n1881-01-01               1       1  \n1883-01-01               1       1  \n1885-01-01               1       1  \n...                    ...     ...  \n2025-01-01               5       5  \n2026-01-01               7       7  \n2027-01-01               5       5  \n2028-01-01               1       1  \n2115-01-01               1       1  \n\n[148 rows x 8 columns]",
      "text/html": "<div>\n<style scoped>\n    .dataframe tbody tr th:only-of-type {\n        vertical-align: middle;\n    }\n\n    .dataframe tbody tr th {\n        vertical-align: top;\n    }\n\n    .dataframe thead th {\n        text-align: right;\n    }\n</style>\n<table border=\"1\" class=\"dataframe\">\n  <thead>\n    <tr style=\"text-align: right;\">\n      <th></th>\n      <th>tconst</th>\n      <th>titleType</th>\n      <th>primaryTitle</th>\n      <th>originalTitle</th>\n      <th>isAdult</th>\n      <th>endYear</th>\n      <th>runtimeMinutes</th>\n      <th>genres</th>\n    </tr>\n    <tr>\n      <th>startYear</th>\n      <th></th>\n      <th></th>\n      <th></th>\n      <th></th>\n      <th></th>\n      <th></th>\n      <th></th>\n      <th></th>\n    </tr>\n  </thead>\n  <tbody>\n    <tr>\n      <th>1874-01-01</th>\n      <td>2</td>\n      <td>2</td>\n      <td>2</td>\n      <td>2</td>\n      <td>2</td>\n      <td>2</td>\n      <td>2</td>\n      <td>2</td>\n    </tr>\n    <tr>\n      <th>1878-01-01</th>\n      <td>2</td>\n      <td>2</td>\n      <td>2</td>\n      <td>2</td>\n      <td>2</td>\n      <td>2</td>\n      <td>2</td>\n      <td>2</td>\n    </tr>\n    <tr>\n      <th>1881-01-01</th>\n      <td>1</td>\n      <td>1</td>\n      <td>1</td>\n      <td>1</td>\n      <td>1</td>\n      <td>1</td>\n      <td>1</td>\n      <td>1</td>\n    </tr>\n    <tr>\n      <th>1883-01-01</th>\n      <td>1</td>\n      <td>1</td>\n      <td>1</td>\n      <td>1</td>\n      <td>1</td>\n      <td>1</td>\n      <td>1</td>\n      <td>1</td>\n    </tr>\n    <tr>\n      <th>1885-01-01</th>\n      <td>1</td>\n      <td>1</td>\n      <td>1</td>\n      <td>1</td>\n      <td>1</td>\n      <td>1</td>\n      <td>1</td>\n      <td>1</td>\n    </tr>\n    <tr>\n      <th>...</th>\n      <td>...</td>\n      <td>...</td>\n      <td>...</td>\n      <td>...</td>\n      <td>...</td>\n      <td>...</td>\n      <td>...</td>\n      <td>...</td>\n    </tr>\n    <tr>\n      <th>2025-01-01</th>\n      <td>5</td>\n      <td>5</td>\n      <td>5</td>\n      <td>5</td>\n      <td>5</td>\n      <td>5</td>\n      <td>5</td>\n      <td>5</td>\n    </tr>\n    <tr>\n      <th>2026-01-01</th>\n      <td>7</td>\n      <td>7</td>\n      <td>7</td>\n      <td>7</td>\n      <td>7</td>\n      <td>7</td>\n      <td>7</td>\n      <td>7</td>\n    </tr>\n    <tr>\n      <th>2027-01-01</th>\n      <td>5</td>\n      <td>5</td>\n      <td>5</td>\n      <td>5</td>\n      <td>5</td>\n      <td>5</td>\n      <td>5</td>\n      <td>5</td>\n    </tr>\n    <tr>\n      <th>2028-01-01</th>\n      <td>1</td>\n      <td>1</td>\n      <td>1</td>\n      <td>1</td>\n      <td>1</td>\n      <td>1</td>\n      <td>1</td>\n      <td>1</td>\n    </tr>\n    <tr>\n      <th>2115-01-01</th>\n      <td>1</td>\n      <td>1</td>\n      <td>1</td>\n      <td>1</td>\n      <td>1</td>\n      <td>1</td>\n      <td>1</td>\n      <td>1</td>\n    </tr>\n  </tbody>\n</table>\n<p>148 rows × 8 columns</p>\n</div>"
     },
     "metadata": {},
     "execution_count": 52
    }
   ],
   "source": [
    "titles_df.groupby(\"startYear\").count()"
   ]
  },
  {
   "cell_type": "code",
   "execution_count": 60,
   "metadata": {},
   "outputs": [],
   "source": [
    "# DF con las películas o series cuya fecha de lanzamiento es del siglo XXI y previa a agosto de 2020\n",
    "titles_df_2000 = titles_df[(titles_df.startYear >\"1999-12-31\") & (titles_df.startYear <\"2020-08-01\")]"
   ]
  },
  {
   "cell_type": "code",
   "execution_count": 61,
   "metadata": {},
   "outputs": [
    {
     "output_type": "execute_result",
     "data": {
      "text/plain": "(4721101, 9)"
     },
     "metadata": {},
     "execution_count": 61
    }
   ],
   "source": [
    "titles_df_2000.shape"
   ]
  },
  {
   "cell_type": "code",
   "execution_count": 62,
   "metadata": {},
   "outputs": [
    {
     "output_type": "execute_result",
     "data": {
      "text/plain": "            tconst  titleType  primaryTitle  originalTitle  isAdult  endYear  \\\nstartYear                                                                      \n2000-01-01   86248      86248         86248          86248    86248    86248   \n2001-01-01   95146      95146         95146          95146    95146    95146   \n2002-01-01   99026      99026         99026          99026    99026    99026   \n2003-01-01  110646     110646        110646         110646   110646   110646   \n2004-01-01  128201     128201        128201         128201   128201   128201   \n2005-01-01  142699     142699        142699         142699   142699   142699   \n2006-01-01  158447     158447        158447         158447   158447   158447   \n2007-01-01  175336     175336        175336         175336   175336   175336   \n2008-01-01  189049     189049        189049         189049   189049   189049   \n2009-01-01  198980     198980        198980         198980   198980   198980   \n2010-01-01  225177     225177        225177         225177   225177   225177   \n2011-01-01  257015     257015        257014         257014   257015   257015   \n2012-01-01  286345     286345        286345         286345   286345   286345   \n2013-01-01  307205     307205        307205         307205   307205   307205   \n2014-01-01  324288     324288        324288         324288   324288   324288   \n2015-01-01  338449     338449        338447         338447   338449   338449   \n2016-01-01  354289     354289        354288         354288   354289   354289   \n2017-01-01  370584     370584        370584         370584   370584   370584   \n2018-01-01  368287     368287        368286         368286   368287   368287   \n2019-01-01  336036     336036        336035         336035   336036   336036   \n2020-01-01  169648     169648        169647         169647   169648   169648   \n\n            runtimeMinutes  genres  \nstartYear                           \n2000-01-01           86248   86248  \n2001-01-01           95146   95146  \n2002-01-01           99026   99026  \n2003-01-01          110646  110646  \n2004-01-01          128201  128201  \n2005-01-01          142699  142699  \n2006-01-01          158447  158447  \n2007-01-01          175336  175336  \n2008-01-01          189049  189049  \n2009-01-01          198980  198980  \n2010-01-01          225177  225177  \n2011-01-01          257015  257015  \n2012-01-01          286345  286345  \n2013-01-01          307205  307205  \n2014-01-01          324288  324288  \n2015-01-01          338449  338449  \n2016-01-01          354289  354289  \n2017-01-01          370584  370584  \n2018-01-01          368287  368287  \n2019-01-01          336036  336036  \n2020-01-01          169648  169648  ",
      "text/html": "<div>\n<style scoped>\n    .dataframe tbody tr th:only-of-type {\n        vertical-align: middle;\n    }\n\n    .dataframe tbody tr th {\n        vertical-align: top;\n    }\n\n    .dataframe thead th {\n        text-align: right;\n    }\n</style>\n<table border=\"1\" class=\"dataframe\">\n  <thead>\n    <tr style=\"text-align: right;\">\n      <th></th>\n      <th>tconst</th>\n      <th>titleType</th>\n      <th>primaryTitle</th>\n      <th>originalTitle</th>\n      <th>isAdult</th>\n      <th>endYear</th>\n      <th>runtimeMinutes</th>\n      <th>genres</th>\n    </tr>\n    <tr>\n      <th>startYear</th>\n      <th></th>\n      <th></th>\n      <th></th>\n      <th></th>\n      <th></th>\n      <th></th>\n      <th></th>\n      <th></th>\n    </tr>\n  </thead>\n  <tbody>\n    <tr>\n      <th>2000-01-01</th>\n      <td>86248</td>\n      <td>86248</td>\n      <td>86248</td>\n      <td>86248</td>\n      <td>86248</td>\n      <td>86248</td>\n      <td>86248</td>\n      <td>86248</td>\n    </tr>\n    <tr>\n      <th>2001-01-01</th>\n      <td>95146</td>\n      <td>95146</td>\n      <td>95146</td>\n      <td>95146</td>\n      <td>95146</td>\n      <td>95146</td>\n      <td>95146</td>\n      <td>95146</td>\n    </tr>\n    <tr>\n      <th>2002-01-01</th>\n      <td>99026</td>\n      <td>99026</td>\n      <td>99026</td>\n      <td>99026</td>\n      <td>99026</td>\n      <td>99026</td>\n      <td>99026</td>\n      <td>99026</td>\n    </tr>\n    <tr>\n      <th>2003-01-01</th>\n      <td>110646</td>\n      <td>110646</td>\n      <td>110646</td>\n      <td>110646</td>\n      <td>110646</td>\n      <td>110646</td>\n      <td>110646</td>\n      <td>110646</td>\n    </tr>\n    <tr>\n      <th>2004-01-01</th>\n      <td>128201</td>\n      <td>128201</td>\n      <td>128201</td>\n      <td>128201</td>\n      <td>128201</td>\n      <td>128201</td>\n      <td>128201</td>\n      <td>128201</td>\n    </tr>\n    <tr>\n      <th>2005-01-01</th>\n      <td>142699</td>\n      <td>142699</td>\n      <td>142699</td>\n      <td>142699</td>\n      <td>142699</td>\n      <td>142699</td>\n      <td>142699</td>\n      <td>142699</td>\n    </tr>\n    <tr>\n      <th>2006-01-01</th>\n      <td>158447</td>\n      <td>158447</td>\n      <td>158447</td>\n      <td>158447</td>\n      <td>158447</td>\n      <td>158447</td>\n      <td>158447</td>\n      <td>158447</td>\n    </tr>\n    <tr>\n      <th>2007-01-01</th>\n      <td>175336</td>\n      <td>175336</td>\n      <td>175336</td>\n      <td>175336</td>\n      <td>175336</td>\n      <td>175336</td>\n      <td>175336</td>\n      <td>175336</td>\n    </tr>\n    <tr>\n      <th>2008-01-01</th>\n      <td>189049</td>\n      <td>189049</td>\n      <td>189049</td>\n      <td>189049</td>\n      <td>189049</td>\n      <td>189049</td>\n      <td>189049</td>\n      <td>189049</td>\n    </tr>\n    <tr>\n      <th>2009-01-01</th>\n      <td>198980</td>\n      <td>198980</td>\n      <td>198980</td>\n      <td>198980</td>\n      <td>198980</td>\n      <td>198980</td>\n      <td>198980</td>\n      <td>198980</td>\n    </tr>\n    <tr>\n      <th>2010-01-01</th>\n      <td>225177</td>\n      <td>225177</td>\n      <td>225177</td>\n      <td>225177</td>\n      <td>225177</td>\n      <td>225177</td>\n      <td>225177</td>\n      <td>225177</td>\n    </tr>\n    <tr>\n      <th>2011-01-01</th>\n      <td>257015</td>\n      <td>257015</td>\n      <td>257014</td>\n      <td>257014</td>\n      <td>257015</td>\n      <td>257015</td>\n      <td>257015</td>\n      <td>257015</td>\n    </tr>\n    <tr>\n      <th>2012-01-01</th>\n      <td>286345</td>\n      <td>286345</td>\n      <td>286345</td>\n      <td>286345</td>\n      <td>286345</td>\n      <td>286345</td>\n      <td>286345</td>\n      <td>286345</td>\n    </tr>\n    <tr>\n      <th>2013-01-01</th>\n      <td>307205</td>\n      <td>307205</td>\n      <td>307205</td>\n      <td>307205</td>\n      <td>307205</td>\n      <td>307205</td>\n      <td>307205</td>\n      <td>307205</td>\n    </tr>\n    <tr>\n      <th>2014-01-01</th>\n      <td>324288</td>\n      <td>324288</td>\n      <td>324288</td>\n      <td>324288</td>\n      <td>324288</td>\n      <td>324288</td>\n      <td>324288</td>\n      <td>324288</td>\n    </tr>\n    <tr>\n      <th>2015-01-01</th>\n      <td>338449</td>\n      <td>338449</td>\n      <td>338447</td>\n      <td>338447</td>\n      <td>338449</td>\n      <td>338449</td>\n      <td>338449</td>\n      <td>338449</td>\n    </tr>\n    <tr>\n      <th>2016-01-01</th>\n      <td>354289</td>\n      <td>354289</td>\n      <td>354288</td>\n      <td>354288</td>\n      <td>354289</td>\n      <td>354289</td>\n      <td>354289</td>\n      <td>354289</td>\n    </tr>\n    <tr>\n      <th>2017-01-01</th>\n      <td>370584</td>\n      <td>370584</td>\n      <td>370584</td>\n      <td>370584</td>\n      <td>370584</td>\n      <td>370584</td>\n      <td>370584</td>\n      <td>370584</td>\n    </tr>\n    <tr>\n      <th>2018-01-01</th>\n      <td>368287</td>\n      <td>368287</td>\n      <td>368286</td>\n      <td>368286</td>\n      <td>368287</td>\n      <td>368287</td>\n      <td>368287</td>\n      <td>368287</td>\n    </tr>\n    <tr>\n      <th>2019-01-01</th>\n      <td>336036</td>\n      <td>336036</td>\n      <td>336035</td>\n      <td>336035</td>\n      <td>336036</td>\n      <td>336036</td>\n      <td>336036</td>\n      <td>336036</td>\n    </tr>\n    <tr>\n      <th>2020-01-01</th>\n      <td>169648</td>\n      <td>169648</td>\n      <td>169647</td>\n      <td>169647</td>\n      <td>169648</td>\n      <td>169648</td>\n      <td>169648</td>\n      <td>169648</td>\n    </tr>\n  </tbody>\n</table>\n</div>"
     },
     "metadata": {},
     "execution_count": 62
    }
   ],
   "source": [
    "titles_df_2000.groupby(\"startYear\").count()\n"
   ]
  },
  {
   "cell_type": "code",
   "execution_count": null,
   "metadata": {},
   "outputs": [],
   "source": []
  }
 ]
}