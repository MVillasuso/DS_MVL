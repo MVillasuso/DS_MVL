{
 "cells": [
  {
   "cell_type": "markdown",
   "metadata": {},
   "source": [
    "# PRUEBAS\n",
    "_________________"
   ]
  },
  {
   "cell_type": "markdown",
   "metadata": {},
   "source": [
    "## 1. Librerías requeridas para el análisis (* Import *)\n",
    "_________"
   ]
  },
  {
   "cell_type": "code",
   "execution_count": 1,
   "metadata": {},
   "outputs": [],
   "source": [
    "import pandas as pd \n",
    "import numpy as np\n",
    "from datetime import datetime\n",
    "\n",
    "import plotly.express as px "
   ]
  },
  {
   "cell_type": "markdown",
   "metadata": {},
   "source": [
    "## 2. Carga de datos inicial, de la fuente, en el dataframe        \n",
    "\n",
    "____________"
   ]
  },
  {
   "cell_type": "code",
   "execution_count": 82,
   "metadata": {},
   "outputs": [],
   "source": [
    "dset = pd.DataFrame({'COD': [1,2,3,4,5,6,7,8,9,10,11,12,13,14,15,16] , \n",
    "                    \"PAIS\": [\"ESP\",\"ITA\",\"FRA\",\"USA\",\"FRA\",\"USA\",\"FRA\",\"USA\",\"ITA\",\"FRA\",\"ESP\", \"ESP\", \"ESP\", \"USA\", \"USA\",\"MEX\"],\n",
    "                    \"EXP\":  [\"S\",\"I\",\"J\",\"S\",\"S\",\"I\",\"S\",\"S\",\"S\",\"J\",\"J\",\"J\",\"J\",\"I\",\"I\",None],\n",
    "                     'SAL': [100,102,300,45,590,60,70,8000,90,100,101,1200,130,540,150,1160],\n",
    "                     'TOOLS': [\"PYTHON, SQL, ML, SPARK\",\"SQL,AGILE,SCRUM,ORACLE,HADOOP\", \n",
    "                            \"PYTHON,SQL,TENSORFLOW,ML\",\"SQL,ML,R,AGILE\",\n",
    "                            \"PYTHON, SQL, ML, SPARK\",\"SQL,AGILE,SCRUM,ORACLE,HADOOP\", \n",
    "                            \"PYTHON,SQL,BO,ML\",\"SQL,ML,R,AGILE\",\n",
    "                            \"PYTHON, MICROSTRATEGY, ML, SPARK\",\"SQL,POWERBI,SCRUM,ORACLE,HADOOP\", \n",
    "                            \"PYTHON,SQL,TENSORFLOW,ML\",\"SQL,ML,R,POWERBI\",\n",
    "                            \"PYTHON, BO, ML, SPARK\",\"PANDAS,AGILE,SCRUM,ORACLE,HADOOP\", \n",
    "                            \"JSON,SQL,TENSORFLOW,ML\", \"SQL,PANDAS,CRM,PYTHON\"]})\n"
   ]
  },
  {
   "cell_type": "markdown",
   "metadata": {},
   "source": [
    "## 4. Análisis de tendencias en los datos (EDA)\n",
    "________________"
   ]
  },
  {
   "cell_type": "code",
   "execution_count": 83,
   "metadata": {},
   "outputs": [
    {
     "output_type": "execute_result",
     "data": {
      "text/plain": "    COD PAIS   EXP   SAL                             TOOLS\n0     1  ESP     S   100            PYTHON, SQL, ML, SPARK\n1     2  ITA     I   102     SQL,AGILE,SCRUM,ORACLE,HADOOP\n2     3  FRA     J   300          PYTHON,SQL,TENSORFLOW,ML\n3     4  USA     S    45                    SQL,ML,R,AGILE\n4     5  FRA     S   590            PYTHON, SQL, ML, SPARK\n5     6  USA     I    60     SQL,AGILE,SCRUM,ORACLE,HADOOP\n6     7  FRA     S    70                  PYTHON,SQL,BO,ML\n7     8  USA     S  8000                    SQL,ML,R,AGILE\n8     9  ITA     S    90  PYTHON, MICROSTRATEGY, ML, SPARK\n9    10  FRA     J   100   SQL,POWERBI,SCRUM,ORACLE,HADOOP\n10   11  ESP     J   101          PYTHON,SQL,TENSORFLOW,ML\n11   12  ESP     J  1200                  SQL,ML,R,POWERBI\n12   13  ESP     J   130             PYTHON, BO, ML, SPARK\n13   14  USA     I   540  PANDAS,AGILE,SCRUM,ORACLE,HADOOP\n14   15  USA     I   150            JSON,SQL,TENSORFLOW,ML\n15   16  MEX  None  1160             SQL,PANDAS,CRM,PYTHON",
      "text/html": "<div>\n<style scoped>\n    .dataframe tbody tr th:only-of-type {\n        vertical-align: middle;\n    }\n\n    .dataframe tbody tr th {\n        vertical-align: top;\n    }\n\n    .dataframe thead th {\n        text-align: right;\n    }\n</style>\n<table border=\"1\" class=\"dataframe\">\n  <thead>\n    <tr style=\"text-align: right;\">\n      <th></th>\n      <th>COD</th>\n      <th>PAIS</th>\n      <th>EXP</th>\n      <th>SAL</th>\n      <th>TOOLS</th>\n    </tr>\n  </thead>\n  <tbody>\n    <tr>\n      <th>0</th>\n      <td>1</td>\n      <td>ESP</td>\n      <td>S</td>\n      <td>100</td>\n      <td>PYTHON, SQL, ML, SPARK</td>\n    </tr>\n    <tr>\n      <th>1</th>\n      <td>2</td>\n      <td>ITA</td>\n      <td>I</td>\n      <td>102</td>\n      <td>SQL,AGILE,SCRUM,ORACLE,HADOOP</td>\n    </tr>\n    <tr>\n      <th>2</th>\n      <td>3</td>\n      <td>FRA</td>\n      <td>J</td>\n      <td>300</td>\n      <td>PYTHON,SQL,TENSORFLOW,ML</td>\n    </tr>\n    <tr>\n      <th>3</th>\n      <td>4</td>\n      <td>USA</td>\n      <td>S</td>\n      <td>45</td>\n      <td>SQL,ML,R,AGILE</td>\n    </tr>\n    <tr>\n      <th>4</th>\n      <td>5</td>\n      <td>FRA</td>\n      <td>S</td>\n      <td>590</td>\n      <td>PYTHON, SQL, ML, SPARK</td>\n    </tr>\n    <tr>\n      <th>5</th>\n      <td>6</td>\n      <td>USA</td>\n      <td>I</td>\n      <td>60</td>\n      <td>SQL,AGILE,SCRUM,ORACLE,HADOOP</td>\n    </tr>\n    <tr>\n      <th>6</th>\n      <td>7</td>\n      <td>FRA</td>\n      <td>S</td>\n      <td>70</td>\n      <td>PYTHON,SQL,BO,ML</td>\n    </tr>\n    <tr>\n      <th>7</th>\n      <td>8</td>\n      <td>USA</td>\n      <td>S</td>\n      <td>8000</td>\n      <td>SQL,ML,R,AGILE</td>\n    </tr>\n    <tr>\n      <th>8</th>\n      <td>9</td>\n      <td>ITA</td>\n      <td>S</td>\n      <td>90</td>\n      <td>PYTHON, MICROSTRATEGY, ML, SPARK</td>\n    </tr>\n    <tr>\n      <th>9</th>\n      <td>10</td>\n      <td>FRA</td>\n      <td>J</td>\n      <td>100</td>\n      <td>SQL,POWERBI,SCRUM,ORACLE,HADOOP</td>\n    </tr>\n    <tr>\n      <th>10</th>\n      <td>11</td>\n      <td>ESP</td>\n      <td>J</td>\n      <td>101</td>\n      <td>PYTHON,SQL,TENSORFLOW,ML</td>\n    </tr>\n    <tr>\n      <th>11</th>\n      <td>12</td>\n      <td>ESP</td>\n      <td>J</td>\n      <td>1200</td>\n      <td>SQL,ML,R,POWERBI</td>\n    </tr>\n    <tr>\n      <th>12</th>\n      <td>13</td>\n      <td>ESP</td>\n      <td>J</td>\n      <td>130</td>\n      <td>PYTHON, BO, ML, SPARK</td>\n    </tr>\n    <tr>\n      <th>13</th>\n      <td>14</td>\n      <td>USA</td>\n      <td>I</td>\n      <td>540</td>\n      <td>PANDAS,AGILE,SCRUM,ORACLE,HADOOP</td>\n    </tr>\n    <tr>\n      <th>14</th>\n      <td>15</td>\n      <td>USA</td>\n      <td>I</td>\n      <td>150</td>\n      <td>JSON,SQL,TENSORFLOW,ML</td>\n    </tr>\n    <tr>\n      <th>15</th>\n      <td>16</td>\n      <td>MEX</td>\n      <td>None</td>\n      <td>1160</td>\n      <td>SQL,PANDAS,CRM,PYTHON</td>\n    </tr>\n  </tbody>\n</table>\n</div>"
     },
     "metadata": {},
     "execution_count": 83
    }
   ],
   "source": [
    "dset"
   ]
  },
  {
   "cell_type": "code",
   "execution_count": 84,
   "metadata": {},
   "outputs": [],
   "source": [
    "df = dset.groupby(['PAIS', 'EXP']).agg({'COD':['size'], 'SAL':['min','max','mean']})\n",
    "df.reset_index(inplace=True)\n",
    "df.columns = ['PAIS','EXP','size','Sal_min', 'Sal_max', 'Sal_mean']"
   ]
  },
  {
   "cell_type": "code",
   "execution_count": 85,
   "metadata": {},
   "outputs": [
    {
     "output_type": "execute_result",
     "data": {
      "text/plain": "  PAIS EXP  size  Sal_min  Sal_max  Sal_mean\n0  ESP   J     3      101     1200     477.0\n1  ESP   S     1      100      100     100.0\n2  FRA   J     2      100      300     200.0\n3  FRA   S     2       70      590     330.0\n4  ITA   I     1      102      102     102.0\n5  ITA   S     1       90       90      90.0\n6  USA   I     3       60      540     250.0\n7  USA   S     2       45     8000    4022.5",
      "text/html": "<div>\n<style scoped>\n    .dataframe tbody tr th:only-of-type {\n        vertical-align: middle;\n    }\n\n    .dataframe tbody tr th {\n        vertical-align: top;\n    }\n\n    .dataframe thead th {\n        text-align: right;\n    }\n</style>\n<table border=\"1\" class=\"dataframe\">\n  <thead>\n    <tr style=\"text-align: right;\">\n      <th></th>\n      <th>PAIS</th>\n      <th>EXP</th>\n      <th>size</th>\n      <th>Sal_min</th>\n      <th>Sal_max</th>\n      <th>Sal_mean</th>\n    </tr>\n  </thead>\n  <tbody>\n    <tr>\n      <th>0</th>\n      <td>ESP</td>\n      <td>J</td>\n      <td>3</td>\n      <td>101</td>\n      <td>1200</td>\n      <td>477.0</td>\n    </tr>\n    <tr>\n      <th>1</th>\n      <td>ESP</td>\n      <td>S</td>\n      <td>1</td>\n      <td>100</td>\n      <td>100</td>\n      <td>100.0</td>\n    </tr>\n    <tr>\n      <th>2</th>\n      <td>FRA</td>\n      <td>J</td>\n      <td>2</td>\n      <td>100</td>\n      <td>300</td>\n      <td>200.0</td>\n    </tr>\n    <tr>\n      <th>3</th>\n      <td>FRA</td>\n      <td>S</td>\n      <td>2</td>\n      <td>70</td>\n      <td>590</td>\n      <td>330.0</td>\n    </tr>\n    <tr>\n      <th>4</th>\n      <td>ITA</td>\n      <td>I</td>\n      <td>1</td>\n      <td>102</td>\n      <td>102</td>\n      <td>102.0</td>\n    </tr>\n    <tr>\n      <th>5</th>\n      <td>ITA</td>\n      <td>S</td>\n      <td>1</td>\n      <td>90</td>\n      <td>90</td>\n      <td>90.0</td>\n    </tr>\n    <tr>\n      <th>6</th>\n      <td>USA</td>\n      <td>I</td>\n      <td>3</td>\n      <td>60</td>\n      <td>540</td>\n      <td>250.0</td>\n    </tr>\n    <tr>\n      <th>7</th>\n      <td>USA</td>\n      <td>S</td>\n      <td>2</td>\n      <td>45</td>\n      <td>8000</td>\n      <td>4022.5</td>\n    </tr>\n  </tbody>\n</table>\n</div>"
     },
     "metadata": {},
     "execution_count": 85
    }
   ],
   "source": [
    "df"
   ]
  },
  {
   "cell_type": "code",
   "execution_count": 118,
   "metadata": {},
   "outputs": [],
   "source": [
    "tools_df=dset.groupby(['PAIS', 'EXP','TOOLS']).count()\n",
    "tools_df.reset_index(inplace=True)\n"
   ]
  },
  {
   "cell_type": "code",
   "execution_count": 120,
   "metadata": {},
   "outputs": [
    {
     "output_type": "execute_result",
     "data": {
      "text/plain": "   PAIS EXP                             TOOLS  COD  SAL\n0   ESP   J             PYTHON, BO, ML, SPARK    1    1\n1   ESP   J          PYTHON,SQL,TENSORFLOW,ML    1    1\n2   ESP   J                  SQL,ML,R,POWERBI    1    1\n3   ESP   S            PYTHON, SQL, ML, SPARK    1    1\n4   FRA   J          PYTHON,SQL,TENSORFLOW,ML    1    1\n5   FRA   J   SQL,POWERBI,SCRUM,ORACLE,HADOOP    1    1\n6   FRA   S            PYTHON, SQL, ML, SPARK    1    1\n7   FRA   S                  PYTHON,SQL,BO,ML    1    1\n8   ITA   I     SQL,AGILE,SCRUM,ORACLE,HADOOP    1    1\n9   ITA   S  PYTHON, MICROSTRATEGY, ML, SPARK    1    1\n10  USA   I            JSON,SQL,TENSORFLOW,ML    1    1\n11  USA   I  PANDAS,AGILE,SCRUM,ORACLE,HADOOP    1    1\n12  USA   I     SQL,AGILE,SCRUM,ORACLE,HADOOP    1    1\n13  USA   S                    SQL,ML,R,AGILE    2    2",
      "text/html": "<div>\n<style scoped>\n    .dataframe tbody tr th:only-of-type {\n        vertical-align: middle;\n    }\n\n    .dataframe tbody tr th {\n        vertical-align: top;\n    }\n\n    .dataframe thead th {\n        text-align: right;\n    }\n</style>\n<table border=\"1\" class=\"dataframe\">\n  <thead>\n    <tr style=\"text-align: right;\">\n      <th></th>\n      <th>PAIS</th>\n      <th>EXP</th>\n      <th>TOOLS</th>\n      <th>COD</th>\n      <th>SAL</th>\n    </tr>\n  </thead>\n  <tbody>\n    <tr>\n      <th>0</th>\n      <td>ESP</td>\n      <td>J</td>\n      <td>PYTHON, BO, ML, SPARK</td>\n      <td>1</td>\n      <td>1</td>\n    </tr>\n    <tr>\n      <th>1</th>\n      <td>ESP</td>\n      <td>J</td>\n      <td>PYTHON,SQL,TENSORFLOW,ML</td>\n      <td>1</td>\n      <td>1</td>\n    </tr>\n    <tr>\n      <th>2</th>\n      <td>ESP</td>\n      <td>J</td>\n      <td>SQL,ML,R,POWERBI</td>\n      <td>1</td>\n      <td>1</td>\n    </tr>\n    <tr>\n      <th>3</th>\n      <td>ESP</td>\n      <td>S</td>\n      <td>PYTHON, SQL, ML, SPARK</td>\n      <td>1</td>\n      <td>1</td>\n    </tr>\n    <tr>\n      <th>4</th>\n      <td>FRA</td>\n      <td>J</td>\n      <td>PYTHON,SQL,TENSORFLOW,ML</td>\n      <td>1</td>\n      <td>1</td>\n    </tr>\n    <tr>\n      <th>5</th>\n      <td>FRA</td>\n      <td>J</td>\n      <td>SQL,POWERBI,SCRUM,ORACLE,HADOOP</td>\n      <td>1</td>\n      <td>1</td>\n    </tr>\n    <tr>\n      <th>6</th>\n      <td>FRA</td>\n      <td>S</td>\n      <td>PYTHON, SQL, ML, SPARK</td>\n      <td>1</td>\n      <td>1</td>\n    </tr>\n    <tr>\n      <th>7</th>\n      <td>FRA</td>\n      <td>S</td>\n      <td>PYTHON,SQL,BO,ML</td>\n      <td>1</td>\n      <td>1</td>\n    </tr>\n    <tr>\n      <th>8</th>\n      <td>ITA</td>\n      <td>I</td>\n      <td>SQL,AGILE,SCRUM,ORACLE,HADOOP</td>\n      <td>1</td>\n      <td>1</td>\n    </tr>\n    <tr>\n      <th>9</th>\n      <td>ITA</td>\n      <td>S</td>\n      <td>PYTHON, MICROSTRATEGY, ML, SPARK</td>\n      <td>1</td>\n      <td>1</td>\n    </tr>\n    <tr>\n      <th>10</th>\n      <td>USA</td>\n      <td>I</td>\n      <td>JSON,SQL,TENSORFLOW,ML</td>\n      <td>1</td>\n      <td>1</td>\n    </tr>\n    <tr>\n      <th>11</th>\n      <td>USA</td>\n      <td>I</td>\n      <td>PANDAS,AGILE,SCRUM,ORACLE,HADOOP</td>\n      <td>1</td>\n      <td>1</td>\n    </tr>\n    <tr>\n      <th>12</th>\n      <td>USA</td>\n      <td>I</td>\n      <td>SQL,AGILE,SCRUM,ORACLE,HADOOP</td>\n      <td>1</td>\n      <td>1</td>\n    </tr>\n    <tr>\n      <th>13</th>\n      <td>USA</td>\n      <td>S</td>\n      <td>SQL,ML,R,AGILE</td>\n      <td>2</td>\n      <td>2</td>\n    </tr>\n  </tbody>\n</table>\n</div>"
     },
     "metadata": {},
     "execution_count": 120
    }
   ],
   "source": [
    "tools_df"
   ]
  },
  {
   "cell_type": "code",
   "execution_count": 121,
   "metadata": {},
   "outputs": [],
   "source": [
    "tools_df[\"PYTHON\"]= tools_df.groupby(['PAIS', 'EXP'])['TOOLS'].transform (lambda x: x[x.str.contains('PYTHON')].count()) "
   ]
  },
  {
   "cell_type": "code",
   "execution_count": 122,
   "metadata": {},
   "outputs": [],
   "source": [
    "tools_df[\"SQL\"]= tools_df.groupby(['PAIS', 'EXP'])['TOOLS'].transform (lambda x: x[x.str.contains('SQL')].count()) \n",
    "tools_df[\"ML\"]= tools_df.groupby(['PAIS', 'EXP'])['TOOLS'].transform (lambda x: x[x.str.contains('ML')].count()) \n",
    "tools_df[\"AGILE\"]= tools_df.groupby(['PAIS', 'EXP'])['TOOLS'].transform (lambda x: x[x.str.contains('AGILE')].count()) \n",
    "tools_df[\"POWERBI\"]= tools_df.groupby(['PAIS', 'EXP'])['TOOLS'].transform (lambda x: x[x.str.contains('POWERBI')].count())  "
   ]
  },
  {
   "cell_type": "code",
   "execution_count": 123,
   "metadata": {},
   "outputs": [
    {
     "output_type": "execute_result",
     "data": {
      "text/plain": "   PAIS EXP                             TOOLS  COD  SAL  PYTHON  SQL  ML  \\\n0   ESP   J             PYTHON, BO, ML, SPARK    1    1       2    2   3   \n1   ESP   J          PYTHON,SQL,TENSORFLOW,ML    1    1       2    2   3   \n2   ESP   J                  SQL,ML,R,POWERBI    1    1       2    2   3   \n3   ESP   S            PYTHON, SQL, ML, SPARK    1    1       1    1   1   \n4   FRA   J          PYTHON,SQL,TENSORFLOW,ML    1    1       1    2   1   \n5   FRA   J   SQL,POWERBI,SCRUM,ORACLE,HADOOP    1    1       1    2   1   \n6   FRA   S            PYTHON, SQL, ML, SPARK    1    1       2    2   2   \n7   FRA   S                  PYTHON,SQL,BO,ML    1    1       2    2   2   \n8   ITA   I     SQL,AGILE,SCRUM,ORACLE,HADOOP    1    1       0    1   0   \n9   ITA   S  PYTHON, MICROSTRATEGY, ML, SPARK    1    1       1    0   1   \n10  USA   I            JSON,SQL,TENSORFLOW,ML    1    1       0    2   1   \n11  USA   I  PANDAS,AGILE,SCRUM,ORACLE,HADOOP    1    1       0    2   1   \n12  USA   I     SQL,AGILE,SCRUM,ORACLE,HADOOP    1    1       0    2   1   \n13  USA   S                    SQL,ML,R,AGILE    2    2       0    1   1   \n\n    AGILE  POWERBI  \n0       0        1  \n1       0        1  \n2       0        1  \n3       0        0  \n4       0        1  \n5       0        1  \n6       0        0  \n7       0        0  \n8       1        0  \n9       0        0  \n10      2        0  \n11      2        0  \n12      2        0  \n13      1        0  ",
      "text/html": "<div>\n<style scoped>\n    .dataframe tbody tr th:only-of-type {\n        vertical-align: middle;\n    }\n\n    .dataframe tbody tr th {\n        vertical-align: top;\n    }\n\n    .dataframe thead th {\n        text-align: right;\n    }\n</style>\n<table border=\"1\" class=\"dataframe\">\n  <thead>\n    <tr style=\"text-align: right;\">\n      <th></th>\n      <th>PAIS</th>\n      <th>EXP</th>\n      <th>TOOLS</th>\n      <th>COD</th>\n      <th>SAL</th>\n      <th>PYTHON</th>\n      <th>SQL</th>\n      <th>ML</th>\n      <th>AGILE</th>\n      <th>POWERBI</th>\n    </tr>\n  </thead>\n  <tbody>\n    <tr>\n      <th>0</th>\n      <td>ESP</td>\n      <td>J</td>\n      <td>PYTHON, BO, ML, SPARK</td>\n      <td>1</td>\n      <td>1</td>\n      <td>2</td>\n      <td>2</td>\n      <td>3</td>\n      <td>0</td>\n      <td>1</td>\n    </tr>\n    <tr>\n      <th>1</th>\n      <td>ESP</td>\n      <td>J</td>\n      <td>PYTHON,SQL,TENSORFLOW,ML</td>\n      <td>1</td>\n      <td>1</td>\n      <td>2</td>\n      <td>2</td>\n      <td>3</td>\n      <td>0</td>\n      <td>1</td>\n    </tr>\n    <tr>\n      <th>2</th>\n      <td>ESP</td>\n      <td>J</td>\n      <td>SQL,ML,R,POWERBI</td>\n      <td>1</td>\n      <td>1</td>\n      <td>2</td>\n      <td>2</td>\n      <td>3</td>\n      <td>0</td>\n      <td>1</td>\n    </tr>\n    <tr>\n      <th>3</th>\n      <td>ESP</td>\n      <td>S</td>\n      <td>PYTHON, SQL, ML, SPARK</td>\n      <td>1</td>\n      <td>1</td>\n      <td>1</td>\n      <td>1</td>\n      <td>1</td>\n      <td>0</td>\n      <td>0</td>\n    </tr>\n    <tr>\n      <th>4</th>\n      <td>FRA</td>\n      <td>J</td>\n      <td>PYTHON,SQL,TENSORFLOW,ML</td>\n      <td>1</td>\n      <td>1</td>\n      <td>1</td>\n      <td>2</td>\n      <td>1</td>\n      <td>0</td>\n      <td>1</td>\n    </tr>\n    <tr>\n      <th>5</th>\n      <td>FRA</td>\n      <td>J</td>\n      <td>SQL,POWERBI,SCRUM,ORACLE,HADOOP</td>\n      <td>1</td>\n      <td>1</td>\n      <td>1</td>\n      <td>2</td>\n      <td>1</td>\n      <td>0</td>\n      <td>1</td>\n    </tr>\n    <tr>\n      <th>6</th>\n      <td>FRA</td>\n      <td>S</td>\n      <td>PYTHON, SQL, ML, SPARK</td>\n      <td>1</td>\n      <td>1</td>\n      <td>2</td>\n      <td>2</td>\n      <td>2</td>\n      <td>0</td>\n      <td>0</td>\n    </tr>\n    <tr>\n      <th>7</th>\n      <td>FRA</td>\n      <td>S</td>\n      <td>PYTHON,SQL,BO,ML</td>\n      <td>1</td>\n      <td>1</td>\n      <td>2</td>\n      <td>2</td>\n      <td>2</td>\n      <td>0</td>\n      <td>0</td>\n    </tr>\n    <tr>\n      <th>8</th>\n      <td>ITA</td>\n      <td>I</td>\n      <td>SQL,AGILE,SCRUM,ORACLE,HADOOP</td>\n      <td>1</td>\n      <td>1</td>\n      <td>0</td>\n      <td>1</td>\n      <td>0</td>\n      <td>1</td>\n      <td>0</td>\n    </tr>\n    <tr>\n      <th>9</th>\n      <td>ITA</td>\n      <td>S</td>\n      <td>PYTHON, MICROSTRATEGY, ML, SPARK</td>\n      <td>1</td>\n      <td>1</td>\n      <td>1</td>\n      <td>0</td>\n      <td>1</td>\n      <td>0</td>\n      <td>0</td>\n    </tr>\n    <tr>\n      <th>10</th>\n      <td>USA</td>\n      <td>I</td>\n      <td>JSON,SQL,TENSORFLOW,ML</td>\n      <td>1</td>\n      <td>1</td>\n      <td>0</td>\n      <td>2</td>\n      <td>1</td>\n      <td>2</td>\n      <td>0</td>\n    </tr>\n    <tr>\n      <th>11</th>\n      <td>USA</td>\n      <td>I</td>\n      <td>PANDAS,AGILE,SCRUM,ORACLE,HADOOP</td>\n      <td>1</td>\n      <td>1</td>\n      <td>0</td>\n      <td>2</td>\n      <td>1</td>\n      <td>2</td>\n      <td>0</td>\n    </tr>\n    <tr>\n      <th>12</th>\n      <td>USA</td>\n      <td>I</td>\n      <td>SQL,AGILE,SCRUM,ORACLE,HADOOP</td>\n      <td>1</td>\n      <td>1</td>\n      <td>0</td>\n      <td>2</td>\n      <td>1</td>\n      <td>2</td>\n      <td>0</td>\n    </tr>\n    <tr>\n      <th>13</th>\n      <td>USA</td>\n      <td>S</td>\n      <td>SQL,ML,R,AGILE</td>\n      <td>2</td>\n      <td>2</td>\n      <td>0</td>\n      <td>1</td>\n      <td>1</td>\n      <td>1</td>\n      <td>0</td>\n    </tr>\n  </tbody>\n</table>\n</div>"
     },
     "metadata": {},
     "execution_count": 123
    }
   ],
   "source": [
    "tools_df"
   ]
  },
  {
   "cell_type": "code",
   "execution_count": 124,
   "metadata": {},
   "outputs": [],
   "source": [
    "tools_df.drop(columns=[\"TOOLS\",'COD','SAL'], inplace=True)"
   ]
  },
  {
   "cell_type": "code",
   "execution_count": 125,
   "metadata": {},
   "outputs": [],
   "source": [
    "tools_df.drop_duplicates(inplace=True)"
   ]
  },
  {
   "cell_type": "code",
   "execution_count": 126,
   "metadata": {},
   "outputs": [
    {
     "output_type": "execute_result",
     "data": {
      "text/plain": "   PAIS EXP  PYTHON  SQL  ML  AGILE  POWERBI\n0   ESP   J       2    2   3      0        1\n3   ESP   S       1    1   1      0        0\n4   FRA   J       1    2   1      0        1\n6   FRA   S       2    2   2      0        0\n8   ITA   I       0    1   0      1        0\n9   ITA   S       1    0   1      0        0\n10  USA   I       0    2   1      2        0\n13  USA   S       0    1   1      1        0",
      "text/html": "<div>\n<style scoped>\n    .dataframe tbody tr th:only-of-type {\n        vertical-align: middle;\n    }\n\n    .dataframe tbody tr th {\n        vertical-align: top;\n    }\n\n    .dataframe thead th {\n        text-align: right;\n    }\n</style>\n<table border=\"1\" class=\"dataframe\">\n  <thead>\n    <tr style=\"text-align: right;\">\n      <th></th>\n      <th>PAIS</th>\n      <th>EXP</th>\n      <th>PYTHON</th>\n      <th>SQL</th>\n      <th>ML</th>\n      <th>AGILE</th>\n      <th>POWERBI</th>\n    </tr>\n  </thead>\n  <tbody>\n    <tr>\n      <th>0</th>\n      <td>ESP</td>\n      <td>J</td>\n      <td>2</td>\n      <td>2</td>\n      <td>3</td>\n      <td>0</td>\n      <td>1</td>\n    </tr>\n    <tr>\n      <th>3</th>\n      <td>ESP</td>\n      <td>S</td>\n      <td>1</td>\n      <td>1</td>\n      <td>1</td>\n      <td>0</td>\n      <td>0</td>\n    </tr>\n    <tr>\n      <th>4</th>\n      <td>FRA</td>\n      <td>J</td>\n      <td>1</td>\n      <td>2</td>\n      <td>1</td>\n      <td>0</td>\n      <td>1</td>\n    </tr>\n    <tr>\n      <th>6</th>\n      <td>FRA</td>\n      <td>S</td>\n      <td>2</td>\n      <td>2</td>\n      <td>2</td>\n      <td>0</td>\n      <td>0</td>\n    </tr>\n    <tr>\n      <th>8</th>\n      <td>ITA</td>\n      <td>I</td>\n      <td>0</td>\n      <td>1</td>\n      <td>0</td>\n      <td>1</td>\n      <td>0</td>\n    </tr>\n    <tr>\n      <th>9</th>\n      <td>ITA</td>\n      <td>S</td>\n      <td>1</td>\n      <td>0</td>\n      <td>1</td>\n      <td>0</td>\n      <td>0</td>\n    </tr>\n    <tr>\n      <th>10</th>\n      <td>USA</td>\n      <td>I</td>\n      <td>0</td>\n      <td>2</td>\n      <td>1</td>\n      <td>2</td>\n      <td>0</td>\n    </tr>\n    <tr>\n      <th>13</th>\n      <td>USA</td>\n      <td>S</td>\n      <td>0</td>\n      <td>1</td>\n      <td>1</td>\n      <td>1</td>\n      <td>0</td>\n    </tr>\n  </tbody>\n</table>\n</div>"
     },
     "metadata": {},
     "execution_count": 126
    }
   ],
   "source": [
    "tools_df"
   ]
  },
  {
   "cell_type": "code",
   "execution_count": 127,
   "metadata": {},
   "outputs": [],
   "source": [
    "final_df = pd.merge(df,tools_df,on=['PAIS','EXP'], how = 'left')"
   ]
  },
  {
   "cell_type": "code",
   "execution_count": 128,
   "metadata": {},
   "outputs": [
    {
     "output_type": "execute_result",
     "data": {
      "text/plain": "  PAIS EXP  size  Sal_min  Sal_max  Sal_mean  PYTHON  SQL  ML  AGILE  POWERBI\n0  ESP   J     3      101     1200     477.0       2    2   3      0        1\n1  ESP   S     1      100      100     100.0       1    1   1      0        0\n2  FRA   J     2      100      300     200.0       1    2   1      0        1\n3  FRA   S     2       70      590     330.0       2    2   2      0        0\n4  ITA   I     1      102      102     102.0       0    1   0      1        0\n5  ITA   S     1       90       90      90.0       1    0   1      0        0\n6  USA   I     3       60      540     250.0       0    2   1      2        0\n7  USA   S     2       45     8000    4022.5       0    1   1      1        0",
      "text/html": "<div>\n<style scoped>\n    .dataframe tbody tr th:only-of-type {\n        vertical-align: middle;\n    }\n\n    .dataframe tbody tr th {\n        vertical-align: top;\n    }\n\n    .dataframe thead th {\n        text-align: right;\n    }\n</style>\n<table border=\"1\" class=\"dataframe\">\n  <thead>\n    <tr style=\"text-align: right;\">\n      <th></th>\n      <th>PAIS</th>\n      <th>EXP</th>\n      <th>size</th>\n      <th>Sal_min</th>\n      <th>Sal_max</th>\n      <th>Sal_mean</th>\n      <th>PYTHON</th>\n      <th>SQL</th>\n      <th>ML</th>\n      <th>AGILE</th>\n      <th>POWERBI</th>\n    </tr>\n  </thead>\n  <tbody>\n    <tr>\n      <th>0</th>\n      <td>ESP</td>\n      <td>J</td>\n      <td>3</td>\n      <td>101</td>\n      <td>1200</td>\n      <td>477.0</td>\n      <td>2</td>\n      <td>2</td>\n      <td>3</td>\n      <td>0</td>\n      <td>1</td>\n    </tr>\n    <tr>\n      <th>1</th>\n      <td>ESP</td>\n      <td>S</td>\n      <td>1</td>\n      <td>100</td>\n      <td>100</td>\n      <td>100.0</td>\n      <td>1</td>\n      <td>1</td>\n      <td>1</td>\n      <td>0</td>\n      <td>0</td>\n    </tr>\n    <tr>\n      <th>2</th>\n      <td>FRA</td>\n      <td>J</td>\n      <td>2</td>\n      <td>100</td>\n      <td>300</td>\n      <td>200.0</td>\n      <td>1</td>\n      <td>2</td>\n      <td>1</td>\n      <td>0</td>\n      <td>1</td>\n    </tr>\n    <tr>\n      <th>3</th>\n      <td>FRA</td>\n      <td>S</td>\n      <td>2</td>\n      <td>70</td>\n      <td>590</td>\n      <td>330.0</td>\n      <td>2</td>\n      <td>2</td>\n      <td>2</td>\n      <td>0</td>\n      <td>0</td>\n    </tr>\n    <tr>\n      <th>4</th>\n      <td>ITA</td>\n      <td>I</td>\n      <td>1</td>\n      <td>102</td>\n      <td>102</td>\n      <td>102.0</td>\n      <td>0</td>\n      <td>1</td>\n      <td>0</td>\n      <td>1</td>\n      <td>0</td>\n    </tr>\n    <tr>\n      <th>5</th>\n      <td>ITA</td>\n      <td>S</td>\n      <td>1</td>\n      <td>90</td>\n      <td>90</td>\n      <td>90.0</td>\n      <td>1</td>\n      <td>0</td>\n      <td>1</td>\n      <td>0</td>\n      <td>0</td>\n    </tr>\n    <tr>\n      <th>6</th>\n      <td>USA</td>\n      <td>I</td>\n      <td>3</td>\n      <td>60</td>\n      <td>540</td>\n      <td>250.0</td>\n      <td>0</td>\n      <td>2</td>\n      <td>1</td>\n      <td>2</td>\n      <td>0</td>\n    </tr>\n    <tr>\n      <th>7</th>\n      <td>USA</td>\n      <td>S</td>\n      <td>2</td>\n      <td>45</td>\n      <td>8000</td>\n      <td>4022.5</td>\n      <td>0</td>\n      <td>1</td>\n      <td>1</td>\n      <td>1</td>\n      <td>0</td>\n    </tr>\n  </tbody>\n</table>\n</div>"
     },
     "metadata": {},
     "execution_count": 128
    }
   ],
   "source": [
    "final_df"
   ]
  },
  {
   "cell_type": "code",
   "execution_count": 11,
   "metadata": {},
   "outputs": [
    {
     "output_type": "execute_result",
     "data": {
      "text/plain": "<matplotlib.axes._subplots.AxesSubplot at 0x7ff01ce64cd0>"
     },
     "metadata": {},
     "execution_count": 11
    },
    {
     "output_type": "display_data",
     "data": {
      "text/plain": "<Figure size 432x288 with 1 Axes>",
      "image/svg+xml": "<?xml version=\"1.0\" encoding=\"utf-8\" standalone=\"no\"?>\n<!DOCTYPE svg PUBLIC \"-//W3C//DTD SVG 1.1//EN\"\n  \"http://www.w3.org/Graphics/SVG/1.1/DTD/svg11.dtd\">\n<!-- Created with matplotlib (https://matplotlib.org/) -->\n<svg height=\"275.755pt\" version=\"1.1\" viewBox=\"0 0 362.5625 275.755\" width=\"362.5625pt\" xmlns=\"http://www.w3.org/2000/svg\" xmlns:xlink=\"http://www.w3.org/1999/xlink\">\n <defs>\n  <style type=\"text/css\">\n*{stroke-linecap:butt;stroke-linejoin:round;}\n  </style>\n </defs>\n <g id=\"figure_1\">\n  <g id=\"patch_1\">\n   <path d=\"M 0 275.755 \nL 362.5625 275.755 \nL 362.5625 0 \nL 0 0 \nz\n\" style=\"fill:none;\"/>\n  </g>\n  <g id=\"axes_1\">\n   <g id=\"patch_2\">\n    <path d=\"M 20.5625 239.758125 \nL 355.3625 239.758125 \nL 355.3625 22.318125 \nL 20.5625 22.318125 \nz\n\" style=\"fill:#ffffff;\"/>\n   </g>\n   <g id=\"patch_3\">\n    <path clip-path=\"url(#p5aacd1ba7d)\" d=\"M 37.3025 239.758125 \nL 70.7825 239.758125 \nL 70.7825 32.672411 \nL 37.3025 32.672411 \nz\n\" style=\"fill:#1f77b4;\"/>\n   </g>\n   <g id=\"patch_4\">\n    <path clip-path=\"url(#p5aacd1ba7d)\" d=\"M 104.2625 239.758125 \nL 137.7425 239.758125 \nL 137.7425 74.089554 \nL 104.2625 74.089554 \nz\n\" style=\"fill:#1f77b4;\"/>\n   </g>\n   <g id=\"patch_5\">\n    <path clip-path=\"url(#p5aacd1ba7d)\" d=\"M 171.2225 239.758125 \nL 204.7025 239.758125 \nL 204.7025 74.089554 \nL 171.2225 74.089554 \nz\n\" style=\"fill:#1f77b4;\"/>\n   </g>\n   <g id=\"patch_6\">\n    <path clip-path=\"url(#p5aacd1ba7d)\" d=\"M 238.1825 239.758125 \nL 271.6625 239.758125 \nL 271.6625 156.923839 \nL 238.1825 156.923839 \nz\n\" style=\"fill:#1f77b4;\"/>\n   </g>\n   <g id=\"patch_7\">\n    <path clip-path=\"url(#p5aacd1ba7d)\" d=\"M 305.1425 239.758125 \nL 338.6225 239.758125 \nL 338.6225 198.340982 \nL 305.1425 198.340982 \nz\n\" style=\"fill:#1f77b4;\"/>\n   </g>\n   <g id=\"matplotlib.axis_1\">\n    <g id=\"xtick_1\">\n     <g id=\"line2d_1\">\n      <defs>\n       <path d=\"M 0 0 \nL 0 3.5 \n\" id=\"m58cf3a12fd\" style=\"stroke:#000000;stroke-width:0.8;\"/>\n      </defs>\n      <g>\n       <use style=\"stroke:#000000;stroke-width:0.8;\" x=\"54.0425\" xlink:href=\"#m58cf3a12fd\" y=\"239.758125\"/>\n      </g>\n     </g>\n     <g id=\"text_1\">\n      <!-- USA -->\n      <defs>\n       <path d=\"M 8.6875 72.90625 \nL 18.609375 72.90625 \nL 18.609375 28.609375 \nQ 18.609375 16.890625 22.84375 11.734375 \nQ 27.09375 6.59375 36.625 6.59375 \nQ 46.09375 6.59375 50.34375 11.734375 \nQ 54.59375 16.890625 54.59375 28.609375 \nL 54.59375 72.90625 \nL 64.5 72.90625 \nL 64.5 27.390625 \nQ 64.5 13.140625 57.4375 5.859375 \nQ 50.390625 -1.421875 36.625 -1.421875 \nQ 22.796875 -1.421875 15.734375 5.859375 \nQ 8.6875 13.140625 8.6875 27.390625 \nz\n\" id=\"DejaVuSans-85\"/>\n       <path d=\"M 53.515625 70.515625 \nL 53.515625 60.890625 \nQ 47.90625 63.578125 42.921875 64.890625 \nQ 37.9375 66.21875 33.296875 66.21875 \nQ 25.25 66.21875 20.875 63.09375 \nQ 16.5 59.96875 16.5 54.203125 \nQ 16.5 49.359375 19.40625 46.890625 \nQ 22.3125 44.4375 30.421875 42.921875 \nL 36.375 41.703125 \nQ 47.40625 39.59375 52.65625 34.296875 \nQ 57.90625 29 57.90625 20.125 \nQ 57.90625 9.515625 50.796875 4.046875 \nQ 43.703125 -1.421875 29.984375 -1.421875 \nQ 24.8125 -1.421875 18.96875 -0.25 \nQ 13.140625 0.921875 6.890625 3.21875 \nL 6.890625 13.375 \nQ 12.890625 10.015625 18.65625 8.296875 \nQ 24.421875 6.59375 29.984375 6.59375 \nQ 38.421875 6.59375 43.015625 9.90625 \nQ 47.609375 13.234375 47.609375 19.390625 \nQ 47.609375 24.75 44.3125 27.78125 \nQ 41.015625 30.8125 33.5 32.328125 \nL 27.484375 33.5 \nQ 16.453125 35.6875 11.515625 40.375 \nQ 6.59375 45.0625 6.59375 53.421875 \nQ 6.59375 63.09375 13.40625 68.65625 \nQ 20.21875 74.21875 32.171875 74.21875 \nQ 37.3125 74.21875 42.625 73.28125 \nQ 47.953125 72.359375 53.515625 70.515625 \nz\n\" id=\"DejaVuSans-83\"/>\n       <path d=\"M 34.1875 63.1875 \nL 20.796875 26.90625 \nL 47.609375 26.90625 \nz\nM 28.609375 72.90625 \nL 39.796875 72.90625 \nL 67.578125 0 \nL 57.328125 0 \nL 50.6875 18.703125 \nL 17.828125 18.703125 \nL 11.1875 0 \nL 0.78125 0 \nz\n\" id=\"DejaVuSans-65\"/>\n      </defs>\n      <g transform=\"translate(56.801875 267.453438)rotate(-90)scale(0.1 -0.1)\">\n       <use xlink:href=\"#DejaVuSans-85\"/>\n       <use x=\"73.193359\" xlink:href=\"#DejaVuSans-83\"/>\n       <use x=\"138.544922\" xlink:href=\"#DejaVuSans-65\"/>\n      </g>\n     </g>\n    </g>\n    <g id=\"xtick_2\">\n     <g id=\"line2d_2\">\n      <g>\n       <use style=\"stroke:#000000;stroke-width:0.8;\" x=\"121.0025\" xlink:href=\"#m58cf3a12fd\" y=\"239.758125\"/>\n      </g>\n     </g>\n     <g id=\"text_2\">\n      <!-- ESP -->\n      <defs>\n       <path d=\"M 9.8125 72.90625 \nL 55.90625 72.90625 \nL 55.90625 64.59375 \nL 19.671875 64.59375 \nL 19.671875 43.015625 \nL 54.390625 43.015625 \nL 54.390625 34.71875 \nL 19.671875 34.71875 \nL 19.671875 8.296875 \nL 56.78125 8.296875 \nL 56.78125 0 \nL 9.8125 0 \nz\n\" id=\"DejaVuSans-69\"/>\n       <path d=\"M 19.671875 64.796875 \nL 19.671875 37.40625 \nL 32.078125 37.40625 \nQ 38.96875 37.40625 42.71875 40.96875 \nQ 46.484375 44.53125 46.484375 51.125 \nQ 46.484375 57.671875 42.71875 61.234375 \nQ 38.96875 64.796875 32.078125 64.796875 \nz\nM 9.8125 72.90625 \nL 32.078125 72.90625 \nQ 44.34375 72.90625 50.609375 67.359375 \nQ 56.890625 61.8125 56.890625 51.125 \nQ 56.890625 40.328125 50.609375 34.8125 \nQ 44.34375 29.296875 32.078125 29.296875 \nL 19.671875 29.296875 \nL 19.671875 0 \nL 9.8125 0 \nz\n\" id=\"DejaVuSans-80\"/>\n      </defs>\n      <g transform=\"translate(123.761875 265.455)rotate(-90)scale(0.1 -0.1)\">\n       <use xlink:href=\"#DejaVuSans-69\"/>\n       <use x=\"63.183594\" xlink:href=\"#DejaVuSans-83\"/>\n       <use x=\"126.660156\" xlink:href=\"#DejaVuSans-80\"/>\n      </g>\n     </g>\n    </g>\n    <g id=\"xtick_3\">\n     <g id=\"line2d_3\">\n      <g>\n       <use style=\"stroke:#000000;stroke-width:0.8;\" x=\"187.9625\" xlink:href=\"#m58cf3a12fd\" y=\"239.758125\"/>\n      </g>\n     </g>\n     <g id=\"text_3\">\n      <!-- FRA -->\n      <defs>\n       <path d=\"M 9.8125 72.90625 \nL 51.703125 72.90625 \nL 51.703125 64.59375 \nL 19.671875 64.59375 \nL 19.671875 43.109375 \nL 48.578125 43.109375 \nL 48.578125 34.8125 \nL 19.671875 34.8125 \nL 19.671875 0 \nL 9.8125 0 \nz\n\" id=\"DejaVuSans-70\"/>\n       <path d=\"M 44.390625 34.1875 \nQ 47.5625 33.109375 50.5625 29.59375 \nQ 53.5625 26.078125 56.59375 19.921875 \nL 66.609375 0 \nL 56 0 \nL 46.6875 18.703125 \nQ 43.0625 26.03125 39.671875 28.421875 \nQ 36.28125 30.8125 30.421875 30.8125 \nL 19.671875 30.8125 \nL 19.671875 0 \nL 9.8125 0 \nL 9.8125 72.90625 \nL 32.078125 72.90625 \nQ 44.578125 72.90625 50.734375 67.671875 \nQ 56.890625 62.453125 56.890625 51.90625 \nQ 56.890625 45.015625 53.6875 40.46875 \nQ 50.484375 35.9375 44.390625 34.1875 \nz\nM 19.671875 64.796875 \nL 19.671875 38.921875 \nL 32.078125 38.921875 \nQ 39.203125 38.921875 42.84375 42.21875 \nQ 46.484375 45.515625 46.484375 51.90625 \nQ 46.484375 58.296875 42.84375 61.546875 \nQ 39.203125 64.796875 32.078125 64.796875 \nz\n\" id=\"DejaVuSans-82\"/>\n      </defs>\n      <g transform=\"translate(190.721875 265.89875)rotate(-90)scale(0.1 -0.1)\">\n       <use xlink:href=\"#DejaVuSans-70\"/>\n       <use x=\"57.519531\" xlink:href=\"#DejaVuSans-82\"/>\n       <use x=\"123.001953\" xlink:href=\"#DejaVuSans-65\"/>\n      </g>\n     </g>\n    </g>\n    <g id=\"xtick_4\">\n     <g id=\"line2d_4\">\n      <g>\n       <use style=\"stroke:#000000;stroke-width:0.8;\" x=\"254.9225\" xlink:href=\"#m58cf3a12fd\" y=\"239.758125\"/>\n      </g>\n     </g>\n     <g id=\"text_4\">\n      <!-- ITA -->\n      <defs>\n       <path d=\"M 9.8125 72.90625 \nL 19.671875 72.90625 \nL 19.671875 0 \nL 9.8125 0 \nz\n\" id=\"DejaVuSans-73\"/>\n       <path d=\"M -0.296875 72.90625 \nL 61.375 72.90625 \nL 61.375 64.59375 \nL 35.5 64.59375 \nL 35.5 0 \nL 25.59375 0 \nL 25.59375 64.59375 \nL -0.296875 64.59375 \nz\n\" id=\"DejaVuSans-84\"/>\n      </defs>\n      <g transform=\"translate(257.681875 261.881562)rotate(-90)scale(0.1 -0.1)\">\n       <use xlink:href=\"#DejaVuSans-73\"/>\n       <use x=\"29.492188\" xlink:href=\"#DejaVuSans-84\"/>\n       <use x=\"82.826172\" xlink:href=\"#DejaVuSans-65\"/>\n      </g>\n     </g>\n    </g>\n    <g id=\"xtick_5\">\n     <g id=\"line2d_5\">\n      <g>\n       <use style=\"stroke:#000000;stroke-width:0.8;\" x=\"321.8825\" xlink:href=\"#m58cf3a12fd\" y=\"239.758125\"/>\n      </g>\n     </g>\n     <g id=\"text_5\">\n      <!-- MEX -->\n      <defs>\n       <path d=\"M 9.8125 72.90625 \nL 24.515625 72.90625 \nL 43.109375 23.296875 \nL 61.8125 72.90625 \nL 76.515625 72.90625 \nL 76.515625 0 \nL 66.890625 0 \nL 66.890625 64.015625 \nL 48.09375 14.015625 \nL 38.1875 14.015625 \nL 19.390625 64.015625 \nL 19.390625 0 \nL 9.8125 0 \nz\n\" id=\"DejaVuSans-77\"/>\n       <path d=\"M 6.296875 72.90625 \nL 16.890625 72.90625 \nL 35.015625 45.796875 \nL 53.21875 72.90625 \nL 63.8125 72.90625 \nL 40.375 37.890625 \nL 65.375 0 \nL 54.78125 0 \nL 34.28125 31 \nL 13.625 0 \nL 2.984375 0 \nL 29 38.921875 \nz\n\" id=\"DejaVuSans-88\"/>\n      </defs>\n      <g transform=\"translate(324.641875 268.555)rotate(-90)scale(0.1 -0.1)\">\n       <use xlink:href=\"#DejaVuSans-77\"/>\n       <use x=\"86.279297\" xlink:href=\"#DejaVuSans-69\"/>\n       <use x=\"149.462891\" xlink:href=\"#DejaVuSans-88\"/>\n      </g>\n     </g>\n    </g>\n   </g>\n   <g id=\"matplotlib.axis_2\">\n    <g id=\"ytick_1\">\n     <g id=\"line2d_6\">\n      <defs>\n       <path d=\"M 0 0 \nL -3.5 0 \n\" id=\"md80272e516\" style=\"stroke:#000000;stroke-width:0.8;\"/>\n      </defs>\n      <g>\n       <use style=\"stroke:#000000;stroke-width:0.8;\" x=\"20.5625\" xlink:href=\"#md80272e516\" y=\"239.758125\"/>\n      </g>\n     </g>\n     <g id=\"text_6\">\n      <!-- 0 -->\n      <defs>\n       <path d=\"M 31.78125 66.40625 \nQ 24.171875 66.40625 20.328125 58.90625 \nQ 16.5 51.421875 16.5 36.375 \nQ 16.5 21.390625 20.328125 13.890625 \nQ 24.171875 6.390625 31.78125 6.390625 \nQ 39.453125 6.390625 43.28125 13.890625 \nQ 47.125 21.390625 47.125 36.375 \nQ 47.125 51.421875 43.28125 58.90625 \nQ 39.453125 66.40625 31.78125 66.40625 \nz\nM 31.78125 74.21875 \nQ 44.046875 74.21875 50.515625 64.515625 \nQ 56.984375 54.828125 56.984375 36.375 \nQ 56.984375 17.96875 50.515625 8.265625 \nQ 44.046875 -1.421875 31.78125 -1.421875 \nQ 19.53125 -1.421875 13.0625 8.265625 \nQ 6.59375 17.96875 6.59375 36.375 \nQ 6.59375 54.828125 13.0625 64.515625 \nQ 19.53125 74.21875 31.78125 74.21875 \nz\n\" id=\"DejaVuSans-48\"/>\n      </defs>\n      <g transform=\"translate(7.2 243.557344)scale(0.1 -0.1)\">\n       <use xlink:href=\"#DejaVuSans-48\"/>\n      </g>\n     </g>\n    </g>\n    <g id=\"ytick_2\">\n     <g id=\"line2d_7\">\n      <g>\n       <use style=\"stroke:#000000;stroke-width:0.8;\" x=\"20.5625\" xlink:href=\"#md80272e516\" y=\"198.340982\"/>\n      </g>\n     </g>\n     <g id=\"text_7\">\n      <!-- 1 -->\n      <defs>\n       <path d=\"M 12.40625 8.296875 \nL 28.515625 8.296875 \nL 28.515625 63.921875 \nL 10.984375 60.40625 \nL 10.984375 69.390625 \nL 28.421875 72.90625 \nL 38.28125 72.90625 \nL 38.28125 8.296875 \nL 54.390625 8.296875 \nL 54.390625 0 \nL 12.40625 0 \nz\n\" id=\"DejaVuSans-49\"/>\n      </defs>\n      <g transform=\"translate(7.2 202.140201)scale(0.1 -0.1)\">\n       <use xlink:href=\"#DejaVuSans-49\"/>\n      </g>\n     </g>\n    </g>\n    <g id=\"ytick_3\">\n     <g id=\"line2d_8\">\n      <g>\n       <use style=\"stroke:#000000;stroke-width:0.8;\" x=\"20.5625\" xlink:href=\"#md80272e516\" y=\"156.923839\"/>\n      </g>\n     </g>\n     <g id=\"text_8\">\n      <!-- 2 -->\n      <defs>\n       <path d=\"M 19.1875 8.296875 \nL 53.609375 8.296875 \nL 53.609375 0 \nL 7.328125 0 \nL 7.328125 8.296875 \nQ 12.9375 14.109375 22.625 23.890625 \nQ 32.328125 33.6875 34.8125 36.53125 \nQ 39.546875 41.84375 41.421875 45.53125 \nQ 43.3125 49.21875 43.3125 52.78125 \nQ 43.3125 58.59375 39.234375 62.25 \nQ 35.15625 65.921875 28.609375 65.921875 \nQ 23.96875 65.921875 18.8125 64.3125 \nQ 13.671875 62.703125 7.8125 59.421875 \nL 7.8125 69.390625 \nQ 13.765625 71.78125 18.9375 73 \nQ 24.125 74.21875 28.421875 74.21875 \nQ 39.75 74.21875 46.484375 68.546875 \nQ 53.21875 62.890625 53.21875 53.421875 \nQ 53.21875 48.921875 51.53125 44.890625 \nQ 49.859375 40.875 45.40625 35.40625 \nQ 44.1875 33.984375 37.640625 27.21875 \nQ 31.109375 20.453125 19.1875 8.296875 \nz\n\" id=\"DejaVuSans-50\"/>\n      </defs>\n      <g transform=\"translate(7.2 160.723058)scale(0.1 -0.1)\">\n       <use xlink:href=\"#DejaVuSans-50\"/>\n      </g>\n     </g>\n    </g>\n    <g id=\"ytick_4\">\n     <g id=\"line2d_9\">\n      <g>\n       <use style=\"stroke:#000000;stroke-width:0.8;\" x=\"20.5625\" xlink:href=\"#md80272e516\" y=\"115.506696\"/>\n      </g>\n     </g>\n     <g id=\"text_9\">\n      <!-- 3 -->\n      <defs>\n       <path d=\"M 40.578125 39.3125 \nQ 47.65625 37.796875 51.625 33 \nQ 55.609375 28.21875 55.609375 21.1875 \nQ 55.609375 10.40625 48.1875 4.484375 \nQ 40.765625 -1.421875 27.09375 -1.421875 \nQ 22.515625 -1.421875 17.65625 -0.515625 \nQ 12.796875 0.390625 7.625 2.203125 \nL 7.625 11.71875 \nQ 11.71875 9.328125 16.59375 8.109375 \nQ 21.484375 6.890625 26.8125 6.890625 \nQ 36.078125 6.890625 40.9375 10.546875 \nQ 45.796875 14.203125 45.796875 21.1875 \nQ 45.796875 27.640625 41.28125 31.265625 \nQ 36.765625 34.90625 28.71875 34.90625 \nL 20.21875 34.90625 \nL 20.21875 43.015625 \nL 29.109375 43.015625 \nQ 36.375 43.015625 40.234375 45.921875 \nQ 44.09375 48.828125 44.09375 54.296875 \nQ 44.09375 59.90625 40.109375 62.90625 \nQ 36.140625 65.921875 28.71875 65.921875 \nQ 24.65625 65.921875 20.015625 65.03125 \nQ 15.375 64.15625 9.8125 62.3125 \nL 9.8125 71.09375 \nQ 15.4375 72.65625 20.34375 73.4375 \nQ 25.25 74.21875 29.59375 74.21875 \nQ 40.828125 74.21875 47.359375 69.109375 \nQ 53.90625 64.015625 53.90625 55.328125 \nQ 53.90625 49.265625 50.4375 45.09375 \nQ 46.96875 40.921875 40.578125 39.3125 \nz\n\" id=\"DejaVuSans-51\"/>\n      </defs>\n      <g transform=\"translate(7.2 119.305915)scale(0.1 -0.1)\">\n       <use xlink:href=\"#DejaVuSans-51\"/>\n      </g>\n     </g>\n    </g>\n    <g id=\"ytick_5\">\n     <g id=\"line2d_10\">\n      <g>\n       <use style=\"stroke:#000000;stroke-width:0.8;\" x=\"20.5625\" xlink:href=\"#md80272e516\" y=\"74.089554\"/>\n      </g>\n     </g>\n     <g id=\"text_10\">\n      <!-- 4 -->\n      <defs>\n       <path d=\"M 37.796875 64.3125 \nL 12.890625 25.390625 \nL 37.796875 25.390625 \nz\nM 35.203125 72.90625 \nL 47.609375 72.90625 \nL 47.609375 25.390625 \nL 58.015625 25.390625 \nL 58.015625 17.1875 \nL 47.609375 17.1875 \nL 47.609375 0 \nL 37.796875 0 \nL 37.796875 17.1875 \nL 4.890625 17.1875 \nL 4.890625 26.703125 \nz\n\" id=\"DejaVuSans-52\"/>\n      </defs>\n      <g transform=\"translate(7.2 77.888772)scale(0.1 -0.1)\">\n       <use xlink:href=\"#DejaVuSans-52\"/>\n      </g>\n     </g>\n    </g>\n    <g id=\"ytick_6\">\n     <g id=\"line2d_11\">\n      <g>\n       <use style=\"stroke:#000000;stroke-width:0.8;\" x=\"20.5625\" xlink:href=\"#md80272e516\" y=\"32.672411\"/>\n      </g>\n     </g>\n     <g id=\"text_11\">\n      <!-- 5 -->\n      <defs>\n       <path d=\"M 10.796875 72.90625 \nL 49.515625 72.90625 \nL 49.515625 64.59375 \nL 19.828125 64.59375 \nL 19.828125 46.734375 \nQ 21.96875 47.46875 24.109375 47.828125 \nQ 26.265625 48.1875 28.421875 48.1875 \nQ 40.625 48.1875 47.75 41.5 \nQ 54.890625 34.8125 54.890625 23.390625 \nQ 54.890625 11.625 47.5625 5.09375 \nQ 40.234375 -1.421875 26.90625 -1.421875 \nQ 22.3125 -1.421875 17.546875 -0.640625 \nQ 12.796875 0.140625 7.71875 1.703125 \nL 7.71875 11.625 \nQ 12.109375 9.234375 16.796875 8.0625 \nQ 21.484375 6.890625 26.703125 6.890625 \nQ 35.15625 6.890625 40.078125 11.328125 \nQ 45.015625 15.765625 45.015625 23.390625 \nQ 45.015625 31 40.078125 35.4375 \nQ 35.15625 39.890625 26.703125 39.890625 \nQ 22.75 39.890625 18.8125 39.015625 \nQ 14.890625 38.140625 10.796875 36.28125 \nz\n\" id=\"DejaVuSans-53\"/>\n      </defs>\n      <g transform=\"translate(7.2 36.471629)scale(0.1 -0.1)\">\n       <use xlink:href=\"#DejaVuSans-53\"/>\n      </g>\n     </g>\n    </g>\n   </g>\n   <g id=\"patch_8\">\n    <path d=\"M 20.5625 239.758125 \nL 20.5625 22.318125 \n\" style=\"fill:none;stroke:#000000;stroke-linecap:square;stroke-linejoin:miter;stroke-width:0.8;\"/>\n   </g>\n   <g id=\"patch_9\">\n    <path d=\"M 355.3625 239.758125 \nL 355.3625 22.318125 \n\" style=\"fill:none;stroke:#000000;stroke-linecap:square;stroke-linejoin:miter;stroke-width:0.8;\"/>\n   </g>\n   <g id=\"patch_10\">\n    <path d=\"M 20.5625 239.758125 \nL 355.3625 239.758125 \n\" style=\"fill:none;stroke:#000000;stroke-linecap:square;stroke-linejoin:miter;stroke-width:0.8;\"/>\n   </g>\n   <g id=\"patch_11\">\n    <path d=\"M 20.5625 22.318125 \nL 355.3625 22.318125 \n\" style=\"fill:none;stroke:#000000;stroke-linecap:square;stroke-linejoin:miter;stroke-width:0.8;\"/>\n   </g>\n   <g id=\"text_12\">\n    <!-- PAIS -->\n    <g transform=\"translate(175.04375 16.318125)scale(0.12 -0.12)\">\n     <use xlink:href=\"#DejaVuSans-80\"/>\n     <use x=\"53.927734\" xlink:href=\"#DejaVuSans-65\"/>\n     <use x=\"122.335938\" xlink:href=\"#DejaVuSans-73\"/>\n     <use x=\"151.828125\" xlink:href=\"#DejaVuSans-83\"/>\n    </g>\n   </g>\n  </g>\n </g>\n <defs>\n  <clipPath id=\"p5aacd1ba7d\">\n   <rect height=\"217.44\" width=\"334.8\" x=\"20.5625\" y=\"22.318125\"/>\n  </clipPath>\n </defs>\n</svg>\n",
      "image/png": "[encoded data removed]"
     },
     "metadata": {
      "needs_background": "light"
     }
    }
   ],
   "source": [
    "dset['PAIS'].value_counts().plot(kind='bar', \n",
    "                                     title='PAIS')"
   ]
  },
  {
   "cell_type": "code",
   "execution_count": 80,
   "metadata": {},
   "outputs": [
    {
     "output_type": "display_data",
     "data": {
      "application/vnd.plotly.v1+json": {
       "config": {
        "plotlyServerURL": "https://plot.ly"
       },
       "data": [
        {
         "alignmentgroup": "True",
         "hovertemplate": "PAIS=ESP<br>EXP=%{x}<br>size=%{y}<extra></extra>",
         "legendgroup": "ESP",
         "marker": {
          "color": "#636efa"
         },
         "name": "ESP",
         "offsetgroup": "ESP",
         "orientation": "v",
         "showlegend": true,
         "textposition": "auto",
         "type": "bar",
         "x": [
          "J",
          "J",
          "J",
          "S"
         ],
         "xaxis": "x",
         "y": [
          1,
          1,
          1,
          1
         ],
         "yaxis": "y"
        },
        {
         "alignmentgroup": "True",
         "hovertemplate": "PAIS=FRA<br>EXP=%{x}<br>size=%{y}<extra></extra>",
         "legendgroup": "FRA",
         "marker": {
          "color": "#EF553B"
         },
         "name": "FRA",
         "offsetgroup": "FRA",
         "orientation": "v",
         "showlegend": true,
         "textposition": "auto",
         "type": "bar",
         "x": [
          "J",
          "J",
          "S",
          "S"
         ],
         "xaxis": "x",
         "y": [
          1,
          1,
          1,
          1
         ],
         "yaxis": "y"
        },
        {
         "alignmentgroup": "True",
         "hovertemplate": "PAIS=ITA<br>EXP=%{x}<br>size=%{y}<extra></extra>",
         "legendgroup": "ITA",
         "marker": {
          "color": "#00cc96"
         },
         "name": "ITA",
         "offsetgroup": "ITA",
         "orientation": "v",
         "showlegend": true,
         "textposition": "auto",
         "type": "bar",
         "x": [
          "I",
          "S"
         ],
         "xaxis": "x",
         "y": [
          1,
          1
         ],
         "yaxis": "y"
        },
        {
         "alignmentgroup": "True",
         "hovertemplate": "PAIS=USA<br>EXP=%{x}<br>size=%{y}<extra></extra>",
         "legendgroup": "USA",
         "marker": {
          "color": "#ab63fa"
         },
         "name": "USA",
         "offsetgroup": "USA",
         "orientation": "v",
         "showlegend": true,
         "textposition": "auto",
         "type": "bar",
         "x": [
          "I",
          "I",
          "I",
          "S"
         ],
         "xaxis": "x",
         "y": [
          1,
          1,
          1,
          2
         ],
         "yaxis": "y"
        }
       ],
       "layout": {
        "barmode": "group",
        "legend": {
         "title": {
          "text": "PAIS"
         },
         "tracegroupgap": 0
        },
        "margin": {
         "t": 60
        },
        "template": {
         "data": {
          "bar": [
           {
            "error_x": {
             "color": "#2a3f5f"
            },
            "error_y": {
             "color": "#2a3f5f"
            },
            "marker": {
             "line": {
              "color": "#E5ECF6",
              "width": 0.5
             }
            },
            "type": "bar"
           }
          ],
          "barpolar": [
           {
            "marker": {
             "line": {
              "color": "#E5ECF6",
              "width": 0.5
             }
            },
            "type": "barpolar"
           }
          ],
          "carpet": [
           {
            "aaxis": {
             "endlinecolor": "#2a3f5f",
             "gridcolor": "white",
             "linecolor": "white",
             "minorgridcolor": "white",
             "startlinecolor": "#2a3f5f"
            },
            "baxis": {
             "endlinecolor": "#2a3f5f",
             "gridcolor": "white",
             "linecolor": "white",
             "minorgridcolor": "white",
             "startlinecolor": "#2a3f5f"
            },
            "type": "carpet"
           }
          ],
          "choropleth": [
           {
            "colorbar": {
             "outlinewidth": 0,
             "ticks": ""
            },
            "type": "choropleth"
           }
          ],
          "contour": [
           {
            "colorbar": {
             "outlinewidth": 0,
             "ticks": ""
            },
            "colorscale": [
             [
              0,
              "#0d0887"
             ],
             [
              0.1111111111111111,
              "#46039f"
             ],
             [
              0.2222222222222222,
              "#7201a8"
             ],
             [
              0.3333333333333333,
              "#9c179e"
             ],
             [
              0.4444444444444444,
              "#bd3786"
             ],
             [
              0.5555555555555556,
              "#d8576b"
             ],
             [
              0.6666666666666666,
              "#ed7953"
             ],
             [
              0.7777777777777778,
              "#fb9f3a"
             ],
             [
              0.8888888888888888,
              "#fdca26"
             ],
             [
              1,
              "#f0f921"
             ]
            ],
            "type": "contour"
           }
          ],
          "contourcarpet": [
           {
            "colorbar": {
             "outlinewidth": 0,
             "ticks": ""
            },
            "type": "contourcarpet"
           }
          ],
          "heatmap": [
           {
            "colorbar": {
             "outlinewidth": 0,
             "ticks": ""
            },
            "colorscale": [
             [
              0,
              "#0d0887"
             ],
             [
              0.1111111111111111,
              "#46039f"
             ],
             [
              0.2222222222222222,
              "#7201a8"
             ],
             [
              0.3333333333333333,
              "#9c179e"
             ],
             [
              0.4444444444444444,
              "#bd3786"
             ],
             [
              0.5555555555555556,
              "#d8576b"
             ],
             [
              0.6666666666666666,
              "#ed7953"
             ],
             [
              0.7777777777777778,
              "#fb9f3a"
             ],
             [
              0.8888888888888888,
              "#fdca26"
             ],
             [
              1,
              "#f0f921"
             ]
            ],
            "type": "heatmap"
           }
          ],
          "heatmapgl": [
           {
            "colorbar": {
             "outlinewidth": 0,
             "ticks": ""
            },
            "colorscale": [
             [
              0,
              "#0d0887"
             ],
             [
              0.1111111111111111,
              "#46039f"
             ],
             [
              0.2222222222222222,
              "#7201a8"
             ],
             [
              0.3333333333333333,
              "#9c179e"
             ],
             [
              0.4444444444444444,
              "#bd3786"
             ],
             [
              0.5555555555555556,
              "#d8576b"
             ],
             [
              0.6666666666666666,
              "#ed7953"
             ],
             [
              0.7777777777777778,
              "#fb9f3a"
             ],
             [
              0.8888888888888888,
              "#fdca26"
             ],
             [
              1,
              "#f0f921"
             ]
            ],
            "type": "heatmapgl"
           }
          ],
          "histogram": [
           {
            "marker": {
             "colorbar": {
              "outlinewidth": 0,
              "ticks": ""
             }
            },
            "type": "histogram"
           }
          ],
          "histogram2d": [
           {
            "colorbar": {
             "outlinewidth": 0,
             "ticks": ""
            },
            "colorscale": [
             [
              0,
              "#0d0887"
             ],
             [
              0.1111111111111111,
              "#46039f"
             ],
             [
              0.2222222222222222,
              "#7201a8"
             ],
             [
              0.3333333333333333,
              "#9c179e"
             ],
             [
              0.4444444444444444,
              "#bd3786"
             ],
             [
              0.5555555555555556,
              "#d8576b"
             ],
             [
              0.6666666666666666,
              "#ed7953"
             ],
             [
              0.7777777777777778,
              "#fb9f3a"
             ],
             [
              0.8888888888888888,
              "#fdca26"
             ],
             [
              1,
              "#f0f921"
             ]
            ],
            "type": "histogram2d"
           }
          ],
          "histogram2dcontour": [
           {
            "colorbar": {
             "outlinewidth": 0,
             "ticks": ""
            },
            "colorscale": [
             [
              0,
              "#0d0887"
             ],
             [
              0.1111111111111111,
              "#46039f"
             ],
             [
              0.2222222222222222,
              "#7201a8"
             ],
             [
              0.3333333333333333,
              "#9c179e"
             ],
             [
              0.4444444444444444,
              "#bd3786"
             ],
             [
              0.5555555555555556,
              "#d8576b"
             ],
             [
              0.6666666666666666,
              "#ed7953"
             ],
             [
              0.7777777777777778,
              "#fb9f3a"
             ],
             [
              0.8888888888888888,
              "#fdca26"
             ],
             [
              1,
              "#f0f921"
             ]
            ],
            "type": "histogram2dcontour"
           }
          ],
          "mesh3d": [
           {
            "colorbar": {
             "outlinewidth": 0,
             "ticks": ""
            },
            "type": "mesh3d"
           }
          ],
          "parcoords": [
           {
            "line": {
             "colorbar": {
              "outlinewidth": 0,
              "ticks": ""
             }
            },
            "type": "parcoords"
           }
          ],
          "pie": [
           {
            "automargin": true,
            "type": "pie"
           }
          ],
          "scatter": [
           {
            "marker": {
             "colorbar": {
              "outlinewidth": 0,
              "ticks": ""
             }
            },
            "type": "scatter"
           }
          ],
          "scatter3d": [
           {
            "line": {
             "colorbar": {
              "outlinewidth": 0,
              "ticks": ""
             }
            },
            "marker": {
             "colorbar": {
              "outlinewidth": 0,
              "ticks": ""
             }
            },
            "type": "scatter3d"
           }
          ],
          "scattercarpet": [
           {
            "marker": {
             "colorbar": {
              "outlinewidth": 0,
              "ticks": ""
             }
            },
            "type": "scattercarpet"
           }
          ],
          "scattergeo": [
           {
            "marker": {
             "colorbar": {
              "outlinewidth": 0,
              "ticks": ""
             }
            },
            "type": "scattergeo"
           }
          ],
          "scattergl": [
           {
            "marker": {
             "colorbar": {
              "outlinewidth": 0,
              "ticks": ""
             }
            },
            "type": "scattergl"
           }
          ],
          "scattermapbox": [
           {
            "marker": {
             "colorbar": {
              "outlinewidth": 0,
              "ticks": ""
             }
            },
            "type": "scattermapbox"
           }
          ],
          "scatterpolar": [
           {
            "marker": {
             "colorbar": {
              "outlinewidth": 0,
              "ticks": ""
             }
            },
            "type": "scatterpolar"
           }
          ],
          "scatterpolargl": [
           {
            "marker": {
             "colorbar": {
              "outlinewidth": 0,
              "ticks": ""
             }
            },
            "type": "scatterpolargl"
           }
          ],
          "scatterternary": [
           {
            "marker": {
             "colorbar": {
              "outlinewidth": 0,
              "ticks": ""
             }
            },
            "type": "scatterternary"
           }
          ],
          "surface": [
           {
            "colorbar": {
             "outlinewidth": 0,
             "ticks": ""
            },
            "colorscale": [
             [
              0,
              "#0d0887"
             ],
             [
              0.1111111111111111,
              "#46039f"
             ],
             [
              0.2222222222222222,
              "#7201a8"
             ],
             [
              0.3333333333333333,
              "#9c179e"
             ],
             [
              0.4444444444444444,
              "#bd3786"
             ],
             [
              0.5555555555555556,
              "#d8576b"
             ],
             [
              0.6666666666666666,
              "#ed7953"
             ],
             [
              0.7777777777777778,
              "#fb9f3a"
             ],
             [
              0.8888888888888888,
              "#fdca26"
             ],
             [
              1,
              "#f0f921"
             ]
            ],
            "type": "surface"
           }
          ],
          "table": [
           {
            "cells": {
             "fill": {
              "color": "#EBF0F8"
             },
             "line": {
              "color": "white"
             }
            },
            "header": {
             "fill": {
              "color": "#C8D4E3"
             },
             "line": {
              "color": "white"
             }
            },
            "type": "table"
           }
          ]
         },
         "layout": {
          "annotationdefaults": {
           "arrowcolor": "#2a3f5f",
           "arrowhead": 0,
           "arrowwidth": 1
          },
          "coloraxis": {
           "colorbar": {
            "outlinewidth": 0,
            "ticks": ""
           }
          },
          "colorscale": {
           "diverging": [
            [
             0,
             "#8e0152"
            ],
            [
             0.1,
             "#c51b7d"
            ],
            [
             0.2,
             "#de77ae"
            ],
            [
             0.3,
             "#f1b6da"
            ],
            [
             0.4,
             "#fde0ef"
            ],
            [
             0.5,
             "#f7f7f7"
            ],
            [
             0.6,
             "#e6f5d0"
            ],
            [
             0.7,
             "#b8e186"
            ],
            [
             0.8,
             "#7fbc41"
            ],
            [
             0.9,
             "#4d9221"
            ],
            [
             1,
             "#276419"
            ]
           ],
           "sequential": [
            [
             0,
             "#0d0887"
            ],
            [
             0.1111111111111111,
             "#46039f"
            ],
            [
             0.2222222222222222,
             "#7201a8"
            ],
            [
             0.3333333333333333,
             "#9c179e"
            ],
            [
             0.4444444444444444,
             "#bd3786"
            ],
            [
             0.5555555555555556,
             "#d8576b"
            ],
            [
             0.6666666666666666,
             "#ed7953"
            ],
            [
             0.7777777777777778,
             "#fb9f3a"
            ],
            [
             0.8888888888888888,
             "#fdca26"
            ],
            [
             1,
             "#f0f921"
            ]
           ],
           "sequentialminus": [
            [
             0,
             "#0d0887"
            ],
            [
             0.1111111111111111,
             "#46039f"
            ],
            [
             0.2222222222222222,
             "#7201a8"
            ],
            [
             0.3333333333333333,
             "#9c179e"
            ],
            [
             0.4444444444444444,
             "#bd3786"
            ],
            [
             0.5555555555555556,
             "#d8576b"
            ],
            [
             0.6666666666666666,
             "#ed7953"
            ],
            [
             0.7777777777777778,
             "#fb9f3a"
            ],
            [
             0.8888888888888888,
             "#fdca26"
            ],
            [
             1,
             "#f0f921"
            ]
           ]
          },
          "colorway": [
           "#636efa",
           "#EF553B",
           "#00cc96",
           "#ab63fa",
           "#FFA15A",
           "#19d3f3",
           "#FF6692",
           "#B6E880",
           "#FF97FF",
           "#FECB52"
          ],
          "font": {
           "color": "#2a3f5f"
          },
          "geo": {
           "bgcolor": "white",
           "lakecolor": "white",
           "landcolor": "#E5ECF6",
           "showlakes": true,
           "showland": true,
           "subunitcolor": "white"
          },
          "hoverlabel": {
           "align": "left"
          },
          "hovermode": "closest",
          "mapbox": {
           "style": "light"
          },
          "paper_bgcolor": "white",
          "plot_bgcolor": "#E5ECF6",
          "polar": {
           "angularaxis": {
            "gridcolor": "white",
            "linecolor": "white",
            "ticks": ""
           },
           "bgcolor": "#E5ECF6",
           "radialaxis": {
            "gridcolor": "white",
            "linecolor": "white",
            "ticks": ""
           }
          },
          "scene": {
           "xaxis": {
            "backgroundcolor": "#E5ECF6",
            "gridcolor": "white",
            "gridwidth": 2,
            "linecolor": "white",
            "showbackground": true,
            "ticks": "",
            "zerolinecolor": "white"
           },
           "yaxis": {
            "backgroundcolor": "#E5ECF6",
            "gridcolor": "white",
            "gridwidth": 2,
            "linecolor": "white",
            "showbackground": true,
            "ticks": "",
            "zerolinecolor": "white"
           },
           "zaxis": {
            "backgroundcolor": "#E5ECF6",
            "gridcolor": "white",
            "gridwidth": 2,
            "linecolor": "white",
            "showbackground": true,
            "ticks": "",
            "zerolinecolor": "white"
           }
          },
          "shapedefaults": {
           "line": {
            "color": "#2a3f5f"
           }
          },
          "ternary": {
           "aaxis": {
            "gridcolor": "white",
            "linecolor": "white",
            "ticks": ""
           },
           "baxis": {
            "gridcolor": "white",
            "linecolor": "white",
            "ticks": ""
           },
           "bgcolor": "#E5ECF6",
           "caxis": {
            "gridcolor": "white",
            "linecolor": "white",
            "ticks": ""
           }
          },
          "title": {
           "x": 0.05
          },
          "xaxis": {
           "automargin": true,
           "gridcolor": "white",
           "linecolor": "white",
           "ticks": "",
           "title": {
            "standoff": 15
           },
           "zerolinecolor": "white",
           "zerolinewidth": 2
          },
          "yaxis": {
           "automargin": true,
           "gridcolor": "white",
           "linecolor": "white",
           "ticks": "",
           "title": {
            "standoff": 15
           },
           "zerolinecolor": "white",
           "zerolinewidth": 2
          }
         }
        },
        "xaxis": {
         "anchor": "y",
         "domain": [
          0,
          1
         ],
         "title": {
          "text": "EXP"
         }
        },
        "yaxis": {
         "anchor": "x",
         "domain": [
          0,
          1
         ],
         "title": {
          "text": "size"
         }
        }
       }
      }
     },
     "metadata": {}
    }
   ],
   "source": [
    "\n",
    "fig = px.bar(df,x = \"EXP\" , y= \"size\" , color= \"PAIS\", barmode= \"group\")\n",
    "fig.show()"
   ]
  },
  {
   "cell_type": "code",
   "execution_count": 15,
   "metadata": {},
   "outputs": [
    {
     "output_type": "execute_result",
     "data": {
      "text/plain": "<matplotlib.axes._subplots.AxesSubplot at 0x7ff01de41940>"
     },
     "metadata": {},
     "execution_count": 15
    },
    {
     "output_type": "display_data",
     "data": {
      "text/plain": "<Figure size 432x288 with 1 Axes>",
      "image/svg+xml": "<?xml version=\"1.0\" encoding=\"utf-8\" standalone=\"no\"?>\n<!DOCTYPE svg PUBLIC \"-//W3C//DTD SVG 1.1//EN\"\n  \"http://www.w3.org/Graphics/SVG/1.1/DTD/svg11.dtd\">\n<!-- Created with matplotlib (https://matplotlib.org/) -->\n<svg height=\"288.94875pt\" version=\"1.1\" viewBox=\"0 0 372.103125 288.94875\" width=\"372.103125pt\" xmlns=\"http://www.w3.org/2000/svg\" xmlns:xlink=\"http://www.w3.org/1999/xlink\">\n <defs>\n  <style type=\"text/css\">\n*{stroke-linecap:butt;stroke-linejoin:round;}\n  </style>\n </defs>\n <g id=\"figure_1\">\n  <g id=\"patch_1\">\n   <path d=\"M 0 288.94875 \nL 372.103125 288.94875 \nL 372.103125 0 \nL 0 0 \nz\n\" style=\"fill:none;\"/>\n  </g>\n  <g id=\"axes_1\">\n   <g id=\"patch_2\">\n    <path d=\"M 30.103125 239.758125 \nL 364.903125 239.758125 \nL 364.903125 22.318125 \nL 30.103125 22.318125 \nz\n\" style=\"fill:#ffffff;\"/>\n   </g>\n   <g id=\"patch_3\">\n    <path clip-path=\"url(#pef3780588a)\" d=\"M 33.203125 239.758125 \nL 34.236458 239.758125 \nL 34.236458 239.758125 \nL 33.203125 239.758125 \nz\n\" style=\"fill:#1f77b4;\"/>\n   </g>\n   <g id=\"patch_4\">\n    <path clip-path=\"url(#pef3780588a)\" d=\"M 45.603125 239.758125 \nL 46.636458 239.758125 \nL 46.636458 239.758125 \nL 45.603125 239.758125 \nz\n\" style=\"fill:#1f77b4;\"/>\n   </g>\n   <g id=\"patch_5\">\n    <path clip-path=\"url(#pef3780588a)\" d=\"M 58.003125 239.758125 \nL 59.036458 239.758125 \nL 59.036458 239.758125 \nL 58.003125 239.758125 \nz\n\" style=\"fill:#1f77b4;\"/>\n   </g>\n   <g id=\"patch_6\">\n    <path clip-path=\"url(#pef3780588a)\" d=\"M 70.403125 239.758125 \nL 71.436458 239.758125 \nL 71.436458 239.758125 \nL 70.403125 239.758125 \nz\n\" style=\"fill:#1f77b4;\"/>\n   </g>\n   <g id=\"patch_7\">\n    <path clip-path=\"url(#pef3780588a)\" d=\"M 82.803125 239.758125 \nL 83.836458 239.758125 \nL 83.836458 239.758125 \nL 82.803125 239.758125 \nz\n\" style=\"fill:#1f77b4;\"/>\n   </g>\n   <g id=\"patch_8\">\n    <path clip-path=\"url(#pef3780588a)\" d=\"M 95.203125 239.758125 \nL 96.236458 239.758125 \nL 96.236458 239.758125 \nL 95.203125 239.758125 \nz\n\" style=\"fill:#1f77b4;\"/>\n   </g>\n   <g id=\"patch_9\">\n    <path clip-path=\"url(#pef3780588a)\" d=\"M 107.603125 239.758125 \nL 108.636458 239.758125 \nL 108.636458 239.758125 \nL 107.603125 239.758125 \nz\n\" style=\"fill:#1f77b4;\"/>\n   </g>\n   <g id=\"patch_10\">\n    <path clip-path=\"url(#pef3780588a)\" d=\"M 120.003125 239.758125 \nL 121.036458 239.758125 \nL 121.036458 239.758125 \nL 120.003125 239.758125 \nz\n\" style=\"fill:#1f77b4;\"/>\n   </g>\n   <g id=\"patch_11\">\n    <path clip-path=\"url(#pef3780588a)\" d=\"M 132.403125 239.758125 \nL 133.436458 239.758125 \nL 133.436458 239.758125 \nL 132.403125 239.758125 \nz\n\" style=\"fill:#1f77b4;\"/>\n   </g>\n   <g id=\"patch_12\">\n    <path clip-path=\"url(#pef3780588a)\" d=\"M 144.803125 239.758125 \nL 145.836458 239.758125 \nL 145.836458 239.758125 \nL 144.803125 239.758125 \nz\n\" style=\"fill:#1f77b4;\"/>\n   </g>\n   <g id=\"patch_13\">\n    <path clip-path=\"url(#pef3780588a)\" d=\"M 157.203125 239.758125 \nL 158.236458 239.758125 \nL 158.236458 239.758125 \nL 157.203125 239.758125 \nz\n\" style=\"fill:#1f77b4;\"/>\n   </g>\n   <g id=\"patch_14\">\n    <path clip-path=\"url(#pef3780588a)\" d=\"M 169.603125 239.758125 \nL 170.636458 239.758125 \nL 170.636458 239.758125 \nL 169.603125 239.758125 \nz\n\" style=\"fill:#1f77b4;\"/>\n   </g>\n   <g id=\"patch_15\">\n    <path clip-path=\"url(#pef3780588a)\" d=\"M 182.003125 239.758125 \nL 183.036458 239.758125 \nL 183.036458 239.758125 \nL 182.003125 239.758125 \nz\n\" style=\"fill:#1f77b4;\"/>\n   </g>\n   <g id=\"patch_16\">\n    <path clip-path=\"url(#pef3780588a)\" d=\"M 194.403125 239.758125 \nL 195.436458 239.758125 \nL 195.436458 239.758125 \nL 194.403125 239.758125 \nz\n\" style=\"fill:#1f77b4;\"/>\n   </g>\n   <g id=\"patch_17\">\n    <path clip-path=\"url(#pef3780588a)\" d=\"M 206.803125 239.758125 \nL 207.836458 239.758125 \nL 207.836458 239.758125 \nL 206.803125 239.758125 \nz\n\" style=\"fill:#1f77b4;\"/>\n   </g>\n   <g id=\"patch_18\">\n    <path clip-path=\"url(#pef3780588a)\" d=\"M 219.203125 239.758125 \nL 220.236458 239.758125 \nL 220.236458 239.758125 \nL 219.203125 239.758125 \nz\n\" style=\"fill:#1f77b4;\"/>\n   </g>\n   <g id=\"patch_19\">\n    <path clip-path=\"url(#pef3780588a)\" d=\"M 231.603125 239.758125 \nL 232.636458 239.758125 \nL 232.636458 239.758125 \nL 231.603125 239.758125 \nz\n\" style=\"fill:#1f77b4;\"/>\n   </g>\n   <g id=\"patch_20\">\n    <path clip-path=\"url(#pef3780588a)\" d=\"M 244.003125 239.758125 \nL 245.036458 239.758125 \nL 245.036458 239.758125 \nL 244.003125 239.758125 \nz\n\" style=\"fill:#1f77b4;\"/>\n   </g>\n   <g id=\"patch_21\">\n    <path clip-path=\"url(#pef3780588a)\" d=\"M 256.403125 239.758125 \nL 257.436458 239.758125 \nL 257.436458 239.758125 \nL 256.403125 239.758125 \nz\n\" style=\"fill:#1f77b4;\"/>\n   </g>\n   <g id=\"patch_22\">\n    <path clip-path=\"url(#pef3780588a)\" d=\"M 268.803125 239.758125 \nL 269.836458 239.758125 \nL 269.836458 239.758125 \nL 268.803125 239.758125 \nz\n\" style=\"fill:#1f77b4;\"/>\n   </g>\n   <g id=\"patch_23\">\n    <path clip-path=\"url(#pef3780588a)\" d=\"M 281.203125 239.758125 \nL 282.236458 239.758125 \nL 282.236458 136.215268 \nL 281.203125 136.215268 \nz\n\" style=\"fill:#1f77b4;\"/>\n   </g>\n   <g id=\"patch_24\">\n    <path clip-path=\"url(#pef3780588a)\" d=\"M 293.603125 239.758125 \nL 294.636458 239.758125 \nL 294.636458 136.215268 \nL 293.603125 136.215268 \nz\n\" style=\"fill:#1f77b4;\"/>\n   </g>\n   <g id=\"patch_25\">\n    <path clip-path=\"url(#pef3780588a)\" d=\"M 306.003125 239.758125 \nL 307.036458 239.758125 \nL 307.036458 239.758125 \nL 306.003125 239.758125 \nz\n\" style=\"fill:#1f77b4;\"/>\n   </g>\n   <g id=\"patch_26\">\n    <path clip-path=\"url(#pef3780588a)\" d=\"M 318.403125 239.758125 \nL 319.436458 239.758125 \nL 319.436458 136.215268 \nL 318.403125 136.215268 \nz\n\" style=\"fill:#1f77b4;\"/>\n   </g>\n   <g id=\"patch_27\">\n    <path clip-path=\"url(#pef3780588a)\" d=\"M 330.803125 239.758125 \nL 331.836458 239.758125 \nL 331.836458 239.758125 \nL 330.803125 239.758125 \nz\n\" style=\"fill:#1f77b4;\"/>\n   </g>\n   <g id=\"patch_28\">\n    <path clip-path=\"url(#pef3780588a)\" d=\"M 343.203125 239.758125 \nL 344.236458 239.758125 \nL 344.236458 239.758125 \nL 343.203125 239.758125 \nz\n\" style=\"fill:#1f77b4;\"/>\n   </g>\n   <g id=\"patch_29\">\n    <path clip-path=\"url(#pef3780588a)\" d=\"M 355.603125 239.758125 \nL 356.636458 239.758125 \nL 356.636458 136.215268 \nL 355.603125 136.215268 \nz\n\" style=\"fill:#1f77b4;\"/>\n   </g>\n   <g id=\"patch_30\">\n    <path clip-path=\"url(#pef3780588a)\" d=\"M 34.236458 239.758125 \nL 35.269792 239.758125 \nL 35.269792 239.758125 \nL 34.236458 239.758125 \nz\n\" style=\"fill:#ff7f0e;\"/>\n   </g>\n   <g id=\"patch_31\">\n    <path clip-path=\"url(#pef3780588a)\" d=\"M 46.636458 239.758125 \nL 47.669792 239.758125 \nL 47.669792 239.758125 \nL 46.636458 239.758125 \nz\n\" style=\"fill:#ff7f0e;\"/>\n   </g>\n   <g id=\"patch_32\">\n    <path clip-path=\"url(#pef3780588a)\" d=\"M 59.036458 239.758125 \nL 60.069792 239.758125 \nL 60.069792 239.758125 \nL 59.036458 239.758125 \nz\n\" style=\"fill:#ff7f0e;\"/>\n   </g>\n   <g id=\"patch_33\">\n    <path clip-path=\"url(#pef3780588a)\" d=\"M 71.436458 239.758125 \nL 72.469792 239.758125 \nL 72.469792 239.758125 \nL 71.436458 239.758125 \nz\n\" style=\"fill:#ff7f0e;\"/>\n   </g>\n   <g id=\"patch_34\">\n    <path clip-path=\"url(#pef3780588a)\" d=\"M 83.836458 239.758125 \nL 84.869792 239.758125 \nL 84.869792 239.758125 \nL 83.836458 239.758125 \nz\n\" style=\"fill:#ff7f0e;\"/>\n   </g>\n   <g id=\"patch_35\">\n    <path clip-path=\"url(#pef3780588a)\" d=\"M 96.236458 239.758125 \nL 97.269792 239.758125 \nL 97.269792 239.758125 \nL 96.236458 239.758125 \nz\n\" style=\"fill:#ff7f0e;\"/>\n   </g>\n   <g id=\"patch_36\">\n    <path clip-path=\"url(#pef3780588a)\" d=\"M 108.636458 239.758125 \nL 109.669792 239.758125 \nL 109.669792 239.758125 \nL 108.636458 239.758125 \nz\n\" style=\"fill:#ff7f0e;\"/>\n   </g>\n   <g id=\"patch_37\">\n    <path clip-path=\"url(#pef3780588a)\" d=\"M 121.036458 239.758125 \nL 122.069792 239.758125 \nL 122.069792 239.758125 \nL 121.036458 239.758125 \nz\n\" style=\"fill:#ff7f0e;\"/>\n   </g>\n   <g id=\"patch_38\">\n    <path clip-path=\"url(#pef3780588a)\" d=\"M 133.436458 239.758125 \nL 134.469792 239.758125 \nL 134.469792 239.758125 \nL 133.436458 239.758125 \nz\n\" style=\"fill:#ff7f0e;\"/>\n   </g>\n   <g id=\"patch_39\">\n    <path clip-path=\"url(#pef3780588a)\" d=\"M 145.836458 239.758125 \nL 146.869792 239.758125 \nL 146.869792 239.758125 \nL 145.836458 239.758125 \nz\n\" style=\"fill:#ff7f0e;\"/>\n   </g>\n   <g id=\"patch_40\">\n    <path clip-path=\"url(#pef3780588a)\" d=\"M 158.236458 239.758125 \nL 159.269792 239.758125 \nL 159.269792 239.758125 \nL 158.236458 239.758125 \nz\n\" style=\"fill:#ff7f0e;\"/>\n   </g>\n   <g id=\"patch_41\">\n    <path clip-path=\"url(#pef3780588a)\" d=\"M 170.636458 239.758125 \nL 171.669792 239.758125 \nL 171.669792 239.758125 \nL 170.636458 239.758125 \nz\n\" style=\"fill:#ff7f0e;\"/>\n   </g>\n   <g id=\"patch_42\">\n    <path clip-path=\"url(#pef3780588a)\" d=\"M 183.036458 239.758125 \nL 184.069792 239.758125 \nL 184.069792 239.758125 \nL 183.036458 239.758125 \nz\n\" style=\"fill:#ff7f0e;\"/>\n   </g>\n   <g id=\"patch_43\">\n    <path clip-path=\"url(#pef3780588a)\" d=\"M 195.436458 239.758125 \nL 196.469792 239.758125 \nL 196.469792 239.758125 \nL 195.436458 239.758125 \nz\n\" style=\"fill:#ff7f0e;\"/>\n   </g>\n   <g id=\"patch_44\">\n    <path clip-path=\"url(#pef3780588a)\" d=\"M 207.836458 239.758125 \nL 208.869792 239.758125 \nL 208.869792 239.758125 \nL 207.836458 239.758125 \nz\n\" style=\"fill:#ff7f0e;\"/>\n   </g>\n   <g id=\"patch_45\">\n    <path clip-path=\"url(#pef3780588a)\" d=\"M 220.236458 239.758125 \nL 221.269792 239.758125 \nL 221.269792 239.758125 \nL 220.236458 239.758125 \nz\n\" style=\"fill:#ff7f0e;\"/>\n   </g>\n   <g id=\"patch_46\">\n    <path clip-path=\"url(#pef3780588a)\" d=\"M 232.636458 239.758125 \nL 233.669792 239.758125 \nL 233.669792 239.758125 \nL 232.636458 239.758125 \nz\n\" style=\"fill:#ff7f0e;\"/>\n   </g>\n   <g id=\"patch_47\">\n    <path clip-path=\"url(#pef3780588a)\" d=\"M 245.036458 239.758125 \nL 246.069792 239.758125 \nL 246.069792 239.758125 \nL 245.036458 239.758125 \nz\n\" style=\"fill:#ff7f0e;\"/>\n   </g>\n   <g id=\"patch_48\">\n    <path clip-path=\"url(#pef3780588a)\" d=\"M 257.436458 239.758125 \nL 258.469792 239.758125 \nL 258.469792 239.758125 \nL 257.436458 239.758125 \nz\n\" style=\"fill:#ff7f0e;\"/>\n   </g>\n   <g id=\"patch_49\">\n    <path clip-path=\"url(#pef3780588a)\" d=\"M 269.836458 239.758125 \nL 270.869792 239.758125 \nL 270.869792 239.758125 \nL 269.836458 239.758125 \nz\n\" style=\"fill:#ff7f0e;\"/>\n   </g>\n   <g id=\"patch_50\">\n    <path clip-path=\"url(#pef3780588a)\" d=\"M 282.236458 239.758125 \nL 283.269792 239.758125 \nL 283.269792 239.758125 \nL 282.236458 239.758125 \nz\n\" style=\"fill:#ff7f0e;\"/>\n   </g>\n   <g id=\"patch_51\">\n    <path clip-path=\"url(#pef3780588a)\" d=\"M 294.636458 239.758125 \nL 295.669792 239.758125 \nL 295.669792 239.758125 \nL 294.636458 239.758125 \nz\n\" style=\"fill:#ff7f0e;\"/>\n   </g>\n   <g id=\"patch_52\">\n    <path clip-path=\"url(#pef3780588a)\" d=\"M 307.036458 239.758125 \nL 308.069792 239.758125 \nL 308.069792 136.215268 \nL 307.036458 136.215268 \nz\n\" style=\"fill:#ff7f0e;\"/>\n   </g>\n   <g id=\"patch_53\">\n    <path clip-path=\"url(#pef3780588a)\" d=\"M 319.436458 239.758125 \nL 320.469792 239.758125 \nL 320.469792 239.758125 \nL 319.436458 239.758125 \nz\n\" style=\"fill:#ff7f0e;\"/>\n   </g>\n   <g id=\"patch_54\">\n    <path clip-path=\"url(#pef3780588a)\" d=\"M 331.836458 239.758125 \nL 332.869792 239.758125 \nL 332.869792 136.215268 \nL 331.836458 136.215268 \nz\n\" style=\"fill:#ff7f0e;\"/>\n   </g>\n   <g id=\"patch_55\">\n    <path clip-path=\"url(#pef3780588a)\" d=\"M 344.236458 239.758125 \nL 345.269792 239.758125 \nL 345.269792 32.672411 \nL 344.236458 32.672411 \nz\n\" style=\"fill:#ff7f0e;\"/>\n   </g>\n   <g id=\"patch_56\">\n    <path clip-path=\"url(#pef3780588a)\" d=\"M 356.636458 239.758125 \nL 357.669792 239.758125 \nL 357.669792 239.758125 \nL 356.636458 239.758125 \nz\n\" style=\"fill:#ff7f0e;\"/>\n   </g>\n   <g id=\"patch_57\">\n    <path clip-path=\"url(#pef3780588a)\" d=\"M 35.269792 239.758125 \nL 36.303125 239.758125 \nL 36.303125 84.443839 \nL 35.269792 84.443839 \nz\n\" style=\"fill:#2ca02c;\"/>\n   </g>\n   <g id=\"patch_58\">\n    <path clip-path=\"url(#pef3780588a)\" d=\"M 47.669792 239.758125 \nL 48.703125 239.758125 \nL 48.703125 84.443839 \nL 47.669792 84.443839 \nz\n\" style=\"fill:#2ca02c;\"/>\n   </g>\n   <g id=\"patch_59\">\n    <path clip-path=\"url(#pef3780588a)\" d=\"M 60.069792 239.758125 \nL 61.103125 239.758125 \nL 61.103125 136.215268 \nL 60.069792 136.215268 \nz\n\" style=\"fill:#2ca02c;\"/>\n   </g>\n   <g id=\"patch_60\">\n    <path clip-path=\"url(#pef3780588a)\" d=\"M 72.469792 239.758125 \nL 73.503125 239.758125 \nL 73.503125 239.758125 \nL 72.469792 239.758125 \nz\n\" style=\"fill:#2ca02c;\"/>\n   </g>\n   <g id=\"patch_61\">\n    <path clip-path=\"url(#pef3780588a)\" d=\"M 84.869792 239.758125 \nL 85.903125 239.758125 \nL 85.903125 239.758125 \nL 84.869792 239.758125 \nz\n\" style=\"fill:#2ca02c;\"/>\n   </g>\n   <g id=\"patch_62\">\n    <path clip-path=\"url(#pef3780588a)\" d=\"M 97.269792 239.758125 \nL 98.303125 239.758125 \nL 98.303125 239.758125 \nL 97.269792 239.758125 \nz\n\" style=\"fill:#2ca02c;\"/>\n   </g>\n   <g id=\"patch_63\">\n    <path clip-path=\"url(#pef3780588a)\" d=\"M 109.669792 239.758125 \nL 110.703125 239.758125 \nL 110.703125 239.758125 \nL 109.669792 239.758125 \nz\n\" style=\"fill:#2ca02c;\"/>\n   </g>\n   <g id=\"patch_64\">\n    <path clip-path=\"url(#pef3780588a)\" d=\"M 122.069792 239.758125 \nL 123.103125 239.758125 \nL 123.103125 239.758125 \nL 122.069792 239.758125 \nz\n\" style=\"fill:#2ca02c;\"/>\n   </g>\n   <g id=\"patch_65\">\n    <path clip-path=\"url(#pef3780588a)\" d=\"M 134.469792 239.758125 \nL 135.503125 239.758125 \nL 135.503125 239.758125 \nL 134.469792 239.758125 \nz\n\" style=\"fill:#2ca02c;\"/>\n   </g>\n   <g id=\"patch_66\">\n    <path clip-path=\"url(#pef3780588a)\" d=\"M 146.869792 239.758125 \nL 147.903125 239.758125 \nL 147.903125 239.758125 \nL 146.869792 239.758125 \nz\n\" style=\"fill:#2ca02c;\"/>\n   </g>\n   <g id=\"patch_67\">\n    <path clip-path=\"url(#pef3780588a)\" d=\"M 159.269792 239.758125 \nL 160.303125 239.758125 \nL 160.303125 239.758125 \nL 159.269792 239.758125 \nz\n\" style=\"fill:#2ca02c;\"/>\n   </g>\n   <g id=\"patch_68\">\n    <path clip-path=\"url(#pef3780588a)\" d=\"M 171.669792 239.758125 \nL 172.703125 239.758125 \nL 172.703125 239.758125 \nL 171.669792 239.758125 \nz\n\" style=\"fill:#2ca02c;\"/>\n   </g>\n   <g id=\"patch_69\">\n    <path clip-path=\"url(#pef3780588a)\" d=\"M 184.069792 239.758125 \nL 185.103125 239.758125 \nL 185.103125 239.758125 \nL 184.069792 239.758125 \nz\n\" style=\"fill:#2ca02c;\"/>\n   </g>\n   <g id=\"patch_70\">\n    <path clip-path=\"url(#pef3780588a)\" d=\"M 196.469792 239.758125 \nL 197.503125 239.758125 \nL 197.503125 239.758125 \nL 196.469792 239.758125 \nz\n\" style=\"fill:#2ca02c;\"/>\n   </g>\n   <g id=\"patch_71\">\n    <path clip-path=\"url(#pef3780588a)\" d=\"M 208.869792 239.758125 \nL 209.903125 239.758125 \nL 209.903125 239.758125 \nL 208.869792 239.758125 \nz\n\" style=\"fill:#2ca02c;\"/>\n   </g>\n   <g id=\"patch_72\">\n    <path clip-path=\"url(#pef3780588a)\" d=\"M 221.269792 239.758125 \nL 222.303125 239.758125 \nL 222.303125 239.758125 \nL 221.269792 239.758125 \nz\n\" style=\"fill:#2ca02c;\"/>\n   </g>\n   <g id=\"patch_73\">\n    <path clip-path=\"url(#pef3780588a)\" d=\"M 233.669792 239.758125 \nL 234.703125 239.758125 \nL 234.703125 239.758125 \nL 233.669792 239.758125 \nz\n\" style=\"fill:#2ca02c;\"/>\n   </g>\n   <g id=\"patch_74\">\n    <path clip-path=\"url(#pef3780588a)\" d=\"M 246.069792 239.758125 \nL 247.103125 239.758125 \nL 247.103125 239.758125 \nL 246.069792 239.758125 \nz\n\" style=\"fill:#2ca02c;\"/>\n   </g>\n   <g id=\"patch_75\">\n    <path clip-path=\"url(#pef3780588a)\" d=\"M 258.469792 239.758125 \nL 259.503125 239.758125 \nL 259.503125 239.758125 \nL 258.469792 239.758125 \nz\n\" style=\"fill:#2ca02c;\"/>\n   </g>\n   <g id=\"patch_76\">\n    <path clip-path=\"url(#pef3780588a)\" d=\"M 270.869792 239.758125 \nL 271.903125 239.758125 \nL 271.903125 239.758125 \nL 270.869792 239.758125 \nz\n\" style=\"fill:#2ca02c;\"/>\n   </g>\n   <g id=\"patch_77\">\n    <path clip-path=\"url(#pef3780588a)\" d=\"M 283.269792 239.758125 \nL 284.303125 239.758125 \nL 284.303125 239.758125 \nL 283.269792 239.758125 \nz\n\" style=\"fill:#2ca02c;\"/>\n   </g>\n   <g id=\"patch_78\">\n    <path clip-path=\"url(#pef3780588a)\" d=\"M 295.669792 239.758125 \nL 296.703125 239.758125 \nL 296.703125 239.758125 \nL 295.669792 239.758125 \nz\n\" style=\"fill:#2ca02c;\"/>\n   </g>\n   <g id=\"patch_79\">\n    <path clip-path=\"url(#pef3780588a)\" d=\"M 308.069792 239.758125 \nL 309.103125 239.758125 \nL 309.103125 239.758125 \nL 308.069792 239.758125 \nz\n\" style=\"fill:#2ca02c;\"/>\n   </g>\n   <g id=\"patch_80\">\n    <path clip-path=\"url(#pef3780588a)\" d=\"M 320.469792 239.758125 \nL 321.503125 239.758125 \nL 321.503125 239.758125 \nL 320.469792 239.758125 \nz\n\" style=\"fill:#2ca02c;\"/>\n   </g>\n   <g id=\"patch_81\">\n    <path clip-path=\"url(#pef3780588a)\" d=\"M 332.869792 239.758125 \nL 333.903125 239.758125 \nL 333.903125 239.758125 \nL 332.869792 239.758125 \nz\n\" style=\"fill:#2ca02c;\"/>\n   </g>\n   <g id=\"patch_82\">\n    <path clip-path=\"url(#pef3780588a)\" d=\"M 345.269792 239.758125 \nL 346.303125 239.758125 \nL 346.303125 239.758125 \nL 345.269792 239.758125 \nz\n\" style=\"fill:#2ca02c;\"/>\n   </g>\n   <g id=\"patch_83\">\n    <path clip-path=\"url(#pef3780588a)\" d=\"M 357.669792 239.758125 \nL 358.703125 239.758125 \nL 358.703125 239.758125 \nL 357.669792 239.758125 \nz\n\" style=\"fill:#2ca02c;\"/>\n   </g>\n   <g id=\"patch_84\">\n    <path clip-path=\"url(#pef3780588a)\" d=\"M 36.303125 239.758125 \nL 37.336458 239.758125 \nL 37.336458 239.758125 \nL 36.303125 239.758125 \nz\n\" style=\"fill:#d62728;\"/>\n   </g>\n   <g id=\"patch_85\">\n    <path clip-path=\"url(#pef3780588a)\" d=\"M 48.703125 239.758125 \nL 49.736458 239.758125 \nL 49.736458 239.758125 \nL 48.703125 239.758125 \nz\n\" style=\"fill:#d62728;\"/>\n   </g>\n   <g id=\"patch_86\">\n    <path clip-path=\"url(#pef3780588a)\" d=\"M 61.103125 239.758125 \nL 62.136458 239.758125 \nL 62.136458 239.758125 \nL 61.103125 239.758125 \nz\n\" style=\"fill:#d62728;\"/>\n   </g>\n   <g id=\"patch_87\">\n    <path clip-path=\"url(#pef3780588a)\" d=\"M 73.503125 239.758125 \nL 74.536458 239.758125 \nL 74.536458 187.986696 \nL 73.503125 187.986696 \nz\n\" style=\"fill:#d62728;\"/>\n   </g>\n   <g id=\"patch_88\">\n    <path clip-path=\"url(#pef3780588a)\" d=\"M 85.903125 239.758125 \nL 86.936458 239.758125 \nL 86.936458 187.986696 \nL 85.903125 187.986696 \nz\n\" style=\"fill:#d62728;\"/>\n   </g>\n   <g id=\"patch_89\">\n    <path clip-path=\"url(#pef3780588a)\" d=\"M 98.303125 239.758125 \nL 99.336458 239.758125 \nL 99.336458 187.986696 \nL 98.303125 187.986696 \nz\n\" style=\"fill:#d62728;\"/>\n   </g>\n   <g id=\"patch_90\">\n    <path clip-path=\"url(#pef3780588a)\" d=\"M 110.703125 239.758125 \nL 111.736458 239.758125 \nL 111.736458 187.986696 \nL 110.703125 187.986696 \nz\n\" style=\"fill:#d62728;\"/>\n   </g>\n   <g id=\"patch_91\">\n    <path clip-path=\"url(#pef3780588a)\" d=\"M 123.103125 239.758125 \nL 124.136458 239.758125 \nL 124.136458 136.215268 \nL 123.103125 136.215268 \nz\n\" style=\"fill:#d62728;\"/>\n   </g>\n   <g id=\"patch_92\">\n    <path clip-path=\"url(#pef3780588a)\" d=\"M 135.503125 239.758125 \nL 136.536458 239.758125 \nL 136.536458 187.986696 \nL 135.503125 187.986696 \nz\n\" style=\"fill:#d62728;\"/>\n   </g>\n   <g id=\"patch_93\">\n    <path clip-path=\"url(#pef3780588a)\" d=\"M 147.903125 239.758125 \nL 148.936458 239.758125 \nL 148.936458 187.986696 \nL 147.903125 187.986696 \nz\n\" style=\"fill:#d62728;\"/>\n   </g>\n   <g id=\"patch_94\">\n    <path clip-path=\"url(#pef3780588a)\" d=\"M 160.303125 239.758125 \nL 161.336458 239.758125 \nL 161.336458 239.758125 \nL 160.303125 239.758125 \nz\n\" style=\"fill:#d62728;\"/>\n   </g>\n   <g id=\"patch_95\">\n    <path clip-path=\"url(#pef3780588a)\" d=\"M 172.703125 239.758125 \nL 173.736458 239.758125 \nL 173.736458 239.758125 \nL 172.703125 239.758125 \nz\n\" style=\"fill:#d62728;\"/>\n   </g>\n   <g id=\"patch_96\">\n    <path clip-path=\"url(#pef3780588a)\" d=\"M 185.103125 239.758125 \nL 186.136458 239.758125 \nL 186.136458 239.758125 \nL 185.103125 239.758125 \nz\n\" style=\"fill:#d62728;\"/>\n   </g>\n   <g id=\"patch_97\">\n    <path clip-path=\"url(#pef3780588a)\" d=\"M 197.503125 239.758125 \nL 198.536458 239.758125 \nL 198.536458 239.758125 \nL 197.503125 239.758125 \nz\n\" style=\"fill:#d62728;\"/>\n   </g>\n   <g id=\"patch_98\">\n    <path clip-path=\"url(#pef3780588a)\" d=\"M 209.903125 239.758125 \nL 210.936458 239.758125 \nL 210.936458 239.758125 \nL 209.903125 239.758125 \nz\n\" style=\"fill:#d62728;\"/>\n   </g>\n   <g id=\"patch_99\">\n    <path clip-path=\"url(#pef3780588a)\" d=\"M 222.303125 239.758125 \nL 223.336458 239.758125 \nL 223.336458 239.758125 \nL 222.303125 239.758125 \nz\n\" style=\"fill:#d62728;\"/>\n   </g>\n   <g id=\"patch_100\">\n    <path clip-path=\"url(#pef3780588a)\" d=\"M 234.703125 239.758125 \nL 235.736458 239.758125 \nL 235.736458 239.758125 \nL 234.703125 239.758125 \nz\n\" style=\"fill:#d62728;\"/>\n   </g>\n   <g id=\"patch_101\">\n    <path clip-path=\"url(#pef3780588a)\" d=\"M 247.103125 239.758125 \nL 248.136458 239.758125 \nL 248.136458 239.758125 \nL 247.103125 239.758125 \nz\n\" style=\"fill:#d62728;\"/>\n   </g>\n   <g id=\"patch_102\">\n    <path clip-path=\"url(#pef3780588a)\" d=\"M 259.503125 239.758125 \nL 260.536458 239.758125 \nL 260.536458 239.758125 \nL 259.503125 239.758125 \nz\n\" style=\"fill:#d62728;\"/>\n   </g>\n   <g id=\"patch_103\">\n    <path clip-path=\"url(#pef3780588a)\" d=\"M 271.903125 239.758125 \nL 272.936458 239.758125 \nL 272.936458 239.758125 \nL 271.903125 239.758125 \nz\n\" style=\"fill:#d62728;\"/>\n   </g>\n   <g id=\"patch_104\">\n    <path clip-path=\"url(#pef3780588a)\" d=\"M 284.303125 239.758125 \nL 285.336458 239.758125 \nL 285.336458 239.758125 \nL 284.303125 239.758125 \nz\n\" style=\"fill:#d62728;\"/>\n   </g>\n   <g id=\"patch_105\">\n    <path clip-path=\"url(#pef3780588a)\" d=\"M 296.703125 239.758125 \nL 297.736458 239.758125 \nL 297.736458 239.758125 \nL 296.703125 239.758125 \nz\n\" style=\"fill:#d62728;\"/>\n   </g>\n   <g id=\"patch_106\">\n    <path clip-path=\"url(#pef3780588a)\" d=\"M 309.103125 239.758125 \nL 310.136458 239.758125 \nL 310.136458 239.758125 \nL 309.103125 239.758125 \nz\n\" style=\"fill:#d62728;\"/>\n   </g>\n   <g id=\"patch_107\">\n    <path clip-path=\"url(#pef3780588a)\" d=\"M 321.503125 239.758125 \nL 322.536458 239.758125 \nL 322.536458 239.758125 \nL 321.503125 239.758125 \nz\n\" style=\"fill:#d62728;\"/>\n   </g>\n   <g id=\"patch_108\">\n    <path clip-path=\"url(#pef3780588a)\" d=\"M 333.903125 239.758125 \nL 334.936458 239.758125 \nL 334.936458 239.758125 \nL 333.903125 239.758125 \nz\n\" style=\"fill:#d62728;\"/>\n   </g>\n   <g id=\"patch_109\">\n    <path clip-path=\"url(#pef3780588a)\" d=\"M 346.303125 239.758125 \nL 347.336458 239.758125 \nL 347.336458 239.758125 \nL 346.303125 239.758125 \nz\n\" style=\"fill:#d62728;\"/>\n   </g>\n   <g id=\"patch_110\">\n    <path clip-path=\"url(#pef3780588a)\" d=\"M 358.703125 239.758125 \nL 359.736458 239.758125 \nL 359.736458 239.758125 \nL 358.703125 239.758125 \nz\n\" style=\"fill:#d62728;\"/>\n   </g>\n   <g id=\"patch_111\">\n    <path clip-path=\"url(#pef3780588a)\" d=\"M 37.336458 239.758125 \nL 38.369792 239.758125 \nL 38.369792 239.758125 \nL 37.336458 239.758125 \nz\n\" style=\"fill:#9467bd;\"/>\n   </g>\n   <g id=\"patch_112\">\n    <path clip-path=\"url(#pef3780588a)\" d=\"M 49.736458 239.758125 \nL 50.769792 239.758125 \nL 50.769792 239.758125 \nL 49.736458 239.758125 \nz\n\" style=\"fill:#9467bd;\"/>\n   </g>\n   <g id=\"patch_113\">\n    <path clip-path=\"url(#pef3780588a)\" d=\"M 62.136458 239.758125 \nL 63.169792 239.758125 \nL 63.169792 239.758125 \nL 62.136458 239.758125 \nz\n\" style=\"fill:#9467bd;\"/>\n   </g>\n   <g id=\"patch_114\">\n    <path clip-path=\"url(#pef3780588a)\" d=\"M 74.536458 239.758125 \nL 75.569792 239.758125 \nL 75.569792 239.758125 \nL 74.536458 239.758125 \nz\n\" style=\"fill:#9467bd;\"/>\n   </g>\n   <g id=\"patch_115\">\n    <path clip-path=\"url(#pef3780588a)\" d=\"M 86.936458 239.758125 \nL 87.969792 239.758125 \nL 87.969792 239.758125 \nL 86.936458 239.758125 \nz\n\" style=\"fill:#9467bd;\"/>\n   </g>\n   <g id=\"patch_116\">\n    <path clip-path=\"url(#pef3780588a)\" d=\"M 99.336458 239.758125 \nL 100.369792 239.758125 \nL 100.369792 239.758125 \nL 99.336458 239.758125 \nz\n\" style=\"fill:#9467bd;\"/>\n   </g>\n   <g id=\"patch_117\">\n    <path clip-path=\"url(#pef3780588a)\" d=\"M 111.736458 239.758125 \nL 112.769792 239.758125 \nL 112.769792 187.986696 \nL 111.736458 187.986696 \nz\n\" style=\"fill:#9467bd;\"/>\n   </g>\n   <g id=\"patch_118\">\n    <path clip-path=\"url(#pef3780588a)\" d=\"M 124.136458 239.758125 \nL 125.169792 239.758125 \nL 125.169792 187.986696 \nL 124.136458 187.986696 \nz\n\" style=\"fill:#9467bd;\"/>\n   </g>\n   <g id=\"patch_119\">\n    <path clip-path=\"url(#pef3780588a)\" d=\"M 136.536458 239.758125 \nL 137.569792 239.758125 \nL 137.569792 239.758125 \nL 136.536458 239.758125 \nz\n\" style=\"fill:#9467bd;\"/>\n   </g>\n   <g id=\"patch_120\">\n    <path clip-path=\"url(#pef3780588a)\" d=\"M 148.936458 239.758125 \nL 149.969792 239.758125 \nL 149.969792 187.986696 \nL 148.936458 187.986696 \nz\n\" style=\"fill:#9467bd;\"/>\n   </g>\n   <g id=\"patch_121\">\n    <path clip-path=\"url(#pef3780588a)\" d=\"M 161.336458 239.758125 \nL 162.369792 239.758125 \nL 162.369792 239.758125 \nL 161.336458 239.758125 \nz\n\" style=\"fill:#9467bd;\"/>\n   </g>\n   <g id=\"patch_122\">\n    <path clip-path=\"url(#pef3780588a)\" d=\"M 173.736458 239.758125 \nL 174.769792 239.758125 \nL 174.769792 239.758125 \nL 173.736458 239.758125 \nz\n\" style=\"fill:#9467bd;\"/>\n   </g>\n   <g id=\"patch_123\">\n    <path clip-path=\"url(#pef3780588a)\" d=\"M 186.136458 239.758125 \nL 187.169792 239.758125 \nL 187.169792 187.986696 \nL 186.136458 187.986696 \nz\n\" style=\"fill:#9467bd;\"/>\n   </g>\n   <g id=\"patch_124\">\n    <path clip-path=\"url(#pef3780588a)\" d=\"M 198.536458 239.758125 \nL 199.569792 239.758125 \nL 199.569792 239.758125 \nL 198.536458 239.758125 \nz\n\" style=\"fill:#9467bd;\"/>\n   </g>\n   <g id=\"patch_125\">\n    <path clip-path=\"url(#pef3780588a)\" d=\"M 210.936458 239.758125 \nL 211.969792 239.758125 \nL 211.969792 239.758125 \nL 210.936458 239.758125 \nz\n\" style=\"fill:#9467bd;\"/>\n   </g>\n   <g id=\"patch_126\">\n    <path clip-path=\"url(#pef3780588a)\" d=\"M 223.336458 239.758125 \nL 224.369792 239.758125 \nL 224.369792 187.986696 \nL 223.336458 187.986696 \nz\n\" style=\"fill:#9467bd;\"/>\n   </g>\n   <g id=\"patch_127\">\n    <path clip-path=\"url(#pef3780588a)\" d=\"M 235.736458 239.758125 \nL 236.769792 239.758125 \nL 236.769792 187.986696 \nL 235.736458 187.986696 \nz\n\" style=\"fill:#9467bd;\"/>\n   </g>\n   <g id=\"patch_128\">\n    <path clip-path=\"url(#pef3780588a)\" d=\"M 248.136458 239.758125 \nL 249.169792 239.758125 \nL 249.169792 187.986696 \nL 248.136458 187.986696 \nz\n\" style=\"fill:#9467bd;\"/>\n   </g>\n   <g id=\"patch_129\">\n    <path clip-path=\"url(#pef3780588a)\" d=\"M 260.536458 239.758125 \nL 261.569792 239.758125 \nL 261.569792 239.758125 \nL 260.536458 239.758125 \nz\n\" style=\"fill:#9467bd;\"/>\n   </g>\n   <g id=\"patch_130\">\n    <path clip-path=\"url(#pef3780588a)\" d=\"M 272.936458 239.758125 \nL 273.969792 239.758125 \nL 273.969792 187.986696 \nL 272.936458 187.986696 \nz\n\" style=\"fill:#9467bd;\"/>\n   </g>\n   <g id=\"patch_131\">\n    <path clip-path=\"url(#pef3780588a)\" d=\"M 285.336458 239.758125 \nL 286.369792 239.758125 \nL 286.369792 239.758125 \nL 285.336458 239.758125 \nz\n\" style=\"fill:#9467bd;\"/>\n   </g>\n   <g id=\"patch_132\">\n    <path clip-path=\"url(#pef3780588a)\" d=\"M 297.736458 239.758125 \nL 298.769792 239.758125 \nL 298.769792 239.758125 \nL 297.736458 239.758125 \nz\n\" style=\"fill:#9467bd;\"/>\n   </g>\n   <g id=\"patch_133\">\n    <path clip-path=\"url(#pef3780588a)\" d=\"M 310.136458 239.758125 \nL 311.169792 239.758125 \nL 311.169792 239.758125 \nL 310.136458 239.758125 \nz\n\" style=\"fill:#9467bd;\"/>\n   </g>\n   <g id=\"patch_134\">\n    <path clip-path=\"url(#pef3780588a)\" d=\"M 322.536458 239.758125 \nL 323.569792 239.758125 \nL 323.569792 239.758125 \nL 322.536458 239.758125 \nz\n\" style=\"fill:#9467bd;\"/>\n   </g>\n   <g id=\"patch_135\">\n    <path clip-path=\"url(#pef3780588a)\" d=\"M 334.936458 239.758125 \nL 335.969792 239.758125 \nL 335.969792 239.758125 \nL 334.936458 239.758125 \nz\n\" style=\"fill:#9467bd;\"/>\n   </g>\n   <g id=\"patch_136\">\n    <path clip-path=\"url(#pef3780588a)\" d=\"M 347.336458 239.758125 \nL 348.369792 239.758125 \nL 348.369792 239.758125 \nL 347.336458 239.758125 \nz\n\" style=\"fill:#9467bd;\"/>\n   </g>\n   <g id=\"patch_137\">\n    <path clip-path=\"url(#pef3780588a)\" d=\"M 359.736458 239.758125 \nL 360.769792 239.758125 \nL 360.769792 239.758125 \nL 359.736458 239.758125 \nz\n\" style=\"fill:#9467bd;\"/>\n   </g>\n   <g id=\"patch_138\">\n    <path clip-path=\"url(#pef3780588a)\" d=\"M 38.369792 239.758125 \nL 39.403125 239.758125 \nL 39.403125 239.758125 \nL 38.369792 239.758125 \nz\n\" style=\"fill:#8c564b;\"/>\n   </g>\n   <g id=\"patch_139\">\n    <path clip-path=\"url(#pef3780588a)\" d=\"M 50.769792 239.758125 \nL 51.803125 239.758125 \nL 51.803125 239.758125 \nL 50.769792 239.758125 \nz\n\" style=\"fill:#8c564b;\"/>\n   </g>\n   <g id=\"patch_140\">\n    <path clip-path=\"url(#pef3780588a)\" d=\"M 63.169792 239.758125 \nL 64.203125 239.758125 \nL 64.203125 239.758125 \nL 63.169792 239.758125 \nz\n\" style=\"fill:#8c564b;\"/>\n   </g>\n   <g id=\"patch_141\">\n    <path clip-path=\"url(#pef3780588a)\" d=\"M 75.569792 239.758125 \nL 76.603125 239.758125 \nL 76.603125 239.758125 \nL 75.569792 239.758125 \nz\n\" style=\"fill:#8c564b;\"/>\n   </g>\n   <g id=\"patch_142\">\n    <path clip-path=\"url(#pef3780588a)\" d=\"M 87.969792 239.758125 \nL 89.003125 239.758125 \nL 89.003125 239.758125 \nL 87.969792 239.758125 \nz\n\" style=\"fill:#8c564b;\"/>\n   </g>\n   <g id=\"patch_143\">\n    <path clip-path=\"url(#pef3780588a)\" d=\"M 100.369792 239.758125 \nL 101.403125 239.758125 \nL 101.403125 239.758125 \nL 100.369792 239.758125 \nz\n\" style=\"fill:#8c564b;\"/>\n   </g>\n   <g id=\"patch_144\">\n    <path clip-path=\"url(#pef3780588a)\" d=\"M 112.769792 239.758125 \nL 113.803125 239.758125 \nL 113.803125 187.986696 \nL 112.769792 187.986696 \nz\n\" style=\"fill:#8c564b;\"/>\n   </g>\n   <g id=\"patch_145\">\n    <path clip-path=\"url(#pef3780588a)\" d=\"M 125.169792 239.758125 \nL 126.203125 239.758125 \nL 126.203125 187.986696 \nL 125.169792 187.986696 \nz\n\" style=\"fill:#8c564b;\"/>\n   </g>\n   <g id=\"patch_146\">\n    <path clip-path=\"url(#pef3780588a)\" d=\"M 137.569792 239.758125 \nL 138.603125 239.758125 \nL 138.603125 239.758125 \nL 137.569792 239.758125 \nz\n\" style=\"fill:#8c564b;\"/>\n   </g>\n   <g id=\"patch_147\">\n    <path clip-path=\"url(#pef3780588a)\" d=\"M 149.969792 239.758125 \nL 151.003125 239.758125 \nL 151.003125 187.986696 \nL 149.969792 187.986696 \nz\n\" style=\"fill:#8c564b;\"/>\n   </g>\n   <g id=\"patch_148\">\n    <path clip-path=\"url(#pef3780588a)\" d=\"M 162.369792 239.758125 \nL 163.403125 239.758125 \nL 163.403125 187.986696 \nL 162.369792 187.986696 \nz\n\" style=\"fill:#8c564b;\"/>\n   </g>\n   <g id=\"patch_149\">\n    <path clip-path=\"url(#pef3780588a)\" d=\"M 174.769792 239.758125 \nL 175.803125 239.758125 \nL 175.803125 187.986696 \nL 174.769792 187.986696 \nz\n\" style=\"fill:#8c564b;\"/>\n   </g>\n   <g id=\"patch_150\">\n    <path clip-path=\"url(#pef3780588a)\" d=\"M 187.169792 239.758125 \nL 188.203125 239.758125 \nL 188.203125 239.758125 \nL 187.169792 239.758125 \nz\n\" style=\"fill:#8c564b;\"/>\n   </g>\n   <g id=\"patch_151\">\n    <path clip-path=\"url(#pef3780588a)\" d=\"M 199.569792 239.758125 \nL 200.603125 239.758125 \nL 200.603125 187.986696 \nL 199.569792 187.986696 \nz\n\" style=\"fill:#8c564b;\"/>\n   </g>\n   <g id=\"patch_152\">\n    <path clip-path=\"url(#pef3780588a)\" d=\"M 211.969792 239.758125 \nL 213.003125 239.758125 \nL 213.003125 187.986696 \nL 211.969792 187.986696 \nz\n\" style=\"fill:#8c564b;\"/>\n   </g>\n   <g id=\"patch_153\">\n    <path clip-path=\"url(#pef3780588a)\" d=\"M 224.369792 239.758125 \nL 225.403125 239.758125 \nL 225.403125 239.758125 \nL 224.369792 239.758125 \nz\n\" style=\"fill:#8c564b;\"/>\n   </g>\n   <g id=\"patch_154\">\n    <path clip-path=\"url(#pef3780588a)\" d=\"M 236.769792 239.758125 \nL 237.803125 239.758125 \nL 237.803125 239.758125 \nL 236.769792 239.758125 \nz\n\" style=\"fill:#8c564b;\"/>\n   </g>\n   <g id=\"patch_155\">\n    <path clip-path=\"url(#pef3780588a)\" d=\"M 249.169792 239.758125 \nL 250.203125 239.758125 \nL 250.203125 239.758125 \nL 249.169792 239.758125 \nz\n\" style=\"fill:#8c564b;\"/>\n   </g>\n   <g id=\"patch_156\">\n    <path clip-path=\"url(#pef3780588a)\" d=\"M 261.569792 239.758125 \nL 262.603125 239.758125 \nL 262.603125 187.986696 \nL 261.569792 187.986696 \nz\n\" style=\"fill:#8c564b;\"/>\n   </g>\n   <g id=\"patch_157\">\n    <path clip-path=\"url(#pef3780588a)\" d=\"M 273.969792 239.758125 \nL 275.003125 239.758125 \nL 275.003125 239.758125 \nL 273.969792 239.758125 \nz\n\" style=\"fill:#8c564b;\"/>\n   </g>\n   <g id=\"patch_158\">\n    <path clip-path=\"url(#pef3780588a)\" d=\"M 286.369792 239.758125 \nL 287.403125 239.758125 \nL 287.403125 239.758125 \nL 286.369792 239.758125 \nz\n\" style=\"fill:#8c564b;\"/>\n   </g>\n   <g id=\"patch_159\">\n    <path clip-path=\"url(#pef3780588a)\" d=\"M 298.769792 239.758125 \nL 299.803125 239.758125 \nL 299.803125 239.758125 \nL 298.769792 239.758125 \nz\n\" style=\"fill:#8c564b;\"/>\n   </g>\n   <g id=\"patch_160\">\n    <path clip-path=\"url(#pef3780588a)\" d=\"M 311.169792 239.758125 \nL 312.203125 239.758125 \nL 312.203125 239.758125 \nL 311.169792 239.758125 \nz\n\" style=\"fill:#8c564b;\"/>\n   </g>\n   <g id=\"patch_161\">\n    <path clip-path=\"url(#pef3780588a)\" d=\"M 323.569792 239.758125 \nL 324.603125 239.758125 \nL 324.603125 239.758125 \nL 323.569792 239.758125 \nz\n\" style=\"fill:#8c564b;\"/>\n   </g>\n   <g id=\"patch_162\">\n    <path clip-path=\"url(#pef3780588a)\" d=\"M 335.969792 239.758125 \nL 337.003125 239.758125 \nL 337.003125 239.758125 \nL 335.969792 239.758125 \nz\n\" style=\"fill:#8c564b;\"/>\n   </g>\n   <g id=\"patch_163\">\n    <path clip-path=\"url(#pef3780588a)\" d=\"M 348.369792 239.758125 \nL 349.403125 239.758125 \nL 349.403125 239.758125 \nL 348.369792 239.758125 \nz\n\" style=\"fill:#8c564b;\"/>\n   </g>\n   <g id=\"patch_164\">\n    <path clip-path=\"url(#pef3780588a)\" d=\"M 360.769792 239.758125 \nL 361.803125 239.758125 \nL 361.803125 239.758125 \nL 360.769792 239.758125 \nz\n\" style=\"fill:#8c564b;\"/>\n   </g>\n   <g id=\"matplotlib.axis_1\">\n    <g id=\"xtick_1\">\n     <g id=\"line2d_1\">\n      <defs>\n       <path d=\"M 0 0 \nL 0 3.5 \n\" id=\"m9a8bf03186\" style=\"stroke:#000000;stroke-width:0.8;\"/>\n      </defs>\n      <g>\n       <use style=\"stroke:#000000;stroke-width:0.8;\" x=\"36.303125\" xlink:href=\"#m9a8bf03186\" y=\"239.758125\"/>\n      </g>\n     </g>\n     <g id=\"text_1\">\n      <!-- 1 -->\n      <defs>\n       <path d=\"M 12.40625 8.296875 \nL 28.515625 8.296875 \nL 28.515625 63.921875 \nL 10.984375 60.40625 \nL 10.984375 69.390625 \nL 28.421875 72.90625 \nL 38.28125 72.90625 \nL 38.28125 8.296875 \nL 54.390625 8.296875 \nL 54.390625 0 \nL 12.40625 0 \nz\n\" id=\"DejaVuSans-49\"/>\n      </defs>\n      <g transform=\"translate(39.0625 253.120625)rotate(-90)scale(0.1 -0.1)\">\n       <use xlink:href=\"#DejaVuSans-49\"/>\n      </g>\n     </g>\n    </g>\n    <g id=\"xtick_2\">\n     <g id=\"line2d_2\">\n      <g>\n       <use style=\"stroke:#000000;stroke-width:0.8;\" x=\"48.703125\" xlink:href=\"#m9a8bf03186\" y=\"239.758125\"/>\n      </g>\n     </g>\n     <g id=\"text_2\">\n      <!-- 2 -->\n      <defs>\n       <path d=\"M 19.1875 8.296875 \nL 53.609375 8.296875 \nL 53.609375 0 \nL 7.328125 0 \nL 7.328125 8.296875 \nQ 12.9375 14.109375 22.625 23.890625 \nQ 32.328125 33.6875 34.8125 36.53125 \nQ 39.546875 41.84375 41.421875 45.53125 \nQ 43.3125 49.21875 43.3125 52.78125 \nQ 43.3125 58.59375 39.234375 62.25 \nQ 35.15625 65.921875 28.609375 65.921875 \nQ 23.96875 65.921875 18.8125 64.3125 \nQ 13.671875 62.703125 7.8125 59.421875 \nL 7.8125 69.390625 \nQ 13.765625 71.78125 18.9375 73 \nQ 24.125 74.21875 28.421875 74.21875 \nQ 39.75 74.21875 46.484375 68.546875 \nQ 53.21875 62.890625 53.21875 53.421875 \nQ 53.21875 48.921875 51.53125 44.890625 \nQ 49.859375 40.875 45.40625 35.40625 \nQ 44.1875 33.984375 37.640625 27.21875 \nQ 31.109375 20.453125 19.1875 8.296875 \nz\n\" id=\"DejaVuSans-50\"/>\n      </defs>\n      <g transform=\"translate(51.4625 253.120625)rotate(-90)scale(0.1 -0.1)\">\n       <use xlink:href=\"#DejaVuSans-50\"/>\n      </g>\n     </g>\n    </g>\n    <g id=\"xtick_3\">\n     <g id=\"line2d_3\">\n      <g>\n       <use style=\"stroke:#000000;stroke-width:0.8;\" x=\"61.103125\" xlink:href=\"#m9a8bf03186\" y=\"239.758125\"/>\n      </g>\n     </g>\n     <g id=\"text_3\">\n      <!-- 3 -->\n      <defs>\n       <path d=\"M 40.578125 39.3125 \nQ 47.65625 37.796875 51.625 33 \nQ 55.609375 28.21875 55.609375 21.1875 \nQ 55.609375 10.40625 48.1875 4.484375 \nQ 40.765625 -1.421875 27.09375 -1.421875 \nQ 22.515625 -1.421875 17.65625 -0.515625 \nQ 12.796875 0.390625 7.625 2.203125 \nL 7.625 11.71875 \nQ 11.71875 9.328125 16.59375 8.109375 \nQ 21.484375 6.890625 26.8125 6.890625 \nQ 36.078125 6.890625 40.9375 10.546875 \nQ 45.796875 14.203125 45.796875 21.1875 \nQ 45.796875 27.640625 41.28125 31.265625 \nQ 36.765625 34.90625 28.71875 34.90625 \nL 20.21875 34.90625 \nL 20.21875 43.015625 \nL 29.109375 43.015625 \nQ 36.375 43.015625 40.234375 45.921875 \nQ 44.09375 48.828125 44.09375 54.296875 \nQ 44.09375 59.90625 40.109375 62.90625 \nQ 36.140625 65.921875 28.71875 65.921875 \nQ 24.65625 65.921875 20.015625 65.03125 \nQ 15.375 64.15625 9.8125 62.3125 \nL 9.8125 71.09375 \nQ 15.4375 72.65625 20.34375 73.4375 \nQ 25.25 74.21875 29.59375 74.21875 \nQ 40.828125 74.21875 47.359375 69.109375 \nQ 53.90625 64.015625 53.90625 55.328125 \nQ 53.90625 49.265625 50.4375 45.09375 \nQ 46.96875 40.921875 40.578125 39.3125 \nz\n\" id=\"DejaVuSans-51\"/>\n      </defs>\n      <g transform=\"translate(63.8625 253.120625)rotate(-90)scale(0.1 -0.1)\">\n       <use xlink:href=\"#DejaVuSans-51\"/>\n      </g>\n     </g>\n    </g>\n    <g id=\"xtick_4\">\n     <g id=\"line2d_4\">\n      <g>\n       <use style=\"stroke:#000000;stroke-width:0.8;\" x=\"73.503125\" xlink:href=\"#m9a8bf03186\" y=\"239.758125\"/>\n      </g>\n     </g>\n     <g id=\"text_4\">\n      <!-- 45 -->\n      <defs>\n       <path d=\"M 37.796875 64.3125 \nL 12.890625 25.390625 \nL 37.796875 25.390625 \nz\nM 35.203125 72.90625 \nL 47.609375 72.90625 \nL 47.609375 25.390625 \nL 58.015625 25.390625 \nL 58.015625 17.1875 \nL 47.609375 17.1875 \nL 47.609375 0 \nL 37.796875 0 \nL 37.796875 17.1875 \nL 4.890625 17.1875 \nL 4.890625 26.703125 \nz\n\" id=\"DejaVuSans-52\"/>\n       <path d=\"M 10.796875 72.90625 \nL 49.515625 72.90625 \nL 49.515625 64.59375 \nL 19.828125 64.59375 \nL 19.828125 46.734375 \nQ 21.96875 47.46875 24.109375 47.828125 \nQ 26.265625 48.1875 28.421875 48.1875 \nQ 40.625 48.1875 47.75 41.5 \nQ 54.890625 34.8125 54.890625 23.390625 \nQ 54.890625 11.625 47.5625 5.09375 \nQ 40.234375 -1.421875 26.90625 -1.421875 \nQ 22.3125 -1.421875 17.546875 -0.640625 \nQ 12.796875 0.140625 7.71875 1.703125 \nL 7.71875 11.625 \nQ 12.109375 9.234375 16.796875 8.0625 \nQ 21.484375 6.890625 26.703125 6.890625 \nQ 35.15625 6.890625 40.078125 11.328125 \nQ 45.015625 15.765625 45.015625 23.390625 \nQ 45.015625 31 40.078125 35.4375 \nQ 35.15625 39.890625 26.703125 39.890625 \nQ 22.75 39.890625 18.8125 39.015625 \nQ 14.890625 38.140625 10.796875 36.28125 \nz\n\" id=\"DejaVuSans-53\"/>\n      </defs>\n      <g transform=\"translate(76.2625 259.483125)rotate(-90)scale(0.1 -0.1)\">\n       <use xlink:href=\"#DejaVuSans-52\"/>\n       <use x=\"63.623047\" xlink:href=\"#DejaVuSans-53\"/>\n      </g>\n     </g>\n    </g>\n    <g id=\"xtick_5\">\n     <g id=\"line2d_5\">\n      <g>\n       <use style=\"stroke:#000000;stroke-width:0.8;\" x=\"85.903125\" xlink:href=\"#m9a8bf03186\" y=\"239.758125\"/>\n      </g>\n     </g>\n     <g id=\"text_5\">\n      <!-- 60 -->\n      <defs>\n       <path d=\"M 33.015625 40.375 \nQ 26.375 40.375 22.484375 35.828125 \nQ 18.609375 31.296875 18.609375 23.390625 \nQ 18.609375 15.53125 22.484375 10.953125 \nQ 26.375 6.390625 33.015625 6.390625 \nQ 39.65625 6.390625 43.53125 10.953125 \nQ 47.40625 15.53125 47.40625 23.390625 \nQ 47.40625 31.296875 43.53125 35.828125 \nQ 39.65625 40.375 33.015625 40.375 \nz\nM 52.59375 71.296875 \nL 52.59375 62.3125 \nQ 48.875 64.0625 45.09375 64.984375 \nQ 41.3125 65.921875 37.59375 65.921875 \nQ 27.828125 65.921875 22.671875 59.328125 \nQ 17.53125 52.734375 16.796875 39.40625 \nQ 19.671875 43.65625 24.015625 45.921875 \nQ 28.375 48.1875 33.59375 48.1875 \nQ 44.578125 48.1875 50.953125 41.515625 \nQ 57.328125 34.859375 57.328125 23.390625 \nQ 57.328125 12.15625 50.6875 5.359375 \nQ 44.046875 -1.421875 33.015625 -1.421875 \nQ 20.359375 -1.421875 13.671875 8.265625 \nQ 6.984375 17.96875 6.984375 36.375 \nQ 6.984375 53.65625 15.1875 63.9375 \nQ 23.390625 74.21875 37.203125 74.21875 \nQ 40.921875 74.21875 44.703125 73.484375 \nQ 48.484375 72.75 52.59375 71.296875 \nz\n\" id=\"DejaVuSans-54\"/>\n       <path d=\"M 31.78125 66.40625 \nQ 24.171875 66.40625 20.328125 58.90625 \nQ 16.5 51.421875 16.5 36.375 \nQ 16.5 21.390625 20.328125 13.890625 \nQ 24.171875 6.390625 31.78125 6.390625 \nQ 39.453125 6.390625 43.28125 13.890625 \nQ 47.125 21.390625 47.125 36.375 \nQ 47.125 51.421875 43.28125 58.90625 \nQ 39.453125 66.40625 31.78125 66.40625 \nz\nM 31.78125 74.21875 \nQ 44.046875 74.21875 50.515625 64.515625 \nQ 56.984375 54.828125 56.984375 36.375 \nQ 56.984375 17.96875 50.515625 8.265625 \nQ 44.046875 -1.421875 31.78125 -1.421875 \nQ 19.53125 -1.421875 13.0625 8.265625 \nQ 6.59375 17.96875 6.59375 36.375 \nQ 6.59375 54.828125 13.0625 64.515625 \nQ 19.53125 74.21875 31.78125 74.21875 \nz\n\" id=\"DejaVuSans-48\"/>\n      </defs>\n      <g transform=\"translate(88.6625 259.483125)rotate(-90)scale(0.1 -0.1)\">\n       <use xlink:href=\"#DejaVuSans-54\"/>\n       <use x=\"63.623047\" xlink:href=\"#DejaVuSans-48\"/>\n      </g>\n     </g>\n    </g>\n    <g id=\"xtick_6\">\n     <g id=\"line2d_6\">\n      <g>\n       <use style=\"stroke:#000000;stroke-width:0.8;\" x=\"98.303125\" xlink:href=\"#m9a8bf03186\" y=\"239.758125\"/>\n      </g>\n     </g>\n     <g id=\"text_6\">\n      <!-- 70 -->\n      <defs>\n       <path d=\"M 8.203125 72.90625 \nL 55.078125 72.90625 \nL 55.078125 68.703125 \nL 28.609375 0 \nL 18.3125 0 \nL 43.21875 64.59375 \nL 8.203125 64.59375 \nz\n\" id=\"DejaVuSans-55\"/>\n      </defs>\n      <g transform=\"translate(101.0625 259.483125)rotate(-90)scale(0.1 -0.1)\">\n       <use xlink:href=\"#DejaVuSans-55\"/>\n       <use x=\"63.623047\" xlink:href=\"#DejaVuSans-48\"/>\n      </g>\n     </g>\n    </g>\n    <g id=\"xtick_7\">\n     <g id=\"line2d_7\">\n      <g>\n       <use style=\"stroke:#000000;stroke-width:0.8;\" x=\"110.703125\" xlink:href=\"#m9a8bf03186\" y=\"239.758125\"/>\n      </g>\n     </g>\n     <g id=\"text_7\">\n      <!-- 90 -->\n      <defs>\n       <path d=\"M 10.984375 1.515625 \nL 10.984375 10.5 \nQ 14.703125 8.734375 18.5 7.8125 \nQ 22.3125 6.890625 25.984375 6.890625 \nQ 35.75 6.890625 40.890625 13.453125 \nQ 46.046875 20.015625 46.78125 33.40625 \nQ 43.953125 29.203125 39.59375 26.953125 \nQ 35.25 24.703125 29.984375 24.703125 \nQ 19.046875 24.703125 12.671875 31.3125 \nQ 6.296875 37.9375 6.296875 49.421875 \nQ 6.296875 60.640625 12.9375 67.421875 \nQ 19.578125 74.21875 30.609375 74.21875 \nQ 43.265625 74.21875 49.921875 64.515625 \nQ 56.59375 54.828125 56.59375 36.375 \nQ 56.59375 19.140625 48.40625 8.859375 \nQ 40.234375 -1.421875 26.421875 -1.421875 \nQ 22.703125 -1.421875 18.890625 -0.6875 \nQ 15.09375 0.046875 10.984375 1.515625 \nz\nM 30.609375 32.421875 \nQ 37.25 32.421875 41.125 36.953125 \nQ 45.015625 41.5 45.015625 49.421875 \nQ 45.015625 57.28125 41.125 61.84375 \nQ 37.25 66.40625 30.609375 66.40625 \nQ 23.96875 66.40625 20.09375 61.84375 \nQ 16.21875 57.28125 16.21875 49.421875 \nQ 16.21875 41.5 20.09375 36.953125 \nQ 23.96875 32.421875 30.609375 32.421875 \nz\n\" id=\"DejaVuSans-57\"/>\n      </defs>\n      <g transform=\"translate(113.4625 259.483125)rotate(-90)scale(0.1 -0.1)\">\n       <use xlink:href=\"#DejaVuSans-57\"/>\n       <use x=\"63.623047\" xlink:href=\"#DejaVuSans-48\"/>\n      </g>\n     </g>\n    </g>\n    <g id=\"xtick_8\">\n     <g id=\"line2d_8\">\n      <g>\n       <use style=\"stroke:#000000;stroke-width:0.8;\" x=\"123.103125\" xlink:href=\"#m9a8bf03186\" y=\"239.758125\"/>\n      </g>\n     </g>\n     <g id=\"text_8\">\n      <!-- 100 -->\n      <g transform=\"translate(125.8625 265.845625)rotate(-90)scale(0.1 -0.1)\">\n       <use xlink:href=\"#DejaVuSans-49\"/>\n       <use x=\"63.623047\" xlink:href=\"#DejaVuSans-48\"/>\n       <use x=\"127.246094\" xlink:href=\"#DejaVuSans-48\"/>\n      </g>\n     </g>\n    </g>\n    <g id=\"xtick_9\">\n     <g id=\"line2d_9\">\n      <g>\n       <use style=\"stroke:#000000;stroke-width:0.8;\" x=\"135.503125\" xlink:href=\"#m9a8bf03186\" y=\"239.758125\"/>\n      </g>\n     </g>\n     <g id=\"text_9\">\n      <!-- 101 -->\n      <g transform=\"translate(138.2625 265.845625)rotate(-90)scale(0.1 -0.1)\">\n       <use xlink:href=\"#DejaVuSans-49\"/>\n       <use x=\"63.623047\" xlink:href=\"#DejaVuSans-48\"/>\n       <use x=\"127.246094\" xlink:href=\"#DejaVuSans-49\"/>\n      </g>\n     </g>\n    </g>\n    <g id=\"xtick_10\">\n     <g id=\"line2d_10\">\n      <g>\n       <use style=\"stroke:#000000;stroke-width:0.8;\" x=\"147.903125\" xlink:href=\"#m9a8bf03186\" y=\"239.758125\"/>\n      </g>\n     </g>\n     <g id=\"text_10\">\n      <!-- 102 -->\n      <g transform=\"translate(150.6625 265.845625)rotate(-90)scale(0.1 -0.1)\">\n       <use xlink:href=\"#DejaVuSans-49\"/>\n       <use x=\"63.623047\" xlink:href=\"#DejaVuSans-48\"/>\n       <use x=\"127.246094\" xlink:href=\"#DejaVuSans-50\"/>\n      </g>\n     </g>\n    </g>\n    <g id=\"xtick_11\">\n     <g id=\"line2d_11\">\n      <g>\n       <use style=\"stroke:#000000;stroke-width:0.8;\" x=\"160.303125\" xlink:href=\"#m9a8bf03186\" y=\"239.758125\"/>\n      </g>\n     </g>\n     <g id=\"text_11\">\n      <!-- 200.0 -->\n      <defs>\n       <path d=\"M 10.6875 12.40625 \nL 21 12.40625 \nL 21 0 \nL 10.6875 0 \nz\n\" id=\"DejaVuSans-46\"/>\n      </defs>\n      <g transform=\"translate(163.0625 275.38625)rotate(-90)scale(0.1 -0.1)\">\n       <use xlink:href=\"#DejaVuSans-50\"/>\n       <use x=\"63.623047\" xlink:href=\"#DejaVuSans-48\"/>\n       <use x=\"127.246094\" xlink:href=\"#DejaVuSans-48\"/>\n       <use x=\"190.869141\" xlink:href=\"#DejaVuSans-46\"/>\n       <use x=\"222.65625\" xlink:href=\"#DejaVuSans-48\"/>\n      </g>\n     </g>\n    </g>\n    <g id=\"xtick_12\">\n     <g id=\"line2d_12\">\n      <g>\n       <use style=\"stroke:#000000;stroke-width:0.8;\" x=\"172.703125\" xlink:href=\"#m9a8bf03186\" y=\"239.758125\"/>\n      </g>\n     </g>\n     <g id=\"text_12\">\n      <!-- 250.0 -->\n      <g transform=\"translate(175.4625 275.38625)rotate(-90)scale(0.1 -0.1)\">\n       <use xlink:href=\"#DejaVuSans-50\"/>\n       <use x=\"63.623047\" xlink:href=\"#DejaVuSans-53\"/>\n       <use x=\"127.246094\" xlink:href=\"#DejaVuSans-48\"/>\n       <use x=\"190.869141\" xlink:href=\"#DejaVuSans-46\"/>\n       <use x=\"222.65625\" xlink:href=\"#DejaVuSans-48\"/>\n      </g>\n     </g>\n    </g>\n    <g id=\"xtick_13\">\n     <g id=\"line2d_13\">\n      <g>\n       <use style=\"stroke:#000000;stroke-width:0.8;\" x=\"185.103125\" xlink:href=\"#m9a8bf03186\" y=\"239.758125\"/>\n      </g>\n     </g>\n     <g id=\"text_13\">\n      <!-- 300 -->\n      <g transform=\"translate(187.8625 265.845625)rotate(-90)scale(0.1 -0.1)\">\n       <use xlink:href=\"#DejaVuSans-51\"/>\n       <use x=\"63.623047\" xlink:href=\"#DejaVuSans-48\"/>\n       <use x=\"127.246094\" xlink:href=\"#DejaVuSans-48\"/>\n      </g>\n     </g>\n    </g>\n    <g id=\"xtick_14\">\n     <g id=\"line2d_14\">\n      <g>\n       <use style=\"stroke:#000000;stroke-width:0.8;\" x=\"197.503125\" xlink:href=\"#m9a8bf03186\" y=\"239.758125\"/>\n      </g>\n     </g>\n     <g id=\"text_14\">\n      <!-- 330.0 -->\n      <g transform=\"translate(200.2625 275.38625)rotate(-90)scale(0.1 -0.1)\">\n       <use xlink:href=\"#DejaVuSans-51\"/>\n       <use x=\"63.623047\" xlink:href=\"#DejaVuSans-51\"/>\n       <use x=\"127.246094\" xlink:href=\"#DejaVuSans-48\"/>\n       <use x=\"190.869141\" xlink:href=\"#DejaVuSans-46\"/>\n       <use x=\"222.65625\" xlink:href=\"#DejaVuSans-48\"/>\n      </g>\n     </g>\n    </g>\n    <g id=\"xtick_15\">\n     <g id=\"line2d_15\">\n      <g>\n       <use style=\"stroke:#000000;stroke-width:0.8;\" x=\"209.903125\" xlink:href=\"#m9a8bf03186\" y=\"239.758125\"/>\n      </g>\n     </g>\n     <g id=\"text_15\">\n      <!-- 477.0 -->\n      <g transform=\"translate(212.6625 275.38625)rotate(-90)scale(0.1 -0.1)\">\n       <use xlink:href=\"#DejaVuSans-52\"/>\n       <use x=\"63.623047\" xlink:href=\"#DejaVuSans-55\"/>\n       <use x=\"127.246094\" xlink:href=\"#DejaVuSans-55\"/>\n       <use x=\"190.869141\" xlink:href=\"#DejaVuSans-46\"/>\n       <use x=\"222.65625\" xlink:href=\"#DejaVuSans-48\"/>\n      </g>\n     </g>\n    </g>\n    <g id=\"xtick_16\">\n     <g id=\"line2d_16\">\n      <g>\n       <use style=\"stroke:#000000;stroke-width:0.8;\" x=\"222.303125\" xlink:href=\"#m9a8bf03186\" y=\"239.758125\"/>\n      </g>\n     </g>\n     <g id=\"text_16\">\n      <!-- 540 -->\n      <g transform=\"translate(225.0625 265.845625)rotate(-90)scale(0.1 -0.1)\">\n       <use xlink:href=\"#DejaVuSans-53\"/>\n       <use x=\"63.623047\" xlink:href=\"#DejaVuSans-52\"/>\n       <use x=\"127.246094\" xlink:href=\"#DejaVuSans-48\"/>\n      </g>\n     </g>\n    </g>\n    <g id=\"xtick_17\">\n     <g id=\"line2d_17\">\n      <g>\n       <use style=\"stroke:#000000;stroke-width:0.8;\" x=\"234.703125\" xlink:href=\"#m9a8bf03186\" y=\"239.758125\"/>\n      </g>\n     </g>\n     <g id=\"text_17\">\n      <!-- 590 -->\n      <g transform=\"translate(237.4625 265.845625)rotate(-90)scale(0.1 -0.1)\">\n       <use xlink:href=\"#DejaVuSans-53\"/>\n       <use x=\"63.623047\" xlink:href=\"#DejaVuSans-57\"/>\n       <use x=\"127.246094\" xlink:href=\"#DejaVuSans-48\"/>\n      </g>\n     </g>\n    </g>\n    <g id=\"xtick_18\">\n     <g id=\"line2d_18\">\n      <g>\n       <use style=\"stroke:#000000;stroke-width:0.8;\" x=\"247.103125\" xlink:href=\"#m9a8bf03186\" y=\"239.758125\"/>\n      </g>\n     </g>\n     <g id=\"text_18\">\n      <!-- 1200 -->\n      <g transform=\"translate(249.8625 272.208125)rotate(-90)scale(0.1 -0.1)\">\n       <use xlink:href=\"#DejaVuSans-49\"/>\n       <use x=\"63.623047\" xlink:href=\"#DejaVuSans-50\"/>\n       <use x=\"127.246094\" xlink:href=\"#DejaVuSans-48\"/>\n       <use x=\"190.869141\" xlink:href=\"#DejaVuSans-48\"/>\n      </g>\n     </g>\n    </g>\n    <g id=\"xtick_19\">\n     <g id=\"line2d_19\">\n      <g>\n       <use style=\"stroke:#000000;stroke-width:0.8;\" x=\"259.503125\" xlink:href=\"#m9a8bf03186\" y=\"239.758125\"/>\n      </g>\n     </g>\n     <g id=\"text_19\">\n      <!-- 4022.5 -->\n      <g transform=\"translate(262.2625 281.74875)rotate(-90)scale(0.1 -0.1)\">\n       <use xlink:href=\"#DejaVuSans-52\"/>\n       <use x=\"63.623047\" xlink:href=\"#DejaVuSans-48\"/>\n       <use x=\"127.246094\" xlink:href=\"#DejaVuSans-50\"/>\n       <use x=\"190.869141\" xlink:href=\"#DejaVuSans-50\"/>\n       <use x=\"254.492188\" xlink:href=\"#DejaVuSans-46\"/>\n       <use x=\"286.279297\" xlink:href=\"#DejaVuSans-53\"/>\n      </g>\n     </g>\n    </g>\n    <g id=\"xtick_20\">\n     <g id=\"line2d_20\">\n      <g>\n       <use style=\"stroke:#000000;stroke-width:0.8;\" x=\"271.903125\" xlink:href=\"#m9a8bf03186\" y=\"239.758125\"/>\n      </g>\n     </g>\n     <g id=\"text_20\">\n      <!-- 8000 -->\n      <defs>\n       <path d=\"M 31.78125 34.625 \nQ 24.75 34.625 20.71875 30.859375 \nQ 16.703125 27.09375 16.703125 20.515625 \nQ 16.703125 13.921875 20.71875 10.15625 \nQ 24.75 6.390625 31.78125 6.390625 \nQ 38.8125 6.390625 42.859375 10.171875 \nQ 46.921875 13.96875 46.921875 20.515625 \nQ 46.921875 27.09375 42.890625 30.859375 \nQ 38.875 34.625 31.78125 34.625 \nz\nM 21.921875 38.8125 \nQ 15.578125 40.375 12.03125 44.71875 \nQ 8.5 49.078125 8.5 55.328125 \nQ 8.5 64.0625 14.71875 69.140625 \nQ 20.953125 74.21875 31.78125 74.21875 \nQ 42.671875 74.21875 48.875 69.140625 \nQ 55.078125 64.0625 55.078125 55.328125 \nQ 55.078125 49.078125 51.53125 44.71875 \nQ 48 40.375 41.703125 38.8125 \nQ 48.828125 37.15625 52.796875 32.3125 \nQ 56.78125 27.484375 56.78125 20.515625 \nQ 56.78125 9.90625 50.3125 4.234375 \nQ 43.84375 -1.421875 31.78125 -1.421875 \nQ 19.734375 -1.421875 13.25 4.234375 \nQ 6.78125 9.90625 6.78125 20.515625 \nQ 6.78125 27.484375 10.78125 32.3125 \nQ 14.796875 37.15625 21.921875 38.8125 \nz\nM 18.3125 54.390625 \nQ 18.3125 48.734375 21.84375 45.5625 \nQ 25.390625 42.390625 31.78125 42.390625 \nQ 38.140625 42.390625 41.71875 45.5625 \nQ 45.3125 48.734375 45.3125 54.390625 \nQ 45.3125 60.0625 41.71875 63.234375 \nQ 38.140625 66.40625 31.78125 66.40625 \nQ 25.390625 66.40625 21.84375 63.234375 \nQ 18.3125 60.0625 18.3125 54.390625 \nz\n\" id=\"DejaVuSans-56\"/>\n      </defs>\n      <g transform=\"translate(274.6625 272.208125)rotate(-90)scale(0.1 -0.1)\">\n       <use xlink:href=\"#DejaVuSans-56\"/>\n       <use x=\"63.623047\" xlink:href=\"#DejaVuSans-48\"/>\n       <use x=\"127.246094\" xlink:href=\"#DejaVuSans-48\"/>\n       <use x=\"190.869141\" xlink:href=\"#DejaVuSans-48\"/>\n      </g>\n     </g>\n    </g>\n    <g id=\"xtick_21\">\n     <g id=\"line2d_21\">\n      <g>\n       <use style=\"stroke:#000000;stroke-width:0.8;\" x=\"284.303125\" xlink:href=\"#m9a8bf03186\" y=\"239.758125\"/>\n      </g>\n     </g>\n     <g id=\"text_21\">\n      <!-- ESP -->\n      <defs>\n       <path d=\"M 9.8125 72.90625 \nL 55.90625 72.90625 \nL 55.90625 64.59375 \nL 19.671875 64.59375 \nL 19.671875 43.015625 \nL 54.390625 43.015625 \nL 54.390625 34.71875 \nL 19.671875 34.71875 \nL 19.671875 8.296875 \nL 56.78125 8.296875 \nL 56.78125 0 \nL 9.8125 0 \nz\n\" id=\"DejaVuSans-69\"/>\n       <path d=\"M 53.515625 70.515625 \nL 53.515625 60.890625 \nQ 47.90625 63.578125 42.921875 64.890625 \nQ 37.9375 66.21875 33.296875 66.21875 \nQ 25.25 66.21875 20.875 63.09375 \nQ 16.5 59.96875 16.5 54.203125 \nQ 16.5 49.359375 19.40625 46.890625 \nQ 22.3125 44.4375 30.421875 42.921875 \nL 36.375 41.703125 \nQ 47.40625 39.59375 52.65625 34.296875 \nQ 57.90625 29 57.90625 20.125 \nQ 57.90625 9.515625 50.796875 4.046875 \nQ 43.703125 -1.421875 29.984375 -1.421875 \nQ 24.8125 -1.421875 18.96875 -0.25 \nQ 13.140625 0.921875 6.890625 3.21875 \nL 6.890625 13.375 \nQ 12.890625 10.015625 18.65625 8.296875 \nQ 24.421875 6.59375 29.984375 6.59375 \nQ 38.421875 6.59375 43.015625 9.90625 \nQ 47.609375 13.234375 47.609375 19.390625 \nQ 47.609375 24.75 44.3125 27.78125 \nQ 41.015625 30.8125 33.5 32.328125 \nL 27.484375 33.5 \nQ 16.453125 35.6875 11.515625 40.375 \nQ 6.59375 45.0625 6.59375 53.421875 \nQ 6.59375 63.09375 13.40625 68.65625 \nQ 20.21875 74.21875 32.171875 74.21875 \nQ 37.3125 74.21875 42.625 73.28125 \nQ 47.953125 72.359375 53.515625 70.515625 \nz\n\" id=\"DejaVuSans-83\"/>\n       <path d=\"M 19.671875 64.796875 \nL 19.671875 37.40625 \nL 32.078125 37.40625 \nQ 38.96875 37.40625 42.71875 40.96875 \nQ 46.484375 44.53125 46.484375 51.125 \nQ 46.484375 57.671875 42.71875 61.234375 \nQ 38.96875 64.796875 32.078125 64.796875 \nz\nM 9.8125 72.90625 \nL 32.078125 72.90625 \nQ 44.34375 72.90625 50.609375 67.359375 \nQ 56.890625 61.8125 56.890625 51.125 \nQ 56.890625 40.328125 50.609375 34.8125 \nQ 44.34375 29.296875 32.078125 29.296875 \nL 19.671875 29.296875 \nL 19.671875 0 \nL 9.8125 0 \nz\n\" id=\"DejaVuSans-80\"/>\n      </defs>\n      <g transform=\"translate(287.0625 265.455)rotate(-90)scale(0.1 -0.1)\">\n       <use xlink:href=\"#DejaVuSans-69\"/>\n       <use x=\"63.183594\" xlink:href=\"#DejaVuSans-83\"/>\n       <use x=\"126.660156\" xlink:href=\"#DejaVuSans-80\"/>\n      </g>\n     </g>\n    </g>\n    <g id=\"xtick_22\">\n     <g id=\"line2d_22\">\n      <g>\n       <use style=\"stroke:#000000;stroke-width:0.8;\" x=\"296.703125\" xlink:href=\"#m9a8bf03186\" y=\"239.758125\"/>\n      </g>\n     </g>\n     <g id=\"text_22\">\n      <!-- FRA -->\n      <defs>\n       <path d=\"M 9.8125 72.90625 \nL 51.703125 72.90625 \nL 51.703125 64.59375 \nL 19.671875 64.59375 \nL 19.671875 43.109375 \nL 48.578125 43.109375 \nL 48.578125 34.8125 \nL 19.671875 34.8125 \nL 19.671875 0 \nL 9.8125 0 \nz\n\" id=\"DejaVuSans-70\"/>\n       <path d=\"M 44.390625 34.1875 \nQ 47.5625 33.109375 50.5625 29.59375 \nQ 53.5625 26.078125 56.59375 19.921875 \nL 66.609375 0 \nL 56 0 \nL 46.6875 18.703125 \nQ 43.0625 26.03125 39.671875 28.421875 \nQ 36.28125 30.8125 30.421875 30.8125 \nL 19.671875 30.8125 \nL 19.671875 0 \nL 9.8125 0 \nL 9.8125 72.90625 \nL 32.078125 72.90625 \nQ 44.578125 72.90625 50.734375 67.671875 \nQ 56.890625 62.453125 56.890625 51.90625 \nQ 56.890625 45.015625 53.6875 40.46875 \nQ 50.484375 35.9375 44.390625 34.1875 \nz\nM 19.671875 64.796875 \nL 19.671875 38.921875 \nL 32.078125 38.921875 \nQ 39.203125 38.921875 42.84375 42.21875 \nQ 46.484375 45.515625 46.484375 51.90625 \nQ 46.484375 58.296875 42.84375 61.546875 \nQ 39.203125 64.796875 32.078125 64.796875 \nz\n\" id=\"DejaVuSans-82\"/>\n       <path d=\"M 34.1875 63.1875 \nL 20.796875 26.90625 \nL 47.609375 26.90625 \nz\nM 28.609375 72.90625 \nL 39.796875 72.90625 \nL 67.578125 0 \nL 57.328125 0 \nL 50.6875 18.703125 \nL 17.828125 18.703125 \nL 11.1875 0 \nL 0.78125 0 \nz\n\" id=\"DejaVuSans-65\"/>\n      </defs>\n      <g transform=\"translate(299.4625 265.89875)rotate(-90)scale(0.1 -0.1)\">\n       <use xlink:href=\"#DejaVuSans-70\"/>\n       <use x=\"57.519531\" xlink:href=\"#DejaVuSans-82\"/>\n       <use x=\"123.001953\" xlink:href=\"#DejaVuSans-65\"/>\n      </g>\n     </g>\n    </g>\n    <g id=\"xtick_23\">\n     <g id=\"line2d_23\">\n      <g>\n       <use style=\"stroke:#000000;stroke-width:0.8;\" x=\"309.103125\" xlink:href=\"#m9a8bf03186\" y=\"239.758125\"/>\n      </g>\n     </g>\n     <g id=\"text_23\">\n      <!-- I -->\n      <defs>\n       <path d=\"M 9.8125 72.90625 \nL 19.671875 72.90625 \nL 19.671875 0 \nL 9.8125 0 \nz\n\" id=\"DejaVuSans-73\"/>\n      </defs>\n      <g transform=\"translate(311.8625 249.708125)rotate(-90)scale(0.1 -0.1)\">\n       <use xlink:href=\"#DejaVuSans-73\"/>\n      </g>\n     </g>\n    </g>\n    <g id=\"xtick_24\">\n     <g id=\"line2d_24\">\n      <g>\n       <use style=\"stroke:#000000;stroke-width:0.8;\" x=\"321.503125\" xlink:href=\"#m9a8bf03186\" y=\"239.758125\"/>\n      </g>\n     </g>\n     <g id=\"text_24\">\n      <!-- ITA -->\n      <defs>\n       <path d=\"M -0.296875 72.90625 \nL 61.375 72.90625 \nL 61.375 64.59375 \nL 35.5 64.59375 \nL 35.5 0 \nL 25.59375 0 \nL 25.59375 64.59375 \nL -0.296875 64.59375 \nz\n\" id=\"DejaVuSans-84\"/>\n      </defs>\n      <g transform=\"translate(324.2625 261.881563)rotate(-90)scale(0.1 -0.1)\">\n       <use xlink:href=\"#DejaVuSans-73\"/>\n       <use x=\"29.492188\" xlink:href=\"#DejaVuSans-84\"/>\n       <use x=\"82.826172\" xlink:href=\"#DejaVuSans-65\"/>\n      </g>\n     </g>\n    </g>\n    <g id=\"xtick_25\">\n     <g id=\"line2d_25\">\n      <g>\n       <use style=\"stroke:#000000;stroke-width:0.8;\" x=\"333.903125\" xlink:href=\"#m9a8bf03186\" y=\"239.758125\"/>\n      </g>\n     </g>\n     <g id=\"text_25\">\n      <!-- J -->\n      <defs>\n       <path d=\"M 9.8125 72.90625 \nL 19.671875 72.90625 \nL 19.671875 5.078125 \nQ 19.671875 -8.109375 14.671875 -14.0625 \nQ 9.671875 -20.015625 -1.421875 -20.015625 \nL -5.171875 -20.015625 \nL -5.171875 -11.71875 \nL -2.09375 -11.71875 \nQ 4.4375 -11.71875 7.125 -8.046875 \nQ 9.8125 -4.390625 9.8125 5.078125 \nz\n\" id=\"DejaVuSans-74\"/>\n      </defs>\n      <g transform=\"translate(336.6625 249.708125)rotate(-90)scale(0.1 -0.1)\">\n       <use xlink:href=\"#DejaVuSans-74\"/>\n      </g>\n     </g>\n    </g>\n    <g id=\"xtick_26\">\n     <g id=\"line2d_26\">\n      <g>\n       <use style=\"stroke:#000000;stroke-width:0.8;\" x=\"346.303125\" xlink:href=\"#m9a8bf03186\" y=\"239.758125\"/>\n      </g>\n     </g>\n     <g id=\"text_26\">\n      <!-- S -->\n      <g transform=\"translate(349.0625 253.106563)rotate(-90)scale(0.1 -0.1)\">\n       <use xlink:href=\"#DejaVuSans-83\"/>\n      </g>\n     </g>\n    </g>\n    <g id=\"xtick_27\">\n     <g id=\"line2d_27\">\n      <g>\n       <use style=\"stroke:#000000;stroke-width:0.8;\" x=\"358.703125\" xlink:href=\"#m9a8bf03186\" y=\"239.758125\"/>\n      </g>\n     </g>\n     <g id=\"text_27\">\n      <!-- USA -->\n      <defs>\n       <path d=\"M 8.6875 72.90625 \nL 18.609375 72.90625 \nL 18.609375 28.609375 \nQ 18.609375 16.890625 22.84375 11.734375 \nQ 27.09375 6.59375 36.625 6.59375 \nQ 46.09375 6.59375 50.34375 11.734375 \nQ 54.59375 16.890625 54.59375 28.609375 \nL 54.59375 72.90625 \nL 64.5 72.90625 \nL 64.5 27.390625 \nQ 64.5 13.140625 57.4375 5.859375 \nQ 50.390625 -1.421875 36.625 -1.421875 \nQ 22.796875 -1.421875 15.734375 5.859375 \nQ 8.6875 13.140625 8.6875 27.390625 \nz\n\" id=\"DejaVuSans-85\"/>\n      </defs>\n      <g transform=\"translate(361.4625 267.453438)rotate(-90)scale(0.1 -0.1)\">\n       <use xlink:href=\"#DejaVuSans-85\"/>\n       <use x=\"73.193359\" xlink:href=\"#DejaVuSans-83\"/>\n       <use x=\"138.544922\" xlink:href=\"#DejaVuSans-65\"/>\n      </g>\n     </g>\n    </g>\n   </g>\n   <g id=\"matplotlib.axis_2\">\n    <g id=\"ytick_1\">\n     <g id=\"line2d_28\">\n      <defs>\n       <path d=\"M 0 0 \nL -3.5 0 \n\" id=\"m6fef6d0fac\" style=\"stroke:#000000;stroke-width:0.8;\"/>\n      </defs>\n      <g>\n       <use style=\"stroke:#000000;stroke-width:0.8;\" x=\"30.103125\" xlink:href=\"#m6fef6d0fac\" y=\"239.758125\"/>\n      </g>\n     </g>\n     <g id=\"text_28\">\n      <!-- 0.0 -->\n      <g transform=\"translate(7.2 243.557344)scale(0.1 -0.1)\">\n       <use xlink:href=\"#DejaVuSans-48\"/>\n       <use x=\"63.623047\" xlink:href=\"#DejaVuSans-46\"/>\n       <use x=\"95.410156\" xlink:href=\"#DejaVuSans-48\"/>\n      </g>\n     </g>\n    </g>\n    <g id=\"ytick_2\">\n     <g id=\"line2d_29\">\n      <g>\n       <use style=\"stroke:#000000;stroke-width:0.8;\" x=\"30.103125\" xlink:href=\"#m6fef6d0fac\" y=\"213.872411\"/>\n      </g>\n     </g>\n     <g id=\"text_29\">\n      <!-- 0.5 -->\n      <g transform=\"translate(7.2 217.671629)scale(0.1 -0.1)\">\n       <use xlink:href=\"#DejaVuSans-48\"/>\n       <use x=\"63.623047\" xlink:href=\"#DejaVuSans-46\"/>\n       <use x=\"95.410156\" xlink:href=\"#DejaVuSans-53\"/>\n      </g>\n     </g>\n    </g>\n    <g id=\"ytick_3\">\n     <g id=\"line2d_30\">\n      <g>\n       <use style=\"stroke:#000000;stroke-width:0.8;\" x=\"30.103125\" xlink:href=\"#m6fef6d0fac\" y=\"187.986696\"/>\n      </g>\n     </g>\n     <g id=\"text_30\">\n      <!-- 1.0 -->\n      <g transform=\"translate(7.2 191.785915)scale(0.1 -0.1)\">\n       <use xlink:href=\"#DejaVuSans-49\"/>\n       <use x=\"63.623047\" xlink:href=\"#DejaVuSans-46\"/>\n       <use x=\"95.410156\" xlink:href=\"#DejaVuSans-48\"/>\n      </g>\n     </g>\n    </g>\n    <g id=\"ytick_4\">\n     <g id=\"line2d_31\">\n      <g>\n       <use style=\"stroke:#000000;stroke-width:0.8;\" x=\"30.103125\" xlink:href=\"#m6fef6d0fac\" y=\"162.100982\"/>\n      </g>\n     </g>\n     <g id=\"text_31\">\n      <!-- 1.5 -->\n      <g transform=\"translate(7.2 165.900201)scale(0.1 -0.1)\">\n       <use xlink:href=\"#DejaVuSans-49\"/>\n       <use x=\"63.623047\" xlink:href=\"#DejaVuSans-46\"/>\n       <use x=\"95.410156\" xlink:href=\"#DejaVuSans-53\"/>\n      </g>\n     </g>\n    </g>\n    <g id=\"ytick_5\">\n     <g id=\"line2d_32\">\n      <g>\n       <use style=\"stroke:#000000;stroke-width:0.8;\" x=\"30.103125\" xlink:href=\"#m6fef6d0fac\" y=\"136.215268\"/>\n      </g>\n     </g>\n     <g id=\"text_32\">\n      <!-- 2.0 -->\n      <g transform=\"translate(7.2 140.014487)scale(0.1 -0.1)\">\n       <use xlink:href=\"#DejaVuSans-50\"/>\n       <use x=\"63.623047\" xlink:href=\"#DejaVuSans-46\"/>\n       <use x=\"95.410156\" xlink:href=\"#DejaVuSans-48\"/>\n      </g>\n     </g>\n    </g>\n    <g id=\"ytick_6\">\n     <g id=\"line2d_33\">\n      <g>\n       <use style=\"stroke:#000000;stroke-width:0.8;\" x=\"30.103125\" xlink:href=\"#m6fef6d0fac\" y=\"110.329554\"/>\n      </g>\n     </g>\n     <g id=\"text_33\">\n      <!-- 2.5 -->\n      <g transform=\"translate(7.2 114.128772)scale(0.1 -0.1)\">\n       <use xlink:href=\"#DejaVuSans-50\"/>\n       <use x=\"63.623047\" xlink:href=\"#DejaVuSans-46\"/>\n       <use x=\"95.410156\" xlink:href=\"#DejaVuSans-53\"/>\n      </g>\n     </g>\n    </g>\n    <g id=\"ytick_7\">\n     <g id=\"line2d_34\">\n      <g>\n       <use style=\"stroke:#000000;stroke-width:0.8;\" x=\"30.103125\" xlink:href=\"#m6fef6d0fac\" y=\"84.443839\"/>\n      </g>\n     </g>\n     <g id=\"text_34\">\n      <!-- 3.0 -->\n      <g transform=\"translate(7.2 88.243058)scale(0.1 -0.1)\">\n       <use xlink:href=\"#DejaVuSans-51\"/>\n       <use x=\"63.623047\" xlink:href=\"#DejaVuSans-46\"/>\n       <use x=\"95.410156\" xlink:href=\"#DejaVuSans-48\"/>\n      </g>\n     </g>\n    </g>\n    <g id=\"ytick_8\">\n     <g id=\"line2d_35\">\n      <g>\n       <use style=\"stroke:#000000;stroke-width:0.8;\" x=\"30.103125\" xlink:href=\"#m6fef6d0fac\" y=\"58.558125\"/>\n      </g>\n     </g>\n     <g id=\"text_35\">\n      <!-- 3.5 -->\n      <g transform=\"translate(7.2 62.357344)scale(0.1 -0.1)\">\n       <use xlink:href=\"#DejaVuSans-51\"/>\n       <use x=\"63.623047\" xlink:href=\"#DejaVuSans-46\"/>\n       <use x=\"95.410156\" xlink:href=\"#DejaVuSans-53\"/>\n      </g>\n     </g>\n    </g>\n    <g id=\"ytick_9\">\n     <g id=\"line2d_36\">\n      <g>\n       <use style=\"stroke:#000000;stroke-width:0.8;\" x=\"30.103125\" xlink:href=\"#m6fef6d0fac\" y=\"32.672411\"/>\n      </g>\n     </g>\n     <g id=\"text_36\">\n      <!-- 4.0 -->\n      <g transform=\"translate(7.2 36.471629)scale(0.1 -0.1)\">\n       <use xlink:href=\"#DejaVuSans-52\"/>\n       <use x=\"63.623047\" xlink:href=\"#DejaVuSans-46\"/>\n       <use x=\"95.410156\" xlink:href=\"#DejaVuSans-48\"/>\n      </g>\n     </g>\n    </g>\n   </g>\n   <g id=\"patch_165\">\n    <path d=\"M 30.103125 239.758125 \nL 30.103125 22.318125 \n\" style=\"fill:none;stroke:#000000;stroke-linecap:square;stroke-linejoin:miter;stroke-width:0.8;\"/>\n   </g>\n   <g id=\"patch_166\">\n    <path d=\"M 364.903125 239.758125 \nL 364.903125 22.318125 \n\" style=\"fill:none;stroke:#000000;stroke-linecap:square;stroke-linejoin:miter;stroke-width:0.8;\"/>\n   </g>\n   <g id=\"patch_167\">\n    <path d=\"M 30.103125 239.758125 \nL 364.903125 239.758125 \n\" style=\"fill:none;stroke:#000000;stroke-linecap:square;stroke-linejoin:miter;stroke-width:0.8;\"/>\n   </g>\n   <g id=\"patch_168\">\n    <path d=\"M 30.103125 22.318125 \nL 364.903125 22.318125 \n\" style=\"fill:none;stroke:#000000;stroke-linecap:square;stroke-linejoin:miter;stroke-width:0.8;\"/>\n   </g>\n   <g id=\"text_37\">\n    <!-- all types -->\n    <defs>\n     <path d=\"M 34.28125 27.484375 \nQ 23.390625 27.484375 19.1875 25 \nQ 14.984375 22.515625 14.984375 16.5 \nQ 14.984375 11.71875 18.140625 8.90625 \nQ 21.296875 6.109375 26.703125 6.109375 \nQ 34.1875 6.109375 38.703125 11.40625 \nQ 43.21875 16.703125 43.21875 25.484375 \nL 43.21875 27.484375 \nz\nM 52.203125 31.203125 \nL 52.203125 0 \nL 43.21875 0 \nL 43.21875 8.296875 \nQ 40.140625 3.328125 35.546875 0.953125 \nQ 30.953125 -1.421875 24.3125 -1.421875 \nQ 15.921875 -1.421875 10.953125 3.296875 \nQ 6 8.015625 6 15.921875 \nQ 6 25.140625 12.171875 29.828125 \nQ 18.359375 34.515625 30.609375 34.515625 \nL 43.21875 34.515625 \nL 43.21875 35.40625 \nQ 43.21875 41.609375 39.140625 45 \nQ 35.0625 48.390625 27.6875 48.390625 \nQ 23 48.390625 18.546875 47.265625 \nQ 14.109375 46.140625 10.015625 43.890625 \nL 10.015625 52.203125 \nQ 14.9375 54.109375 19.578125 55.046875 \nQ 24.21875 56 28.609375 56 \nQ 40.484375 56 46.34375 49.84375 \nQ 52.203125 43.703125 52.203125 31.203125 \nz\n\" id=\"DejaVuSans-97\"/>\n     <path d=\"M 9.421875 75.984375 \nL 18.40625 75.984375 \nL 18.40625 0 \nL 9.421875 0 \nz\n\" id=\"DejaVuSans-108\"/>\n     <path id=\"DejaVuSans-32\"/>\n     <path d=\"M 18.3125 70.21875 \nL 18.3125 54.6875 \nL 36.8125 54.6875 \nL 36.8125 47.703125 \nL 18.3125 47.703125 \nL 18.3125 18.015625 \nQ 18.3125 11.328125 20.140625 9.421875 \nQ 21.96875 7.515625 27.59375 7.515625 \nL 36.8125 7.515625 \nL 36.8125 0 \nL 27.59375 0 \nQ 17.1875 0 13.234375 3.875 \nQ 9.28125 7.765625 9.28125 18.015625 \nL 9.28125 47.703125 \nL 2.6875 47.703125 \nL 2.6875 54.6875 \nL 9.28125 54.6875 \nL 9.28125 70.21875 \nz\n\" id=\"DejaVuSans-116\"/>\n     <path d=\"M 32.171875 -5.078125 \nQ 28.375 -14.84375 24.75 -17.8125 \nQ 21.140625 -20.796875 15.09375 -20.796875 \nL 7.90625 -20.796875 \nL 7.90625 -13.28125 \nL 13.1875 -13.28125 \nQ 16.890625 -13.28125 18.9375 -11.515625 \nQ 21 -9.765625 23.484375 -3.21875 \nL 25.09375 0.875 \nL 2.984375 54.6875 \nL 12.5 54.6875 \nL 29.59375 11.921875 \nL 46.6875 54.6875 \nL 56.203125 54.6875 \nz\n\" id=\"DejaVuSans-121\"/>\n     <path d=\"M 18.109375 8.203125 \nL 18.109375 -20.796875 \nL 9.078125 -20.796875 \nL 9.078125 54.6875 \nL 18.109375 54.6875 \nL 18.109375 46.390625 \nQ 20.953125 51.265625 25.265625 53.625 \nQ 29.59375 56 35.59375 56 \nQ 45.5625 56 51.78125 48.09375 \nQ 58.015625 40.1875 58.015625 27.296875 \nQ 58.015625 14.40625 51.78125 6.484375 \nQ 45.5625 -1.421875 35.59375 -1.421875 \nQ 29.59375 -1.421875 25.265625 0.953125 \nQ 20.953125 3.328125 18.109375 8.203125 \nz\nM 48.6875 27.296875 \nQ 48.6875 37.203125 44.609375 42.84375 \nQ 40.53125 48.484375 33.40625 48.484375 \nQ 26.265625 48.484375 22.1875 42.84375 \nQ 18.109375 37.203125 18.109375 27.296875 \nQ 18.109375 17.390625 22.1875 11.75 \nQ 26.265625 6.109375 33.40625 6.109375 \nQ 40.53125 6.109375 44.609375 11.75 \nQ 48.6875 17.390625 48.6875 27.296875 \nz\n\" id=\"DejaVuSans-112\"/>\n     <path d=\"M 56.203125 29.59375 \nL 56.203125 25.203125 \nL 14.890625 25.203125 \nQ 15.484375 15.921875 20.484375 11.0625 \nQ 25.484375 6.203125 34.421875 6.203125 \nQ 39.59375 6.203125 44.453125 7.46875 \nQ 49.3125 8.734375 54.109375 11.28125 \nL 54.109375 2.78125 \nQ 49.265625 0.734375 44.1875 -0.34375 \nQ 39.109375 -1.421875 33.890625 -1.421875 \nQ 20.796875 -1.421875 13.15625 6.1875 \nQ 5.515625 13.8125 5.515625 26.8125 \nQ 5.515625 40.234375 12.765625 48.109375 \nQ 20.015625 56 32.328125 56 \nQ 43.359375 56 49.78125 48.890625 \nQ 56.203125 41.796875 56.203125 29.59375 \nz\nM 47.21875 32.234375 \nQ 47.125 39.59375 43.09375 43.984375 \nQ 39.0625 48.390625 32.421875 48.390625 \nQ 24.90625 48.390625 20.390625 44.140625 \nQ 15.875 39.890625 15.1875 32.171875 \nz\n\" id=\"DejaVuSans-101\"/>\n     <path d=\"M 44.28125 53.078125 \nL 44.28125 44.578125 \nQ 40.484375 46.53125 36.375 47.5 \nQ 32.28125 48.484375 27.875 48.484375 \nQ 21.1875 48.484375 17.84375 46.4375 \nQ 14.5 44.390625 14.5 40.28125 \nQ 14.5 37.15625 16.890625 35.375 \nQ 19.28125 33.59375 26.515625 31.984375 \nL 29.59375 31.296875 \nQ 39.15625 29.25 43.1875 25.515625 \nQ 47.21875 21.78125 47.21875 15.09375 \nQ 47.21875 7.46875 41.1875 3.015625 \nQ 35.15625 -1.421875 24.609375 -1.421875 \nQ 20.21875 -1.421875 15.453125 -0.5625 \nQ 10.6875 0.296875 5.421875 2 \nL 5.421875 11.28125 \nQ 10.40625 8.6875 15.234375 7.390625 \nQ 20.0625 6.109375 24.8125 6.109375 \nQ 31.15625 6.109375 34.5625 8.28125 \nQ 37.984375 10.453125 37.984375 14.40625 \nQ 37.984375 18.0625 35.515625 20.015625 \nQ 33.0625 21.96875 24.703125 23.78125 \nL 21.578125 24.515625 \nQ 13.234375 26.265625 9.515625 29.90625 \nQ 5.8125 33.546875 5.8125 39.890625 \nQ 5.8125 47.609375 11.28125 51.796875 \nQ 16.75 56 26.8125 56 \nQ 31.78125 56 36.171875 55.265625 \nQ 40.578125 54.546875 44.28125 53.078125 \nz\n\" id=\"DejaVuSans-115\"/>\n    </defs>\n    <g transform=\"translate(172.055625 16.318125)scale(0.12 -0.12)\">\n     <use xlink:href=\"#DejaVuSans-97\"/>\n     <use x=\"61.279297\" xlink:href=\"#DejaVuSans-108\"/>\n     <use x=\"89.0625\" xlink:href=\"#DejaVuSans-108\"/>\n     <use x=\"116.845703\" xlink:href=\"#DejaVuSans-32\"/>\n     <use x=\"148.632812\" xlink:href=\"#DejaVuSans-116\"/>\n     <use x=\"187.841797\" xlink:href=\"#DejaVuSans-121\"/>\n     <use x=\"247.021484\" xlink:href=\"#DejaVuSans-112\"/>\n     <use x=\"310.498047\" xlink:href=\"#DejaVuSans-101\"/>\n     <use x=\"372.021484\" xlink:href=\"#DejaVuSans-115\"/>\n    </g>\n   </g>\n   <g id=\"legend_1\">\n    <g id=\"patch_169\">\n     <path d=\"M 157.196094 119.22125 \nL 237.810156 119.22125 \nQ 239.810156 119.22125 239.810156 117.22125 \nL 239.810156 29.318125 \nQ 239.810156 27.318125 237.810156 27.318125 \nL 157.196094 27.318125 \nQ 155.196094 27.318125 155.196094 29.318125 \nL 155.196094 117.22125 \nQ 155.196094 119.22125 157.196094 119.22125 \nz\n\" style=\"fill:#ffffff;opacity:0.8;stroke:#cccccc;stroke-linejoin:miter;\"/>\n    </g>\n    <g id=\"patch_170\">\n     <path d=\"M 159.196094 38.916563 \nL 179.196094 38.916563 \nL 179.196094 31.916563 \nL 159.196094 31.916563 \nz\n\" style=\"fill:#1f77b4;\"/>\n    </g>\n    <g id=\"text_38\">\n     <!-- PAIS -->\n     <g transform=\"translate(187.196094 38.916563)scale(0.1 -0.1)\">\n      <use xlink:href=\"#DejaVuSans-80\"/>\n      <use x=\"53.927734\" xlink:href=\"#DejaVuSans-65\"/>\n      <use x=\"122.335938\" xlink:href=\"#DejaVuSans-73\"/>\n      <use x=\"151.828125\" xlink:href=\"#DejaVuSans-83\"/>\n     </g>\n    </g>\n    <g id=\"patch_171\">\n     <path d=\"M 159.196094 53.594688 \nL 179.196094 53.594688 \nL 179.196094 46.594688 \nL 159.196094 46.594688 \nz\n\" style=\"fill:#ff7f0e;\"/>\n    </g>\n    <g id=\"text_39\">\n     <!-- EXP -->\n     <defs>\n      <path d=\"M 6.296875 72.90625 \nL 16.890625 72.90625 \nL 35.015625 45.796875 \nL 53.21875 72.90625 \nL 63.8125 72.90625 \nL 40.375 37.890625 \nL 65.375 0 \nL 54.78125 0 \nL 34.28125 31 \nL 13.625 0 \nL 2.984375 0 \nL 29 38.921875 \nz\n\" id=\"DejaVuSans-88\"/>\n     </defs>\n     <g transform=\"translate(187.196094 53.594688)scale(0.1 -0.1)\">\n      <use xlink:href=\"#DejaVuSans-69\"/>\n      <use x=\"63.183594\" xlink:href=\"#DejaVuSans-88\"/>\n      <use x=\"131.689453\" xlink:href=\"#DejaVuSans-80\"/>\n     </g>\n    </g>\n    <g id=\"patch_172\">\n     <path d=\"M 159.196094 68.272813 \nL 179.196094 68.272813 \nL 179.196094 61.272813 \nL 159.196094 61.272813 \nz\n\" style=\"fill:#2ca02c;\"/>\n    </g>\n    <g id=\"text_40\">\n     <!-- size -->\n     <defs>\n      <path d=\"M 9.421875 54.6875 \nL 18.40625 54.6875 \nL 18.40625 0 \nL 9.421875 0 \nz\nM 9.421875 75.984375 \nL 18.40625 75.984375 \nL 18.40625 64.59375 \nL 9.421875 64.59375 \nz\n\" id=\"DejaVuSans-105\"/>\n      <path d=\"M 5.515625 54.6875 \nL 48.1875 54.6875 \nL 48.1875 46.484375 \nL 14.40625 7.171875 \nL 48.1875 7.171875 \nL 48.1875 0 \nL 4.296875 0 \nL 4.296875 8.203125 \nL 38.09375 47.515625 \nL 5.515625 47.515625 \nz\n\" id=\"DejaVuSans-122\"/>\n     </defs>\n     <g transform=\"translate(187.196094 68.272813)scale(0.1 -0.1)\">\n      <use xlink:href=\"#DejaVuSans-115\"/>\n      <use x=\"52.099609\" xlink:href=\"#DejaVuSans-105\"/>\n      <use x=\"79.882812\" xlink:href=\"#DejaVuSans-122\"/>\n      <use x=\"132.373047\" xlink:href=\"#DejaVuSans-101\"/>\n     </g>\n    </g>\n    <g id=\"patch_173\">\n     <path d=\"M 159.196094 82.950938 \nL 179.196094 82.950938 \nL 179.196094 75.950938 \nL 159.196094 75.950938 \nz\n\" style=\"fill:#d62728;\"/>\n    </g>\n    <g id=\"text_41\">\n     <!-- Sal_min -->\n     <defs>\n      <path d=\"M 50.984375 -16.609375 \nL 50.984375 -23.578125 \nL -0.984375 -23.578125 \nL -0.984375 -16.609375 \nz\n\" id=\"DejaVuSans-95\"/>\n      <path d=\"M 52 44.1875 \nQ 55.375 50.25 60.0625 53.125 \nQ 64.75 56 71.09375 56 \nQ 79.640625 56 84.28125 50.015625 \nQ 88.921875 44.046875 88.921875 33.015625 \nL 88.921875 0 \nL 79.890625 0 \nL 79.890625 32.71875 \nQ 79.890625 40.578125 77.09375 44.375 \nQ 74.3125 48.1875 68.609375 48.1875 \nQ 61.625 48.1875 57.5625 43.546875 \nQ 53.515625 38.921875 53.515625 30.90625 \nL 53.515625 0 \nL 44.484375 0 \nL 44.484375 32.71875 \nQ 44.484375 40.625 41.703125 44.40625 \nQ 38.921875 48.1875 33.109375 48.1875 \nQ 26.21875 48.1875 22.15625 43.53125 \nQ 18.109375 38.875 18.109375 30.90625 \nL 18.109375 0 \nL 9.078125 0 \nL 9.078125 54.6875 \nL 18.109375 54.6875 \nL 18.109375 46.1875 \nQ 21.1875 51.21875 25.484375 53.609375 \nQ 29.78125 56 35.6875 56 \nQ 41.65625 56 45.828125 52.96875 \nQ 50 49.953125 52 44.1875 \nz\n\" id=\"DejaVuSans-109\"/>\n      <path d=\"M 54.890625 33.015625 \nL 54.890625 0 \nL 45.90625 0 \nL 45.90625 32.71875 \nQ 45.90625 40.484375 42.875 44.328125 \nQ 39.84375 48.1875 33.796875 48.1875 \nQ 26.515625 48.1875 22.3125 43.546875 \nQ 18.109375 38.921875 18.109375 30.90625 \nL 18.109375 0 \nL 9.078125 0 \nL 9.078125 54.6875 \nL 18.109375 54.6875 \nL 18.109375 46.1875 \nQ 21.34375 51.125 25.703125 53.5625 \nQ 30.078125 56 35.796875 56 \nQ 45.21875 56 50.046875 50.171875 \nQ 54.890625 44.34375 54.890625 33.015625 \nz\n\" id=\"DejaVuSans-110\"/>\n     </defs>\n     <g transform=\"translate(187.196094 82.950938)scale(0.1 -0.1)\">\n      <use xlink:href=\"#DejaVuSans-83\"/>\n      <use x=\"63.476562\" xlink:href=\"#DejaVuSans-97\"/>\n      <use x=\"124.755859\" xlink:href=\"#DejaVuSans-108\"/>\n      <use x=\"152.539062\" xlink:href=\"#DejaVuSans-95\"/>\n      <use x=\"202.539062\" xlink:href=\"#DejaVuSans-109\"/>\n      <use x=\"299.951172\" xlink:href=\"#DejaVuSans-105\"/>\n      <use x=\"327.734375\" xlink:href=\"#DejaVuSans-110\"/>\n     </g>\n    </g>\n    <g id=\"patch_174\">\n     <path d=\"M 159.196094 97.907188 \nL 179.196094 97.907188 \nL 179.196094 90.907188 \nL 159.196094 90.907188 \nz\n\" style=\"fill:#9467bd;\"/>\n    </g>\n    <g id=\"text_42\">\n     <!-- Sal_max -->\n     <defs>\n      <path d=\"M 54.890625 54.6875 \nL 35.109375 28.078125 \nL 55.90625 0 \nL 45.3125 0 \nL 29.390625 21.484375 \nL 13.484375 0 \nL 2.875 0 \nL 24.125 28.609375 \nL 4.6875 54.6875 \nL 15.28125 54.6875 \nL 29.78125 35.203125 \nL 44.28125 54.6875 \nz\n\" id=\"DejaVuSans-120\"/>\n     </defs>\n     <g transform=\"translate(187.196094 97.907188)scale(0.1 -0.1)\">\n      <use xlink:href=\"#DejaVuSans-83\"/>\n      <use x=\"63.476562\" xlink:href=\"#DejaVuSans-97\"/>\n      <use x=\"124.755859\" xlink:href=\"#DejaVuSans-108\"/>\n      <use x=\"152.539062\" xlink:href=\"#DejaVuSans-95\"/>\n      <use x=\"202.539062\" xlink:href=\"#DejaVuSans-109\"/>\n      <use x=\"299.951172\" xlink:href=\"#DejaVuSans-97\"/>\n      <use x=\"361.230469\" xlink:href=\"#DejaVuSans-120\"/>\n     </g>\n    </g>\n    <g id=\"patch_175\">\n     <path d=\"M 159.196094 112.863438 \nL 179.196094 112.863438 \nL 179.196094 105.863438 \nL 159.196094 105.863438 \nz\n\" style=\"fill:#8c564b;\"/>\n    </g>\n    <g id=\"text_43\">\n     <!-- Sal_mean -->\n     <g transform=\"translate(187.196094 112.863438)scale(0.1 -0.1)\">\n      <use xlink:href=\"#DejaVuSans-83\"/>\n      <use x=\"63.476562\" xlink:href=\"#DejaVuSans-97\"/>\n      <use x=\"124.755859\" xlink:href=\"#DejaVuSans-108\"/>\n      <use x=\"152.539062\" xlink:href=\"#DejaVuSans-95\"/>\n      <use x=\"202.539062\" xlink:href=\"#DejaVuSans-109\"/>\n      <use x=\"299.951172\" xlink:href=\"#DejaVuSans-101\"/>\n      <use x=\"361.474609\" xlink:href=\"#DejaVuSans-97\"/>\n      <use x=\"422.753906\" xlink:href=\"#DejaVuSans-110\"/>\n     </g>\n    </g>\n   </g>\n  </g>\n </g>\n <defs>\n  <clipPath id=\"pef3780588a\">\n   <rect height=\"217.44\" width=\"334.8\" x=\"30.103125\" y=\"22.318125\"/>\n  </clipPath>\n </defs>\n</svg>\n",
      "image/png": "[encoded data removed]"
     },
     "metadata": {
      "needs_background": "light"
     }
    }
   ],
   "source": [
    "df.apply(pd.value_counts).plot(kind='bar', title='all types')"
   ]
  },
  {
   "cell_type": "markdown",
   "metadata": {},
   "source": [
    "### PIE CHARTS"
   ]
  },
  {
   "cell_type": "markdown",
   "metadata": {},
   "source": [
    "### GRÁFICOS P"
   ]
  },
  {
   "cell_type": "markdown",
   "metadata": {},
   "source": [
    "###   ANÁLISIS POR "
   ]
  },
  {
   "cell_type": "code",
   "execution_count": null,
   "metadata": {},
   "outputs": [],
   "source": []
  }
 ],
 "metadata": {
  "language_info": {
   "codemirror_mode": {
    "name": "ipython",
    "version": 3
   },
   "file_extension": ".py",
   "mimetype": "text/x-python",
   "name": "python",
   "nbconvert_exporter": "python",
   "pygments_lexer": "ipython3",
   "version": "3.8.3-final"
  },
  "orig_nbformat": 2,
  "kernelspec": {
   "name": "python38364bit61836de9583b4678983c2459e76af05f",
   "display_name": "Python 3.8.3 64-bit"
  }
 },
 "nbformat": 4,
 "nbformat_minor": 2
}