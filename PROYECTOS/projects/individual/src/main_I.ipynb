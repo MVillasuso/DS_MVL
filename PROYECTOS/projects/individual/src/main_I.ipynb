{
 "cells": [
  {
   "cell_type": "markdown",
   "metadata": {},
   "source": [
    "# THE BRIDGE (Data Science Bootcamp - Agosto 2020)\n",
    "##  PROYECTO INDIVIDUAL VERANO 2020 \n",
    "________________\n",
    "### Análisis de datos asociados a la oferta de empleo en Data Science\n",
    "\n",
    "Fuente de datos (Data Set)  https://www.kaggle.com/andresionek/data-jobs-listings-glassdoor\n",
    "\n",
    "Elaborado por : \n",
    "\n",
    "- ** Mónica Villasuso  **    villasuso.monica@gmail.com  git @MVillasuso\n",
    "_________________"
   ]
  },
  {
   "cell_type": "markdown",
   "metadata": {},
   "source": [
    "# HIPÓTESIS\n",
    "\"Al menos la mitad (50%) de la oferta laboral en el área de Ciencia de Datos corresponde a los perfiles de Análisis (Datos y Negocio)\""
   ]
  },
  {
   "cell_type": "markdown",
   "metadata": {},
   "source": [
    "## 1. Librerías requeridas para el análisis (* Import *)\n",
    "_________"
   ]
  },
  {
   "cell_type": "code",
   "execution_count": 1,
   "metadata": {},
   "outputs": [],
   "source": [
    "import sys \n",
    "sys.path.append('../src/utils') \n",
    "import pandas as pd \n",
    "import numpy as np\n",
    "from datetime import datetime\n",
    "import folders_tb as ftb\n",
    "import visualization_tb as vtb\n",
    "import mining_data_tb as mtb"
   ]
  },
  {
   "cell_type": "markdown",
   "metadata": {},
   "source": [
    "## 2. Carga de datos inicial, de la fuente, en el dataframe        \n",
    "\n",
    "____________"
   ]
  },
  {
   "cell_type": "markdown",
   "metadata": {},
   "source": [
    "### Información global de Glassdoor.com   \n",
    "** Actualizado a Dic 2019 **  \n",
    "Dataset con búsquedas para los siguientes perfiles\n",
    "\n",
    "* data-scientist\t\t**\n",
    "* software-engineer\n",
    "* data-analyst\t\t\t**\n",
    "* research-scientist\n",
    "* business-analyst\t\t**\n",
    "* product-manager\n",
    "* project-manager\n",
    "* data-engineer\t\t**\n",
    "* statistician\n",
    "* dba\n",
    "* database-engineer\n",
    "* machine-learning-engineer\n",
    "\n",
    "https://www.kaggle.com/andresionek/data-jobs-listings-glassdoor"
   ]
  },
  {
   "cell_type": "code",
   "execution_count": 2,
   "metadata": {},
   "outputs": [],
   "source": [
    "GlassD_df= pd.read_csv(\"glassdoor.csv\", sep=\",\")\n"
   ]
  },
  {
   "cell_type": "code",
   "execution_count": 3,
   "metadata": {},
   "outputs": [],
   "source": [
    "cnames_df = pd.read_csv(\"country_names_2_digit_codes.csv\", sep =\",\")"
   ]
  },
  {
   "cell_type": "markdown",
   "metadata": {},
   "source": [
    "_____________\n",
    "### Información de Glassdoor en USA.   \n",
    "** Actualizado a Julio 2020 **  \n",
    "Cada dataset incluye las búsquedas para un determinado perfil, a saber: Data Analyst, Business Analyst, Data Engineer y Data Scientist\n",
    "- https://www.kaggle.com/andrewmvd/data-scientist-jobs\n",
    "- https://www.kaggle.com/andrewmvd/data-analyst-jobs\n",
    "- https://www.kaggle.com/andrewmvd/data-engineer-jobs\n",
    "- https://www.kaggle.com/andrewmvd/business-analyst-jobs"
   ]
  },
  {
   "cell_type": "markdown",
   "metadata": {},
   "source": [
    "## Otras referencias consultadas\n",
    "https://www.simplilearn.com/business-analyst-vs-data-analyst-article\n",
    "https://blog.udacity.com/2014/11/data-science-job-skills.html"
   ]
  },
  {
   "cell_type": "markdown",
   "metadata": {},
   "source": [
    "## 3. Preparación de los datos - Data wrangling and Data cleaning\n",
    "________________\n",
    "Exploración de los datos del dataframe"
   ]
  },
  {
   "cell_type": "code",
   "execution_count": 4,
   "metadata": {},
   "outputs": [],
   "source": [
    "\n",
    "DA_df = pd.read_csv(\"DataAnalyst.csv\", sep=\",\")\n",
    "BA_df = pd.read_csv(\"BusinessAnalyst.csv\", sep=\",\")\n",
    "DE_df = pd.read_csv(\"DataEngineer.csv\", sep=\",\")\n",
    "DS_df = pd.read_csv(\"DataScientist.csv\", sep=\",\")\n"
   ]
  },
  {
   "cell_type": "markdown",
   "metadata": {},
   "source": [
    "### df_GlassD"
   ]
  },
  {
   "cell_type": "code",
   "execution_count": 5,
   "metadata": {
    "tags": []
   },
   "outputs": [
    {
     "output_type": "stream",
     "name": "stdout",
     "text": "<class 'pandas.core.frame.DataFrame'>\nRangeIndex: 165290 entries, 0 to 165289\nColumns: 163 entries, benefits.benefitRatingDecimal to wwfu\ndtypes: bool(11), float64(35), int64(23), object(94)\nmemory usage: 193.4+ MB\n"
    }
   ],
   "source": [
    "GlassD_df.info()"
   ]
  },
  {
   "cell_type": "markdown",
   "metadata": {},
   "source": [
    "### df_jobs"
   ]
  },
  {
   "cell_type": "code",
   "execution_count": 6,
   "metadata": {},
   "outputs": [],
   "source": [
    "\n",
    "GDjobs_df = mtb.elim_cols(GlassD_df)\n",
    "GDjobs_df = mtb.transf_cols(GDjobs_df)\n",
    "GDjobs_df = mtb.norm_country(GDjobs_df, cnames_df)"
   ]
  },
  {
   "cell_type": "markdown",
   "metadata": {},
   "source": [
    "***NOTA: De las 163 columnas originales quedaron únicamente 19*** "
   ]
  },
  {
   "cell_type": "code",
   "execution_count": 7,
   "metadata": {
    "tags": []
   },
   "outputs": [
    {
     "output_type": "stream",
     "name": "stdout",
     "text": "<class 'pandas.core.frame.DataFrame'>\nInt64Index: 165290 entries, 0 to 165289\nData columns (total 21 columns):\n #   Column       Non-Null Count   Dtype         \n---  ------       --------------   -----         \n 0   empSize      147081 non-null  object        \n 1   easyApply    165290 non-null  bool          \n 2   empName      162045 non-null  object        \n 3   jobTitle     165290 non-null  object        \n 4   jobDate      165290 non-null  datetime64[ns]\n 5   salHigh      3662 non-null    float64       \n 6   salLow       3662 non-null    float64       \n 7   jobDesc      165286 non-null  object        \n 8   jobSource    165290 non-null  object        \n 9   country      165285 non-null  object        \n 10  lat          165290 non-null  float64       \n 11  long         165290 non-null  float64       \n 12  location     165285 non-null  object        \n 13  foundedYear  165290 non-null  int64         \n 14  industry     117885 non-null  object        \n 15  revenue      147081 non-null  object        \n 16  sector       117917 non-null  object        \n 17  size         147081 non-null  object        \n 18  type         147081 non-null  object        \n 19  cname        120112 non-null  object        \n 20  ccode        120105 non-null  object        \ndtypes: bool(1), datetime64[ns](1), float64(4), int64(1), object(14)\nmemory usage: 26.6+ MB\n"
    }
   ],
   "source": [
    "GDjobs_df.info()\n"
   ]
  },
  {
   "cell_type": "code",
   "execution_count": 8,
   "metadata": {},
   "outputs": [
    {
     "output_type": "execute_result",
     "data": {
      "text/plain": "         empSize easyApply empName         jobTitle              jobDate  \\\ncount     147081    165290  162045           165290               165290   \nunique         8         2   31114            64844                  248   \ntop     10000--1     False  Amazon  Project Manager  2019-11-01 00:00:00   \nfreq       48801    147652    2494             4648                14099   \nfirst        NaN       NaN     NaN              NaN  2017-01-21 00:00:00   \nlast         NaN       NaN     NaN              NaN  2019-11-10 00:00:00   \nmean         NaN       NaN     NaN              NaN                  NaN   \nstd          NaN       NaN     NaN              NaN                  NaN   \nmin          NaN       NaN     NaN              NaN                  NaN   \n25%          NaN       NaN     NaN              NaN                  NaN   \n50%          NaN       NaN     NaN              NaN                  NaN   \n75%          NaN       NaN     NaN              NaN                  NaN   \nmax          NaN       NaN     NaN              NaN                  NaN   \n\n              salHigh         salLow  \\\ncount     3662.000000    3662.000000   \nunique            NaN            NaN   \ntop               NaN            NaN   \nfreq              NaN            NaN   \nfirst             NaN            NaN   \nlast              NaN            NaN   \nmean    115832.403605   77825.276898   \nstd      42077.284501   30736.395180   \nmin         13.000000      10.000000   \n25%      85217.500000   55283.500000   \n50%     109630.500000   72435.000000   \n75%     140000.000000   95966.000000   \nmax     376948.000000  236650.000000   \n\n                                                  jobDesc  \\\ncount                                              165286   \nunique                                             107692   \ntop     Credit Suisse Careers Credit Suisse Menu Job S...   \nfreq                                                   33   \nfirst                                                 NaN   \nlast                                                  NaN   \nmean                                                  NaN   \nstd                                                   NaN   \nmin                                                   NaN   \n25%                                                   NaN   \n50%                                                   NaN   \n75%                                                   NaN   \nmax                                                   NaN   \n\n                       jobSource country  ...           long   location  \\\ncount                     165290  165285  ...  165290.000000     165285   \nunique                       217    2916  ...            NaN       7074   \ntop     Indeed XML Feed Employer      GB  ...            NaN  Singapore   \nfreq                       53202    5525  ...            NaN       5100   \nfirst                        NaN     NaN  ...            NaN        NaN   \nlast                         NaN     NaN  ...            NaN        NaN   \nmean                         NaN     NaN  ...      29.642232        NaN   \nstd                          NaN     NaN  ...      62.586654        NaN   \nmin                          NaN     NaN  ...    -171.983300        NaN   \n25%                          NaN     NaN  ...       0.000000        NaN   \n50%                          NaN     NaN  ...      12.133300        NaN   \n75%                          NaN     NaN  ...      77.587300        NaN   \nmax                          NaN     NaN  ...     177.366700        NaN   \n\n          foundedYear                      industry                   revenue  \\\ncount   165290.000000                        117885                    147081   \nunique            NaN                           137                        13   \ntop               NaN  Computer Hardware & Software  Unknown / Non-Applicable   \nfreq              NaN                         13971                     58905   \nfirst             NaN                           NaN                       NaN   \nlast              NaN                           NaN                       NaN   \nmean      1273.873422                           NaN                       NaN   \nstd        942.425948                           NaN                       NaN   \nmin          0.000000                           NaN                       NaN   \n25%          0.000000                           NaN                       NaN   \n50%       1947.000000                           NaN                       NaN   \n75%       1998.000000                           NaN                       NaN   \nmax       2019.000000                           NaN                       NaN   \n\n                        sector              size               type  \\\ncount                   117917            147081             147081   \nunique                      25                 8                 14   \ntop     Information Technology  10000+ employees  Company - Private   \nfreq                     43063             48801              74918   \nfirst                      NaN               NaN                NaN   \nlast                       NaN               NaN                NaN   \nmean                       NaN               NaN                NaN   \nstd                        NaN               NaN                NaN   \nmin                        NaN               NaN                NaN   \n25%                        NaN               NaN                NaN   \n50%                        NaN               NaN                NaN   \n75%                        NaN               NaN                NaN   \nmax                        NaN               NaN                NaN   \n\n                 cname   ccode  \ncount           120112  120105  \nunique             177     176  \ntop     United Kingdom      GB  \nfreq              5923    5923  \nfirst              NaN     NaN  \nlast               NaN     NaN  \nmean               NaN     NaN  \nstd                NaN     NaN  \nmin                NaN     NaN  \n25%                NaN     NaN  \n50%                NaN     NaN  \n75%                NaN     NaN  \nmax                NaN     NaN  \n\n[13 rows x 21 columns]",
      "text/html": "<div>\n<style scoped>\n    .dataframe tbody tr th:only-of-type {\n        vertical-align: middle;\n    }\n\n    .dataframe tbody tr th {\n        vertical-align: top;\n    }\n\n    .dataframe thead th {\n        text-align: right;\n    }\n</style>\n<table border=\"1\" class=\"dataframe\">\n  <thead>\n    <tr style=\"text-align: right;\">\n      <th></th>\n      <th>empSize</th>\n      <th>easyApply</th>\n      <th>empName</th>\n      <th>jobTitle</th>\n      <th>jobDate</th>\n      <th>salHigh</th>\n      <th>salLow</th>\n      <th>jobDesc</th>\n      <th>jobSource</th>\n      <th>country</th>\n      <th>...</th>\n      <th>long</th>\n      <th>location</th>\n      <th>foundedYear</th>\n      <th>industry</th>\n      <th>revenue</th>\n      <th>sector</th>\n      <th>size</th>\n      <th>type</th>\n      <th>cname</th>\n      <th>ccode</th>\n    </tr>\n  </thead>\n  <tbody>\n    <tr>\n      <th>count</th>\n      <td>147081</td>\n      <td>165290</td>\n      <td>162045</td>\n      <td>165290</td>\n      <td>165290</td>\n      <td>3662.000000</td>\n      <td>3662.000000</td>\n      <td>165286</td>\n      <td>165290</td>\n      <td>165285</td>\n      <td>...</td>\n      <td>165290.000000</td>\n      <td>165285</td>\n      <td>165290.000000</td>\n      <td>117885</td>\n      <td>147081</td>\n      <td>117917</td>\n      <td>147081</td>\n      <td>147081</td>\n      <td>120112</td>\n      <td>120105</td>\n    </tr>\n    <tr>\n      <th>unique</th>\n      <td>8</td>\n      <td>2</td>\n      <td>31114</td>\n      <td>64844</td>\n      <td>248</td>\n      <td>NaN</td>\n      <td>NaN</td>\n      <td>107692</td>\n      <td>217</td>\n      <td>2916</td>\n      <td>...</td>\n      <td>NaN</td>\n      <td>7074</td>\n      <td>NaN</td>\n      <td>137</td>\n      <td>13</td>\n      <td>25</td>\n      <td>8</td>\n      <td>14</td>\n      <td>177</td>\n      <td>176</td>\n    </tr>\n    <tr>\n      <th>top</th>\n      <td>10000--1</td>\n      <td>False</td>\n      <td>Amazon</td>\n      <td>Project Manager</td>\n      <td>2019-11-01 00:00:00</td>\n      <td>NaN</td>\n      <td>NaN</td>\n      <td>Credit Suisse Careers Credit Suisse Menu Job S...</td>\n      <td>Indeed XML Feed Employer</td>\n      <td>GB</td>\n      <td>...</td>\n      <td>NaN</td>\n      <td>Singapore</td>\n      <td>NaN</td>\n      <td>Computer Hardware &amp; Software</td>\n      <td>Unknown / Non-Applicable</td>\n      <td>Information Technology</td>\n      <td>10000+ employees</td>\n      <td>Company - Private</td>\n      <td>United Kingdom</td>\n      <td>GB</td>\n    </tr>\n    <tr>\n      <th>freq</th>\n      <td>48801</td>\n      <td>147652</td>\n      <td>2494</td>\n      <td>4648</td>\n      <td>14099</td>\n      <td>NaN</td>\n      <td>NaN</td>\n      <td>33</td>\n      <td>53202</td>\n      <td>5525</td>\n      <td>...</td>\n      <td>NaN</td>\n      <td>5100</td>\n      <td>NaN</td>\n      <td>13971</td>\n      <td>58905</td>\n      <td>43063</td>\n      <td>48801</td>\n      <td>74918</td>\n      <td>5923</td>\n      <td>5923</td>\n    </tr>\n    <tr>\n      <th>first</th>\n      <td>NaN</td>\n      <td>NaN</td>\n      <td>NaN</td>\n      <td>NaN</td>\n      <td>2017-01-21 00:00:00</td>\n      <td>NaN</td>\n      <td>NaN</td>\n      <td>NaN</td>\n      <td>NaN</td>\n      <td>NaN</td>\n      <td>...</td>\n      <td>NaN</td>\n      <td>NaN</td>\n      <td>NaN</td>\n      <td>NaN</td>\n      <td>NaN</td>\n      <td>NaN</td>\n      <td>NaN</td>\n      <td>NaN</td>\n      <td>NaN</td>\n      <td>NaN</td>\n    </tr>\n    <tr>\n      <th>last</th>\n      <td>NaN</td>\n      <td>NaN</td>\n      <td>NaN</td>\n      <td>NaN</td>\n      <td>2019-11-10 00:00:00</td>\n      <td>NaN</td>\n      <td>NaN</td>\n      <td>NaN</td>\n      <td>NaN</td>\n      <td>NaN</td>\n      <td>...</td>\n      <td>NaN</td>\n      <td>NaN</td>\n      <td>NaN</td>\n      <td>NaN</td>\n      <td>NaN</td>\n      <td>NaN</td>\n      <td>NaN</td>\n      <td>NaN</td>\n      <td>NaN</td>\n      <td>NaN</td>\n    </tr>\n    <tr>\n      <th>mean</th>\n      <td>NaN</td>\n      <td>NaN</td>\n      <td>NaN</td>\n      <td>NaN</td>\n      <td>NaN</td>\n      <td>115832.403605</td>\n      <td>77825.276898</td>\n      <td>NaN</td>\n      <td>NaN</td>\n      <td>NaN</td>\n      <td>...</td>\n      <td>29.642232</td>\n      <td>NaN</td>\n      <td>1273.873422</td>\n      <td>NaN</td>\n      <td>NaN</td>\n      <td>NaN</td>\n      <td>NaN</td>\n      <td>NaN</td>\n      <td>NaN</td>\n      <td>NaN</td>\n    </tr>\n    <tr>\n      <th>std</th>\n      <td>NaN</td>\n      <td>NaN</td>\n      <td>NaN</td>\n      <td>NaN</td>\n      <td>NaN</td>\n      <td>42077.284501</td>\n      <td>30736.395180</td>\n      <td>NaN</td>\n      <td>NaN</td>\n      <td>NaN</td>\n      <td>...</td>\n      <td>62.586654</td>\n      <td>NaN</td>\n      <td>942.425948</td>\n      <td>NaN</td>\n      <td>NaN</td>\n      <td>NaN</td>\n      <td>NaN</td>\n      <td>NaN</td>\n      <td>NaN</td>\n      <td>NaN</td>\n    </tr>\n    <tr>\n      <th>min</th>\n      <td>NaN</td>\n      <td>NaN</td>\n      <td>NaN</td>\n      <td>NaN</td>\n      <td>NaN</td>\n      <td>13.000000</td>\n      <td>10.000000</td>\n      <td>NaN</td>\n      <td>NaN</td>\n      <td>NaN</td>\n      <td>...</td>\n      <td>-171.983300</td>\n      <td>NaN</td>\n      <td>0.000000</td>\n      <td>NaN</td>\n      <td>NaN</td>\n      <td>NaN</td>\n      <td>NaN</td>\n      <td>NaN</td>\n      <td>NaN</td>\n      <td>NaN</td>\n    </tr>\n    <tr>\n      <th>25%</th>\n      <td>NaN</td>\n      <td>NaN</td>\n      <td>NaN</td>\n      <td>NaN</td>\n      <td>NaN</td>\n      <td>85217.500000</td>\n      <td>55283.500000</td>\n      <td>NaN</td>\n      <td>NaN</td>\n      <td>NaN</td>\n      <td>...</td>\n      <td>0.000000</td>\n      <td>NaN</td>\n      <td>0.000000</td>\n      <td>NaN</td>\n      <td>NaN</td>\n      <td>NaN</td>\n      <td>NaN</td>\n      <td>NaN</td>\n      <td>NaN</td>\n      <td>NaN</td>\n    </tr>\n    <tr>\n      <th>50%</th>\n      <td>NaN</td>\n      <td>NaN</td>\n      <td>NaN</td>\n      <td>NaN</td>\n      <td>NaN</td>\n      <td>109630.500000</td>\n      <td>72435.000000</td>\n      <td>NaN</td>\n      <td>NaN</td>\n      <td>NaN</td>\n      <td>...</td>\n      <td>12.133300</td>\n      <td>NaN</td>\n      <td>1947.000000</td>\n      <td>NaN</td>\n      <td>NaN</td>\n      <td>NaN</td>\n      <td>NaN</td>\n      <td>NaN</td>\n      <td>NaN</td>\n      <td>NaN</td>\n    </tr>\n    <tr>\n      <th>75%</th>\n      <td>NaN</td>\n      <td>NaN</td>\n      <td>NaN</td>\n      <td>NaN</td>\n      <td>NaN</td>\n      <td>140000.000000</td>\n      <td>95966.000000</td>\n      <td>NaN</td>\n      <td>NaN</td>\n      <td>NaN</td>\n      <td>...</td>\n      <td>77.587300</td>\n      <td>NaN</td>\n      <td>1998.000000</td>\n      <td>NaN</td>\n      <td>NaN</td>\n      <td>NaN</td>\n      <td>NaN</td>\n      <td>NaN</td>\n      <td>NaN</td>\n      <td>NaN</td>\n    </tr>\n    <tr>\n      <th>max</th>\n      <td>NaN</td>\n      <td>NaN</td>\n      <td>NaN</td>\n      <td>NaN</td>\n      <td>NaN</td>\n      <td>376948.000000</td>\n      <td>236650.000000</td>\n      <td>NaN</td>\n      <td>NaN</td>\n      <td>NaN</td>\n      <td>...</td>\n      <td>177.366700</td>\n      <td>NaN</td>\n      <td>2019.000000</td>\n      <td>NaN</td>\n      <td>NaN</td>\n      <td>NaN</td>\n      <td>NaN</td>\n      <td>NaN</td>\n      <td>NaN</td>\n      <td>NaN</td>\n    </tr>\n  </tbody>\n</table>\n<p>13 rows × 21 columns</p>\n</div>"
     },
     "metadata": {},
     "execution_count": 8
    }
   ],
   "source": [
    "GDjobs_df.describe(include=\"all\")"
   ]
  },
  {
   "cell_type": "code",
   "execution_count": 9,
   "metadata": {},
   "outputs": [],
   "source": [
    "GDjobs_df = mtb.ubicar_loc(GDjobs_df)"
   ]
  },
  {
   "cell_type": "code",
   "execution_count": 10,
   "metadata": {},
   "outputs": [
    {
     "output_type": "execute_result",
     "data": {
      "text/plain": "         empSize easyApply empName         jobTitle              jobDate  \\\ncount     141083    159031  155894           159031               159031   \nunique         8         2   30567            62403                  225   \ntop     10000--1     False  Amazon  Project Manager  2019-11-01 00:00:00   \nfreq       45851    141756    2490             4538                13863   \nfirst        NaN       NaN     NaN              NaN  2018-02-05 00:00:00   \nlast         NaN       NaN     NaN              NaN  2019-11-10 00:00:00   \nmean         NaN       NaN     NaN              NaN                  NaN   \nstd          NaN       NaN     NaN              NaN                  NaN   \nmin          NaN       NaN     NaN              NaN                  NaN   \n25%          NaN       NaN     NaN              NaN                  NaN   \n50%          NaN       NaN     NaN              NaN                  NaN   \n75%          NaN       NaN     NaN              NaN                  NaN   \nmax          NaN       NaN     NaN              NaN                  NaN   \n\n              salHigh         salLow  \\\ncount     3645.000000    3645.000000   \nunique            NaN            NaN   \ntop               NaN            NaN   \nfreq              NaN            NaN   \nfirst             NaN            NaN   \nlast              NaN            NaN   \nmean    115880.129767   77858.272702   \nstd      42097.684607   30759.817270   \nmin         13.000000      10.000000   \n25%      85222.000000   55283.000000   \n50%     109641.000000   72500.000000   \n75%     140000.000000   95966.000000   \nmax     376948.000000  236650.000000   \n\n                                                  jobDesc  \\\ncount                                              159027   \nunique                                             103763   \ntop     Credit Suisse Careers Credit Suisse Menu Job S...   \nfreq                                                   33   \nfirst                                                 NaN   \nlast                                                  NaN   \nmean                                                  NaN   \nstd                                                   NaN   \nmin                                                   NaN   \n25%                                                   NaN   \n50%                                                   NaN   \n75%                                                   NaN   \nmax                                                   NaN   \n\n                       jobSource country  ...           long   location  \\\ncount                     159031  159031  ...  159031.000000     159031   \nunique                       215    1760  ...            NaN       5866   \ntop     Indeed XML Feed Employer      GB  ...            NaN  Singapore   \nfreq                       53201    5525  ...            NaN       5100   \nfirst                        NaN     NaN  ...            NaN        NaN   \nlast                         NaN     NaN  ...            NaN        NaN   \nmean                         NaN     NaN  ...      30.333902        NaN   \nstd                          NaN     NaN  ...      62.456589        NaN   \nmin                          NaN     NaN  ...    -171.983300        NaN   \n25%                          NaN     NaN  ...       0.000000        NaN   \n50%                          NaN     NaN  ...      12.505200        NaN   \n75%                          NaN     NaN  ...      77.587300        NaN   \nmax                          NaN     NaN  ...     177.366700        NaN   \n\n          foundedYear                      industry                   revenue  \\\ncount   159031.000000                        112336                    141083   \nunique            NaN                           137                        13   \ntop               NaN  Computer Hardware & Software  Unknown / Non-Applicable   \nfreq              NaN                         13394                     57522   \nfirst             NaN                           NaN                       NaN   \nlast              NaN                           NaN                       NaN   \nmean      1261.071791                           NaN                       NaN   \nstd        946.722409                           NaN                       NaN   \nmin          0.000000                           NaN                       NaN   \n25%          0.000000                           NaN                       NaN   \n50%       1946.000000                           NaN                       NaN   \n75%       1998.000000                           NaN                       NaN   \nmax       2019.000000                           NaN                       NaN   \n\n                        sector              size               type   cname  \\\ncount                   112368            141083             141083  159031   \nunique                      25                 8                 14     176   \ntop     Information Technology  10000+ employees  Company - Private   India   \nfreq                     41629             45851              72602    7130   \nfirst                      NaN               NaN                NaN     NaN   \nlast                       NaN               NaN                NaN     NaN   \nmean                       NaN               NaN                NaN     NaN   \nstd                        NaN               NaN                NaN     NaN   \nmin                        NaN               NaN                NaN     NaN   \n25%                        NaN               NaN                NaN     NaN   \n50%                        NaN               NaN                NaN     NaN   \n75%                        NaN               NaN                NaN     NaN   \nmax                        NaN               NaN                NaN     NaN   \n\n         ccode  \ncount   159031  \nunique     176  \ntop         IN  \nfreq      7130  \nfirst      NaN  \nlast       NaN  \nmean       NaN  \nstd        NaN  \nmin        NaN  \n25%        NaN  \n50%        NaN  \n75%        NaN  \nmax        NaN  \n\n[13 rows x 21 columns]",
      "text/html": "<div>\n<style scoped>\n    .dataframe tbody tr th:only-of-type {\n        vertical-align: middle;\n    }\n\n    .dataframe tbody tr th {\n        vertical-align: top;\n    }\n\n    .dataframe thead th {\n        text-align: right;\n    }\n</style>\n<table border=\"1\" class=\"dataframe\">\n  <thead>\n    <tr style=\"text-align: right;\">\n      <th></th>\n      <th>empSize</th>\n      <th>easyApply</th>\n      <th>empName</th>\n      <th>jobTitle</th>\n      <th>jobDate</th>\n      <th>salHigh</th>\n      <th>salLow</th>\n      <th>jobDesc</th>\n      <th>jobSource</th>\n      <th>country</th>\n      <th>...</th>\n      <th>long</th>\n      <th>location</th>\n      <th>foundedYear</th>\n      <th>industry</th>\n      <th>revenue</th>\n      <th>sector</th>\n      <th>size</th>\n      <th>type</th>\n      <th>cname</th>\n      <th>ccode</th>\n    </tr>\n  </thead>\n  <tbody>\n    <tr>\n      <th>count</th>\n      <td>141083</td>\n      <td>159031</td>\n      <td>155894</td>\n      <td>159031</td>\n      <td>159031</td>\n      <td>3645.000000</td>\n      <td>3645.000000</td>\n      <td>159027</td>\n      <td>159031</td>\n      <td>159031</td>\n      <td>...</td>\n      <td>159031.000000</td>\n      <td>159031</td>\n      <td>159031.000000</td>\n      <td>112336</td>\n      <td>141083</td>\n      <td>112368</td>\n      <td>141083</td>\n      <td>141083</td>\n      <td>159031</td>\n      <td>159031</td>\n    </tr>\n    <tr>\n      <th>unique</th>\n      <td>8</td>\n      <td>2</td>\n      <td>30567</td>\n      <td>62403</td>\n      <td>225</td>\n      <td>NaN</td>\n      <td>NaN</td>\n      <td>103763</td>\n      <td>215</td>\n      <td>1760</td>\n      <td>...</td>\n      <td>NaN</td>\n      <td>5866</td>\n      <td>NaN</td>\n      <td>137</td>\n      <td>13</td>\n      <td>25</td>\n      <td>8</td>\n      <td>14</td>\n      <td>176</td>\n      <td>176</td>\n    </tr>\n    <tr>\n      <th>top</th>\n      <td>10000--1</td>\n      <td>False</td>\n      <td>Amazon</td>\n      <td>Project Manager</td>\n      <td>2019-11-01 00:00:00</td>\n      <td>NaN</td>\n      <td>NaN</td>\n      <td>Credit Suisse Careers Credit Suisse Menu Job S...</td>\n      <td>Indeed XML Feed Employer</td>\n      <td>GB</td>\n      <td>...</td>\n      <td>NaN</td>\n      <td>Singapore</td>\n      <td>NaN</td>\n      <td>Computer Hardware &amp; Software</td>\n      <td>Unknown / Non-Applicable</td>\n      <td>Information Technology</td>\n      <td>10000+ employees</td>\n      <td>Company - Private</td>\n      <td>India</td>\n      <td>IN</td>\n    </tr>\n    <tr>\n      <th>freq</th>\n      <td>45851</td>\n      <td>141756</td>\n      <td>2490</td>\n      <td>4538</td>\n      <td>13863</td>\n      <td>NaN</td>\n      <td>NaN</td>\n      <td>33</td>\n      <td>53201</td>\n      <td>5525</td>\n      <td>...</td>\n      <td>NaN</td>\n      <td>5100</td>\n      <td>NaN</td>\n      <td>13394</td>\n      <td>57522</td>\n      <td>41629</td>\n      <td>45851</td>\n      <td>72602</td>\n      <td>7130</td>\n      <td>7130</td>\n    </tr>\n    <tr>\n      <th>first</th>\n      <td>NaN</td>\n      <td>NaN</td>\n      <td>NaN</td>\n      <td>NaN</td>\n      <td>2018-02-05 00:00:00</td>\n      <td>NaN</td>\n      <td>NaN</td>\n      <td>NaN</td>\n      <td>NaN</td>\n      <td>NaN</td>\n      <td>...</td>\n      <td>NaN</td>\n      <td>NaN</td>\n      <td>NaN</td>\n      <td>NaN</td>\n      <td>NaN</td>\n      <td>NaN</td>\n      <td>NaN</td>\n      <td>NaN</td>\n      <td>NaN</td>\n      <td>NaN</td>\n    </tr>\n    <tr>\n      <th>last</th>\n      <td>NaN</td>\n      <td>NaN</td>\n      <td>NaN</td>\n      <td>NaN</td>\n      <td>2019-11-10 00:00:00</td>\n      <td>NaN</td>\n      <td>NaN</td>\n      <td>NaN</td>\n      <td>NaN</td>\n      <td>NaN</td>\n      <td>...</td>\n      <td>NaN</td>\n      <td>NaN</td>\n      <td>NaN</td>\n      <td>NaN</td>\n      <td>NaN</td>\n      <td>NaN</td>\n      <td>NaN</td>\n      <td>NaN</td>\n      <td>NaN</td>\n      <td>NaN</td>\n    </tr>\n    <tr>\n      <th>mean</th>\n      <td>NaN</td>\n      <td>NaN</td>\n      <td>NaN</td>\n      <td>NaN</td>\n      <td>NaN</td>\n      <td>115880.129767</td>\n      <td>77858.272702</td>\n      <td>NaN</td>\n      <td>NaN</td>\n      <td>NaN</td>\n      <td>...</td>\n      <td>30.333902</td>\n      <td>NaN</td>\n      <td>1261.071791</td>\n      <td>NaN</td>\n      <td>NaN</td>\n      <td>NaN</td>\n      <td>NaN</td>\n      <td>NaN</td>\n      <td>NaN</td>\n      <td>NaN</td>\n    </tr>\n    <tr>\n      <th>std</th>\n      <td>NaN</td>\n      <td>NaN</td>\n      <td>NaN</td>\n      <td>NaN</td>\n      <td>NaN</td>\n      <td>42097.684607</td>\n      <td>30759.817270</td>\n      <td>NaN</td>\n      <td>NaN</td>\n      <td>NaN</td>\n      <td>...</td>\n      <td>62.456589</td>\n      <td>NaN</td>\n      <td>946.722409</td>\n      <td>NaN</td>\n      <td>NaN</td>\n      <td>NaN</td>\n      <td>NaN</td>\n      <td>NaN</td>\n      <td>NaN</td>\n      <td>NaN</td>\n    </tr>\n    <tr>\n      <th>min</th>\n      <td>NaN</td>\n      <td>NaN</td>\n      <td>NaN</td>\n      <td>NaN</td>\n      <td>NaN</td>\n      <td>13.000000</td>\n      <td>10.000000</td>\n      <td>NaN</td>\n      <td>NaN</td>\n      <td>NaN</td>\n      <td>...</td>\n      <td>-171.983300</td>\n      <td>NaN</td>\n      <td>0.000000</td>\n      <td>NaN</td>\n      <td>NaN</td>\n      <td>NaN</td>\n      <td>NaN</td>\n      <td>NaN</td>\n      <td>NaN</td>\n      <td>NaN</td>\n    </tr>\n    <tr>\n      <th>25%</th>\n      <td>NaN</td>\n      <td>NaN</td>\n      <td>NaN</td>\n      <td>NaN</td>\n      <td>NaN</td>\n      <td>85222.000000</td>\n      <td>55283.000000</td>\n      <td>NaN</td>\n      <td>NaN</td>\n      <td>NaN</td>\n      <td>...</td>\n      <td>0.000000</td>\n      <td>NaN</td>\n      <td>0.000000</td>\n      <td>NaN</td>\n      <td>NaN</td>\n      <td>NaN</td>\n      <td>NaN</td>\n      <td>NaN</td>\n      <td>NaN</td>\n      <td>NaN</td>\n    </tr>\n    <tr>\n      <th>50%</th>\n      <td>NaN</td>\n      <td>NaN</td>\n      <td>NaN</td>\n      <td>NaN</td>\n      <td>NaN</td>\n      <td>109641.000000</td>\n      <td>72500.000000</td>\n      <td>NaN</td>\n      <td>NaN</td>\n      <td>NaN</td>\n      <td>...</td>\n      <td>12.505200</td>\n      <td>NaN</td>\n      <td>1946.000000</td>\n      <td>NaN</td>\n      <td>NaN</td>\n      <td>NaN</td>\n      <td>NaN</td>\n      <td>NaN</td>\n      <td>NaN</td>\n      <td>NaN</td>\n    </tr>\n    <tr>\n      <th>75%</th>\n      <td>NaN</td>\n      <td>NaN</td>\n      <td>NaN</td>\n      <td>NaN</td>\n      <td>NaN</td>\n      <td>140000.000000</td>\n      <td>95966.000000</td>\n      <td>NaN</td>\n      <td>NaN</td>\n      <td>NaN</td>\n      <td>...</td>\n      <td>77.587300</td>\n      <td>NaN</td>\n      <td>1998.000000</td>\n      <td>NaN</td>\n      <td>NaN</td>\n      <td>NaN</td>\n      <td>NaN</td>\n      <td>NaN</td>\n      <td>NaN</td>\n      <td>NaN</td>\n    </tr>\n    <tr>\n      <th>max</th>\n      <td>NaN</td>\n      <td>NaN</td>\n      <td>NaN</td>\n      <td>NaN</td>\n      <td>NaN</td>\n      <td>376948.000000</td>\n      <td>236650.000000</td>\n      <td>NaN</td>\n      <td>NaN</td>\n      <td>NaN</td>\n      <td>...</td>\n      <td>177.366700</td>\n      <td>NaN</td>\n      <td>2019.000000</td>\n      <td>NaN</td>\n      <td>NaN</td>\n      <td>NaN</td>\n      <td>NaN</td>\n      <td>NaN</td>\n      <td>NaN</td>\n      <td>NaN</td>\n    </tr>\n  </tbody>\n</table>\n<p>13 rows × 21 columns</p>\n</div>"
     },
     "metadata": {},
     "execution_count": 10
    }
   ],
   "source": [
    "GDjobs_df.describe(include=\"all\")"
   ]
  },
  {
   "cell_type": "code",
   "execution_count": 11,
   "metadata": {
    "tags": []
   },
   "outputs": [
    {
     "output_type": "stream",
     "name": "stdout",
     "text": "<class 'pandas.core.frame.DataFrame'>\nInt64Index: 159031 entries, 0 to 165284\nData columns (total 21 columns):\n #   Column       Non-Null Count   Dtype         \n---  ------       --------------   -----         \n 0   empSize      141083 non-null  object        \n 1   easyApply    159031 non-null  bool          \n 2   empName      155894 non-null  object        \n 3   jobTitle     159031 non-null  object        \n 4   jobDate      159031 non-null  datetime64[ns]\n 5   salHigh      3645 non-null    float64       \n 6   salLow       3645 non-null    float64       \n 7   jobDesc      159027 non-null  object        \n 8   jobSource    159031 non-null  object        \n 9   country      159031 non-null  object        \n 10  lat          159031 non-null  float64       \n 11  long         159031 non-null  float64       \n 12  location     159031 non-null  object        \n 13  foundedYear  159031 non-null  int64         \n 14  industry     112336 non-null  object        \n 15  revenue      141083 non-null  object        \n 16  sector       112368 non-null  object        \n 17  size         141083 non-null  object        \n 18  type         141083 non-null  object        \n 19  cname        159031 non-null  object        \n 20  ccode        159031 non-null  object        \ndtypes: bool(1), datetime64[ns](1), float64(4), int64(1), object(14)\nmemory usage: 25.6+ MB\n"
    }
   ],
   "source": [
    "GDjobs_df.info()"
   ]
  },
  {
   "cell_type": "code",
   "execution_count": 12,
   "metadata": {},
   "outputs": [],
   "source": [
    "GDjobs_df = mtb.experience (GDjobs_df)"
   ]
  },
  {
   "cell_type": "code",
   "execution_count": 13,
   "metadata": {},
   "outputs": [
    {
     "output_type": "execute_result",
     "data": {
      "text/plain": "              128384\nSenior         25929\nJunior          3812\nInternship       906\nName: exp, dtype: int64"
     },
     "metadata": {},
     "execution_count": 13
    }
   ],
   "source": [
    "GDjobs_df[\"exp\"].value_counts()"
   ]
  },
  {
   "cell_type": "code",
   "execution_count": 14,
   "metadata": {},
   "outputs": [],
   "source": [
    "GDjobs_df = mtb.level (GDjobs_df)"
   ]
  },
  {
   "cell_type": "code",
   "execution_count": 15,
   "metadata": {},
   "outputs": [
    {
     "output_type": "execute_result",
     "data": {
      "text/plain": "Technical     49732\nManager       48515\nAnalyst       23834\nScientist      8720\nDeveloper      5548\n               4247\nProduct        4133\nConsultant     3939\nPMO            3727\nResearch       3408\nDba            2164\nDirector        597\nAssistant       467\nName: level, dtype: int64"
     },
     "metadata": {},
     "execution_count": 15
    }
   ],
   "source": [
    "GDjobs_df[\"level\"].value_counts()"
   ]
  },
  {
   "cell_type": "code",
   "execution_count": 16,
   "metadata": {},
   "outputs": [],
   "source": [
    "GDjobs_df = mtb.jobType(GDjobs_df)"
   ]
  },
  {
   "cell_type": "code",
   "execution_count": 17,
   "metadata": {
    "tags": []
   },
   "outputs": [
    {
     "output_type": "stream",
     "name": "stdout",
     "text": "<class 'pandas.core.frame.DataFrame'>\nInt64Index: 159031 entries, 0 to 165284\nData columns (total 24 columns):\n #   Column       Non-Null Count   Dtype         \n---  ------       --------------   -----         \n 0   empSize      141083 non-null  object        \n 1   easyApply    159031 non-null  bool          \n 2   empName      155894 non-null  object        \n 3   jobTitle     159031 non-null  object        \n 4   jobDate      159031 non-null  datetime64[ns]\n 5   salHigh      3645 non-null    float64       \n 6   salLow       3645 non-null    float64       \n 7   jobDesc      159027 non-null  object        \n 8   jobSource    159031 non-null  object        \n 9   country      159031 non-null  object        \n 10  lat          159031 non-null  float64       \n 11  long         159031 non-null  float64       \n 12  location     159031 non-null  object        \n 13  foundedYear  159031 non-null  int64         \n 14  industry     112336 non-null  object        \n 15  revenue      141083 non-null  object        \n 16  sector       112368 non-null  object        \n 17  size         141083 non-null  object        \n 18  type         141083 non-null  object        \n 19  cname        159031 non-null  object        \n 20  ccode        159031 non-null  object        \n 21  exp          159031 non-null  object        \n 22  level        159031 non-null  object        \n 23  jobType      159031 non-null  object        \ndtypes: bool(1), datetime64[ns](1), float64(4), int64(1), object(17)\nmemory usage: 29.3+ MB\n"
    }
   ],
   "source": [
    "GDjobs_df.info()"
   ]
  },
  {
   "cell_type": "code",
   "execution_count": null,
   "metadata": {},
   "outputs": [],
   "source": []
  },
  {
   "cell_type": "code",
   "execution_count": 18,
   "metadata": {},
   "outputs": [
    {
     "output_type": "execute_result",
     "data": {
      "text/plain": "       125550\nBA      12126\nDS       7510\nDA       6334\nDE       5523\nML       1988\nName: jobType, dtype: int64"
     },
     "metadata": {},
     "execution_count": 18
    }
   ],
   "source": [
    "GDjobs_df[\"jobType\"].value_counts()#(normalize=True)"
   ]
  },
  {
   "cell_type": "code",
   "execution_count": null,
   "metadata": {},
   "outputs": [],
   "source": []
  },
  {
   "cell_type": "code",
   "execution_count": 19,
   "metadata": {},
   "outputs": [
    {
     "output_type": "execute_result",
     "data": {
      "text/plain": "           empSize  easyApply                     empName  \\\n13      5001-10000      False                      Amaris   \n16          51-200      False  Harnham Search & Selection   \n22        10000--1      False                    Best Buy   \n27          51-200      False                   Derbysoft   \n33             NaN      False                         NaN   \n...            ...        ...                         ...   \n165261     201-500      False                     Dataiku   \n165262        1-50      False        Advans International   \n165263         NaN      False                   Hcm Nexus   \n165267    10000--1      False                     Ubisoft   \n165275      51-200      False                 Know-Center   \n\n                                                 jobTitle    jobDate  \\\n13                                       Big Data Analyst 2019-10-29   \n16                                   Data Scientist Media 2019-11-01   \n22                                         Data Scientist 2019-11-04   \n27                                         Data Scientist 2019-09-11   \n33                                         Data Scientist 2019-11-05   \n...                                                   ...        ...   \n165261                         Technical Support Engineer 2019-10-25   \n165262                                   Data Analyst F/H 2019-11-06   \n165263                                     Data Scientist 2019-11-04   \n165267                                       Data Analyst 2019-11-07   \n165275  Senior Data Engineer Mit Schwerpunkt Distribut... 2019-11-04   \n\n         salHigh    salLow                                            jobDesc  \\\n13           NaN       NaN  Amaris est une soci&eacute;t&eacute; ind&eacut...   \n16           NaN       NaN  <ul>\\n<li>*Data Scientist media**</li>\\n<li>*L...   \n22      182160.0  132630.0  <strong>Job Title</strong>\\n<br/>\\nData Scient...   \n27           NaN       NaN  <strong>Job Title:</strong> Data Scientist\\n<b...   \n33           NaN       NaN  Every day, employees working in Takeda's Globa...   \n...          ...       ...                                                ...   \n165261       NaN       NaN  Dataiku is looking for an experienced Technica...   \n165262       NaN       NaN  Poste en CDI bas&eacute; &agrave; Paris, avec ...   \n165263       NaN       NaN  <strong>Main Activities and Responsibilities</...   \n165267  107219.0   68090.0  Job Description<br/><br/>Ubisoft is committed ...   \n165275       NaN       NaN  Arbeiten Sie gerne mit Kundinnen und Kunden zu...   \n\n                        jobSource  country  ...  \\\n13       Indeed XML Feed Employer       BE  ...   \n16                        Zoek UK       GB  ...   \n22                kenexaBrassRing       US  ...   \n27         Indeed XML Feed Dradis       ES  ...   \n33                       JobisJob  Austria  ...   \n...                           ...      ...  ...   \n165261     Indeed XML Feed Dradis       AU  ...   \n165262  Indeed XML Feed Job Board       FR  ...   \n165263     Indeed XML Feed Dradis       PH  ...   \n165267                     neuvoo       US  ...   \n165275   Indeed XML Feed Employer       AT  ...   \n\n                                      industry                     revenue  \\\n13                                  Consulting    Unknown / Non-Applicable   \n16                      Staffing & Outsourcing    £25 to £50 million (GBP)   \n22      Consumer Electronics & Appliance Shops     £5 to £10 billion (GBP)   \n27                                 It Services  Less than £1 million (GBP)   \n33                                         NaN                         NaN   \n...                                        ...                         ...   \n165261            Computer Hardware & Software    £25 to £50 million (GBP)   \n165262              Banks & Building Societies      £1 to £5 million (GBP)   \n165263                                     NaN                         NaN   \n165267                             Video Games      £2 to £5 billion (GBP)   \n165275                                     NaN    Unknown / Non-Applicable   \n\n                        sector                     size                type  \\\n13           Business Services  5001 to 10000 employees   Company - Private   \n16           Business Services      51 to 200 employees   Company - Private   \n22                      Retail         10000+ employees    Company - Public   \n27      Information Technology      51 to 200 employees   Company - Private   \n33                         NaN                      NaN                 NaN   \n...                        ...                      ...                 ...   \n165261  Information Technology     201 to 500 employees   Company - Private   \n165262                 Finance        1 to 50 employees  Other Organisation   \n165263                     NaN                      NaN                 NaN   \n165267                   Media         10000+ employees    Company - Public   \n165275                     NaN      51 to 200 employees   Company - Private   \n\n                 cname ccode     exp      level jobType  \n13             Belgium    BE            Analyst      DE  \n16      United Kingdom    GB          Scientist      DS  \n22       United States    US          Scientist      DS  \n27               Spain    ES          Scientist      DS  \n33             Austria    AT          Scientist      DS  \n...                ...   ...     ...        ...     ...  \n165261       Australia    AU          Technical          \n165262          France    FR            Analyst      DA  \n165263     Philippines    PH          Scientist      DS  \n165267   United States    US            Analyst      DA  \n165275         Austria    AT  Senior  Technical      DE  \n\n[26534 rows x 24 columns]",
      "text/html": "<div>\n<style scoped>\n    .dataframe tbody tr th:only-of-type {\n        vertical-align: middle;\n    }\n\n    .dataframe tbody tr th {\n        vertical-align: top;\n    }\n\n    .dataframe thead th {\n        text-align: right;\n    }\n</style>\n<table border=\"1\" class=\"dataframe\">\n  <thead>\n    <tr style=\"text-align: right;\">\n      <th></th>\n      <th>empSize</th>\n      <th>easyApply</th>\n      <th>empName</th>\n      <th>jobTitle</th>\n      <th>jobDate</th>\n      <th>salHigh</th>\n      <th>salLow</th>\n      <th>jobDesc</th>\n      <th>jobSource</th>\n      <th>country</th>\n      <th>...</th>\n      <th>industry</th>\n      <th>revenue</th>\n      <th>sector</th>\n      <th>size</th>\n      <th>type</th>\n      <th>cname</th>\n      <th>ccode</th>\n      <th>exp</th>\n      <th>level</th>\n      <th>jobType</th>\n    </tr>\n  </thead>\n  <tbody>\n    <tr>\n      <th>13</th>\n      <td>5001-10000</td>\n      <td>False</td>\n      <td>Amaris</td>\n      <td>Big Data Analyst</td>\n      <td>2019-10-29</td>\n      <td>NaN</td>\n      <td>NaN</td>\n      <td>Amaris est une soci&amp;eacute;t&amp;eacute; ind&amp;eacut...</td>\n      <td>Indeed XML Feed Employer</td>\n      <td>BE</td>\n      <td>...</td>\n      <td>Consulting</td>\n      <td>Unknown / Non-Applicable</td>\n      <td>Business Services</td>\n      <td>5001 to 10000 employees</td>\n      <td>Company - Private</td>\n      <td>Belgium</td>\n      <td>BE</td>\n      <td></td>\n      <td>Analyst</td>\n      <td>DE</td>\n    </tr>\n    <tr>\n      <th>16</th>\n      <td>51-200</td>\n      <td>False</td>\n      <td>Harnham Search &amp; Selection</td>\n      <td>Data Scientist Media</td>\n      <td>2019-11-01</td>\n      <td>NaN</td>\n      <td>NaN</td>\n      <td>&lt;ul&gt;\\n&lt;li&gt;*Data Scientist media**&lt;/li&gt;\\n&lt;li&gt;*L...</td>\n      <td>Zoek UK</td>\n      <td>GB</td>\n      <td>...</td>\n      <td>Staffing &amp; Outsourcing</td>\n      <td>£25 to £50 million (GBP)</td>\n      <td>Business Services</td>\n      <td>51 to 200 employees</td>\n      <td>Company - Private</td>\n      <td>United Kingdom</td>\n      <td>GB</td>\n      <td></td>\n      <td>Scientist</td>\n      <td>DS</td>\n    </tr>\n    <tr>\n      <th>22</th>\n      <td>10000--1</td>\n      <td>False</td>\n      <td>Best Buy</td>\n      <td>Data Scientist</td>\n      <td>2019-11-04</td>\n      <td>182160.0</td>\n      <td>132630.0</td>\n      <td>&lt;strong&gt;Job Title&lt;/strong&gt;\\n&lt;br/&gt;\\nData Scient...</td>\n      <td>kenexaBrassRing</td>\n      <td>US</td>\n      <td>...</td>\n      <td>Consumer Electronics &amp; Appliance Shops</td>\n      <td>£5 to £10 billion (GBP)</td>\n      <td>Retail</td>\n      <td>10000+ employees</td>\n      <td>Company - Public</td>\n      <td>United States</td>\n      <td>US</td>\n      <td></td>\n      <td>Scientist</td>\n      <td>DS</td>\n    </tr>\n    <tr>\n      <th>27</th>\n      <td>51-200</td>\n      <td>False</td>\n      <td>Derbysoft</td>\n      <td>Data Scientist</td>\n      <td>2019-09-11</td>\n      <td>NaN</td>\n      <td>NaN</td>\n      <td>&lt;strong&gt;Job Title:&lt;/strong&gt; Data Scientist\\n&lt;b...</td>\n      <td>Indeed XML Feed Dradis</td>\n      <td>ES</td>\n      <td>...</td>\n      <td>It Services</td>\n      <td>Less than £1 million (GBP)</td>\n      <td>Information Technology</td>\n      <td>51 to 200 employees</td>\n      <td>Company - Private</td>\n      <td>Spain</td>\n      <td>ES</td>\n      <td></td>\n      <td>Scientist</td>\n      <td>DS</td>\n    </tr>\n    <tr>\n      <th>33</th>\n      <td>NaN</td>\n      <td>False</td>\n      <td>NaN</td>\n      <td>Data Scientist</td>\n      <td>2019-11-05</td>\n      <td>NaN</td>\n      <td>NaN</td>\n      <td>Every day, employees working in Takeda's Globa...</td>\n      <td>JobisJob</td>\n      <td>Austria</td>\n      <td>...</td>\n      <td>NaN</td>\n      <td>NaN</td>\n      <td>NaN</td>\n      <td>NaN</td>\n      <td>NaN</td>\n      <td>Austria</td>\n      <td>AT</td>\n      <td></td>\n      <td>Scientist</td>\n      <td>DS</td>\n    </tr>\n    <tr>\n      <th>...</th>\n      <td>...</td>\n      <td>...</td>\n      <td>...</td>\n      <td>...</td>\n      <td>...</td>\n      <td>...</td>\n      <td>...</td>\n      <td>...</td>\n      <td>...</td>\n      <td>...</td>\n      <td>...</td>\n      <td>...</td>\n      <td>...</td>\n      <td>...</td>\n      <td>...</td>\n      <td>...</td>\n      <td>...</td>\n      <td>...</td>\n      <td>...</td>\n      <td>...</td>\n      <td>...</td>\n    </tr>\n    <tr>\n      <th>165261</th>\n      <td>201-500</td>\n      <td>False</td>\n      <td>Dataiku</td>\n      <td>Technical Support Engineer</td>\n      <td>2019-10-25</td>\n      <td>NaN</td>\n      <td>NaN</td>\n      <td>Dataiku is looking for an experienced Technica...</td>\n      <td>Indeed XML Feed Dradis</td>\n      <td>AU</td>\n      <td>...</td>\n      <td>Computer Hardware &amp; Software</td>\n      <td>£25 to £50 million (GBP)</td>\n      <td>Information Technology</td>\n      <td>201 to 500 employees</td>\n      <td>Company - Private</td>\n      <td>Australia</td>\n      <td>AU</td>\n      <td></td>\n      <td>Technical</td>\n      <td></td>\n    </tr>\n    <tr>\n      <th>165262</th>\n      <td>1-50</td>\n      <td>False</td>\n      <td>Advans International</td>\n      <td>Data Analyst F/H</td>\n      <td>2019-11-06</td>\n      <td>NaN</td>\n      <td>NaN</td>\n      <td>Poste en CDI bas&amp;eacute; &amp;agrave; Paris, avec ...</td>\n      <td>Indeed XML Feed Job Board</td>\n      <td>FR</td>\n      <td>...</td>\n      <td>Banks &amp; Building Societies</td>\n      <td>£1 to £5 million (GBP)</td>\n      <td>Finance</td>\n      <td>1 to 50 employees</td>\n      <td>Other Organisation</td>\n      <td>France</td>\n      <td>FR</td>\n      <td></td>\n      <td>Analyst</td>\n      <td>DA</td>\n    </tr>\n    <tr>\n      <th>165263</th>\n      <td>NaN</td>\n      <td>False</td>\n      <td>Hcm Nexus</td>\n      <td>Data Scientist</td>\n      <td>2019-11-04</td>\n      <td>NaN</td>\n      <td>NaN</td>\n      <td>&lt;strong&gt;Main Activities and Responsibilities&lt;/...</td>\n      <td>Indeed XML Feed Dradis</td>\n      <td>PH</td>\n      <td>...</td>\n      <td>NaN</td>\n      <td>NaN</td>\n      <td>NaN</td>\n      <td>NaN</td>\n      <td>NaN</td>\n      <td>Philippines</td>\n      <td>PH</td>\n      <td></td>\n      <td>Scientist</td>\n      <td>DS</td>\n    </tr>\n    <tr>\n      <th>165267</th>\n      <td>10000--1</td>\n      <td>False</td>\n      <td>Ubisoft</td>\n      <td>Data Analyst</td>\n      <td>2019-11-07</td>\n      <td>107219.0</td>\n      <td>68090.0</td>\n      <td>Job Description&lt;br/&gt;&lt;br/&gt;Ubisoft is committed ...</td>\n      <td>neuvoo</td>\n      <td>US</td>\n      <td>...</td>\n      <td>Video Games</td>\n      <td>£2 to £5 billion (GBP)</td>\n      <td>Media</td>\n      <td>10000+ employees</td>\n      <td>Company - Public</td>\n      <td>United States</td>\n      <td>US</td>\n      <td></td>\n      <td>Analyst</td>\n      <td>DA</td>\n    </tr>\n    <tr>\n      <th>165275</th>\n      <td>51-200</td>\n      <td>False</td>\n      <td>Know-Center</td>\n      <td>Senior Data Engineer Mit Schwerpunkt Distribut...</td>\n      <td>2019-11-04</td>\n      <td>NaN</td>\n      <td>NaN</td>\n      <td>Arbeiten Sie gerne mit Kundinnen und Kunden zu...</td>\n      <td>Indeed XML Feed Employer</td>\n      <td>AT</td>\n      <td>...</td>\n      <td>NaN</td>\n      <td>Unknown / Non-Applicable</td>\n      <td>NaN</td>\n      <td>51 to 200 employees</td>\n      <td>Company - Private</td>\n      <td>Austria</td>\n      <td>AT</td>\n      <td>Senior</td>\n      <td>Technical</td>\n      <td>DE</td>\n    </tr>\n  </tbody>\n</table>\n<p>26534 rows × 24 columns</p>\n</div>"
     },
     "metadata": {},
     "execution_count": 19
    }
   ],
   "source": [
    "GDjobs_df[(GDjobs_df[\"jobDesc\"].str.contains(\"Python\",na=False))]"
   ]
  },
  {
   "cell_type": "markdown",
   "metadata": {},
   "source": [
    "## 4. Análisis de tendencias en los datos (EDA)\n",
    "________________"
   ]
  },
  {
   "cell_type": "markdown",
   "metadata": {},
   "source": [
    "### PIE CHARTS"
   ]
  },
  {
   "cell_type": "markdown",
   "metadata": {},
   "source": [
    "### GRÁFICOS P"
   ]
  },
  {
   "cell_type": "markdown",
   "metadata": {},
   "source": [
    "###   ANÁLISIS POR "
   ]
  },
  {
   "cell_type": "code",
   "execution_count": null,
   "metadata": {},
   "outputs": [],
   "source": []
  }
 ],
 "metadata": {
  "language_info": {
   "codemirror_mode": {
    "name": "ipython",
    "version": 3
   },
   "file_extension": ".py",
   "mimetype": "text/x-python",
   "name": "python",
   "nbconvert_exporter": "python",
   "pygments_lexer": "ipython3",
   "version": "3.8.3-final"
  },
  "orig_nbformat": 2,
  "kernelspec": {
   "name": "python38364bit61836de9583b4678983c2459e76af05f",
   "display_name": "Python 3.8.3 64-bit"
  }
 },
 "nbformat": 4,
 "nbformat_minor": 2
}