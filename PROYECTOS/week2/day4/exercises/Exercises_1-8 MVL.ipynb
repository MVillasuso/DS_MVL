{
 "cells": [
  {
   "cell_type": "markdown",
   "metadata": {},
   "source": [
    "# Ejercicios Precurso W2\n",
    "\n",
    "**Variables, listas, diccionarios, condicionales, booleanos, funciones, while**"
   ]
  },
  {
   "cell_type": "markdown",
   "metadata": {},
   "source": [
    "------------------------------------------------------------------------------------------------------------"
   ]
  },
  {
   "cell_type": "markdown",
   "metadata": {},
   "source": [
    "## Ejercicio 1."
   ]
  },
  {
   "cell_type": "markdown",
   "metadata": {},
   "source": [
    "1. Crea una variable llamada `numero_bridge` que tenga como valor **15**. Tipo entero.\n"
   ]
  },
  {
   "cell_type": "code",
   "execution_count": 41,
   "metadata": {},
   "outputs": [],
   "source": [
    "#your code here\n",
    "numero_bridge = 15\n"
   ]
  },
  {
   "cell_type": "markdown",
   "metadata": {},
   "source": [
    "2. Crea una variable llamada `nombre_calle`que sea un string y sea **Recoletos**\n",
    " "
   ]
  },
  {
   "cell_type": "code",
   "execution_count": 42,
   "metadata": {},
   "outputs": [],
   "source": [
    "#your code here\n",
    "nombre_calle = \"Recoletos\"\n"
   ]
  },
  {
   "cell_type": "markdown",
   "metadata": {},
   "source": [
    "3. Crea una variable llamada `gusto_personal` que sea **True** si eres más de playa y **False** si eres más de montaña.\n",
    "```python\n",
    "#Ejemplo: \n",
    "gusto_personal = True  # Si te gusta más la montaña\n",
    "gusto_personal = False  # Si te gusta más la playa\n",
    "``` "
   ]
  },
  {
   "cell_type": "code",
   "execution_count": 43,
   "metadata": {},
   "outputs": [],
   "source": [
    "#your code here\n",
    "gusto_personal = True\n"
   ]
  },
  {
   "cell_type": "markdown",
   "metadata": {},
   "source": [
    "4. Crea una variable llamada `nada` de la siguiente forma: `nada = None`. None no representa ningún valor. Ha de tenerse en cuenta que si se hace `if (nada):`, `nada` actúa como un valor booleano `False`. \n"
   ]
  },
  {
   "cell_type": "code",
   "execution_count": 44,
   "metadata": {},
   "outputs": [],
   "source": [
    "#your code here\n",
    "nada = None\n"
   ]
  },
  {
   "cell_type": "markdown",
   "metadata": {},
   "source": [
    "5. Crea una variable que llamada `lista_direccion` que sea una lista y que contenga 2 valores. El primer valor debe ser la variable `numero_bridge` y el segundo valor de la lista debe ser la variable `nombre_calle`\n"
   ]
  },
  {
   "cell_type": "code",
   "execution_count": 45,
   "metadata": {},
   "outputs": [],
   "source": [
    "#your code here\n",
    "lista_direccion = [numero_bridge, nombre_calle]\n"
   ]
  },
  {
   "cell_type": "markdown",
   "metadata": {},
   "source": [
    "6. Crea una variable llamada `horas_sueno` que almacene, en forma de String, las horas que has dormido hoy.\n",
    "```python\n",
    "#Ejemplo: \n",
    "horas_sueno = \"8\" \n",
    "````\n"
   ]
  },
  {
   "cell_type": "code",
   "execution_count": 46,
   "metadata": {},
   "outputs": [],
   "source": [
    "#your code here\n",
    "horas_sueno = \"7\"\n"
   ]
  },
  {
   "cell_type": "markdown",
   "metadata": {},
   "source": [
    "7. Crea una lista llamada `lista_informacion` que tenga cada una de las variables creadas anteriormente en el orden en el que se han expuesto en el ejercicio.\n",
    "IMPORTANTE: A partir de este momento y para todos estos ejercicios, solo se van a utilizar los datos almacenados en `lista_informacion`. Debe contener 6 elementos. "
   ]
  },
  {
   "cell_type": "code",
   "execution_count": 47,
   "metadata": {},
   "outputs": [],
   "source": [
    "#your code here\n",
    "lista_informacion = [numero_bridge,nombre_calle,gusto_personal,nada,lista_direccion,horas_sueno]\n"
   ]
  },
  {
   "cell_type": "markdown",
   "metadata": {},
   "source": [
    "8. Ejecuta esta celda para borrar todas las variables que has tenido que crear antes. El contenido de `lista_informacion` no cambiará. De esta forma, nos aseguraremos de que solo uses la información de `lista_informacion`. "
   ]
  },
  {
   "cell_type": "code",
   "execution_count": 48,
   "metadata": {},
   "outputs": [],
   "source": [
    "#run this cell\n",
    "del numero_bridge\n",
    "del nombre_calle\n",
    "del gusto_personal \n",
    "del nada\n",
    "del lista_direccion\n",
    "del horas_sueno"
   ]
  },
  {
   "cell_type": "markdown",
   "metadata": {},
   "source": [
    "## Ejercicio 2."
   ]
  },
  {
   "cell_type": "markdown",
   "metadata": {},
   "source": [
    "#### Apartado 1."
   ]
  },
  {
   "cell_type": "markdown",
   "metadata": {},
   "source": [
    "Para esta parte del ejercicio has debido definir `lista_información` correctamente. Recuerda no usar las variables excepto `lista_informacion`. Leer cada punto hasta el final antes de hacer la tarea. "
   ]
  },
  {
   "cell_type": "markdown",
   "metadata": {},
   "source": [
    "Mostrar por pantalla, sin uso de funciones ni bucles:"
   ]
  },
  {
   "cell_type": "markdown",
   "metadata": {},
   "source": [
    "1. La concatenación del número de The Bridge, dos puntos y el nombre de la calle. "
   ]
  },
  {
   "cell_type": "code",
   "execution_count": 49,
   "metadata": {
    "tags": []
   },
   "outputs": [
    {
     "output_type": "stream",
     "name": "stdout",
     "text": "Lista: [15, 'Recoletos', True, None, [15, 'Recoletos'], '7']\n15: Recoletos\n"
    }
   ],
   "source": [
    "#your code here\n",
    "print(\"Lista: \" + str(lista_informacion))\n",
    "\n",
    "#La concatenación del número de The Bridge, dos puntos y el nombre de la calle.\n",
    "\n",
    "print(str(lista_informacion[0]) + str (\": \") + str(lista_informacion[1]))\n",
    "\n"
   ]
  },
  {
   "cell_type": "markdown",
   "metadata": {},
   "source": [
    "   2. La suma del número de The Bridge y las horas que has dormido hoy. "
   ]
  },
  {
   "cell_type": "code",
   "execution_count": 50,
   "metadata": {
    "tags": []
   },
   "outputs": [
    {
     "output_type": "stream",
     "name": "stdout",
     "text": "22\n"
    }
   ],
   "source": [
    "#your code here\n",
    "print(lista_informacion [0] + int(lista_informacion [-1]))"
   ]
  },
  {
   "cell_type": "markdown",
   "metadata": {},
   "source": [
    "3. La concatenación del número de The Bridge, el nombre de la calle, tu gusto personal y las horas de sueño. Cada uno debe estar separado por lo siguiente: `\" : \"`"
   ]
  },
  {
   "cell_type": "code",
   "execution_count": 51,
   "metadata": {
    "tags": []
   },
   "outputs": [
    {
     "output_type": "stream",
     "name": "stdout",
     "text": "15 : Recoletos : True : 7\n"
    }
   ],
   "source": [
    "#your code here\n",
    "print(str(lista_informacion[0]) + str (\" : \") + str(lista_informacion[1]) +  str (\" : \") + str(lista_informacion[2]) + str(\" : \") + str(lista_informacion[-1]))"
   ]
  },
  {
   "cell_type": "markdown",
   "metadata": {},
   "source": [
    "4. Accediendo a la lista que ocupa la quinta posición de `lista_informacion`, muestra por pantalla la suma de lo siguiente. Si en la cuarte posición de tu `lista_informacion` no encuentras una lista, preguntanos:\n",
    "     - La concatenación de los dos elementos. \n",
    "     - La multiplicación del tamaño de la lista y el tamaño del número de caracteres que tiene el nombre de la calle.\n"
   ]
  },
  {
   "cell_type": "code",
   "execution_count": 52,
   "metadata": {
    "tags": []
   },
   "outputs": [
    {
     "output_type": "stream",
     "name": "stdout",
     "text": "15Recoletos\n18\n"
    }
   ],
   "source": [
    "#your code here\n",
    "print(str(lista_informacion[4][0]) + str(lista_informacion[4][1]))\n",
    "print(int(len(lista_informacion[4]*int(len(lista_informacion[1])))))"
   ]
  },
  {
   "cell_type": "markdown",
   "metadata": {},
   "source": [
    "#### Apartado 2. "
   ]
  },
  {
   "cell_type": "markdown",
   "metadata": {},
   "source": [
    "Para resolver los siguientes ejercicios será necesario que definas una función para cada apartado, tú elige el nombre salvo que se especifique, pero asegúrate de que defines un único parámetro `lista`, que al llamar a la función se corresponderá con la variable `lista_información`. "
   ]
  },
  {
   "cell_type": "markdown",
   "metadata": {},
   "source": [
    "Nota: Cuando sea *recorre* se refiere a bucle `for`. "
   ]
  },
  {
   "cell_type": "markdown",
   "metadata": {},
   "source": [
    "   5. Mostrar por pantalla `\"Me gusta la tranquilidad\"` si te gusta más la montaña y `\"Me gusta ver las carnes al aire libre\"` si te gusta más la playa."
   ]
  },
  {
   "cell_type": "code",
   "execution_count": 53,
   "metadata": {
    "tags": []
   },
   "outputs": [
    {
     "output_type": "stream",
     "name": "stdout",
     "text": "Me gusta ver las carnes al aire libre\n"
    }
   ],
   "source": [
    "#your code here\n",
    "def pref_lugar(lista):\n",
    "    preferencia = \"\"\n",
    "    if lista[2]:     # Si prefiero la Playa \n",
    "        preferencia = print(\"Me gusta ver las carnes al aire libre\")\n",
    "    else:\n",
    "        preferencia = print(\"Me gusta la tranquilidad\")\n",
    "\n",
    "    return (preferencia)\n",
    "\n",
    "pref_lugar(lista_informacion)"
   ]
  },
  {
   "cell_type": "markdown",
   "metadata": {},
   "source": [
    "6. Mostrar por pantalla `\"Hoy estoy cansado\"` si has dormido menos de 7 horas y `\"Hoy me como el mundo\"` si has dormido más de 7 horas. "
   ]
  },
  {
   "cell_type": "code",
   "execution_count": 54,
   "metadata": {
    "tags": []
   },
   "outputs": [
    {
     "output_type": "stream",
     "name": "stdout",
     "text": "\n"
    }
   ],
   "source": [
    "#your code here\n",
    "def estado_sueno(lista):\n",
    "    estado_dia =\"\"\n",
    "    if  int(lista[-1]) < 7:\n",
    "        estado_dia = \"Hoy estoy cansado\"\n",
    "    elif int(lista[-1]) > 7 :\n",
    "        estado_dia = \"Hoy me como el mundo\"\n",
    "\n",
    "    return(estado_dia)\n",
    "\n",
    "x = estado_sueno(lista_informacion)\n",
    "print(x)"
   ]
  },
  {
   "cell_type": "markdown",
   "metadata": {},
   "source": [
    "7. Recorrer `lista` para mostrar todos los elementos que contiene. "
   ]
  },
  {
   "cell_type": "code",
   "execution_count": 55,
   "metadata": {
    "tags": []
   },
   "outputs": [
    {
     "output_type": "stream",
     "name": "stdout",
     "text": "15\nRecoletos\nTrue\nNone\n[15, 'Recoletos']\n7\n"
    }
   ],
   "source": [
    "#your code here\n",
    "def mostrar_lista (lista):\n",
    "    for elem in lista:\n",
    "        print(elem)\n",
    "\n",
    "mostrar_lista(lista_informacion)"
   ]
  },
  {
   "cell_type": "markdown",
   "metadata": {},
   "source": [
    "8. Recorrer `lista` para mostrar todos los elementos que contiene concatenados con el string `\"--> OK\"`\n"
   ]
  },
  {
   "cell_type": "code",
   "execution_count": 56,
   "metadata": {
    "tags": []
   },
   "outputs": [
    {
     "output_type": "stream",
     "name": "stdout",
     "text": "15--> OK\nRecoletos--> OK\nTrue--> OK\nNone--> OK\n[15, 'Recoletos']--> OK\n7--> OK\n"
    }
   ],
   "source": [
    "#your code here\n",
    "def mostrarOK_lista (lista):\n",
    "    for elem in lista:\n",
    "        print(str(elem) + \"--> OK\")\n",
    "\n",
    "mostrarOK_lista(lista_informacion)"
   ]
  },
  {
   "cell_type": "markdown",
   "metadata": {},
   "source": [
    "9. Recorrer `lista` para mostrar todos los elementos que contiene excepto el primero."
   ]
  },
  {
   "cell_type": "code",
   "execution_count": 57,
   "metadata": {
    "tags": []
   },
   "outputs": [
    {
     "output_type": "stream",
     "name": "stdout",
     "text": "Recoletos\nTrue\nNone\n[15, 'Recoletos']\n7\n"
    }
   ],
   "source": [
    "#your code here\n",
    "def lista_exc_prim(lista):\n",
    "    for elem in range(1,len(lista)):\n",
    "            print(str(lista[elem]))\n",
    "\n",
    "lista_exc_prim(lista_informacion)"
   ]
  },
  {
   "cell_type": "markdown",
   "metadata": {},
   "source": [
    "10. Recorrer `lista` para mostrar todos los elementos que contiene excepto el último. "
   ]
  },
  {
   "cell_type": "code",
   "execution_count": 58,
   "metadata": {
    "tags": []
   },
   "outputs": [
    {
     "output_type": "stream",
     "name": "stdout",
     "text": "15\nRecoletos\nTrue\nNone\n[15, 'Recoletos']\n"
    }
   ],
   "source": [
    "#your code here\n",
    "def lista_exc_ult(lista):\n",
    "    for elem in range(len(lista)-1):\n",
    "            print(str(lista[elem]))\n",
    "\n",
    "lista_exc_ult(lista_informacion)"
   ]
  },
  {
   "cell_type": "markdown",
   "metadata": {},
   "source": [
    "11. Recorrer `lista` para mostrar todos los elementos que contiene excepto el número de la calle y las horas que has dormido."
   ]
  },
  {
   "cell_type": "code",
   "execution_count": 59,
   "metadata": {
    "tags": []
   },
   "outputs": [
    {
     "output_type": "stream",
     "name": "stdout",
     "text": "Recoletos\nTrue\nNone\n[15, 'Recoletos']\n"
    }
   ],
   "source": [
    "#your code here\n",
    "def lista_exc_extremos(lista):\n",
    "    for elem in range(1,len(lista)-1):\n",
    "            print(str(lista[elem]))\n",
    "\n",
    "lista_exc_extremos(lista_informacion)"
   ]
  },
  {
   "cell_type": "markdown",
   "metadata": {},
   "source": [
    "12 . Recorrer `lista` para mostrar todos los elementos que contiene excepto el primer elemento de la lista que se encuentra en cuarta posición. "
   ]
  },
  {
   "cell_type": "code",
   "execution_count": 60,
   "metadata": {
    "tags": []
   },
   "outputs": [
    {
     "output_type": "stream",
     "name": "stdout",
     "text": "15\nRecoletos\nTrue\nNone\nRecoletos\n7\n"
    }
   ],
   "source": [
    "#your code here\n",
    "def lista_exc_prim5(lista):\n",
    "    for i, elem in enumerate(lista):\n",
    "        if i  == 4:\n",
    "            print(str(lista[i][1]))\n",
    "        else:\n",
    "            print(str(lista[i]))\n",
    "\n",
    "lista_exc_prim5(lista_informacion)\n",
    "        "
   ]
  },
  {
   "cell_type": "markdown",
   "metadata": {},
   "source": [
    "13. Recorrer `lista` para mostrar todos los elementos que contiene excepto el que contiene la información sobre si os gusta la montaña o la playa."
   ]
  },
  {
   "cell_type": "code",
   "execution_count": 61,
   "metadata": {
    "tags": []
   },
   "outputs": [
    {
     "output_type": "stream",
     "name": "stdout",
     "text": "15\nRecoletos\nNone\n[15, 'Recoletos']\n7\n"
    }
   ],
   "source": [
    "#your code here\n",
    "\n",
    "def lista_exc_lugar(lista):\n",
    "    for elem in range(len(lista)):\n",
    "        if    elem!=2:      \n",
    "                print(str(lista[elem]))\n",
    "\n",
    "\n",
    "lista_exc_lugar(lista_informacion)"
   ]
  },
  {
   "cell_type": "markdown",
   "metadata": {},
   "source": [
    "14. Recorrer `lista` para mostrar el último elemento."
   ]
  },
  {
   "cell_type": "code",
   "execution_count": 62,
   "metadata": {
    "tags": []
   },
   "outputs": [
    {
     "output_type": "stream",
     "name": "stdout",
     "text": "7\n"
    }
   ],
   "source": [
    "#your code here\n",
    "def lista_ultimo_elem(lista):\n",
    "    for elem in range(len(lista)):\n",
    "        if  elem==(len(lista)-1):\n",
    "                print(str(lista[elem]))\n",
    "\n",
    "lista_ultimo_elem(lista_informacion)"
   ]
  },
  {
   "cell_type": "markdown",
   "metadata": {},
   "source": [
    "15. Crear una variable llamada `zona` y darle el valor de **None**. Recorrer `lista` y actualizar `zona` a **True** si y solo si has dormido más de 7 horas, te gusta la playa y la suma de las horas que has dormido más el número de The Bridge es menor a 24. Para cualquier otro caso, `zona` será **False**. Retornar el valor de `zona`. Esta función se llamará `funcion_zona`."
   ]
  },
  {
   "cell_type": "code",
   "execution_count": 63,
   "metadata": {
    "tags": []
   },
   "outputs": [],
   "source": [
    "#your code here\n",
    "zona = None\n",
    "\n",
    "def funcion_zona(lista):\n",
    "    result=False\n",
    "    Playa = lista[2]\n",
    "    horas_sueno = int(lista[-1])\n",
    "    suma_horas = int(lista[0])+int(lista[-1])\n",
    "    if Playa and horas_sueno > 7 and suma_horas < 24:  \n",
    "        result = True\n",
    "    else:\n",
    "        result = False\n",
    "    return(result)\n",
    "\n",
    "zona = funcion_zona(lista_informacion)\n",
    "\n",
    "#print(zona)\n",
    "#print(type(zona))\n",
    "\n",
    "\n"
   ]
  },
  {
   "cell_type": "code",
   "execution_count": 65,
   "metadata": {
    "tags": []
   },
   "outputs": [
    {
     "output_type": "stream",
     "name": "stdout",
     "text": "False\n<class 'bool'>\n"
    }
   ],
   "source": [
    "zona = None\n",
    "\n",
    "def funcion_zona(lista):\n",
    "    result=False\n",
    "    result1 = False\n",
    "    result2 = False\n",
    "    result3 = False\n",
    "\n",
    "    for i in range(len(lista)):\n",
    "        if i == 0:\n",
    "            if (int(lista[i])+int(lista[-1])) <24:\n",
    "                result1 = True\n",
    "        if i==2 and lista[i]:\n",
    "            result2 = True\n",
    "        if i == (len(lista)-1) and int(lista[i]) >7:\n",
    "            result3 = True\n",
    "\n",
    "    if result1 and result2 and result3:\n",
    "        result = True\n",
    "    return(result)\n",
    "\n",
    "\n",
    "zona = funcion_zona(lista_informacion)\n",
    "\n",
    "print(zona)\n",
    "print(type(zona))"
   ]
  },
  {
   "cell_type": "markdown",
   "metadata": {},
   "source": [
    "16. Define una función llamada `funcion_comprobacion` que recibe solo un parámetro llamado `valor_zona` que cuando llames a la función será el valor que devuelve la función `funcion_zona`, y que devuelva el valor de `valor_zona` si es **True**."
   ]
  },
  {
   "cell_type": "code",
   "execution_count": 66,
   "metadata": {
    "tags": []
   },
   "outputs": [
    {
     "output_type": "stream",
     "name": "stdout",
     "text": "None\n"
    }
   ],
   "source": [
    "#your code here\n",
    "def funcion_comprobacion(valor_zona):\n",
    "\n",
    "    if valor_zona is True:\n",
    "        return(valor_zona)\n",
    "\n",
    "\n",
    "zona = funcion_zona(lista_informacion)\n",
    "x = funcion_comprobacion(zona)\n",
    "print(x)\n"
   ]
  },
  {
   "cell_type": "markdown",
   "metadata": {},
   "source": [
    "17. Define una función con el nombre que más te guste que utilice la función [enumerate](https://www.programiz.com/python-programming/methods/built-in/enumerate) con un bucle `for` utilizando la lista de alturas y la lista de alumnos creada en días anteriores. Las listas han de estar ordenadas para mostrar la altura acompañada del nombre del alumno al que pertenece. "
   ]
  },
  {
   "cell_type": "code",
   "execution_count": 67,
   "metadata": {
    "tags": []
   },
   "outputs": [
    {
     "output_type": "stream",
     "name": "stdout",
     "text": "[['Jalex', '1.8'], ['Tomas', '1.8'], ['David', '1.81'], ['Natalio', '1.73'], ['Monica', '1.73'], ['Roxanna', '1.75'], ['Filipa', '1.64'], ['Elsa', '1.89'], ['Cristina', '1.7'], ['Clara', '1.67'], ['Alba', '1.68'], ['Valeria', '1.6'], ['Jose Luis', '1.69'], ['Gabriel', '1.76'], ['Rochi', '1.6'], ['Jose Maria', '1.75']]\n"
    }
   ],
   "source": [
    "#your code here\n",
    "# lista_alumnos contiene por cada alumno de la clase una lista con [Nombre, Mesa, Edad, Estatura(mts)]\n",
    "\n",
    "lista_alumnos = [[\"Jalex\", 6, 47, 1.80], [\"Tomas\", 5, 31, 1.80], [\"David\", 6, 39, 1.81], [\"Natalio\", 2, 29, 1.73], [\"Monica\", 3, 47, 1.73], [\"Roxanna\", 4,24,1.75], [\"Filipa\", 5,34,1.64], [\"Elsa\", 4, 36, 1.89], [\"Cristina\", 3, 46, 1.70], [\"Clara\", 6, 29, 1.67], [\"Alba\", 3, 29, 1.68], [\"Valeria\",1, 40, 1.60], [\"Jose Luis\", 4, 47, 1.69], [\"Gabriel\", 1, 28, 1.76], [\"Rochi\", 2, 38, 1.60], [\"Jose Maria\", 5, 51, 1.75]]\n",
    "\n",
    "def lista_estatura (lista):\n",
    "    estaturas = []\n",
    "    for i,elem in enumerate(lista):\n",
    "        valor =[]\n",
    "        valor.append(str(lista[i][0]))\n",
    "        valor.append(str(lista[i][-1]))\n",
    "        estaturas.append(valor)\n",
    "    return(estaturas)\n",
    "\n",
    "\n",
    "height = lista_estatura(lista_alumnos)\n",
    "print(height)"
   ]
  },
  {
   "cell_type": "markdown",
   "metadata": {},
   "source": [
    "18. Hacer un programa que pregunte al usuario si le gusta la montaña y, si es que no, llame a la función `funcion_zona`. "
   ]
  },
  {
   "cell_type": "code",
   "execution_count": 68,
   "metadata": {},
   "outputs": [],
   "source": [
    "#your code here\n",
    "montana = str(input(\"Te gusta la montaña? (S/N): \"))\n",
    "if montana == \"N\":\n",
    "    x=funcion_zona(lista_informacion)"
   ]
  },
  {
   "cell_type": "markdown",
   "metadata": {},
   "source": [
    "19. Definir una función que guarde en una variable el valor de \"nada\" y lo devuelva por pantalla. Además concatenar su valor con el número de The Bridge y mostrarlo por pantalla. Además, mostrar por pantalla un booleano **True** si el tamaño de la palabra concatenada es 6. Sino, será **False**. La función debe retornar el valor **True** o **False**. El nombre de la función será `f_s`."
   ]
  },
  {
   "cell_type": "code",
   "execution_count": 69,
   "metadata": {
    "tags": []
   },
   "outputs": [
    {
     "output_type": "stream",
     "name": "stdout",
     "text": "nada15\n"
    },
    {
     "output_type": "execute_result",
     "data": {
      "text/plain": "True"
     },
     "metadata": {},
     "execution_count": 69
    }
   ],
   "source": [
    "#your code here\n",
    "def f_s (numTB):\n",
    "    result = \"nada\"\n",
    "    res2 = result + str(numTB)\n",
    "    booleano = False\n",
    "    print(res2)\n",
    "    if len(res2)==6:\n",
    "        booleano = True\n",
    "    return(booleano)\n",
    "\n",
    "f_s(\"15\")"
   ]
  },
  {
   "cell_type": "markdown",
   "metadata": {},
   "source": [
    "20. Crear una lista `lista_aux` con 7 elementos, los que queráis. Después, crear una función `funcion_usa_f_s` que reciba como parámetros `f_s` y `lista`.  Si el valor de `f_s` es **True**, entonces borrar un elemento de `lista`. Si `lista` tiene algún elemento, entonces repetir el proceso hasta que no tenga elementos. El argumento para `lista` ha de ser `lista_aux` y para `f_s` será la función `f_s` del punto anterior."
   ]
  },
  {
   "cell_type": "code",
   "execution_count": 70,
   "metadata": {
    "tags": []
   },
   "outputs": [
    {
     "output_type": "stream",
     "name": "stdout",
     "text": "nada15\n[]\n"
    }
   ],
   "source": [
    "#your code here\n",
    "lista_aux =[\"A\",\"B\",\"C\",\"D\",\"E\", \"F\",\"G\"]\n",
    "def funcion_usa_f_s (argf, arglista):\n",
    "    if argf:\n",
    "        while len(arglista)>0:\n",
    "            arglista.pop(-1)\n",
    "        print(arglista)\n",
    "\n",
    "funcion_usa_f_s (f_s(15), lista_aux)\n"
   ]
  },
  {
   "cell_type": "markdown",
   "metadata": {},
   "source": [
    "21. Definir una función `numeros_pares` que tenga un parámetro de entrada `arg1`, tipo integer. La función debe retornar una lista de números de tamaño `arg1` siendo todos ellos números pares, mostrando dicha lista por pantalla."
   ]
  },
  {
   "cell_type": "code",
   "execution_count": 71,
   "metadata": {
    "tags": []
   },
   "outputs": [
    {
     "output_type": "stream",
     "name": "stdout",
     "text": "[2, 4, 6, 8, 10, 12, 14]\n"
    }
   ],
   "source": [
    "#your code here\n",
    "def numeros_pares (arg1):\n",
    "    inicio = 0\n",
    "    lista_pares = []\n",
    "    for i  in range(arg1):\n",
    "        inicio +=2\n",
    "        lista_pares.append(inicio)\n",
    "    x= lista_pares\n",
    "    print(x)\n",
    "    return(x)\n",
    "\n",
    "pares = numeros_pares (7) \n"
   ]
  },
  {
   "cell_type": "markdown",
   "metadata": {},
   "source": [
    "22. Crear una función que tenga una variable de entrada `arg1`, que será la lista de números pares del apartado anterior, y que elimine elementos de la lista, uno a uno, si `arg1` tiene un tamaño divisible entre 2 y, si no lo tiene, añade, solo una vez, el valor de la función `f_s`."
   ]
  },
  {
   "cell_type": "code",
   "execution_count": 72,
   "metadata": {
    "tags": []
   },
   "outputs": [
    {
     "output_type": "stream",
     "name": "stdout",
     "text": "[2, 4, 6, 8]\nNone\n"
    }
   ],
   "source": [
    "#your code here\n",
    "def elim_pares_si (arg1):\n",
    "    if len(arg1) % 2 == 0:\n",
    "        for i in range(len(arg1)):\n",
    "            arg1.pop(-1)\n",
    "    else:\n",
    "        arg1.append(f_s(15))\n",
    "    #return(arg1)\n",
    "\n",
    "valor = 4\n",
    "lista_final= elim_pares_si (numeros_pares(valor)) \n",
    "print(lista_final)\n",
    "            "
   ]
  },
  {
   "cell_type": "markdown",
   "metadata": {},
   "source": [
    "## Ejercicio 3."
   ]
  },
  {
   "cell_type": "markdown",
   "metadata": {},
   "source": [
    "Para este ejercicio se utilizará la lista `lista_información`. Lista a la que deberás añadir las siguientes variables utilizando el método [append](https://www.w3schools.com/python/ref_list_append.asp):"
   ]
  },
  {
   "cell_type": "markdown",
   "metadata": {},
   "source": [
    "- Un booleano que sea True si utilizas gafas. False para lo contrario. \n",
    "- Un entero que represente tu edad. \n",
    "- Un float que represente el dinero que te has gastado en tu última compra.\n",
    "- Un string que represente el nombre de uno de tus tí@s. Si no tienes, el nombre de uno de tus herman@s. Si no tienes, alguno de tus abuel@s. Si no tienes, el nombre de tu mejor amigo. Y, si no tienes, el nombre de tu psicólog@.\n",
    "- Una lista que tenga como tamaño 5. Cada una de las posiciones debe representar los números que más te gusten en el rango [[0-100]] dividido entre 10. Es decir, si eliges el 11, el número sería el 1.1. Si eliges el 100, sería el 10.  "
   ]
  },
  {
   "cell_type": "code",
   "execution_count": 73,
   "metadata": {},
   "outputs": [],
   "source": [
    "#your code here\n",
    "gafas = True\n",
    "edad = 47\n",
    "ult_compra = 9.50\n",
    "tio = \"Juan\"\n",
    "num_fav = [2.2,1.1,3.0,3.1,2.9]\n",
    "\n",
    "lista_informacion.append(gafas)\n",
    "lista_informacion.append(edad)\n",
    "lista_informacion.append(ult_compra)\n",
    "lista_informacion.append(tio)\n",
    "lista_informacion.append(num_fav)\n"
   ]
  },
  {
   "cell_type": "markdown",
   "metadata": {},
   "source": [
    "Por último, han de eliminarse las variables `nada` y `lista_direccion` de dos formas:\n",
    "\n",
    "- `nada` con el método [remove](https://www.programiz.com/python-programming/methods/list/remove) de una lista. \n",
    "- `lista_direccion` con el método [pop](https://www.programiz.com/python-programming/methods/list/pop) con el que se puede eliminar el elemento de una lista dada una posición. "
   ]
  },
  {
   "cell_type": "code",
   "execution_count": 74,
   "metadata": {
    "tags": []
   },
   "outputs": [
    {
     "output_type": "stream",
     "name": "stdout",
     "text": "[15, 'Recoletos', True, None, [15, 'Recoletos'], '7', True, 47, 9.5, 'Juan', [2.2, 1.1, 3.0, 3.1, 2.9]]\n[15, 'Recoletos', True, '7', True, 47, 9.5, 'Juan', [2.2, 1.1, 3.0, 3.1, 2.9]]\n"
    }
   ],
   "source": [
    "#your code here\n",
    "print(lista_informacion)\n",
    "\n",
    "lista_informacion.remove(None)\n",
    "lista_informacion.pop(3)\n",
    "print(lista_informacion)"
   ]
  },
  {
   "cell_type": "markdown",
   "metadata": {},
   "source": [
    "## Ejercicio 4."
   ]
  },
  {
   "cell_type": "markdown",
   "metadata": {},
   "source": [
    "**Creación de funciones con return preparatorio.**"
   ]
  },
  {
   "cell_type": "markdown",
   "metadata": {},
   "source": [
    "A partir de ahora solo se utilizará la `lista_informacion` actualizada. La `lista_informacion` debe contener 9 elementos. \n",
    "\n"
   ]
  },
  {
   "cell_type": "code",
   "execution_count": 75,
   "metadata": {
    "tags": []
   },
   "outputs": [
    {
     "output_type": "stream",
     "name": "stdout",
     "text": "[15, 'Recoletos', True, '7', True, 47, 9.5, 'Juan', [2.2, 1.1, 3.0, 3.1, 2.9]]\n9\n"
    }
   ],
   "source": [
    "print(lista_informacion)\n",
    "print(len(lista_informacion))"
   ]
  },
  {
   "cell_type": "markdown",
   "metadata": {},
   "source": [
    "\n",
    "1. Función `nb` que reciba por parámetro `lista` y que retorne el número de The Bridge.\n",
    "\n"
   ]
  },
  {
   "cell_type": "code",
   "execution_count": 76,
   "metadata": {
    "tags": []
   },
   "outputs": [
    {
     "output_type": "stream",
     "name": "stdout",
     "text": "15\n"
    }
   ],
   "source": [
    "#your code here\n",
    "def nb (lista):\n",
    "    return(lista[0])\n",
    "\n",
    "numTB = nb(lista_informacion)\n",
    "print(numTB)"
   ]
  },
  {
   "cell_type": "markdown",
   "metadata": {},
   "source": [
    "2. Función `nc` que reciba por parámetro `lista` y que retorne el nombre de la calle de The Bridge.\n"
   ]
  },
  {
   "cell_type": "code",
   "execution_count": 77,
   "metadata": {
    "tags": []
   },
   "outputs": [
    {
     "output_type": "stream",
     "name": "stdout",
     "text": "Recoletos\n"
    }
   ],
   "source": [
    "#your code here\n",
    "def nc (lista):\n",
    "    return(lista[1])\n",
    "\n",
    "calleTB = nc(lista_informacion)\n",
    "print(calleTB)"
   ]
  },
  {
   "cell_type": "markdown",
   "metadata": {},
   "source": [
    "3. Función `gp` que reciba por parámetro `lista` y que retorne tu gusto personal.\n"
   ]
  },
  {
   "cell_type": "code",
   "execution_count": 78,
   "metadata": {
    "tags": []
   },
   "outputs": [
    {
     "output_type": "stream",
     "name": "stdout",
     "text": "True\n"
    }
   ],
   "source": [
    "#your code here\n",
    "def gp (lista):\n",
    "    return(lista[2])\n",
    "\n",
    "gustop = gp(lista_informacion)\n",
    "print(gustop)"
   ]
  },
  {
   "cell_type": "markdown",
   "metadata": {},
   "source": [
    "4. Función `hs` que reciba por parámetro `lista` y que retorne las horas de sueño.\n"
   ]
  },
  {
   "cell_type": "code",
   "execution_count": 79,
   "metadata": {
    "tags": []
   },
   "outputs": [
    {
     "output_type": "stream",
     "name": "stdout",
     "text": "7\n"
    }
   ],
   "source": [
    "#your code here\n",
    "def hs (lista):\n",
    "    return(lista[3])\n",
    "\n",
    "horass = hs(lista_informacion)\n",
    "print(horass)"
   ]
  },
  {
   "cell_type": "markdown",
   "metadata": {},
   "source": [
    "5. Función `ul` que reciba por parámetro `lista` y que retorne la última posicón de `lista`."
   ]
  },
  {
   "cell_type": "code",
   "execution_count": 80,
   "metadata": {
    "tags": []
   },
   "outputs": [
    {
     "output_type": "stream",
     "name": "stdout",
     "text": "[2.2, 1.1, 3.0, 3.1, 2.9]\n"
    }
   ],
   "source": [
    "#your code here\n",
    "def ul (lista):\n",
    "    return(lista[-1])\n",
    "\n",
    "ultim = ul(lista_informacion)\n",
    "print(ultim)"
   ]
  },
  {
   "cell_type": "markdown",
   "metadata": {},
   "source": [
    "A partir de este momento, si se requiere utilizar uno de estos valores, se accederá a ellos a partir de las funciones anteriormente creadas, no directamente desde la lista."
   ]
  },
  {
   "cell_type": "markdown",
   "metadata": {},
   "source": [
    "## Apartado 5. "
   ]
  },
  {
   "cell_type": "markdown",
   "metadata": {},
   "source": [
    "**Break en bucles for.**"
   ]
  },
  {
   "cell_type": "markdown",
   "metadata": {},
   "source": [
    "1. Función `string_mayor_5` que reciba por parámetro `lista` y que al llamarla recibirá como argumento`lista_informacion`. Se debe recorrer `lista` transformando cada elemento en string y, si el tamaño del string es mayor a 5, el bucle debe parar. La función ha de devolver el primer elemento con string mayor a 5."
   ]
  },
  {
   "cell_type": "code",
   "execution_count": 81,
   "metadata": {
    "tags": []
   },
   "outputs": [
    {
     "output_type": "stream",
     "name": "stdout",
     "text": "[15, 'Recoletos', True, '7', True, 47, 9.5, 'Juan', [2.2, 1.1, 3.0, 3.1, 2.9]]\nRecoletos\n"
    }
   ],
   "source": [
    "#your code here\n",
    "def string_mayor_5 (lista):\n",
    "    for elem in lista:\n",
    "        elem = str(elem)\n",
    "        if len (elem) >5:\n",
    "            return(elem)\n",
    "            break\n",
    "\n",
    "print(lista_informacion)\n",
    "result = string_mayor_5 (lista_informacion)\n",
    "print(result)"
   ]
  },
  {
   "cell_type": "markdown",
   "metadata": {},
   "source": [
    "2. Función `lista_consecutivos` que recibe por parámetro `limite`. Debe retornar una lista con números que empiece en el 0 y acabe en el número `limite`. Al llamar a la función `limite` será 18. "
   ]
  },
  {
   "cell_type": "code",
   "execution_count": 82,
   "metadata": {
    "tags": []
   },
   "outputs": [
    {
     "output_type": "stream",
     "name": "stdout",
     "text": "[0, 1, 2, 3, 4, 5, 6, 7, 8, 9, 10, 11, 12, 13, 14, 15, 16, 17, 18]\n"
    }
   ],
   "source": [
    "#your code here\n",
    "def lista_consecutivos (limite):\n",
    "    lista = []\n",
    "    for i in range(limite+1):\n",
    "        lista.append(i)\n",
    "    return(lista)\n",
    "\n",
    "consec = lista_consecutivos(18)\n",
    "print(consec)"
   ]
  },
  {
   "cell_type": "markdown",
   "metadata": {},
   "source": [
    "3. Define la función posicion_15 que recibe dos parámetros, funcion_lista_consecutivos y lista. Esta función deberá devolver el elemento de la posición 15 de la lista que retorna la función lista_consecutivos.\n",
    "Dentro de esta función posicion_15, es donde habrá que llamar a funcion_lista_consecutivos dándole como argumento el tamaño de lista multiplicado por 2.\n",
    "\n",
    "#Ejemplo:\n",
    "x = posicion_15(funcion_lista_consecutivos=lista_consecutivos, lista=lista_informacion)\n",
    "\n"
   ]
  },
  {
   "cell_type": "code",
   "execution_count": 90,
   "metadata": {
    "tags": []
   },
   "outputs": [
    {
     "output_type": "stream",
     "name": "stdout",
     "text": "15\n"
    }
   ],
   "source": [
    "#your code here\n",
    "def posicion_15 ( funcion_lista_consecutivos, lista):\n",
    "\n",
    "    longi = len(lista) *2\n",
    "    val15 = lista_consecutivos(longi)[15]\n",
    "    return (val15)\n",
    " \n",
    "x = posicion_15( funcion_lista_consecutivos=lista_consecutivos, lista=lista_informacion)\n",
    "print(x)\n"
   ]
  },
  {
   "cell_type": "markdown",
   "metadata": {},
   "source": [
    "## Ejercicio 6. "
   ]
  },
  {
   "cell_type": "markdown",
   "metadata": {},
   "source": [
    "**Bucle while.**"
   ]
  },
  {
   "cell_type": "markdown",
   "metadata": {},
   "source": [
    "1. Crear una función que reciba por parámetro `lista` y que muestre todos los elementos que tiene usando un bucle `while`. Llamar a la función con el argumento `lista_informacion`."
   ]
  },
  {
   "cell_type": "code",
   "execution_count": 47,
   "metadata": {
    "tags": []
   },
   "outputs": [
    {
     "output_type": "stream",
     "name": "stdout",
     "text": "15\nRecoletos\nTrue\n7\nTrue\n47\n9.5\nJuan\n[2.2, 1.1, 3.0, 3.1, 2.9]\n"
    }
   ],
   "source": [
    "#your code here\n",
    "def mostrar_elem (lista):\n",
    "    tam = len (lista)\n",
    "    cont = 0\n",
    "    while cont< tam:\n",
    "        print(lista[cont])\n",
    "        cont+=1\n",
    "\n",
    "mostrar_elem(lista_informacion)"
   ]
  },
  {
   "cell_type": "markdown",
   "metadata": {},
   "source": [
    "2. Realizar todos los apartados del **ejercicio 2** cuyo enunciado aparece la palabra *'recorrer'* con bucle `while` en vez de bucle `for`."
   ]
  },
  {
   "cell_type": "markdown",
   "metadata": {},
   "source": [
    "Recorrer lista para mostrar todos los elementos que contiene."
   ]
  },
  {
   "cell_type": "code",
   "execution_count": 48,
   "metadata": {
    "tags": []
   },
   "outputs": [
    {
     "output_type": "stream",
     "name": "stdout",
     "text": "15\nRecoletos\nTrue\n7\nTrue\n47\n9.5\nJuan\n[2.2, 1.1, 3.0, 3.1, 2.9]\n"
    }
   ],
   "source": [
    "def recorrew (lista):\n",
    "    cont = 0\n",
    "    tam_lista = len (lista)\n",
    "\n",
    "    while cont < tam_lista:\n",
    "        print(lista[cont])\n",
    "        cont+=1\n",
    "\n",
    "recorrew (lista_informacion)\n"
   ]
  },
  {
   "cell_type": "markdown",
   "metadata": {},
   "source": [
    "Recorrer lista para mostrar todos los elementos que contiene concatenados con el string \"--> OK\""
   ]
  },
  {
   "cell_type": "code",
   "execution_count": 49,
   "metadata": {
    "tags": []
   },
   "outputs": [
    {
     "output_type": "stream",
     "name": "stdout",
     "text": "15--> OK\nRecoletos--> OK\nTrue--> OK\n7--> OK\nTrue--> OK\n47--> OK\n9.5--> OK\nJuan--> OK\n[2.2, 1.1, 3.0, 3.1, 2.9]--> OK\n"
    }
   ],
   "source": [
    "def recorrew_OK (lista):\n",
    "    cont = 0\n",
    "    tam_lista = len (lista)\n",
    "\n",
    "    while cont < tam_lista:\n",
    "        print(str(lista[cont]) + \"--> OK\")\n",
    "        cont+=1\n",
    "\n",
    "recorrew_OK (lista_informacion)"
   ]
  },
  {
   "cell_type": "markdown",
   "metadata": {},
   "source": [
    "Recorrer lista para mostrar todos los elementos que contiene excepto el primero."
   ]
  },
  {
   "cell_type": "code",
   "execution_count": 50,
   "metadata": {
    "tags": []
   },
   "outputs": [
    {
     "output_type": "stream",
     "name": "stdout",
     "text": "Recoletos\nTrue\n7\nTrue\n47\n9.5\nJuan\n[2.2, 1.1, 3.0, 3.1, 2.9]\n"
    }
   ],
   "source": [
    "def recorrew_menosprim (lista):\n",
    "    cont = 1\n",
    "    tam_lista = len (lista)\n",
    "\n",
    "    while cont < tam_lista:\n",
    "        print(lista[cont])\n",
    "        cont+=1\n",
    "\n",
    "recorrew_menosprim(lista_informacion)"
   ]
  },
  {
   "cell_type": "markdown",
   "metadata": {},
   "source": [
    "Recorrer lista para mostrar todos los elementos que contiene excepto el último."
   ]
  },
  {
   "cell_type": "code",
   "execution_count": 51,
   "metadata": {
    "tags": []
   },
   "outputs": [
    {
     "output_type": "stream",
     "name": "stdout",
     "text": "15\nRecoletos\nTrue\n7\nTrue\n47\n9.5\nJuan\n"
    }
   ],
   "source": [
    "def recorrew_menosult(lista):\n",
    "    cont = 0\n",
    "    tam_lista = len (lista)\n",
    "\n",
    "    while cont < tam_lista -1:\n",
    "        print(lista[cont])\n",
    "        cont+=1\n",
    "\n",
    "recorrew_menosult(lista_informacion)"
   ]
  },
  {
   "cell_type": "markdown",
   "metadata": {},
   "source": [
    "Recorrer lista para mostrar todos los elementos que contiene excepto el número de la calle y las horas que has dormido.\n"
   ]
  },
  {
   "cell_type": "code",
   "execution_count": 52,
   "metadata": {
    "tags": []
   },
   "outputs": [
    {
     "output_type": "stream",
     "name": "stdout",
     "text": "Recoletos\nTrue\nTrue\n47\n9.5\nJuan\n[2.2, 1.1, 3.0, 3.1, 2.9]\n"
    }
   ],
   "source": [
    "def recorrew_menosalgo (lista):\n",
    "    cont = 0\n",
    "    tam_lista = len (lista)\n",
    "\n",
    "    while cont < tam_lista:\n",
    "        if cont not in (0,3):\n",
    "            print(lista[cont])\n",
    "        cont+=1\n",
    "\n",
    "recorrew_menosalgo(lista_informacion)"
   ]
  },
  {
   "cell_type": "markdown",
   "metadata": {},
   "source": [
    "\n",
    "\n",
    "Recorrer lista para mostrar todos los elementos que contiene excepto el primer elemento de la lista que se encuentra en cuarta posición.\n"
   ]
  },
  {
   "cell_type": "code",
   "execution_count": 53,
   "metadata": {},
   "outputs": [],
   "source": [
    "#No hay lista en cuarta posicion"
   ]
  },
  {
   "cell_type": "markdown",
   "metadata": {},
   "source": [
    "\n",
    "Recorrer lista para mostrar todos los elementos que contiene excepto el que contiene la información sobre si os gusta la montaña o la playa.\n"
   ]
  },
  {
   "cell_type": "code",
   "execution_count": 54,
   "metadata": {
    "tags": []
   },
   "outputs": [
    {
     "output_type": "stream",
     "name": "stdout",
     "text": "15\nRecoletos\n7\nTrue\n47\n9.5\nJuan\n[2.2, 1.1, 3.0, 3.1, 2.9]\n"
    }
   ],
   "source": [
    "def recorrew_menosgp (lista):\n",
    "    cont = 0\n",
    "    tam_lista = len (lista)\n",
    "\n",
    "    while cont < tam_lista:\n",
    "        if cont != 2:\n",
    "            print(lista[cont])\n",
    "        cont+=1\n",
    "\n",
    "recorrew_menosgp(lista_informacion)"
   ]
  },
  {
   "cell_type": "markdown",
   "metadata": {},
   "source": [
    "\n",
    "Recorrer lista para mostrar el último elemento."
   ]
  },
  {
   "cell_type": "code",
   "execution_count": 55,
   "metadata": {
    "tags": []
   },
   "outputs": [
    {
     "output_type": "stream",
     "name": "stdout",
     "text": "[2.2, 1.1, 3.0, 3.1, 2.9]\n"
    }
   ],
   "source": [
    "#your code here\n",
    "def recorrew_ultimo (lista):\n",
    "    cont = 0\n",
    "    tam_lista = len (lista)\n",
    "\n",
    "    while cont < tam_lista:\n",
    "        if cont == tam_lista -1:\n",
    "            print(lista[cont])\n",
    "        cont+=1\n",
    "\n",
    "recorrew_ultimo(lista_informacion)"
   ]
  },
  {
   "cell_type": "markdown",
   "metadata": {},
   "source": [
    "4. Realizar una función que realice la [serie de Fibonacci](https://quantdare.com/numeros-de-fibonacci/#:~:text=En%20matem%C3%A1ticas%2C%20la%20sucesi%C3%B3n%20o,nombre%20de%20n%C3%BAmero%20de%20Fibonacci.) con un `while`."
   ]
  },
  {
   "cell_type": "code",
   "execution_count": 56,
   "metadata": {
    "tags": []
   },
   "outputs": [
    {
     "output_type": "stream",
     "name": "stdout",
     "text": "[0, 1, 1, 2, 3, 5, 8, 13, 21, 34]\n"
    }
   ],
   "source": [
    "#your code here\n",
    "def serie_Fibo (arg1):\n",
    "    x0 = 0\n",
    "    x1 = 1\n",
    "    cont = 0\n",
    "    lista_fibo = [x0,x1]\n",
    "\n",
    "    while  len(lista_fibo)  < arg1:\n",
    "        xnew = x1+x0\n",
    "        lista_fibo.append(xnew)\n",
    "        x0= x1\n",
    "        x1 = xnew \n",
    "        cont +=1\n",
    "\n",
    "    return (lista_fibo)\n",
    "\n",
    "Fibo  = serie_Fibo (10)\n",
    "print(Fibo)\n",
    "\n",
    "\n",
    "\n",
    "\n",
    "\n"
   ]
  },
  {
   "cell_type": "markdown",
   "metadata": {},
   "source": [
    "## Ejercicio 7. "
   ]
  },
  {
   "cell_type": "markdown",
   "metadata": {},
   "source": [
    "**Importación de módulos.**"
   ]
  },
  {
   "cell_type": "markdown",
   "metadata": {},
   "source": [
    "Un módulo representa un fichero de extensión `.py` que contiene código python. Importando un módulo, podemos acceder a todas las variables, funciones y clases no privadas que contiene. \n",
    "\n",
    "En la propia carpeta del día de hoy, hay un fichero llamado `nombre_modulo.py`. Vamos a importarlo y usar alguna de sus variables y funciones. "
   ]
  },
  {
   "cell_type": "markdown",
   "metadata": {},
   "source": [
    "Al igual que con los demás objetos, una vez que se ha importado el módulo no hace falta importarlo más veces. "
   ]
  },
  {
   "cell_type": "code",
   "execution_count": 57,
   "metadata": {},
   "outputs": [],
   "source": [
    "#your code here\n",
    "import nombre_modulo"
   ]
  },
  {
   "cell_type": "markdown",
   "metadata": {},
   "source": [
    "## Ejercicio 8. "
   ]
  },
  {
   "cell_type": "markdown",
   "metadata": {},
   "source": [
    "**Nivel pro.**"
   ]
  },
  {
   "cell_type": "markdown",
   "metadata": {},
   "source": [
    "Para cada uno de los siguientes puntos crear un archivo `.py` que se ejecutará a través de la terminal. Estando en la carpeta que contiene el `.py`correspondiente, se ejecutará con el siguiente comando: `python3 nombre_del_programa.py`"
   ]
  },
  {
   "cell_type": "markdown",
   "metadata": {},
   "source": [
    "1. Programa **una calculadora** que pregunte por pantalla dos números y dos operadores. Se debe realizar primero una operación y luego otra. Trata de definir el mayor número de funciones posibles. "
   ]
  },
  {
   "cell_type": "code",
   "execution_count": 2,
   "metadata": {
    "tags": []
   },
   "outputs": [
    {
     "output_type": "stream",
     "name": "stdout",
     "text": "Multiplicacion =60.0\nDivisión =6.666666666666667\n"
    }
   ],
   "source": [
    "#your code here\n",
    "\n",
    "num1 = float(input(\"Introduce el primer número: \"))\n",
    "num2 = float(input(\"Introduce el segundo número: \"))\n",
    "op1 = input(\"Introduce el primer operador: (+,-,*,/,^) \")\n",
    "op2 = input (\"Introduce el segundo operador: (+,-,*,/,^) \")\n",
    "\n",
    "diccop = {\"+\": \"Suma = \", \"-\": \"Resta = \", \"*\": \"Multiplicacion =\" , \"/\": \"División =\", \"^\": \"Potencia =\"}\n",
    "\n",
    "if op1 not in diccop.keys() or op2 not in diccop.keys() :\n",
    "    print(\"Debe indicar operadores válidos.\")\n",
    "\n",
    "\n",
    "def suma_calcMV (arg1, arg2):\n",
    "    return (arg1 + arg2)\n",
    "\n",
    "def resta_calcMV (arg1, arg2):\n",
    "      return (arg1 - arg2)\n",
    "\n",
    "def mult_calcMV (arg1, arg2):\n",
    "    return (arg1 * arg2)\n",
    "\n",
    "def div_calcMV (arg1, arg2):\n",
    "      return (arg1 / arg2)\n",
    "\n",
    "def pot_calcMV (arg1, arg2):\n",
    "      return (arg1 ** arg2)\n",
    "\n",
    "def operacion (arg1, arg2, op):\n",
    "    result1 =0\n",
    "    if op ==\"+\":\n",
    "        result1 = suma_calcMV(arg1,arg2)\n",
    "    elif op == \"-\":\n",
    "        result1 = resta_calcMV(arg1,arg2)\n",
    "    elif op == \"*\":\n",
    "        result1 = mult_calcMV(arg1,arg2)\n",
    "    elif op == \"/\":\n",
    "        result1 = div_calcMV(arg1,arg2)\n",
    "    elif op == \"^\":\n",
    "        result1 = pot_calcMV(arg1,arg2)\n",
    "\n",
    "    return(result1)\n",
    "\n",
    "res1 = operacion (num1,num2,op1)\n",
    "print(diccop[op1] + str(res1))\n",
    "\n",
    "res2 = operacion (num1,num2,op2)\n",
    "print(diccop[op2] + str(res2))\n"
   ]
  },
  {
   "cell_type": "markdown",
   "metadata": {},
   "source": [
    "2. Programa, definiendo funciones, el juego **piedra, papel o tijera**. "
   ]
  },
  {
   "cell_type": "code",
   "execution_count": 39,
   "metadata": {
    "tags": []
   },
   "outputs": [
    {
     "output_type": "stream",
     "name": "stdout",
     "text": "Piedra vs. Papel\nGana Jugador 2  PAPEL\n"
    }
   ],
   "source": [
    "#your code here\n",
    "\n",
    "jug1 = int(input(\"Selecciona opción Jugador1: (1 = Piedra, 2 = Papel, 3 = Tijera: \" ))\n",
    "jug2 = int(input(\"Selecciona opción Jugador2: (1 = Piedra, 2 = Papel, 3 = Tijera: \" ))\n",
    "\n",
    "dicc_jugada = {1:\"Piedra\", 2: \"Papel\", 3: \"Tijera\"}\n",
    "\n",
    "def ganador (jug1, jug2):\n",
    "    result = \"\"\n",
    "    opc_gana = 0\n",
    "\n",
    "    if jug1 == jug2:\n",
    "        result = \"Empate\"\n",
    "    elif jug1==1:       #Piedra\n",
    "        if jug2 ==3:        #Tijera\n",
    "            opc_gana = jug1\n",
    "        else:               #Papel\n",
    "            opc_gana = jug2\n",
    "    elif jug1 ==2:      #Papel\n",
    "        if jug2 == 3:       #Tijera\n",
    "            opc_gana = jug2\n",
    "        else:               #Piedra\n",
    "            opc_gana = jug1\n",
    "    else:               #Tijera\n",
    "        if jug2==2:         #Papel\n",
    "            opc_gana = jug1\n",
    "        else:               #Piedra\n",
    "            opc_gana = jug2\n",
    "\n",
    "    print (dicc_jugada[jug1] + \" vs. \" + dicc_jugada[jug2])\n",
    "    result = \"Gana Jugador \"+ str(opc_gana) + \"  \" + dicc_jugada[opc_gana].upper()\n",
    "    return (result)\n",
    "\n",
    "gana = ganador(jug1,jug2)\n",
    "print(gana)\n"
   ]
  },
  {
   "cell_type": "markdown",
   "metadata": {},
   "source": [
    "3. Haz un programa que, a partir de las strings `\"|\"` y `\"_\"`, muestre por pantalla un **tablero de ajedrez** 8x8. "
   ]
  },
  {
   "cell_type": "code",
   "execution_count": 10,
   "metadata": {
    "tags": []
   },
   "outputs": [
    {
     "output_type": "stream",
     "name": "stdout",
     "text": "|_|︎︎🀫|_|︎︎🀫|_|︎︎🀫|_|︎︎🀫|\n|︎︎🀫|_|︎︎🀫|_|︎︎🀫|_|︎︎🀫|_|\n|_|︎︎🀫|_|︎︎🀫|_|︎︎🀫|_|︎︎🀫|\n|︎︎🀫|_|︎︎🀫|_|︎︎🀫|_|︎︎🀫|_|\n|_|︎︎🀫|_|︎︎🀫|_|︎︎🀫|_|︎︎🀫|\n|︎︎🀫|_|︎︎🀫|_|︎︎🀫|_|︎︎🀫|_|\n|_|︎︎🀫|_|︎︎🀫|_|︎︎🀫|_|︎︎🀫|\n|︎︎🀫|_|︎︎🀫|_|︎︎🀫|_|︎︎🀫|_|\n"
    }
   ],
   "source": [
    "#your code here\n",
    "def espar(num):\n",
    "    if num % 2 == 0:\n",
    "        return (True)\n",
    "    else:\n",
    "        return (False)\n",
    "\n",
    "\n",
    "def tablero (arg1,arg2, negra, tam):\n",
    "    for y in range (tam//2):\n",
    "        filapar =\"\"\n",
    "        filaimpar = \"\"\n",
    "        tam = int(tam)\n",
    "        for i in range(tam):\n",
    "            if espar(i):\n",
    "                filapar = filapar + arg1 + arg2 + arg1 + negra\n",
    "            else:\n",
    "                filaimpar = filaimpar + arg1 + negra + arg1 + arg2 \n",
    "        print(filapar + arg1)\n",
    "        print(filaimpar + arg1)\n",
    "\n",
    "\n",
    "tablero (\"|\",\"_\", \"︎︎🀫\", 8) \n",
    "\n",
    "\n"
   ]
  },
  {
   "cell_type": "markdown",
   "metadata": {},
   "source": [
    "4. Haz un programa utilizando `while` que genere una **baraja de cartas** de 4 palos distintos. La baraja ha de tener 40 cartas. "
   ]
  },
  {
   "cell_type": "code",
   "execution_count": 129,
   "metadata": {
    "tags": []
   },
   "outputs": [
    {
     "output_type": "stream",
     "name": "stdout",
     "text": "[['As Oro', '2 Oro', '3 Oro', '4 Oro', '5 Oro', '6 Oro', '7 Oro', 'Sota Oro', 'Caballo Oro', 'Rey Oro'], ['As Copas', '2 Copas', '3 Copas', '4 Copas', '5 Copas', '6 Copas', '7 Copas', 'Sota Copas', 'Caballo Copas', 'Rey Copas'], ['As Espadas', '2 Espadas', '3 Espadas', '4 Espadas', '5 Espadas', '6 Espadas', '7 Espadas', 'Sota Espadas', 'Caballo Espadas', 'Rey Espadas'], ['As Bastos', '2 Bastos', '3 Bastos', '4 Bastos', '5 Bastos', '6 Bastos', '7 Bastos', 'Sota Bastos', 'Caballo Bastos', 'Rey Bastos']]\n4\n"
    }
   ],
   "source": [
    "#your code here\n",
    "\n",
    "nombrecartas = [\"As\", \"2\", \"3\", \"4\", \"5\",\"6\",\"7\", \"Sota\", \"Caballo\", \"Rey\"]\n",
    "\n",
    "def Palo (NomPalo):\n",
    "    cant = 0\n",
    "    cartasPalo = []\n",
    "    while cant < 10:\n",
    "        cartasPalo.append(nombrecartas[cant] + \" \" + NomPalo)\n",
    "        cant +=1\n",
    "    return cartasPalo\n",
    "\n",
    "def Baraja (Palo1, Palo2, Palo3, Palo4):\n",
    "    BarajaCartas = []\n",
    "    BarajaCartas.append(Palo(Palo1))\n",
    "    BarajaCartas.append(Palo(Palo2))\n",
    "    BarajaCartas.append(Palo(Palo3))\n",
    "    BarajaCartas.append(Palo(Palo4))\n",
    "\n",
    "    return (BarajaCartas)\n",
    "\n",
    "Mazo = Baraja(\"Oro\",\"Copas\",\"Espadas\",\"Bastos\")\n",
    "print (Mazo)\n",
    "\n",
    "print(len(Mazo))\n"
   ]
  },
  {
   "cell_type": "markdown",
   "metadata": {},
   "source": [
    "## Si has llegado hasta aquí, you are a **champion**"
   ]
  },
  {
   "cell_type": "markdown",
   "metadata": {},
   "source": [
    "![yay](https://media.giphy.com/media/l522kgooW2Qo9xtK5Z/giphy.gif)"
   ]
  },
  {
   "cell_type": "code",
   "execution_count": null,
   "metadata": {},
   "outputs": [],
   "source": []
  }
 ],
 "metadata": {
  "file_extension": ".py",
  "kernelspec": {
   "display_name": "Python 3",
   "language": "python",
   "name": "python3"
  },
  "language_info": {
   "codemirror_mode": {
    "name": "ipython",
    "version": 3
   },
   "file_extension": ".py",
   "mimetype": "text/x-python",
   "name": "python",
   "nbconvert_exporter": "python",
   "pygments_lexer": "ipython3",
   "version": "3.7.6-final"
  },
  "mimetype": "text/x-python",
  "name": "python",
  "npconvert_exporter": "python",
  "pygments_lexer": "ipython3",
  "version": 3
 },
 "nbformat": 4,
 "nbformat_minor": 4
}