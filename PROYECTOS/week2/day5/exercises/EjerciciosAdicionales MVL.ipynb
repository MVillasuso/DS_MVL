{
 "cells": [
  {
   "cell_type": "markdown",
   "metadata": {},
   "source": [
    "# Ejercicios www.practicepython.org\n",
    "\n",
    "Ejercicios recomendados para practicar lo aprendido en Python"
   ]
  },
  {
   "cell_type": "code",
   "execution_count": 4,
   "metadata": {},
   "outputs": [],
   "source": [
    "# Librerias con funciones utilizadas en los ejercicios\n",
    "import random\n",
    "import string"
   ]
  },
  {
   "cell_type": "markdown",
   "metadata": {},
   "source": [
    "## Ejercicio 1.\n",
    "\n",
    " ### Character Input\n",
    "input strings types int\n",
    "\n",
    "Calibrating the exercises to the audience is going to be a challenging task, so I ask you to bear with me if the exercises are too easy or too hard. Every week there will be a poll you can click on to discuss whether the exercise is too easy or too hard and hopefully in a few weeks, I’ll get the level right. Let’s get to it! I will start with the exercise and include a discussion later, in case you want the extra challenge.\n",
    "Exercise 1 (and Solution)\n",
    "\n",
    "Create a program that asks the user to enter their name and their age. Print out a message addressed to them that tells them the year that they will turn 100 years old.\n",
    "\n",
    "Extras:\n",
    "\n",
    "    Add on to the previous program by asking the user for another number and printing out that many copies of the previous message. (Hint: order of operations exists in Python)\n",
    "    Print out that many copies of the previous message on separate lines. (Hint: the string \"\\n is the same as pressing the ENTER button)\n"
   ]
  },
  {
   "cell_type": "code",
   "execution_count": 4,
   "metadata": {
    "tags": []
   },
   "outputs": [
    {
     "output_type": "stream",
     "name": "stdout",
     "text": "MONICA  cumplirá  100  años en  2073 \n\nMONICA  cumplirá  100  años en  2073 \n\nMONICA  cumplirá  100  años en  2073 \n\nMONICA  cumplirá  100  años en  2073 \n\nMONICA  cumplirá  100  años en  2073 \n\n"
    }
   ],
   "source": [
    "def cumples (edad_actual, edad_ref, anio_actual):\n",
    "        x = anio_actual + (edad_ref-edad_actual) \n",
    "        return x\n",
    "\n",
    "nombre = input (\"Cual es tu nombre?:\")\n",
    "edad =  int (input (\"Indica tu edad (en años): \"))\n",
    "veces = int(input(\"Indica un número: \"))\n",
    "\n",
    "ref = 100\n",
    "anio = 2020\n",
    "\n",
    "resp = cumples (edad,ref,anio)\n",
    "\n",
    "for i in range(veces):\n",
    "        print(nombre , \" cumplirá \", str(ref), \" años en \", str(resp), \"\\n\")\n"
   ]
  },
  {
   "cell_type": "code",
   "execution_count": null,
   "metadata": {},
   "outputs": [],
   "source": []
  },
  {
   "cell_type": "markdown",
   "metadata": {},
   "source": [
    " ## Ejercicio 2\n",
    " ### Odd Or Even\n",
    "input if types int equality comparison numbers mod\n",
    "\n",
    "Again, the exercise comes first (with a few extras if you want the extra challenge or want to spend more time), followed by a discussion. Enjoy!\n",
    "Exercise 2 (and Solution)\n",
    "\n",
    "Ask the user for a number. Depending on whether the number is even or odd, print out an appropriate message to the user. Hint: how does an even / odd number react differently when divided by 2?\n",
    "\n",
    "Extras:\n",
    "\n",
    "    If the number is a multiple of 4, print out a different message.\n",
    "    Ask the user for two numbers: one number to check (call it num) and one number to divide by (check). If check divides evenly into num, tell that to the user. If not, print a different appropriate message.\n",
    "\n"
   ]
  },
  {
   "cell_type": "code",
   "execution_count": 17,
   "metadata": {
    "tags": []
   },
   "outputs": [
    {
     "output_type": "stream",
     "name": "stdout",
     "text": "21 is Odd\n21 is not a multiple of 4\n21 can not be divided by 6\n"
    }
   ],
   "source": [
    "num1 = int(input (\"Introduce un número: \"))\n",
    "num2 = int(input (\" Validar si es divisible entre : \"))\n",
    "\n",
    "def espar (n):\n",
    "    if n % 2 == 0:\n",
    "        return \" is Even \"\n",
    "    else:\n",
    "        return \" is Odd\"\n",
    "\n",
    "def mult4 (n):\n",
    "    if n % 4 == 0:\n",
    "        return  \" is a multiple of 4 \"\n",
    "    else:\n",
    "        return  \" is not a multiple of 4\"\n",
    "\n",
    "def esdiv (n1, n2):\n",
    "    if n1 % n2 == 0:\n",
    "        return  \" can be divided by \"\n",
    "    else:\n",
    "        return  \" can not be divided by \"\n",
    "    \n",
    "res_par = str(num1) + espar(num1)\n",
    "res_m4 = str(num1) + mult4(num1)\n",
    "res_div = str (num1) + esdiv(num1, num2) + str(num2)\n",
    "print (res_par)\n",
    "print (res_m4)\n",
    "print (res_div)"
   ]
  },
  {
   "cell_type": "markdown",
   "metadata": {},
   "source": [
    "## Ejercicio 7\n",
    "### List Comprehensions\n",
    "\n",
    "\n",
    "Let’s say I give you a list saved in a variable: a = [1, 4, 9, 16, 25, 36, 49, 64, 81, 100]. Write one line of Python that takes this list a and makes a new list that has only the even elements of this list in it.\n",
    " "
   ]
  },
  {
   "cell_type": "code",
   "execution_count": 18,
   "metadata": {
    "tags": []
   },
   "outputs": [
    {
     "output_type": "stream",
     "name": "stdout",
     "text": "[4, 16, 36, 64, 100]\n"
    }
   ],
   "source": [
    "a = [1, 4, 9, 16, 25, 36, 49, 64, 81, 100]\n",
    "\n",
    "number_list = [ elem for elem in a if int(elem) % 2 == 0]\n",
    "print(number_list)"
   ]
  },
  {
   "cell_type": "markdown",
   "metadata": {},
   "source": [
    "## Ejercicio 14 \n",
    "\n",
    "### List Remove Duplicates\n",
    "\n",
    "Write a program (function!) that takes a list and returns a new list that contains all the elements of the first list minus all the duplicates.\n",
    "\n",
    "Extras:\n",
    "\n",
    "    Write two different functions to do this - one using a loop and constructing a list, and another using sets.\n",
    "    Go back and do Exercise 5 using sets, and write the solution for that in a different function.\n"
   ]
  },
  {
   "cell_type": "code",
   "execution_count": 46,
   "metadata": {
    "tags": []
   },
   "outputs": [
    {
     "output_type": "stream",
     "name": "stdout",
     "text": "[False, 'A', 1, 200, 'B', 'D', 88]\n['A', 'B', 1, 'D', 200, 88, False]\n"
    }
   ],
   "source": [
    "lista = [\"A\", \"B\" , 1 , \"D\" , 200, 88, False, False, \"A\"]\n",
    "\n",
    "# Ejercicio utilizando set\n",
    "def elimdup1(l):\n",
    "    l2 = set(l)\n",
    "    l2 = list(l2)\n",
    "    return l2\n",
    "\n",
    "res1 = elimdup1(lista)\n",
    "print(res1)\n",
    "\n",
    "# Ejercicio utilizando un loop\n",
    "def elimdup2 (l, l2):\n",
    "    l2=[]\n",
    "    for elem in l:\n",
    "        if elem not in l2:\n",
    "            l2.append(elem)\n",
    "    return l2\n",
    "\n",
    "l2 = elimdup2 (lista, l2)\n",
    "print(l2)"
   ]
  },
  {
   "cell_type": "markdown",
   "metadata": {},
   "source": [
    "## Ejercicio 16\n",
    "###  Password Generator\n",
    "\n",
    "\n",
    "Write a password generator in Python. Be creative with how you generate passwords - strong passwords have a mix of lowercase letters, uppercase letters, numbers, and symbols. The passwords should be random, generating a new password every time the user asks for a new password. Include your run-time code in a main method.\n",
    "\n",
    "Extra:\n",
    "\n",
    "    Ask the user how strong they want their password to be. For weak passwords, pick a word or two from a list.\n",
    "\n"
   ]
  },
  {
   "cell_type": "code",
   "execution_count": 8,
   "metadata": {
    "tags": []
   },
   "outputs": [
    {
     "output_type": "stream",
     "name": "stdout",
     "text": "Su password de  10  caracteres es :  y*{qQD4%tZ\n"
    }
   ],
   "source": [
    "# Crea una lista de los caracteres válidos a utilizar \n",
    "# eliminando los últimos 6 valores que retorna string.printable pues son compuestos\n",
    "\n",
    "caracteres = list(string.printable[0:len(string.printable)-6])\n",
    "longitud = 0\n",
    "\n",
    "def passgen (tam):\n",
    "    passwd = \"\"\n",
    "    for j in range(tam):\n",
    "        passwd = passwd + random.choice(caracteres)\n",
    "    return passwd\n",
    "\n",
    "longitud = int(input(\"Indique la longitud de su password:\"))\n",
    "clave = passgen(longitud)\n",
    "print (\"Su password de \", longitud, \" caracteres es : \",  clave)\n"
   ]
  },
  {
   "cell_type": "markdown",
   "metadata": {},
   "source": [
    "## Ejercicio 18\n",
    "### Cows And Bulls\n",
    "\n",
    "\n",
    "Create a program that will play the “cows and bulls” game with the user. The game works like this:\n",
    "\n",
    "Randomly generate a 4-digit number. Ask the user to guess a 4-digit number. For every digit that the user guessed correctly in the correct place, they have a “cow”. For every digit the user guessed correctly in the wrong place is a “bull.” Every time the user makes a guess, tell them how many “cows” and “bulls” they have. Once the user guesses the correct number, the game is over. Keep track of the number of guesses the user makes throughout teh game and tell the user at the end.\n",
    "\n",
    "Say the number generated by the computer is 1038. An example interaction could look like this:\n",
    "\n",
    "  Welcome to the Cows and Bulls Game! \n",
    "  Enter a number: \n",
    "  >>> 1234\n",
    "  2 cows, 0 bulls\n",
    "  >>> 1256\n",
    "  1 cow, 1 bull\n",
    "  ...\n",
    "\n",
    "Until the user guesses the number."
   ]
  },
  {
   "cell_type": "code",
   "execution_count": 20,
   "metadata": {
    "tags": []
   },
   "outputs": [
    {
     "output_type": "stream",
     "name": "stdout",
     "text": "BIENVENIDO A COWS AND BULLS \n\nNúmero: 2343  Cows:  0  Bulls:  0\nNúmero: 5678  Cows:  0  Bulls:  3\nNúmero: 1678  Cows:  0  Bulls:  2\nNúmero: 5689  Cows:  1  Bulls:  3\nNúmero: 9586  Cows:  1  Bulls:  3\n____________________________________\nNO HAS ACERTADO!!! El número era:  8569\n"
    }
   ],
   "source": [
    "\n",
    "numsec = random.randint(1000, 9999)\n",
    "numsec = str(numsec) \n",
    "#print(numsec)\n",
    "\n",
    "def valida_numero (num_random, cont):\n",
    "    jugadas = 0\n",
    "    print( \"BIENVENIDO A COWS AND BULLS \\n\")\n",
    "    while jugadas < cont:\n",
    "        jugador = input(\"Introduzca un número de 4 dígitos: \")  \n",
    "        #print(\"Jugador:\",jugador)\n",
    "        lista_match = list(num_random)\n",
    "        for i in range(len(num_random)):\n",
    "            if jugador[i] == num_random[i]:\n",
    "                lista_match[i] = \"C\"\n",
    "        for j in range(len (num_random)):\n",
    "            if lista_match[j] != \"C\" and jugador[j] in lista_match:\n",
    "                indice = lista_match.index(jugador[j])\n",
    "                lista_match[indice]=\"B\"\n",
    "        \n",
    "        print (\"Número:\" , jugador,  \" Cows: \", lista_match.count(\"C\") , \" Bulls: \", lista_match.count(\"B\"))\n",
    "      \n",
    "        if lista_match.count(\"C\") == 4:\n",
    "            print(\"____________________________________\")\n",
    "            print( \"HAS ACERTADO!!! El número es: \", numsec)\n",
    "            return True\n",
    "        jugadas +=1 \n",
    "    \n",
    "    print(\"____________________________________\")\n",
    "    print( \"NO HAS ACERTADO!!! El número era: \", numsec)\n",
    "    return False\n",
    "\n",
    "jugar = valida_numero(numsec, 5)  \n",
    "    \n"
   ]
  },
  {
   "cell_type": "markdown",
   "metadata": {},
   "source": [
    " ## Ejercicio 27\n",
    " ### Tic Tac Toe Draw\n",
    "\n",
    "\n",
    "This exercise is Part 3 of 4 of the Tic Tac Toe exercise series. The other exercises are: Part 1, Part 2, and Part 4.\n",
    "\n",
    "In a previous exercise we explored the idea of using a list of lists as a “data structure” to store information about a tic tac toe game. In a tic tac toe game, the “game server” needs to know where the Xs and Os are in the board, to know whether player 1 or player 2 (or whoever is X and O won).\n",
    "\n",
    "There has also been an exercise about drawing the actual tic tac toe gameboard using text characters.\n",
    "\n",
    "The next logical step is to deal with handling user input. When a player (say player 1, who is X) wants to place an X on the screen, they can’t just click on a terminal. So we are going to approximate this clicking simply by asking the user for a coordinate of where they want to place their piece.\n",
    "\n",
    "As a reminder, our tic tac toe game is really a list of lists. The game starts out with an empty game board like this:\n",
    "\n",
    "game = [[0, 0, 0],\n",
    "\t[0, 0, 0],\n",
    "\t[0, 0, 0]]\n",
    "\n",
    "The computer asks Player 1 (X) what their move is (in the format row,col), and say they type 1,3. Then the game would print out\n",
    "\n",
    "game = [[0, 0, X],\n",
    "\t[0, 0, 0],\n",
    "\t[0, 0, 0]]\n",
    "\n",
    "And ask Player 2 for their move, printing an O in that place.\n",
    "\n",
    "Things to note:\n",
    "\n",
    "    For this exercise, assume that player 1 (the first player to move) will always be X and player 2 (the second player) will always be O.\n",
    "    Notice how in the example I gave coordinates for where I want to move starting from (1, 1) instead of (0, 0). To people who don’t program, starting to count at 0 is a strange concept, so it is better for the user experience if the row counts and column counts start at 1. This is not required, but whichever way you choose to implement this, it should be explained to the player.\n",
    "    Ask the user to enter coordinates in the form “row,col” - a number, then a comma, then a number. Then you can use your Python skills to figure out which row and column they want their piece to be in.\n",
    "    Don’t worry about checking whether someone won the game, but if a player tries to put a piece in a game position where there already is another piece, do not allow the piece to go there.\n",
    "\n",
    "Bonus:\n",
    "\n",
    "    For the “standard” exercise, don’t worry about “ending” the game - no need to keep track of how many squares are full. In a bonus version, keep track of how many squares are full and automatically stop asking for moves when there are no more valid moves.\n"
   ]
  },
  {
   "cell_type": "code",
   "execution_count": 7,
   "metadata": {
    "tags": []
   },
   "outputs": [
    {
     "output_type": "stream",
     "name": "stdout",
     "text": "[' ', ' ', ' ']\n[' ', ' ', ' ']\n[' ', ' ', ' ']\n__________________\n[' ', 'X', ' ']\n[' ', ' ', ' ']\n[' ', ' ', ' ']\n__________________\n[' ', 'X', '0']\n[' ', ' ', ' ']\n[' ', ' ', ' ']\n__________________\n['X', 'X', '0']\n[' ', ' ', ' ']\n[' ', ' ', ' ']\n__________________\n['X', 'X', '0']\n[' ', '0', ' ']\n[' ', ' ', ' ']\n__________________\n['X', 'X', '0']\n[' ', '0', ' ']\n[' ', ' ', 'X']\n__________________\n['X', 'X', '0']\n[' ', '0', ' ']\n['0', ' ', 'X']\n__________________\n\n GANO 0 \n\n['X', 'X', '0']\n[' ', '0', ' ']\n['0', ' ', 'X']\n__________________\n"
    }
   ],
   "source": [
    "Fila1 = [\" \",\" \",\" \"]\n",
    "Fila2 = [\" \",\" \",\" \"]\n",
    "Fila3 = [\" \",\" \",\" \"]\n",
    "tablero = []\n",
    "tablero.append (Fila1)\n",
    "tablero.append (Fila2)\n",
    "tablero.append (Fila3)\n",
    "\n",
    "def mostrar_tablero (tablero):\n",
    "    for i in range(len(tablero)):\n",
    "        print(tablero[i])\n",
    "    print(\"__________________\")\n",
    "\n",
    "def marcar_jugada (x, y, valor, tablero):\n",
    "    if tablero[x-1][y-1] == \" \":\n",
    "        tablero[x-1][y-1] = valor\n",
    "    return tablero\n",
    "\n",
    "def pedir_jugada (num, tabl):\n",
    "    if num==1:\n",
    "        jugadaX = int(input(\"JUGADOR 1 'X': Indique su jugada (JugX) [fila 1 a 3]: \" ))\n",
    "        jugadaY = int(input(\"JUGADOR 1 'X': Indique su jugada (JugX) [columna 1 a 3]: \" ))\n",
    "        tablero = marcar_jugada (jugadaX, jugadaY, \"X\", tabl)\n",
    "    else:\n",
    "        jugadaX = int(input(\"JUGADOR 2 '0': Indique su jugada (Jug0) [fila 1 a 3]: \" ))\n",
    "        jugadaY = int(input(\"JUGADOR 2 '0': Indique su jugada (Jug0) [columna 1 a 3]: \" ))\n",
    "        tablero = marcar_jugada (jugadaX, jugadaY, \"0\", tabl)\n",
    "    mostrar_tablero(tabl)\n",
    "    return tabl\n",
    "\n",
    "\n",
    "def resultado_fila( tabl, patron):\n",
    "    res = 0\n",
    "    for j in range(len(tabl)):\n",
    "        res = 0\n",
    "        for i in range(len(tabl[j])):\n",
    "            if tabl[j][i] == patron:\n",
    "                res += 1\n",
    "        if res ==3:\n",
    "            return True\n",
    "    return False\n",
    "\n",
    "def resultado_col( tabl, patron):\n",
    "    res = 0\n",
    "    for j in range(len(tabl[0])):\n",
    "        res = 0\n",
    "        for i in range(len(tabl)):\n",
    "            if tabl[i][j] == patron:\n",
    "                res += 1\n",
    "        if res ==3:\n",
    "            return True\n",
    "    return False\n",
    "\n",
    "def resultado_diag1( tabl, patron):\n",
    "    res = 0\n",
    "    for j in range(len(tabl)):\n",
    "        for i in range(len(tabl[j])):\n",
    "            if i == j:\n",
    "                if tabl[j][i] == patron:\n",
    "                    res += 1\n",
    "        if res ==3:\n",
    "            return True\n",
    "    return False\n",
    "\n",
    "def resultado_diag2( tabl, patron):\n",
    "    res = 0\n",
    "    for j in range(len(tabl)):\n",
    "        for i in range(len(tabl[j])):\n",
    "            if (j == 0 and i ==2) or (j==1 and i==1)or(j==2 and i==0):\n",
    "                if tabl[j][i] == patron:\n",
    "                    res += 1\n",
    "        if res ==3:\n",
    "            return True\n",
    "    return False\n",
    "\n",
    "def resultado (tabl, patron):\n",
    "    res= False\n",
    "    if resultado_fila (tabl, patron) or resultado_col (tabl,patron) or resultado_diag1 (tabl,patron) or resultado_diag2 (tabl,patron):\n",
    "        res = True\n",
    "    return res\n",
    "\n",
    "mostrar_tablero(tablero)\n",
    "ganad = False\n",
    "tot = 1\n",
    "while tot <10 :\n",
    "    pedir_jugada (1, tablero)\n",
    "    ganad = resultado (tablero, \"X\")\n",
    "    if ganad == True: \n",
    "        print(\"\\n\", \"GANO X\" ,\"\\n\")\n",
    "        break\n",
    "    tot +=1\n",
    "    pedir_jugada (2, tablero)\n",
    "    ganad = False\n",
    "    ganad = resultado (tablero, \"0\")\n",
    "    if ganad == True: \n",
    "        print(\"\\n\", \"GANO 0\" ,\"\\n\")\n",
    "        break\n",
    "    tot +=1\n",
    "\n",
    "\n",
    "mostrar_tablero (tablero)\n",
    "\n"
   ]
  },
  {
   "cell_type": "markdown",
   "metadata": {},
   "source": [
    "## Ejercicio 31\n",
    " ### Guess Letters\n",
    "\n",
    "\n",
    "This exercise is Part 2 of 3 of the Hangman exercise series. The other exercises are: Part 1 and Part 3.\n",
    "\n",
    "Let’s continue building Hangman. In the game of Hangman, a clue word is given by the program that the player has to guess, letter by letter. The player guesses one letter at a time until the entire word has been guessed. (In the actual game, the player can only guess 6 letters incorrectly before losing).\n",
    "\n",
    "Let’s say the word the player has to guess is “EVAPORATE”. For this exercise, write the logic that asks a player to guess a letter and displays letters in the clue word that were guessed correctly. For now, let the player guess an infinite number of times until they get the entire word. As a bonus, keep track of the letters the player guessed and display a different message if the player tries to guess that letter again. Remember to stop the game when all the letters have been guessed correctly! Don’t worry about choosing a word randomly or keeping track of the number of guesses the player has remaining - we will deal with those in a future exercise.\n",
    "\n",
    "An example interaction can look like this:\n",
    "\n",
    ">>> Welcome to Hangman!\n",
    "_ _ _ _ _ _ _ _ _\n",
    ">>> Guess your letter: S\n",
    "Incorrect!\n",
    ">>> Guess your letter: E\n",
    "E _ _ _ _ _ _ _ E\n",
    "...\n",
    "\n",
    "And so on, until the player gets the word.\n"
   ]
  },
  {
   "cell_type": "code",
   "execution_count": null,
   "metadata": {},
   "outputs": [],
   "source": [
    "# ESTA CONTENIDO EN EL EJERCICIO 32"
   ]
  },
  {
   "cell_type": "markdown",
   "metadata": {},
   "source": [
    "## Ejercicio 32\n",
    "### Hangman\n",
    "\n",
    "This exercise is Part 3 of 3 of the Hangman exercise series. The other exercises are: Part 1 and Part 2.\n",
    "\n",
    "You can start your Python journey anywhere, but to finish this exercise you will have to have finished Parts 1 and 2 or use the solutions (Part 1 and Part 2).\n",
    "\n",
    "In this exercise, we will finish building Hangman. In the game of Hangman, the player only has 6 incorrect guesses (head, body, 2 legs, and 2 arms) before they lose the game.\n",
    "\n",
    "In Part 1, we loaded a random word list and picked a word from it. In Part 2, we wrote the logic for guessing the letter and displaying that information to the user. In this exercise, we have to put it all together and add logic for handling guesses.\n",
    "\n",
    "Copy your code from Parts 1 and 2 into a new file as a starting point. Now add the following features:\n",
    "\n",
    "    Only let the user guess 6 times, and tell the user how many guesses they have left.\n",
    "    Keep track of the letters the user guessed. If the user guesses a letter they already guessed, don’t penalize them - let them guess again.\n",
    "\n",
    "Optional additions:\n",
    "\n",
    "    When the player wins or loses, let them start a new game.\n",
    "    Rather than telling the user \"You have 4 incorrect guesses left\", display some picture art for the Hangman. This is challenging - do the other parts of the exercise first!\n",
    "\n",
    "Your solution will be a lot cleaner if you make use of functions to help you!"
   ]
  },
  {
   "cell_type": "code",
   "execution_count": 6,
   "metadata": {
    "tags": []
   },
   "outputs": [
    {
     "output_type": "stream",
     "name": "stdout",
     "text": "___________________________\nG _ _ _ _ _ _ _ _ _ D\n___________________________\n\n\n1 / 6    E ✓   G _ E _ _ E _ _ _ E D \n\n\n\n2 / 6    A ✓   G _ E _ _ E A _ _ E D \n\n\n\n3 / 6    T ✘ \n\n\n\n4 / 6    D ✓   G _ E _ _ E A _ D E D \n\n\n\n5 / 6    R ✓   G R E _ _ E A R D E D \n\n\n\n6 / 6    H ✘ \n\nTu palabra final es: L\n\nNo has acertado. La palabra era: GREYBEARDED\n\n"
    }
   ],
   "source": [
    "# Utiliza la libreria random y crear una lista (llamada lista_palabras) con el contenido de las palabras del  archivo sowpods.txt\n",
    "\n",
    "with open (\"sowpods.txt\") as arch_palabras:\n",
    "    lista_palabras = list(arch_palabras)\n",
    "\n",
    "def ahorcado (palabra):\n",
    "    pant = \"\"\n",
    "    lpalabra = (list(palabra))\n",
    "    lpalabra.pop(-1)\n",
    "\n",
    "    opciones = 6\n",
    "    # print(lpalabra)\n",
    "    \n",
    "    pant = lpalabra[0]\n",
    "   \n",
    "    for x in range(len(lpalabra)-2):\n",
    "        pant += \"_\" \n",
    "    pant = pant + lpalabra[-1]\n",
    " \n",
    "    pant= list(pant) \n",
    "    print(\"___________________________\")\n",
    "    print (' '.join(pant))\n",
    "    print(\"___________________________\")\n",
    "\n",
    "    for i in range(opciones):\n",
    "        let1 = input(str(i+1) + \"/6 -- Introduce una letra:\" ).upper()\n",
    "        if let1 in lpalabra:\n",
    "            for x in range(len(lpalabra)):\n",
    "                if lpalabra[x] == let1:\n",
    "                    pant[x]=let1\n",
    "            print(\"\\n\")\n",
    "            print(str(i +1),\"/\", str(opciones),\"  \", let1, \"✓  \",' '.join(pant), \"\\n\")\n",
    "        else:\n",
    "            print(\"\\n\")\n",
    "            print (str(i +1), \"/\", str(opciones), \"  \" , let1, \"✘ \\n\")\n",
    "    \n",
    "\n",
    "    guess = input(\"Adivina la palabra: \").upper()\n",
    "    print(\"Tu palabra final es: \" + guess )\n",
    "    guess = list (guess)\n",
    "\n",
    "    if guess == lpalabra:\n",
    "        print(\"HAS ACERTADO!!!. ENHORABUENA.\")\n",
    "    else:\n",
    "        print(\"\\n\" + \"No has acertado. La palabra era: \" + palabra)\n",
    "\n",
    "random_index = random.randint(0, len(lista_palabras))\n",
    "adivinar = str(lista_palabras[random_index])\n",
    "\n",
    "ahorcado(adivinar)\n"
   ]
  },
  {
   "cell_type": "code",
   "execution_count": null,
   "metadata": {},
   "outputs": [],
   "source": []
  }
 ],
 "metadata": {
  "file_extension": ".py",
  "kernelspec": {
   "display_name": "Python 3",
   "language": "python",
   "name": "python3"
  },
  "language_info": {
   "codemirror_mode": {
    "name": "ipython",
    "version": 3
   },
   "file_extension": ".py",
   "mimetype": "text/x-python",
   "name": "python",
   "nbconvert_exporter": "python",
   "pygments_lexer": "ipython3",
   "version": "3.7.6-final"
  },
  "mimetype": "text/x-python",
  "name": "python",
  "npconvert_exporter": "python",
  "pygments_lexer": "ipython3",
  "version": 3
 },
 "nbformat": 4,
 "nbformat_minor": 4
}