{
 "cells": [
  {
   "cell_type": "markdown",
   "metadata": {},
   "source": [
    "# Occupation"
   ]
  },
  {
   "cell_type": "markdown",
   "metadata": {},
   "source": [
    "### Introduction:\n",
    "\n",
    "\n",
    "### Step 1. Import the necessary libraries"
   ]
  },
  {
   "cell_type": "code",
   "execution_count": 14,
   "metadata": {
    "collapsed": false
   },
   "outputs": [],
   "source": [
    "import pandas as pd"
   ]
  },
  {
   "cell_type": "markdown",
   "metadata": {},
   "source": [
    "### Step 2. Import the dataset from this [address](https://raw.githubusercontent.com/justmarkham/DAT8/master/data/u.user). "
   ]
  },
  {
   "cell_type": "code",
   "execution_count": 15,
   "metadata": {},
   "outputs": [],
   "source": [
    "dset = pd.read_csv(\"https://raw.githubusercontent.com/justmarkham/DAT8/master/data/u.user\" , sep='|')"
   ]
  },
  {
   "cell_type": "code",
   "execution_count": null,
   "metadata": {},
   "outputs": [],
   "source": []
  },
  {
   "cell_type": "markdown",
   "metadata": {},
   "source": [
    "### Step 3. Assign it to a variable called users."
   ]
  },
  {
   "cell_type": "code",
   "execution_count": 16,
   "metadata": {},
   "outputs": [],
   "source": [
    "users = dset"
   ]
  },
  {
   "cell_type": "code",
   "execution_count": 17,
   "metadata": {},
   "outputs": [
    {
     "output_type": "execute_result",
     "data": {
      "text/plain": "   user_id  age gender  occupation zip_code\n0        1   24      M  technician    85711\n1        2   53      F       other    94043\n2        3   23      M      writer    32067\n3        4   24      M  technician    43537\n4        5   33      F       other    15213",
      "text/html": "<div>\n<style scoped>\n    .dataframe tbody tr th:only-of-type {\n        vertical-align: middle;\n    }\n\n    .dataframe tbody tr th {\n        vertical-align: top;\n    }\n\n    .dataframe thead th {\n        text-align: right;\n    }\n</style>\n<table border=\"1\" class=\"dataframe\">\n  <thead>\n    <tr style=\"text-align: right;\">\n      <th></th>\n      <th>user_id</th>\n      <th>age</th>\n      <th>gender</th>\n      <th>occupation</th>\n      <th>zip_code</th>\n    </tr>\n  </thead>\n  <tbody>\n    <tr>\n      <th>0</th>\n      <td>1</td>\n      <td>24</td>\n      <td>M</td>\n      <td>technician</td>\n      <td>85711</td>\n    </tr>\n    <tr>\n      <th>1</th>\n      <td>2</td>\n      <td>53</td>\n      <td>F</td>\n      <td>other</td>\n      <td>94043</td>\n    </tr>\n    <tr>\n      <th>2</th>\n      <td>3</td>\n      <td>23</td>\n      <td>M</td>\n      <td>writer</td>\n      <td>32067</td>\n    </tr>\n    <tr>\n      <th>3</th>\n      <td>4</td>\n      <td>24</td>\n      <td>M</td>\n      <td>technician</td>\n      <td>43537</td>\n    </tr>\n    <tr>\n      <th>4</th>\n      <td>5</td>\n      <td>33</td>\n      <td>F</td>\n      <td>other</td>\n      <td>15213</td>\n    </tr>\n  </tbody>\n</table>\n</div>"
     },
     "metadata": {},
     "execution_count": 17
    }
   ],
   "source": [
    "users.head()"
   ]
  },
  {
   "cell_type": "code",
   "execution_count": 65,
   "metadata": {
    "collapsed": false
   },
   "outputs": [
    {
     "data": {
      "text/html": [
       "<div>\n",
       "<table border=\"1\" class=\"dataframe\">\n",
       "  <thead>\n",
       "    <tr style=\"text-align: right;\">\n",
       "      <th></th>\n",
       "      <th>age</th>\n",
       "      <th>gender</th>\n",
       "      <th>occupation</th>\n",
       "      <th>zip_code</th>\n",
       "    </tr>\n",
       "    <tr>\n",
       "      <th>user_id</th>\n",
       "      <th></th>\n",
       "      <th></th>\n",
       "      <th></th>\n",
       "      <th></th>\n",
       "    </tr>\n",
       "  </thead>\n",
       "  <tbody>\n",
       "    <tr>\n",
       "      <th>1</th>\n",
       "      <td>24</td>\n",
       "      <td>M</td>\n",
       "      <td>technician</td>\n",
       "      <td>85711</td>\n",
       "    </tr>\n",
       "    <tr>\n",
       "      <th>2</th>\n",
       "      <td>53</td>\n",
       "      <td>F</td>\n",
       "      <td>other</td>\n",
       "      <td>94043</td>\n",
       "    </tr>\n",
       "    <tr>\n",
       "      <th>3</th>\n",
       "      <td>23</td>\n",
       "      <td>M</td>\n",
       "      <td>writer</td>\n",
       "      <td>32067</td>\n",
       "    </tr>\n",
       "    <tr>\n",
       "      <th>4</th>\n",
       "      <td>24</td>\n",
       "      <td>M</td>\n",
       "      <td>technician</td>\n",
       "      <td>43537</td>\n",
       "    </tr>\n",
       "    <tr>\n",
       "      <th>5</th>\n",
       "      <td>33</td>\n",
       "      <td>F</td>\n",
       "      <td>other</td>\n",
       "      <td>15213</td>\n",
       "    </tr>\n",
       "  </tbody>\n",
       "</table>\n",
       "</div>"
      ],
      "text/plain": [
       "         age gender  occupation zip_code\n",
       "user_id                                 \n",
       "1         24      M  technician    85711\n",
       "2         53      F       other    94043\n",
       "3         23      M      writer    32067\n",
       "4         24      M  technician    43537\n",
       "5         33      F       other    15213"
      ]
     },
     "execution_count": 65,
     "metadata": {},
     "output_type": "execute_result"
    }
   ],
   "source": []
  },
  {
   "cell_type": "markdown",
   "metadata": {},
   "source": [
    "### Step 4. Discover what is the mean age per occupation"
   ]
  },
  {
   "cell_type": "code",
   "execution_count": 18,
   "metadata": {},
   "outputs": [
    {
     "output_type": "execute_result",
     "data": {
      "text/plain": "occupation\nadministrator    38.746835\nartist           31.392857\ndoctor           43.571429\neducator         42.010526\nengineer         36.388060\nentertainment    29.222222\nexecutive        38.718750\nhealthcare       41.562500\nhomemaker        32.571429\nlawyer           36.750000\nlibrarian        40.000000\nmarketing        37.615385\nnone             26.555556\nother            34.523810\nprogrammer       33.121212\nretired          63.071429\nsalesman         35.666667\nscientist        35.548387\nstudent          22.081633\ntechnician       33.148148\nwriter           36.311111\nName: age, dtype: float64"
     },
     "metadata": {},
     "execution_count": 18
    }
   ],
   "source": [
    "users.groupby(\"occupation\")['age'].mean()"
   ]
  },
  {
   "cell_type": "code",
   "execution_count": 66,
   "metadata": {
    "collapsed": false
   },
   "outputs": [
    {
     "data": {
      "text/plain": [
       "occupation\n",
       "administrator    38.746835\n",
       "artist           31.392857\n",
       "doctor           43.571429\n",
       "educator         42.010526\n",
       "engineer         36.388060\n",
       "entertainment    29.222222\n",
       "executive        38.718750\n",
       "healthcare       41.562500\n",
       "homemaker        32.571429\n",
       "lawyer           36.750000\n",
       "librarian        40.000000\n",
       "marketing        37.615385\n",
       "none             26.555556\n",
       "other            34.523810\n",
       "programmer       33.121212\n",
       "retired          63.071429\n",
       "salesman         35.666667\n",
       "scientist        35.548387\n",
       "student          22.081633\n",
       "technician       33.148148\n",
       "writer           36.311111\n",
       "Name: age, dtype: float64"
      ]
     },
     "execution_count": 66,
     "metadata": {},
     "output_type": "execute_result"
    }
   ],
   "source": []
  },
  {
   "cell_type": "markdown",
   "metadata": {},
   "source": [
    "### Step 5. Discover the Male ratio per occupation and sort it from the most to the least"
   ]
  },
  {
   "cell_type": "code",
   "execution_count": 19,
   "metadata": {},
   "outputs": [
    {
     "output_type": "execute_result",
     "data": {
      "text/plain": "   user_id  age gender  occupation zip_code\n0        1   24      M  technician    85711\n1        2   53      F       other    94043\n2        3   23      M      writer    32067\n3        4   24      M  technician    43537\n4        5   33      F       other    15213",
      "text/html": "<div>\n<style scoped>\n    .dataframe tbody tr th:only-of-type {\n        vertical-align: middle;\n    }\n\n    .dataframe tbody tr th {\n        vertical-align: top;\n    }\n\n    .dataframe thead th {\n        text-align: right;\n    }\n</style>\n<table border=\"1\" class=\"dataframe\">\n  <thead>\n    <tr style=\"text-align: right;\">\n      <th></th>\n      <th>user_id</th>\n      <th>age</th>\n      <th>gender</th>\n      <th>occupation</th>\n      <th>zip_code</th>\n    </tr>\n  </thead>\n  <tbody>\n    <tr>\n      <th>0</th>\n      <td>1</td>\n      <td>24</td>\n      <td>M</td>\n      <td>technician</td>\n      <td>85711</td>\n    </tr>\n    <tr>\n      <th>1</th>\n      <td>2</td>\n      <td>53</td>\n      <td>F</td>\n      <td>other</td>\n      <td>94043</td>\n    </tr>\n    <tr>\n      <th>2</th>\n      <td>3</td>\n      <td>23</td>\n      <td>M</td>\n      <td>writer</td>\n      <td>32067</td>\n    </tr>\n    <tr>\n      <th>3</th>\n      <td>4</td>\n      <td>24</td>\n      <td>M</td>\n      <td>technician</td>\n      <td>43537</td>\n    </tr>\n    <tr>\n      <th>4</th>\n      <td>5</td>\n      <td>33</td>\n      <td>F</td>\n      <td>other</td>\n      <td>15213</td>\n    </tr>\n  </tbody>\n</table>\n</div>"
     },
     "metadata": {},
     "execution_count": 19
    }
   ],
   "source": [
    "users.head()"
   ]
  },
  {
   "cell_type": "code",
   "execution_count": 20,
   "metadata": {},
   "outputs": [
    {
     "output_type": "execute_result",
     "data": {
      "text/plain": "gender            F      M\noccupation                \nadministrator  36.0   43.0\nartist         13.0   15.0\ndoctor          NaN    7.0\neducator       26.0   69.0\nengineer        2.0   65.0\nentertainment   2.0   16.0\nexecutive       3.0   29.0\nhealthcare     11.0    5.0\nhomemaker       6.0    1.0\nlawyer          2.0   10.0\nlibrarian      29.0   22.0\nmarketing      10.0   16.0\nnone            4.0    5.0\nother          36.0   69.0\nprogrammer      6.0   60.0\nretired         1.0   13.0\nsalesman        3.0    9.0\nscientist       3.0   28.0\nstudent        60.0  136.0\ntechnician      1.0   26.0\nwriter         19.0   26.0",
      "text/html": "<div>\n<style scoped>\n    .dataframe tbody tr th:only-of-type {\n        vertical-align: middle;\n    }\n\n    .dataframe tbody tr th {\n        vertical-align: top;\n    }\n\n    .dataframe thead th {\n        text-align: right;\n    }\n</style>\n<table border=\"1\" class=\"dataframe\">\n  <thead>\n    <tr style=\"text-align: right;\">\n      <th>gender</th>\n      <th>F</th>\n      <th>M</th>\n    </tr>\n    <tr>\n      <th>occupation</th>\n      <th></th>\n      <th></th>\n    </tr>\n  </thead>\n  <tbody>\n    <tr>\n      <th>administrator</th>\n      <td>36.0</td>\n      <td>43.0</td>\n    </tr>\n    <tr>\n      <th>artist</th>\n      <td>13.0</td>\n      <td>15.0</td>\n    </tr>\n    <tr>\n      <th>doctor</th>\n      <td>NaN</td>\n      <td>7.0</td>\n    </tr>\n    <tr>\n      <th>educator</th>\n      <td>26.0</td>\n      <td>69.0</td>\n    </tr>\n    <tr>\n      <th>engineer</th>\n      <td>2.0</td>\n      <td>65.0</td>\n    </tr>\n    <tr>\n      <th>entertainment</th>\n      <td>2.0</td>\n      <td>16.0</td>\n    </tr>\n    <tr>\n      <th>executive</th>\n      <td>3.0</td>\n      <td>29.0</td>\n    </tr>\n    <tr>\n      <th>healthcare</th>\n      <td>11.0</td>\n      <td>5.0</td>\n    </tr>\n    <tr>\n      <th>homemaker</th>\n      <td>6.0</td>\n      <td>1.0</td>\n    </tr>\n    <tr>\n      <th>lawyer</th>\n      <td>2.0</td>\n      <td>10.0</td>\n    </tr>\n    <tr>\n      <th>librarian</th>\n      <td>29.0</td>\n      <td>22.0</td>\n    </tr>\n    <tr>\n      <th>marketing</th>\n      <td>10.0</td>\n      <td>16.0</td>\n    </tr>\n    <tr>\n      <th>none</th>\n      <td>4.0</td>\n      <td>5.0</td>\n    </tr>\n    <tr>\n      <th>other</th>\n      <td>36.0</td>\n      <td>69.0</td>\n    </tr>\n    <tr>\n      <th>programmer</th>\n      <td>6.0</td>\n      <td>60.0</td>\n    </tr>\n    <tr>\n      <th>retired</th>\n      <td>1.0</td>\n      <td>13.0</td>\n    </tr>\n    <tr>\n      <th>salesman</th>\n      <td>3.0</td>\n      <td>9.0</td>\n    </tr>\n    <tr>\n      <th>scientist</th>\n      <td>3.0</td>\n      <td>28.0</td>\n    </tr>\n    <tr>\n      <th>student</th>\n      <td>60.0</td>\n      <td>136.0</td>\n    </tr>\n    <tr>\n      <th>technician</th>\n      <td>1.0</td>\n      <td>26.0</td>\n    </tr>\n    <tr>\n      <th>writer</th>\n      <td>19.0</td>\n      <td>26.0</td>\n    </tr>\n  </tbody>\n</table>\n</div>"
     },
     "metadata": {},
     "execution_count": 20
    }
   ],
   "source": [
    "df_ratio = users.groupby(['occupation','gender']).gender.size().unstack(level=1)\n",
    "df_ratio"
   ]
  },
  {
   "cell_type": "code",
   "execution_count": 21,
   "metadata": {},
   "outputs": [],
   "source": [
    "df_ratio[\"male_ratio\"] = (df_ratio.M / df_ratio.sum(1))*100\n"
   ]
  },
  {
   "cell_type": "code",
   "execution_count": 22,
   "metadata": {},
   "outputs": [
    {
     "output_type": "execute_result",
     "data": {
      "text/plain": "gender            F      M  male_ratio\noccupation                            \ndoctor          NaN    7.0  100.000000\nengineer        2.0   65.0   97.014925\ntechnician      1.0   26.0   96.296296\nretired         1.0   13.0   92.857143\nprogrammer      6.0   60.0   90.909091\nexecutive       3.0   29.0   90.625000\nscientist       3.0   28.0   90.322581\nentertainment   2.0   16.0   88.888889\nlawyer          2.0   10.0   83.333333\nsalesman        3.0    9.0   75.000000\neducator       26.0   69.0   72.631579\nstudent        60.0  136.0   69.387755\nother          36.0   69.0   65.714286\nmarketing      10.0   16.0   61.538462\nwriter         19.0   26.0   57.777778\nnone            4.0    5.0   55.555556\nadministrator  36.0   43.0   54.430380\nartist         13.0   15.0   53.571429\nlibrarian      29.0   22.0   43.137255\nhealthcare     11.0    5.0   31.250000\nhomemaker       6.0    1.0   14.285714",
      "text/html": "<div>\n<style scoped>\n    .dataframe tbody tr th:only-of-type {\n        vertical-align: middle;\n    }\n\n    .dataframe tbody tr th {\n        vertical-align: top;\n    }\n\n    .dataframe thead th {\n        text-align: right;\n    }\n</style>\n<table border=\"1\" class=\"dataframe\">\n  <thead>\n    <tr style=\"text-align: right;\">\n      <th>gender</th>\n      <th>F</th>\n      <th>M</th>\n      <th>male_ratio</th>\n    </tr>\n    <tr>\n      <th>occupation</th>\n      <th></th>\n      <th></th>\n      <th></th>\n    </tr>\n  </thead>\n  <tbody>\n    <tr>\n      <th>doctor</th>\n      <td>NaN</td>\n      <td>7.0</td>\n      <td>100.000000</td>\n    </tr>\n    <tr>\n      <th>engineer</th>\n      <td>2.0</td>\n      <td>65.0</td>\n      <td>97.014925</td>\n    </tr>\n    <tr>\n      <th>technician</th>\n      <td>1.0</td>\n      <td>26.0</td>\n      <td>96.296296</td>\n    </tr>\n    <tr>\n      <th>retired</th>\n      <td>1.0</td>\n      <td>13.0</td>\n      <td>92.857143</td>\n    </tr>\n    <tr>\n      <th>programmer</th>\n      <td>6.0</td>\n      <td>60.0</td>\n      <td>90.909091</td>\n    </tr>\n    <tr>\n      <th>executive</th>\n      <td>3.0</td>\n      <td>29.0</td>\n      <td>90.625000</td>\n    </tr>\n    <tr>\n      <th>scientist</th>\n      <td>3.0</td>\n      <td>28.0</td>\n      <td>90.322581</td>\n    </tr>\n    <tr>\n      <th>entertainment</th>\n      <td>2.0</td>\n      <td>16.0</td>\n      <td>88.888889</td>\n    </tr>\n    <tr>\n      <th>lawyer</th>\n      <td>2.0</td>\n      <td>10.0</td>\n      <td>83.333333</td>\n    </tr>\n    <tr>\n      <th>salesman</th>\n      <td>3.0</td>\n      <td>9.0</td>\n      <td>75.000000</td>\n    </tr>\n    <tr>\n      <th>educator</th>\n      <td>26.0</td>\n      <td>69.0</td>\n      <td>72.631579</td>\n    </tr>\n    <tr>\n      <th>student</th>\n      <td>60.0</td>\n      <td>136.0</td>\n      <td>69.387755</td>\n    </tr>\n    <tr>\n      <th>other</th>\n      <td>36.0</td>\n      <td>69.0</td>\n      <td>65.714286</td>\n    </tr>\n    <tr>\n      <th>marketing</th>\n      <td>10.0</td>\n      <td>16.0</td>\n      <td>61.538462</td>\n    </tr>\n    <tr>\n      <th>writer</th>\n      <td>19.0</td>\n      <td>26.0</td>\n      <td>57.777778</td>\n    </tr>\n    <tr>\n      <th>none</th>\n      <td>4.0</td>\n      <td>5.0</td>\n      <td>55.555556</td>\n    </tr>\n    <tr>\n      <th>administrator</th>\n      <td>36.0</td>\n      <td>43.0</td>\n      <td>54.430380</td>\n    </tr>\n    <tr>\n      <th>artist</th>\n      <td>13.0</td>\n      <td>15.0</td>\n      <td>53.571429</td>\n    </tr>\n    <tr>\n      <th>librarian</th>\n      <td>29.0</td>\n      <td>22.0</td>\n      <td>43.137255</td>\n    </tr>\n    <tr>\n      <th>healthcare</th>\n      <td>11.0</td>\n      <td>5.0</td>\n      <td>31.250000</td>\n    </tr>\n    <tr>\n      <th>homemaker</th>\n      <td>6.0</td>\n      <td>1.0</td>\n      <td>14.285714</td>\n    </tr>\n  </tbody>\n</table>\n</div>"
     },
     "metadata": {},
     "execution_count": 22
    }
   ],
   "source": [
    "df_ratio.sort_values([\"male_ratio\"], ascending = False)"
   ]
  },
  {
   "cell_type": "code",
   "execution_count": 150,
   "metadata": {
    "collapsed": false
   },
   "outputs": [
    {
     "data": {
      "text/plain": [
       "doctor           100.000000\n",
       "engineer          97.014925\n",
       "technician        96.296296\n",
       "retired           92.857143\n",
       "programmer        90.909091\n",
       "executive         90.625000\n",
       "scientist         90.322581\n",
       "entertainment     88.888889\n",
       "lawyer            83.333333\n",
       "salesman          75.000000\n",
       "educator          72.631579\n",
       "student           69.387755\n",
       "other             65.714286\n",
       "marketing         61.538462\n",
       "writer            57.777778\n",
       "none              55.555556\n",
       "administrator     54.430380\n",
       "artist            53.571429\n",
       "librarian         43.137255\n",
       "healthcare        31.250000\n",
       "homemaker         14.285714\n",
       "dtype: float64"
      ]
     },
     "execution_count": 150,
     "metadata": {},
     "output_type": "execute_result"
    }
   ],
   "source": []
  },
  {
   "cell_type": "markdown",
   "metadata": {},
   "source": [
    "### Step 6. For each occupation, calculate the minimum and maximum ages"
   ]
  },
  {
   "cell_type": "code",
   "execution_count": 16,
   "metadata": {
    "collapsed": false
   },
   "outputs": [
    {
     "output_type": "execute_result",
     "data": {
      "text/plain": "                min   max\noccupation               \nadministrator  21.0  70.0\nartist         19.0  48.0\ndoctor         28.0  64.0\neducator       23.0  63.0\nengineer       22.0  70.0\nentertainment  15.0  50.0\nexecutive      22.0  69.0\nhealthcare     22.0  62.0\nhomemaker      20.0  50.0\nlawyer         21.0  53.0\nlibrarian      23.0  69.0\nmarketing      24.0  55.0\nnone           11.0  55.0\nother          13.0  64.0\nprogrammer     20.0  63.0\nretired        51.0  73.0\nsalesman       18.0  66.0\nscientist      23.0  55.0\nstudent         7.0  42.0\ntechnician     21.0  55.0\nwriter         18.0  60.0",
      "text/html": "<div>\n<style scoped>\n    .dataframe tbody tr th:only-of-type {\n        vertical-align: middle;\n    }\n\n    .dataframe tbody tr th {\n        vertical-align: top;\n    }\n\n    .dataframe thead th {\n        text-align: right;\n    }\n</style>\n<table border=\"1\" class=\"dataframe\">\n  <thead>\n    <tr style=\"text-align: right;\">\n      <th></th>\n      <th>min</th>\n      <th>max</th>\n    </tr>\n    <tr>\n      <th>occupation</th>\n      <th></th>\n      <th></th>\n    </tr>\n  </thead>\n  <tbody>\n    <tr>\n      <th>administrator</th>\n      <td>21.0</td>\n      <td>70.0</td>\n    </tr>\n    <tr>\n      <th>artist</th>\n      <td>19.0</td>\n      <td>48.0</td>\n    </tr>\n    <tr>\n      <th>doctor</th>\n      <td>28.0</td>\n      <td>64.0</td>\n    </tr>\n    <tr>\n      <th>educator</th>\n      <td>23.0</td>\n      <td>63.0</td>\n    </tr>\n    <tr>\n      <th>engineer</th>\n      <td>22.0</td>\n      <td>70.0</td>\n    </tr>\n    <tr>\n      <th>entertainment</th>\n      <td>15.0</td>\n      <td>50.0</td>\n    </tr>\n    <tr>\n      <th>executive</th>\n      <td>22.0</td>\n      <td>69.0</td>\n    </tr>\n    <tr>\n      <th>healthcare</th>\n      <td>22.0</td>\n      <td>62.0</td>\n    </tr>\n    <tr>\n      <th>homemaker</th>\n      <td>20.0</td>\n      <td>50.0</td>\n    </tr>\n    <tr>\n      <th>lawyer</th>\n      <td>21.0</td>\n      <td>53.0</td>\n    </tr>\n    <tr>\n      <th>librarian</th>\n      <td>23.0</td>\n      <td>69.0</td>\n    </tr>\n    <tr>\n      <th>marketing</th>\n      <td>24.0</td>\n      <td>55.0</td>\n    </tr>\n    <tr>\n      <th>none</th>\n      <td>11.0</td>\n      <td>55.0</td>\n    </tr>\n    <tr>\n      <th>other</th>\n      <td>13.0</td>\n      <td>64.0</td>\n    </tr>\n    <tr>\n      <th>programmer</th>\n      <td>20.0</td>\n      <td>63.0</td>\n    </tr>\n    <tr>\n      <th>retired</th>\n      <td>51.0</td>\n      <td>73.0</td>\n    </tr>\n    <tr>\n      <th>salesman</th>\n      <td>18.0</td>\n      <td>66.0</td>\n    </tr>\n    <tr>\n      <th>scientist</th>\n      <td>23.0</td>\n      <td>55.0</td>\n    </tr>\n    <tr>\n      <th>student</th>\n      <td>7.0</td>\n      <td>42.0</td>\n    </tr>\n    <tr>\n      <th>technician</th>\n      <td>21.0</td>\n      <td>55.0</td>\n    </tr>\n    <tr>\n      <th>writer</th>\n      <td>18.0</td>\n      <td>60.0</td>\n    </tr>\n  </tbody>\n</table>\n</div>"
     },
     "metadata": {},
     "execution_count": 16
    }
   ],
   "source": [
    "users.groupby(\"occupation\")['age'].describe()[[\"min\", \"max\"]]"
   ]
  },
  {
   "cell_type": "markdown",
   "metadata": {},
   "source": [
    "### Step 7. For each combination of occupation and gender, calculate the mean age"
   ]
  },
  {
   "cell_type": "code",
   "execution_count": 18,
   "metadata": {},
   "outputs": [
    {
     "output_type": "execute_result",
     "data": {
      "text/plain": "occupation     gender\nadministrator  F         40.638889\n               M         37.162791\nartist         F         30.307692\n               M         32.333333\ndoctor         M         43.571429\neducator       F         39.115385\n               M         43.101449\nengineer       F         29.500000\n               M         36.600000\nentertainment  F         31.000000\n               M         29.000000\nexecutive      F         44.000000\n               M         38.172414\nhealthcare     F         39.818182\n               M         45.400000\nhomemaker      F         34.166667\n               M         23.000000\nlawyer         F         39.500000\n               M         36.200000\nlibrarian      F         40.000000\n               M         40.000000\nmarketing      F         37.200000\n               M         37.875000\nnone           F         36.500000\n               M         18.600000\nother          F         35.472222\n               M         34.028986\nprogrammer     F         32.166667\n               M         33.216667\nretired        F         70.000000\n               M         62.538462\nsalesman       F         27.000000\n               M         38.555556\nscientist      F         28.333333\n               M         36.321429\nstudent        F         20.750000\n               M         22.669118\ntechnician     F         38.000000\n               M         32.961538\nwriter         F         37.631579\n               M         35.346154\nName: age, dtype: float64"
     },
     "metadata": {},
     "execution_count": 18
    }
   ],
   "source": [
    "users.groupby(['occupation','gender']).mean()['age']"
   ]
  },
  {
   "cell_type": "code",
   "execution_count": 152,
   "metadata": {
    "collapsed": false
   },
   "outputs": [
    {
     "data": {
      "text/plain": [
       "occupation     gender\n",
       "administrator  F         40.638889\n",
       "               M         37.162791\n",
       "artist         F         30.307692\n",
       "               M         32.333333\n",
       "doctor         M         43.571429\n",
       "educator       F         39.115385\n",
       "               M         43.101449\n",
       "engineer       F         29.500000\n",
       "               M         36.600000\n",
       "entertainment  F         31.000000\n",
       "               M         29.000000\n",
       "executive      F         44.000000\n",
       "               M         38.172414\n",
       "healthcare     F         39.818182\n",
       "               M         45.400000\n",
       "homemaker      F         34.166667\n",
       "               M         23.000000\n",
       "lawyer         F         39.500000\n",
       "               M         36.200000\n",
       "librarian      F         40.000000\n",
       "               M         40.000000\n",
       "marketing      F         37.200000\n",
       "               M         37.875000\n",
       "none           F         36.500000\n",
       "               M         18.600000\n",
       "other          F         35.472222\n",
       "               M         34.028986\n",
       "programmer     F         32.166667\n",
       "               M         33.216667\n",
       "retired        F         70.000000\n",
       "               M         62.538462\n",
       "salesman       F         27.000000\n",
       "               M         38.555556\n",
       "scientist      F         28.333333\n",
       "               M         36.321429\n",
       "student        F         20.750000\n",
       "               M         22.669118\n",
       "technician     F         38.000000\n",
       "               M         32.961538\n",
       "writer         F         37.631579\n",
       "               M         35.346154\n",
       "Name: age, dtype: float64"
      ]
     },
     "execution_count": 152,
     "metadata": {},
     "output_type": "execute_result"
    }
   ],
   "source": []
  },
  {
   "cell_type": "markdown",
   "metadata": {},
   "source": [
    "### Step 8.  For each occupation present the percentage of women and men"
   ]
  },
  {
   "cell_type": "code",
   "execution_count": 34,
   "metadata": {},
   "outputs": [
    {
     "output_type": "execute_result",
     "data": {
      "text/plain": "M    71.049841\nF    28.950159\nName: gender, dtype: float64"
     },
     "metadata": {},
     "execution_count": 34
    }
   ],
   "source": [
    "#users.groupby(['occupation'),'gender']).mean()['age']\n",
    "# Porcentaje total por genero\n",
    "(users['gender']).value_counts()/users['gender'].count()*100"
   ]
  },
  {
   "cell_type": "code",
   "execution_count": 51,
   "metadata": {},
   "outputs": [
    {
     "output_type": "execute_result",
     "data": {
      "text/plain": "                      user_id\noccupation    gender         \nadministrator F            36\n              M            43\nartist        F            13\n              M            15\ndoctor        M             7",
      "text/html": "<div>\n<style scoped>\n    .dataframe tbody tr th:only-of-type {\n        vertical-align: middle;\n    }\n\n    .dataframe tbody tr th {\n        vertical-align: top;\n    }\n\n    .dataframe thead th {\n        text-align: right;\n    }\n</style>\n<table border=\"1\" class=\"dataframe\">\n  <thead>\n    <tr style=\"text-align: right;\">\n      <th></th>\n      <th></th>\n      <th>user_id</th>\n    </tr>\n    <tr>\n      <th>occupation</th>\n      <th>gender</th>\n      <th></th>\n    </tr>\n  </thead>\n  <tbody>\n    <tr>\n      <th rowspan=\"2\" valign=\"top\">administrator</th>\n      <th>F</th>\n      <td>36</td>\n    </tr>\n    <tr>\n      <th>M</th>\n      <td>43</td>\n    </tr>\n    <tr>\n      <th rowspan=\"2\" valign=\"top\">artist</th>\n      <th>F</th>\n      <td>13</td>\n    </tr>\n    <tr>\n      <th>M</th>\n      <td>15</td>\n    </tr>\n    <tr>\n      <th>doctor</th>\n      <th>M</th>\n      <td>7</td>\n    </tr>\n  </tbody>\n</table>\n</div>"
     },
     "metadata": {},
     "execution_count": 51
    }
   ],
   "source": [
    "final_df=users.groupby(['occupation','gender']).agg({'user_id': 'count'})\n",
    "final_df.head()\n",
    "\n"
   ]
  },
  {
   "cell_type": "code",
   "execution_count": 52,
   "metadata": {},
   "outputs": [
    {
     "output_type": "execute_result",
     "data": {
      "text/plain": "                         user_id\noccupation    gender            \nadministrator F        45.569620\n              M        54.430380\nartist        F        46.428571\n              M        53.571429\ndoctor        M       100.000000\neducator      F        27.368421\n              M        72.631579\nengineer      F         2.985075\n              M        97.014925\nentertainment F        11.111111\n              M        88.888889\nexecutive     F         9.375000\n              M        90.625000\nhealthcare    F        68.750000\n              M        31.250000\nhomemaker     F        85.714286\n              M        14.285714\nlawyer        F        16.666667\n              M        83.333333\nlibrarian     F        56.862745\n              M        43.137255\nmarketing     F        38.461538\n              M        61.538462\nnone          F        44.444444\n              M        55.555556\nother         F        34.285714\n              M        65.714286\nprogrammer    F         9.090909\n              M        90.909091\nretired       F         7.142857\n              M        92.857143\nsalesman      F        25.000000\n              M        75.000000\nscientist     F         9.677419\n              M        90.322581\nstudent       F        30.612245\n              M        69.387755\ntechnician    F         3.703704\n              M        96.296296\nwriter        F        42.222222\n              M        57.777778",
      "text/html": "<div>\n<style scoped>\n    .dataframe tbody tr th:only-of-type {\n        vertical-align: middle;\n    }\n\n    .dataframe tbody tr th {\n        vertical-align: top;\n    }\n\n    .dataframe thead th {\n        text-align: right;\n    }\n</style>\n<table border=\"1\" class=\"dataframe\">\n  <thead>\n    <tr style=\"text-align: right;\">\n      <th></th>\n      <th></th>\n      <th>user_id</th>\n    </tr>\n    <tr>\n      <th>occupation</th>\n      <th>gender</th>\n      <th></th>\n    </tr>\n  </thead>\n  <tbody>\n    <tr>\n      <th rowspan=\"2\" valign=\"top\">administrator</th>\n      <th>F</th>\n      <td>45.569620</td>\n    </tr>\n    <tr>\n      <th>M</th>\n      <td>54.430380</td>\n    </tr>\n    <tr>\n      <th rowspan=\"2\" valign=\"top\">artist</th>\n      <th>F</th>\n      <td>46.428571</td>\n    </tr>\n    <tr>\n      <th>M</th>\n      <td>53.571429</td>\n    </tr>\n    <tr>\n      <th>doctor</th>\n      <th>M</th>\n      <td>100.000000</td>\n    </tr>\n    <tr>\n      <th rowspan=\"2\" valign=\"top\">educator</th>\n      <th>F</th>\n      <td>27.368421</td>\n    </tr>\n    <tr>\n      <th>M</th>\n      <td>72.631579</td>\n    </tr>\n    <tr>\n      <th rowspan=\"2\" valign=\"top\">engineer</th>\n      <th>F</th>\n      <td>2.985075</td>\n    </tr>\n    <tr>\n      <th>M</th>\n      <td>97.014925</td>\n    </tr>\n    <tr>\n      <th rowspan=\"2\" valign=\"top\">entertainment</th>\n      <th>F</th>\n      <td>11.111111</td>\n    </tr>\n    <tr>\n      <th>M</th>\n      <td>88.888889</td>\n    </tr>\n    <tr>\n      <th rowspan=\"2\" valign=\"top\">executive</th>\n      <th>F</th>\n      <td>9.375000</td>\n    </tr>\n    <tr>\n      <th>M</th>\n      <td>90.625000</td>\n    </tr>\n    <tr>\n      <th rowspan=\"2\" valign=\"top\">healthcare</th>\n      <th>F</th>\n      <td>68.750000</td>\n    </tr>\n    <tr>\n      <th>M</th>\n      <td>31.250000</td>\n    </tr>\n    <tr>\n      <th rowspan=\"2\" valign=\"top\">homemaker</th>\n      <th>F</th>\n      <td>85.714286</td>\n    </tr>\n    <tr>\n      <th>M</th>\n      <td>14.285714</td>\n    </tr>\n    <tr>\n      <th rowspan=\"2\" valign=\"top\">lawyer</th>\n      <th>F</th>\n      <td>16.666667</td>\n    </tr>\n    <tr>\n      <th>M</th>\n      <td>83.333333</td>\n    </tr>\n    <tr>\n      <th rowspan=\"2\" valign=\"top\">librarian</th>\n      <th>F</th>\n      <td>56.862745</td>\n    </tr>\n    <tr>\n      <th>M</th>\n      <td>43.137255</td>\n    </tr>\n    <tr>\n      <th rowspan=\"2\" valign=\"top\">marketing</th>\n      <th>F</th>\n      <td>38.461538</td>\n    </tr>\n    <tr>\n      <th>M</th>\n      <td>61.538462</td>\n    </tr>\n    <tr>\n      <th rowspan=\"2\" valign=\"top\">none</th>\n      <th>F</th>\n      <td>44.444444</td>\n    </tr>\n    <tr>\n      <th>M</th>\n      <td>55.555556</td>\n    </tr>\n    <tr>\n      <th rowspan=\"2\" valign=\"top\">other</th>\n      <th>F</th>\n      <td>34.285714</td>\n    </tr>\n    <tr>\n      <th>M</th>\n      <td>65.714286</td>\n    </tr>\n    <tr>\n      <th rowspan=\"2\" valign=\"top\">programmer</th>\n      <th>F</th>\n      <td>9.090909</td>\n    </tr>\n    <tr>\n      <th>M</th>\n      <td>90.909091</td>\n    </tr>\n    <tr>\n      <th rowspan=\"2\" valign=\"top\">retired</th>\n      <th>F</th>\n      <td>7.142857</td>\n    </tr>\n    <tr>\n      <th>M</th>\n      <td>92.857143</td>\n    </tr>\n    <tr>\n      <th rowspan=\"2\" valign=\"top\">salesman</th>\n      <th>F</th>\n      <td>25.000000</td>\n    </tr>\n    <tr>\n      <th>M</th>\n      <td>75.000000</td>\n    </tr>\n    <tr>\n      <th rowspan=\"2\" valign=\"top\">scientist</th>\n      <th>F</th>\n      <td>9.677419</td>\n    </tr>\n    <tr>\n      <th>M</th>\n      <td>90.322581</td>\n    </tr>\n    <tr>\n      <th rowspan=\"2\" valign=\"top\">student</th>\n      <th>F</th>\n      <td>30.612245</td>\n    </tr>\n    <tr>\n      <th>M</th>\n      <td>69.387755</td>\n    </tr>\n    <tr>\n      <th rowspan=\"2\" valign=\"top\">technician</th>\n      <th>F</th>\n      <td>3.703704</td>\n    </tr>\n    <tr>\n      <th>M</th>\n      <td>96.296296</td>\n    </tr>\n    <tr>\n      <th rowspan=\"2\" valign=\"top\">writer</th>\n      <th>F</th>\n      <td>42.222222</td>\n    </tr>\n    <tr>\n      <th>M</th>\n      <td>57.777778</td>\n    </tr>\n  </tbody>\n</table>\n</div>"
     },
     "metadata": {},
     "execution_count": 52
    }
   ],
   "source": [
    "final_df.groupby(level=0).apply(lambda x:100 * x / float(x.sum()))"
   ]
  },
  {
   "cell_type": "code",
   "execution_count": 154,
   "metadata": {
    "collapsed": false
   },
   "outputs": [
    {
     "data": {
      "text/plain": [
       "occupation     gender\n",
       "administrator  F          45.569620\n",
       "               M          54.430380\n",
       "artist         F          46.428571\n",
       "               M          53.571429\n",
       "doctor         M         100.000000\n",
       "educator       F          27.368421\n",
       "               M          72.631579\n",
       "engineer       F           2.985075\n",
       "               M          97.014925\n",
       "entertainment  F          11.111111\n",
       "               M          88.888889\n",
       "executive      F           9.375000\n",
       "               M          90.625000\n",
       "healthcare     F          68.750000\n",
       "               M          31.250000\n",
       "homemaker      F          85.714286\n",
       "               M          14.285714\n",
       "lawyer         F          16.666667\n",
       "               M          83.333333\n",
       "librarian      F          56.862745\n",
       "               M          43.137255\n",
       "marketing      F          38.461538\n",
       "               M          61.538462\n",
       "none           F          44.444444\n",
       "               M          55.555556\n",
       "other          F          34.285714\n",
       "               M          65.714286\n",
       "programmer     F           9.090909\n",
       "               M          90.909091\n",
       "retired        F           7.142857\n",
       "               M          92.857143\n",
       "salesman       F          25.000000\n",
       "               M          75.000000\n",
       "scientist      F           9.677419\n",
       "               M          90.322581\n",
       "student        F          30.612245\n",
       "               M          69.387755\n",
       "technician     F           3.703704\n",
       "               M          96.296296\n",
       "writer         F          42.222222\n",
       "               M          57.777778\n",
       "Name: gender, dtype: float64"
      ]
     },
     "execution_count": 154,
     "metadata": {},
     "output_type": "execute_result"
    }
   ],
   "source": []
  }
 ],
 "metadata": {
  "kernelspec": {
   "display_name": "Python 3.8.3 64-bit",
   "language": "python",
   "name": "python38364bit61836de9583b4678983c2459e76af05f"
  },
  "language_info": {
   "codemirror_mode": {
    "name": "ipython",
    "version": 2
   },
   "file_extension": ".py",
   "mimetype": "text/x-python",
   "name": "python",
   "nbconvert_exporter": "python",
   "pygments_lexer": "ipython2",
   "version": "3.8.3-final"
  }
 },
 "nbformat": 4,
 "nbformat_minor": 0
}