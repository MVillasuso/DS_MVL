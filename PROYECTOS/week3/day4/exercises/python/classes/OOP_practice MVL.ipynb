{
 "cells": [
  {
   "cell_type": "markdown",
   "metadata": {},
   "source": [
    "# Classes "
   ]
  },
  {
   "cell_type": "markdown",
   "metadata": {},
   "source": [
    "### ¡Practice what you already know and keep learning!\n",
    "\n",
    "\n",
    "### MONICA VILLASUSO L."
   ]
  },
  {
   "cell_type": "markdown",
   "metadata": {},
   "source": [
    "-------------------------------------------------------------------------------------------------------"
   ]
  },
  {
   "cell_type": "markdown",
   "metadata": {},
   "source": [
    "## Exercise 1. "
   ]
  },
  {
   "cell_type": "markdown",
   "metadata": {},
   "source": [
    "A friend of yours have asked you to define a class so they can use it at the Natural History Museum in London in order to describe dinosaurs. \n",
    "\n",
    "Since you have no idea about dinosaurs he has given you a couple of instructions:\n",
    "\n",
    "   - Dinosaurs have four attributes all along the whole kind:\n",
    "        - They all have teeth, although every one of them have a different number of those\n",
    "        - Special skills which will be an empty list \n",
    "        - He finds interesting to specify if they are dangerous with a boolean, he also told you to set it False since usually they are very nice \n",
    "        - All of them have an only head\n",
    "        \n",
    "        \n",
    "   - Define also a couple of methods:\n",
    "   \n",
    "       - `many_teeth` --> number of teeth gives you a clue of how old the dinosaurs are, that's why it could be interesting to be able to change the number of teeth they have.\n",
    "       - `add_skill` --> this method add skills to each dinosaurs instance. \n",
    "       - `is_dangerous` --> not all of the dinosaurs are nice, some of them are a little bit dangerous and could attacks you, with this method you should be able to change the boolean set. Make sure, using `if`, the argument is always a boolean, if not print something like \"Remember you should give a boolean, True or False?\"\n"
   ]
  },
  {
   "cell_type": "code",
   "execution_count": 1,
   "metadata": {
    "tags": []
   },
   "outputs": [],
   "source": [
    "# define a class Dinosaur\n",
    "class Dinosaur():\n",
    "\n",
    "    def __init__(self, teeth_n, skills_l = [], danger = False ):\n",
    "        \"\"\"Constructor de la clase\"\"\"\n",
    "        \"\"\" Crea una instancia de la clase Dinosaur.\n",
    "            El único parámetro obligatorio es el número de dientes. Por defecto sus habilidades serán una lista vacía y se        \n",
    "            considerará No peligroso    \"\"\"\n",
    "\n",
    "        self.teeth = teeth_n\n",
    "        self.skills = skills_l\n",
    "        self.dangerous = danger\n",
    "        self.head = 1\n",
    "\n",
    "\n",
    "    def many_teeth (self, teeth_n):\n",
    "        self.teeth = teeth_n\n",
    "\n",
    "    def add_skill (self, skills_val):\n",
    "        self.skills.append(skills_val)\n",
    "\n",
    "    def is_dangerous(self, danger):\n",
    "        if  isinstance (danger, (bool)):\n",
    "            self.dangerous = danger\n",
    "        else:\n",
    "            print (\"Remember you should give a boolean, True or False?\")\n",
    "        "
   ]
  },
  {
   "cell_type": "markdown",
   "metadata": {},
   "source": [
    "Once you have the class Dinosaur and its methods defined, create an instance **tyrannosaurus**. Your friend has told you that Tyrannosaurus rex had 50 to 60 solid cone-shaped teeth as big as bananas. Set the number of teeth as 60 since you will have the opportunity of changing it later using the method `many_teeth`. "
   ]
  },
  {
   "cell_type": "code",
   "execution_count": 2,
   "metadata": {},
   "outputs": [],
   "source": [
    "# create an Tyrannosaurus rex with 60 teeth\n",
    "\n",
    "tyrannosaurus_rex = Dinosaur(60)"
   ]
  },
  {
   "cell_type": "markdown",
   "metadata": {},
   "source": [
    "Tyrannosaurus rex are the most dangerous dinosaurs so please, use the method `is_dangerous` with the argument \"yes, it is dangerous\", to set this up. It should return a message telling you to give a boolean, True or False, instead of the string you used as argument. "
   ]
  },
  {
   "cell_type": "code",
   "execution_count": 3,
   "metadata": {
    "tags": []
   },
   "outputs": [
    {
     "output_type": "stream",
     "name": "stdout",
     "text": "60\n[]\nFalse\n1\n"
    }
   ],
   "source": [
    "print(tyrannosaurus_rex.teeth)\n",
    "print(tyrannosaurus_rex.skills)\n",
    "print(tyrannosaurus_rex.dangerous)\n",
    "print(tyrannosaurus_rex.head)"
   ]
  },
  {
   "cell_type": "code",
   "execution_count": 4,
   "metadata": {
    "tags": []
   },
   "outputs": [
    {
     "output_type": "stream",
     "name": "stdout",
     "text": "Remember you should give a boolean, True or False?\n"
    }
   ],
   "source": [
    "# call is_dangerous method saying \"yes, it is dangerous\"\n",
    "tyrannosaurus_rex.is_dangerous (danger= \"yes, it is dangerous\")"
   ]
  },
  {
   "cell_type": "code",
   "execution_count": 5,
   "metadata": {},
   "outputs": [],
   "source": [
    "# call is_dangerous method with True as an argument\n",
    "tyrannosaurus_rex.is_dangerous (danger= True)"
   ]
  },
  {
   "cell_type": "markdown",
   "metadata": {},
   "source": [
    "Set \"lethality\" as an special skill of the tyrannosaurus rex using the `add_skill` method. "
   ]
  },
  {
   "cell_type": "code",
   "execution_count": 6,
   "metadata": {},
   "outputs": [],
   "source": [
    "# give lethality as an argument to the method add_skill\n",
    "tyrannosaurus_rex.add_skill(skills_val=\"lethality\")"
   ]
  },
  {
   "cell_type": "markdown",
   "metadata": {},
   "source": [
    "Show its `special_skill` to make sure you add the skill as expected."
   ]
  },
  {
   "cell_type": "code",
   "execution_count": 7,
   "metadata": {
    "tags": []
   },
   "outputs": [
    {
     "output_type": "stream",
     "name": "stdout",
     "text": "['lethality']\n"
    }
   ],
   "source": [
    "# show its special_skill \n",
    "print(tyrannosaurus_rex.skills)"
   ]
  },
  {
   "cell_type": "markdown",
   "metadata": {},
   "source": [
    "If you could add \"lethality\" to the tyrannosaurus special skills, let's try now adding \"strength\"."
   ]
  },
  {
   "cell_type": "code",
   "execution_count": 8,
   "metadata": {},
   "outputs": [],
   "source": [
    "# add strength to the list of special_skill\n",
    "tyrannosaurus_rex.add_skill(skills_val=\"strength\")"
   ]
  },
  {
   "cell_type": "markdown",
   "metadata": {},
   "source": [
    "Now, you know a lot about tyrannosaurus rex and found out the most of them lose some teeth due to their diet during their life, so 50 teeth should be more realistic. Use `many_teeth` method. "
   ]
  },
  {
   "cell_type": "code",
   "execution_count": 9,
   "metadata": {},
   "outputs": [],
   "source": [
    "# set 50 teeth as the number of teeth\n",
    "tyrannosaurus_rex.many_teeth(50)"
   ]
  },
  {
   "cell_type": "markdown",
   "metadata": {},
   "source": [
    "Show the tyrannosaurus rex's attributes defining a dictionary called `tyrannosaurus_data`. The keys should be the attributes: `teeth`, `danger`, `head`, `special_skill`, and the values those given to the attributes during the exercise.\n",
    "\n",
    "*Hint: You could solve this exercise using a function. Try google.* "
   ]
  },
  {
   "cell_type": "code",
   "execution_count": 10,
   "metadata": {
    "tags": []
   },
   "outputs": [
    {
     "output_type": "stream",
     "name": "stdout",
     "text": "{'teeth': 50, 'skills': ['lethality', 'strength'], 'dangerous': True, 'head': 1}\n"
    }
   ],
   "source": [
    "# create the tyrannosaurus_data dictionary\n",
    "\n",
    "tyrannosaurus_data = tyrannosaurus_rex.__dict__\n",
    "print (tyrannosaurus_data)"
   ]
  },
  {
   "cell_type": "markdown",
   "metadata": {},
   "source": [
    "### Bonus\n",
    "\n",
    "Try to define a function named `if_danger` which check if **Dinosaur** is dangerous and if it is, then return something like \"RUN FOR YOUR LIFE, THIS GUY IS HUNGRY AND EAT PEOPLE\", in case the dinosaur isn't dangerous return \"all good, nothing to fear\".\n",
    "\n",
    "Call the function using as an argument the attribute `danger` of the **tyrannosaurus**."
   ]
  },
  {
   "cell_type": "code",
   "execution_count": 11,
   "metadata": {
    "tags": []
   },
   "outputs": [],
   "source": [
    "# define if_danger with one parameter\n",
    "def is_danger (val):\n",
    "    if val is True:  \n",
    "        print(\"RUN FOR YOUR LIFE, THIS GUY IS HUNGRY AND EAT PEOPLE\")\n",
    "    else:\n",
    "        print(\"all good, nothing to fear\")\n",
    "\n"
   ]
  },
  {
   "cell_type": "code",
   "execution_count": 28,
   "metadata": {
    "tags": []
   },
   "outputs": [
    {
     "output_type": "stream",
     "name": "stdout",
     "text": "RUN FOR YOUR LIFE, THIS GUY IS HUNGRY AND EAT PEOPLE\n"
    }
   ],
   "source": [
    "# invoked the if_danger function\n",
    "is_danger (tyrannosaurus_rex.dangerous)"
   ]
  },
  {
   "cell_type": "markdown",
   "metadata": {},
   "source": [
    "## Exercise 2. "
   ]
  },
  {
   "cell_type": "markdown",
   "metadata": {},
   "source": [
    "A company is opening a bank, but the coder who is designing the user class made some errors. They need you to help them.\n",
    "\n",
    "You must include the following:\n",
    "\n",
    "**A withdraw method**\n",
    "- Subtracts money from balance\n",
    "- One parameter, money to withdraw\n",
    "- Raise ValueError if there isn't enough money to withdraw\n",
    "- Return a string with name and balence(see examples)\n",
    "\n",
    "**A check method**\n",
    "- Adds money to baleance\n",
    "- Two parameters, other user and money\n",
    "- Other user will always be valid\n",
    "- Raise a ValueError if other user doesn't have enough money\n",
    "- Raise a ValueError if checking_account isn't true for other user\n",
    "- Return a string with name and balance plus other name and other balance(see examples)\n",
    "\n",
    "**An add_cash method**\n",
    "- Adds money to balance\n",
    "- One parameter, money to add\n",
    "- Return a string with name and balance(see examples)\n",
    "\n",
    "**Additional Notes:**\n",
    "\n",
    "- Checking_account should be stored as a boolean\n",
    "- No input numbers will be negitive\n",
    "- Output must end with period\n",
    "- Float numbers will not be used so, balance should be integer\n",
    "- No currency will be used"
   ]
  },
  {
   "cell_type": "markdown",
   "metadata": {},
   "source": [
    "KATA --> https://www.codewars.com/kata/5a03af9606d5b65ff7000009"
   ]
  },
  {
   "cell_type": "markdown",
   "metadata": {},
   "source": [
    "**If you dare trying to solve this problem, you'll need this:** https://www.w3schools.com/python/gloss_python_raise.asp"
   ]
  },
  {
   "cell_type": "code",
   "execution_count": 66,
   "metadata": {},
   "outputs": [],
   "source": [
    "#your code here\n",
    "class User():\n",
    "    def __init__(self, nombre, saldo = 0, ok = True ):\n",
    "        \"\"\"Constructor de la clase\"\"\"\n",
    "        \"\"\" Crea una instancia de la clase User.  \"\"\"\n",
    "          \n",
    "        self.name = nombre\n",
    "        self.balance = saldo\n",
    "        self.checking = ok\n",
    "\n",
    "    def print_balance (self):\n",
    "        print ( \"Usuario: \" , self.name , \"Current Balance: \" , str(self.balance) )\n",
    "\n",
    "    def withdraw (self, monto):\n",
    "        if monto <= self.balance:    \n",
    "            self.balance -=  monto  \n",
    "            self.print_balance()\n",
    "        else:\n",
    "            print(\"ERROR: There isn't enough money to withdraw\")\n",
    "            \n",
    "\n",
    "    def add_cash (self, monto):\n",
    "            self.balance +=  monto  \n",
    "            self.print_balance()\n",
    "\n",
    "    def checking_account(self, ok):\n",
    "        self.checking = ok\n",
    "    \n",
    "    def check_acc(self, user2, monto):\n",
    "        if user2.checking:\n",
    "            if monto >=0:\n",
    "                if monto > user2.balance:\n",
    "                    print(\"ERROR: User: \" + user2.name + \" doesn't have enough money.\")\n",
    "                else:\n",
    "                    self.balance += monto\n",
    "                    user2.balance -= monto\n",
    "                    self.print_balance()\n",
    "                    user2.print_balance()\n",
    "            else:\n",
    "                print(\"ERROR: The amount can't be negative\")\n",
    "        else:\n",
    "           print (\"ERROR: Checking_account isn't true for: \"+ user2.name)\n"
   ]
  },
  {
   "cell_type": "code",
   "execution_count": 67,
   "metadata": {
    "tags": []
   },
   "outputs": [],
   "source": [
    "Monica =  User(nombre = \"Monica\", saldo = 1000)\n",
    "Pedro =  User (nombre= \"Pedro Antonio\", saldo = 2800, ok = False)\n",
    "\n"
   ]
  },
  {
   "cell_type": "code",
   "execution_count": 68,
   "metadata": {
    "tags": []
   },
   "outputs": [
    {
     "output_type": "stream",
     "name": "stdout",
     "text": "Usuario:  Monica Current Balance:  900\nUsuario:  Pedro Antonio Current Balance:  3500\n"
    }
   ],
   "source": [
    "\n",
    "Monica.withdraw(100)\n",
    "\n",
    "Pedro.add_cash (700)\n",
    "\n"
   ]
  },
  {
   "cell_type": "code",
   "execution_count": 69,
   "metadata": {
    "tags": []
   },
   "outputs": [
    {
     "output_type": "stream",
     "name": "stdout",
     "text": "ERROR: Checking_account isn't true for: Pedro Antonio\n"
    }
   ],
   "source": [
    "Monica.check_acc (Pedro, 300)\n",
    "\n",
    "\n"
   ]
  },
  {
   "cell_type": "code",
   "execution_count": 70,
   "metadata": {},
   "outputs": [],
   "source": [
    "Pedro.checking_account(True)\n",
    "\n"
   ]
  },
  {
   "cell_type": "code",
   "execution_count": 71,
   "metadata": {
    "tags": []
   },
   "outputs": [
    {
     "output_type": "stream",
     "name": "stdout",
     "text": "Usuario:  Monica Current Balance:  1200\nUsuario:  Pedro Antonio Current Balance:  3200\n"
    }
   ],
   "source": [
    "Monica.check_acc (Pedro, 300)"
   ]
  },
  {
   "cell_type": "code",
   "execution_count": 72,
   "metadata": {
    "tags": []
   },
   "outputs": [
    {
     "output_type": "stream",
     "name": "stdout",
     "text": "ERROR: There isn't enough money to withdraw\n"
    }
   ],
   "source": [
    "Monica.withdraw(2000)"
   ]
  },
  {
   "cell_type": "code",
   "execution_count": 73,
   "metadata": {
    "tags": []
   },
   "outputs": [
    {
     "output_type": "stream",
     "name": "stdout",
     "text": "ERROR: User: Pedro Antonio doesn't have enough money.\n"
    }
   ],
   "source": [
    "Monica.check_acc (Pedro, 5000)"
   ]
  },
  {
   "cell_type": "code",
   "execution_count": 74,
   "metadata": {
    "tags": []
   },
   "outputs": [
    {
     "output_type": "stream",
     "name": "stdout",
     "text": "ERROR: The amount can't be negative\n"
    }
   ],
   "source": [
    "Monica.check_acc (Pedro, -5000)"
   ]
  },
  {
   "cell_type": "code",
   "execution_count": null,
   "metadata": {},
   "outputs": [],
   "source": []
  }
 ],
 "metadata": {
  "kernelspec": {
   "display_name": "Python 3",
   "language": "python",
   "name": "python3"
  },
  "language_info": {
   "codemirror_mode": {
    "name": "ipython",
    "version": 3
   },
   "file_extension": ".py",
   "mimetype": "text/x-python",
   "name": "python",
   "nbconvert_exporter": "python",
   "pygments_lexer": "ipython3",
   "version": "3.7.6-final"
  }
 },
 "nbformat": 4,
 "nbformat_minor": 4
}