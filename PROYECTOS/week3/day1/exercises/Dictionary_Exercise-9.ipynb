{
 "cells": [
  {
   "cell_type": "markdown",
   "metadata": {},
   "source": [
    "### 9. Ejercicios: \n",
    "\n",
    "- Crea dos listas: una que tenga 4 nombres de ciudades y otra que tenga 4 lugares emblemáticos de la ciudad. "
   ]
  },
  {
   "cell_type": "code",
   "execution_count": 4,
   "metadata": {
    "tags": []
   },
   "outputs": [
    {
     "output_type": "stream",
     "name": "stdout",
     "text": "['Madrid', 'Roma', 'Paris', 'Florencia']\n['Retiro', 'Coliseo', 'Torre Eiffel', 'Ponte Vecchio']\n"
    }
   ],
   "source": [
    "# Code\n",
    "ciudades = [\"Madrid\", \"Roma\", \"Paris\" , \"Florencia\"]\n",
    "landmarks  = [\"Retiro\", \"Coliseo\" , \"Torre Eiffel\" , \"Ponte Vecchio\"]\n",
    "print (ciudades)\n",
    "print(landmarks)"
   ]
  },
  {
   "cell_type": "markdown",
   "metadata": {},
   "source": [
    "### A partir de funciones con diccionarios:\n",
    "\n",
    "- Crea un diccionario con un entero 5 como key y \"val\" como su value. "
   ]
  },
  {
   "cell_type": "code",
   "execution_count": 1,
   "metadata": {
    "tags": []
   },
   "outputs": [
    {
     "output_type": "stream",
     "name": "stdout",
     "text": "{5: 'val'}\n<class 'dict'>\n"
    }
   ],
   "source": [
    "# Code\n",
    "dicc = {5:\"val\"}\n",
    "print(dicc)\n",
    "print (type(dicc))"
   ]
  },
  {
   "cell_type": "markdown",
   "metadata": {},
   "source": [
    "- Crea una función que a reciba dos listas 'lista1' y 'lista2' por parámetro y retorne un diccionario teniendo como keys cada elemento de 'lista1' y como values los elementos de 'lista2'. Llama a la función con las listas que has creado antes para que devuelva un diccionario con cada ciudad como key asociado a un lugar emblemático como value. \n"
   ]
  },
  {
   "cell_type": "code",
   "execution_count": 9,
   "metadata": {
    "tags": []
   },
   "outputs": [
    {
     "output_type": "stream",
     "name": "stdout",
     "text": "{'Madrid': 'Retiro', 'Roma': 'Coliseo', 'Paris': 'Torre Eiffel', 'Florencia': 'Ponte Vecchio'}\n"
    }
   ],
   "source": [
    "# Code\n",
    "def crear_dicc (lista1, lista2):\n",
    "    dicc ={}\n",
    "    for j in range (len(lista1)):\n",
    "        dicc[lista1[j]] = lista2[j]\n",
    "    return dicc\n",
    "\n",
    "diccionario = crear_dicc (ciudades, landmarks)\n",
    "print(diccionario)\n"
   ]
  },
  {
   "cell_type": "markdown",
   "metadata": {},
   "source": [
    "*Hay que utilizar la lista de alumn@s con sus nombres y alturas*\n",
    "\n",
    "- Crea una función que, a partir de dos listas, retorne un diccionario en el que cada key sea el nombre de un alumno y su value debe ser la altura."
   ]
  },
  {
   "cell_type": "code",
   "execution_count": 19,
   "metadata": {
    "tags": []
   },
   "outputs": [
    {
     "output_type": "stream",
     "name": "stdout",
     "text": "lista_nombres: ['Jalex', 'Tomas', 'David', 'Natalio', 'Monica', 'Roxanna', 'Filipa', 'Elsa', 'Cristina', 'Clara', 'Alba', 'Valeria', 'Jose Luis', 'Gabriel', 'Rochi', 'Jose Maria'] \n\nlista_alturas: [1.8, 1.8, 1.81, 1.73, 1.73, 1.75, 1.64, 1.89, 1.7, 1.67, 1.68, 1.6, 1.69, 1.76, 1.6, 1.75] \n\n{'Jalex': 1.8, 'Tomas': 1.8, 'David': 1.81, 'Natalio': 1.73, 'Monica': 1.73, 'Roxanna': 1.75, 'Filipa': 1.64, 'Elsa': 1.89, 'Cristina': 1.7, 'Clara': 1.67, 'Alba': 1.68, 'Valeria': 1.6, 'Jose Luis': 1.69, 'Gabriel': 1.76, 'Rochi': 1.6, 'Jose Maria': 1.75}\n"
    }
   ],
   "source": [
    "# Code\n",
    "lista_completa = [[\"Jalex\", 6, 47, 1.80], [\"Tomas\", 5, 31, 1.80], [\"David\", 6, 39, 1.81], [\"Natalio\", 2, 29, 1.73], [\"Monica\", 3, 47, 1.73], [\"Roxanna\", 4,24,1.75], [\"Filipa\", 5,34,1.64], [\"Elsa\", 4, 36, 1.89], [\"Cristina\", 3, 46, 1.70], [\"Clara\", 6, 29, 1.67], [\"Alba\", 3, 29, 1.68], [\"Valeria\",1, 40, 1.60], [\"Jose Luis\", 4, 47, 1.69], [\"Gabriel\", 1, 28, 1.76], [\"Rochi\", 2, 38, 1.60], [\"Jose Maria\", 5, 51, 1.75]]\n",
    "\n",
    "\n",
    "lista_nombres= [elem[0] for elem in lista_completa]\n",
    "print(\"lista_nombres:\" , lista_nombres, \"\\n\")\n",
    "\n",
    "lista_alturas = [elem[-1] for elem in lista_completa]\n",
    "print (\"lista_alturas:\" , lista_alturas, \"\\n\")\n",
    "\n",
    "dicc2 = crear_dicc (lista_nombres, lista_alturas)\n",
    "print (dicc2)\n"
   ]
  },
  {
   "cell_type": "code",
   "execution_count": null,
   "metadata": {},
   "outputs": [],
   "source": []
  }
 ],
 "metadata": {
  "language_info": {
   "codemirror_mode": {
    "name": "ipython",
    "version": 3
   },
   "file_extension": ".py",
   "mimetype": "text/x-python",
   "name": "python",
   "nbconvert_exporter": "python",
   "pygments_lexer": "ipython3",
   "version": "3.7.6-final"
  },
  "orig_nbformat": 2,
  "kernelspec": {
   "name": "python3",
   "display_name": "Python 3"
  }
 },
 "nbformat": 4,
 "nbformat_minor": 2
}