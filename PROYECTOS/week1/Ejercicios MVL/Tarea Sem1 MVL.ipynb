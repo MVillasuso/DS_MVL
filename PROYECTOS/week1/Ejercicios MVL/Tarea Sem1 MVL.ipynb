{
 "cells": [
  {
   "cell_type": "markdown",
   "metadata": {},
   "source": [
    "# TASK -  TIPOS DE DATOS SIMPLES\n",
    "\n",
    "## Ejercicio 1\n",
    "Escribir un programa que muestre por pantalla la cadena ¡Hola Mundo!.."
   ]
  },
  {
   "cell_type": "code",
   "execution_count": 3,
   "metadata": {
    "tags": []
   },
   "outputs": [
    {
     "output_type": "stream",
     "name": "stdout",
     "text": "¡Hola Mundo!\n"
    }
   ],
   "source": [
    "print(\"¡Hola Mundo!\")\n"
   ]
  },
  {
   "cell_type": "markdown",
   "metadata": {},
   "source": [
    "----------\n",
    "## Ejercicio 2\n",
    "Escribir un programa que almacene la cadena ¡Hola Mundo! en una variable y luego muestre por pantalla el contenido de la variable.\n"
   ]
  },
  {
   "cell_type": "code",
   "execution_count": 2,
   "metadata": {
    "tags": []
   },
   "outputs": [
    {
     "output_type": "stream",
     "name": "stdout",
     "text": "¡Hola Mundo!\n"
    }
   ],
   "source": [
    "message = \"¡Hola Mundo!\"\n",
    "print(message)"
   ]
  },
  {
   "cell_type": "markdown",
   "metadata": {},
   "source": [
    "----------\n",
    "## Ejercicio 3\n",
    "Escribir un programa que pregunte el nombre del usuario en la consola y después de que el usuario lo introduzca muestre por pantalla la cadena ¡Hola <nombre>!, donde <nombre> es el nombre que el usuario haya introducido.\n"
   ]
  },
  {
   "cell_type": "code",
   "execution_count": 6,
   "metadata": {
    "tags": []
   },
   "outputs": [
    {
     "output_type": "stream",
     "name": "stdout",
     "text": "Hola Monica!\n"
    }
   ],
   "source": [
    "user_name = input(\"Nommbre de usuario: \")\n",
    "print(\"Hola \" + user_name + \"!\")"
   ]
  },
  {
   "cell_type": "markdown",
   "metadata": {},
   "source": [
    "----------\n",
    "## Ejercicio 4\n",
    "Escribir un programa que pregunte el nombre del usuario en la consola y un número entero e imprima por pantalla en líneas distintas el nombre del usuario tantas veces como el número introducido.\n"
   ]
  },
  {
   "cell_type": "code",
   "execution_count": 10,
   "metadata": {
    "tags": []
   },
   "outputs": [
    {
     "output_type": "stream",
     "name": "stdout",
     "text": "Monica\nMonica\nMonica\nMonica\nMonica\n\n"
    }
   ],
   "source": [
    "user_name = input (\"Cual es tu nombre?: \")\n",
    "repetir = input (\"Escribe un numero: \")\n",
    "print((user_name + \"\\n\") * int(repetir))     #Hay que convertir el numero de entrada a entero para poder multiplicarlo"
   ]
  },
  {
   "cell_type": "markdown",
   "metadata": {},
   "source": [
    "----------\n",
    "## Ejercicio 5\n",
    "Escribir un programa que pregunte el nombre del usuario en la consola y después de que el usuario lo introduzca muestre por pantalla <NOMBRE> tiene <n> letras, donde <NOMBRE> es el nombre de usuario en mayúsculas y <n> es el número de letras que tienen el nombre.\n"
   ]
  },
  {
   "cell_type": "code",
   "execution_count": 18,
   "metadata": {
    "tags": []
   },
   "outputs": [
    {
     "output_type": "stream",
     "name": "stdout",
     "text": "MONICA tiene 6 letras.\n"
    }
   ],
   "source": [
    "user_name = input (\"Cual es tu nombre?: \")\n",
    "resultado = user_name.upper() + \" tiene \" +  str(len(user_name)) + \" letras.\"\n",
    "print(resultado)\n",
    "\n"
   ]
  },
  {
   "cell_type": "markdown",
   "metadata": {},
   "source": [
    "----------\n",
    "## Ejercicio 6\n",
    "Escribir un programa que realice la siguiente operación aritmética ((3+2 / 2⋅5)) ^2"
   ]
  },
  {
   "cell_type": "code",
   "execution_count": 19,
   "metadata": {
    "tags": []
   },
   "outputs": [
    {
     "output_type": "stream",
     "name": "stdout",
     "text": "0.25\n"
    }
   ],
   "source": [
    "numerador = 3+2\n",
    "denominador = 2*5\n",
    "resultado = (numerador/denominador)**2\n",
    "print(resultado)\n"
   ]
  },
  {
   "cell_type": "markdown",
   "metadata": {},
   "source": [
    "----------\n",
    "## Ejercicio 7\n",
    "Escribir un programa que pregunte al usuario por el número de horas trabajadas y el coste por hora. Después debe mostrar por pantalla la paga que le corresponde."
   ]
  },
  {
   "cell_type": "code",
   "execution_count": 26,
   "metadata": {
    "tags": []
   },
   "outputs": [
    {
     "output_type": "stream",
     "name": "stdout",
     "text": "horas trabajadas: 120\ncosto x hora: 2.5\nte corresponde cobrar: 300.0 euros\n"
    }
   ],
   "source": [
    "horas = input (\"Indica cuantas horas trabajaste: \")\n",
    "print(\"horas trabajadas: \" + str(horas))\n",
    "costexhora = input (\"cual es el costo de la hora?: \")\n",
    "print(\"costo x hora: \" + str(costexhora))\n",
    "print(\"te corresponde cobrar: \" + str((float(horas) * float(costexhora))) + \" euros\")"
   ]
  },
  {
   "cell_type": "markdown",
   "metadata": {},
   "source": [
    "----------\n",
    "## Ejercicio 8\n",
    "\n",
    "Escribir un programa que lea un entero positivo, n\n",
    ", introducido por el usuario y después muestre en pantalla la suma de todos los enteros desde 1 hasta n\n",
    ". La suma de los n\n",
    " primeros enteros positivos puede ser calculada de la siguiente forma:\n",
    "\n",
    "suma=n(n+1)2\n"
   ]
  },
  {
   "cell_type": "code",
   "execution_count": 28,
   "metadata": {
    "tags": []
   },
   "outputs": [
    {
     "output_type": "stream",
     "name": "stdout",
     "text": "10.0\n"
    }
   ],
   "source": [
    "numero = int(input(\"Introduce un numero entero: \"))\n",
    "suma_total = (numero * (numero + 1))/ 2\n",
    "print(suma_total)"
   ]
  },
  {
   "cell_type": "markdown",
   "metadata": {},
   "source": [
    "---------\n",
    "## Ejercicio 9\n",
    "Escribir un programa que pida al usuario su peso (en kg) y estatura (en metros), calcule el índice de masa corporal y lo almacene en una variable, y muestre por pantalla la frase Tu índice de masa corporal es <imc> donde <imc> es el índice de masa corporal calculado redondeado con dos decimales.\n",
    "\n"
   ]
  },
  {
   "cell_type": "code",
   "execution_count": 37,
   "metadata": {
    "tags": []
   },
   "outputs": [
    {
     "output_type": "stream",
     "name": "stdout",
     "text": "Peso: 60 Kgs\nTalla: 1.73 mts\nTu indice de masa corporal es: 20.05\n"
    }
   ],
   "source": [
    "peso =  input(\"Indica tu peso en kg\")\n",
    "print(\"Peso: \" + peso + \" Kgs\")\n",
    "talla =  input(\"Indica tu talla en metros :\")\n",
    "print(\"Talla: \" + talla + \" mts\")\n",
    "imc= float(peso) / float(talla)**2\n",
    "print (\"Tu indice de masa corporal es: \" + str (round(imc,2)))"
   ]
  },
  {
   "cell_type": "markdown",
   "metadata": {},
   "source": [
    "## Ejercicio 10\n",
    "Escribir un programa que pida al usuario dos números enteros y muestre por pantalla la <n> entre <m> da un cociente <c> y un resto <r> donde <n> y <m> son los números introducidos por el usuario, y <c> y <r> son el cociente y el resto de la división entera respectivamente."
   ]
  },
  {
   "cell_type": "code",
   "execution_count": 38,
   "metadata": {
    "tags": []
   },
   "outputs": [
    {
     "output_type": "stream",
     "name": "stdout",
     "text": "Al dividir 10 entre 3 el cociente es: 3 y el resto es: 1\n"
    }
   ],
   "source": [
    "dividendo = input(\"Introduce el dividendo: \")\n",
    "divisor = input (\"Introduce el divisor: \")\n",
    "cociente = int(dividendo)//int(divisor)\n",
    "resto = int(dividendo) % int(divisor)\n",
    "print(\"Al dividir \" + str(dividendo)  + \" entre \" + str(divisor) + \" el cociente es: \" + str(cociente) + \" y el resto es: \" + str(resto))\n"
   ]
  },
  {
   "cell_type": "markdown",
   "metadata": {},
   "source": [
    "## Ejercicio 14\n",
    "\n",
    "Una panadería vende barras de pan a 3.49€ cada una. El pan que no es el día tiene un descuento del 60%. Escribir un programa que comience leyendo el número de barras vendidas que no son del día. Después el programa debe mostrar el precio habitual de una barra de pan, el descuento que se le hace por no ser fresca y el coste final total."
   ]
  },
  {
   "cell_type": "code",
   "execution_count": 46,
   "metadata": {
    "tags": []
   },
   "outputs": [
    {
     "output_type": "stream",
     "name": "stdout",
     "text": "El precio habitual de la barra es de 3.49 euros\nEl descuento es: 60%\nEl coste total fue de 209.4 euros\n"
    }
   ],
   "source": [
    "venta_no_del_dia = input(\"Cuantas barras que no eran de hoy se vendieron?: \")\n",
    "precio = 3.49\n",
    "print(\"El precio habitual de la barra es de \" + str(precio) + \" euros\")\n",
    "descuento = 60\n",
    "print(\"El descuento es: \" + str(descuento) + \"%\")\n",
    "precio_con_descto = precio * descuento/100\n",
    "total_venta = round( float(venta_no_del_dia) * precio_con_descto, 2)\n",
    "print (\"El coste total fue de \" + str(total_venta) + \" euros\") "
   ]
  },
  {
   "cell_type": "markdown",
   "metadata": {},
   "source": [
    "# TASK - TIPOS DE DATOS CONDICIONALES\n",
    "\n",
    "## Ejercicio 1\n",
    "Escribir un programa que pregunte al usuario su edad y muestre por pantalla si es mayor de edad o no."
   ]
  },
  {
   "cell_type": "code",
   "execution_count": 50,
   "metadata": {
    "tags": []
   },
   "outputs": [
    {
     "output_type": "stream",
     "name": "stdout",
     "text": "Es menor de edad\n"
    }
   ],
   "source": [
    "edad = input (\"Introduce tu edad: \")\n",
    "if int(edad) > 18:\n",
    "    print(\"Es mayor de edad\")\n",
    "else:\n",
    "    print(\"Es menor de edad\")\n"
   ]
  },
  {
   "cell_type": "markdown",
   "metadata": {},
   "source": [
    "## Ejercicio 2\n",
    "Escribir un programa que almacene la cadena de caracteres contraseña en una variable, pregunte al usuario por la contraseña e imprima por pantalla si la contraseña introducida por el usuario coincide con la guardada en la variable sin tener en cuenta mayúsculas y minúsculas."
   ]
  },
  {
   "cell_type": "code",
   "execution_count": 56,
   "metadata": {
    "tags": []
   },
   "outputs": [
    {
     "output_type": "stream",
     "name": "stdout",
     "text": "Es correcta\n"
    }
   ],
   "source": [
    "contrasena = \"prueba\"\n",
    "pass_usuario= input(\"Indique la contraseña: \")\n",
    "if contrasena.upper() == pass_usuario.upper():\n",
    "    print(\"Es correcta\")\n",
    "else:\n",
    "    print (\"Es incorrecta\")"
   ]
  },
  {
   "cell_type": "markdown",
   "metadata": {},
   "source": [
    "## Ejercicio 3\n",
    "Escribir un programa que pida al usuario dos números y muestre por pantalla su división. Si el divisor es cero el programa debe mostrar un error."
   ]
  },
  {
   "cell_type": "code",
   "execution_count": 59,
   "metadata": {
    "tags": []
   },
   "outputs": [
    {
     "output_type": "stream",
     "name": "stdout",
     "text": "El resultado es : 2.0\n"
    }
   ],
   "source": [
    "dividendo = int(input (\"Indique el dividendo: \"))\n",
    "divisor = int(input (\"Indique el divisor: \"))\n",
    "if divisor == 0:\n",
    "    print (\"Error: El divisor no puede ser cero\")\n",
    "else:\n",
    "    print(\"El resultado es : \"+ str(dividendo / divisor))\n"
   ]
  },
  {
   "cell_type": "markdown",
   "metadata": {},
   "source": [
    "## Ejercicio 4\n",
    "Escribir un programa que pida al usuario un número entero y muestre por pantalla si es par o impar.\n"
   ]
  },
  {
   "cell_type": "code",
   "execution_count": 61,
   "metadata": {
    "tags": []
   },
   "outputs": [
    {
     "output_type": "stream",
     "name": "stdout",
     "text": "Es par\n"
    }
   ],
   "source": [
    "tiponum= int(input (\"Introduzca un numero: \"))\n",
    "if tiponum % 2 == 0:\n",
    "    print(\"Es par\")\n",
    "else:\n",
    "    print(\"Es impar\")\n",
    "\n"
   ]
  },
  {
   "cell_type": "markdown",
   "metadata": {},
   "source": [
    "## Ejercicio 5\n",
    "Para tributar un determinado impuesto se debe ser mayor de 16 años y tener unos ingresos iguales o superiores a 1000 € mensuales. Escribir un programa que pregunte al usuario su edad y sus ingresos mensuales y muestre por pantalla si el usuario tiene que tributar o no."
   ]
  },
  {
   "cell_type": "code",
   "execution_count": 65,
   "metadata": {
    "tags": []
   },
   "outputs": [
    {
     "output_type": "stream",
     "name": "stdout",
     "text": "Debe tributar\n"
    }
   ],
   "source": [
    "ingresos = int (input(\"Indique sus ingresos mensuales: \"))\n",
    "edad = int (input (\"Indique su edad\"))\n",
    "if ingresos >=1000 and edad > 16:\n",
    "    print(\"Usted debe tributar\")\n",
    "\n",
    "else:\n",
    "    print(\"Usted no debe tributar\")"
   ]
  },
  {
   "cell_type": "markdown",
   "metadata": {},
   "source": [
    "## Ejercicio 6\n",
    "Los alumnos de un curso se han dividido en dos grupos A y B de acuerdo al sexo y el nombre. El grupo A esta formado por las mujeres con un nombre anterior a la M y los hombres con un nombre posterior a la N y el grupo B por el resto. Escribir un programa que pregunte al usuario su nombre y sexo, y muestre por pantalla el grupo que le corresponde."
   ]
  },
  {
   "cell_type": "code",
   "execution_count": 70,
   "metadata": {
    "tags": []
   },
   "outputs": [
    {
     "output_type": "stream",
     "name": "stdout",
     "text": "Grupo A\n"
    }
   ],
   "source": [
    "nombre= input (\"Escribe tu nombre: \")\n",
    "sexo = input (\"Eres mujer?: responde (S/N)\")\n",
    "\n",
    "if (nombre.lower()< \"m\" and sexo.upper() == \"S\")  or (nombre.lower() > \"n\"  and sexo.upper() ==\"N\"):\n",
    "    print (\"Grupo A\")\n",
    "else:\n",
    "    print (\"Grupo B\")"
   ]
  },
  {
   "cell_type": "markdown",
   "metadata": {},
   "source": [
    "## Ejercicio 7\n",
    "Los tramos impositivos para la declaración de la renta en un determinado país son los siguientes:\n",
    "\n",
    "Renta\tTipo impositivo\n",
    "Menos de 10000€\t5%\n",
    "Entre 10000€ y 20000€\t15%\n",
    "Entre 200000€ y 35000€\t20%\n",
    "Entre 350000€ y 60000€\t30%\n",
    "Más de 60000€\t45%\n",
    "Escribir un programa que pregunte al usuario su renta anual y muestre por pantalla el tipo impositivo que le corresponde.\n"
   ]
  },
  {
   "cell_type": "code",
   "execution_count": 74,
   "metadata": {
    "tags": []
   },
   "outputs": [
    {
     "output_type": "stream",
     "name": "stdout",
     "text": "Tipo impositivo: 45%\n"
    }
   ],
   "source": [
    "renta = int(input (\"Indica tu renta anual\"))\n",
    "if renta > 60000:\n",
    "    print(\"Tipo impositivo: 45%\")\n",
    "elif renta >35000 and renta <=60000:\n",
    "    print(\"Tipo impositivo: 30%\")\n",
    "elif renta >20000 and renta <=35000:\n",
    "    print(\"Tipo impositivo: 20%\")\n",
    "elif renta >10000 and renta <=20000:\n",
    "    print(\"Tipo impositivo: 15%\")\n",
    "else:\n",
    "     print(\"Tipo impositivo: 5%\")\n",
    "\n"
   ]
  },
  {
   "cell_type": "markdown",
   "metadata": {},
   "source": [
    "## Ejercicio 8\n",
    "En una determinada empresa, sus empleados son evaluados al final de cada año. Los puntos que pueden obtener en la evaluación comienzan en 0.0 y pueden ir aumentando, traduciéndose en mejores beneficios. Los puntos que pueden conseguir los empleados pueden ser 0.0, 0.4, 0.6 o más, pero no valores intermedios entre las cifras mencionadas. A continuación se muestra una tabla con los niveles correspondientes a cada puntuación. La cantidad de dinero conseguida en cada nivel es de 2.400€ multiplicada por la puntuación del nivel.\n",
    "\n",
    "Nivel\tPuntuación\n",
    "Inaceptable\t0.0\n",
    "Aceptable\t0.4\n",
    "Meritorio\t0.6 o más\n",
    "Escribir un programa que lea la puntuación del usuario e indique su nivel de rendimiento, así como la cantidad de dinero que recibirá el usuario."
   ]
  },
  {
   "cell_type": "code",
   "execution_count": 47,
   "metadata": {
    "tags": []
   },
   "outputs": [
    {
     "output_type": "stream",
     "name": "stdout",
     "text": "Su rendimiento es Meritorio y recibirá 2160.0 euros\n"
    }
   ],
   "source": [
    "puntuacion=  float (input (\"Introduce tu puntuación: (0.0, 0.4, 0.6\"))\n",
    "inaceptable = 0.0\n",
    "aceptable = 0.4\n",
    "meritorio = 0.6\n",
    "\n",
    "valor = 2400\n",
    "if puntuacion >= meritorio:\n",
    "    rendimiento = \"Meritorio\"\n",
    "elif  puntuacion == aceptable:\n",
    "    rendimiento = \"Aceptable\"    \n",
    "elif puntuacion == inaceptable:\n",
    "    rendimiento = \"Inaceptable\"   \n",
    "else:\n",
    "    rendimiento = \"Invalido\"\n",
    "\n",
    "if rendimiento == \"Invalido\":\n",
    "    print(\"Puntuacion inválida\")\n",
    "else:\n",
    "    print(\"Su rendimiento es \" + str(rendimiento) + \" y recibirá \" + str(valor * puntuacion) + \" euros\")\n",
    "\n",
    "\n"
   ]
  },
  {
   "cell_type": "markdown",
   "metadata": {},
   "source": [
    "## Ejercicio 9\n",
    "Escribir un programa para una empresa que tiene salas de juegos para todas las edades y quiere calcular de forma automática el precio que debe cobrar a sus clientes por entrar. El programa debe preguntar al usuario la edad del cliente y mostrar el precio de la entrada. Si el cliente es menor de 4 años puede entrar gratis, si tiene entre 4 y 18 años debe pagar 5€ y si es mayor de 18 años, 10€."
   ]
  },
  {
   "cell_type": "code",
   "execution_count": 15,
   "metadata": {
    "tags": []
   },
   "outputs": [
    {
     "output_type": "stream",
     "name": "stdout",
     "text": "El monto a pagar es de 10 €\n"
    }
   ],
   "source": [
    "# Valor de la entrada por edad\n",
    "entrada_ninos = 0\n",
    "entrada_jovenes = 5\n",
    "entrada_adultos = 10\n",
    "\n",
    "edad = int (input (\"Introduce tu edad: \"))\n",
    "\n",
    "if edad <4:\n",
    "    entrada = entrada_ninos\n",
    "elif edad >=4 and edad <18:\n",
    "    entrada = entrada_jovenes\n",
    "else:\n",
    "    entrada = entrada_adultos\n",
    "\n",
    "print(\"El monto a pagar es de \" +  str(entrada) + \" €\")"
   ]
  },
  {
   "cell_type": "markdown",
   "metadata": {},
   "source": [
    "## Ejercicio 10\n",
    "La pizzería Bella Napoli ofrece pizzas vegetarianas y no vegetarianas a sus clientes. Los ingredientes para cada tipo de pizza aparecen a continuación.\n",
    "\n",
    "Ingredientes vegetarianos: Pimiento y tofu.\n",
    "Ingredientes no vegetarianos: Peperoni, Jamón y Salmón.\n",
    "Escribir un programa que pregunte al usuario si quiere una pizza vegetariana o no, y en función de su respuesta le muestre un menú con los ingredientes disponibles para que elija. Solo se puede eligir un ingrediente además de la mozzarella y el tomate que están en todas la pizzas. Al final se debe mostrar por pantalla si la pizza elegida es vegetariana o no y todos los ingredientes que lleva."
   ]
  },
  {
   "cell_type": "code",
   "execution_count": null,
   "metadata": {},
   "outputs": [],
   "source": []
  },
  {
   "cell_type": "code",
   "execution_count": 45,
   "metadata": {
    "tags": []
   },
   "outputs": [
    {
     "output_type": "stream",
     "name": "stdout",
     "text": "Selecciona un ingrediente:{1: 'Peperoni', 2: 'Jamon', 3: 'Salmon'}\n\nPizza No Vegetariana con ['Tomate', 'Mozzarella'] y Jamon\n"
    }
   ],
   "source": [
    "tipo_pizza = {1: \"Vegetariana\", 2: \"No Vegetariana\"}\n",
    "ing_vegetarianos = {1: \"Pimiento\" , 2: \"Tofu\"}\n",
    "ing_no_vegetarianos = {1: \"Peperoni\", 2: \"Jamon\", 3 : \"Salmon\"}\n",
    "ing_base = [\"Tomate\", \"Mozzarella\"]\n",
    "\n",
    "seleccion =  int(input (\"Indica el número de la pizza que deseas\" + str(tipo_pizza)))\n",
    "\n",
    "if seleccion == 1:\n",
    "    ing_adic = int(input (print(\"Selecciona un ingrediente:\" + str(ing_vegetarianos) + \"\\n\" )))\n",
    "    print (\"Pizza Vegetariana con \"  + str(ing_base) + \" y \" + str(ing_vegetarianos[ing_adic]))\n",
    "elif seleccion ==2:\n",
    "    ing_adic = int(input (print(\"Selecciona un ingrediente:\" + str(ing_no_vegetarianos)+ \"\\n\")))\n",
    "\n",
    "    print (\"Pizza No Vegetariana con \"  + str(ing_base) + \" y \" + str(ing_no_vegetarianos[ing_adic]))\n",
    "else:\n",
    "    print(\"Debe seleccionar un tipo de pizza\")\n",
    "\n",
    "    \n",
    "    \n",
    "\n"
   ]
  },
  {
   "cell_type": "markdown",
   "metadata": {},
   "source": [
    "------------\n",
    "# TASK  - LISTAS\n",
    "\n",
    "\n",
    "### Ejercicio 1\n",
    "Escribir un programa que almacene las asignaturas de un curso (por ejemplo Matemáticas, Física, Química, Historia y Lengua) en una lista y la muestre por pantalla."
   ]
  },
  {
   "cell_type": "code",
   "execution_count": 51,
   "metadata": {
    "tags": []
   },
   "outputs": [
    {
     "output_type": "stream",
     "name": "stdout",
     "text": "Las asignaturas del curso son: ['Matemáticas', 'Física', 'Química', 'Historia', 'Lengua']\n"
    }
   ],
   "source": [
    "asignaturas = [\"Matemáticas\", \"Física\", \"Química\" , \"Historia\", \"Lengua\"]\n",
    "print(\"Las asignaturas del curso son: \" + str(asignaturas))"
   ]
  },
  {
   "cell_type": "markdown",
   "metadata": {},
   "source": [
    "### Ejercicio 2\n",
    "\n",
    "Escribir un programa que almacene las asignaturas de un curso (por ejemplo Matemáticas, Física, Química, Historia y Lengua) en una lista y la muestre por pantalla el mensaje Yo estudio <asignatura>, donde <asignatura> es cada una de las asignaturas de la lista."
   ]
  },
  {
   "cell_type": "code",
   "execution_count": 53,
   "metadata": {
    "tags": []
   },
   "outputs": [
    {
     "output_type": "stream",
     "name": "stdout",
     "text": "Yo estudio: Matemáticas\nYo estudio: Física\nYo estudio: Química\nYo estudio: Historia\nYo estudio: Lengua\n"
    }
   ],
   "source": [
    "asignaturas = [\"Matemáticas\", \"Física\", \"Química\" , \"Historia\", \"Lengua\"]\n",
    "for asignatura in asignaturas:\n",
    "    print(\"Yo estudio: \" + asignatura)"
   ]
  },
  {
   "cell_type": "markdown",
   "metadata": {},
   "source": [
    "### Ejercicio 3\n",
    "\n",
    "Escribir un programa que almacene las asignaturas de un curso (por ejemplo Matemáticas, Física, Química, Historia y Lengua) en una lista, pregunte al usuario la nota que ha sacado en cada asignatura, y después las muestre por pantalla con el mensaje En <asignatura> has sacado <nota> donde <asignatura> es cada una des las asignaturas de la lista y <nota> cada una de las correspondientes notas introducidas por el usuario."
   ]
  },
  {
   "cell_type": "code",
   "execution_count": 56,
   "metadata": {
    "tags": []
   },
   "outputs": [
    {
     "output_type": "stream",
     "name": "stdout",
     "text": "Nota de Matemáticas: 8\nNota de Física: 7\nNota de Química: 8\nNota de Historia: 9\nNota de Lengua: 8\n"
    }
   ],
   "source": [
    "asignaturas = [\"Matemáticas\", \"Física\", \"Química\" , \"Historia\", \"Lengua\"]\n",
    "notas = []\n",
    "\n",
    "for asignatura in asignaturas:\n",
    "    nota_asig= input(\"Indica tu nota en: \" + asignatura + \": \")\n",
    "    notas.append(nota_asig)\n",
    "for x in range(len(asignaturas)):\n",
    "    print (\"Nota de \" + asignaturas[x] + \": \" + notas[x])\n"
   ]
  },
  {
   "cell_type": "markdown",
   "metadata": {},
   "source": [
    "### Ejercicio 4\n",
    "\n",
    "Escribir un programa que pregunte al usuario los números ganadores de la lotería primitiva, los almacene en una lista y los muestre por pantalla ordenados de menor a mayor.\n"
   ]
  },
  {
   "cell_type": "code",
   "execution_count": 63,
   "metadata": {
    "tags": []
   },
   "outputs": [
    {
     "output_type": "stream",
     "name": "stdout",
     "text": "Los numeros ganadores son:[1, 2, 4, 5, 12, 34]\n"
    }
   ],
   "source": [
    "ganadores = []\n",
    "total_numeros = 6\n",
    "\n",
    "for i in range(total_numeros):\n",
    "    ganadores.append(int(input(\"Introduce el numero ganador: \")))\n",
    "\n",
    "ganadores.sort()\n",
    "print (\"Los numeros ganadores son:\" + str(ganadores))"
   ]
  },
  {
   "cell_type": "markdown",
   "metadata": {},
   "source": []
  },
  {
   "cell_type": "code",
   "execution_count": 68,
   "metadata": {
    "tags": []
   },
   "outputs": [
    {
     "output_type": "stream",
     "name": "stdout",
     "text": "[10, 9, 8, 7, 6, 5, 4, 3, 2, 1]\n"
    }
   ],
   "source": [
    "numeros= []\n",
    "for i in range (1,11):\n",
    "    numeros.append (i)\n",
    "numeros.reverse()\n",
    "print(numeros)"
   ]
  },
  {
   "cell_type": "markdown",
   "metadata": {},
   "source": [
    "### Ejercicio 6\n",
    "\n",
    "Escribir un programa que almacene las asignaturas de un curso (por ejemplo Matemáticas, Física, Química, Historia y Lengua) en una lista, pregunte al usuario la nota que ha sacado en cada asignatura y elimine de la lista las asignaturas aprobadas. Al final el programa debe mostrar por pantalla las asignaturas que el usuario tiene que repetir."
   ]
  },
  {
   "cell_type": "code",
   "execution_count": 70,
   "metadata": {
    "tags": []
   },
   "outputs": [
    {
     "output_type": "stream",
     "name": "stdout",
     "text": "Debes repetir Matemáticas\nDebes repetir Historia\n"
    }
   ],
   "source": [
    "asignaturas = [\"Matemáticas\", \"Física\", \"Química\" , \"Historia\", \"Lengua\"]\n",
    "notas = []\n",
    "reprobadas = []\n",
    "for asignatura in asignaturas:\n",
    "    nota_asig= float(input(\"Indica tu nota en: \" + asignatura + \": \"))\n",
    "    if nota_asig <5.0:\n",
    "        reprobadas.append(asignatura)\n",
    "\n",
    "for x in range(len(reprobadas)):\n",
    "    print (\"Debes repetir \" + reprobadas[x])\n"
   ]
  },
  {
   "cell_type": "markdown",
   "metadata": {},
   "source": [
    "### Ejercicio 7\n",
    "Escribir un programa que almacene el abecedario en una lista, elimine de la lista las letras que ocupen posiciones múltiplos de 3, y muestre por pantalla la lista resultante."
   ]
  },
  {
   "cell_type": "code",
   "execution_count": 92,
   "metadata": {
    "tags": []
   },
   "outputs": [
    {
     "output_type": "stream",
     "name": "stdout",
     "text": "['b', 'c', 'e', 'f', 'h', 'i', 'k', 'l', 'n', 'ñ', 'p', 'q', 's', 't', 'v', 'w', 'y', 'z']\n"
    }
   ],
   "source": [
    "abecedario = ['a', 'b', 'c', 'd', 'e', 'f', 'g', 'h', 'i', 'j', 'k', 'l', 'm', 'n', 'ñ', 'o', 'p', 'q', 'r', 's', 't', 'u', 'v', 'w', 'x', 'y', 'z']\n",
    "result_abc = []\n",
    "\n",
    "for i in range(len(abecedario)):\n",
    "    if i % 3 != 0:\n",
    "        result_abc.append(abecedario[i])\n",
    "print(resultado)"
   ]
  },
  {
   "cell_type": "markdown",
   "metadata": {},
   "source": [
    "### Ejercicio 8\n",
    "\n",
    "Escribir un programa que pida al usuario una palabra y muestre por pantalla si es un palíndromo.\n"
   ]
  },
  {
   "cell_type": "code",
   "execution_count": 104,
   "metadata": {
    "tags": []
   },
   "outputs": [
    {
     "output_type": "stream",
     "name": "stdout",
     "text": "amama\nEs palíndromo\n"
    }
   ],
   "source": [
    "palabra = input(\"Introduce una palabra a evaluar:\")\n",
    "\n",
    "print(palabra)\n",
    "\n",
    "rev_palabra = list(palabra)\n",
    "palabra = list(palabra)\n",
    "rev_palabra.reverse()\n",
    "\n",
    "if palabra == rev_palabra:\n",
    "    print(\"Es palíndromo\")\n",
    "else:   \n",
    "    print(\"No es palíndromo\")\n",
    "\n"
   ]
  },
  {
   "cell_type": "markdown",
   "metadata": {},
   "source": [
    "### Ejercicio 9\n",
    "\n",
    "Escribir un programa que pida al usuario una palabra y muestre por pantalla el número de veces que contiene cada vocal"
   ]
  },
  {
   "cell_type": "code",
   "execution_count": 129,
   "metadata": {
    "tags": []
   },
   "outputs": [
    {
     "output_type": "stream",
     "name": "stdout",
     "text": "La cadena MURCIELAGO contiene 5 vocales\nLa vocal: A aparece 1 veces.\nLa vocal: E aparece 1 veces.\nLa vocal: I aparece 1 veces.\nLa vocal: O aparece 1 veces.\nLa vocal: U aparece 1 veces.\n"
    }
   ],
   "source": [
    "palabra = input(\"Introduce una palabra:\")\n",
    "palabra = palabra.upper()               #conviere la palabra en mayusculas para la comparacion\n",
    "vocales = [\"A\",\"E\",\"I\",\"O\",\"U\"]\n",
    "totxvocal=[]                            #lista vacia para almacenar el total de cada vocal\n",
    "cantidad = 0\n",
    "\n",
    "\n",
    "for i in range(len(vocales)):\n",
    "    vocal = 0\n",
    "    cantidad += palabra.count(vocales[i])\n",
    "    vocal +=palabra.count(vocales[i])           #suma 1 a la cantidad de vocales de ese tipo\n",
    "    totxvocal.append(vocal)                     #agrega el total de esa vocal  a la lista\n",
    " \n",
    "print(\"La cadena \" + str (palabra) + \" contiene \" + str(cantidad) + \" vocales\")\n",
    "\n",
    "for i in range(len(vocales)):\n",
    "    print(\"La vocal: \" + str(vocales[i]) + \" aparece \" + str(totxvocal[i]) + \" veces.\" )\n"
   ]
  },
  {
   "cell_type": "markdown",
   "metadata": {},
   "source": [
    "### Ejercicio 10\n",
    "Escribir un programa que almacene en una lista los siguientes precios, 50, 75, 46, 22, 80, 65, 8, y muestre por pantalla el menor y el mayor de los precios.\n"
   ]
  },
  {
   "cell_type": "code",
   "execution_count": 134,
   "metadata": {
    "tags": []
   },
   "outputs": [
    {
     "output_type": "stream",
     "name": "stdout",
     "text": "El menor precio es: 8 y el mayor precio es: 80\n"
    }
   ],
   "source": [
    "precios = [50,75,46,22,80,65,8]\n",
    "precios.sort()\n",
    "print(\"El menor precio es: \" + str(precios[0]) + \" y el mayor precio es: \" + str(precios[-1]))"
   ]
  },
  {
   "cell_type": "markdown",
   "metadata": {},
   "source": [
    "### Ejercicio 11\n",
    "Escribir un programa que almacene los vectores (1,2,3) y (-1,0,2) en dos listas y muestre por pantalla su producto escalar."
   ]
  },
  {
   "cell_type": "code",
   "execution_count": 136,
   "metadata": {
    "tags": []
   },
   "outputs": [
    {
     "output_type": "stream",
     "name": "stdout",
     "text": "El producto escalar es: 5\n"
    }
   ],
   "source": [
    "vector1 = (1,2,3)\n",
    "vector2 = (-1,0,2)\n",
    "prod = 0\n",
    "\n",
    "for i in range(len(vector1)):\n",
    "    prod+= vector1[i]*vector2[i]\n",
    "\n",
    "print(\"El producto escalar es: \" + str(prod))"
   ]
  },
  {
   "cell_type": "markdown",
   "metadata": {},
   "source": [
    "### Ejercicio 12\n",
    "\n",
    "Escribir un programa que almacene las matrices A=(142536)yB=⎛⎝⎜⎜−101011⎞⎠⎟⎟\n",
    "en una lista y muestre por pantalla su producto.\n",
    "Nota: Para representar matrices mediante listas usar listas anidadas, representando cada vector fila en una lista."
   ]
  },
  {
   "cell_type": "code",
   "execution_count": 137,
   "metadata": {
    "tags": []
   },
   "outputs": [
    {
     "output_type": "stream",
     "name": "stdout",
     "text": "0 0 0\n0 0 1\n0 1 0\n0 1 1\n0 2 0\n0 2 1\n1 0 0\n1 0 1\n1 1 0\n1 1 1\n1 2 0\n1 2 1\n"
    }
   ],
   "source": [
    "matriz1 = ((1,2,3), (4,5,6))\n",
    "matriz2 = ((-1,0), (0,1), (1,1))\n",
    "\n",
    "result=[]\n",
    "\n",
    "for i in range(len(matriz1)):\n",
    "    for j in range(len(matriz2)):\n",
    "        for k in range(len(matriz2[0])):\n",
    "            print(i,j,k)"
   ]
  },
  {
   "cell_type": "code",
   "execution_count": 146,
   "metadata": {
    "tags": []
   },
   "outputs": [
    {
     "output_type": "stream",
     "name": "stdout",
     "text": "La primera U esta en posicion: 1\n existe la letra a\n"
    }
   ],
   "source": [
    "prueba  = input(\"Palabra a evaluar: \")\n",
    "if prueba.find(\"u\") != -1:\n",
    "    print(\"La primera U esta en posicion: \" + str(prueba.find(\"u\")))\n",
    "else:\n",
    "    print(\"No existe la U\")\n",
    "if \"a\" in prueba:\n",
    "    print(\" existe la letra a\")"
   ]
  },
  {
   "cell_type": "code",
   "execution_count": 2,
   "metadata": {
    "tags": []
   },
   "outputs": [
    {
     "output_type": "stream",
     "name": "stdout",
     "text": "X\nX\n"
    }
   ],
   "source": [
    "lista = (\"Red\", \"GabriXel\", \"Blue\", 2)\n",
    "segundo = lista[1]\n",
    "\n",
    "print(segundo[5])\n",
    "\n",
    "for gato in lista:\n",
    "    if gato == lista[1]:\n",
    "        print(gato[5])\n",
    "\n"
   ]
  },
  {
   "cell_type": "code",
   "execution_count": 5,
   "metadata": {
    "tags": []
   },
   "outputs": [
    {
     "output_type": "stream",
     "name": "stdout",
     "text": "X\n"
    }
   ],
   "source": [
    "lista = (\"Red\", \"GabriXel\", \"Blue\", 2)\n",
    "segundo = lista[1]\n",
    "\n",
    "contador = 0\n",
    "\n",
    "for gato in lista:\n",
    "    contador+= 1\n",
    "    if contador == 2:\n",
    "        print(gato[5])"
   ]
  },
  {
   "cell_type": "code",
   "execution_count": null,
   "metadata": {},
   "outputs": [],
   "source": []
  }
 ],
 "metadata": {
  "language_info": {
   "name": "python",
   "codemirror_mode": {
    "name": "ipython",
    "version": 3
   },
   "version": "3.7.6-final"
  },
  "orig_nbformat": 2,
  "file_extension": ".py",
  "mimetype": "text/x-python",
  "name": "python",
  "npconvert_exporter": "python",
  "pygments_lexer": "ipython3",
  "version": 3,
  "kernelspec": {
   "name": "python3",
   "display_name": "Python 3"
  }
 },
 "nbformat": 4,
 "nbformat_minor": 2
}