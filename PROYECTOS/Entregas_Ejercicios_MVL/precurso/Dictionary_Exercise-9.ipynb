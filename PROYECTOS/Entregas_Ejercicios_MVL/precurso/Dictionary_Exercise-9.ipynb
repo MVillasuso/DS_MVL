{
 "cells": [
  {
   "cell_type": "markdown",
   "metadata": {},
   "source": [
    "### 9. Ejercicios: \n",
    "\n",
    "- Crea dos listas: una que tenga 4 nombres de ciudades y otra que tenga 4 lugares emblemáticos de la ciudad. "
   ]
  },
  {
   "cell_type": "code",
   "execution_count": 4,
   "metadata": {
    "tags": []
   },
   "outputs": [
    {
     "output_type": "stream",
     "name": "stdout",
     "text": "['Madrid', 'Roma', 'Paris', 'Florencia']\n['Retiro', 'Coliseo', 'Torre Eiffel', 'Ponte Vecchio']\n"
    }
   ],
   "source": [
    "# Code\n",
    "ciudades = [\"Madrid\", \"Roma\", \"Paris\" , \"Florencia\"]\n",
    "landmarks  = [\"Retiro\", \"Coliseo\" , \"Torre Eiffel\" , \"Ponte Vecchio\"]\n",
    "print (ciudades)\n",
    "print(landmarks)"
   ]
  },
  {
   "cell_type": "markdown",
   "metadata": {},
   "source": [
    "### A partir de funciones con diccionarios:\n",
    "\n",
    "- Crea un diccionario con un entero 5 como key y \"val\" como su value. "
   ]
  },
  {
   "cell_type": "code",
   "execution_count": 5,
   "metadata": {
    "tags": []
   },
   "outputs": [
    {
     "output_type": "stream",
     "name": "stdout",
     "text": "{5: 'val'}\n<class 'dict'>\n"
    }
   ],
   "source": [
    "# Code\n",
    "dicc = {5:\"val\"}\n",
    "print(dicc)\n",
    "print (type(dicc))"
   ]
  },
  {
   "cell_type": "markdown",
   "metadata": {},
   "source": [
    "- Crea una función que a reciba dos listas 'lista1' y 'lista2' por parámetro y retorne un diccionario teniendo como keys cada elemento de 'lista1' y como values los elementos de 'lista2'. Llama a la función con las listas que has creado antes para que devuelva un diccionario con cada ciudad como key asociado a un lugar emblemático como value. \n"
   ]
  },
  {
   "cell_type": "code",
   "execution_count": 6,
   "metadata": {
    "tags": []
   },
   "outputs": [
    {
     "output_type": "stream",
     "name": "stdout",
     "text": "{'Madrid': 'Retiro', 'Roma': 'Coliseo', 'Paris': 'Torre Eiffel', 'Florencia': 'Ponte Vecchio'}\n"
    }
   ],
   "source": [
    "# Code\n",
    "def crear_dicc (lista1, lista2):\n",
    "    dicc ={}\n",
    "    for j in range (len(lista1)):\n",
    "        dicc[lista1[j]] = lista2[j]\n",
    "    return dicc\n",
    "\n",
    "diccionario = crear_dicc (ciudades, landmarks)\n",
    "print(diccionario)\n"
   ]
  },
  {
   "cell_type": "code",
   "execution_count": 6,
   "metadata": {
    "tags": []
   },
   "outputs": [
    {
     "output_type": "stream",
     "name": "stdout",
     "text": "[('Madrid', 'Retiro'), ('Roma', 'Coliseo'), ('Paris', 'Torre Eiffel'), ('Florencia', 'Ponte Vecchio')]\n"
    }
   ],
   "source": [
    "pruebazip = list(zip (ciudades, landmarks))\n",
    "print(pruebazip)"
   ]
  },
  {
   "cell_type": "markdown",
   "metadata": {},
   "source": [
    "*Hay que utilizar la lista de alumn@s con sus nombres y alturas*\n",
    "\n",
    "- Crea una función que, a partir de dos listas, retorne un diccionario en el que cada key sea el nombre de un alumno y su value debe ser la altura."
   ]
  },
  {
   "cell_type": "code",
   "execution_count": 7,
   "metadata": {
    "tags": []
   },
   "outputs": [
    {
     "output_type": "stream",
     "name": "stdout",
     "text": "lista_nombres: ['Jalex', 'Tomas', 'David', 'Natalio', 'Monica', 'Roxanna', 'Filipa', 'Elsa', 'Cristina', 'Clara', 'Alba', 'Valeria', 'Jose Luis', 'Gabriel', 'Rochi', 'Jose Maria'] \n\nlista_alturas: [1.8, 1.8, 1.81, 1.73, 1.73, 1.75, 1.64, 1.89, 1.7, 1.67, 1.68, 1.6, 1.69, 1.76, 1.6, 1.75] \n\n{'Jalex': 1.8, 'Tomas': 1.8, 'David': 1.81, 'Natalio': 1.73, 'Monica': 1.73, 'Roxanna': 1.75, 'Filipa': 1.64, 'Elsa': 1.89, 'Cristina': 1.7, 'Clara': 1.67, 'Alba': 1.68, 'Valeria': 1.6, 'Jose Luis': 1.69, 'Gabriel': 1.76, 'Rochi': 1.6, 'Jose Maria': 1.75}\n"
    }
   ],
   "source": [
    "# Code\n",
    "lista_completa = [[\"Jalex\", 6, 47, 1.80], [\"Tomas\", 5, 31, 1.80], [\"David\", 6, 39, 1.81], [\"Natalio\", 2, 29, 1.73], [\"Monica\", 3, 47, 1.73], [\"Roxanna\", 4,24,1.75], [\"Filipa\", 5,34,1.64], [\"Elsa\", 4, 36, 1.89], [\"Cristina\", 3, 46, 1.70], [\"Clara\", 6, 29, 1.67], [\"Alba\", 3, 29, 1.68], [\"Valeria\",1, 40, 1.60], [\"Jose Luis\", 4, 47, 1.69], [\"Gabriel\", 1, 28, 1.76], [\"Rochi\", 2, 38, 1.60], [\"Jose Maria\", 5, 51, 1.75]]\n",
    "\n",
    "\n",
    "lista_nombres= [elem[0] for elem in lista_completa]\n",
    "print(\"lista_nombres:\" , lista_nombres, \"\\n\")\n",
    "\n",
    "lista_alturas = [elem[-1] for elem in lista_completa]\n",
    "print (\"lista_alturas:\" , lista_alturas, \"\\n\")\n",
    "\n",
    "dicc2 = crear_dicc (lista_nombres, lista_alturas)\n",
    "print (dicc2)\n"
   ]
  },
  {
   "cell_type": "code",
   "execution_count": 14,
   "metadata": {},
   "outputs": [
    {
     "output_type": "execute_result",
     "data": {
      "text/plain": "16"
     },
     "metadata": {},
     "execution_count": 14
    }
   ],
   "source": [
    "len(dicc2)"
   ]
  },
  {
   "cell_type": "code",
   "execution_count": 15,
   "metadata": {},
   "outputs": [
    {
     "output_type": "execute_result",
     "data": {
      "text/plain": "dict_keys(['Jalex', 'Tomas', 'David', 'Natalio', 'Monica', 'Roxanna', 'Filipa', 'Elsa', 'Cristina', 'Clara', 'Alba', 'Valeria', 'Jose Luis', 'Gabriel', 'Rochi', 'Jose Maria'])"
     },
     "metadata": {},
     "execution_count": 15
    }
   ],
   "source": [
    "dicc2.keys()"
   ]
  },
  {
   "cell_type": "code",
   "execution_count": 12,
   "metadata": {},
   "outputs": [],
   "source": [
    "import pandas as pd"
   ]
  },
  {
   "cell_type": "code",
   "execution_count": 22,
   "metadata": {},
   "outputs": [
    {
     "output_type": "execute_result",
     "data": {
      "text/plain": "        Nombre  Altura\n0        Jalex    1.80\n1        Tomas    1.80\n2        David    1.81\n3      Natalio    1.73\n4       Monica    1.73\n5      Roxanna    1.75\n6       Filipa    1.64\n7         Elsa    1.89\n8     Cristina    1.70\n9        Clara    1.67\n10        Alba    1.68\n11     Valeria    1.60\n12   Jose Luis    1.69\n13     Gabriel    1.76\n14       Rochi    1.60\n15  Jose Maria    1.75",
      "text/html": "<div>\n<style scoped>\n    .dataframe tbody tr th:only-of-type {\n        vertical-align: middle;\n    }\n\n    .dataframe tbody tr th {\n        vertical-align: top;\n    }\n\n    .dataframe thead th {\n        text-align: right;\n    }\n</style>\n<table border=\"1\" class=\"dataframe\">\n  <thead>\n    <tr style=\"text-align: right;\">\n      <th></th>\n      <th>Nombre</th>\n      <th>Altura</th>\n    </tr>\n  </thead>\n  <tbody>\n    <tr>\n      <th>0</th>\n      <td>Jalex</td>\n      <td>1.80</td>\n    </tr>\n    <tr>\n      <th>1</th>\n      <td>Tomas</td>\n      <td>1.80</td>\n    </tr>\n    <tr>\n      <th>2</th>\n      <td>David</td>\n      <td>1.81</td>\n    </tr>\n    <tr>\n      <th>3</th>\n      <td>Natalio</td>\n      <td>1.73</td>\n    </tr>\n    <tr>\n      <th>4</th>\n      <td>Monica</td>\n      <td>1.73</td>\n    </tr>\n    <tr>\n      <th>5</th>\n      <td>Roxanna</td>\n      <td>1.75</td>\n    </tr>\n    <tr>\n      <th>6</th>\n      <td>Filipa</td>\n      <td>1.64</td>\n    </tr>\n    <tr>\n      <th>7</th>\n      <td>Elsa</td>\n      <td>1.89</td>\n    </tr>\n    <tr>\n      <th>8</th>\n      <td>Cristina</td>\n      <td>1.70</td>\n    </tr>\n    <tr>\n      <th>9</th>\n      <td>Clara</td>\n      <td>1.67</td>\n    </tr>\n    <tr>\n      <th>10</th>\n      <td>Alba</td>\n      <td>1.68</td>\n    </tr>\n    <tr>\n      <th>11</th>\n      <td>Valeria</td>\n      <td>1.60</td>\n    </tr>\n    <tr>\n      <th>12</th>\n      <td>Jose Luis</td>\n      <td>1.69</td>\n    </tr>\n    <tr>\n      <th>13</th>\n      <td>Gabriel</td>\n      <td>1.76</td>\n    </tr>\n    <tr>\n      <th>14</th>\n      <td>Rochi</td>\n      <td>1.60</td>\n    </tr>\n    <tr>\n      <th>15</th>\n      <td>Jose Maria</td>\n      <td>1.75</td>\n    </tr>\n  </tbody>\n</table>\n</div>"
     },
     "metadata": {},
     "execution_count": 22
    }
   ],
   "source": [
    "# Crear un dataframe pandas a partir de un diccionario\n",
    "\n",
    "df_dicc2 = pd.DataFrame([[key, dicc2[key]] for key in dicc2.keys()], columns=['Nombre','Altura'])\n",
    "df_dicc2"
   ]
  },
  {
   "cell_type": "code",
   "execution_count": 23,
   "metadata": {},
   "outputs": [
    {
     "output_type": "execute_result",
     "data": {
      "text/plain": "0          Jalex\n1          Tomas\n2          David\n3        Natalio\n4         Monica\n5        Roxanna\n6         Filipa\n7           Elsa\n8       Cristina\n9          Clara\n10          Alba\n11       Valeria\n12     Jose Luis\n13       Gabriel\n14         Rochi\n15    Jose Maria\nName: Nombre, dtype: object"
     },
     "metadata": {},
     "execution_count": 23
    }
   ],
   "source": [
    "df_dicc2['Nombre']"
   ]
  },
  {
   "cell_type": "code",
   "execution_count": 34,
   "metadata": {},
   "outputs": [
    {
     "output_type": "execute_result",
     "data": {
      "text/plain": "Nombre    Jalex\nAltura      1.8\nName: 0, dtype: object"
     },
     "metadata": {},
     "execution_count": 34
    }
   ],
   "source": [
    "df_dicc2.iloc[0]"
   ]
  },
  {
   "cell_type": "code",
   "execution_count": 33,
   "metadata": {},
   "outputs": [
    {
     "output_type": "execute_result",
     "data": {
      "text/plain": "Nombre    Monica\nAltura      1.73\nName: 4, dtype: object"
     },
     "metadata": {},
     "execution_count": 33
    }
   ],
   "source": [
    "df_dicc2.loc[4]"
   ]
  },
  {
   "cell_type": "code",
   "execution_count": null,
   "metadata": {},
   "outputs": [],
   "source": []
  }
 ],
 "metadata": {
  "language_info": {
   "codemirror_mode": {
    "name": "ipython",
    "version": 3
   },
   "file_extension": ".py",
   "mimetype": "text/x-python",
   "name": "python",
   "nbconvert_exporter": "python",
   "pygments_lexer": "ipython3",
   "version": "3.8.3-final"
  },
  "orig_nbformat": 2,
  "kernelspec": {
   "name": "python3",
   "display_name": "Python 3"
  }
 },
 "nbformat": 4,
 "nbformat_minor": 2
}