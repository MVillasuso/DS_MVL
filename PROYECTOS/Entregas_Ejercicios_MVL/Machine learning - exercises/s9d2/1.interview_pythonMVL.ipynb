{
 "metadata": {
  "language_info": {
   "codemirror_mode": {
    "name": "ipython",
    "version": 3
   },
   "file_extension": ".py",
   "mimetype": "text/x-python",
   "name": "python",
   "nbconvert_exporter": "python",
   "pygments_lexer": "ipython3",
   "version": "3.8.3-final"
  },
  "orig_nbformat": 2,
  "kernelspec": {
   "name": "python38364bit61836de9583b4678983c2459e76af05f",
   "display_name": "Python 3.8.3 64-bit"
  }
 },
 "nbformat": 4,
 "nbformat_minor": 2,
 "cells": [
  {
   "cell_type": "markdown",
   "metadata": {},
   "source": [
    "Here's your coding interview problem for today.\n",
    "\n",
    "This problem was asked by Google.\n",
    "\n",
    "You are given an M by N matrix consisting of booleans that represents a board. Each True boolean represents a wall. Each False boolean represents a tile you can walk on.\n",
    "\n",
    "Given this matrix, a start coordinate, and an end coordinate, return the minimum number of steps required to reach the end coordinate from the start. If there is no possible path, then return null. You can move up, left, down, and right. You cannot move through walls. You cannot wrap around the edges of the board.\n",
    "\n",
    "For example, given the following board:\n",
    "\n",
    ">f, f, f, f,\n",
    "\n",
    ">t, t, f, t,\n",
    "\n",
    ">f, f, f, f,\n",
    "\n",
    ">f, f, f, f\n",
    "\n",
    "and start = (3, 0) (bottom left) and end = (0, 0) (top left), the minimum number of steps required to reach the end is 7, since we would need to go through (1, 2) because there is a wall everywhere else on the second row."
   ]
  },
  {
   "cell_type": "code",
   "execution_count": 1,
   "metadata": {},
   "outputs": [],
   "source": [
    "def mover (tablero, pa,pb, steps=0):\n",
    "    \"\"\"\n",
    "    Retorna la mínima cantidad de pasos para llegar de una coordenada a otra\n",
    "    TODO (Completarlo para cuando NO hay paso.)\n",
    "    \"\"\"\n",
    "    numfils = len(tablero)\n",
    "    numcols= len(tablero[0])\n",
    "    #print (tablero, numfils, numcols) \n",
    "    a=pa[0]\n",
    "    b= pa[1]\n",
    "    c=pb[0]\n",
    "    d=pb[1]\n",
    "    print (a,b,numfils,\"-\", b,d,numcols)\n",
    "    if (a>=numfils| a<0) | (c>=numfils)| (c<0 )| (b<0)| (b>=numcols) | (d<0)|( d>=numcols):\n",
    "        return False\n",
    "    else:\n",
    "        if a >c :\n",
    "            if (not tablero[a-1][b]) and (a-1>=0):  \n",
    "                mover (tablero,(a-1,b),pb,steps+1) #subir\n",
    "            elif b>d:\n",
    "                if (not tablero[a][b-1] )and (b-1>=0):   \n",
    "                    mover (tablero,(a,b-1),pb,steps+1)   #izquierda\n",
    "                elif (not tablero[a][b+1]) and (b+1<numcols):\n",
    "                    mover (tablero,(a,b+1),pb,steps+1)    #derecha\n",
    "                elif (not tablero[a+1][b]) and (a+1<numfils):\n",
    "                    mover (tablero,(a+1,b),pb,steps+1)     #bajar\n",
    "                else:\n",
    "                    return False\n",
    "        elif a < c:\n",
    "            if (not tablero[a+1][b]) and (a+1<numfils):  \n",
    "                mover (tablero,(a+1,b),pb,steps+1) #bajar\n",
    "            elif b>d:\n",
    "                if (not tablero[a][b-1] )and (b-1>=0):   \n",
    "                    mover (tablero,(a,b-1),pb,steps+1)   #izquierda\n",
    "                elif (not tablero[a][b+1]) and (b+1<numcols):\n",
    "                    mover (tablero,(a,b+1),pb,steps+1)    #derecha\n",
    "                elif (not tablero[a-1][b] ) and (a-1>=0):\n",
    "                    mover (tablero,(a-1,b),pb,steps+1)     #subir\n",
    "                else:\n",
    "                    return False\n",
    "        elif (a==c): \n",
    "            if (b==d):\n",
    "                print(steps)\n",
    "                return True\n",
    "            elif (b>d):\n",
    "                if (not tablero[a][b-1]) and (b-1>=0):   \n",
    "                    mover (tablero,(a,b-1),pb,steps+1)   #izquierda\n",
    "                elif (not tablero[a][b+1]) and (b+1<numcols):\n",
    "                    mover (tablero,(a,b+1),pb,steps+1)    #derecha\n",
    "                elif (not tablero[a-1][b]) and (a-1>=0):\n",
    "                    mover (tablero,(a-1,b),pb,steps+1)     #subir\n",
    "                elif (not tablero[a+1][b]) and (a+1<numfils):\n",
    "                    mover (tablero,(a+1,b),pb,steps+1)     #bajar\n",
    "                else:\n",
    "                    return False\n",
    "            else: #b<d\n",
    "                if (not tablero[a][b+1]) and (b+1<numcols):   \n",
    "                    mover (tablero,(a,b+1),pb,steps+1)   #derecha\n",
    "                elif (not tablero[a][b-1] ) and (b-1>=0):\n",
    "                    mover (tablero,(a,b-1),pb,steps+1)    #izquierda\n",
    "                elif (not tablero[a-1][b] ) and (a-1>=0):\n",
    "                    mover (tablero,(a-1,b),pb,steps+1)     #subir\n",
    "                elif (not tablero[a+1][b] ) and (a+1<numfils):\n",
    "                    mover (tablero,(a+1,b),pb,steps+1)     #bajar\n",
    "                else:\n",
    "                    return False"
   ]
  },
  {
   "cell_type": "code",
   "execution_count": 13,
   "metadata": {
    "tags": []
   },
   "outputs": [
    {
     "output_type": "stream",
     "name": "stdout",
     "text": "2 9 4 - 9 4 5\n"
    },
    {
     "output_type": "execute_result",
     "data": {
      "text/plain": "False"
     },
     "metadata": {},
     "execution_count": 13
    }
   ],
   "source": [
    "tabl= [[0,0,0,0,0],[0,0,0,0,0],[0,0,0,0,0],[0,0,0,0,0]]\n",
    "\n",
    "mover (tabl, (2,9), (3,4))"
   ]
  },
  {
   "cell_type": "code",
   "execution_count": null,
   "metadata": {},
   "outputs": [],
   "source": []
  }
 ]
}