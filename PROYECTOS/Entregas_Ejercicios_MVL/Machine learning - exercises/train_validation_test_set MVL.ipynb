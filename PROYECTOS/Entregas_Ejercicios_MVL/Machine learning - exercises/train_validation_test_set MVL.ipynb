{
 "metadata": {
  "language_info": {
   "codemirror_mode": {
    "name": "ipython",
    "version": 3
   },
   "file_extension": ".py",
   "mimetype": "text/x-python",
   "name": "python",
   "nbconvert_exporter": "python",
   "pygments_lexer": "ipython3",
   "version": "3.8.3-final"
  },
  "orig_nbformat": 2,
  "kernelspec": {
   "name": "python38364bit61836de9583b4678983c2459e76af05f",
   "display_name": "Python 3.8.3 64-bit"
  }
 },
 "nbformat": 4,
 "nbformat_minor": 2,
 "cells": [
  {
   "cell_type": "markdown",
   "metadata": {},
   "source": [
    "1. \n",
    "\n",
    "Crear una función que reciba cuatro parámetros: una lista 'L', un número 'T', un número 'V' y un booleano 'S'. La función debe devolver otras dos listas: \"lista_train_val\" y \"lista_test\".\n",
    "\n",
    "- \"lista_train_val\" es una lista con dos elementos. Cada elemento es una lista: \"list_train\", que representa el conjunto de entrenamiento y \"list_val\", que representa el conjunto de validación. \n",
    "- \"list_test\" es el conjunto de test. Como mínimo ha de tener 1 elemento (si 'L' > 1).\n",
    "- \"L\" es cualquier lista de elementos. Al principio, entra con un tamaño completo (100%). Esta es la lista que se partirá y se generarán los conjuntos entrenamiento, de validación y de test.\n",
    "- \"T\" es un número entre 1 y 100 que va a representar el tamaño, en porcentaje, del conjunto de test \"list_test\". \n",
    "- \"V\" es un número entre 0 y 100 que va a representar el tamaño, en porcentaje, del conjunto de validación \"list_val\". Su valor por defecto es 0.\n",
    "- \"S\", que por defecto es False, determinará si los conjuntos \"list_train\", \"list_test\" y \"list_val\" son aleatoriamente ordenados. ¿Encuentras alguna posible incoherencia si se reordenan aleatoriamente?\n",
    "\n",
    "Prueba la función con una lista de 100 elementos números aleatorios del 0 al 100. \n",
    "\n",
    "2. \n",
    "\n",
    "Rehacer el ejercicio anterior en otra función para que no devuelva dos listas, sino los tres conjuntos: \n",
    "\n",
    "--> return list_train, list_val, list_test "
   ]
  },
  {
   "cell_type": "code",
   "execution_count": 93,
   "metadata": {},
   "outputs": [],
   "source": [
    "import math as mm\n",
    "from random import shuffle\n",
    "import random"
   ]
  },
  {
   "cell_type": "code",
   "execution_count": 96,
   "metadata": {},
   "outputs": [],
   "source": [
    "aleatorios = [random.randint(0,100) for _ in range(100)]"
   ]
  },
  {
   "cell_type": "code",
   "execution_count": 98,
   "metadata": {},
   "outputs": [
    {
     "output_type": "execute_result",
     "data": {
      "text/plain": "100"
     },
     "metadata": {},
     "execution_count": 98
    }
   ],
   "source": [
    "len(aleatorios)"
   ]
  },
  {
   "cell_type": "code",
   "execution_count": 86,
   "metadata": {},
   "outputs": [],
   "source": [
    "def lresul(lista,t=5,v=5,s=False):\n",
    "    ltrain_val=[]\n",
    "    ltest=[]\n",
    "    shuffle(lista)\n",
    "    llista=len(lista)\n",
    "    tam_ltest= mm.ceil(llista*t/100)\n",
    "    tam_lval = mm.ceil(llista*v/100)\n",
    "    tam_lista = llista - (tam_ltest+tam_lval)\n",
    "    ltrain_val.append(lista[:tam_lista])\n",
    "    ltrain_val.append(lista[tam_lista:tam_lista+tam_lval])\n",
    "    ltest = lista[-tam_ltest:]\n",
    "    return ltrain_val,ltest"
   ]
  },
  {
   "cell_type": "code",
   "execution_count": 102,
   "metadata": {
    "tags": []
   },
   "outputs": [],
   "source": [
    "ltrain_val,ltest = lresul(lista=aleatorios,t=5,v=5)"
   ]
  },
  {
   "cell_type": "code",
   "execution_count": 105,
   "metadata": {},
   "outputs": [],
   "source": [
    "def lresul2(lista,t=5,v=5,s=False):\n",
    "    ltrain=[]\n",
    "    lval=[]\n",
    "    ltest=[]\n",
    "    shuffle(lista)\n",
    "    llista=len(lista)\n",
    "    tam_ltest= mm.ceil(llista*t/100)\n",
    "    tam_lval = mm.ceil(llista*v/100)\n",
    "    tam_lista = llista - (tam_ltest+tam_lval)\n",
    "    ltrain= lista[:tam_lista]\n",
    "    lval=lista[tam_lista:tam_lista+tam_lval]\n",
    "    ltest = lista[-tam_ltest:]\n",
    "    return ltrain, lval,ltest"
   ]
  },
  {
   "cell_type": "code",
   "execution_count": 113,
   "metadata": {},
   "outputs": [],
   "source": [
    "ltrain, lval, ltest= lresul2(lista= aleatorios,t=20,v=30)\n"
   ]
  }
 ]
}