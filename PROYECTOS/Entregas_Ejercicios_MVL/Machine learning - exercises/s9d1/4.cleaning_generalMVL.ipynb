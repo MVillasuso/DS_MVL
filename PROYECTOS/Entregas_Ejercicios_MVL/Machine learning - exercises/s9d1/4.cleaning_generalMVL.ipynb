{
 "metadata": {
  "language_info": {
   "codemirror_mode": {
    "name": "ipython",
    "version": 3
   },
   "file_extension": ".py",
   "mimetype": "text/x-python",
   "name": "python",
   "nbconvert_exporter": "python",
   "pygments_lexer": "ipython3",
   "version": "3.8.3-final"
  },
  "orig_nbformat": 2,
  "kernelspec": {
   "name": "python38364bit61836de9583b4678983c2459e76af05f",
   "display_name": "Python 3.8.3 64-bit"
  }
 },
 "nbformat": 4,
 "nbformat_minor": 2,
 "cells": [
  {
   "cell_type": "markdown",
   "metadata": {},
   "source": [
    "Crea un programa que, llamando a una función clean_df(path), lea un archivo leíble por pandas, lo transforme a dataframe y lo limpie si es posible. \n",
    "\n",
    "La función clean_df() retornará el dataframe limpiado."
   ]
  },
  {
   "cell_type": "code",
   "execution_count": 2,
   "metadata": {},
   "outputs": [],
   "source": [
    "import pandas as pd\n",
    "import numpy as np"
   ]
  },
  {
   "cell_type": "code",
   "execution_count": 78,
   "metadata": {},
   "outputs": [],
   "source": [
    "#Cargar los datos\n",
    "path= \"train_set.csv\"\n"
   ]
  },
  {
   "cell_type": "markdown",
   "metadata": {},
   "source": [
    "En la función clean_df:\n",
    "\n",
    "- path: representa la ubicación o url de donde pandas lee el archivo a cargar."
   ]
  },
  {
   "cell_type": "code",
   "execution_count": 90,
   "metadata": {},
   "outputs": [],
   "source": [
    "    params = {\"PorcColsNoNan\":0.90, \"CantFilas\": \"any\", \"CantCols\": \"all\"}\n"
   ]
  },
  {
   "cell_type": "code",
   "execution_count": 91,
   "metadata": {},
   "outputs": [],
   "source": [
    "def clean_df(path,params):\n",
    "    \"\"\"\n",
    "    Limpia el DF de acuerdo a los valores NAN (Columnas o filas donde todos los valores sea NAN o donde \n",
    "    exista haya menos del % de columnas especificadas con valor distinto a Nan)\n",
    "    Elimina filas duplicadas conservando la última\n",
    "    \"\"\"\n",
    "    df = pd.read_csv(path)\n",
    "    df.dropna(axis=1,how=params[\"CantCols\"], inplace=True)   #Elimina las columnas donde todos los valores son NAN\n",
    "    df.dropna(axis=0,how=params[\"CantFilas\"], inplace=True)   #ELimina filas donde todo sea NAN\n",
    "    tot_cols = round(df.shape[1]*params[\"PorcColsNoNan\"],0)\n",
    "    df.dropna(thresh = tot_cols, inplace=True)    #Elimina filas donde haya mas de tot_cols-3 columnas con datos NAN\n",
    "    df.drop_duplicates(keep='last',inplace=True)\n",
    "    df_cleaned = df\n",
    "    return df_cleaned"
   ]
  },
  {
   "cell_type": "code",
   "execution_count": 92,
   "metadata": {
    "tags": []
   },
   "outputs": [],
   "source": [
    "df = clean_df(path,params)"
   ]
  },
  {
   "cell_type": "code",
   "execution_count": null,
   "metadata": {},
   "outputs": [],
   "source": []
  }
 ]
}