{
 "metadata": {
  "language_info": {
   "codemirror_mode": {
    "name": "ipython",
    "version": 3
   },
   "file_extension": ".py",
   "mimetype": "text/x-python",
   "name": "python",
   "nbconvert_exporter": "python",
   "pygments_lexer": "ipython3",
   "version": "3.8.3-final"
  },
  "orig_nbformat": 2,
  "kernelspec": {
   "name": "python38364bit61836de9583b4678983c2459e76af05f",
   "display_name": "Python 3.8.3 64-bit"
  }
 },
 "nbformat": 4,
 "nbformat_minor": 2,
 "cells": [
  {
   "cell_type": "markdown",
   "metadata": {},
   "source": [
    "Here's your coding interview problem for today.\n",
    "\n",
    "This problem was asked by Facebook.\n",
    "\n",
    "Given a string of round, curly, and square open and closing brackets, return whether the brackets are balanced (well-formed).\n",
    "\n",
    "For example, given the string \"([])[]({})\", you should return true.\n",
    "\n",
    "Given the string \"([)]\" or \"((()\", you should return false."
   ]
  },
  {
   "cell_type": "code",
   "execution_count": 138,
   "metadata": {
    "tags": []
   },
   "outputs": [],
   "source": [
    "\n",
    "def validar (cadena):\n",
    "    listaval=[\"(\",\")\",\"[\",\"]\", \"{\", \"}\"]\n",
    "    diccval = {\"(\":\")\", \"{\":\"}\", \"[\":\"]\"}\n",
    "    if len(cadena)%2 >0:    #Si la cadena es de tamaño impar devuelve False\n",
    "       return False\n",
    "    else:\n",
    "        for i,elem in enumerate(cadena):\n",
    "            if i<len(cadena)/2:\n",
    "                if elem not in (listaval):\n",
    "                    return False\n",
    "                else:\n",
    "                    if elem in diccval:\n",
    "                        if diccval[str(cadena[i])]!= cadena[-1-i]:\n",
    "                            return False\n",
    "                    else:\n",
    "                        return False    \n",
    "    return True\n"
   ]
  },
  {
   "cell_type": "code",
   "execution_count": 139,
   "metadata": {
    "tags": []
   },
   "outputs": [],
   "source": [
    "# Valores para probar el resultado de la función\n",
    "\n",
    "#prueba = \"({({[[()]]})})\"\n",
    "prueba = \"((()\"\n",
    "#prueba = \"(.{[]}.)\"\n"
   ]
  },
  {
   "cell_type": "code",
   "execution_count": 140,
   "metadata": {
    "tags": []
   },
   "outputs": [
    {
     "output_type": "stream",
     "name": "stdout",
     "text": "False\n"
    }
   ],
   "source": [
    "resultado = validar(prueba)\n",
    "print(resultado)"
   ]
  }
 ]
}