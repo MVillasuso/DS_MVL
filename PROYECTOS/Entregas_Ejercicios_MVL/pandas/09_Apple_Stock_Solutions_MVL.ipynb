{
 "cells": [
  {
   "cell_type": "markdown",
   "metadata": {},
   "source": [
    "# Apple Stock"
   ]
  },
  {
   "cell_type": "markdown",
   "metadata": {},
   "source": [
    "### Introduction:\n",
    "\n",
    "We are going to use Apple's stock price.\n",
    "\n",
    "\n",
    "### Step 1. Import the necessary libraries"
   ]
  },
  {
   "cell_type": "code",
   "execution_count": 2,
   "metadata": {
    "collapsed": false
   },
   "outputs": [],
   "source": [
    "import pandas as pd\n",
    "import numpy as np\n",
    "\n",
    "# visualization\n",
    "import matplotlib.pyplot as plt\n",
    "\n",
    "%matplotlib inline"
   ]
  },
  {
   "cell_type": "markdown",
   "metadata": {},
   "source": [
    "### Step 2. Import the dataset from this [address](https://raw.githubusercontent.com/guipsamora/pandas_exercises/master/09_Time_Series/Apple_Stock/appl_1980_2014.csv)"
   ]
  },
  {
   "cell_type": "code",
   "execution_count": 3,
   "metadata": {},
   "outputs": [],
   "source": [
    "apple = pd.read_csv(\"https://raw.githubusercontent.com/guipsamora/pandas_exercises/master/09_Time_Series/Apple_Stock/appl_1980_2014.csv\")"
   ]
  },
  {
   "cell_type": "markdown",
   "metadata": {},
   "source": [
    "### Step 3. Assign it to a variable apple"
   ]
  },
  {
   "cell_type": "code",
   "execution_count": 4,
   "metadata": {},
   "outputs": [
    {
     "output_type": "execute_result",
     "data": {
      "text/plain": "            Date   Open   High    Low  Close     Volume  Adj Close\n0     2014-07-08  96.27  96.80  93.92  95.35   65130000      95.35\n1     2014-07-07  94.14  95.99  94.10  95.97   56305400      95.97\n2     2014-07-03  93.67  94.10  93.20  94.03   22891800      94.03\n3     2014-07-02  93.87  94.06  93.09  93.48   28420900      93.48\n4     2014-07-01  93.52  94.07  93.13  93.52   38170200      93.52\n...          ...    ...    ...    ...    ...        ...        ...\n8460  1980-12-18  26.63  26.75  26.63  26.63   18362400       0.41\n8461  1980-12-17  25.87  26.00  25.87  25.87   21610400       0.40\n8462  1980-12-16  25.37  25.37  25.25  25.25   26432000       0.39\n8463  1980-12-15  27.38  27.38  27.25  27.25   43971200       0.42\n8464  1980-12-12  28.75  28.87  28.75  28.75  117258400       0.45\n\n[8465 rows x 7 columns]",
      "text/html": "<div>\n<style scoped>\n    .dataframe tbody tr th:only-of-type {\n        vertical-align: middle;\n    }\n\n    .dataframe tbody tr th {\n        vertical-align: top;\n    }\n\n    .dataframe thead th {\n        text-align: right;\n    }\n</style>\n<table border=\"1\" class=\"dataframe\">\n  <thead>\n    <tr style=\"text-align: right;\">\n      <th></th>\n      <th>Date</th>\n      <th>Open</th>\n      <th>High</th>\n      <th>Low</th>\n      <th>Close</th>\n      <th>Volume</th>\n      <th>Adj Close</th>\n    </tr>\n  </thead>\n  <tbody>\n    <tr>\n      <th>0</th>\n      <td>2014-07-08</td>\n      <td>96.27</td>\n      <td>96.80</td>\n      <td>93.92</td>\n      <td>95.35</td>\n      <td>65130000</td>\n      <td>95.35</td>\n    </tr>\n    <tr>\n      <th>1</th>\n      <td>2014-07-07</td>\n      <td>94.14</td>\n      <td>95.99</td>\n      <td>94.10</td>\n      <td>95.97</td>\n      <td>56305400</td>\n      <td>95.97</td>\n    </tr>\n    <tr>\n      <th>2</th>\n      <td>2014-07-03</td>\n      <td>93.67</td>\n      <td>94.10</td>\n      <td>93.20</td>\n      <td>94.03</td>\n      <td>22891800</td>\n      <td>94.03</td>\n    </tr>\n    <tr>\n      <th>3</th>\n      <td>2014-07-02</td>\n      <td>93.87</td>\n      <td>94.06</td>\n      <td>93.09</td>\n      <td>93.48</td>\n      <td>28420900</td>\n      <td>93.48</td>\n    </tr>\n    <tr>\n      <th>4</th>\n      <td>2014-07-01</td>\n      <td>93.52</td>\n      <td>94.07</td>\n      <td>93.13</td>\n      <td>93.52</td>\n      <td>38170200</td>\n      <td>93.52</td>\n    </tr>\n    <tr>\n      <th>...</th>\n      <td>...</td>\n      <td>...</td>\n      <td>...</td>\n      <td>...</td>\n      <td>...</td>\n      <td>...</td>\n      <td>...</td>\n    </tr>\n    <tr>\n      <th>8460</th>\n      <td>1980-12-18</td>\n      <td>26.63</td>\n      <td>26.75</td>\n      <td>26.63</td>\n      <td>26.63</td>\n      <td>18362400</td>\n      <td>0.41</td>\n    </tr>\n    <tr>\n      <th>8461</th>\n      <td>1980-12-17</td>\n      <td>25.87</td>\n      <td>26.00</td>\n      <td>25.87</td>\n      <td>25.87</td>\n      <td>21610400</td>\n      <td>0.40</td>\n    </tr>\n    <tr>\n      <th>8462</th>\n      <td>1980-12-16</td>\n      <td>25.37</td>\n      <td>25.37</td>\n      <td>25.25</td>\n      <td>25.25</td>\n      <td>26432000</td>\n      <td>0.39</td>\n    </tr>\n    <tr>\n      <th>8463</th>\n      <td>1980-12-15</td>\n      <td>27.38</td>\n      <td>27.38</td>\n      <td>27.25</td>\n      <td>27.25</td>\n      <td>43971200</td>\n      <td>0.42</td>\n    </tr>\n    <tr>\n      <th>8464</th>\n      <td>1980-12-12</td>\n      <td>28.75</td>\n      <td>28.87</td>\n      <td>28.75</td>\n      <td>28.75</td>\n      <td>117258400</td>\n      <td>0.45</td>\n    </tr>\n  </tbody>\n</table>\n<p>8465 rows × 7 columns</p>\n</div>"
     },
     "metadata": {},
     "execution_count": 4
    }
   ],
   "source": [
    "apple "
   ]
  },
  {
   "cell_type": "code",
   "execution_count": null,
   "metadata": {},
   "outputs": [],
   "source": []
  },
  {
   "cell_type": "code",
   "execution_count": 32,
   "metadata": {
    "collapsed": false
   },
   "outputs": [
    {
     "data": {
      "text/html": [
       "<div>\n",
       "<table border=\"1\" class=\"dataframe\">\n",
       "  <thead>\n",
       "    <tr style=\"text-align: right;\">\n",
       "      <th></th>\n",
       "      <th>Date</th>\n",
       "      <th>Open</th>\n",
       "      <th>High</th>\n",
       "      <th>Low</th>\n",
       "      <th>Close</th>\n",
       "      <th>Volume</th>\n",
       "      <th>Adj Close</th>\n",
       "    </tr>\n",
       "  </thead>\n",
       "  <tbody>\n",
       "    <tr>\n",
       "      <th>0</th>\n",
       "      <td>2014-07-08</td>\n",
       "      <td>96.27</td>\n",
       "      <td>96.80</td>\n",
       "      <td>93.92</td>\n",
       "      <td>95.35</td>\n",
       "      <td>65130000</td>\n",
       "      <td>95.35</td>\n",
       "    </tr>\n",
       "    <tr>\n",
       "      <th>1</th>\n",
       "      <td>2014-07-07</td>\n",
       "      <td>94.14</td>\n",
       "      <td>95.99</td>\n",
       "      <td>94.10</td>\n",
       "      <td>95.97</td>\n",
       "      <td>56305400</td>\n",
       "      <td>95.97</td>\n",
       "    </tr>\n",
       "    <tr>\n",
       "      <th>2</th>\n",
       "      <td>2014-07-03</td>\n",
       "      <td>93.67</td>\n",
       "      <td>94.10</td>\n",
       "      <td>93.20</td>\n",
       "      <td>94.03</td>\n",
       "      <td>22891800</td>\n",
       "      <td>94.03</td>\n",
       "    </tr>\n",
       "    <tr>\n",
       "      <th>3</th>\n",
       "      <td>2014-07-02</td>\n",
       "      <td>93.87</td>\n",
       "      <td>94.06</td>\n",
       "      <td>93.09</td>\n",
       "      <td>93.48</td>\n",
       "      <td>28420900</td>\n",
       "      <td>93.48</td>\n",
       "    </tr>\n",
       "    <tr>\n",
       "      <th>4</th>\n",
       "      <td>2014-07-01</td>\n",
       "      <td>93.52</td>\n",
       "      <td>94.07</td>\n",
       "      <td>93.13</td>\n",
       "      <td>93.52</td>\n",
       "      <td>38170200</td>\n",
       "      <td>93.52</td>\n",
       "    </tr>\n",
       "  </tbody>\n",
       "</table>\n",
       "</div>"
      ],
      "text/plain": [
       "         Date   Open   High    Low  Close    Volume  Adj Close\n",
       "0  2014-07-08  96.27  96.80  93.92  95.35  65130000      95.35\n",
       "1  2014-07-07  94.14  95.99  94.10  95.97  56305400      95.97\n",
       "2  2014-07-03  93.67  94.10  93.20  94.03  22891800      94.03\n",
       "3  2014-07-02  93.87  94.06  93.09  93.48  28420900      93.48\n",
       "4  2014-07-01  93.52  94.07  93.13  93.52  38170200      93.52"
      ]
     },
     "execution_count": 32,
     "metadata": {},
     "output_type": "execute_result"
    }
   ],
   "source": []
  },
  {
   "cell_type": "markdown",
   "metadata": {},
   "source": [
    "### Step 4.  Check out the type of the columns"
   ]
  },
  {
   "cell_type": "code",
   "execution_count": 5,
   "metadata": {
    "tags": []
   },
   "outputs": [
    {
     "output_type": "stream",
     "name": "stdout",
     "text": "<class 'pandas.core.frame.DataFrame'>\nRangeIndex: 8465 entries, 0 to 8464\nData columns (total 7 columns):\n #   Column     Non-Null Count  Dtype  \n---  ------     --------------  -----  \n 0   Date       8465 non-null   object \n 1   Open       8465 non-null   float64\n 2   High       8465 non-null   float64\n 3   Low        8465 non-null   float64\n 4   Close      8465 non-null   float64\n 5   Volume     8465 non-null   int64  \n 6   Adj Close  8465 non-null   float64\ndtypes: float64(5), int64(1), object(1)\nmemory usage: 463.1+ KB\n"
    }
   ],
   "source": [
    "apple.info(0)"
   ]
  },
  {
   "cell_type": "code",
   "execution_count": 33,
   "metadata": {
    "collapsed": false
   },
   "outputs": [
    {
     "data": {
      "text/plain": [
       "Date          object\n",
       "Open         float64\n",
       "High         float64\n",
       "Low          float64\n",
       "Close        float64\n",
       "Volume         int64\n",
       "Adj Close    float64\n",
       "dtype: object"
      ]
     },
     "execution_count": 33,
     "metadata": {},
     "output_type": "execute_result"
    }
   ],
   "source": []
  },
  {
   "cell_type": "markdown",
   "metadata": {},
   "source": [
    "### Step 5. Transform the Date column as a datetime type"
   ]
  },
  {
   "cell_type": "code",
   "execution_count": 6,
   "metadata": {},
   "outputs": [],
   "source": [
    "apple[\"Date\"] = pd.to_datetime(apple['Date'], format= '%Y-%m-%d')"
   ]
  },
  {
   "cell_type": "code",
   "execution_count": 7,
   "metadata": {
    "tags": []
   },
   "outputs": [
    {
     "output_type": "stream",
     "name": "stdout",
     "text": "<class 'pandas.core.frame.DataFrame'>\nRangeIndex: 8465 entries, 0 to 8464\nData columns (total 7 columns):\n #   Column     Non-Null Count  Dtype         \n---  ------     --------------  -----         \n 0   Date       8465 non-null   datetime64[ns]\n 1   Open       8465 non-null   float64       \n 2   High       8465 non-null   float64       \n 3   Low        8465 non-null   float64       \n 4   Close      8465 non-null   float64       \n 5   Volume     8465 non-null   int64         \n 6   Adj Close  8465 non-null   float64       \ndtypes: datetime64[ns](1), float64(5), int64(1)\nmemory usage: 463.1 KB\n"
    }
   ],
   "source": [
    "apple.info()"
   ]
  },
  {
   "cell_type": "code",
   "execution_count": 34,
   "metadata": {
    "collapsed": false
   },
   "outputs": [
    {
     "data": {
      "text/plain": [
       "0   2014-07-08\n",
       "1   2014-07-07\n",
       "2   2014-07-03\n",
       "3   2014-07-02\n",
       "4   2014-07-01\n",
       "Name: Date, dtype: datetime64[ns]"
      ]
     },
     "execution_count": 34,
     "metadata": {},
     "output_type": "execute_result"
    }
   ],
   "source": []
  },
  {
   "cell_type": "markdown",
   "metadata": {},
   "source": [
    "### Step 6.  Set the date as the index"
   ]
  },
  {
   "cell_type": "code",
   "execution_count": 8,
   "metadata": {},
   "outputs": [],
   "source": [
    "apple.set_index(\"Date\", inplace = True)"
   ]
  },
  {
   "cell_type": "code",
   "execution_count": 9,
   "metadata": {},
   "outputs": [
    {
     "output_type": "execute_result",
     "data": {
      "text/plain": "             Open   High    Low  Close    Volume  Adj Close\nDate                                                       \n2014-07-08  96.27  96.80  93.92  95.35  65130000      95.35\n2014-07-07  94.14  95.99  94.10  95.97  56305400      95.97\n2014-07-03  93.67  94.10  93.20  94.03  22891800      94.03\n2014-07-02  93.87  94.06  93.09  93.48  28420900      93.48\n2014-07-01  93.52  94.07  93.13  93.52  38170200      93.52",
      "text/html": "<div>\n<style scoped>\n    .dataframe tbody tr th:only-of-type {\n        vertical-align: middle;\n    }\n\n    .dataframe tbody tr th {\n        vertical-align: top;\n    }\n\n    .dataframe thead th {\n        text-align: right;\n    }\n</style>\n<table border=\"1\" class=\"dataframe\">\n  <thead>\n    <tr style=\"text-align: right;\">\n      <th></th>\n      <th>Open</th>\n      <th>High</th>\n      <th>Low</th>\n      <th>Close</th>\n      <th>Volume</th>\n      <th>Adj Close</th>\n    </tr>\n    <tr>\n      <th>Date</th>\n      <th></th>\n      <th></th>\n      <th></th>\n      <th></th>\n      <th></th>\n      <th></th>\n    </tr>\n  </thead>\n  <tbody>\n    <tr>\n      <th>2014-07-08</th>\n      <td>96.27</td>\n      <td>96.80</td>\n      <td>93.92</td>\n      <td>95.35</td>\n      <td>65130000</td>\n      <td>95.35</td>\n    </tr>\n    <tr>\n      <th>2014-07-07</th>\n      <td>94.14</td>\n      <td>95.99</td>\n      <td>94.10</td>\n      <td>95.97</td>\n      <td>56305400</td>\n      <td>95.97</td>\n    </tr>\n    <tr>\n      <th>2014-07-03</th>\n      <td>93.67</td>\n      <td>94.10</td>\n      <td>93.20</td>\n      <td>94.03</td>\n      <td>22891800</td>\n      <td>94.03</td>\n    </tr>\n    <tr>\n      <th>2014-07-02</th>\n      <td>93.87</td>\n      <td>94.06</td>\n      <td>93.09</td>\n      <td>93.48</td>\n      <td>28420900</td>\n      <td>93.48</td>\n    </tr>\n    <tr>\n      <th>2014-07-01</th>\n      <td>93.52</td>\n      <td>94.07</td>\n      <td>93.13</td>\n      <td>93.52</td>\n      <td>38170200</td>\n      <td>93.52</td>\n    </tr>\n  </tbody>\n</table>\n</div>"
     },
     "metadata": {},
     "execution_count": 9
    }
   ],
   "source": [
    "apple.head()"
   ]
  },
  {
   "cell_type": "code",
   "execution_count": 35,
   "metadata": {
    "collapsed": false
   },
   "outputs": [
    {
     "data": {
      "text/html": [
       "<div>\n",
       "<table border=\"1\" class=\"dataframe\">\n",
       "  <thead>\n",
       "    <tr style=\"text-align: right;\">\n",
       "      <th></th>\n",
       "      <th>Open</th>\n",
       "      <th>High</th>\n",
       "      <th>Low</th>\n",
       "      <th>Close</th>\n",
       "      <th>Volume</th>\n",
       "      <th>Adj Close</th>\n",
       "    </tr>\n",
       "    <tr>\n",
       "      <th>Date</th>\n",
       "      <th></th>\n",
       "      <th></th>\n",
       "      <th></th>\n",
       "      <th></th>\n",
       "      <th></th>\n",
       "      <th></th>\n",
       "    </tr>\n",
       "  </thead>\n",
       "  <tbody>\n",
       "    <tr>\n",
       "      <th>2014-07-08</th>\n",
       "      <td>96.27</td>\n",
       "      <td>96.80</td>\n",
       "      <td>93.92</td>\n",
       "      <td>95.35</td>\n",
       "      <td>65130000</td>\n",
       "      <td>95.35</td>\n",
       "    </tr>\n",
       "    <tr>\n",
       "      <th>2014-07-07</th>\n",
       "      <td>94.14</td>\n",
       "      <td>95.99</td>\n",
       "      <td>94.10</td>\n",
       "      <td>95.97</td>\n",
       "      <td>56305400</td>\n",
       "      <td>95.97</td>\n",
       "    </tr>\n",
       "    <tr>\n",
       "      <th>2014-07-03</th>\n",
       "      <td>93.67</td>\n",
       "      <td>94.10</td>\n",
       "      <td>93.20</td>\n",
       "      <td>94.03</td>\n",
       "      <td>22891800</td>\n",
       "      <td>94.03</td>\n",
       "    </tr>\n",
       "    <tr>\n",
       "      <th>2014-07-02</th>\n",
       "      <td>93.87</td>\n",
       "      <td>94.06</td>\n",
       "      <td>93.09</td>\n",
       "      <td>93.48</td>\n",
       "      <td>28420900</td>\n",
       "      <td>93.48</td>\n",
       "    </tr>\n",
       "    <tr>\n",
       "      <th>2014-07-01</th>\n",
       "      <td>93.52</td>\n",
       "      <td>94.07</td>\n",
       "      <td>93.13</td>\n",
       "      <td>93.52</td>\n",
       "      <td>38170200</td>\n",
       "      <td>93.52</td>\n",
       "    </tr>\n",
       "  </tbody>\n",
       "</table>\n",
       "</div>"
      ],
      "text/plain": [
       "             Open   High    Low  Close    Volume  Adj Close\n",
       "Date                                                       \n",
       "2014-07-08  96.27  96.80  93.92  95.35  65130000      95.35\n",
       "2014-07-07  94.14  95.99  94.10  95.97  56305400      95.97\n",
       "2014-07-03  93.67  94.10  93.20  94.03  22891800      94.03\n",
       "2014-07-02  93.87  94.06  93.09  93.48  28420900      93.48\n",
       "2014-07-01  93.52  94.07  93.13  93.52  38170200      93.52"
      ]
     },
     "execution_count": 35,
     "metadata": {},
     "output_type": "execute_result"
    }
   ],
   "source": []
  },
  {
   "cell_type": "markdown",
   "metadata": {},
   "source": [
    "### Step 7.  Is there any duplicate dates?"
   ]
  },
  {
   "cell_type": "code",
   "execution_count": 10,
   "metadata": {},
   "outputs": [
    {
     "output_type": "execute_result",
     "data": {
      "text/plain": "DatetimeIndex(['2014-07-08', '2014-07-07', '2014-07-03', '2014-07-02',\n               '2014-07-01', '2014-06-30', '2014-06-27', '2014-06-26',\n               '2014-06-25', '2014-06-24',\n               ...\n               '1980-12-26', '1980-12-24', '1980-12-23', '1980-12-22',\n               '1980-12-19', '1980-12-18', '1980-12-17', '1980-12-16',\n               '1980-12-15', '1980-12-12'],\n              dtype='datetime64[ns]', name='Date', length=8465, freq=None)"
     },
     "metadata": {},
     "execution_count": 10
    }
   ],
   "source": [
    "apple.index"
   ]
  },
  {
   "cell_type": "code",
   "execution_count": 11,
   "metadata": {},
   "outputs": [
    {
     "output_type": "execute_result",
     "data": {
      "text/plain": "(8465, 6)"
     },
     "metadata": {},
     "execution_count": 11
    }
   ],
   "source": [
    "apple.shape"
   ]
  },
  {
   "cell_type": "code",
   "execution_count": 12,
   "metadata": {},
   "outputs": [
    {
     "output_type": "execute_result",
     "data": {
      "text/plain": "8465"
     },
     "metadata": {},
     "execution_count": 12
    }
   ],
   "source": [
    "apple.index.nunique()"
   ]
  },
  {
   "cell_type": "code",
   "execution_count": 13,
   "metadata": {
    "collapsed": false
   },
   "outputs": [],
   "source": [
    "# NO! All are unique"
   ]
  },
  {
   "cell_type": "markdown",
   "metadata": {},
   "source": [
    "### Step 8.  Ops...it seems the index is from the most recent date. Make the first entry the oldest date."
   ]
  },
  {
   "cell_type": "code",
   "execution_count": 14,
   "metadata": {},
   "outputs": [],
   "source": [
    "apple.sort_index(ascending = True, inplace=True)"
   ]
  },
  {
   "cell_type": "code",
   "execution_count": 15,
   "metadata": {},
   "outputs": [
    {
     "output_type": "execute_result",
     "data": {
      "text/plain": "             Open   High    Low  Close     Volume  Adj Close\nDate                                                        \n1980-12-12  28.75  28.87  28.75  28.75  117258400       0.45\n1980-12-15  27.38  27.38  27.25  27.25   43971200       0.42\n1980-12-16  25.37  25.37  25.25  25.25   26432000       0.39\n1980-12-17  25.87  26.00  25.87  25.87   21610400       0.40\n1980-12-18  26.63  26.75  26.63  26.63   18362400       0.41",
      "text/html": "<div>\n<style scoped>\n    .dataframe tbody tr th:only-of-type {\n        vertical-align: middle;\n    }\n\n    .dataframe tbody tr th {\n        vertical-align: top;\n    }\n\n    .dataframe thead th {\n        text-align: right;\n    }\n</style>\n<table border=\"1\" class=\"dataframe\">\n  <thead>\n    <tr style=\"text-align: right;\">\n      <th></th>\n      <th>Open</th>\n      <th>High</th>\n      <th>Low</th>\n      <th>Close</th>\n      <th>Volume</th>\n      <th>Adj Close</th>\n    </tr>\n    <tr>\n      <th>Date</th>\n      <th></th>\n      <th></th>\n      <th></th>\n      <th></th>\n      <th></th>\n      <th></th>\n    </tr>\n  </thead>\n  <tbody>\n    <tr>\n      <th>1980-12-12</th>\n      <td>28.75</td>\n      <td>28.87</td>\n      <td>28.75</td>\n      <td>28.75</td>\n      <td>117258400</td>\n      <td>0.45</td>\n    </tr>\n    <tr>\n      <th>1980-12-15</th>\n      <td>27.38</td>\n      <td>27.38</td>\n      <td>27.25</td>\n      <td>27.25</td>\n      <td>43971200</td>\n      <td>0.42</td>\n    </tr>\n    <tr>\n      <th>1980-12-16</th>\n      <td>25.37</td>\n      <td>25.37</td>\n      <td>25.25</td>\n      <td>25.25</td>\n      <td>26432000</td>\n      <td>0.39</td>\n    </tr>\n    <tr>\n      <th>1980-12-17</th>\n      <td>25.87</td>\n      <td>26.00</td>\n      <td>25.87</td>\n      <td>25.87</td>\n      <td>21610400</td>\n      <td>0.40</td>\n    </tr>\n    <tr>\n      <th>1980-12-18</th>\n      <td>26.63</td>\n      <td>26.75</td>\n      <td>26.63</td>\n      <td>26.63</td>\n      <td>18362400</td>\n      <td>0.41</td>\n    </tr>\n  </tbody>\n</table>\n</div>"
     },
     "metadata": {},
     "execution_count": 15
    }
   ],
   "source": [
    "apple.head()"
   ]
  },
  {
   "cell_type": "code",
   "execution_count": 39,
   "metadata": {
    "collapsed": false
   },
   "outputs": [
    {
     "data": {
      "text/html": [
       "<div>\n",
       "<table border=\"1\" class=\"dataframe\">\n",
       "  <thead>\n",
       "    <tr style=\"text-align: right;\">\n",
       "      <th></th>\n",
       "      <th>Open</th>\n",
       "      <th>High</th>\n",
       "      <th>Low</th>\n",
       "      <th>Close</th>\n",
       "      <th>Volume</th>\n",
       "      <th>Adj Close</th>\n",
       "    </tr>\n",
       "    <tr>\n",
       "      <th>Date</th>\n",
       "      <th></th>\n",
       "      <th></th>\n",
       "      <th></th>\n",
       "      <th></th>\n",
       "      <th></th>\n",
       "      <th></th>\n",
       "    </tr>\n",
       "  </thead>\n",
       "  <tbody>\n",
       "    <tr>\n",
       "      <th>1980-12-12</th>\n",
       "      <td>28.75</td>\n",
       "      <td>28.87</td>\n",
       "      <td>28.75</td>\n",
       "      <td>28.75</td>\n",
       "      <td>117258400</td>\n",
       "      <td>0.45</td>\n",
       "    </tr>\n",
       "    <tr>\n",
       "      <th>1980-12-15</th>\n",
       "      <td>27.38</td>\n",
       "      <td>27.38</td>\n",
       "      <td>27.25</td>\n",
       "      <td>27.25</td>\n",
       "      <td>43971200</td>\n",
       "      <td>0.42</td>\n",
       "    </tr>\n",
       "    <tr>\n",
       "      <th>1980-12-16</th>\n",
       "      <td>25.37</td>\n",
       "      <td>25.37</td>\n",
       "      <td>25.25</td>\n",
       "      <td>25.25</td>\n",
       "      <td>26432000</td>\n",
       "      <td>0.39</td>\n",
       "    </tr>\n",
       "    <tr>\n",
       "      <th>1980-12-17</th>\n",
       "      <td>25.87</td>\n",
       "      <td>26.00</td>\n",
       "      <td>25.87</td>\n",
       "      <td>25.87</td>\n",
       "      <td>21610400</td>\n",
       "      <td>0.40</td>\n",
       "    </tr>\n",
       "    <tr>\n",
       "      <th>1980-12-18</th>\n",
       "      <td>26.63</td>\n",
       "      <td>26.75</td>\n",
       "      <td>26.63</td>\n",
       "      <td>26.63</td>\n",
       "      <td>18362400</td>\n",
       "      <td>0.41</td>\n",
       "    </tr>\n",
       "  </tbody>\n",
       "</table>\n",
       "</div>"
      ],
      "text/plain": [
       "             Open   High    Low  Close     Volume  Adj Close\n",
       "Date                                                        \n",
       "1980-12-12  28.75  28.87  28.75  28.75  117258400       0.45\n",
       "1980-12-15  27.38  27.38  27.25  27.25   43971200       0.42\n",
       "1980-12-16  25.37  25.37  25.25  25.25   26432000       0.39\n",
       "1980-12-17  25.87  26.00  25.87  25.87   21610400       0.40\n",
       "1980-12-18  26.63  26.75  26.63  26.63   18362400       0.41"
      ]
     },
     "execution_count": 39,
     "metadata": {},
     "output_type": "execute_result"
    }
   ],
   "source": []
  },
  {
   "cell_type": "markdown",
   "metadata": {},
   "source": [
    "### Step 9. Get the last business day of each month"
   ]
  },
  {
   "cell_type": "code",
   "execution_count": 16,
   "metadata": {},
   "outputs": [],
   "source": [
    "apple.reset_index(inplace=True)"
   ]
  },
  {
   "cell_type": "code",
   "execution_count": 17,
   "metadata": {
    "tags": []
   },
   "outputs": [
    {
     "output_type": "stream",
     "name": "stdout",
     "text": "<class 'pandas.core.frame.DataFrame'>\nRangeIndex: 8465 entries, 0 to 8464\nData columns (total 7 columns):\n #   Column     Non-Null Count  Dtype         \n---  ------     --------------  -----         \n 0   Date       8465 non-null   datetime64[ns]\n 1   Open       8465 non-null   float64       \n 2   High       8465 non-null   float64       \n 3   Low        8465 non-null   float64       \n 4   Close      8465 non-null   float64       \n 5   Volume     8465 non-null   int64         \n 6   Adj Close  8465 non-null   float64       \ndtypes: datetime64[ns](1), float64(5), int64(1)\nmemory usage: 463.1 KB\n"
    }
   ],
   "source": [
    "apple.info()"
   ]
  },
  {
   "cell_type": "code",
   "execution_count": 18,
   "metadata": {},
   "outputs": [
    {
     "output_type": "execute_result",
     "data": {
      "text/plain": "0      1980-12-31\n1      1980-12-31\n2      1980-12-31\n3      1980-12-31\n4      1980-12-31\n          ...    \n8460   2014-07-31\n8461   2014-07-31\n8462   2014-07-31\n8463   2014-07-31\n8464   2014-07-31\nName: Date, Length: 8465, dtype: datetime64[ns]"
     },
     "metadata": {},
     "execution_count": 18
    }
   ],
   "source": [
    "apple.Date + pd.offsets.BMonthEnd(1)\n",
    "# OTRA FORMA apple.month =apple.resample(\"BM\").mean() (Business Month) (Si la columna índice es la fecha)"
   ]
  },
  {
   "cell_type": "code",
   "execution_count": 19,
   "metadata": {},
   "outputs": [],
   "source": [
    "apple[\"LBD\"] = apple.Date + pd.offsets.BMonthEnd(1)"
   ]
  },
  {
   "cell_type": "code",
   "execution_count": 20,
   "metadata": {
    "tags": []
   },
   "outputs": [
    {
     "output_type": "stream",
     "name": "stdout",
     "text": "<class 'pandas.core.frame.DataFrame'>\nRangeIndex: 8465 entries, 0 to 8464\nData columns (total 8 columns):\n #   Column     Non-Null Count  Dtype         \n---  ------     --------------  -----         \n 0   Date       8465 non-null   datetime64[ns]\n 1   Open       8465 non-null   float64       \n 2   High       8465 non-null   float64       \n 3   Low        8465 non-null   float64       \n 4   Close      8465 non-null   float64       \n 5   Volume     8465 non-null   int64         \n 6   Adj Close  8465 non-null   float64       \n 7   LBD        8465 non-null   datetime64[ns]\ndtypes: datetime64[ns](2), float64(5), int64(1)\nmemory usage: 529.2 KB\n"
    }
   ],
   "source": [
    "apple.info()"
   ]
  },
  {
   "cell_type": "code",
   "execution_count": 48,
   "metadata": {
    "collapsed": false
   },
   "outputs": [
    {
     "data": {
      "text/html": [
       "<div>\n",
       "<table border=\"1\" class=\"dataframe\">\n",
       "  <thead>\n",
       "    <tr style=\"text-align: right;\">\n",
       "      <th></th>\n",
       "      <th>Open</th>\n",
       "      <th>High</th>\n",
       "      <th>Low</th>\n",
       "      <th>Close</th>\n",
       "      <th>Volume</th>\n",
       "      <th>Adj Close</th>\n",
       "    </tr>\n",
       "    <tr>\n",
       "      <th>Date</th>\n",
       "      <th></th>\n",
       "      <th></th>\n",
       "      <th></th>\n",
       "      <th></th>\n",
       "      <th></th>\n",
       "      <th></th>\n",
       "    </tr>\n",
       "  </thead>\n",
       "  <tbody>\n",
       "    <tr>\n",
       "      <th>1980-12-31</th>\n",
       "      <td>30.481538</td>\n",
       "      <td>30.567692</td>\n",
       "      <td>30.443077</td>\n",
       "      <td>30.443077</td>\n",
       "      <td>25862523</td>\n",
       "      <td>0.473077</td>\n",
       "    </tr>\n",
       "    <tr>\n",
       "      <th>1981-01-30</th>\n",
       "      <td>31.754762</td>\n",
       "      <td>31.826667</td>\n",
       "      <td>31.654762</td>\n",
       "      <td>31.654762</td>\n",
       "      <td>7249866</td>\n",
       "      <td>0.493810</td>\n",
       "    </tr>\n",
       "    <tr>\n",
       "      <th>1981-02-27</th>\n",
       "      <td>26.480000</td>\n",
       "      <td>26.572105</td>\n",
       "      <td>26.407895</td>\n",
       "      <td>26.407895</td>\n",
       "      <td>4231831</td>\n",
       "      <td>0.411053</td>\n",
       "    </tr>\n",
       "    <tr>\n",
       "      <th>1981-03-31</th>\n",
       "      <td>24.937727</td>\n",
       "      <td>25.016818</td>\n",
       "      <td>24.836364</td>\n",
       "      <td>24.836364</td>\n",
       "      <td>7962690</td>\n",
       "      <td>0.387727</td>\n",
       "    </tr>\n",
       "    <tr>\n",
       "      <th>1981-04-30</th>\n",
       "      <td>27.286667</td>\n",
       "      <td>27.368095</td>\n",
       "      <td>27.227143</td>\n",
       "      <td>27.227143</td>\n",
       "      <td>6392000</td>\n",
       "      <td>0.423333</td>\n",
       "    </tr>\n",
       "  </tbody>\n",
       "</table>\n",
       "</div>"
      ],
      "text/plain": [
       "                 Open       High        Low      Close    Volume  Adj Close\n",
       "Date                                                                       \n",
       "1980-12-31  30.481538  30.567692  30.443077  30.443077  25862523   0.473077\n",
       "1981-01-30  31.754762  31.826667  31.654762  31.654762   7249866   0.493810\n",
       "1981-02-27  26.480000  26.572105  26.407895  26.407895   4231831   0.411053\n",
       "1981-03-31  24.937727  25.016818  24.836364  24.836364   7962690   0.387727\n",
       "1981-04-30  27.286667  27.368095  27.227143  27.227143   6392000   0.423333"
      ]
     },
     "execution_count": 48,
     "metadata": {},
     "output_type": "execute_result"
    }
   ],
   "source": []
  },
  {
   "cell_type": "markdown",
   "metadata": {},
   "source": [
    "### Step 10.  What is the difference in days between the first day and the oldest"
   ]
  },
  {
   "cell_type": "code",
   "execution_count": 21,
   "metadata": {},
   "outputs": [
    {
     "output_type": "execute_result",
     "data": {
      "text/plain": "Timedelta('12261 days 00:00:00')"
     },
     "metadata": {},
     "execution_count": 21
    }
   ],
   "source": [
    "apple.Date.max() - apple.Date.min()"
   ]
  },
  {
   "cell_type": "code",
   "execution_count": 22,
   "metadata": {},
   "outputs": [
    {
     "output_type": "execute_result",
     "data": {
      "text/plain": "12261"
     },
     "metadata": {},
     "execution_count": 22
    }
   ],
   "source": [
    "(apple.Date.max() - apple.Date.min()).days      #Indica la cantidad de dias pues es un tipo timedelta"
   ]
  },
  {
   "cell_type": "code",
   "execution_count": 65,
   "metadata": {
    "collapsed": false
   },
   "outputs": [
    {
     "data": {
      "text/plain": [
       "12261"
      ]
     },
     "execution_count": 65,
     "metadata": {},
     "output_type": "execute_result"
    }
   ],
   "source": []
  },
  {
   "cell_type": "markdown",
   "metadata": {},
   "source": [
    "### Step 11.  How many months in the data we have?"
   ]
  },
  {
   "cell_type": "code",
   "execution_count": 69,
   "metadata": {},
   "outputs": [
    {
     "output_type": "execute_result",
     "data": {
      "text/plain": "404"
     },
     "metadata": {},
     "execution_count": 69
    }
   ],
   "source": [
    "apple.groupby([apple['Date'].dt.year, apple['Date'].dt.month]).count().shape[0]"
   ]
  },
  {
   "cell_type": "code",
   "execution_count": 66,
   "metadata": {
    "collapsed": false
   },
   "outputs": [
    {
     "data": {
      "text/plain": [
       "404"
      ]
     },
     "execution_count": 66,
     "metadata": {},
     "output_type": "execute_result"
    }
   ],
   "source": []
  },
  {
   "cell_type": "markdown",
   "metadata": {},
   "source": [
    "### Step 12. Plot the 'Adj Close' value. Set the size of the figure to 13.5 x 9 inches"
   ]
  },
  {
   "cell_type": "code",
   "execution_count": 76,
   "metadata": {},
   "outputs": [
    {
     "output_type": "execute_result",
     "data": {
      "text/plain": "             Open   High    Low  Close     Volume  Adj Close        LBD\nDate                                                                   \n1980-12-12  28.75  28.87  28.75  28.75  117258400       0.45 1980-12-31\n1980-12-15  27.38  27.38  27.25  27.25   43971200       0.42 1980-12-31\n1980-12-16  25.37  25.37  25.25  25.25   26432000       0.39 1980-12-31\n1980-12-17  25.87  26.00  25.87  25.87   21610400       0.40 1980-12-31\n1980-12-18  26.63  26.75  26.63  26.63   18362400       0.41 1980-12-31",
      "text/html": "<div>\n<style scoped>\n    .dataframe tbody tr th:only-of-type {\n        vertical-align: middle;\n    }\n\n    .dataframe tbody tr th {\n        vertical-align: top;\n    }\n\n    .dataframe thead th {\n        text-align: right;\n    }\n</style>\n<table border=\"1\" class=\"dataframe\">\n  <thead>\n    <tr style=\"text-align: right;\">\n      <th></th>\n      <th>Open</th>\n      <th>High</th>\n      <th>Low</th>\n      <th>Close</th>\n      <th>Volume</th>\n      <th>Adj Close</th>\n      <th>LBD</th>\n    </tr>\n    <tr>\n      <th>Date</th>\n      <th></th>\n      <th></th>\n      <th></th>\n      <th></th>\n      <th></th>\n      <th></th>\n      <th></th>\n    </tr>\n  </thead>\n  <tbody>\n    <tr>\n      <th>1980-12-12</th>\n      <td>28.75</td>\n      <td>28.87</td>\n      <td>28.75</td>\n      <td>28.75</td>\n      <td>117258400</td>\n      <td>0.45</td>\n      <td>1980-12-31</td>\n    </tr>\n    <tr>\n      <th>1980-12-15</th>\n      <td>27.38</td>\n      <td>27.38</td>\n      <td>27.25</td>\n      <td>27.25</td>\n      <td>43971200</td>\n      <td>0.42</td>\n      <td>1980-12-31</td>\n    </tr>\n    <tr>\n      <th>1980-12-16</th>\n      <td>25.37</td>\n      <td>25.37</td>\n      <td>25.25</td>\n      <td>25.25</td>\n      <td>26432000</td>\n      <td>0.39</td>\n      <td>1980-12-31</td>\n    </tr>\n    <tr>\n      <th>1980-12-17</th>\n      <td>25.87</td>\n      <td>26.00</td>\n      <td>25.87</td>\n      <td>25.87</td>\n      <td>21610400</td>\n      <td>0.40</td>\n      <td>1980-12-31</td>\n    </tr>\n    <tr>\n      <th>1980-12-18</th>\n      <td>26.63</td>\n      <td>26.75</td>\n      <td>26.63</td>\n      <td>26.63</td>\n      <td>18362400</td>\n      <td>0.41</td>\n      <td>1980-12-31</td>\n    </tr>\n  </tbody>\n</table>\n</div>"
     },
     "metadata": {},
     "execution_count": 76
    }
   ],
   "source": [
    "apple.head(5)"
   ]
  },
  {
   "cell_type": "code",
   "execution_count": 74,
   "metadata": {
    "tags": []
   },
   "outputs": [
    {
     "output_type": "stream",
     "name": "stdout",
     "text": "<class 'pandas.core.frame.DataFrame'>\nDatetimeIndex: 8465 entries, 1980-12-12 to 2014-07-08\nData columns (total 7 columns):\n #   Column     Non-Null Count  Dtype         \n---  ------     --------------  -----         \n 0   Open       8465 non-null   float64       \n 1   High       8465 non-null   float64       \n 2   Low        8465 non-null   float64       \n 3   Close      8465 non-null   float64       \n 4   Volume     8465 non-null   int64         \n 5   Adj Close  8465 non-null   float64       \n 6   LBD        8465 non-null   datetime64[ns]\ndtypes: datetime64[ns](1), float64(5), int64(1)\nmemory usage: 849.1 KB\n"
    }
   ],
   "source": [
    "apple.info()"
   ]
  },
  {
   "cell_type": "code",
   "execution_count": 25,
   "metadata": {
    "collapsed": false
   },
   "outputs": [
    {
     "output_type": "execute_result",
     "data": {
      "text/plain": "<matplotlib.axes._subplots.AxesSubplot at 0x7fa57b7a1a90>"
     },
     "metadata": {},
     "execution_count": 25
    },
    {
     "output_type": "display_data",
     "data": {
      "text/plain": "<Figure size 864x648 with 1 Axes>",
      "image/svg+xml": "<?xml version=\"1.0\" encoding=\"utf-8\" standalone=\"no\"?>\n<!DOCTYPE svg PUBLIC \"-//W3C//DTD SVG 1.1//EN\"\n  \"http://www.w3.org/Graphics/SVG/1.1/DTD/svg11.dtd\">\n<!-- Created with matplotlib (https://matplotlib.org/) -->\n<svg height=\"535.43625pt\" version=\"1.1\" viewBox=\"0 0 710.0875 535.43625\" width=\"710.0875pt\" xmlns=\"http://www.w3.org/2000/svg\" xmlns:xlink=\"http://www.w3.org/1999/xlink\">\n <defs>\n  <style type=\"text/css\">\n*{stroke-linecap:butt;stroke-linejoin:round;}\n  </style>\n </defs>\n <g id=\"figure_1\">\n  <g id=\"patch_1\">\n   <path d=\"M 0 535.43625 \nL 710.0875 535.43625 \nL 710.0875 0 \nL 0 0 \nz\n\" style=\"fill:none;\"/>\n  </g>\n  <g id=\"axes_1\">\n   <g id=\"patch_2\">\n    <path d=\"M 33.2875 511.558125 \nL 702.8875 511.558125 \nL 702.8875 22.318125 \nL 33.2875 22.318125 \nz\n\" style=\"fill:#ffffff;\"/>\n   </g>\n   <g id=\"matplotlib.axis_1\">\n    <g id=\"xtick_1\">\n     <g id=\"line2d_1\">\n      <path clip-path=\"url(#p437f88c435)\" d=\"M 63.723864 511.558125 \nL 63.723864 22.318125 \n\" style=\"fill:none;stroke:#b0b0b0;stroke-linecap:square;stroke-width:0.8;\"/>\n     </g>\n     <g id=\"line2d_2\">\n      <defs>\n       <path d=\"M 0 0 \nL 0 3.5 \n\" id=\"m7c638dd7d7\" style=\"stroke:#000000;stroke-width:0.8;\"/>\n      </defs>\n      <g>\n       <use style=\"stroke:#000000;stroke-width:0.8;\" x=\"63.723864\" xlink:href=\"#m7c638dd7d7\" y=\"511.558125\"/>\n      </g>\n     </g>\n     <g id=\"text_1\">\n      <!-- 0 -->\n      <defs>\n       <path d=\"M 31.78125 66.40625 \nQ 24.171875 66.40625 20.328125 58.90625 \nQ 16.5 51.421875 16.5 36.375 \nQ 16.5 21.390625 20.328125 13.890625 \nQ 24.171875 6.390625 31.78125 6.390625 \nQ 39.453125 6.390625 43.28125 13.890625 \nQ 47.125 21.390625 47.125 36.375 \nQ 47.125 51.421875 43.28125 58.90625 \nQ 39.453125 66.40625 31.78125 66.40625 \nz\nM 31.78125 74.21875 \nQ 44.046875 74.21875 50.515625 64.515625 \nQ 56.984375 54.828125 56.984375 36.375 \nQ 56.984375 17.96875 50.515625 8.265625 \nQ 44.046875 -1.421875 31.78125 -1.421875 \nQ 19.53125 -1.421875 13.0625 8.265625 \nQ 6.59375 17.96875 6.59375 36.375 \nQ 6.59375 54.828125 13.0625 64.515625 \nQ 19.53125 74.21875 31.78125 74.21875 \nz\n\" id=\"DejaVuSans-48\"/>\n      </defs>\n      <g transform=\"translate(60.542614 526.156562)scale(0.1 -0.1)\">\n       <use xlink:href=\"#DejaVuSans-48\"/>\n      </g>\n     </g>\n    </g>\n    <g id=\"xtick_2\">\n     <g id=\"line2d_3\">\n      <path clip-path=\"url(#p437f88c435)\" d=\"M 207.563011 511.558125 \nL 207.563011 22.318125 \n\" style=\"fill:none;stroke:#b0b0b0;stroke-linecap:square;stroke-width:0.8;\"/>\n     </g>\n     <g id=\"line2d_4\">\n      <g>\n       <use style=\"stroke:#000000;stroke-width:0.8;\" x=\"207.563011\" xlink:href=\"#m7c638dd7d7\" y=\"511.558125\"/>\n      </g>\n     </g>\n     <g id=\"text_2\">\n      <!-- 2000 -->\n      <defs>\n       <path d=\"M 19.1875 8.296875 \nL 53.609375 8.296875 \nL 53.609375 0 \nL 7.328125 0 \nL 7.328125 8.296875 \nQ 12.9375 14.109375 22.625 23.890625 \nQ 32.328125 33.6875 34.8125 36.53125 \nQ 39.546875 41.84375 41.421875 45.53125 \nQ 43.3125 49.21875 43.3125 52.78125 \nQ 43.3125 58.59375 39.234375 62.25 \nQ 35.15625 65.921875 28.609375 65.921875 \nQ 23.96875 65.921875 18.8125 64.3125 \nQ 13.671875 62.703125 7.8125 59.421875 \nL 7.8125 69.390625 \nQ 13.765625 71.78125 18.9375 73 \nQ 24.125 74.21875 28.421875 74.21875 \nQ 39.75 74.21875 46.484375 68.546875 \nQ 53.21875 62.890625 53.21875 53.421875 \nQ 53.21875 48.921875 51.53125 44.890625 \nQ 49.859375 40.875 45.40625 35.40625 \nQ 44.1875 33.984375 37.640625 27.21875 \nQ 31.109375 20.453125 19.1875 8.296875 \nz\n\" id=\"DejaVuSans-50\"/>\n      </defs>\n      <g transform=\"translate(194.838011 526.156562)scale(0.1 -0.1)\">\n       <use xlink:href=\"#DejaVuSans-50\"/>\n       <use x=\"63.623047\" xlink:href=\"#DejaVuSans-48\"/>\n       <use x=\"127.246094\" xlink:href=\"#DejaVuSans-48\"/>\n       <use x=\"190.869141\" xlink:href=\"#DejaVuSans-48\"/>\n      </g>\n     </g>\n    </g>\n    <g id=\"xtick_3\">\n     <g id=\"line2d_5\">\n      <path clip-path=\"url(#p437f88c435)\" d=\"M 351.402159 511.558125 \nL 351.402159 22.318125 \n\" style=\"fill:none;stroke:#b0b0b0;stroke-linecap:square;stroke-width:0.8;\"/>\n     </g>\n     <g id=\"line2d_6\">\n      <g>\n       <use style=\"stroke:#000000;stroke-width:0.8;\" x=\"351.402159\" xlink:href=\"#m7c638dd7d7\" y=\"511.558125\"/>\n      </g>\n     </g>\n     <g id=\"text_3\">\n      <!-- 4000 -->\n      <defs>\n       <path d=\"M 37.796875 64.3125 \nL 12.890625 25.390625 \nL 37.796875 25.390625 \nz\nM 35.203125 72.90625 \nL 47.609375 72.90625 \nL 47.609375 25.390625 \nL 58.015625 25.390625 \nL 58.015625 17.1875 \nL 47.609375 17.1875 \nL 47.609375 0 \nL 37.796875 0 \nL 37.796875 17.1875 \nL 4.890625 17.1875 \nL 4.890625 26.703125 \nz\n\" id=\"DejaVuSans-52\"/>\n      </defs>\n      <g transform=\"translate(338.677159 526.156562)scale(0.1 -0.1)\">\n       <use xlink:href=\"#DejaVuSans-52\"/>\n       <use x=\"63.623047\" xlink:href=\"#DejaVuSans-48\"/>\n       <use x=\"127.246094\" xlink:href=\"#DejaVuSans-48\"/>\n       <use x=\"190.869141\" xlink:href=\"#DejaVuSans-48\"/>\n      </g>\n     </g>\n    </g>\n    <g id=\"xtick_4\">\n     <g id=\"line2d_7\">\n      <path clip-path=\"url(#p437f88c435)\" d=\"M 495.241306 511.558125 \nL 495.241306 22.318125 \n\" style=\"fill:none;stroke:#b0b0b0;stroke-linecap:square;stroke-width:0.8;\"/>\n     </g>\n     <g id=\"line2d_8\">\n      <g>\n       <use style=\"stroke:#000000;stroke-width:0.8;\" x=\"495.241306\" xlink:href=\"#m7c638dd7d7\" y=\"511.558125\"/>\n      </g>\n     </g>\n     <g id=\"text_4\">\n      <!-- 6000 -->\n      <defs>\n       <path d=\"M 33.015625 40.375 \nQ 26.375 40.375 22.484375 35.828125 \nQ 18.609375 31.296875 18.609375 23.390625 \nQ 18.609375 15.53125 22.484375 10.953125 \nQ 26.375 6.390625 33.015625 6.390625 \nQ 39.65625 6.390625 43.53125 10.953125 \nQ 47.40625 15.53125 47.40625 23.390625 \nQ 47.40625 31.296875 43.53125 35.828125 \nQ 39.65625 40.375 33.015625 40.375 \nz\nM 52.59375 71.296875 \nL 52.59375 62.3125 \nQ 48.875 64.0625 45.09375 64.984375 \nQ 41.3125 65.921875 37.59375 65.921875 \nQ 27.828125 65.921875 22.671875 59.328125 \nQ 17.53125 52.734375 16.796875 39.40625 \nQ 19.671875 43.65625 24.015625 45.921875 \nQ 28.375 48.1875 33.59375 48.1875 \nQ 44.578125 48.1875 50.953125 41.515625 \nQ 57.328125 34.859375 57.328125 23.390625 \nQ 57.328125 12.15625 50.6875 5.359375 \nQ 44.046875 -1.421875 33.015625 -1.421875 \nQ 20.359375 -1.421875 13.671875 8.265625 \nQ 6.984375 17.96875 6.984375 36.375 \nQ 6.984375 53.65625 15.1875 63.9375 \nQ 23.390625 74.21875 37.203125 74.21875 \nQ 40.921875 74.21875 44.703125 73.484375 \nQ 48.484375 72.75 52.59375 71.296875 \nz\n\" id=\"DejaVuSans-54\"/>\n      </defs>\n      <g transform=\"translate(482.516306 526.156562)scale(0.1 -0.1)\">\n       <use xlink:href=\"#DejaVuSans-54\"/>\n       <use x=\"63.623047\" xlink:href=\"#DejaVuSans-48\"/>\n       <use x=\"127.246094\" xlink:href=\"#DejaVuSans-48\"/>\n       <use x=\"190.869141\" xlink:href=\"#DejaVuSans-48\"/>\n      </g>\n     </g>\n    </g>\n    <g id=\"xtick_5\">\n     <g id=\"line2d_9\">\n      <path clip-path=\"url(#p437f88c435)\" d=\"M 639.080454 511.558125 \nL 639.080454 22.318125 \n\" style=\"fill:none;stroke:#b0b0b0;stroke-linecap:square;stroke-width:0.8;\"/>\n     </g>\n     <g id=\"line2d_10\">\n      <g>\n       <use style=\"stroke:#000000;stroke-width:0.8;\" x=\"639.080454\" xlink:href=\"#m7c638dd7d7\" y=\"511.558125\"/>\n      </g>\n     </g>\n     <g id=\"text_5\">\n      <!-- 8000 -->\n      <defs>\n       <path d=\"M 31.78125 34.625 \nQ 24.75 34.625 20.71875 30.859375 \nQ 16.703125 27.09375 16.703125 20.515625 \nQ 16.703125 13.921875 20.71875 10.15625 \nQ 24.75 6.390625 31.78125 6.390625 \nQ 38.8125 6.390625 42.859375 10.171875 \nQ 46.921875 13.96875 46.921875 20.515625 \nQ 46.921875 27.09375 42.890625 30.859375 \nQ 38.875 34.625 31.78125 34.625 \nz\nM 21.921875 38.8125 \nQ 15.578125 40.375 12.03125 44.71875 \nQ 8.5 49.078125 8.5 55.328125 \nQ 8.5 64.0625 14.71875 69.140625 \nQ 20.953125 74.21875 31.78125 74.21875 \nQ 42.671875 74.21875 48.875 69.140625 \nQ 55.078125 64.0625 55.078125 55.328125 \nQ 55.078125 49.078125 51.53125 44.71875 \nQ 48 40.375 41.703125 38.8125 \nQ 48.828125 37.15625 52.796875 32.3125 \nQ 56.78125 27.484375 56.78125 20.515625 \nQ 56.78125 9.90625 50.3125 4.234375 \nQ 43.84375 -1.421875 31.78125 -1.421875 \nQ 19.734375 -1.421875 13.25 4.234375 \nQ 6.78125 9.90625 6.78125 20.515625 \nQ 6.78125 27.484375 10.78125 32.3125 \nQ 14.796875 37.15625 21.921875 38.8125 \nz\nM 18.3125 54.390625 \nQ 18.3125 48.734375 21.84375 45.5625 \nQ 25.390625 42.390625 31.78125 42.390625 \nQ 38.140625 42.390625 41.71875 45.5625 \nQ 45.3125 48.734375 45.3125 54.390625 \nQ 45.3125 60.0625 41.71875 63.234375 \nQ 38.140625 66.40625 31.78125 66.40625 \nQ 25.390625 66.40625 21.84375 63.234375 \nQ 18.3125 60.0625 18.3125 54.390625 \nz\n\" id=\"DejaVuSans-56\"/>\n      </defs>\n      <g transform=\"translate(626.355454 526.156562)scale(0.1 -0.1)\">\n       <use xlink:href=\"#DejaVuSans-56\"/>\n       <use x=\"63.623047\" xlink:href=\"#DejaVuSans-48\"/>\n       <use x=\"127.246094\" xlink:href=\"#DejaVuSans-48\"/>\n       <use x=\"190.869141\" xlink:href=\"#DejaVuSans-48\"/>\n      </g>\n     </g>\n    </g>\n   </g>\n   <g id=\"matplotlib.axis_2\">\n    <g id=\"ytick_1\">\n     <g id=\"line2d_11\">\n      <path clip-path=\"url(#p437f88c435)\" d=\"M 33.2875 490.106644 \nL 702.8875 490.106644 \n\" style=\"fill:none;stroke:#b0b0b0;stroke-linecap:square;stroke-width:0.8;\"/>\n     </g>\n     <g id=\"line2d_12\">\n      <defs>\n       <path d=\"M 0 0 \nL -3.5 0 \n\" id=\"mfdacac120b\" style=\"stroke:#000000;stroke-width:0.8;\"/>\n      </defs>\n      <g>\n       <use style=\"stroke:#000000;stroke-width:0.8;\" x=\"33.2875\" xlink:href=\"#mfdacac120b\" y=\"490.106644\"/>\n      </g>\n     </g>\n     <g id=\"text_6\">\n      <!-- 0 -->\n      <g transform=\"translate(19.925 493.905863)scale(0.1 -0.1)\">\n       <use xlink:href=\"#DejaVuSans-48\"/>\n      </g>\n     </g>\n    </g>\n    <g id=\"ytick_2\">\n     <g id=\"line2d_13\">\n      <path clip-path=\"url(#p437f88c435)\" d=\"M 33.2875 397.553603 \nL 702.8875 397.553603 \n\" style=\"fill:none;stroke:#b0b0b0;stroke-linecap:square;stroke-width:0.8;\"/>\n     </g>\n     <g id=\"line2d_14\">\n      <g>\n       <use style=\"stroke:#000000;stroke-width:0.8;\" x=\"33.2875\" xlink:href=\"#mfdacac120b\" y=\"397.553603\"/>\n      </g>\n     </g>\n     <g id=\"text_7\">\n      <!-- 20 -->\n      <g transform=\"translate(13.5625 401.352822)scale(0.1 -0.1)\">\n       <use xlink:href=\"#DejaVuSans-50\"/>\n       <use x=\"63.623047\" xlink:href=\"#DejaVuSans-48\"/>\n      </g>\n     </g>\n    </g>\n    <g id=\"ytick_3\">\n     <g id=\"line2d_15\">\n      <path clip-path=\"url(#p437f88c435)\" d=\"M 33.2875 305.000563 \nL 702.8875 305.000563 \n\" style=\"fill:none;stroke:#b0b0b0;stroke-linecap:square;stroke-width:0.8;\"/>\n     </g>\n     <g id=\"line2d_16\">\n      <g>\n       <use style=\"stroke:#000000;stroke-width:0.8;\" x=\"33.2875\" xlink:href=\"#mfdacac120b\" y=\"305.000563\"/>\n      </g>\n     </g>\n     <g id=\"text_8\">\n      <!-- 40 -->\n      <g transform=\"translate(13.5625 308.799782)scale(0.1 -0.1)\">\n       <use xlink:href=\"#DejaVuSans-52\"/>\n       <use x=\"63.623047\" xlink:href=\"#DejaVuSans-48\"/>\n      </g>\n     </g>\n    </g>\n    <g id=\"ytick_4\">\n     <g id=\"line2d_17\">\n      <path clip-path=\"url(#p437f88c435)\" d=\"M 33.2875 212.447522 \nL 702.8875 212.447522 \n\" style=\"fill:none;stroke:#b0b0b0;stroke-linecap:square;stroke-width:0.8;\"/>\n     </g>\n     <g id=\"line2d_18\">\n      <g>\n       <use style=\"stroke:#000000;stroke-width:0.8;\" x=\"33.2875\" xlink:href=\"#mfdacac120b\" y=\"212.447522\"/>\n      </g>\n     </g>\n     <g id=\"text_9\">\n      <!-- 60 -->\n      <g transform=\"translate(13.5625 216.246741)scale(0.1 -0.1)\">\n       <use xlink:href=\"#DejaVuSans-54\"/>\n       <use x=\"63.623047\" xlink:href=\"#DejaVuSans-48\"/>\n      </g>\n     </g>\n    </g>\n    <g id=\"ytick_5\">\n     <g id=\"line2d_19\">\n      <path clip-path=\"url(#p437f88c435)\" d=\"M 33.2875 119.894482 \nL 702.8875 119.894482 \n\" style=\"fill:none;stroke:#b0b0b0;stroke-linecap:square;stroke-width:0.8;\"/>\n     </g>\n     <g id=\"line2d_20\">\n      <g>\n       <use style=\"stroke:#000000;stroke-width:0.8;\" x=\"33.2875\" xlink:href=\"#mfdacac120b\" y=\"119.894482\"/>\n      </g>\n     </g>\n     <g id=\"text_10\">\n      <!-- 80 -->\n      <g transform=\"translate(13.5625 123.693701)scale(0.1 -0.1)\">\n       <use xlink:href=\"#DejaVuSans-56\"/>\n       <use x=\"63.623047\" xlink:href=\"#DejaVuSans-48\"/>\n      </g>\n     </g>\n    </g>\n    <g id=\"ytick_6\">\n     <g id=\"line2d_21\">\n      <path clip-path=\"url(#p437f88c435)\" d=\"M 33.2875 27.341441 \nL 702.8875 27.341441 \n\" style=\"fill:none;stroke:#b0b0b0;stroke-linecap:square;stroke-width:0.8;\"/>\n     </g>\n     <g id=\"line2d_22\">\n      <g>\n       <use style=\"stroke:#000000;stroke-width:0.8;\" x=\"33.2875\" xlink:href=\"#mfdacac120b\" y=\"27.341441\"/>\n      </g>\n     </g>\n     <g id=\"text_11\">\n      <!-- 100 -->\n      <defs>\n       <path d=\"M 12.40625 8.296875 \nL 28.515625 8.296875 \nL 28.515625 63.921875 \nL 10.984375 60.40625 \nL 10.984375 69.390625 \nL 28.421875 72.90625 \nL 38.28125 72.90625 \nL 38.28125 8.296875 \nL 54.390625 8.296875 \nL 54.390625 0 \nL 12.40625 0 \nz\n\" id=\"DejaVuSans-49\"/>\n      </defs>\n      <g transform=\"translate(7.2 31.14066)scale(0.1 -0.1)\">\n       <use xlink:href=\"#DejaVuSans-49\"/>\n       <use x=\"63.623047\" xlink:href=\"#DejaVuSans-48\"/>\n       <use x=\"127.246094\" xlink:href=\"#DejaVuSans-48\"/>\n      </g>\n     </g>\n    </g>\n   </g>\n   <g id=\"line2d_23\">\n    <path clip-path=\"url(#p437f88c435)\" d=\"M 63.723864 488.024201 \nL 63.867703 488.30186 \nL 63.939622 488.255583 \nL 64.083462 488.070477 \nL 64.514979 487.561435 \nL 64.658818 487.607712 \nL 64.802657 487.792818 \nL 64.946496 487.931648 \nL 65.018416 487.792818 \nL 65.090336 487.839095 \nL 65.234175 487.885371 \nL 65.593773 487.746541 \nL 65.881451 487.792818 \nL 66.169129 488.209307 \nL 66.241049 488.116754 \nL 66.384888 488.024201 \nL 66.456807 488.024201 \nL 66.672566 488.209307 \nL 67.032164 488.255583 \nL 67.247923 488.394413 \nL 67.463681 488.209307 \nL 67.823279 488.255583 \nL 68.039038 488.533242 \nL 68.686314 488.209307 \nL 68.973993 488.30186 \nL 69.117832 488.348136 \nL 69.261671 488.209307 \nL 70.052786 488.116754 \nL 70.340464 488.024201 \nL 70.556223 488.070477 \nL 71.563097 488.070477 \nL 71.850775 487.746541 \nL 72.354212 487.839095 \nL 72.498052 487.885371 \nL 72.78573 487.792818 \nL 73.289167 488.024201 \nL 73.433006 488.024201 \nL 73.864524 488.30186 \nL 73.936443 488.209307 \nL 74.152202 488.486966 \nL 74.43988 488.255583 \nL 74.655639 488.486966 \nL 74.943317 488.348136 \nL 75.087156 488.348136 \nL 75.374835 488.255583 \nL 76.022111 488.579519 \nL 76.09403 488.533242 \nL 76.237869 488.764625 \nL 76.309789 488.718348 \nL 76.597467 488.672072 \nL 76.741306 488.533242 \nL 76.957065 488.672072 \nL 77.316663 488.764625 \nL 77.532422 488.810901 \nL 77.8201 488.903454 \nL 77.963939 489.088561 \nL 78.107778 488.996008 \nL 78.395457 488.903454 \nL 78.611215 488.764625 \nL 78.755055 488.718348 \nL 78.898894 488.764625 \nL 79.042733 488.764625 \nL 79.186572 488.672072 \nL 79.402331 488.718348 \nL 81.991435 488.718348 \nL 82.135275 488.440689 \nL 82.207194 488.533242 \nL 82.351033 488.533242 \nL 82.92639 488.625795 \nL 83.142149 488.764625 \nL 83.285988 488.810901 \nL 83.717505 488.625795 \nL 84.50862 488.672072 \nL 84.65246 488.764625 \nL 85.803173 488.810901 \nL 85.947012 488.903454 \nL 86.30661 488.996008 \nL 86.450449 489.088561 \nL 86.738127 488.857178 \nL 86.953886 488.949731 \nL 87.313484 488.810901 \nL 87.673082 488.857178 \nL 87.816921 488.949731 \nL 88.03268 488.903454 \nL 88.320358 488.996008 \nL 88.464197 488.996008 \nL 88.679956 489.042284 \nL 88.967634 488.949731 \nL 89.399151 489.042284 \nL 89.61491 489.088561 \nL 91.772497 489.181114 \nL 92.060176 489.319943 \nL 92.491693 489.134837 \nL 94.289683 489.042284 \nL 94.79312 488.810901 \nL 94.936959 488.810901 \nL 95.008878 488.764625 \nL 95.152717 488.810901 \nL 95.296557 488.810901 \nL 96.519189 488.764625 \nL 96.806868 488.394413 \nL 96.950707 488.394413 \nL 97.238385 488.394413 \nL 97.382224 488.209307 \nL 97.669902 488.30186 \nL 97.813742 488.255583 \nL 98.173339 487.931648 \nL 98.245259 488.024201 \nL 98.532937 487.792818 \nL 98.748696 487.839095 \nL 98.892535 487.885371 \nL 98.964455 488.070477 \nL 99.036374 488.024201 \nL 99.180214 488.024201 \nL 99.252133 488.024201 \nL 99.395972 487.746541 \nL 99.82749 487.839095 \nL 100.043248 488.070477 \nL 100.187088 488.024201 \nL 100.330927 487.931648 \nL 100.474766 487.885371 \nL 100.690525 487.746541 \nL 100.978203 488.070477 \nL 101.122042 487.931648 \nL 101.265881 488.116754 \nL 101.697399 487.653988 \nL 101.841238 487.700265 \nL 101.985077 487.422606 \nL 102.056996 487.561435 \nL 102.128916 487.468882 \nL 102.632353 486.867288 \nL 102.920031 487.052394 \nL 103.13579 486.774735 \nL 103.351549 486.913564 \nL 103.639227 486.635905 \nL 103.854986 486.774735 \nL 103.926905 486.728458 \nL 104.214584 487.052394 \nL 104.358423 487.006117 \nL 104.646101 487.09867 \nL 104.933779 486.913564 \nL 105.005699 487.052394 \nL 105.077619 487.006117 \nL 105.437216 487.052394 \nL 105.652975 487.2375 \nL 105.796814 487.283776 \nL 106.012573 486.913564 \nL 106.300251 486.774735 \nL 106.44409 486.358246 \nL 106.58793 486.589628 \nL 106.659849 486.497075 \nL 106.803688 486.497075 \nL 106.875608 486.450799 \nL 107.019447 486.589628 \nL 107.235206 486.126863 \nL 107.738643 486.358246 \nL 107.882482 486.219416 \nL 108.098241 485.756651 \nL 108.457839 485.895481 \nL 108.529758 485.895481 \nL 108.673597 485.571545 \nL 108.817436 485.802928 \nL 108.961276 485.849204 \nL 109.177034 486.17314 \nL 109.248954 485.988034 \nL 109.320873 486.080587 \nL 109.392793 486.265693 \nL 109.464713 486.219416 \nL 109.536632 486.126863 \nL 109.752391 486.497075 \nL 109.82431 486.728458 \nL 109.89623 486.543352 \nL 109.96815 486.589628 \nL 110.040069 486.543352 \nL 110.255828 486.728458 \nL 110.327747 486.774735 \nL 110.399667 486.682182 \nL 110.543506 486.774735 \nL 110.615426 486.774735 \nL 110.903104 487.144947 \nL 111.046943 486.959841 \nL 111.118863 487.006117 \nL 111.334621 487.653988 \nL 111.55038 487.607712 \nL 112.557254 487.700265 \nL 112.773013 487.885371 \nL 112.916852 487.839095 \nL 112.988772 487.746541 \nL 113.060691 487.422606 \nL 113.132611 487.468882 \nL 113.27645 487.283776 \nL 113.492209 487.885371 \nL 114.067565 487.839095 \nL 114.139485 487.746541 \nL 114.283324 488.394413 \nL 114.499083 488.440689 \nL 114.786761 488.486966 \nL 115.00252 488.718348 \nL 115.146359 488.440689 \nL 115.218278 488.486966 \nL 115.362118 488.718348 \nL 115.434037 488.579519 \nL 115.505957 488.625795 \nL 115.577876 488.672072 \nL 115.721716 488.579519 \nL 115.793635 488.672072 \nL 116.081313 488.440689 \nL 116.153233 488.394413 \nL 116.440911 488.810901 \nL 116.65667 488.672072 \nL 117.951222 488.579519 \nL 118.38274 488.30186 \nL 118.526579 488.440689 \nL 118.670418 488.30186 \nL 118.814257 488.30186 \nL 119.101935 488.255583 \nL 119.245775 488.070477 \nL 119.461533 488.116754 \nL 119.605372 488.116754 \nL 119.749212 488.116754 \nL 119.893051 488.024201 \nL 120.10881 488.024201 \nL 120.252649 488.16303 \nL 120.324568 488.116754 \nL 120.612247 488.348136 \nL 120.756086 488.348136 \nL 120.828005 488.440689 \nL 120.899925 488.348136 \nL 121.043764 488.394413 \nL 121.403362 488.255583 \nL 121.475281 488.30186 \nL 121.69104 488.16303 \nL 123.273271 488.255583 \nL 123.41711 488.255583 \nL 123.848627 488.348136 \nL 123.992466 488.394413 \nL 124.208225 488.255583 \nL 124.352064 488.209307 \nL 124.567823 488.070477 \nL 124.855501 487.977924 \nL 124.999341 487.839095 \nL 125.07126 487.700265 \nL 125.14318 487.746541 \nL 125.358938 487.885371 \nL 125.574697 487.700265 \nL 125.718536 487.839095 \nL 125.790456 487.792818 \nL 126.006215 487.977924 \nL 126.078134 487.792818 \nL 126.150054 487.885371 \nL 126.509652 488.024201 \nL 126.72541 487.977924 \nL 126.79733 488.116754 \nL 126.869249 488.024201 \nL 127.732284 488.024201 \nL 127.948043 488.30186 \nL 128.091882 488.209307 \nL 128.37956 488.30186 \nL 128.5234 488.16303 \nL 128.811078 488.255583 \nL 129.746032 488.348136 \nL 129.961791 487.977924 \nL 130.033711 488.070477 \nL 130.10563 487.977924 \nL 130.17755 488.070477 \nL 130.249469 487.931648 \nL 130.321389 488.024201 \nL 130.465228 488.070477 \nL 130.609067 488.116754 \nL 130.824826 488.070477 \nL 131.184424 488.16303 \nL 131.400183 488.209307 \nL 131.90362 488.116754 \nL 131.975539 488.024201 \nL 132.191298 488.16303 \nL 132.550896 488.255583 \nL 132.766654 488.30186 \nL 133.270092 488.394413 \nL 133.342011 488.486966 \nL 133.629689 488.255583 \nL 134.708483 488.30186 \nL 134.780403 488.440689 \nL 134.852322 488.348136 \nL 135.21192 488.533242 \nL 135.715357 488.255583 \nL 135.931116 488.30186 \nL 136.146874 488.16303 \nL 136.578392 488.16303 \nL 136.650311 488.024201 \nL 136.722231 488.116754 \nL 137.657186 488.024201 \nL 137.872944 487.885371 \nL 138.160623 488.024201 \nL 138.376381 487.977924 \nL 138.52022 487.977924 \nL 138.735979 487.931648 \nL 138.879818 488.024201 \nL 139.167497 487.931648 \nL 139.383255 487.977924 \nL 139.527094 488.116754 \nL 139.670934 488.116754 \nL 139.814773 488.16303 \nL 139.958612 488.16303 \nL 140.030531 488.16303 \nL 140.174371 488.30186 \nL 140.462049 488.348136 \nL 140.605888 488.579519 \nL 140.749727 488.440689 \nL 140.893566 488.533242 \nL 141.037405 488.440689 \nL 141.181245 488.486966 \nL 141.97236 488.579519 \nL 142.116199 488.672072 \nL 142.260038 488.579519 \nL 142.547717 488.486966 \nL 142.691556 488.486966 \nL 142.907314 488.533242 \nL 143.266912 488.579519 \nL 143.338832 488.718348 \nL 143.410751 488.672072 \nL 144.058028 488.579519 \nL 144.201867 488.579519 \nL 144.849143 488.949731 \nL 144.992982 488.903454 \nL 145.35258 488.949731 \nL 145.496419 489.042284 \nL 145.856017 488.949731 \nL 146.071776 488.810901 \nL 146.215615 488.810901 \nL 147.366328 488.903454 \nL 147.510167 488.903454 \nL 148.085524 488.996008 \nL 148.229363 488.996008 \nL 151.609583 488.903454 \nL 151.753422 488.810901 \nL 152.760296 488.718348 \nL 152.976055 488.672072 \nL 154.774044 488.625795 \nL 154.917883 488.486966 \nL 156.140516 488.394413 \nL 156.284355 488.394413 \nL 156.643953 488.486966 \nL 156.787792 488.486966 \nL 156.931631 488.440689 \nL 157.794666 488.394413 \nL 157.938505 488.30186 \nL 159.161138 488.209307 \nL 159.448816 488.116754 \nL 159.592656 488.116754 \nL 159.808414 488.070477 \nL 159.952253 488.16303 \nL 160.671449 488.070477 \nL 160.959127 487.931648 \nL 161.031047 487.977924 \nL 161.246806 487.792818 \nL 161.534484 487.885371 \nL 161.678323 487.746541 \nL 161.750243 487.839095 \nL 162.109841 487.468882 \nL 162.397519 487.561435 \nL 162.469438 487.422606 \nL 162.541358 487.468882 \nL 162.757117 487.422606 \nL 163.116715 487.330053 \nL 163.188634 487.283776 \nL 163.476313 487.515159 \nL 163.692071 487.515159 \nL 163.83591 487.653988 \nL 163.97975 487.515159 \nL 164.123589 487.607712 \nL 164.267428 487.515159 \nL 164.555106 487.515159 \nL 164.627026 487.376329 \nL 164.770865 487.653988 \nL 164.842784 487.607712 \nL 165.058543 487.515159 \nL 165.346221 487.839095 \nL 165.490061 487.607712 \nL 165.56198 487.653988 \nL 165.993498 487.839095 \nL 166.425015 487.839095 \nL 166.712693 487.515159 \nL 167.359969 487.422606 \nL 167.503809 487.422606 \nL 167.647648 487.607712 \nL 167.791487 487.561435 \nL 167.863407 487.607712 \nL 168.007246 487.561435 \nL 168.151085 487.839095 \nL 168.294924 487.607712 \nL 168.366844 487.653988 \nL 168.582602 487.561435 \nL 168.726441 487.561435 \nL 169.01412 487.700265 \nL 169.229878 487.653988 \nL 170.740189 487.561435 \nL 170.955948 487.515159 \nL 171.747063 487.515159 \nL 171.962822 487.191223 \nL 172.106661 487.191223 \nL 172.39434 486.959841 \nL 172.538179 487.052394 \nL 172.682018 487.006117 \nL 172.753938 487.144947 \nL 172.825857 487.09867 \nL 172.897777 487.052394 \nL 173.041616 487.144947 \nL 173.185455 487.052394 \nL 173.401214 487.144947 \nL 173.616972 487.191223 \nL 173.832731 486.959841 \nL 174.04849 486.821011 \nL 174.192329 486.867288 \nL 174.336168 486.497075 \nL 174.408088 486.589628 \nL 174.480007 486.265693 \nL 174.551927 486.404522 \nL 174.623846 486.589628 \nL 174.695766 486.311969 \nL 174.839605 486.497075 \nL 174.983444 486.126863 \nL 175.055364 486.219416 \nL 175.199203 486.080587 \nL 175.63072 486.311969 \nL 175.918399 485.340162 \nL 176.134158 485.710375 \nL 176.493755 485.062503 \nL 176.637595 485.432715 \nL 176.781434 485.155056 \nL 176.925273 485.432715 \nL 176.997192 485.293886 \nL 177.212951 485.525269 \nL 177.284871 485.386439 \nL 177.500629 485.155056 \nL 177.788308 485.293886 \nL 177.860227 485.247609 \nL 178.004066 485.617822 \nL 178.147906 485.293886 \nL 178.291745 484.923674 \nL 178.435584 485.201333 \nL 178.507503 485.155056 \nL 178.579423 484.96995 \nL 178.651343 485.062503 \nL 178.723262 485.247609 \nL 178.795182 485.201333 \nL 178.939021 484.96995 \nL 179.01094 484.96995 \nL 179.226699 484.646015 \nL 179.370538 484.692291 \nL 179.658217 484.322079 \nL 179.802056 484.322079 \nL 180.017814 484.414632 \nL 180.161654 484.646015 \nL 180.305493 484.368356 \nL 180.449332 484.646015 \nL 180.521252 484.831121 \nL 180.593171 484.738568 \nL 180.73701 484.738568 \nL 180.952769 484.322079 \nL 181.168528 484.507185 \nL 181.815804 484.460909 \nL 181.887723 484.090696 \nL 181.959643 484.275802 \nL 182.031563 484.090696 \nL 182.103482 484.183249 \nL 182.175402 484.04442 \nL 182.247321 484.136973 \nL 182.319241 484.04442 \nL 182.46308 484.275802 \nL 182.606919 484.275802 \nL 182.678839 484.322079 \nL 182.822678 484.229526 \nL 182.966517 484.738568 \nL 183.038437 484.646015 \nL 183.110356 484.599738 \nL 183.398034 483.766761 \nL 183.613793 484.136973 \nL 183.685713 483.951867 \nL 183.757632 484.090696 \nL 183.829552 483.951867 \nL 183.901471 483.998143 \nL 184.261069 484.275802 \nL 184.692587 482.933783 \nL 184.764506 483.072613 \nL 184.836426 483.026336 \nL 185.052185 483.072613 \nL 185.267943 482.424742 \nL 185.339863 482.563571 \nL 185.555622 482.609848 \nL 185.627541 482.609848 \nL 185.699461 482.285912 \nL 185.91522 482.702401 \nL 186.059059 482.887507 \nL 186.274817 482.239636 \nL 186.490576 482.609848 \nL 186.634415 482.609848 \nL 186.706335 482.84123 \nL 186.922094 481.9157 \nL 186.994013 481.77687 \nL 187.137852 482.239636 \nL 187.353611 481.638041 \nL 187.425531 481.545488 \nL 187.56937 482.100806 \nL 187.785128 482.424742 \nL 187.857048 482.239636 \nL 188.000887 482.609848 \nL 188.072807 483.118889 \nL 188.216646 485.10878 \nL 188.288565 484.229526 \nL 188.504324 486.080587 \nL 188.576244 485.710375 \nL 188.720083 484.414632 \nL 188.863922 484.507185 \nL 189.007761 484.923674 \nL 189.079681 484.599738 \nL 189.1516 484.646015 \nL 189.29544 484.877397 \nL 189.439279 484.507185 \nL 189.655037 485.016227 \nL 189.726957 484.831121 \nL 189.798877 485.10878 \nL 189.870796 484.96995 \nL 190.014635 484.738568 \nL 190.158474 485.016227 \nL 190.230394 485.340162 \nL 190.302314 485.293886 \nL 190.374233 485.386439 \nL 190.518072 485.664098 \nL 190.733831 485.016227 \nL 190.87767 485.201333 \nL 191.093429 484.414632 \nL 191.165348 484.414632 \nL 191.309188 484.04442 \nL 191.381107 484.090696 \nL 191.524946 483.951867 \nL 191.596866 484.275802 \nL 191.740705 483.813037 \nL 191.812625 483.998143 \nL 191.956464 483.627931 \nL 192.028383 483.766761 \nL 192.100303 483.674208 \nL 192.172222 484.322079 \nL 192.244142 483.951867 \nL 192.316062 483.998143 \nL 192.675659 483.90559 \nL 192.747579 484.368356 \nL 192.819499 484.275802 \nL 192.891418 484.414632 \nL 192.963338 484.183249 \nL 193.107177 484.368356 \nL 193.322936 484.04442 \nL 193.682534 484.507185 \nL 193.970212 484.136973 \nL 194.25789 484.04442 \nL 194.32981 483.813037 \nL 194.401729 483.90559 \nL 194.617488 484.04442 \nL 194.977086 483.303996 \nL 195.192845 483.303996 \nL 195.264764 483.535378 \nL 195.336684 483.442825 \nL 195.408603 483.396549 \nL 195.480523 483.581655 \nL 195.552442 483.396549 \nL 195.768201 483.720484 \nL 195.840121 483.720484 \nL 196.055879 484.275802 \nL 196.127799 484.090696 \nL 196.199719 484.136973 \nL 196.415477 484.460909 \nL 196.487397 484.414632 \nL 196.559316 484.04442 \nL 196.631236 484.183249 \nL 196.846995 484.04442 \nL 197.062753 484.368356 \nL 197.134673 484.275802 \nL 197.494271 484.183249 \nL 197.63811 484.04442 \nL 197.853869 484.136973 \nL 197.997708 483.998143 \nL 198.285386 484.183249 \nL 198.357306 484.368356 \nL 198.429225 484.322079 \nL 198.573065 484.090696 \nL 198.932662 484.599738 \nL 199.148421 484.368356 \nL 199.220341 484.322079 \nL 199.36418 483.90559 \nL 199.436099 484.04442 \nL 199.723778 483.581655 \nL 199.795697 483.766761 \nL 200.083376 483.442825 \nL 200.155295 483.627931 \nL 200.227215 483.581655 \nL 200.299134 483.674208 \nL 200.442973 483.489102 \nL 200.658732 483.627931 \nL 200.802571 483.350272 \nL 200.94641 483.350272 \nL 201.01833 483.211443 \nL 201.306008 483.535378 \nL 201.521767 483.581655 \nL 201.809445 483.674208 \nL 201.953284 483.90559 \nL 202.240963 483.90559 \nL 202.384802 483.581655 \nL 202.888239 483.998143 \nL 202.960159 483.813037 \nL 203.032078 483.90559 \nL 203.103998 484.090696 \nL 203.175917 483.90559 \nL 203.247837 483.998143 \nL 203.319756 483.90559 \nL 203.535515 484.368356 \nL 203.607435 484.183249 \nL 203.679354 484.275802 \nL 203.895113 484.136973 \nL 204.182791 484.460909 \nL 204.254711 484.553462 \nL 204.32663 484.460909 \nL 204.47047 484.136973 \nL 204.542389 484.136973 \nL 204.758148 483.951867 \nL 204.901987 484.04442 \nL 205.045826 483.674208 \nL 205.117746 483.720484 \nL 205.189665 483.859314 \nL 205.261585 483.766761 \nL 205.477344 483.813037 \nL 206.0527 484.460909 \nL 206.196539 484.460909 \nL 206.268459 484.507185 \nL 206.484218 484.04442 \nL 206.556137 484.136973 \nL 206.771896 484.368356 \nL 207.347253 484.646015 \nL 207.563011 484.368356 \nL 207.634931 484.507185 \nL 207.70685 484.460909 \nL 207.77877 484.414632 \nL 207.922609 484.553462 \nL 207.994529 484.553462 \nL 208.138368 484.831121 \nL 208.282207 484.784844 \nL 208.426046 484.738568 \nL 208.713724 484.322079 \nL 209.001403 484.368356 \nL 209.145242 484.460909 \nL 209.217161 484.275802 \nL 209.289081 484.322079 \nL 209.576759 483.998143 \nL 209.792518 484.183249 \nL 210.008277 484.229526 \nL 210.080196 484.183249 \nL 210.295955 483.859314 \nL 210.439794 483.859314 \nL 210.511714 483.951867 \nL 210.727473 483.720484 \nL 210.871312 484.275802 \nL 211.15899 484.04442 \nL 211.302829 483.998143 \nL 211.446668 484.646015 \nL 211.518588 484.599738 \nL 211.662427 484.275802 \nL 211.950105 484.507185 \nL 212.022025 484.507185 \nL 212.237784 484.877397 \nL 212.309703 484.831121 \nL 212.525462 484.599738 \nL 212.597381 484.738568 \nL 212.956979 484.831121 \nL 213.100818 485.016227 \nL 213.244658 484.877397 \nL 213.532336 484.96995 \nL 213.748095 484.923674 \nL 213.891934 485.016227 \nL 213.963853 485.016227 \nL 214.035773 485.155056 \nL 214.107692 485.062503 \nL 214.251532 485.10878 \nL 214.395371 485.016227 \nL 214.46729 484.877397 \nL 214.53921 484.96995 \nL 214.611129 485.062503 \nL 215.402245 484.136973 \nL 215.689923 484.229526 \nL 215.977601 484.368356 \nL 216.696797 483.350272 \nL 216.768717 483.442825 \nL 216.912556 483.535378 \nL 217.056395 483.350272 \nL 217.128315 483.442825 \nL 217.272154 483.026336 \nL 217.344073 482.98006 \nL 217.415993 483.118889 \nL 217.487912 483.072613 \nL 217.631752 482.887507 \nL 217.775591 483.257719 \nL 217.84751 483.026336 \nL 217.91943 483.118889 \nL 217.991349 483.211443 \nL 218.207108 482.84123 \nL 218.566706 483.859314 \nL 218.782465 483.720484 \nL 218.998223 484.136973 \nL 219.070143 484.04442 \nL 219.213982 484.136973 \nL 219.357821 484.04442 \nL 219.57358 484.229526 \nL 219.717419 484.136973 \nL 219.789339 484.136973 \nL 219.861258 484.322079 \nL 219.933178 484.136973 \nL 220.005098 484.229526 \nL 220.148937 484.322079 \nL 220.292776 484.507185 \nL 220.436615 484.322079 \nL 220.724293 484.04442 \nL 220.940052 483.627931 \nL 221.011972 483.627931 \nL 221.371569 484.183249 \nL 221.946926 483.535378 \nL 222.018846 483.627931 \nL 222.162685 483.535378 \nL 222.522283 483.489102 \nL 222.666122 483.350272 \nL 222.809961 483.535378 \nL 222.88188 483.489102 \nL 223.02572 483.720484 \nL 223.169559 483.535378 \nL 223.385317 483.442825 \nL 223.457237 483.535378 \nL 223.529157 483.396549 \nL 223.744915 483.674208 \nL 223.888755 483.396549 \nL 224.104513 482.84123 \nL 224.248352 482.933783 \nL 224.320272 483.350272 \nL 224.392192 483.211443 \nL 224.536031 483.026336 \nL 224.60795 482.933783 \nL 225.039468 483.442825 \nL 225.255226 483.303996 \nL 225.399066 483.720484 \nL 225.542905 483.627931 \nL 225.758663 483.211443 \nL 225.830583 483.257719 \nL 225.974422 483.581655 \nL 226.2621 483.442825 \nL 226.621698 483.627931 \nL 226.909377 483.442825 \nL 227.053216 483.813037 \nL 227.197055 484.322079 \nL 227.340894 484.784844 \nL 227.484733 485.10878 \nL 227.772411 484.738568 \nL 227.844331 484.738568 \nL 228.06009 485.016227 \nL 228.132009 484.923674 \nL 228.275849 484.553462 \nL 228.563527 484.553462 \nL 228.779286 485.016227 \nL 228.851205 485.062503 \nL 228.923125 484.96995 \nL 229.066964 485.340162 \nL 229.138883 485.062503 \nL 229.210803 485.201333 \nL 229.426562 485.062503 \nL 229.498481 485.293886 \nL 229.570401 485.201333 \nL 229.71424 485.10878 \nL 229.78616 485.155056 \nL 230.001918 484.96995 \nL 230.145757 485.247609 \nL 230.217677 485.062503 \nL 230.289597 485.10878 \nL 230.433436 485.062503 \nL 230.721114 485.062503 \nL 230.864953 485.201333 \nL 230.936873 485.062503 \nL 231.008792 485.155056 \nL 231.152631 485.016227 \nL 231.224551 485.10878 \nL 231.656068 484.692291 \nL 231.871827 484.646015 \nL 232.015666 483.813037 \nL 232.231425 484.090696 \nL 232.375264 483.859314 \nL 232.734862 484.136973 \nL 232.806782 483.90559 \nL 232.878701 483.998143 \nL 233.02254 484.183249 \nL 233.310219 483.720484 \nL 233.382138 483.627931 \nL 233.525977 483.720484 \nL 233.669817 484.136973 \nL 233.957495 484.368356 \nL 234.82053 483.90559 \nL 235.036288 483.951867 \nL 235.180128 484.229526 \nL 235.323967 483.859314 \nL 235.395886 483.859314 \nL 235.467806 484.183249 \nL 235.539725 483.998143 \nL 235.683565 483.998143 \nL 236.043162 484.322079 \nL 236.115082 484.414632 \nL 236.40276 484.183249 \nL 236.618519 484.229526 \nL 236.690439 484.183249 \nL 236.762358 483.90559 \nL 236.834278 483.951867 \nL 236.978117 484.090696 \nL 237.193876 483.442825 \nL 237.337715 483.581655 \nL 237.409634 483.627931 \nL 237.697313 483.118889 \nL 237.769232 483.072613 \nL 237.913071 483.350272 \nL 238.20075 483.998143 \nL 238.416508 483.813037 \nL 238.560348 483.951867 \nL 238.632267 483.813037 \nL 238.704187 483.859314 \nL 238.776106 483.813037 \nL 238.848026 483.627931 \nL 239.063785 484.229526 \nL 239.135704 484.136973 \nL 239.279543 484.368356 \nL 239.423382 484.183249 \nL 239.567222 484.368356 \nL 239.639141 484.692291 \nL 239.711061 484.646015 \nL 239.78298 484.692291 \nL 239.926819 484.96995 \nL 240.142578 484.414632 \nL 240.214498 484.553462 \nL 240.286417 484.692291 \nL 240.358337 484.599738 \nL 240.430256 484.599738 \nL 240.574096 484.784844 \nL 240.646015 484.692291 \nL 240.717935 484.784844 \nL 240.861774 485.062503 \nL 241.149452 485.155056 \nL 241.652889 485.895481 \nL 241.724809 485.802928 \nL 241.796728 485.571545 \nL 241.868648 485.710375 \nL 241.940568 486.080587 \nL 242.012487 485.941757 \nL 242.084407 485.941757 \nL 242.156326 485.756651 \nL 242.300165 486.17314 \nL 242.444005 485.895481 \nL 242.515924 485.988034 \nL 242.587844 486.404522 \nL 242.659763 486.17314 \nL 242.803602 485.432715 \nL 242.875522 485.478992 \nL 243.019361 485.571545 \nL 243.23512 485.664098 \nL 243.378959 485.525269 \nL 243.450879 485.571545 \nL 243.666637 485.10878 \nL 243.738557 485.155056 \nL 243.954316 484.692291 \nL 244.026235 484.738568 \nL 244.098155 484.599738 \nL 244.241994 484.877397 \nL 244.313913 484.692291 \nL 244.385833 484.784844 \nL 244.673511 484.507185 \nL 244.81735 484.599738 \nL 244.88927 484.599738 \nL 245.248868 483.766761 \nL 245.320788 483.859314 \nL 245.464627 484.183249 \nL 245.536546 483.998143 \nL 245.608466 484.136973 \nL 245.680385 484.090696 \nL 245.968064 483.396549 \nL 246.183822 483.627931 \nL 246.327662 483.674208 \nL 246.54342 483.627931 \nL 246.687259 483.627931 \nL 246.903018 483.072613 \nL 246.974938 483.211443 \nL 247.046857 483.118889 \nL 247.190696 482.471018 \nL 247.262616 482.609848 \nL 247.334536 482.517295 \nL 247.550294 482.332189 \nL 247.694133 481.961976 \nL 247.766053 482.054529 \nL 247.909892 481.823147 \nL 247.981812 481.77687 \nL 248.053731 481.869423 \nL 248.125651 481.499211 \nL 248.19757 481.591764 \nL 248.26949 481.499211 \nL 248.413329 480.943893 \nL 248.629088 481.591764 \nL 248.701007 481.499211 \nL 248.844847 480.99017 \nL 249.060605 481.406658 \nL 249.204444 481.406658 \nL 249.276364 481.545488 \nL 249.348284 481.452935 \nL 249.420203 481.360382 \nL 249.635962 480.018363 \nL 249.851721 480.71251 \nL 249.92364 480.203469 \nL 249.99556 480.342298 \nL 250.211319 479.694427 \nL 250.283238 479.972086 \nL 250.427077 480.619957 \nL 250.498997 480.434851 \nL 250.570916 479.64815 \nL 250.642836 479.740703 \nL 250.714756 479.92581 \nL 250.786675 479.833257 \nL 250.858595 479.231662 \nL 250.930514 479.64815 \nL 251.002434 479.416768 \nL 251.074353 479.740703 \nL 251.146273 479.64815 \nL 251.290112 480.110916 \nL 251.433951 479.370491 \nL 251.505871 480.805063 \nL 251.57779 480.481128 \nL 251.72163 480.99017 \nL 251.793549 481.175276 \nL 251.937388 480.897616 \nL 252.009308 480.99017 \nL 252.081227 481.360382 \nL 252.153147 481.314105 \nL 252.225067 481.406658 \nL 252.368906 483.026336 \nL 252.512745 482.748677 \nL 252.656584 482.517295 \nL 252.728504 482.656124 \nL 253.016182 482.100806 \nL 253.30386 483.442825 \nL 253.447699 483.165166 \nL 253.519619 483.350272 \nL 253.807297 482.98006 \nL 253.879217 483.072613 \nL 253.951136 482.702401 \nL 254.023056 482.748677 \nL 254.598413 483.951867 \nL 254.670332 483.813037 \nL 254.742252 483.766761 \nL 254.886091 483.813037 \nL 255.10185 483.766761 \nL 255.245689 483.720484 \nL 255.317608 483.859314 \nL 255.821045 483.026336 \nL 256.036804 483.257719 \nL 256.180643 483.720484 \nL 256.324482 483.211443 \nL 256.396402 483.211443 \nL 256.540241 483.350272 \nL 256.899839 483.165166 \nL 257.043678 482.609848 \nL 257.115598 482.84123 \nL 257.331356 482.517295 \nL 257.475195 482.332189 \nL 257.619035 481.869423 \nL 257.834793 482.517295 \nL 257.906713 482.424742 \nL 258.050552 481.961976 \nL 258.194391 482.147083 \nL 258.266311 481.961976 \nL 258.48207 482.147083 \nL 258.553989 482.193359 \nL 258.697828 482.424742 \nL 258.769748 482.378465 \nL 258.841667 482.100806 \nL 258.913587 482.563571 \nL 258.985507 482.517295 \nL 259.057426 482.471018 \nL 259.201265 482.98006 \nL 259.345104 482.563571 \nL 259.417024 482.609848 \nL 259.488944 482.471018 \nL 259.560863 482.656124 \nL 259.632783 482.563571 \nL 259.776622 482.563571 \nL 259.848541 482.748677 \nL 259.920461 482.656124 \nL 259.992381 482.471018 \nL 260.280059 482.887507 \nL 260.423898 482.887507 \nL 260.495818 482.933783 \nL 260.639657 482.609848 \nL 260.783496 482.054529 \nL 260.855415 482.239636 \nL 260.927335 481.823147 \nL 260.999255 481.869423 \nL 261.071174 481.9157 \nL 261.358852 482.378465 \nL 261.430772 482.332189 \nL 261.502692 482.609848 \nL 261.574611 482.378465 \nL 261.646531 482.424742 \nL 261.862289 482.887507 \nL 262.149968 481.9157 \nL 262.221887 481.961976 \nL 262.293807 481.869423 \nL 262.365726 482.563571 \nL 262.437646 482.239636 \nL 262.581485 482.471018 \nL 262.653405 482.424742 \nL 262.869164 482.332189 \nL 263.013003 482.471018 \nL 263.084922 482.285912 \nL 263.372601 482.748677 \nL 263.947957 482.285912 \nL 264.091796 482.517295 \nL 264.595233 481.128999 \nL 264.667153 481.221552 \nL 264.739072 481.360382 \nL 265.026751 480.71251 \nL 265.09867 480.758787 \nL 265.17059 480.388575 \nL 265.242509 480.527404 \nL 265.314429 480.619957 \nL 265.386349 480.342298 \nL 265.458268 480.434851 \nL 265.530188 480.897616 \nL 265.745946 480.342298 \nL 265.817866 480.388575 \nL 265.889786 480.249745 \nL 265.961705 480.573681 \nL 266.033625 480.481128 \nL 266.321303 480.110916 \nL 266.537062 480.573681 \nL 266.608981 480.619957 \nL 266.680901 480.249745 \nL 266.752821 480.434851 \nL 266.82474 480.434851 \nL 266.968579 480.758787 \nL 267.256258 479.740703 \nL 267.328177 479.555597 \nL 267.759695 480.527404 \nL 267.903534 480.481128 \nL 268.047373 480.527404 \nL 268.191212 480.573681 \nL 268.263132 480.527404 \nL 268.335051 480.619957 \nL 268.406971 480.481128 \nL 268.47889 480.573681 \nL 268.622729 480.573681 \nL 268.694649 480.296022 \nL 268.766569 480.342298 \nL 268.838488 480.434851 \nL 269.054247 481.314105 \nL 269.126166 481.175276 \nL 269.198086 481.221552 \nL 269.270006 481.175276 \nL 269.341925 480.943893 \nL 269.485764 481.684317 \nL 269.557684 481.452935 \nL 269.629603 481.730594 \nL 269.701523 481.591764 \nL 269.845362 480.943893 \nL 270.061121 481.591764 \nL 270.13304 481.406658 \nL 270.20496 481.499211 \nL 270.420719 481.9157 \nL 270.564558 481.036446 \nL 270.636477 481.175276 \nL 270.852236 480.758787 \nL 270.924156 480.943893 \nL 271.067995 480.71251 \nL 271.211834 480.619957 \nL 271.427593 480.99017 \nL 271.643352 481.175276 \nL 271.85911 480.99017 \nL 272.434467 481.9157 \nL 272.722145 481.823147 \nL 273.153663 483.396549 \nL 273.297502 483.118889 \nL 273.369421 483.211443 \nL 273.441341 483.257719 \nL 273.6571 482.702401 \nL 273.872858 483.396549 \nL 274.016697 483.165166 \nL 274.088617 483.165166 \nL 274.304376 482.84123 \nL 274.376295 482.748677 \nL 274.520134 483.350272 \nL 274.592054 483.165166 \nL 274.663974 483.396549 \nL 274.735893 483.350272 \nL 274.951652 483.072613 \nL 275.095491 482.933783 \nL 275.670848 483.535378 \nL 275.958526 483.303996 \nL 276.246204 483.350272 \nL 276.318124 483.535378 \nL 276.390043 483.350272 \nL 276.461963 483.396549 \nL 276.605802 483.257719 \nL 276.821561 482.748677 \nL 276.89348 482.84123 \nL 276.9654 482.933783 \nL 277.181159 482.609848 \nL 277.253078 482.887507 \nL 277.324998 482.609848 \nL 277.540757 483.118889 \nL 277.684596 483.026336 \nL 277.756515 483.165166 \nL 277.828435 482.887507 \nL 278.044194 483.303996 \nL 278.259952 483.396549 \nL 278.403791 483.489102 \nL 278.475711 483.303996 \nL 278.69147 483.535378 \nL 278.907228 483.118889 \nL 278.979148 483.211443 \nL 279.122987 482.656124 \nL 279.410665 482.702401 \nL 279.554505 482.285912 \nL 279.698344 482.008253 \nL 279.770263 482.147083 \nL 279.914103 482.193359 \nL 279.986022 482.147083 \nL 280.129861 481.638041 \nL 280.201781 481.730594 \nL 280.41754 481.452935 \nL 280.489459 481.545488 \nL 280.561379 481.406658 \nL 280.633298 481.730594 \nL 280.777137 481.267829 \nL 280.920977 481.499211 \nL 280.992896 481.360382 \nL 281.136735 481.545488 \nL 281.280574 481.267829 \nL 281.496333 481.452935 \nL 281.640172 481.267829 \nL 281.784011 481.406658 \nL 281.927851 481.406658 \nL 282.07169 481.730594 \nL 282.359368 480.897616 \nL 282.503207 481.128999 \nL 282.647046 481.036446 \nL 282.718966 481.175276 \nL 282.790885 481.036446 \nL 282.862805 481.267829 \nL 283.222403 480.342298 \nL 283.294322 480.758787 \nL 283.438162 480.203469 \nL 283.582001 481.036446 \nL 283.941599 480.99017 \nL 284.013518 480.85134 \nL 284.085438 480.943893 \nL 284.229277 481.036446 \nL 284.301197 480.805063 \nL 284.373116 480.943893 \nL 284.516955 481.036446 \nL 284.660794 481.499211 \nL 284.732714 481.452935 \nL 285.020392 482.008253 \nL 285.308071 481.684317 \nL 285.45191 481.9157 \nL 285.523829 481.77687 \nL 285.667668 482.008253 \nL 285.883427 481.730594 \nL 285.955347 481.730594 \nL 286.099186 481.452935 \nL 286.458784 481.499211 \nL 286.746462 482.008253 \nL 286.818382 482.054529 \nL 286.962221 481.77687 \nL 287.10606 482.332189 \nL 287.177979 482.147083 \nL 287.537577 482.656124 \nL 287.609497 482.424742 \nL 287.681416 482.517295 \nL 287.753336 482.471018 \nL 287.969095 482.887507 \nL 288.184853 482.471018 \nL 288.256773 482.517295 \nL 288.328693 482.471018 \nL 288.472532 482.656124 \nL 288.616371 482.285912 \nL 288.688291 482.378465 \nL 288.904049 481.961976 \nL 288.975969 481.77687 \nL 289.047888 481.9157 \nL 289.191728 481.730594 \nL 289.263647 481.77687 \nL 289.335567 482.008253 \nL 289.479406 481.638041 \nL 289.623245 481.638041 \nL 289.767084 481.128999 \nL 289.982843 481.499211 \nL 290.054762 481.314105 \nL 290.126682 481.360382 \nL 290.270521 481.406658 \nL 290.41436 481.499211 \nL 290.630119 482.563571 \nL 290.702039 483.350272 \nL 290.773958 483.303996 \nL 290.845878 483.442825 \nL 290.917797 483.303996 \nL 291.061636 483.674208 \nL 291.277395 484.04442 \nL 291.349315 483.766761 \nL 291.421234 483.90559 \nL 291.493154 483.720484 \nL 291.708913 484.136973 \nL 291.780832 484.090696 \nL 291.852752 484.322079 \nL 291.924671 484.229526 \nL 292.21235 484.507185 \nL 292.284269 484.322079 \nL 292.356189 484.414632 \nL 292.428108 484.414632 \nL 292.500028 484.646015 \nL 292.643867 486.17314 \nL 292.715787 485.988034 \nL 292.787706 486.080587 \nL 293.147304 485.988034 \nL 293.363063 485.756651 \nL 293.506902 485.478992 \nL 293.578822 485.617822 \nL 293.722661 485.571545 \nL 293.938419 486.080587 \nL 294.226098 485.710375 \nL 294.298017 485.895481 \nL 294.369937 485.802928 \nL 294.513776 485.802928 \nL 294.801454 486.126863 \nL 294.945293 486.080587 \nL 295.089133 486.17314 \nL 295.232972 485.988034 \nL 295.52065 486.404522 \nL 295.808328 486.311969 \nL 295.880248 486.358246 \nL 295.952167 486.17314 \nL 296.024087 486.311969 \nL 296.096007 486.265693 \nL 296.383685 486.497075 \nL 296.527524 486.635905 \nL 296.671363 486.497075 \nL 296.815202 486.635905 \nL 296.959042 486.404522 \nL 297.102881 486.450799 \nL 297.24672 485.756651 \nL 297.390559 485.849204 \nL 297.534398 485.478992 \nL 297.678237 485.525269 \nL 297.750157 485.247609 \nL 297.822076 485.340162 \nL 297.893996 485.386439 \nL 298.181674 485.155056 \nL 298.253594 485.201333 \nL 298.397433 485.478992 \nL 298.90087 484.96995 \nL 299.116629 485.016227 \nL 299.260468 485.062503 \nL 299.476227 485.247609 \nL 299.763905 485.155056 \nL 299.835824 485.201333 \nL 299.979664 485.756651 \nL 300.051583 485.571545 \nL 300.123503 485.617822 \nL 300.267342 485.571545 \nL 300.339261 485.571545 \nL 300.62694 485.895481 \nL 300.770779 485.617822 \nL 300.842698 485.710375 \nL 300.914618 485.525269 \nL 300.986538 485.617822 \nL 301.058457 485.525269 \nL 301.202296 484.923674 \nL 301.274216 485.062503 \nL 301.418055 484.923674 \nL 301.633814 485.386439 \nL 301.705733 485.340162 \nL 301.921492 485.617822 \nL 301.993412 485.525269 \nL 302.137251 484.738568 \nL 302.28109 484.96995 \nL 302.35301 484.831121 \nL 302.424929 484.877397 \nL 302.496849 485.062503 \nL 302.568768 484.96995 \nL 302.712607 484.96995 \nL 302.784527 484.96995 \nL 302.856447 484.460909 \nL 302.928366 484.599738 \nL 303.216044 484.368356 \nL 303.431803 484.368356 \nL 303.503723 484.507185 \nL 303.647562 484.368356 \nL 303.791401 484.553462 \nL 303.93524 484.507185 \nL 304.079079 484.599738 \nL 304.222918 484.229526 \nL 304.294838 484.368356 \nL 304.366758 484.322079 \nL 304.510597 484.368356 \nL 304.582516 484.229526 \nL 304.654436 484.275802 \nL 304.942114 484.599738 \nL 305.373632 485.062503 \nL 305.58939 484.96995 \nL 305.73323 484.923674 \nL 305.877069 484.923674 \nL 305.948988 484.923674 \nL 306.164747 485.247609 \nL 306.452425 485.756651 \nL 306.668184 485.293886 \nL 306.740104 485.293886 \nL 306.883943 485.478992 \nL 306.955862 485.293886 \nL 307.027782 485.432715 \nL 307.171621 485.016227 \nL 307.675058 485.525269 \nL 307.746978 485.571545 \nL 307.890817 485.155056 \nL 307.962736 485.293886 \nL 308.106575 485.340162 \nL 308.178495 485.293886 \nL 308.681932 485.849204 \nL 308.753852 485.849204 \nL 308.825771 486.03431 \nL 308.897691 485.895481 \nL 308.96961 485.988034 \nL 309.185369 485.802928 \nL 309.257289 486.03431 \nL 309.329208 485.988034 \nL 309.401128 485.895481 \nL 309.616886 486.219416 \nL 309.832645 485.941757 \nL 310.048404 486.126863 \nL 310.264163 485.941757 \nL 310.479921 485.710375 \nL 310.551841 485.478992 \nL 310.69568 485.710375 \nL 310.839519 485.802928 \nL 310.911439 485.988034 \nL 311.127198 485.201333 \nL 311.199117 485.247609 \nL 311.271037 485.293886 \nL 311.414876 484.877397 \nL 311.486795 484.923674 \nL 311.558715 485.062503 \nL 311.630635 484.96995 \nL 311.918313 484.877397 \nL 312.134072 484.692291 \nL 312.781348 484.646015 \nL 312.997106 484.460909 \nL 313.069026 484.460909 \nL 313.140946 484.646015 \nL 313.212865 484.599738 \nL 313.428624 484.460909 \nL 313.572463 484.553462 \nL 313.644383 484.507185 \nL 313.716302 484.646015 \nL 313.860141 484.460909 \nL 314.14782 484.831121 \nL 314.579337 484.877397 \nL 314.651257 484.96995 \nL 314.723176 484.831121 \nL 314.795096 484.229526 \nL 314.867015 484.460909 \nL 315.082774 483.951867 \nL 315.154694 483.535378 \nL 315.226613 483.720484 \nL 315.298533 483.720484 \nL 315.370452 483.90559 \nL 315.514292 483.674208 \nL 315.586211 483.720484 \nL 315.658131 483.489102 \nL 315.73005 483.535378 \nL 315.945809 483.442825 \nL 316.017729 483.535378 \nL 316.161568 483.396549 \nL 316.377326 483.813037 \nL 316.449246 483.766761 \nL 316.521166 483.535378 \nL 316.593085 483.627931 \nL 316.736924 483.720484 \nL 316.808844 483.489102 \nL 317.024603 483.859314 \nL 317.096522 483.859314 \nL 317.312281 484.368356 \nL 317.52804 484.136973 \nL 317.671879 484.460909 \nL 317.743798 484.414632 \nL 317.887637 484.229526 \nL 318.031477 484.507185 \nL 318.103396 484.460909 \nL 318.247235 484.414632 \nL 318.319155 484.183249 \nL 318.391074 484.322079 \nL 318.462994 484.275802 \nL 318.534914 483.998143 \nL 318.606833 484.090696 \nL 318.966431 483.998143 \nL 319.11027 483.998143 \nL 319.18219 484.090696 \nL 319.541788 483.303996 \nL 319.613707 482.794954 \nL 319.685627 483.026336 \nL 319.829466 483.165166 \nL 320.045225 482.933783 \nL 320.189064 483.489102 \nL 320.404823 483.951867 \nL 320.476742 483.859314 \nL 320.692501 483.859314 \nL 320.76442 483.627931 \nL 320.83634 483.766761 \nL 320.980179 483.720484 \nL 321.195938 483.257719 \nL 321.267857 483.257719 \nL 321.411697 483.442825 \nL 321.483616 483.350272 \nL 321.771294 483.813037 \nL 321.915134 484.136973 \nL 322.058973 483.859314 \nL 322.274731 483.859314 \nL 322.346651 484.090696 \nL 322.49049 483.859314 \nL 322.56241 483.90559 \nL 322.778168 484.646015 \nL 322.850088 484.599738 \nL 322.993927 484.599738 \nL 323.137766 484.136973 \nL 323.209686 484.275802 \nL 323.281606 484.183249 \nL 323.353525 484.275802 \nL 323.497364 484.738568 \nL 323.569284 484.553462 \nL 323.641203 484.599738 \nL 323.713123 484.553462 \nL 323.785043 484.784844 \nL 323.856962 484.646015 \nL 324.000801 484.368356 \nL 324.072721 484.368356 \nL 324.21656 483.998143 \nL 324.504238 484.414632 \nL 324.719997 483.998143 \nL 324.791917 484.183249 \nL 324.863836 484.136973 \nL 325.007675 484.136973 \nL 325.295354 484.090696 \nL 325.439193 483.766761 \nL 325.583032 483.627931 \nL 325.654951 483.674208 \nL 325.798791 483.257719 \nL 326.014549 483.303996 \nL 326.086469 483.396549 \nL 326.158388 483.211443 \nL 326.230308 483.257719 \nL 326.733745 483.489102 \nL 326.877584 483.211443 \nL 327.021423 483.350272 \nL 327.237182 483.211443 \nL 327.381021 483.257719 \nL 327.52486 483.118889 \nL 327.6687 482.332189 \nL 327.740619 482.378465 \nL 327.884458 482.563571 \nL 327.956378 482.84123 \nL 328.028297 482.794954 \nL 328.100217 482.702401 \nL 328.244056 482.748677 \nL 328.315976 482.794954 \nL 328.531734 482.471018 \nL 328.675574 482.702401 \nL 328.891332 482.424742 \nL 328.963252 482.563571 \nL 329.035171 482.98006 \nL 329.107091 482.702401 \nL 329.179011 483.257719 \nL 329.25093 482.98006 \nL 329.466689 482.748677 \nL 329.682448 483.257719 \nL 329.826287 483.026336 \nL 330.042045 483.442825 \nL 330.113965 483.350272 \nL 330.257804 483.350272 \nL 330.90508 482.887507 \nL 331.048919 483.350272 \nL 331.120839 483.303996 \nL 331.192759 483.257719 \nL 331.336598 483.350272 \nL 331.624276 483.072613 \nL 331.696196 483.118889 \nL 331.911954 483.813037 \nL 331.983874 484.460909 \nL 332.055794 484.322079 \nL 332.343472 484.275802 \nL 332.487311 484.229526 \nL 332.559231 484.414632 \nL 332.63115 484.183249 \nL 332.70307 484.229526 \nL 332.846909 484.183249 \nL 333.134587 484.646015 \nL 333.350346 484.553462 \nL 333.638024 484.229526 \nL 333.709944 484.646015 \nL 333.781863 484.553462 \nL 334.213381 484.553462 \nL 334.35722 484.322079 \nL 334.501059 484.368356 \nL 334.644898 483.859314 \nL 334.716818 483.998143 \nL 334.788737 483.90559 \nL 334.860657 483.859314 \nL 335.004496 483.581655 \nL 335.076416 483.627931 \nL 335.292174 484.04442 \nL 335.436013 483.998143 \nL 335.507933 483.766761 \nL 335.579853 483.90559 \nL 335.651772 483.766761 \nL 335.867531 484.183249 \nL 336.01137 483.859314 \nL 336.155209 483.998143 \nL 336.227129 483.90559 \nL 336.442888 484.04442 \nL 336.514807 484.04442 \nL 336.658646 485.016227 \nL 336.730566 484.923674 \nL 337.018244 485.062503 \nL 337.090164 484.96995 \nL 337.234003 485.062503 \nL 337.377842 485.016227 \nL 337.449762 485.10878 \nL 337.593601 484.646015 \nL 337.66552 484.923674 \nL 337.809359 484.599738 \nL 337.953199 484.738568 \nL 338.025118 484.646015 \nL 338.097038 484.738568 \nL 338.240877 485.386439 \nL 338.312796 485.293886 \nL 338.456636 485.016227 \nL 338.744314 485.802928 \nL 338.888153 485.617822 \nL 339.103912 485.432715 \nL 339.247751 485.710375 \nL 339.679268 485.756651 \nL 339.895027 485.386439 \nL 340.038866 485.432715 \nL 340.398464 485.941757 \nL 340.470384 485.895481 \nL 340.614223 486.03431 \nL 340.758062 486.03431 \nL 341.405338 486.080587 \nL 341.549177 486.311969 \nL 341.621097 486.126863 \nL 341.693016 486.265693 \nL 341.764936 486.219416 \nL 341.836856 486.080587 \nL 341.908775 486.17314 \nL 342.124534 486.265693 \nL 342.268373 485.988034 \nL 342.484132 486.03431 \nL 342.627971 486.126863 \nL 342.69989 486.219416 \nL 342.84373 486.126863 \nL 342.987569 486.265693 \nL 343.131408 486.219416 \nL 343.347167 486.265693 \nL 343.491006 486.311969 \nL 343.634845 485.849204 \nL 343.706764 485.895481 \nL 343.778684 485.988034 \nL 343.850604 485.802928 \nL 343.922523 485.849204 \nL 344.138282 485.617822 \nL 344.42596 485.988034 \nL 344.641719 485.941757 \nL 344.713639 486.17314 \nL 344.785558 486.080587 \nL 344.857478 485.988034 \nL 345.001317 486.265693 \nL 345.073236 486.126863 \nL 345.288995 486.311969 \nL 345.648593 486.358246 \nL 345.720513 486.497075 \nL 345.792432 486.450799 \nL 346.008191 486.589628 \nL 346.15203 486.959841 \nL 346.367789 486.728458 \nL 346.439708 486.774735 \nL 346.511628 487.052394 \nL 346.583547 487.006117 \nL 346.871226 487.283776 \nL 346.943145 487.2375 \nL 347.158904 487.422606 \nL 347.302743 486.821011 \nL 347.446582 486.867288 \nL 347.8781 486.635905 \nL 348.093858 486.774735 \nL 348.309617 486.589628 \nL 348.453456 486.450799 \nL 348.669215 486.589628 \nL 348.741135 486.543352 \nL 348.813054 486.358246 \nL 348.884974 486.404522 \nL 349.028813 486.450799 \nL 349.244572 486.17314 \nL 349.46033 486.265693 \nL 349.748009 486.450799 \nL 349.963767 486.774735 \nL 350.035687 486.867288 \nL 350.395285 486.404522 \nL 350.611044 486.543352 \nL 350.826802 486.589628 \nL 350.898722 486.589628 \nL 350.970641 486.219416 \nL 351.042561 486.358246 \nL 351.114481 486.589628 \nL 351.1864 486.497075 \nL 351.761757 486.03431 \nL 351.905596 485.895481 \nL 352.121355 486.219416 \nL 352.337113 486.219416 \nL 352.480952 486.497075 \nL 352.552872 486.450799 \nL 352.768631 486.080587 \nL 352.91247 486.03431 \nL 353.056309 485.988034 \nL 353.128229 486.126863 \nL 353.200148 486.080587 \nL 353.343987 486.17314 \nL 353.487827 486.17314 \nL 353.919344 486.219416 \nL 353.991264 486.311969 \nL 354.135103 486.126863 \nL 354.278942 486.17314 \nL 354.422781 486.17314 \nL 354.710459 486.450799 \nL 354.854298 486.543352 \nL 354.926218 486.450799 \nL 354.998138 486.589628 \nL 355.070057 486.404522 \nL 355.141977 486.450799 \nL 355.357735 486.450799 \nL 355.501575 486.821011 \nL 355.573494 486.774735 \nL 355.645414 486.682182 \nL 355.789253 487.330053 \nL 356.22077 487.376329 \nL 356.364609 487.468882 \nL 356.652288 487.376329 \nL 356.939966 487.468882 \nL 357.155725 487.515159 \nL 357.299564 487.700265 \nL 357.371484 487.561435 \nL 357.443403 487.607712 \nL 357.587242 487.607712 \nL 357.803001 487.515159 \nL 357.874921 487.283776 \nL 357.94684 487.330053 \nL 358.162599 487.468882 \nL 358.378358 487.422606 \nL 358.522197 487.561435 \nL 358.737955 487.468882 \nL 359.025634 487.561435 \nL 359.241392 487.515159 \nL 359.385232 487.561435 \nL 359.457151 487.376329 \nL 359.529071 487.468882 \nL 359.67291 487.515159 \nL 359.744829 487.468882 \nL 359.816749 487.144947 \nL 359.888669 487.2375 \nL 360.032508 487.283776 \nL 360.248266 487.006117 \nL 360.535945 487.2375 \nL 360.679784 487.191223 \nL 361.183221 487.283776 \nL 361.542819 487.422606 \nL 362.190095 487.330053 \nL 362.262015 487.283776 \nL 362.405854 487.422606 \nL 362.549693 487.422606 \nL 362.693532 487.422606 \nL 362.837371 487.422606 \nL 362.98121 487.468882 \nL 363.125049 487.468882 \nL 363.628486 487.561435 \nL 363.772326 487.653988 \nL 363.844245 487.515159 \nL 363.916165 487.607712 \nL 364.275763 487.700265 \nL 364.63536 488.024201 \nL 364.7792 487.931648 \nL 364.994958 488.024201 \nL 365.138797 487.653988 \nL 365.282637 487.515159 \nL 365.354556 487.330053 \nL 365.426476 487.376329 \nL 365.498395 487.561435 \nL 365.570315 487.468882 \nL 365.714154 487.607712 \nL 366.073752 487.330053 \nL 366.289511 487.006117 \nL 366.43335 485.478992 \nL 366.649109 486.635905 \nL 366.721028 486.358246 \nL 366.792948 486.450799 \nL 366.936787 486.358246 \nL 367.080626 486.219416 \nL 367.512143 486.635905 \nL 367.584063 486.682182 \nL 367.799822 486.543352 \nL 368.01558 486.682182 \nL 368.0875 486.497075 \nL 368.15942 486.589628 \nL 368.447098 486.682182 \nL 368.662857 486.497075 \nL 368.878615 486.774735 \nL 369.094374 486.682182 \nL 369.166294 486.728458 \nL 369.310133 486.589628 \nL 369.597811 486.682182 \nL 369.74165 486.543352 \nL 369.81357 486.543352 \nL 369.885489 486.358246 \nL 370.101248 487.144947 \nL 370.173168 487.09867 \nL 370.460846 487.468882 \nL 370.532766 487.2375 \nL 370.604685 487.330053 \nL 370.676605 487.515159 \nL 370.748524 487.422606 \nL 370.964283 487.191223 \nL 371.108122 487.006117 \nL 371.323881 487.330053 \nL 371.611559 487.2375 \nL 371.899237 487.330053 \nL 372.043077 487.330053 \nL 372.186916 487.283776 \nL 372.330755 487.607712 \nL 372.906111 487.885371 \nL 373.049951 487.885371 \nL 373.409548 488.024201 \nL 373.697227 488.024201 \nL 373.912985 487.09867 \nL 373.984905 487.330053 \nL 374.056825 487.2375 \nL 374.200664 487.2375 \nL 374.344503 487.006117 \nL 374.488342 487.144947 \nL 374.77602 487.006117 \nL 375.207538 487.330053 \nL 375.279457 487.191223 \nL 375.351377 487.2375 \nL 375.854814 487.006117 \nL 375.926734 487.006117 \nL 376.070573 486.867288 \nL 376.142492 486.959841 \nL 376.430171 486.404522 \nL 376.50209 486.358246 \nL 376.57401 486.497075 \nL 376.645929 486.450799 \nL 376.717849 486.265693 \nL 376.789768 486.311969 \nL 376.861688 486.265693 \nL 376.933608 486.497075 \nL 377.221286 485.802928 \nL 377.365125 485.941757 \nL 377.508964 485.895481 \nL 377.652803 485.988034 \nL 377.724723 485.664098 \nL 377.796642 485.802928 \nL 377.940482 485.849204 \nL 378.084321 485.756651 \nL 378.300079 485.849204 \nL 378.515838 486.17314 \nL 378.587758 486.080587 \nL 378.875436 485.571545 \nL 378.947356 485.710375 \nL 379.091195 485.525269 \nL 379.163114 485.756651 \nL 379.235034 485.710375 \nL 379.378873 485.710375 \nL 379.522712 485.849204 \nL 379.666551 485.664098 \nL 379.95423 485.340162 \nL 380.098069 485.201333 \nL 380.169988 485.340162 \nL 380.241908 485.293886 \nL 380.385747 485.432715 \nL 380.457667 485.617822 \nL 380.601506 485.432715 \nL 380.745345 485.710375 \nL 380.889184 485.895481 \nL 380.961104 485.756651 \nL 381.104943 485.941757 \nL 381.176862 485.849204 \nL 381.248782 485.941757 \nL 381.53646 485.664098 \nL 381.967978 485.664098 \nL 382.111817 485.849204 \nL 382.902932 485.293886 \nL 382.974852 484.96995 \nL 383.046771 485.10878 \nL 383.118691 485.062503 \nL 383.190611 484.738568 \nL 383.26253 484.831121 \nL 383.406369 484.183249 \nL 383.550208 484.368356 \nL 383.837887 484.646015 \nL 383.909806 484.646015 \nL 383.981726 484.784844 \nL 384.125565 484.322079 \nL 384.197485 484.646015 \nL 384.269404 484.553462 \nL 384.341324 484.692291 \nL 384.485163 484.275802 \nL 384.557082 484.322079 \nL 384.772841 483.766761 \nL 384.844761 483.859314 \nL 385.060519 483.396549 \nL 385.204359 483.674208 \nL 385.276278 483.303996 \nL 385.707796 485.201333 \nL 385.851635 484.507185 \nL 385.923554 484.646015 \nL 385.995474 484.553462 \nL 386.067393 484.04442 \nL 386.139313 484.183249 \nL 386.211233 484.090696 \nL 386.355072 484.229526 \nL 386.426991 484.090696 \nL 386.57083 484.414632 \nL 386.64275 484.322079 \nL 386.786589 484.275802 \nL 386.930428 484.04442 \nL 387.146187 483.859314 \nL 387.649624 485.247609 \nL 387.865383 483.998143 \nL 388.081142 484.322079 \nL 388.153061 484.183249 \nL 388.224981 484.414632 \nL 388.2969 484.229526 \nL 388.36882 484.322079 \nL 388.440739 484.507185 \nL 388.512659 484.183249 \nL 388.584579 484.553462 \nL 388.656498 484.275802 \nL 388.728418 484.368356 \nL 389.016096 483.998143 \nL 389.231855 484.322079 \nL 389.375694 484.784844 \nL 389.447613 484.738568 \nL 389.591453 484.414632 \nL 389.663372 484.599738 \nL 389.735292 484.507185 \nL 390.02297 484.414632 \nL 390.238729 485.062503 \nL 390.310648 484.738568 \nL 390.382568 484.414632 \nL 390.526407 484.923674 \nL 390.598327 484.784844 \nL 390.742166 485.062503 \nL 390.814085 485.062503 \nL 390.886005 484.784844 \nL 390.957924 484.96995 \nL 391.029844 484.784844 \nL 391.101764 484.923674 \nL 391.173683 484.831121 \nL 391.461361 483.813037 \nL 391.533281 483.90559 \nL 391.605201 483.627931 \nL 391.67712 483.674208 \nL 391.74904 483.766761 \nL 391.964799 483.257719 \nL 392.036718 483.489102 \nL 392.180557 482.98006 \nL 392.396316 482.748677 \nL 392.540155 483.581655 \nL 392.683994 483.720484 \nL 392.827833 483.998143 \nL 393.187431 483.581655 \nL 393.259351 483.627931 \nL 393.547029 484.368356 \nL 393.762788 484.04442 \nL 393.834707 483.859314 \nL 394.050466 484.275802 \nL 394.122386 484.414632 \nL 394.338144 484.04442 \nL 394.841581 484.831121 \nL 394.913501 484.877397 \nL 394.985421 484.692291 \nL 395.05734 484.738568 \nL 395.201179 485.016227 \nL 395.416938 484.507185 \nL 395.488858 484.738568 \nL 395.560777 484.507185 \nL 395.632697 484.831121 \nL 395.704616 484.553462 \nL 395.776536 484.877397 \nL 395.848455 484.784844 \nL 395.992295 484.831121 \nL 396.136134 484.460909 \nL 396.351893 484.229526 \nL 396.423812 484.090696 \nL 396.639571 484.322079 \nL 396.71149 484.368356 \nL 396.78341 484.646015 \nL 396.85533 484.507185 \nL 396.999169 484.507185 \nL 397.143008 484.738568 \nL 397.214927 484.692291 \nL 397.502606 482.887507 \nL 397.574525 483.165166 \nL 397.646445 483.303996 \nL 397.790284 482.285912 \nL 398.006043 483.072613 \nL 398.077962 482.84123 \nL 398.149882 482.98006 \nL 398.221801 483.026336 \nL 398.293721 482.748677 \nL 398.365641 482.794954 \nL 398.50948 483.118889 \nL 398.653319 482.98006 \nL 398.725238 483.396549 \nL 398.797158 483.165166 \nL 398.940997 483.535378 \nL 399.012917 483.165166 \nL 399.084836 483.257719 \nL 399.228675 483.026336 \nL 399.444434 482.517295 \nL 399.516354 482.378465 \nL 399.588273 482.563571 \nL 399.660193 482.471018 \nL 399.732112 482.517295 \nL 399.875952 482.933783 \nL 399.947871 482.84123 \nL 400.019791 482.517295 \nL 400.09171 482.794954 \nL 400.16363 482.656124 \nL 400.307469 482.933783 \nL 400.523228 483.442825 \nL 400.595147 483.396549 \nL 400.738987 482.794954 \nL 400.810906 482.933783 \nL 400.954745 482.609848 \nL 401.170504 481.314105 \nL 401.242424 481.499211 \nL 401.314343 481.638041 \nL 401.386263 481.267829 \nL 401.530102 481.730594 \nL 401.602021 481.499211 \nL 401.673941 481.77687 \nL 401.745861 481.545488 \nL 401.961619 482.054529 \nL 402.105458 481.499211 \nL 402.177378 481.591764 \nL 402.321217 481.314105 \nL 402.393137 481.360382 \nL 402.465056 481.591764 \nL 402.536976 481.452935 \nL 402.680815 481.499211 \nL 402.752735 481.360382 \nL 402.896574 480.619957 \nL 403.184252 480.619957 \nL 403.256172 480.805063 \nL 403.328091 480.758787 \nL 403.54385 480.388575 \nL 403.615769 480.296022 \nL 403.687689 479.879533 \nL 403.759609 480.296022 \nL 404.119206 478.028472 \nL 404.191126 478.352408 \nL 404.263046 478.167302 \nL 404.334965 477.889643 \nL 404.406885 478.259855 \nL 404.478804 477.79709 \nL 404.550724 478.213578 \nL 404.622643 477.982196 \nL 404.694563 477.935919 \nL 404.766483 477.611984 \nL 404.982241 480.110916 \nL 405.054161 479.833257 \nL 405.26992 480.758787 \nL 405.341839 480.110916 \nL 405.413759 480.342298 \nL 405.557598 479.370491 \nL 405.629518 479.509321 \nL 405.773357 479.740703 \nL 405.917196 479.416768 \nL 405.989115 479.972086 \nL 406.132955 478.306131 \nL 406.204874 478.537514 \nL 406.276794 479.277938 \nL 406.420633 478.074749 \nL 406.492552 478.444961 \nL 406.564472 478.352408 \nL 406.708311 478.028472 \nL 406.85215 477.426877 \nL 406.92407 477.843366 \nL 407.211748 476.177411 \nL 407.283668 474.881669 \nL 407.355587 475.946029 \nL 407.427507 475.66837 \nL 407.499426 475.52954 \nL 407.643266 475.992305 \nL 407.715185 475.714646 \nL 407.787105 475.853476 \nL 407.859024 475.946029 \nL 407.930944 475.483264 \nL 408.002863 475.807199 \nL 408.218622 475.066775 \nL 408.290542 475.159328 \nL 408.434381 473.817309 \nL 408.65014 471.781142 \nL 408.722059 471.503483 \nL 409.009737 474.46518 \nL 409.081657 475.113051 \nL 409.153577 474.789116 \nL 409.297416 474.326351 \nL 409.369335 474.60401 \nL 409.441255 473.909862 \nL 409.513175 474.326351 \nL 409.585094 473.771032 \nL 409.728933 474.60401 \nL 410.016612 472.429013 \nL 410.23237 475.113051 \nL 410.30429 474.372627 \nL 410.376209 474.650286 \nL 410.520049 476.316241 \nL 410.735807 473.678479 \nL 410.879646 472.197631 \nL 410.951566 472.521566 \nL 411.023486 473.308267 \nL 411.095405 472.382737 \nL 411.167325 472.706672 \nL 411.239244 472.752949 \nL 411.311164 474.048691 \nL 411.383083 473.724756 \nL 411.526923 474.511457 \nL 411.814601 471.966248 \nL 412.03036 472.938055 \nL 412.174199 471.318377 \nL 412.389957 472.521566 \nL 412.533797 471.734865 \nL 412.605716 471.919972 \nL 412.677636 472.660396 \nL 412.821475 472.012525 \nL 412.893394 469.513593 \nL 412.965314 470.855612 \nL 413.037234 469.883805 \nL 413.109153 470.254017 \nL 413.252992 470.855612 \nL 413.324912 470.809335 \nL 413.396832 470.254017 \nL 413.540671 472.058801 \nL 413.61259 471.734865 \nL 413.756429 470.34657 \nL 413.828349 470.670506 \nL 413.972188 467.338596 \nL 414.044108 467.801361 \nL 414.116027 468.21785 \nL 414.187947 468.07902 \nL 414.259866 468.125297 \nL 414.331786 468.634339 \nL 414.403706 470.254017 \nL 414.475625 468.634339 \nL 414.547545 469.050827 \nL 414.619464 469.976358 \nL 414.691384 469.513593 \nL 414.763303 470.34657 \nL 414.835223 469.28221 \nL 415.050982 472.845502 \nL 415.122901 472.105078 \nL 415.194821 472.429013 \nL 415.33866 470.068911 \nL 415.482499 471.318377 \nL 415.554419 471.086994 \nL 415.626338 469.837528 \nL 415.698258 470.948165 \nL 415.770177 470.068911 \nL 415.842097 470.485399 \nL 415.914017 470.485399 \nL 416.129775 472.614119 \nL 416.201695 472.243907 \nL 416.345534 473.447097 \nL 416.417454 474.418904 \nL 416.561293 473.123161 \nL 416.633212 474.141245 \nL 416.705132 473.40082 \nL 417.06473 476.547624 \nL 417.136649 476.269964 \nL 417.208569 476.316241 \nL 417.280488 476.455071 \nL 417.352408 476.269964 \nL 417.424328 476.825283 \nL 417.568167 475.483264 \nL 417.640086 475.66837 \nL 417.783926 474.835392 \nL 417.927765 474.974222 \nL 417.999684 475.714646 \nL 418.071604 475.159328 \nL 418.143523 475.807199 \nL 418.215443 475.52954 \nL 418.287363 475.714646 \nL 418.503121 472.521566 \nL 418.575041 473.123161 \nL 418.64696 473.771032 \nL 418.71888 472.984332 \nL 418.7908 473.771032 \nL 418.862719 472.891778 \nL 418.934639 473.909862 \nL 419.006558 473.53965 \nL 419.078478 473.261991 \nL 419.150397 473.817309 \nL 419.222317 473.724756 \nL 419.509995 471.503483 \nL 419.581915 472.243907 \nL 419.653834 471.873695 \nL 419.725754 471.688589 \nL 419.797674 472.012525 \nL 419.869593 473.447097 \nL 419.941513 472.706672 \nL 420.013432 473.169438 \nL 420.085352 474.742839 \nL 420.157271 474.280074 \nL 420.229191 474.280074 \nL 420.301111 473.678479 \nL 420.37303 474.835392 \nL 420.44495 474.048691 \nL 420.588789 475.159328 \nL 420.660708 474.927945 \nL 420.732628 475.159328 \nL 420.804548 474.974222 \nL 420.876467 475.344434 \nL 421.092226 475.020498 \nL 421.236065 475.344434 \nL 421.379904 473.863585 \nL 421.451824 474.326351 \nL 421.595663 473.771032 \nL 421.811422 472.151354 \nL 422.17102 470.068911 \nL 422.242939 470.392846 \nL 422.314859 471.642312 \nL 422.386778 470.531676 \nL 422.530617 471.642312 \nL 422.818296 472.660396 \nL 422.890215 470.948165 \nL 422.962135 471.179547 \nL 423.034054 470.809335 \nL 423.177894 473.632203 \nL 423.249813 473.215714 \nL 423.393652 474.650286 \nL 423.465572 473.215714 \nL 423.609411 482.424742 \nL 423.681331 483.072613 \nL 423.75325 482.656124 \nL 423.897089 483.118889 \nL 424.040928 483.489102 \nL 424.112848 483.90559 \nL 424.184768 483.766761 \nL 424.256687 483.118889 \nL 424.328607 483.303996 \nL 424.544365 484.136973 \nL 424.688205 483.674208 \nL 424.832044 484.275802 \nL 424.975883 484.229526 \nL 425.335481 483.072613 \nL 425.551239 483.766761 \nL 425.623159 483.720484 \nL 425.695079 484.090696 \nL 425.766998 483.998143 \nL 425.838918 483.720484 \nL 425.910837 483.813037 \nL 426.054676 484.275802 \nL 426.126596 484.136973 \nL 426.198516 484.183249 \nL 426.270435 484.275802 \nL 426.342355 483.998143 \nL 426.773872 484.831121 \nL 426.845792 484.738568 \nL 426.989631 485.571545 \nL 427.20539 485.247609 \nL 427.421148 485.664098 \nL 427.493068 485.617822 \nL 427.564988 485.664098 \nL 427.636907 485.571545 \nL 427.708827 485.664098 \nL 427.780746 485.386439 \nL 427.852666 485.478992 \nL 428.140344 485.386439 \nL 428.284183 484.738568 \nL 428.356103 484.923674 \nL 428.428022 484.877397 \nL 428.499942 484.692291 \nL 428.571862 484.877397 \nL 428.643781 484.414632 \nL 428.78762 484.692291 \nL 428.85954 484.784844 \nL 429.003379 483.951867 \nL 429.075299 484.04442 \nL 429.219138 483.627931 \nL 429.362977 483.90559 \nL 429.506816 483.257719 \nL 429.578736 483.257719 \nL 429.794494 483.720484 \nL 429.866414 483.442825 \nL 429.938333 483.535378 \nL 430.010253 483.535378 \nL 430.082173 484.04442 \nL 430.154092 483.90559 \nL 430.226012 484.04442 \nL 430.297931 483.951867 \nL 430.369851 483.766761 \nL 430.51369 484.322079 \nL 430.58561 484.136973 \nL 430.657529 484.183249 \nL 430.729449 484.183249 \nL 430.801368 483.951867 \nL 430.873288 483.998143 \nL 430.945208 484.322079 \nL 431.017127 484.183249 \nL 431.160966 483.674208 \nL 431.232886 483.303996 \nL 431.304805 483.396549 \nL 431.448645 483.720484 \nL 431.520564 484.229526 \nL 431.664403 483.627931 \nL 431.808242 483.90559 \nL 431.880162 483.627931 \nL 431.952082 483.90559 \nL 432.024001 483.766761 \nL 432.16784 482.84123 \nL 432.23976 483.211443 \nL 432.311679 482.887507 \nL 432.383599 483.118889 \nL 432.455519 482.98006 \nL 432.599358 483.303996 \nL 432.743197 483.951867 \nL 432.815116 483.535378 \nL 432.887036 483.581655 \nL 432.958956 483.627931 \nL 433.030875 483.165166 \nL 433.102795 483.211443 \nL 433.174714 483.026336 \nL 433.318553 483.674208 \nL 433.462393 481.961976 \nL 433.534312 482.193359 \nL 433.678151 482.517295 \nL 433.89391 481.823147 \nL 433.96583 482.054529 \nL 434.037749 481.9157 \nL 434.109669 481.684317 \nL 434.181588 482.239636 \nL 434.253508 481.961976 \nL 434.541186 482.84123 \nL 434.613106 482.887507 \nL 434.828864 482.471018 \nL 434.972704 482.656124 \nL 435.188462 482.748677 \nL 435.332302 482.933783 \nL 435.476141 483.859314 \nL 435.54806 483.813037 \nL 435.61998 483.489102 \nL 435.691899 483.581655 \nL 435.907658 483.257719 \nL 435.979578 483.350272 \nL 436.051497 483.766761 \nL 436.123417 483.674208 \nL 436.195336 483.627931 \nL 436.267256 483.813037 \nL 436.339176 483.627931 \nL 436.411095 483.674208 \nL 436.483015 483.720484 \nL 436.626854 482.98006 \nL 436.698773 483.072613 \nL 436.770693 482.517295 \nL 436.842613 482.609848 \nL 436.914532 482.748677 \nL 436.986452 482.656124 \nL 437.058371 482.748677 \nL 437.20221 482.563571 \nL 437.489889 483.442825 \nL 437.705647 482.239636 \nL 437.777567 482.517295 \nL 437.849487 482.193359 \nL 437.993326 483.813037 \nL 438.065245 483.813037 \nL 438.281004 484.275802 \nL 438.352924 484.229526 \nL 438.496763 484.136973 \nL 438.568682 484.183249 \nL 438.712521 483.859314 \nL 438.784441 483.951867 \nL 439.0002 484.136973 \nL 439.215958 484.090696 \nL 439.503637 484.414632 \nL 439.575556 484.368356 \nL 439.647476 484.460909 \nL 439.719396 484.368356 \nL 439.791315 484.460909 \nL 439.935154 484.136973 \nL 440.150913 484.460909 \nL 440.222833 484.229526 \nL 440.294752 484.322079 \nL 440.366672 484.229526 \nL 440.510511 484.646015 \nL 440.58243 484.599738 \nL 440.72627 484.96995 \nL 440.798189 484.738568 \nL 440.942028 485.155056 \nL 441.013948 484.923674 \nL 441.157787 485.340162 \nL 441.301626 485.201333 \nL 441.373546 485.201333 \nL 441.517385 485.386439 \nL 441.733144 484.96995 \nL 441.805063 485.062503 \nL 442.020822 484.414632 \nL 442.164661 484.414632 \nL 442.236581 484.738568 \nL 442.452339 484.090696 \nL 442.524259 484.368356 \nL 442.668098 484.04442 \nL 442.955776 484.553462 \nL 443.171535 484.090696 \nL 443.315374 483.90559 \nL 443.459213 484.183249 \nL 443.531133 484.183249 \nL 443.674972 483.90559 \nL 443.818811 484.090696 \nL 443.890731 483.766761 \nL 443.96265 483.951867 \nL 444.10649 483.859314 \nL 444.178409 483.350272 \nL 444.250329 483.489102 \nL 444.394168 483.674208 \nL 444.681846 482.609848 \nL 444.825685 482.98006 \nL 444.897605 482.98006 \nL 445.185283 483.674208 \nL 445.401042 483.257719 \nL 445.472961 483.581655 \nL 445.544881 483.489102 \nL 445.832559 483.026336 \nL 445.904479 483.165166 \nL 446.048318 482.656124 \nL 446.120238 482.609848 \nL 446.407916 483.396549 \nL 446.551755 483.442825 \nL 446.623675 483.257719 \nL 446.695594 483.535378 \nL 446.767514 483.026336 \nL 446.839433 483.118889 \nL 446.911353 483.211443 \nL 447.055192 482.794954 \nL 447.199031 482.748677 \nL 447.270951 482.794954 \nL 447.558629 482.100806 \nL 447.630549 482.054529 \nL 447.846307 482.517295 \nL 447.918227 482.193359 \nL 447.990147 482.285912 \nL 448.062066 482.193359 \nL 448.205905 482.563571 \nL 448.421664 483.303996 \nL 448.565503 482.563571 \nL 448.637423 482.609848 \nL 448.781262 483.257719 \nL 448.925101 482.424742 \nL 448.997021 482.656124 \nL 449.06894 482.517295 \nL 449.284699 482.193359 \nL 449.356618 482.285912 \nL 449.500458 482.378465 \nL 449.572377 482.239636 \nL 449.644297 482.285912 \nL 449.788136 482.239636 \nL 450.003895 482.748677 \nL 450.075814 482.702401 \nL 450.219653 482.609848 \nL 450.291573 482.378465 \nL 450.363492 482.517295 \nL 450.435412 482.609848 \nL 450.507332 482.239636 \nL 450.579251 482.285912 \nL 450.72309 482.471018 \nL 450.79501 482.332189 \nL 451.154608 481.869423 \nL 451.442286 482.424742 \nL 451.514206 482.609848 \nL 451.586125 482.471018 \nL 451.658045 482.84123 \nL 451.801884 482.424742 \nL 452.161482 483.026336 \nL 452.233401 482.424742 \nL 452.305321 482.471018 \nL 452.377241 482.748677 \nL 452.44916 482.563571 \nL 452.52108 482.008253 \nL 452.592999 482.100806 \nL 452.808758 482.285912 \nL 452.880678 482.702401 \nL 453.024517 482.147083 \nL 453.168356 482.517295 \nL 453.312195 482.471018 \nL 453.527954 482.887507 \nL 453.599873 482.933783 \nL 454.031391 483.951867 \nL 454.17523 483.627931 \nL 454.247149 483.720484 \nL 454.390989 484.692291 \nL 454.462908 484.784844 \nL 454.534828 484.646015 \nL 454.606747 484.692291 \nL 454.678667 484.877397 \nL 454.822506 484.507185 \nL 454.966345 484.738568 \nL 455.110184 484.183249 \nL 455.182104 484.414632 \nL 455.325943 484.646015 \nL 455.397863 484.322079 \nL 455.469782 484.553462 \nL 455.541702 484.368356 \nL 455.613621 484.460909 \nL 455.75746 485.386439 \nL 455.9013 485.386439 \nL 455.973219 485.525269 \nL 456.045139 485.293886 \nL 456.188978 485.571545 \nL 456.332817 485.247609 \nL 456.476656 485.432715 \nL 456.620495 485.664098 \nL 456.836254 485.293886 \nL 457.052013 485.478992 \nL 457.267772 485.10878 \nL 457.48353 485.016227 \nL 457.699289 485.201333 \nL 457.843128 485.478992 \nL 457.986967 485.432715 \nL 458.058887 485.664098 \nL 458.130806 485.525269 \nL 458.274646 485.571545 \nL 458.706163 485.525269 \nL 458.850002 485.340162 \nL 458.921922 485.478992 \nL 458.993841 485.386439 \nL 459.13768 485.478992 \nL 459.2096 485.386439 \nL 459.425359 485.525269 \nL 459.641117 485.571545 \nL 459.928796 485.802928 \nL 460.216474 485.293886 \nL 460.360313 485.664098 \nL 460.647991 485.386439 \nL 460.719911 485.478992 \nL 460.86375 485.155056 \nL 460.93567 485.247609 \nL 461.223348 484.784844 \nL 461.295268 484.784844 \nL 461.367187 484.646015 \nL 461.582946 485.293886 \nL 461.798705 484.96995 \nL 462.014463 485.293886 \nL 462.086383 485.201333 \nL 462.158303 484.923674 \nL 462.230222 485.062503 \nL 462.302142 485.062503 \nL 462.374061 485.247609 \nL 462.445981 485.155056 \nL 462.949418 485.432715 \nL 463.093257 485.201333 \nL 463.309016 485.432715 \nL 463.380935 485.340162 \nL 463.596694 485.617822 \nL 463.740533 485.571545 \nL 464.028211 485.571545 \nL 464.24397 485.386439 \nL 464.531648 485.478992 \nL 464.819327 485.478992 \nL 464.963166 485.664098 \nL 465.035085 485.710375 \nL 465.107005 485.617822 \nL 465.178925 485.756651 \nL 465.250844 485.664098 \nL 465.394683 485.386439 \nL 465.538523 485.571545 \nL 465.682362 485.478992 \nL 465.97004 485.571545 \nL 466.257718 485.478992 \nL 466.329638 485.293886 \nL 466.473477 485.432715 \nL 466.689236 485.340162 \nL 466.761155 485.525269 \nL 466.833075 485.432715 \nL 466.904994 485.386439 \nL 467.048834 485.525269 \nL 467.192673 485.525269 \nL 467.62419 485.432715 \nL 467.839949 485.386439 \nL 467.983788 485.386439 \nL 468.055708 485.571545 \nL 468.127627 485.525269 \nL 468.271466 485.525269 \nL 468.990662 485.571545 \nL 469.062582 485.941757 \nL 469.134501 485.802928 \nL 469.35026 485.941757 \nL 469.494099 485.849204 \nL 469.637938 485.849204 \nL 469.709858 485.895481 \nL 469.925617 485.617822 \nL 470.069456 485.525269 \nL 470.285214 484.507185 \nL 470.572893 484.229526 \nL 470.788651 484.183249 \nL 470.932491 484.507185 \nL 471.00441 484.460909 \nL 471.220169 484.136973 \nL 471.507847 484.599738 \nL 471.579767 484.646015 \nL 471.723606 484.553462 \nL 471.867445 484.784844 \nL 472.083204 484.507185 \nL 472.155123 484.599738 \nL 472.370882 484.04442 \nL 472.586641 484.090696 \nL 472.65856 484.183249 \nL 472.802399 483.998143 \nL 472.874319 484.183249 \nL 472.946239 484.090696 \nL 473.161997 484.04442 \nL 473.305836 483.674208 \nL 473.449676 483.90559 \nL 473.593515 483.813037 \nL 473.665434 483.90559 \nL 473.737354 483.813037 \nL 473.809274 483.489102 \nL 473.881193 483.535378 \nL 474.025032 483.535378 \nL 474.168871 483.627931 \nL 474.240791 483.303996 \nL 474.312711 483.489102 \nL 474.45655 483.720484 \nL 474.528469 483.442825 \nL 474.600389 483.535378 \nL 474.672308 483.396549 \nL 474.816148 483.90559 \nL 474.888067 483.813037 \nL 475.031906 483.90559 \nL 475.103826 483.90559 \nL 475.175745 483.720484 \nL 475.247665 483.813037 \nL 475.319585 483.859314 \nL 475.607263 483.257719 \nL 475.751102 483.535378 \nL 475.966861 483.118889 \nL 476.182619 482.84123 \nL 476.542217 483.118889 \nL 476.686056 482.794954 \nL 476.757976 483.072613 \nL 476.829896 483.026336 \nL 476.901815 483.118889 \nL 476.973735 482.887507 \nL 477.045654 482.98006 \nL 477.333333 483.674208 \nL 477.405252 483.581655 \nL 477.477172 483.396549 \nL 477.549091 483.581655 \nL 477.621011 483.535378 \nL 477.69293 483.627931 \nL 477.908689 482.748677 \nL 477.980609 482.84123 \nL 478.340207 482.285912 \nL 478.484046 482.933783 \nL 478.555965 482.748677 \nL 478.627885 482.794954 \nL 478.843644 482.98006 \nL 478.915563 482.98006 \nL 479.059402 482.609848 \nL 479.203242 482.887507 \nL 479.275161 482.794954 \nL 479.419 482.84123 \nL 479.49092 482.794954 \nL 479.706679 483.303996 \nL 479.850518 483.026336 \nL 480.066276 483.674208 \nL 480.282035 483.720484 \nL 480.353955 483.442825 \nL 480.425874 483.581655 \nL 480.569713 483.489102 \nL 480.641633 483.257719 \nL 480.713553 483.303996 \nL 480.929311 483.535378 \nL 481.001231 483.442825 \nL 481.14507 483.674208 \nL 481.21699 483.396549 \nL 481.288909 483.489102 \nL 481.504668 483.813037 \nL 481.576587 483.766761 \nL 481.648507 483.90559 \nL 481.720427 483.813037 \nL 481.792346 483.859314 \nL 482.080024 483.396549 \nL 482.223864 483.396549 \nL 482.439622 482.98006 \nL 482.655381 482.609848 \nL 482.79922 482.471018 \nL 482.943059 482.933783 \nL 483.086899 482.98006 \nL 483.158818 483.118889 \nL 483.374577 482.794954 \nL 483.446496 482.98006 \nL 483.518416 482.933783 \nL 483.806094 483.211443 \nL 484.021853 482.933783 \nL 484.237612 482.609848 \nL 484.309531 482.84123 \nL 484.381451 482.794954 \nL 484.45337 482.748677 \nL 484.59721 483.026336 \nL 484.669129 483.118889 \nL 484.884888 482.84123 \nL 485.028727 482.517295 \nL 485.172566 482.563571 \nL 485.460244 481.545488 \nL 485.532164 481.360382 \nL 485.604084 481.545488 \nL 485.676003 481.406658 \nL 485.819842 481.961976 \nL 485.891762 481.823147 \nL 485.963681 482.008253 \nL 486.035601 481.9157 \nL 486.107521 481.9157 \nL 486.17944 482.100806 \nL 486.25136 482.054529 \nL 486.467118 481.267829 \nL 486.539038 481.267829 \nL 486.682877 481.545488 \nL 486.826716 481.175276 \nL 486.898636 481.314105 \nL 486.970556 481.499211 \nL 487.042475 481.406658 \nL 487.114395 481.267829 \nL 487.258234 481.684317 \nL 487.330153 480.85134 \nL 487.402073 480.897616 \nL 487.617832 481.360382 \nL 487.761671 481.360382 \nL 487.97743 481.730594 \nL 488.049349 481.638041 \nL 488.121269 481.961976 \nL 488.193188 481.869423 \nL 488.265108 481.869423 \nL 488.337027 481.684317 \nL 488.408947 481.730594 \nL 488.480867 481.684317 \nL 488.552786 481.823147 \nL 488.696625 481.499211 \nL 488.840464 481.545488 \nL 488.912384 481.684317 \nL 488.984304 481.545488 \nL 489.056223 481.730594 \nL 489.128143 481.684317 \nL 489.415821 481.082723 \nL 489.487741 481.221552 \nL 489.63158 481.221552 \nL 489.703499 480.99017 \nL 489.775419 481.128999 \nL 489.847338 481.036446 \nL 489.991178 480.527404 \nL 490.063097 480.573681 \nL 490.135017 480.388575 \nL 490.206936 480.573681 \nL 490.278856 480.388575 \nL 490.422695 479.740703 \nL 490.494615 479.694427 \nL 490.566534 479.879533 \nL 490.710373 479.463044 \nL 490.782293 479.601874 \nL 490.854212 479.463044 \nL 490.998052 479.833257 \nL 491.141891 479.879533 \nL 491.35765 480.527404 \nL 491.501489 480.619957 \nL 491.645328 480.897616 \nL 491.717247 480.758787 \nL 491.789167 479.694427 \nL 491.861087 479.92581 \nL 491.933006 480.018363 \nL 492.004926 479.92581 \nL 492.220684 480.388575 \nL 492.508363 479.78698 \nL 492.580282 479.879533 \nL 492.724121 480.203469 \nL 492.796041 480.064639 \nL 492.867961 480.203469 \nL 492.93988 480.71251 \nL 493.0118 480.527404 \nL 493.083719 480.157192 \nL 493.155639 480.296022 \nL 493.227558 480.527404 \nL 493.299478 480.342298 \nL 493.371398 480.388575 \nL 493.443317 480.342298 \nL 493.515237 480.064639 \nL 493.659076 480.388575 \nL 493.730995 480.296022 \nL 493.946754 479.139109 \nL 494.090593 479.324215 \nL 494.162513 479.231662 \nL 494.234432 478.768897 \nL 494.306352 478.86145 \nL 494.378272 478.954003 \nL 494.522111 478.630067 \nL 494.59403 478.815173 \nL 494.66595 478.768897 \nL 494.881709 479.000279 \nL 495.169387 478.074749 \nL 495.241306 478.444961 \nL 495.313226 478.352408 \nL 495.457065 478.259855 \nL 495.672824 477.843366 \nL 495.816663 477.843366 \nL 495.960502 477.288048 \nL 496.176261 477.935919 \nL 496.248181 478.028472 \nL 496.3201 477.565707 \nL 496.535859 475.020498 \nL 496.679698 475.113051 \nL 496.751618 474.974222 \nL 496.823537 475.113051 \nL 496.895457 475.066775 \nL 496.967376 474.927945 \nL 497.183135 473.53965 \nL 497.255055 473.53965 \nL 497.398894 472.614119 \nL 497.470813 472.891778 \nL 497.542733 472.799225 \nL 497.686572 473.030608 \nL 497.902331 472.567843 \nL 498.118089 472.752949 \nL 498.190009 472.614119 \nL 498.261929 472.660396 \nL 498.333848 470.716782 \nL 498.405768 470.763059 \nL 498.621526 468.495509 \nL 498.909205 470.300293 \nL 498.981124 469.328486 \nL 499.053044 470.254017 \nL 499.124963 470.115187 \nL 499.412642 469.467316 \nL 499.484561 469.467316 \nL 499.556481 469.050827 \nL 499.70032 470.300293 \nL 499.77224 469.976358 \nL 499.916079 469.883805 \nL 499.987998 470.161464 \nL 500.203757 469.652422 \nL 500.275677 469.744975 \nL 500.347596 470.115187 \nL 500.563355 469.698699 \nL 500.635275 468.21785 \nL 500.707194 468.310403 \nL 500.779114 469.698699 \nL 500.851033 469.421039 \nL 500.994872 467.940191 \nL 501.066792 467.801361 \nL 501.138712 468.032744 \nL 501.642149 466.737001 \nL 501.857907 464.932217 \nL 501.929827 465.533812 \nL 502.001746 465.209876 \nL 502.073666 465.1636 \nL 502.145586 464.562005 \nL 502.289425 465.348706 \nL 502.577103 461.646584 \nL 502.792862 463.173709 \nL 502.936701 462.016796 \nL 503.00862 461.97052 \nL 503.08054 461.739137 \nL 503.224379 462.248179 \nL 503.296299 463.682751 \nL 503.368218 463.03488 \nL 503.440138 463.081156 \nL 503.583977 465.256153 \nL 504.159334 462.479561 \nL 504.303173 463.219986 \nL 504.447012 463.219986 \nL 504.518932 463.729027 \nL 504.590851 463.081156 \nL 504.73469 464.284346 \nL 504.80661 464.145516 \nL 505.094288 462.479561 \nL 505.453886 467.755085 \nL 505.525806 467.616255 \nL 505.597725 466.690725 \nL 505.669645 467.662532 \nL 505.741564 466.598172 \nL 505.813484 467.662532 \nL 505.885403 466.737001 \nL 506.101162 467.662532 \nL 506.245001 467.107213 \nL 506.316921 467.246043 \nL 506.38884 466.644448 \nL 506.46076 466.922107 \nL 506.53268 466.598172 \nL 506.604599 466.737001 \nL 506.748438 467.616255 \nL 506.820358 468.541786 \nL 506.892277 468.125297 \nL 506.964197 467.662532 \nL 507.036117 467.755085 \nL 507.108036 467.477426 \nL 507.323795 464.978494 \nL 507.467634 464.978494 \nL 507.539554 464.376899 \nL 507.611473 464.469452 \nL 507.683393 464.978494 \nL 507.755312 464.654558 \nL 507.827232 464.793387 \nL 508.042991 467.01466 \nL 508.18683 466.320513 \nL 508.258749 467.477426 \nL 508.330669 467.431149 \nL 508.402589 467.338596 \nL 508.618347 465.904024 \nL 508.690267 466.320513 \nL 508.762186 466.181683 \nL 508.906026 465.533812 \nL 509.049865 466.644448 \nL 509.121784 466.551895 \nL 509.193704 467.107213 \nL 509.265623 466.829554 \nL 509.337543 467.060937 \nL 509.409463 466.08913 \nL 509.481382 466.459342 \nL 509.84098 465.857747 \nL 509.984819 463.867857 \nL 510.056739 463.867857 \nL 510.200578 462.525838 \nL 510.272497 462.757221 \nL 510.344417 462.294455 \nL 510.416337 462.433285 \nL 510.488256 462.525838 \nL 510.560176 462.294455 \nL 510.632095 462.433285 \nL 510.704015 463.173709 \nL 510.775934 463.081156 \nL 510.919774 462.803497 \nL 510.991693 463.127433 \nL 511.063613 462.942327 \nL 511.135532 463.173709 \nL 511.207452 462.433285 \nL 511.279371 462.710944 \nL 511.351291 462.294455 \nL 511.49513 459.980629 \nL 511.56705 460.859883 \nL 511.638969 460.304565 \nL 511.854728 461.137542 \nL 511.998567 461.183819 \nL 512.070487 460.998713 \nL 512.142406 461.183819 \nL 512.214326 461.137542 \nL 512.358165 460.489671 \nL 512.502004 460.90616 \nL 512.573924 459.286482 \nL 512.645843 459.332758 \nL 512.861602 457.620527 \nL 513.005441 458.77744 \nL 513.077361 458.592334 \nL 513.29312 456.50989 \nL 513.436959 457.296591 \nL 513.580798 456.093402 \nL 513.652717 456.324784 \nL 513.724637 457.851909 \nL 513.796557 457.018932 \nL 513.940396 455.723189 \nL 514.299994 458.268398 \nL 514.371913 457.527974 \nL 514.443833 459.008822 \nL 514.587672 456.000849 \nL 514.731511 457.111485 \nL 514.87535 454.612553 \nL 514.94727 454.936489 \nL 515.019189 454.242341 \nL 515.091109 454.658829 \nL 515.163028 454.057235 \nL 515.306868 455.676913 \nL 515.522626 452.206174 \nL 515.594546 451.002984 \nL 515.666465 451.46575 \nL 515.810305 452.25245 \nL 515.882224 452.113621 \nL 516.026063 451.234367 \nL 516.097983 451.280644 \nL 516.169902 450.771602 \nL 516.241822 449.059371 \nL 516.313742 449.33703 \nL 516.385661 449.290753 \nL 516.457581 449.059371 \nL 516.745259 446.097673 \nL 516.889098 447.254586 \nL 517.032937 444.200336 \nL 517.104857 444.709378 \nL 517.176777 443.321082 \nL 517.248696 443.367359 \nL 517.392535 443.135976 \nL 517.536374 442.719487 \nL 517.608294 444.616825 \nL 517.680214 444.477995 \nL 517.752133 445.172143 \nL 517.824053 444.987037 \nL 518.183651 443.182252 \nL 518.25557 443.598741 \nL 518.32749 444.94076 \nL 518.399409 444.663101 \nL 518.543248 442.719487 \nL 518.615168 443.089699 \nL 519.046685 436.009392 \nL 519.118605 436.56471 \nL 519.550122 443.228529 \nL 519.693962 444.570548 \nL 519.837801 442.395552 \nL 519.90972 442.441828 \nL 520.125479 447.578522 \nL 520.197399 447.393416 \nL 520.269318 446.606715 \nL 520.341238 449.059371 \nL 520.413157 447.578522 \nL 520.485077 449.1982 \nL 520.700836 445.496078 \nL 520.772755 445.681185 \nL 520.844675 446.467885 \nL 520.988514 444.755654 \nL 521.132353 445.264696 \nL 521.204273 446.838098 \nL 521.276192 446.421609 \nL 521.348112 446.14395 \nL 521.491951 448.735435 \nL 521.563871 448.226393 \nL 521.63579 448.596605 \nL 521.779629 450.170007 \nL 521.923468 447.578522 \nL 522.498825 452.206174 \nL 522.642664 452.992875 \nL 522.786503 450.447666 \nL 522.930342 450.540219 \nL 523.002262 451.46575 \nL 523.146101 445.07959 \nL 523.433779 447.948734 \nL 523.505699 448.087564 \nL 523.577619 449.151924 \nL 523.793377 447.393416 \nL 523.937216 448.550329 \nL 524.009136 448.27267 \nL 524.224895 445.634908 \nL 524.296814 446.14395 \nL 524.368734 444.848207 \nL 524.440653 445.172143 \nL 524.512573 445.172143 \nL 524.656412 444.663101 \nL 524.94409 447.347139 \nL 525.01601 447.254586 \nL 525.231769 450.170007 \nL 525.303688 449.33703 \nL 525.447527 450.216284 \nL 525.519447 450.077454 \nL 525.591367 449.475859 \nL 525.663286 449.938624 \nL 525.807125 452.345003 \nL 525.879045 450.817878 \nL 525.950965 451.141814 \nL 526.166723 453.085428 \nL 526.238643 451.697132 \nL 526.382482 454.103511 \nL 526.454402 453.270534 \nL 526.526321 453.687023 \nL 526.598241 452.576386 \nL 526.74208 453.964682 \nL 526.885919 453.548193 \nL 526.957839 452.437557 \nL 527.029758 452.946598 \nL 527.101678 452.854045 \nL 527.245517 454.705106 \nL 527.317436 452.854045 \nL 527.389356 453.918405 \nL 527.461276 453.501916 \nL 527.748954 455.352977 \nL 527.820873 454.936489 \nL 528.036632 458.083292 \nL 528.252391 455.908296 \nL 528.39623 451.743409 \nL 528.611989 449.753518 \nL 528.683908 450.031177 \nL 528.827747 447.162033 \nL 528.899667 447.671075 \nL 529.043506 446.14395 \nL 529.331184 449.938624 \nL 529.475024 449.892348 \nL 529.546943 449.707242 \nL 529.690782 447.162033 \nL 529.762702 447.393416 \nL 529.834621 447.20831 \nL 529.906541 448.041287 \nL 529.978461 447.393416 \nL 530.05038 447.578522 \nL 530.194219 446.652991 \nL 530.338059 448.087564 \nL 530.553817 446.884374 \nL 530.625737 444.94076 \nL 530.697656 445.866291 \nL 530.769576 444.107783 \nL 530.841496 444.292889 \nL 530.985335 444.200336 \nL 531.129174 443.228529 \nL 531.273013 443.413635 \nL 531.344933 443.506188 \nL 531.416852 442.534381 \nL 531.488772 442.95087 \nL 531.560691 443.968953 \nL 531.70453 441.053533 \nL 531.77645 441.840233 \nL 531.84837 441.423745 \nL 531.920289 441.470021 \nL 532.064128 443.274806 \nL 532.136048 442.488105 \nL 532.207967 442.81204 \nL 532.279887 443.228529 \nL 532.351807 442.95087 \nL 532.495646 443.830124 \nL 532.567565 442.534381 \nL 532.639485 442.719487 \nL 532.711404 442.441828 \nL 532.783324 443.182252 \nL 532.855244 442.997146 \nL 533.071002 438.647153 \nL 533.142922 438.878536 \nL 533.286761 438.184388 \nL 533.4306 439.295025 \nL 533.50252 438.878536 \nL 533.718278 440.637044 \nL 534.005957 437.443964 \nL 534.077876 437.582794 \nL 534.221716 436.379604 \nL 534.293635 436.981199 \nL 534.725153 432.214717 \nL 534.797072 433.51046 \nL 534.868992 432.075888 \nL 534.940911 432.122164 \nL 535.012831 432.168441 \nL 535.15667 432.538653 \nL 535.22859 432.4461 \nL 535.372429 435.130138 \nL 535.444348 434.343437 \nL 535.516268 434.019501 \nL 535.588187 435.685456 \nL 535.660107 433.834395 \nL 535.732027 434.158331 \nL 535.803946 434.667373 \nL 535.875866 436.101945 \nL 535.947785 435.546627 \nL 536.235464 438.600877 \nL 536.307383 438.600877 \nL 536.379303 439.017366 \nL 536.451222 436.518434 \nL 536.523142 437.166305 \nL 536.595061 435.963115 \nL 536.666981 436.379604 \nL 536.738901 436.101945 \nL 536.88274 428.836531 \nL 537.026579 430.31738 \nL 537.098498 428.743978 \nL 537.170418 430.132274 \nL 537.314257 434.204608 \nL 537.458096 435.963115 \nL 537.530016 435.315244 \nL 537.601935 435.592903 \nL 537.673855 436.148221 \nL 537.745775 435.824286 \nL 538.105372 437.073752 \nL 538.177292 436.934922 \nL 538.321131 435.63918 \nL 538.393051 437.49024 \nL 538.46497 436.472157 \nL 538.53689 436.56471 \nL 538.60881 436.194498 \nL 538.680729 436.240774 \nL 538.752649 436.518434 \nL 538.824568 435.824286 \nL 538.968407 433.556736 \nL 539.112247 434.158331 \nL 539.184166 437.073752 \nL 539.256086 436.657263 \nL 539.328005 435.083861 \nL 539.399925 436.148221 \nL 539.543764 434.389714 \nL 539.687603 434.482267 \nL 539.759523 434.528543 \nL 539.831442 433.325354 \nL 539.903362 434.250884 \nL 539.975281 433.232801 \nL 540.047201 433.51046 \nL 540.119121 433.51046 \nL 540.406799 430.733869 \nL 540.478718 431.011528 \nL 540.550638 429.530679 \nL 540.622558 429.808338 \nL 540.694477 431.196634 \nL 540.766397 430.872698 \nL 540.838316 431.38174 \nL 540.982155 430.409933 \nL 541.054075 430.548762 \nL 541.125995 430.271103 \nL 541.197914 430.918975 \nL 541.269834 430.548762 \nL 541.485592 433.093971 \nL 541.557512 432.353547 \nL 541.701351 433.001418 \nL 541.773271 433.047695 \nL 541.84519 432.631206 \nL 542.204788 426.98547 \nL 542.276708 427.031747 \nL 542.348627 427.263129 \nL 542.708225 423.699837 \nL 542.923984 421.386011 \nL 542.995904 421.015799 \nL 543.139743 422.265265 \nL 543.427421 418.378038 \nL 543.499341 418.794526 \nL 543.57126 420.182822 \nL 543.858938 413.519003 \nL 543.930858 415.277511 \nL 544.146617 411.991878 \nL 544.290456 411.43656 \nL 544.506215 415.879106 \nL 544.650054 413.981768 \nL 544.721973 411.066347 \nL 544.793893 411.945601 \nL 544.865812 413.28762 \nL 544.937732 411.806772 \nL 545.009652 412.36209 \nL 545.081571 412.824855 \nL 545.153491 414.49081 \nL 545.22541 413.102514 \nL 545.29733 413.935492 \nL 545.513089 409.770605 \nL 545.585008 406.207313 \nL 545.656928 406.531248 \nL 545.728847 407.734438 \nL 546.088445 402.829127 \nL 546.160365 402.320085 \nL 546.232284 402.829127 \nL 546.376123 399.265835 \nL 546.448043 399.312111 \nL 546.519963 404.865294 \nL 546.591882 403.384445 \nL 546.663802 397.831263 \nL 546.735721 399.219558 \nL 546.807641 400.746683 \nL 546.87956 406.855184 \nL 546.95148 404.819017 \nL 547.0234 403.84721 \nL 547.095319 406.808908 \nL 547.167239 404.633911 \nL 547.239158 404.772741 \nL 547.311078 405.420612 \nL 547.454917 411.112624 \nL 547.526837 409.354116 \nL 547.742595 416.156765 \nL 548.030274 406.392419 \nL 548.102193 407.271673 \nL 548.174113 404.633911 \nL 548.317952 409.955711 \nL 548.533711 402.597744 \nL 548.60563 399.034452 \nL 548.821389 406.855184 \nL 548.893309 403.708381 \nL 548.965228 404.495082 \nL 549.180987 402.412638 \nL 549.252906 402.644021 \nL 549.324826 401.070619 \nL 549.396746 401.163172 \nL 549.468665 401.440831 \nL 549.828263 392.463186 \nL 549.900183 393.111058 \nL 550.044022 389.964254 \nL 550.115941 390.334466 \nL 550.187861 391.398826 \nL 550.3317 383.994583 \nL 550.40362 384.04086 \nL 550.475539 384.735007 \nL 550.547459 387.604152 \nL 550.763217 382.930223 \nL 550.907057 380.477567 \nL 550.978976 382.421181 \nL 551.050896 379.922249 \nL 551.122815 372.471729 \nL 551.194735 372.610559 \nL 551.266654 374.600449 \nL 551.554333 370.06535 \nL 551.770092 372.471729 \nL 551.842011 368.908437 \nL 551.98585 379.228101 \nL 552.129689 392.925951 \nL 552.201609 382.69884 \nL 552.273529 385.151496 \nL 552.345448 386.308409 \nL 552.417368 384.96639 \nL 552.489287 386.493515 \nL 552.705046 381.727034 \nL 552.848885 379.64459 \nL 552.992724 373.674919 \nL 553.136563 377.099382 \nL 553.208483 376.497787 \nL 553.424242 367.335036 \nL 553.496161 367.381312 \nL 553.568081 370.990881 \nL 553.64 369.510032 \nL 553.71192 368.908437 \nL 553.78384 369.787691 \nL 553.927679 374.46162 \nL 553.999598 374.415343 \nL 554.287277 364.373338 \nL 554.359196 364.650998 \nL 554.431116 363.81802 \nL 554.574955 367.0111 \nL 554.646874 366.918547 \nL 554.862633 381.91214 \nL 554.934553 376.729169 \nL 555.006472 377.608423 \nL 555.078392 380.986609 \nL 555.150311 377.145658 \nL 555.294151 389.22383 \nL 555.36607 388.437129 \nL 555.43799 388.15947 \nL 555.509909 391.769038 \nL 555.725668 407.965821 \nL 555.797588 407.965821 \nL 556.013346 404.587635 \nL 556.229105 408.382309 \nL 556.372944 413.519003 \nL 556.516783 408.289756 \nL 556.588703 411.205177 \nL 556.660623 408.336033 \nL 556.732542 409.585499 \nL 556.876381 412.917408 \nL 556.948301 411.853048 \nL 557.09214 414.629639 \nL 557.16406 414.444533 \nL 557.235979 414.814746 \nL 557.379818 408.012097 \nL 557.451738 411.112624 \nL 557.523657 413.195067 \nL 557.595577 411.344007 \nL 557.667497 411.43656 \nL 557.739416 413.704109 \nL 557.811336 412.871132 \nL 557.883255 414.49081 \nL 557.955175 409.631775 \nL 558.027094 410.464753 \nL 558.099014 409.261563 \nL 558.170934 410.09454 \nL 558.242853 410.048264 \nL 558.314773 406.161036 \nL 558.386692 408.150927 \nL 558.674371 398.432857 \nL 558.74629 401.487108 \nL 559.249727 391.583932 \nL 559.393566 394.4068 \nL 559.465486 392.463186 \nL 559.537405 397.137115 \nL 559.609325 396.720626 \nL 559.681245 396.350414 \nL 559.968923 383.855753 \nL 560.040842 388.899894 \nL 560.112762 387.187663 \nL 560.328521 381.264268 \nL 560.760038 372.147794 \nL 560.831958 374.739279 \nL 560.903877 373.165877 \nL 560.975797 374.183961 \nL 561.119636 370.06535 \nL 561.191556 372.425453 \nL 561.263475 370.20418 \nL 561.623073 378.210018 \nL 561.838832 371.916411 \nL 561.910751 372.147794 \nL 561.982671 370.852051 \nL 562.12651 372.980771 \nL 562.19843 373.073324 \nL 562.270349 370.389286 \nL 562.414188 375.340874 \nL 562.486108 372.795665 \nL 562.701867 381.171715 \nL 562.845706 375.479703 \nL 562.917625 377.145658 \nL 562.989545 375.803639 \nL 563.133384 380.70895 \nL 563.205304 380.616397 \nL 563.277223 378.024912 \nL 563.349143 383.7632 \nL 563.421062 382.652564 \nL 563.492982 384.318519 \nL 563.564902 379.737143 \nL 563.636821 383.855753 \nL 563.708741 382.606287 \nL 563.85258 376.636616 \nL 563.924499 380.014802 \nL 563.996419 378.487677 \nL 564.212178 382.930223 \nL 564.284097 380.894056 \nL 564.356017 381.541927 \nL 564.571776 387.742981 \nL 564.643695 385.058943 \nL 564.859454 392.555739 \nL 565.003293 389.085 \nL 565.075213 389.686595 \nL 565.219052 393.296164 \nL 565.362891 386.354686 \nL 565.434811 386.771174 \nL 565.722489 376.821722 \nL 565.794408 376.775446 \nL 566.010167 380.477567 \nL 566.082087 378.996719 \nL 566.154006 379.968526 \nL 566.225926 378.395124 \nL 566.297845 381.079162 \nL 566.369765 380.385014 \nL 566.441685 379.737143 \nL 566.513604 380.338738 \nL 566.801282 388.252023 \nL 566.945122 390.334466 \nL 567.088961 394.314247 \nL 567.16088 393.666376 \nL 567.376639 401.71849 \nL 567.448559 409.354116 \nL 567.520478 405.374335 \nL 567.592398 401.070619 \nL 567.736237 409.955711 \nL 567.880076 406.762631 \nL 567.951996 409.076457 \nL 568.023915 423.607284 \nL 568.095835 418.285485 \nL 568.599272 434.019501 \nL 568.743111 420.414204 \nL 568.815031 424.347709 \nL 568.88695 428.234936 \nL 568.95887 425.736004 \nL 569.174628 432.30727 \nL 569.318468 428.04983 \nL 569.462307 431.937058 \nL 569.678065 419.951439 \nL 569.821905 422.542924 \nL 569.893824 419.951439 \nL 570.109583 428.04983 \nL 570.325342 433.140248 \nL 570.397261 429.160467 \nL 570.5411 434.389714 \nL 570.61302 433.279077 \nL 570.756859 439.248748 \nL 570.828779 437.906729 \nL 570.900698 431.38174 \nL 570.972618 432.723759 \nL 571.044537 430.085997 \nL 571.188376 433.926948 \nL 571.332216 429.530679 \nL 571.404135 432.353547 \nL 571.619894 426.892917 \nL 571.691813 428.04983 \nL 571.763733 430.085997 \nL 571.835653 428.003554 \nL 572.051411 433.788119 \nL 572.123331 433.603013 \nL 572.19525 433.232801 \nL 572.26717 435.916839 \nL 572.33909 435.546627 \nL 572.411009 436.379604 \nL 572.554848 435.361521 \nL 572.626768 435.592903 \nL 572.698687 436.194498 \nL 572.842527 430.363656 \nL 572.986366 432.584929 \nL 573.058285 431.520569 \nL 573.561722 440.68332 \nL 573.849401 433.464183 \nL 573.92132 432.770035 \nL 573.99324 430.595039 \nL 574.065159 431.335463 \nL 574.137079 433.140248 \nL 574.208999 432.260994 \nL 574.424757 429.160467 \nL 574.568596 425.319516 \nL 574.712436 428.929084 \nL 574.784355 427.401959 \nL 574.856275 427.448236 \nL 575.072033 432.816312 \nL 575.143953 432.492376 \nL 575.215873 435.176414 \nL 575.359712 432.492376 \nL 575.57547 434.528543 \nL 575.64739 434.250884 \nL 575.71931 432.492376 \nL 575.935068 437.582794 \nL 576.150827 429.206743 \nL 576.294666 429.808338 \nL 576.510425 425.874834 \nL 576.582344 425.92111 \nL 576.654264 422.080159 \nL 576.726184 422.820584 \nL 576.798103 422.820584 \nL 576.870023 420.691864 \nL 577.013862 424.07005 \nL 577.085781 423.699837 \nL 577.37346 415.277511 \nL 577.445379 417.452507 \nL 577.517299 416.61953 \nL 577.661138 414.120598 \nL 577.804977 415.786552 \nL 577.948816 412.130707 \nL 578.020736 413.981768 \nL 578.092656 413.148791 \nL 578.164575 413.333897 \nL 578.236495 410.881241 \nL 578.308414 411.806772 \nL 578.380334 411.29773 \nL 578.452253 411.806772 \nL 578.668012 409.724328 \nL 578.811851 406.253589 \nL 578.883771 406.392419 \nL 578.95569 408.567415 \nL 579.02761 408.474862 \nL 579.09953 408.24348 \nL 579.243369 414.583363 \nL 579.459127 410.09454 \nL 579.531047 409.585499 \nL 579.746806 412.686026 \nL 579.962564 404.772741 \nL 580.034484 404.309975 \nL 580.178323 401.949873 \nL 580.394082 398.710516 \nL 580.466001 399.219558 \nL 580.68176 401.672214 \nL 580.825599 404.124869 \nL 580.897519 403.939763 \nL 580.969438 404.448805 \nL 581.041358 404.263699 \nL 581.113278 401.949873 \nL 581.257117 405.420612 \nL 581.329036 404.032316 \nL 581.472875 400.098812 \nL 581.544795 400.376471 \nL 581.688634 399.867429 \nL 581.904393 404.541358 \nL 582.911267 388.946171 \nL 583.055106 388.992447 \nL 583.270865 384.920113 \nL 583.486624 386.539792 \nL 583.558543 385.521708 \nL 583.630463 386.03075 \nL 583.702382 387.233939 \nL 583.846221 383.670647 \nL 583.918141 384.735007 \nL 583.990061 389.270106 \nL 584.205819 385.012666 \nL 584.277739 383.161606 \nL 584.349658 383.300435 \nL 584.421578 383.069053 \nL 584.493498 384.318519 \nL 584.637337 382.652564 \nL 584.853095 385.753091 \nL 584.925015 384.873837 \nL 585.068854 380.84778 \nL 585.140774 381.958416 \nL 585.428452 379.413208 \nL 585.644211 373.212154 \nL 585.71613 373.813749 \nL 585.78805 373.536089 \nL 585.859969 372.888218 \nL 586.003809 374.878109 \nL 586.075728 372.471729 \nL 586.147648 372.980771 \nL 586.219567 372.980771 \nL 586.291487 375.803639 \nL 586.507246 370.06535 \nL 586.579165 369.880244 \nL 586.651085 370.528116 \nL 586.794924 369.556309 \nL 586.866844 370.019074 \nL 586.938763 369.232373 \nL 587.010683 369.695138 \nL 587.082602 371.26854 \nL 587.154522 370.157903 \nL 587.370281 360.439834 \nL 587.51412 362.152065 \nL 587.657959 368.538225 \nL 587.729878 366.039293 \nL 587.801798 370.990881 \nL 587.873718 370.481839 \nL 587.945637 370.852051 \nL 588.161396 367.288759 \nL 588.305235 361.82813 \nL 588.377155 361.6893 \nL 588.449074 362.476001 \nL 588.664833 359.329198 \nL 588.736752 359.977069 \nL 588.880592 363.771744 \nL 588.952511 360.023346 \nL 589.024431 360.902599 \nL 589.09635 361.087705 \nL 589.312109 365.622804 \nL 589.527868 367.936631 \nL 589.599787 370.713222 \nL 589.671707 370.111627 \nL 589.743626 365.113763 \nL 589.815546 365.993017 \nL 589.887466 367.103653 \nL 589.959385 365.622804 \nL 590.175144 368.862161 \nL 590.606661 356.413777 \nL 590.678581 357.987179 \nL 590.89434 354.886652 \nL 590.966259 354.655269 \nL 591.110098 357.061648 \nL 591.182018 356.182394 \nL 591.325857 358.866433 \nL 591.397777 357.015372 \nL 591.469696 357.755796 \nL 591.541616 359.977069 \nL 591.613535 354.23878 \nL 591.685455 356.321224 \nL 591.757375 358.63505 \nL 591.829294 365.160039 \nL 591.901214 361.781853 \nL 592.045053 358.727603 \nL 592.188892 368.769608 \nL 592.260812 367.057377 \nL 592.332731 366.363229 \nL 592.404651 364.234509 \nL 592.47657 368.769608 \nL 592.54849 366.594611 \nL 592.620409 367.427589 \nL 592.980007 361.596747 \nL 593.267686 363.447808 \nL 593.339605 365.576528 \nL 593.627283 358.033455 \nL 593.699203 358.126008 \nL 593.771123 357.848349 \nL 593.843042 356.969095 \nL 594.058801 349.19464 \nL 594.27456 346.92709 \nL 594.346479 348.685598 \nL 594.418399 348.269109 \nL 594.490318 348.500492 \nL 594.562238 348.176556 \nL 594.634158 349.657405 \nL 594.849916 345.168583 \nL 594.921836 346.880814 \nL 595.137595 341.096249 \nL 595.209514 341.60529 \nL 595.281434 341.003696 \nL 595.497192 338.088275 \nL 595.569112 338.504764 \nL 595.712951 337.023915 \nL 595.784871 336.931362 \nL 595.92871 332.812752 \nL 596.000629 333.784559 \nL 596.072549 333.969665 \nL 596.144469 335.543066 \nL 596.360227 318.976072 \nL 596.432147 319.809049 \nL 596.575986 324.806914 \nL 596.647906 320.364368 \nL 596.719825 325.130849 \nL 596.791745 321.79894 \nL 597.079423 341.049972 \nL 597.223262 327.999994 \nL 597.295182 324.482978 \nL 597.726699 339.893059 \nL 597.870538 334.201047 \nL 597.942458 335.172854 \nL 598.014377 335.867002 \nL 598.230136 325.269679 \nL 598.302056 323.326065 \nL 598.373975 323.835107 \nL 598.661654 336.42232 \nL 598.877412 329.434566 \nL 599.165091 316.939905 \nL 599.23701 319.392561 \nL 599.30893 317.078735 \nL 599.524689 321.567557 \nL 599.596608 320.549474 \nL 599.812367 333.090411 \nL 599.884286 334.062218 \nL 599.956206 332.997858 \nL 600.028126 326.657974 \nL 600.100045 327.028187 \nL 600.171965 326.05638 \nL 600.603482 334.941472 \nL 600.819241 326.426592 \nL 600.89116 325.871274 \nL 600.96308 326.287762 \nL 601.035 323.233512 \nL 601.250758 327.537228 \nL 601.394597 324.575531 \nL 601.466517 323.92766 \nL 601.610356 325.778721 \nL 601.682276 324.714361 \nL 601.754195 326.195209 \nL 601.826115 332.026051 \nL 601.898034 331.007967 \nL 602.041874 333.645729 \nL 602.185713 330.17499 \nL 602.473391 338.504764 \nL 602.545311 336.607426 \nL 602.61723 338.273381 \nL 602.68915 337.440404 \nL 602.832989 336.514873 \nL 603.048748 326.611698 \nL 603.120667 327.213293 \nL 603.264506 323.881383 \nL 603.336426 323.650001 \nL 603.624104 315.366503 \nL 603.696024 316.106928 \nL 603.911783 308.286196 \nL 603.983702 307.545772 \nL 604.055622 305.417052 \nL 604.127541 306.111199 \nL 604.3433 310.831404 \nL 604.41522 311.571829 \nL 604.487139 314.024484 \nL 604.630978 307.360665 \nL 604.702898 307.360665 \nL 604.918657 301.483547 \nL 605.062496 299.077168 \nL 605.206335 289.173993 \nL 605.278254 294.542069 \nL 605.350174 293.894198 \nL 605.494013 295.837812 \nL 605.565933 294.958558 \nL 605.781691 297.226108 \nL 605.853611 299.910146 \nL 606.285128 288.757504 \nL 606.357048 290.377183 \nL 606.428968 289.127716 \nL 606.500887 290.00697 \nL 606.716646 299.539934 \nL 606.788565 300.234081 \nL 607.004324 292.089414 \nL 607.076244 295.004835 \nL 607.220083 291.07133 \nL 607.292002 289.868141 \nL 607.363922 293.477709 \nL 607.507761 289.08144 \nL 607.579681 289.544205 \nL 607.6516 287.831974 \nL 607.72352 289.035163 \nL 607.79544 287.276656 \nL 607.867359 288.063357 \nL 608.011198 286.860167 \nL 608.083118 287.739421 \nL 608.155037 287.693144 \nL 608.226957 287.09155 \nL 608.298877 287.508038 \nL 608.514635 284.638894 \nL 608.586555 285.610701 \nL 608.730394 284.453788 \nL 608.802314 284.546341 \nL 608.946153 286.304849 \nL 609.161911 279.039435 \nL 609.233831 279.224541 \nL 609.305751 277.697416 \nL 609.37767 273.717635 \nL 609.44959 274.226677 \nL 609.665348 269.922961 \nL 609.953027 283.667087 \nL 610.168785 272.838381 \nL 610.240705 273.25487 \nL 610.312625 277.743692 \nL 610.384544 275.707526 \nL 610.456464 272.097957 \nL 610.528383 272.514446 \nL 610.600303 273.069764 \nL 610.887981 263.768183 \nL 611.03182 264.601161 \nL 611.247579 260.667657 \nL 611.391418 268.580941 \nL 611.463338 276.124014 \nL 611.535257 273.625082 \nL 611.607177 273.439976 \nL 611.751016 266.914987 \nL 611.822936 269.367642 \nL 611.894855 267.609135 \nL 612.038694 262.61127 \nL 612.326373 271.033597 \nL 612.470212 266.683604 \nL 612.614051 281.584644 \nL 612.75789 281.168155 \nL 612.901729 274.504336 \nL 612.973649 275.800079 \nL 613.117488 267.979347 \nL 613.189408 268.673495 \nL 613.261327 268.349559 \nL 613.908603 281.075602 \nL 614.052442 277.697416 \nL 614.196282 283.204322 \nL 614.555879 267.053816 \nL 614.627799 268.673495 \nL 614.699719 268.858601 \nL 614.771638 270.987321 \nL 614.843558 268.858601 \nL 614.915477 271.311256 \nL 614.987397 270.06179 \nL 615.059316 269.228813 \nL 615.203156 271.079874 \nL 615.346995 269.275089 \nL 615.562753 274.967101 \nL 615.634673 279.5022 \nL 615.706593 277.697416 \nL 615.850432 274.920825 \nL 616.06619 280.196348 \nL 616.13811 277.280927 \nL 616.21003 278.43784 \nL 616.281949 276.910715 \nL 616.353869 270.339449 \nL 616.425788 271.774021 \nL 616.497708 271.403809 \nL 616.641547 276.494226 \nL 616.713467 280.288901 \nL 616.785386 280.150072 \nL 616.857306 280.659113 \nL 616.929225 284.176129 \nL 617.001145 283.713364 \nL 617.073065 280.057518 \nL 617.360743 290.839948 \nL 617.576502 280.797943 \nL 617.648421 283.89847 \nL 617.79226 278.252734 \nL 617.86418 279.039435 \nL 617.936099 278.021352 \nL 618.223778 264.416055 \nL 618.295697 262.796376 \nL 618.439536 266.591051 \nL 618.799134 251.967671 \nL 619.014893 241.60173 \nL 619.158732 235.21557 \nL 619.302571 242.527261 \nL 619.374491 243.360238 \nL 619.44641 239.426734 \nL 619.806008 266.914987 \nL 619.877928 253.772455 \nL 619.949847 260.297444 \nL 620.165606 247.84906 \nL 620.309445 249.700121 \nL 620.453284 265.156479 \nL 620.525204 264.87882 \nL 620.669043 252.384159 \nL 620.740963 253.957561 \nL 620.956722 243.684174 \nL 621.17248 253.772455 \nL 621.388239 247.386295 \nL 621.460159 251.597459 \nL 621.532078 250.024057 \nL 621.819756 237.020355 \nL 621.963596 228.875687 \nL 622.035515 229.662388 \nL 622.107435 236.187377 \nL 622.179354 234.613976 \nL 622.251274 235.3544 \nL 622.467033 243.313961 \nL 622.682791 254.744262 \nL 622.754711 251.088417 \nL 622.82663 251.643735 \nL 622.89855 256.456493 \nL 623.114309 235.955995 \nL 623.401987 223.322505 \nL 623.545826 240.305988 \nL 623.617746 241.879389 \nL 623.689665 233.688445 \nL 623.761585 238.778862 \nL 623.833504 236.974078 \nL 623.977344 234.243763 \nL 624.049263 234.336316 \nL 624.121183 239.565563 \nL 624.193102 239.010245 \nL 624.265022 235.400676 \nL 624.336941 237.205461 \nL 624.408861 237.529396 \nL 624.480781 233.410786 \nL 624.696539 247.06236 \nL 624.768459 250.440546 \nL 624.840379 244.424598 \nL 624.912298 246.969807 \nL 625.128057 256.919258 \nL 625.199976 252.199053 \nL 625.343816 260.389997 \nL 625.559574 248.589485 \nL 625.775333 241.786836 \nL 625.919172 244.239492 \nL 626.063011 241.370348 \nL 626.134931 242.527261 \nL 626.20685 244.424598 \nL 626.35069 250.671928 \nL 626.494529 248.589485 \nL 626.638368 239.61184 \nL 626.782207 235.261847 \nL 626.854127 233.22568 \nL 626.926046 235.678336 \nL 627.285644 225.960266 \nL 627.357564 223.183675 \nL 627.429483 223.600164 \nL 627.501403 222.674633 \nL 627.573322 223.091122 \nL 627.717161 224.84963 \nL 627.861001 218.972512 \nL 627.93292 219.805489 \nL 628.00484 224.525694 \nL 628.076759 220.036872 \nL 628.148679 224.479418 \nL 628.220598 207.866147 \nL 628.292518 209.161889 \nL 628.867875 193.844361 \nL 629.227473 168.207169 \nL 629.299392 175.657689 \nL 629.371312 172.788545 \nL 629.443231 172.834821 \nL 629.515151 164.782706 \nL 629.58707 165.939619 \nL 629.802829 157.887505 \nL 630.018588 146.086992 \nL 630.090507 145.624227 \nL 630.234347 155.064637 \nL 630.306266 154.786978 \nL 630.665864 117.580656 \nL 630.737784 120.079588 \nL 630.809703 120.079588 \nL 630.953542 107.214715 \nL 631.169301 113.462046 \nL 631.38506 99.856749 \nL 631.528899 111.240773 \nL 631.672738 92.452505 \nL 631.744658 95.599309 \nL 631.888497 88.102512 \nL 632.176175 107.67748 \nL 632.248095 123.550327 \nL 632.320014 104.854613 \nL 632.391934 105.68759 \nL 632.607692 128.872127 \nL 632.679612 136.091264 \nL 632.751532 104.669507 \nL 632.823451 106.104079 \nL 632.895371 109.065776 \nL 633.03921 122.254584 \nL 633.111129 119.848205 \nL 633.183049 122.485967 \nL 633.254969 132.944461 \nL 633.326888 130.260422 \nL 633.398808 131.0934 \nL 633.542647 129.612551 \nL 633.686486 137.387006 \nL 633.830325 145.068909 \nL 633.902245 155.110914 \nL 633.974164 154.972084 \nL 634.046084 135.443393 \nL 634.118004 138.173707 \nL 634.189923 129.566275 \nL 634.261843 132.898184 \nL 634.333762 134.795521 \nL 634.477601 124.151922 \nL 634.549521 125.031176 \nL 634.621441 135.628499 \nL 634.69336 133.546055 \nL 634.76528 134.471586 \nL 634.981038 123.411497 \nL 635.052958 129.196062 \nL 635.124878 126.049259 \nL 635.268717 128.96468 \nL 635.340636 127.345002 \nL 635.484475 118.922675 \nL 635.556395 119.987035 \nL 635.628315 125.077452 \nL 635.700234 122.300861 \nL 635.772154 129.427445 \nL 635.844073 128.640744 \nL 635.915993 127.067342 \nL 635.987912 130.538081 \nL 636.275591 104.715783 \nL 636.34751 107.260992 \nL 636.41943 102.216851 \nL 636.635189 111.657261 \nL 636.779028 106.613121 \nL 636.850947 106.613121 \nL 636.922867 107.029609 \nL 636.994786 101.939192 \nL 637.138626 108.556734 \nL 637.210545 110.407795 \nL 637.354384 126.83596 \nL 637.570143 104.160465 \nL 637.642063 106.659397 \nL 637.713982 106.057802 \nL 637.857821 96.709945 \nL 637.929741 97.774305 \nL 638.001661 98.422176 \nL 638.433178 86.297728 \nL 638.720856 65.6584 \nL 638.792776 69.591904 \nL 638.864695 69.221692 \nL 638.936615 61.308407 \nL 639.008535 61.863725 \nL 639.080454 62.742979 \nL 639.152374 68.805203 \nL 639.224293 67.92595 \nL 639.296213 61.771172 \nL 639.368132 64.779146 \nL 639.511972 58.300433 \nL 639.655811 70.887647 \nL 640.087328 44.556307 \nL 640.303087 51.729167 \nL 640.446926 67.972226 \nL 640.518846 57.745115 \nL 640.662685 71.674348 \nL 640.734604 70.424882 \nL 640.806524 63.992445 \nL 640.878443 66.954143 \nL 641.094202 86.575387 \nL 641.166122 83.382307 \nL 641.238041 91.526975 \nL 641.309961 90.508891 \nL 641.38188 87.269535 \nL 641.4538 77.736572 \nL 641.52572 81.022205 \nL 641.669559 103.096105 \nL 641.741478 87.7323 \nL 641.813398 100.874832 \nL 641.885317 98.653559 \nL 642.244915 124.059369 \nL 642.316835 119.107781 \nL 642.388755 120.218417 \nL 642.532594 147.290182 \nL 642.604513 141.366787 \nL 642.892192 155.018361 \nL 642.964111 153.722618 \nL 643.036031 129.473722 \nL 643.10795 132.527972 \nL 643.17987 132.01893 \nL 643.323709 114.295023 \nL 643.395629 117.302997 \nL 643.467548 118.506186 \nL 643.539468 114.387576 \nL 643.755226 122.995009 \nL 643.827146 146.642311 \nL 643.899066 141.227958 \nL 644.042905 152.334323 \nL 644.114824 144.976356 \nL 644.186744 146.503481 \nL 644.330583 165.106642 \nL 644.402503 159.368354 \nL 644.474422 149.742837 \nL 644.546342 154.601872 \nL 644.690181 159.044418 \nL 644.7621 158.4891 \nL 644.977859 165.245472 \nL 645.121698 140.117321 \nL 645.481296 160.47899 \nL 645.553216 156.36038 \nL 645.625135 158.396547 \nL 645.768974 180.331617 \nL 645.840894 167.466745 \nL 645.912814 169.641741 \nL 645.984733 171.353972 \nL 646.128572 162.422604 \nL 646.272411 209.670931 \nL 646.416251 197.962972 \nL 646.48817 198.888502 \nL 646.632009 200.924669 \nL 646.703929 208.143806 \nL 646.919688 189.86458 \nL 647.063527 182.367784 \nL 647.207366 190.651281 \nL 647.279286 190.92894 \nL 647.566964 204.071472 \nL 647.638883 201.063498 \nL 647.710803 206.200192 \nL 647.782723 202.220411 \nL 647.998481 214.067201 \nL 648.070401 220.777296 \nL 648.14232 213.650712 \nL 648.21424 217.167727 \nL 648.429999 209.346996 \nL 648.573838 215.455496 \nL 648.645757 212.771458 \nL 648.789597 197.916695 \nL 648.861516 198.703396 \nL 648.933436 200.230521 \nL 649.005355 199.814032 \nL 649.149194 192.872554 \nL 649.221114 194.399679 \nL 649.436873 215.085284 \nL 649.508792 214.529966 \nL 649.580712 213.095394 \nL 649.724551 218.741129 \nL 649.94031 210.735291 \nL 650.012229 211.614545 \nL 650.156068 220.916126 \nL 650.227988 216.797515 \nL 650.443747 239.704393 \nL 650.587586 229.708664 \nL 650.659505 230.125153 \nL 650.731425 228.227816 \nL 651.234862 194.677339 \nL 651.306782 196.019358 \nL 651.378701 192.687448 \nL 651.66638 203.608707 \nL 651.738299 213.2805 \nL 651.810219 209.624655 \nL 651.882138 210.457632 \nL 651.954058 204.210302 \nL 652.025977 206.339022 \nL 652.241736 202.77573 \nL 652.313656 205.182109 \nL 652.457495 198.610843 \nL 652.601334 199.166161 \nL 652.673254 200.091691 \nL 652.817093 207.079446 \nL 652.960932 206.801787 \nL 653.032851 207.634764 \nL 653.104771 211.15178 \nL 653.176691 208.699124 \nL 653.24861 212.540075 \nL 653.32053 211.290609 \nL 653.392449 211.429439 \nL 653.680128 230.263983 \nL 653.752047 230.217706 \nL 653.895886 235.955995 \nL 653.967806 234.15121 \nL 654.183565 218.509747 \nL 654.327404 222.211868 \nL 654.543162 214.298583 \nL 654.615082 214.807625 \nL 654.687002 214.20603 \nL 654.90276 211.429439 \nL 655.118519 219.66666 \nL 655.190439 205.783703 \nL 655.262358 207.079446 \nL 655.334278 205.459768 \nL 655.478117 197.500206 \nL 655.550037 198.009248 \nL 655.765795 187.087989 \nL 655.837715 189.818304 \nL 655.909634 190.00341 \nL 655.981554 190.558728 \nL 656.053474 194.862445 \nL 656.413071 163.718347 \nL 656.484991 160.201331 \nL 656.556911 164.551324 \nL 656.62883 163.718347 \nL 656.70075 163.348134 \nL 656.772669 164.5976 \nL 656.844589 163.301858 \nL 656.916508 172.649715 \nL 656.988428 171.168866 \nL 657.060348 170.659825 \nL 657.132267 173.528969 \nL 657.204187 172.649715 \nL 657.276106 166.078449 \nL 657.348026 168.299722 \nL 657.419945 166.402385 \nL 657.491865 161.219414 \nL 657.851463 197.639036 \nL 658.067222 183.247038 \nL 658.139141 186.440118 \nL 658.211061 171.307696 \nL 658.28298 172.325779 \nL 658.3549 177.23109 \nL 658.426819 174.223117 \nL 658.570659 180.331617 \nL 658.714498 172.04812 \nL 658.858337 176.259284 \nL 658.930256 173.205033 \nL 659.002176 177.647579 \nL 659.289854 167.836957 \nL 659.577533 159.460907 \nL 659.649452 151.362516 \nL 659.721372 152.334323 \nL 659.865211 144.513591 \nL 659.937131 148.400818 \nL 660.00905 145.85561 \nL 660.08097 154.416766 \nL 660.152889 149.04869 \nL 660.224809 150.483262 \nL 660.296728 152.241769 \nL 660.368648 147.8455 \nL 660.440568 148.724754 \nL 660.512487 149.696561 \nL 660.584407 155.203467 \nL 660.656326 149.927943 \nL 660.728246 150.89975 \nL 660.872085 149.881667 \nL 660.944005 144.930079 \nL 661.015924 147.012523 \nL 661.231683 153.537512 \nL 661.303602 149.557731 \nL 661.375522 150.390709 \nL 661.519361 141.505617 \nL 661.6632 126.69713 \nL 661.73512 129.89021 \nL 661.807039 120.033311 \nL 661.878959 120.866289 \nL 661.950879 118.968951 \nL 662.022798 124.105645 \nL 662.094718 119.940758 \nL 662.166637 120.496077 \nL 662.382396 127.76149 \nL 662.454316 125.7716 \nL 662.598155 130.167869 \nL 662.670074 134.28648 \nL 662.741994 131.324782 \nL 662.813913 117.534379 \nL 662.885833 119.107781 \nL 663.101592 127.715214 \nL 663.173511 123.457774 \nL 663.46119 137.2019 \nL 663.533109 134.934351 \nL 663.676948 141.829552 \nL 663.748868 140.024768 \nL 663.892707 125.864153 \nL 663.964627 127.90032 \nL 664.036546 136.785412 \nL 664.252305 126.650854 \nL 664.324225 133.22212 \nL 664.396144 130.352975 \nL 664.539983 162.839093 \nL 664.611903 163.486964 \nL 664.755742 162.330051 \nL 665.187259 137.757219 \nL 665.259179 137.803495 \nL 665.331099 132.204036 \nL 665.403018 132.481695 \nL 665.474938 131.139676 \nL 665.690696 144.79125 \nL 665.762616 143.264125 \nL 665.906455 149.97422 \nL 665.978375 143.217848 \nL 666.050294 144.143378 \nL 666.266053 140.117321 \nL 666.337973 141.181681 \nL 666.409892 141.366787 \nL 666.481812 141.089128 \nL 666.625651 137.34073 \nL 666.76949 145.161462 \nL 666.84141 143.819443 \nL 666.913329 140.765192 \nL 666.985249 140.857746 \nL 667.057168 142.5237 \nL 667.272927 131.833824 \nL 667.344847 135.258287 \nL 667.488686 137.155624 \nL 667.560605 137.248177 \nL 667.704444 133.407226 \nL 667.848284 140.487533 \nL 667.992123 145.994439 \nL 668.064042 141.45934 \nL 668.207882 148.493371 \nL 668.279801 147.151352 \nL 668.351721 149.604008 \nL 668.42364 148.90986 \nL 668.639399 140.53381 \nL 668.711319 145.115185 \nL 668.927077 99.532813 \nL 669.070916 102.170575 \nL 669.142836 101.245044 \nL 669.214756 100.550896 \nL 669.286675 95.04399 \nL 669.502434 101.383874 \nL 669.574353 103.003552 \nL 669.718193 97.589199 \nL 669.790112 97.496646 \nL 669.862032 100.828555 \nL 670.07779 90.323785 \nL 670.22163 88.657831 \nL 670.509308 70.054669 \nL 670.581227 71.628071 \nL 670.653147 74.497215 \nL 670.868906 62.141385 \nL 670.940825 63.344574 \nL 671.084664 53.95044 \nL 671.156584 55.755225 \nL 671.300423 67.694567 \nL 671.372343 63.437127 \nL 671.444262 63.992445 \nL 671.516182 63.52968 \nL 671.588101 65.010529 \nL 671.80386 72.322219 \nL 671.87578 71.952007 \nL 672.019619 64.455211 \nL 672.163458 57.328626 \nL 672.235378 57.513732 \nL 672.307297 54.968524 \nL 672.379217 45.990879 \nL 672.451136 48.860023 \n\" style=\"fill:none;stroke:#1f77b4;stroke-linecap:square;stroke-width:1.5;\"/>\n   </g>\n   <g id=\"patch_3\">\n    <path d=\"M 33.2875 511.558125 \nL 33.2875 22.318125 \n\" style=\"fill:none;stroke:#000000;stroke-linecap:square;stroke-linejoin:miter;stroke-width:0.8;\"/>\n   </g>\n   <g id=\"patch_4\">\n    <path d=\"M 702.8875 511.558125 \nL 702.8875 22.318125 \n\" style=\"fill:none;stroke:#000000;stroke-linecap:square;stroke-linejoin:miter;stroke-width:0.8;\"/>\n   </g>\n   <g id=\"patch_5\">\n    <path d=\"M 33.2875 511.558125 \nL 702.8875 511.558125 \n\" style=\"fill:none;stroke:#000000;stroke-linecap:square;stroke-linejoin:miter;stroke-width:0.8;\"/>\n   </g>\n   <g id=\"patch_6\">\n    <path d=\"M 33.2875 22.318125 \nL 702.8875 22.318125 \n\" style=\"fill:none;stroke:#000000;stroke-linecap:square;stroke-linejoin:miter;stroke-width:0.8;\"/>\n   </g>\n   <g id=\"text_12\">\n    <!-- Apple stock -->\n    <defs>\n     <path d=\"M 34.1875 63.1875 \nL 20.796875 26.90625 \nL 47.609375 26.90625 \nz\nM 28.609375 72.90625 \nL 39.796875 72.90625 \nL 67.578125 0 \nL 57.328125 0 \nL 50.6875 18.703125 \nL 17.828125 18.703125 \nL 11.1875 0 \nL 0.78125 0 \nz\n\" id=\"DejaVuSans-65\"/>\n     <path d=\"M 18.109375 8.203125 \nL 18.109375 -20.796875 \nL 9.078125 -20.796875 \nL 9.078125 54.6875 \nL 18.109375 54.6875 \nL 18.109375 46.390625 \nQ 20.953125 51.265625 25.265625 53.625 \nQ 29.59375 56 35.59375 56 \nQ 45.5625 56 51.78125 48.09375 \nQ 58.015625 40.1875 58.015625 27.296875 \nQ 58.015625 14.40625 51.78125 6.484375 \nQ 45.5625 -1.421875 35.59375 -1.421875 \nQ 29.59375 -1.421875 25.265625 0.953125 \nQ 20.953125 3.328125 18.109375 8.203125 \nz\nM 48.6875 27.296875 \nQ 48.6875 37.203125 44.609375 42.84375 \nQ 40.53125 48.484375 33.40625 48.484375 \nQ 26.265625 48.484375 22.1875 42.84375 \nQ 18.109375 37.203125 18.109375 27.296875 \nQ 18.109375 17.390625 22.1875 11.75 \nQ 26.265625 6.109375 33.40625 6.109375 \nQ 40.53125 6.109375 44.609375 11.75 \nQ 48.6875 17.390625 48.6875 27.296875 \nz\n\" id=\"DejaVuSans-112\"/>\n     <path d=\"M 9.421875 75.984375 \nL 18.40625 75.984375 \nL 18.40625 0 \nL 9.421875 0 \nz\n\" id=\"DejaVuSans-108\"/>\n     <path d=\"M 56.203125 29.59375 \nL 56.203125 25.203125 \nL 14.890625 25.203125 \nQ 15.484375 15.921875 20.484375 11.0625 \nQ 25.484375 6.203125 34.421875 6.203125 \nQ 39.59375 6.203125 44.453125 7.46875 \nQ 49.3125 8.734375 54.109375 11.28125 \nL 54.109375 2.78125 \nQ 49.265625 0.734375 44.1875 -0.34375 \nQ 39.109375 -1.421875 33.890625 -1.421875 \nQ 20.796875 -1.421875 13.15625 6.1875 \nQ 5.515625 13.8125 5.515625 26.8125 \nQ 5.515625 40.234375 12.765625 48.109375 \nQ 20.015625 56 32.328125 56 \nQ 43.359375 56 49.78125 48.890625 \nQ 56.203125 41.796875 56.203125 29.59375 \nz\nM 47.21875 32.234375 \nQ 47.125 39.59375 43.09375 43.984375 \nQ 39.0625 48.390625 32.421875 48.390625 \nQ 24.90625 48.390625 20.390625 44.140625 \nQ 15.875 39.890625 15.1875 32.171875 \nz\n\" id=\"DejaVuSans-101\"/>\n     <path id=\"DejaVuSans-32\"/>\n     <path d=\"M 44.28125 53.078125 \nL 44.28125 44.578125 \nQ 40.484375 46.53125 36.375 47.5 \nQ 32.28125 48.484375 27.875 48.484375 \nQ 21.1875 48.484375 17.84375 46.4375 \nQ 14.5 44.390625 14.5 40.28125 \nQ 14.5 37.15625 16.890625 35.375 \nQ 19.28125 33.59375 26.515625 31.984375 \nL 29.59375 31.296875 \nQ 39.15625 29.25 43.1875 25.515625 \nQ 47.21875 21.78125 47.21875 15.09375 \nQ 47.21875 7.46875 41.1875 3.015625 \nQ 35.15625 -1.421875 24.609375 -1.421875 \nQ 20.21875 -1.421875 15.453125 -0.5625 \nQ 10.6875 0.296875 5.421875 2 \nL 5.421875 11.28125 \nQ 10.40625 8.6875 15.234375 7.390625 \nQ 20.0625 6.109375 24.8125 6.109375 \nQ 31.15625 6.109375 34.5625 8.28125 \nQ 37.984375 10.453125 37.984375 14.40625 \nQ 37.984375 18.0625 35.515625 20.015625 \nQ 33.0625 21.96875 24.703125 23.78125 \nL 21.578125 24.515625 \nQ 13.234375 26.265625 9.515625 29.90625 \nQ 5.8125 33.546875 5.8125 39.890625 \nQ 5.8125 47.609375 11.28125 51.796875 \nQ 16.75 56 26.8125 56 \nQ 31.78125 56 36.171875 55.265625 \nQ 40.578125 54.546875 44.28125 53.078125 \nz\n\" id=\"DejaVuSans-115\"/>\n     <path d=\"M 18.3125 70.21875 \nL 18.3125 54.6875 \nL 36.8125 54.6875 \nL 36.8125 47.703125 \nL 18.3125 47.703125 \nL 18.3125 18.015625 \nQ 18.3125 11.328125 20.140625 9.421875 \nQ 21.96875 7.515625 27.59375 7.515625 \nL 36.8125 7.515625 \nL 36.8125 0 \nL 27.59375 0 \nQ 17.1875 0 13.234375 3.875 \nQ 9.28125 7.765625 9.28125 18.015625 \nL 9.28125 47.703125 \nL 2.6875 47.703125 \nL 2.6875 54.6875 \nL 9.28125 54.6875 \nL 9.28125 70.21875 \nz\n\" id=\"DejaVuSans-116\"/>\n     <path d=\"M 30.609375 48.390625 \nQ 23.390625 48.390625 19.1875 42.75 \nQ 14.984375 37.109375 14.984375 27.296875 \nQ 14.984375 17.484375 19.15625 11.84375 \nQ 23.34375 6.203125 30.609375 6.203125 \nQ 37.796875 6.203125 41.984375 11.859375 \nQ 46.1875 17.53125 46.1875 27.296875 \nQ 46.1875 37.015625 41.984375 42.703125 \nQ 37.796875 48.390625 30.609375 48.390625 \nz\nM 30.609375 56 \nQ 42.328125 56 49.015625 48.375 \nQ 55.71875 40.765625 55.71875 27.296875 \nQ 55.71875 13.875 49.015625 6.21875 \nQ 42.328125 -1.421875 30.609375 -1.421875 \nQ 18.84375 -1.421875 12.171875 6.21875 \nQ 5.515625 13.875 5.515625 27.296875 \nQ 5.515625 40.765625 12.171875 48.375 \nQ 18.84375 56 30.609375 56 \nz\n\" id=\"DejaVuSans-111\"/>\n     <path d=\"M 48.78125 52.59375 \nL 48.78125 44.1875 \nQ 44.96875 46.296875 41.140625 47.34375 \nQ 37.3125 48.390625 33.40625 48.390625 \nQ 24.65625 48.390625 19.8125 42.84375 \nQ 14.984375 37.3125 14.984375 27.296875 \nQ 14.984375 17.28125 19.8125 11.734375 \nQ 24.65625 6.203125 33.40625 6.203125 \nQ 37.3125 6.203125 41.140625 7.25 \nQ 44.96875 8.296875 48.78125 10.40625 \nL 48.78125 2.09375 \nQ 45.015625 0.34375 40.984375 -0.53125 \nQ 36.96875 -1.421875 32.421875 -1.421875 \nQ 20.0625 -1.421875 12.78125 6.34375 \nQ 5.515625 14.109375 5.515625 27.296875 \nQ 5.515625 40.671875 12.859375 48.328125 \nQ 20.21875 56 33.015625 56 \nQ 37.15625 56 41.109375 55.140625 \nQ 45.0625 54.296875 48.78125 52.59375 \nz\n\" id=\"DejaVuSans-99\"/>\n     <path d=\"M 9.078125 75.984375 \nL 18.109375 75.984375 \nL 18.109375 31.109375 \nL 44.921875 54.6875 \nL 56.390625 54.6875 \nL 27.390625 29.109375 \nL 57.625 0 \nL 45.90625 0 \nL 18.109375 26.703125 \nL 18.109375 0 \nL 9.078125 0 \nz\n\" id=\"DejaVuSans-107\"/>\n    </defs>\n    <g transform=\"translate(333.176875 16.318125)scale(0.12 -0.12)\">\n     <use xlink:href=\"#DejaVuSans-65\"/>\n     <use x=\"68.408203\" xlink:href=\"#DejaVuSans-112\"/>\n     <use x=\"131.884766\" xlink:href=\"#DejaVuSans-112\"/>\n     <use x=\"195.361328\" xlink:href=\"#DejaVuSans-108\"/>\n     <use x=\"223.144531\" xlink:href=\"#DejaVuSans-101\"/>\n     <use x=\"284.667969\" xlink:href=\"#DejaVuSans-32\"/>\n     <use x=\"316.455078\" xlink:href=\"#DejaVuSans-115\"/>\n     <use x=\"368.554688\" xlink:href=\"#DejaVuSans-116\"/>\n     <use x=\"407.763672\" xlink:href=\"#DejaVuSans-111\"/>\n     <use x=\"468.945312\" xlink:href=\"#DejaVuSans-99\"/>\n     <use x=\"523.925781\" xlink:href=\"#DejaVuSans-107\"/>\n    </g>\n   </g>\n  </g>\n </g>\n <defs>\n  <clipPath id=\"p437f88c435\">\n   <rect height=\"489.24\" width=\"669.6\" x=\"33.2875\" y=\"22.318125\"/>\n  </clipPath>\n </defs>\n</svg>\n",
      "image/png": "[encoded data removed]"
     },
     "metadata": {
      "needs_background": "light"
     }
    }
   ],
   "source": [
    "fig = plt.gcf()\n",
    "fig.set_size_inches(13.5, 9)        #Se asigna el tamano de la figura\n",
    "apple[\"Adj Close\"].plot(title = \"Apple stock\", grid = True, figsize=(12,9)) # Se puede graficar indicando el parámetro figsize aqui.\n"
   ]
  },
  {
   "cell_type": "code",
   "execution_count": null,
   "metadata": {
    "collapsed": true
   },
   "outputs": [],
   "source": []
  }
 ],
 "metadata": {
  "anaconda-cloud": {},
  "kernelspec": {
   "display_name": "Python 3.8.3 64-bit",
   "language": "python",
   "name": "python38364bit61836de9583b4678983c2459e76af05f"
  },
  "language_info": {
   "codemirror_mode": {
    "name": "ipython",
    "version": 2
   },
   "file_extension": ".py",
   "mimetype": "text/x-python",
   "name": "python",
   "nbconvert_exporter": "python",
   "pygments_lexer": "ipython2",
   "version": "3.8.3-final"
  }
 },
 "nbformat": 4,
 "nbformat_minor": 0
}