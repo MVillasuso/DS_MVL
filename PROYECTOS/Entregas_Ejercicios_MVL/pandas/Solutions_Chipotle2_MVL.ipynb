{
 "cells": [
  {
   "cell_type": "markdown",
   "metadata": {},
   "source": [
    "# Ex1 - Filtering and Sorting Data"
   ]
  },
  {
   "cell_type": "markdown",
   "metadata": {},
   "source": [
    "This time we are going to pull data directly from the internet.\n",
    "Special thanks to: https://github.com/justmarkham for sharing the dataset and materials.\n",
    "\n",
    "### Step 1. Import the necessary libraries"
   ]
  },
  {
   "cell_type": "code",
   "execution_count": 19,
   "metadata": {
    "collapsed": false
   },
   "outputs": [],
   "source": [
    "import numpy as np \n",
    "import pandas as pd"
   ]
  },
  {
   "cell_type": "markdown",
   "metadata": {},
   "source": [
    "### Step 2. Import the dataset from this [address](https://raw.githubusercontent.com/justmarkham/DAT8/master/data/chipotle.tsv). "
   ]
  },
  {
   "cell_type": "code",
   "execution_count": 20,
   "metadata": {},
   "outputs": [],
   "source": [
    "dset = pd.read_csv(\"https://raw.githubusercontent.com/justmarkham/DAT8/master/data/chipotle.tsv\",sep='\\t')"
   ]
  },
  {
   "cell_type": "markdown",
   "metadata": {},
   "source": [
    "### Step 3. Assign it to a variable called chipo."
   ]
  },
  {
   "cell_type": "code",
   "execution_count": 21,
   "metadata": {
    "collapsed": false
   },
   "outputs": [],
   "source": [
    "chipo = dset"
   ]
  },
  {
   "cell_type": "code",
   "execution_count": 22,
   "metadata": {},
   "outputs": [
    {
     "output_type": "execute_result",
     "data": {
      "text/plain": "   order_id  quantity                              item_name  \\\n0         1         1           Chips and Fresh Tomato Salsa   \n1         1         1                                   Izze   \n2         1         1                       Nantucket Nectar   \n3         1         1  Chips and Tomatillo-Green Chili Salsa   \n4         2         2                           Chicken Bowl   \n5         3         1                           Chicken Bowl   \n6         3         1                          Side of Chips   \n7         4         1                          Steak Burrito   \n8         4         1                       Steak Soft Tacos   \n9         5         1                          Steak Burrito   \n\n                                  choice_description item_price  \n0                                                NaN     $2.39   \n1                                       [Clementine]     $3.39   \n2                                            [Apple]     $3.39   \n3                                                NaN     $2.39   \n4  [Tomatillo-Red Chili Salsa (Hot), [Black Beans...    $16.98   \n5  [Fresh Tomato Salsa (Mild), [Rice, Cheese, Sou...    $10.98   \n6                                                NaN     $1.69   \n7  [Tomatillo Red Chili Salsa, [Fajita Vegetables...    $11.75   \n8  [Tomatillo Green Chili Salsa, [Pinto Beans, Ch...     $9.25   \n9  [Fresh Tomato Salsa, [Rice, Black Beans, Pinto...     $9.25   ",
      "text/html": "<div>\n<style scoped>\n    .dataframe tbody tr th:only-of-type {\n        vertical-align: middle;\n    }\n\n    .dataframe tbody tr th {\n        vertical-align: top;\n    }\n\n    .dataframe thead th {\n        text-align: right;\n    }\n</style>\n<table border=\"1\" class=\"dataframe\">\n  <thead>\n    <tr style=\"text-align: right;\">\n      <th></th>\n      <th>order_id</th>\n      <th>quantity</th>\n      <th>item_name</th>\n      <th>choice_description</th>\n      <th>item_price</th>\n    </tr>\n  </thead>\n  <tbody>\n    <tr>\n      <th>0</th>\n      <td>1</td>\n      <td>1</td>\n      <td>Chips and Fresh Tomato Salsa</td>\n      <td>NaN</td>\n      <td>$2.39</td>\n    </tr>\n    <tr>\n      <th>1</th>\n      <td>1</td>\n      <td>1</td>\n      <td>Izze</td>\n      <td>[Clementine]</td>\n      <td>$3.39</td>\n    </tr>\n    <tr>\n      <th>2</th>\n      <td>1</td>\n      <td>1</td>\n      <td>Nantucket Nectar</td>\n      <td>[Apple]</td>\n      <td>$3.39</td>\n    </tr>\n    <tr>\n      <th>3</th>\n      <td>1</td>\n      <td>1</td>\n      <td>Chips and Tomatillo-Green Chili Salsa</td>\n      <td>NaN</td>\n      <td>$2.39</td>\n    </tr>\n    <tr>\n      <th>4</th>\n      <td>2</td>\n      <td>2</td>\n      <td>Chicken Bowl</td>\n      <td>[Tomatillo-Red Chili Salsa (Hot), [Black Beans...</td>\n      <td>$16.98</td>\n    </tr>\n    <tr>\n      <th>5</th>\n      <td>3</td>\n      <td>1</td>\n      <td>Chicken Bowl</td>\n      <td>[Fresh Tomato Salsa (Mild), [Rice, Cheese, Sou...</td>\n      <td>$10.98</td>\n    </tr>\n    <tr>\n      <th>6</th>\n      <td>3</td>\n      <td>1</td>\n      <td>Side of Chips</td>\n      <td>NaN</td>\n      <td>$1.69</td>\n    </tr>\n    <tr>\n      <th>7</th>\n      <td>4</td>\n      <td>1</td>\n      <td>Steak Burrito</td>\n      <td>[Tomatillo Red Chili Salsa, [Fajita Vegetables...</td>\n      <td>$11.75</td>\n    </tr>\n    <tr>\n      <th>8</th>\n      <td>4</td>\n      <td>1</td>\n      <td>Steak Soft Tacos</td>\n      <td>[Tomatillo Green Chili Salsa, [Pinto Beans, Ch...</td>\n      <td>$9.25</td>\n    </tr>\n    <tr>\n      <th>9</th>\n      <td>5</td>\n      <td>1</td>\n      <td>Steak Burrito</td>\n      <td>[Fresh Tomato Salsa, [Rice, Black Beans, Pinto...</td>\n      <td>$9.25</td>\n    </tr>\n  </tbody>\n</table>\n</div>"
     },
     "metadata": {},
     "execution_count": 22
    }
   ],
   "source": [
    "chipo.head(10)"
   ]
  },
  {
   "cell_type": "markdown",
   "metadata": {},
   "source": [
    "### Step 4. What is the name of the max valued product?"
   ]
  },
  {
   "cell_type": "code",
   "execution_count": 23,
   "metadata": {},
   "outputs": [],
   "source": [
    "chipo['item_price'] = chipo['item_price'].str[1:].astype(float)\n"
   ]
  },
  {
   "cell_type": "code",
   "execution_count": 24,
   "metadata": {},
   "outputs": [
    {
     "output_type": "execute_result",
     "data": {
      "text/plain": "   order_id  quantity                              item_name  \\\n0         1         1           Chips and Fresh Tomato Salsa   \n1         1         1                                   Izze   \n2         1         1                       Nantucket Nectar   \n3         1         1  Chips and Tomatillo-Green Chili Salsa   \n4         2         2                           Chicken Bowl   \n\n                                  choice_description  item_price  \n0                                                NaN        2.39  \n1                                       [Clementine]        3.39  \n2                                            [Apple]        3.39  \n3                                                NaN        2.39  \n4  [Tomatillo-Red Chili Salsa (Hot), [Black Beans...       16.98  ",
      "text/html": "<div>\n<style scoped>\n    .dataframe tbody tr th:only-of-type {\n        vertical-align: middle;\n    }\n\n    .dataframe tbody tr th {\n        vertical-align: top;\n    }\n\n    .dataframe thead th {\n        text-align: right;\n    }\n</style>\n<table border=\"1\" class=\"dataframe\">\n  <thead>\n    <tr style=\"text-align: right;\">\n      <th></th>\n      <th>order_id</th>\n      <th>quantity</th>\n      <th>item_name</th>\n      <th>choice_description</th>\n      <th>item_price</th>\n    </tr>\n  </thead>\n  <tbody>\n    <tr>\n      <th>0</th>\n      <td>1</td>\n      <td>1</td>\n      <td>Chips and Fresh Tomato Salsa</td>\n      <td>NaN</td>\n      <td>2.39</td>\n    </tr>\n    <tr>\n      <th>1</th>\n      <td>1</td>\n      <td>1</td>\n      <td>Izze</td>\n      <td>[Clementine]</td>\n      <td>3.39</td>\n    </tr>\n    <tr>\n      <th>2</th>\n      <td>1</td>\n      <td>1</td>\n      <td>Nantucket Nectar</td>\n      <td>[Apple]</td>\n      <td>3.39</td>\n    </tr>\n    <tr>\n      <th>3</th>\n      <td>1</td>\n      <td>1</td>\n      <td>Chips and Tomatillo-Green Chili Salsa</td>\n      <td>NaN</td>\n      <td>2.39</td>\n    </tr>\n    <tr>\n      <th>4</th>\n      <td>2</td>\n      <td>2</td>\n      <td>Chicken Bowl</td>\n      <td>[Tomatillo-Red Chili Salsa (Hot), [Black Beans...</td>\n      <td>16.98</td>\n    </tr>\n  </tbody>\n</table>\n</div>"
     },
     "metadata": {},
     "execution_count": 24
    }
   ],
   "source": [
    "chipo.head()"
   ]
  },
  {
   "cell_type": "code",
   "execution_count": 25,
   "metadata": {},
   "outputs": [
    {
     "output_type": "execute_result",
     "data": {
      "text/plain": "           order_id     quantity     item_name choice_description   item_price\ncount   4622.000000  4622.000000          4622               3376  4622.000000\nunique          NaN          NaN            50               1043          NaN\ntop             NaN          NaN  Chicken Bowl        [Diet Coke]          NaN\nfreq            NaN          NaN           726                134          NaN\nmean     927.254868     1.075725           NaN                NaN     7.464336\nstd      528.890796     0.410186           NaN                NaN     4.245557\nmin        1.000000     1.000000           NaN                NaN     1.090000\n25%      477.250000     1.000000           NaN                NaN     3.390000\n50%      926.000000     1.000000           NaN                NaN     8.750000\n75%     1393.000000     1.000000           NaN                NaN     9.250000\nmax     1834.000000    15.000000           NaN                NaN    44.250000",
      "text/html": "<div>\n<style scoped>\n    .dataframe tbody tr th:only-of-type {\n        vertical-align: middle;\n    }\n\n    .dataframe tbody tr th {\n        vertical-align: top;\n    }\n\n    .dataframe thead th {\n        text-align: right;\n    }\n</style>\n<table border=\"1\" class=\"dataframe\">\n  <thead>\n    <tr style=\"text-align: right;\">\n      <th></th>\n      <th>order_id</th>\n      <th>quantity</th>\n      <th>item_name</th>\n      <th>choice_description</th>\n      <th>item_price</th>\n    </tr>\n  </thead>\n  <tbody>\n    <tr>\n      <th>count</th>\n      <td>4622.000000</td>\n      <td>4622.000000</td>\n      <td>4622</td>\n      <td>3376</td>\n      <td>4622.000000</td>\n    </tr>\n    <tr>\n      <th>unique</th>\n      <td>NaN</td>\n      <td>NaN</td>\n      <td>50</td>\n      <td>1043</td>\n      <td>NaN</td>\n    </tr>\n    <tr>\n      <th>top</th>\n      <td>NaN</td>\n      <td>NaN</td>\n      <td>Chicken Bowl</td>\n      <td>[Diet Coke]</td>\n      <td>NaN</td>\n    </tr>\n    <tr>\n      <th>freq</th>\n      <td>NaN</td>\n      <td>NaN</td>\n      <td>726</td>\n      <td>134</td>\n      <td>NaN</td>\n    </tr>\n    <tr>\n      <th>mean</th>\n      <td>927.254868</td>\n      <td>1.075725</td>\n      <td>NaN</td>\n      <td>NaN</td>\n      <td>7.464336</td>\n    </tr>\n    <tr>\n      <th>std</th>\n      <td>528.890796</td>\n      <td>0.410186</td>\n      <td>NaN</td>\n      <td>NaN</td>\n      <td>4.245557</td>\n    </tr>\n    <tr>\n      <th>min</th>\n      <td>1.000000</td>\n      <td>1.000000</td>\n      <td>NaN</td>\n      <td>NaN</td>\n      <td>1.090000</td>\n    </tr>\n    <tr>\n      <th>25%</th>\n      <td>477.250000</td>\n      <td>1.000000</td>\n      <td>NaN</td>\n      <td>NaN</td>\n      <td>3.390000</td>\n    </tr>\n    <tr>\n      <th>50%</th>\n      <td>926.000000</td>\n      <td>1.000000</td>\n      <td>NaN</td>\n      <td>NaN</td>\n      <td>8.750000</td>\n    </tr>\n    <tr>\n      <th>75%</th>\n      <td>1393.000000</td>\n      <td>1.000000</td>\n      <td>NaN</td>\n      <td>NaN</td>\n      <td>9.250000</td>\n    </tr>\n    <tr>\n      <th>max</th>\n      <td>1834.000000</td>\n      <td>15.000000</td>\n      <td>NaN</td>\n      <td>NaN</td>\n      <td>44.250000</td>\n    </tr>\n  </tbody>\n</table>\n</div>"
     },
     "metadata": {},
     "execution_count": 25
    }
   ],
   "source": [
    "chipo.describe(include='all')\n"
   ]
  },
  {
   "cell_type": "code",
   "execution_count": 26,
   "metadata": {},
   "outputs": [
    {
     "output_type": "execute_result",
     "data": {
      "text/plain": "      order_id  quantity                     item_name choice_description  \\\n3598      1443        15  Chips and Fresh Tomato Salsa                NaN   \n\n      item_price  \n3598       44.25  ",
      "text/html": "<div>\n<style scoped>\n    .dataframe tbody tr th:only-of-type {\n        vertical-align: middle;\n    }\n\n    .dataframe tbody tr th {\n        vertical-align: top;\n    }\n\n    .dataframe thead th {\n        text-align: right;\n    }\n</style>\n<table border=\"1\" class=\"dataframe\">\n  <thead>\n    <tr style=\"text-align: right;\">\n      <th></th>\n      <th>order_id</th>\n      <th>quantity</th>\n      <th>item_name</th>\n      <th>choice_description</th>\n      <th>item_price</th>\n    </tr>\n  </thead>\n  <tbody>\n    <tr>\n      <th>3598</th>\n      <td>1443</td>\n      <td>15</td>\n      <td>Chips and Fresh Tomato Salsa</td>\n      <td>NaN</td>\n      <td>44.25</td>\n    </tr>\n  </tbody>\n</table>\n</div>"
     },
     "metadata": {},
     "execution_count": 26
    }
   ],
   "source": [
    "chipo.sort_values(['item_price'],ascending=False).head(1)\n",
    "\n"
   ]
  },
  {
   "cell_type": "code",
   "execution_count": 27,
   "metadata": {},
   "outputs": [
    {
     "output_type": "execute_result",
     "data": {
      "text/plain": "3598    Chips and Fresh Tomato Salsa\nName: item_name, dtype: object"
     },
     "metadata": {},
     "execution_count": 27
    }
   ],
   "source": [
    "chipo.sort_values(['item_price'],ascending=False).head(1)[\"item_name\"]"
   ]
  },
  {
   "cell_type": "code",
   "execution_count": 28,
   "metadata": {},
   "outputs": [
    {
     "output_type": "execute_result",
     "data": {
      "text/plain": "3598    Chips and Fresh Tomato Salsa\nName: item_name, dtype: object"
     },
     "metadata": {},
     "execution_count": 28
    }
   ],
   "source": [
    "chipo.sort_values(['item_price'],ascending=False).head(1)['item_name']"
   ]
  },
  {
   "cell_type": "code",
   "execution_count": 29,
   "metadata": {},
   "outputs": [
    {
     "output_type": "execute_result",
     "data": {
      "text/plain": "3598    Chips and Fresh Tomato Salsa\n3480                   Carnitas Bowl\n1254                 Chicken Burrito\n3602                 Chicken Burrito\n3601                  Veggie Burrito\n                    ...             \n3936                     Canned Soda\n2922                   Bottled Water\n1396                     Canned Soda\n2562                     Canned Soda\n1457                     Canned Soda\nName: item_name, Length: 4622, dtype: object"
     },
     "metadata": {},
     "execution_count": 29
    }
   ],
   "source": [
    "chipo.sort_values(['item_price'],ascending=False)['item_name']"
   ]
  },
  {
   "cell_type": "code",
   "execution_count": 30,
   "metadata": {},
   "outputs": [
    {
     "output_type": "execute_result",
     "data": {
      "text/plain": "                                  item_name  item_price\n0              Chips and Fresh Tomato Salsa        2.39\n1                                      Izze        3.39\n2                          Nantucket Nectar        3.39\n3     Chips and Tomatillo-Green Chili Salsa        2.39\n4                              Chicken Bowl       16.98\n...                                     ...         ...\n4617                          Steak Burrito       11.75\n4618                          Steak Burrito       11.75\n4619                     Chicken Salad Bowl       11.25\n4620                     Chicken Salad Bowl        8.75\n4621                     Chicken Salad Bowl        8.75\n\n[4622 rows x 2 columns]",
      "text/html": "<div>\n<style scoped>\n    .dataframe tbody tr th:only-of-type {\n        vertical-align: middle;\n    }\n\n    .dataframe tbody tr th {\n        vertical-align: top;\n    }\n\n    .dataframe thead th {\n        text-align: right;\n    }\n</style>\n<table border=\"1\" class=\"dataframe\">\n  <thead>\n    <tr style=\"text-align: right;\">\n      <th></th>\n      <th>item_name</th>\n      <th>item_price</th>\n    </tr>\n  </thead>\n  <tbody>\n    <tr>\n      <th>0</th>\n      <td>Chips and Fresh Tomato Salsa</td>\n      <td>2.39</td>\n    </tr>\n    <tr>\n      <th>1</th>\n      <td>Izze</td>\n      <td>3.39</td>\n    </tr>\n    <tr>\n      <th>2</th>\n      <td>Nantucket Nectar</td>\n      <td>3.39</td>\n    </tr>\n    <tr>\n      <th>3</th>\n      <td>Chips and Tomatillo-Green Chili Salsa</td>\n      <td>2.39</td>\n    </tr>\n    <tr>\n      <th>4</th>\n      <td>Chicken Bowl</td>\n      <td>16.98</td>\n    </tr>\n    <tr>\n      <th>...</th>\n      <td>...</td>\n      <td>...</td>\n    </tr>\n    <tr>\n      <th>4617</th>\n      <td>Steak Burrito</td>\n      <td>11.75</td>\n    </tr>\n    <tr>\n      <th>4618</th>\n      <td>Steak Burrito</td>\n      <td>11.75</td>\n    </tr>\n    <tr>\n      <th>4619</th>\n      <td>Chicken Salad Bowl</td>\n      <td>11.25</td>\n    </tr>\n    <tr>\n      <th>4620</th>\n      <td>Chicken Salad Bowl</td>\n      <td>8.75</td>\n    </tr>\n    <tr>\n      <th>4621</th>\n      <td>Chicken Salad Bowl</td>\n      <td>8.75</td>\n    </tr>\n  </tbody>\n</table>\n<p>4622 rows × 2 columns</p>\n</div>"
     },
     "metadata": {},
     "execution_count": 30
    }
   ],
   "source": [
    "\n",
    "# select only the item_name and item_price columns\n",
    "a = chipo.loc[:, ['item_name','item_price']]\n",
    "a"
   ]
  },
  {
   "cell_type": "code",
   "execution_count": 31,
   "metadata": {},
   "outputs": [
    {
     "output_type": "execute_result",
     "data": {
      "text/plain": "                         item_name  item_price\n3598  Chips and Fresh Tomato Salsa       44.25\n3480                 Carnitas Bowl       35.25\n1254               Chicken Burrito       35.00\n3602               Chicken Burrito       35.00\n3601                Veggie Burrito       33.75\n409                   Chicken Bowl       32.94\n1255                 Steak Burrito       27.75\n3603                 Steak Burrito       27.75\n3636               Chicken Burrito       26.25\n3634               Chicken Burrito       26.25",
      "text/html": "<div>\n<style scoped>\n    .dataframe tbody tr th:only-of-type {\n        vertical-align: middle;\n    }\n\n    .dataframe tbody tr th {\n        vertical-align: top;\n    }\n\n    .dataframe thead th {\n        text-align: right;\n    }\n</style>\n<table border=\"1\" class=\"dataframe\">\n  <thead>\n    <tr style=\"text-align: right;\">\n      <th></th>\n      <th>item_name</th>\n      <th>item_price</th>\n    </tr>\n  </thead>\n  <tbody>\n    <tr>\n      <th>3598</th>\n      <td>Chips and Fresh Tomato Salsa</td>\n      <td>44.25</td>\n    </tr>\n    <tr>\n      <th>3480</th>\n      <td>Carnitas Bowl</td>\n      <td>35.25</td>\n    </tr>\n    <tr>\n      <th>1254</th>\n      <td>Chicken Burrito</td>\n      <td>35.00</td>\n    </tr>\n    <tr>\n      <th>3602</th>\n      <td>Chicken Burrito</td>\n      <td>35.00</td>\n    </tr>\n    <tr>\n      <th>3601</th>\n      <td>Veggie Burrito</td>\n      <td>33.75</td>\n    </tr>\n    <tr>\n      <th>409</th>\n      <td>Chicken Bowl</td>\n      <td>32.94</td>\n    </tr>\n    <tr>\n      <th>1255</th>\n      <td>Steak Burrito</td>\n      <td>27.75</td>\n    </tr>\n    <tr>\n      <th>3603</th>\n      <td>Steak Burrito</td>\n      <td>27.75</td>\n    </tr>\n    <tr>\n      <th>3636</th>\n      <td>Chicken Burrito</td>\n      <td>26.25</td>\n    </tr>\n    <tr>\n      <th>3634</th>\n      <td>Chicken Burrito</td>\n      <td>26.25</td>\n    </tr>\n  </tbody>\n</table>\n</div>"
     },
     "metadata": {},
     "execution_count": 31
    }
   ],
   "source": [
    "# sort the values from the most to less expensive\n",
    "i=a.sort_values('item_price',ascending = False)\n",
    "i.head(10)\n"
   ]
  },
  {
   "cell_type": "markdown",
   "metadata": {},
   "source": [
    "### Step 5. What is the price of each item? \n",
    "#### print a data frame with only two columns item_name and item_price"
   ]
  },
  {
   "cell_type": "code",
   "execution_count": 32,
   "metadata": {},
   "outputs": [
    {
     "output_type": "execute_result",
     "data": {
      "text/plain": "   order_id  quantity                              item_name  \\\n0         1         1           Chips and Fresh Tomato Salsa   \n1         1         1                                   Izze   \n2         1         1                       Nantucket Nectar   \n3         1         1  Chips and Tomatillo-Green Chili Salsa   \n4         2         2                           Chicken Bowl   \n\n                                  choice_description  item_price  \n0                                                NaN        2.39  \n1                                       [Clementine]        3.39  \n2                                            [Apple]        3.39  \n3                                                NaN        2.39  \n4  [Tomatillo-Red Chili Salsa (Hot), [Black Beans...       16.98  ",
      "text/html": "<div>\n<style scoped>\n    .dataframe tbody tr th:only-of-type {\n        vertical-align: middle;\n    }\n\n    .dataframe tbody tr th {\n        vertical-align: top;\n    }\n\n    .dataframe thead th {\n        text-align: right;\n    }\n</style>\n<table border=\"1\" class=\"dataframe\">\n  <thead>\n    <tr style=\"text-align: right;\">\n      <th></th>\n      <th>order_id</th>\n      <th>quantity</th>\n      <th>item_name</th>\n      <th>choice_description</th>\n      <th>item_price</th>\n    </tr>\n  </thead>\n  <tbody>\n    <tr>\n      <th>0</th>\n      <td>1</td>\n      <td>1</td>\n      <td>Chips and Fresh Tomato Salsa</td>\n      <td>NaN</td>\n      <td>2.39</td>\n    </tr>\n    <tr>\n      <th>1</th>\n      <td>1</td>\n      <td>1</td>\n      <td>Izze</td>\n      <td>[Clementine]</td>\n      <td>3.39</td>\n    </tr>\n    <tr>\n      <th>2</th>\n      <td>1</td>\n      <td>1</td>\n      <td>Nantucket Nectar</td>\n      <td>[Apple]</td>\n      <td>3.39</td>\n    </tr>\n    <tr>\n      <th>3</th>\n      <td>1</td>\n      <td>1</td>\n      <td>Chips and Tomatillo-Green Chili Salsa</td>\n      <td>NaN</td>\n      <td>2.39</td>\n    </tr>\n    <tr>\n      <th>4</th>\n      <td>2</td>\n      <td>2</td>\n      <td>Chicken Bowl</td>\n      <td>[Tomatillo-Red Chili Salsa (Hot), [Black Beans...</td>\n      <td>16.98</td>\n    </tr>\n  </tbody>\n</table>\n</div>"
     },
     "metadata": {},
     "execution_count": 32
    }
   ],
   "source": [
    "chipo.head()"
   ]
  },
  {
   "cell_type": "code",
   "execution_count": 33,
   "metadata": {},
   "outputs": [],
   "source": [
    "chipo[\"unit_price\"] = chipo[\"item_price\"] / chipo[\"quantity\"]\n",
    "\n"
   ]
  },
  {
   "cell_type": "code",
   "execution_count": 34,
   "metadata": {},
   "outputs": [
    {
     "output_type": "execute_result",
     "data": {
      "text/plain": "   order_id  quantity                              item_name  \\\n0         1         1           Chips and Fresh Tomato Salsa   \n1         1         1                                   Izze   \n2         1         1                       Nantucket Nectar   \n3         1         1  Chips and Tomatillo-Green Chili Salsa   \n4         2         2                           Chicken Bowl   \n\n                                  choice_description  item_price  unit_price  \n0                                                NaN        2.39        2.39  \n1                                       [Clementine]        3.39        3.39  \n2                                            [Apple]        3.39        3.39  \n3                                                NaN        2.39        2.39  \n4  [Tomatillo-Red Chili Salsa (Hot), [Black Beans...       16.98        8.49  ",
      "text/html": "<div>\n<style scoped>\n    .dataframe tbody tr th:only-of-type {\n        vertical-align: middle;\n    }\n\n    .dataframe tbody tr th {\n        vertical-align: top;\n    }\n\n    .dataframe thead th {\n        text-align: right;\n    }\n</style>\n<table border=\"1\" class=\"dataframe\">\n  <thead>\n    <tr style=\"text-align: right;\">\n      <th></th>\n      <th>order_id</th>\n      <th>quantity</th>\n      <th>item_name</th>\n      <th>choice_description</th>\n      <th>item_price</th>\n      <th>unit_price</th>\n    </tr>\n  </thead>\n  <tbody>\n    <tr>\n      <th>0</th>\n      <td>1</td>\n      <td>1</td>\n      <td>Chips and Fresh Tomato Salsa</td>\n      <td>NaN</td>\n      <td>2.39</td>\n      <td>2.39</td>\n    </tr>\n    <tr>\n      <th>1</th>\n      <td>1</td>\n      <td>1</td>\n      <td>Izze</td>\n      <td>[Clementine]</td>\n      <td>3.39</td>\n      <td>3.39</td>\n    </tr>\n    <tr>\n      <th>2</th>\n      <td>1</td>\n      <td>1</td>\n      <td>Nantucket Nectar</td>\n      <td>[Apple]</td>\n      <td>3.39</td>\n      <td>3.39</td>\n    </tr>\n    <tr>\n      <th>3</th>\n      <td>1</td>\n      <td>1</td>\n      <td>Chips and Tomatillo-Green Chili Salsa</td>\n      <td>NaN</td>\n      <td>2.39</td>\n      <td>2.39</td>\n    </tr>\n    <tr>\n      <th>4</th>\n      <td>2</td>\n      <td>2</td>\n      <td>Chicken Bowl</td>\n      <td>[Tomatillo-Red Chili Salsa (Hot), [Black Beans...</td>\n      <td>16.98</td>\n      <td>8.49</td>\n    </tr>\n  </tbody>\n</table>\n</div>"
     },
     "metadata": {},
     "execution_count": 34
    }
   ],
   "source": [
    "chipo.head()"
   ]
  },
  {
   "cell_type": "code",
   "execution_count": 35,
   "metadata": {},
   "outputs": [
    {
     "output_type": "execute_result",
     "data": {
      "text/plain": "                                item_name  \\\n0            Chips and Fresh Tomato Salsa   \n1                                    Izze   \n2                        Nantucket Nectar   \n3   Chips and Tomatillo-Green Chili Salsa   \n4                            Chicken Bowl   \n5                            Chicken Bowl   \n6                           Side of Chips   \n7                           Steak Burrito   \n8                        Steak Soft Tacos   \n9                           Steak Burrito   \n10                    Chips and Guacamole   \n11                   Chicken Crispy Tacos   \n12                     Chicken Soft Tacos   \n13                           Chicken Bowl   \n14                    Chips and Guacamole   \n15  Chips and Tomatillo-Green Chili Salsa   \n16                        Chicken Burrito   \n17                        Chicken Burrito   \n18                            Canned Soda   \n19                           Chicken Bowl   \n20                    Chips and Guacamole   \n21                       Barbacoa Burrito   \n22                       Nantucket Nectar   \n23                        Chicken Burrito   \n24                                   Izze   \n25           Chips and Fresh Tomato Salsa   \n26                           Chicken Bowl   \n27                       Carnitas Burrito   \n28                            Canned Soda   \n29                        Chicken Burrito   \n30  Chips and Tomatillo-Green Chili Salsa   \n31                          Steak Burrito   \n32                          Side of Chips   \n33                          Carnitas Bowl   \n34                          Bottled Water   \n35                     Chicken Soft Tacos   \n36                     Chicken Soft Tacos   \n37                    Chips and Guacamole   \n38  Chips and Tomatillo Green Chili Salsa   \n39                          Barbacoa Bowl   \n40                                  Chips   \n41                    Chips and Guacamole   \n42                           Chicken Bowl   \n43                          Steak Burrito   \n44                     Chicken Salad Bowl   \n45                        Chicken Burrito   \n46                          Steak Burrito   \n47                                   Izze   \n48                          Steak Burrito   \n49                    Chips and Guacamole   \n\n                                   choice_description  unit_price  \n0                                                 NaN        2.39  \n1                                        [Clementine]        3.39  \n2                                             [Apple]        3.39  \n3                                                 NaN        2.39  \n4   [Tomatillo-Red Chili Salsa (Hot), [Black Beans...        8.49  \n5   [Fresh Tomato Salsa (Mild), [Rice, Cheese, Sou...       10.98  \n6                                                 NaN        1.69  \n7   [Tomatillo Red Chili Salsa, [Fajita Vegetables...       11.75  \n8   [Tomatillo Green Chili Salsa, [Pinto Beans, Ch...        9.25  \n9   [Fresh Tomato Salsa, [Rice, Black Beans, Pinto...        9.25  \n10                                                NaN        4.45  \n11  [Roasted Chili Corn Salsa, [Fajita Vegetables,...        8.75  \n12  [Roasted Chili Corn Salsa, [Rice, Black Beans,...        8.75  \n13  [Fresh Tomato Salsa, [Fajita Vegetables, Rice,...       11.25  \n14                                                NaN        4.45  \n15                                                NaN        2.39  \n16  [Tomatillo-Green Chili Salsa (Medium), [Pinto ...        8.49  \n17  [Fresh Tomato Salsa (Mild), [Black Beans, Rice...        8.49  \n18                                           [Sprite]        1.09  \n19  [Tomatillo Red Chili Salsa, [Fajita Vegetables...        8.75  \n20                                                NaN        4.45  \n21  [[Fresh Tomato Salsa (Mild), Tomatillo-Green C...        8.99  \n22                               [Pomegranate Cherry]        3.39  \n23  [[Tomatillo-Green Chili Salsa (Medium), Tomati...       10.98  \n24                                       [Grapefruit]        3.39  \n25                                                NaN        2.39  \n26  [Roasted Chili Corn Salsa (Medium), [Pinto Bea...        8.49  \n27  [[Tomatillo-Green Chili Salsa (Medium), Roaste...        8.99  \n28                                       [Dr. Pepper]        1.09  \n29  [Tomatillo-Green Chili Salsa (Medium), [Pinto ...        8.49  \n30                                                NaN        2.39  \n31  [[Roasted Chili Corn Salsa (Medium), Fresh Tom...        8.99  \n32                                                NaN        1.69  \n33  [Tomatillo-Red Chili Salsa (Hot), [Black Beans...        8.99  \n34                                                NaN        1.09  \n35                   [Roasted Chili Corn Salsa, Rice]        8.75  \n36      [Roasted Chili Corn Salsa, [Cheese, Lettuce]]        8.75  \n37                                                NaN        4.45  \n38                                                NaN        2.95  \n39  [Roasted Chili Corn Salsa, [Fajita Vegetables,...       11.75  \n40                                                NaN        2.15  \n41                                                NaN        4.45  \n42  [Roasted Chili Corn Salsa, [Rice, Black Beans,...       11.25  \n43  [Fresh Tomato Salsa, [Rice, Pinto Beans, Chees...       11.75  \n44  [Fresh Tomato Salsa, [Fajita Vegetables, Pinto...        8.75  \n45  [Tomatillo-Red Chili Salsa (Hot), [Black Beans...       10.98  \n46  [Tomatillo-Red Chili Salsa (Hot), [Rice, Fajit...        8.99  \n47                                       [Blackberry]        3.39  \n48  [[Fresh Tomato Salsa (Mild), Roasted Chili Cor...        8.99  \n49                                                NaN        3.99  ",
      "text/html": "<div>\n<style scoped>\n    .dataframe tbody tr th:only-of-type {\n        vertical-align: middle;\n    }\n\n    .dataframe tbody tr th {\n        vertical-align: top;\n    }\n\n    .dataframe thead th {\n        text-align: right;\n    }\n</style>\n<table border=\"1\" class=\"dataframe\">\n  <thead>\n    <tr style=\"text-align: right;\">\n      <th></th>\n      <th>item_name</th>\n      <th>choice_description</th>\n      <th>unit_price</th>\n    </tr>\n  </thead>\n  <tbody>\n    <tr>\n      <th>0</th>\n      <td>Chips and Fresh Tomato Salsa</td>\n      <td>NaN</td>\n      <td>2.39</td>\n    </tr>\n    <tr>\n      <th>1</th>\n      <td>Izze</td>\n      <td>[Clementine]</td>\n      <td>3.39</td>\n    </tr>\n    <tr>\n      <th>2</th>\n      <td>Nantucket Nectar</td>\n      <td>[Apple]</td>\n      <td>3.39</td>\n    </tr>\n    <tr>\n      <th>3</th>\n      <td>Chips and Tomatillo-Green Chili Salsa</td>\n      <td>NaN</td>\n      <td>2.39</td>\n    </tr>\n    <tr>\n      <th>4</th>\n      <td>Chicken Bowl</td>\n      <td>[Tomatillo-Red Chili Salsa (Hot), [Black Beans...</td>\n      <td>8.49</td>\n    </tr>\n    <tr>\n      <th>5</th>\n      <td>Chicken Bowl</td>\n      <td>[Fresh Tomato Salsa (Mild), [Rice, Cheese, Sou...</td>\n      <td>10.98</td>\n    </tr>\n    <tr>\n      <th>6</th>\n      <td>Side of Chips</td>\n      <td>NaN</td>\n      <td>1.69</td>\n    </tr>\n    <tr>\n      <th>7</th>\n      <td>Steak Burrito</td>\n      <td>[Tomatillo Red Chili Salsa, [Fajita Vegetables...</td>\n      <td>11.75</td>\n    </tr>\n    <tr>\n      <th>8</th>\n      <td>Steak Soft Tacos</td>\n      <td>[Tomatillo Green Chili Salsa, [Pinto Beans, Ch...</td>\n      <td>9.25</td>\n    </tr>\n    <tr>\n      <th>9</th>\n      <td>Steak Burrito</td>\n      <td>[Fresh Tomato Salsa, [Rice, Black Beans, Pinto...</td>\n      <td>9.25</td>\n    </tr>\n    <tr>\n      <th>10</th>\n      <td>Chips and Guacamole</td>\n      <td>NaN</td>\n      <td>4.45</td>\n    </tr>\n    <tr>\n      <th>11</th>\n      <td>Chicken Crispy Tacos</td>\n      <td>[Roasted Chili Corn Salsa, [Fajita Vegetables,...</td>\n      <td>8.75</td>\n    </tr>\n    <tr>\n      <th>12</th>\n      <td>Chicken Soft Tacos</td>\n      <td>[Roasted Chili Corn Salsa, [Rice, Black Beans,...</td>\n      <td>8.75</td>\n    </tr>\n    <tr>\n      <th>13</th>\n      <td>Chicken Bowl</td>\n      <td>[Fresh Tomato Salsa, [Fajita Vegetables, Rice,...</td>\n      <td>11.25</td>\n    </tr>\n    <tr>\n      <th>14</th>\n      <td>Chips and Guacamole</td>\n      <td>NaN</td>\n      <td>4.45</td>\n    </tr>\n    <tr>\n      <th>15</th>\n      <td>Chips and Tomatillo-Green Chili Salsa</td>\n      <td>NaN</td>\n      <td>2.39</td>\n    </tr>\n    <tr>\n      <th>16</th>\n      <td>Chicken Burrito</td>\n      <td>[Tomatillo-Green Chili Salsa (Medium), [Pinto ...</td>\n      <td>8.49</td>\n    </tr>\n    <tr>\n      <th>17</th>\n      <td>Chicken Burrito</td>\n      <td>[Fresh Tomato Salsa (Mild), [Black Beans, Rice...</td>\n      <td>8.49</td>\n    </tr>\n    <tr>\n      <th>18</th>\n      <td>Canned Soda</td>\n      <td>[Sprite]</td>\n      <td>1.09</td>\n    </tr>\n    <tr>\n      <th>19</th>\n      <td>Chicken Bowl</td>\n      <td>[Tomatillo Red Chili Salsa, [Fajita Vegetables...</td>\n      <td>8.75</td>\n    </tr>\n    <tr>\n      <th>20</th>\n      <td>Chips and Guacamole</td>\n      <td>NaN</td>\n      <td>4.45</td>\n    </tr>\n    <tr>\n      <th>21</th>\n      <td>Barbacoa Burrito</td>\n      <td>[[Fresh Tomato Salsa (Mild), Tomatillo-Green C...</td>\n      <td>8.99</td>\n    </tr>\n    <tr>\n      <th>22</th>\n      <td>Nantucket Nectar</td>\n      <td>[Pomegranate Cherry]</td>\n      <td>3.39</td>\n    </tr>\n    <tr>\n      <th>23</th>\n      <td>Chicken Burrito</td>\n      <td>[[Tomatillo-Green Chili Salsa (Medium), Tomati...</td>\n      <td>10.98</td>\n    </tr>\n    <tr>\n      <th>24</th>\n      <td>Izze</td>\n      <td>[Grapefruit]</td>\n      <td>3.39</td>\n    </tr>\n    <tr>\n      <th>25</th>\n      <td>Chips and Fresh Tomato Salsa</td>\n      <td>NaN</td>\n      <td>2.39</td>\n    </tr>\n    <tr>\n      <th>26</th>\n      <td>Chicken Bowl</td>\n      <td>[Roasted Chili Corn Salsa (Medium), [Pinto Bea...</td>\n      <td>8.49</td>\n    </tr>\n    <tr>\n      <th>27</th>\n      <td>Carnitas Burrito</td>\n      <td>[[Tomatillo-Green Chili Salsa (Medium), Roaste...</td>\n      <td>8.99</td>\n    </tr>\n    <tr>\n      <th>28</th>\n      <td>Canned Soda</td>\n      <td>[Dr. Pepper]</td>\n      <td>1.09</td>\n    </tr>\n    <tr>\n      <th>29</th>\n      <td>Chicken Burrito</td>\n      <td>[Tomatillo-Green Chili Salsa (Medium), [Pinto ...</td>\n      <td>8.49</td>\n    </tr>\n    <tr>\n      <th>30</th>\n      <td>Chips and Tomatillo-Green Chili Salsa</td>\n      <td>NaN</td>\n      <td>2.39</td>\n    </tr>\n    <tr>\n      <th>31</th>\n      <td>Steak Burrito</td>\n      <td>[[Roasted Chili Corn Salsa (Medium), Fresh Tom...</td>\n      <td>8.99</td>\n    </tr>\n    <tr>\n      <th>32</th>\n      <td>Side of Chips</td>\n      <td>NaN</td>\n      <td>1.69</td>\n    </tr>\n    <tr>\n      <th>33</th>\n      <td>Carnitas Bowl</td>\n      <td>[Tomatillo-Red Chili Salsa (Hot), [Black Beans...</td>\n      <td>8.99</td>\n    </tr>\n    <tr>\n      <th>34</th>\n      <td>Bottled Water</td>\n      <td>NaN</td>\n      <td>1.09</td>\n    </tr>\n    <tr>\n      <th>35</th>\n      <td>Chicken Soft Tacos</td>\n      <td>[Roasted Chili Corn Salsa, Rice]</td>\n      <td>8.75</td>\n    </tr>\n    <tr>\n      <th>36</th>\n      <td>Chicken Soft Tacos</td>\n      <td>[Roasted Chili Corn Salsa, [Cheese, Lettuce]]</td>\n      <td>8.75</td>\n    </tr>\n    <tr>\n      <th>37</th>\n      <td>Chips and Guacamole</td>\n      <td>NaN</td>\n      <td>4.45</td>\n    </tr>\n    <tr>\n      <th>38</th>\n      <td>Chips and Tomatillo Green Chili Salsa</td>\n      <td>NaN</td>\n      <td>2.95</td>\n    </tr>\n    <tr>\n      <th>39</th>\n      <td>Barbacoa Bowl</td>\n      <td>[Roasted Chili Corn Salsa, [Fajita Vegetables,...</td>\n      <td>11.75</td>\n    </tr>\n    <tr>\n      <th>40</th>\n      <td>Chips</td>\n      <td>NaN</td>\n      <td>2.15</td>\n    </tr>\n    <tr>\n      <th>41</th>\n      <td>Chips and Guacamole</td>\n      <td>NaN</td>\n      <td>4.45</td>\n    </tr>\n    <tr>\n      <th>42</th>\n      <td>Chicken Bowl</td>\n      <td>[Roasted Chili Corn Salsa, [Rice, Black Beans,...</td>\n      <td>11.25</td>\n    </tr>\n    <tr>\n      <th>43</th>\n      <td>Steak Burrito</td>\n      <td>[Fresh Tomato Salsa, [Rice, Pinto Beans, Chees...</td>\n      <td>11.75</td>\n    </tr>\n    <tr>\n      <th>44</th>\n      <td>Chicken Salad Bowl</td>\n      <td>[Fresh Tomato Salsa, [Fajita Vegetables, Pinto...</td>\n      <td>8.75</td>\n    </tr>\n    <tr>\n      <th>45</th>\n      <td>Chicken Burrito</td>\n      <td>[Tomatillo-Red Chili Salsa (Hot), [Black Beans...</td>\n      <td>10.98</td>\n    </tr>\n    <tr>\n      <th>46</th>\n      <td>Steak Burrito</td>\n      <td>[Tomatillo-Red Chili Salsa (Hot), [Rice, Fajit...</td>\n      <td>8.99</td>\n    </tr>\n    <tr>\n      <th>47</th>\n      <td>Izze</td>\n      <td>[Blackberry]</td>\n      <td>3.39</td>\n    </tr>\n    <tr>\n      <th>48</th>\n      <td>Steak Burrito</td>\n      <td>[[Fresh Tomato Salsa (Mild), Roasted Chili Cor...</td>\n      <td>8.99</td>\n    </tr>\n    <tr>\n      <th>49</th>\n      <td>Chips and Guacamole</td>\n      <td>NaN</td>\n      <td>3.99</td>\n    </tr>\n  </tbody>\n</table>\n</div>"
     },
     "metadata": {},
     "execution_count": 35
    }
   ],
   "source": [
    "unitp = chipo.loc[:, ['item_name','choice_description','unit_price']]\n",
    "unitp.head(50)"
   ]
  },
  {
   "cell_type": "code",
   "execution_count": 36,
   "metadata": {
    "collapsed": false
   },
   "outputs": [
    {
     "output_type": "execute_result",
     "data": {
      "text/plain": "Empty DataFrame\nColumns: []\nIndex: [(6 Pack Soft Drink, [Coke], 6.49), (6 Pack Soft Drink, [Diet Coke], 6.49), (6 Pack Soft Drink, [Lemonade], 6.49), (6 Pack Soft Drink, [Nestea], 6.49), (6 Pack Soft Drink, [Sprite], 6.49), (Barbacoa Bowl, [Fresh Tomato (Mild), [Lettuce, Black Beans, Rice]], 8.69), (Barbacoa Bowl, [Fresh Tomato (Mild), [Lettuce, Rice, Cheese]], 8.69), (Barbacoa Bowl, [Fresh Tomato Salsa (Mild), [Black Beans, Rice, Cheese, Sour Cream, Guacamole, Lettuce]], 11.48), (Barbacoa Bowl, [Fresh Tomato Salsa (Mild), [Rice, Cheese, Sour Cream, Lettuce]], 8.99), (Barbacoa Bowl, [Fresh Tomato Salsa, [Fajita Vegetables, Rice, Black Beans, Cheese, Guacamole, Lettuce]], 11.75), (Barbacoa Bowl, [Fresh Tomato Salsa, [Fajita Vegetables, Rice, Black Beans, Cheese]], 9.25), (Barbacoa Bowl, [Fresh Tomato Salsa, [Fajita Vegetables, Rice, Black Beans, Guacamole, Lettuce]], 11.75), (Barbacoa Bowl, [Fresh Tomato Salsa, [Fajita Vegetables, Rice, Cheese, Sour Cream]], 9.25), (Barbacoa Bowl, [Fresh Tomato Salsa, [Rice, Black Beans, Cheese, Lettuce]], 9.25), (Barbacoa Bowl, [Fresh Tomato Salsa, [Rice, Black Beans, Cheese, Sour Cream, Guacamole, Lettuce]], 11.75), (Barbacoa Bowl, [Fresh Tomato Salsa, [Rice, Black Beans, Cheese, Sour Cream, Guacamole]], 11.75), (Barbacoa Bowl, [Fresh Tomato Salsa, [Rice, Black Beans, Cheese, Sour Cream, Lettuce]], 9.25), (Barbacoa Bowl, [Fresh Tomato Salsa, [Rice, Black Beans, Cheese]], 9.25), (Barbacoa Bowl, [Fresh Tomato Salsa, [Rice, Black Beans, Pinto Beans, Cheese, Sour Cream, Lettuce]], 9.25), (Barbacoa Bowl, [Fresh Tomato Salsa, [Rice, Black Beans, Sour Cream, Lettuce]], 9.25), (Barbacoa Bowl, [Fresh Tomato Salsa, [Rice, Cheese, Sour Cream, Guacamole, Lettuce]], 11.75), (Barbacoa Bowl, [Fresh Tomato Salsa, [Rice, Fajita Vegetables, Black Beans, Sour Cream]], 9.25), (Barbacoa Bowl, [Guacamole], 11.49), (Barbacoa Bowl, [Roasted Chili Corn Salsa, [Cheese, Lettuce]], 9.25), (Barbacoa Bowl, [Roasted Chili Corn Salsa, [Fajita Vegetables, Rice, Black Beans, Cheese, Sour Cream, Guacamole, Lettuce]], 11.75), (Barbacoa Bowl, [Roasted Chili Corn Salsa, [Fajita Vegetables, Rice, Guacamole]], 11.75), (Barbacoa Bowl, [Roasted Chili Corn Salsa, [Pinto Beans, Sour Cream, Cheese, Lettuce, Guacamole]], 11.75), (Barbacoa Bowl, [Roasted Chili Corn Salsa, [Rice, Black Beans, Cheese, Sour Cream, Lettuce]], 9.25), (Barbacoa Bowl, [Roasted Chili Corn Salsa, [Rice, Cheese, Lettuce]], 9.25), (Barbacoa Bowl, [Roasted Chili Corn Salsa], 9.25), (Barbacoa Bowl, [Tomatillo Green Chili Salsa, [Fajita Vegetables, Pinto Beans, Sour Cream, Guacamole, Lettuce]], 11.75), (Barbacoa Bowl, [Tomatillo Green Chili Salsa, [Fajita Vegetables, Rice, Black Beans, Pinto Beans, Guacamole]], 11.75), (Barbacoa Bowl, [Tomatillo Green Chili Salsa, [Rice, Cheese, Guacamole, Lettuce]], 11.75), (Barbacoa Bowl, [Tomatillo Red Chili Salsa, [Black Beans, Cheese, Sour Cream, Guacamole]], 11.75), (Barbacoa Bowl, [Tomatillo Red Chili Salsa, [Cheese, Sour Cream, Guacamole, Lettuce]], 11.75), (Barbacoa Bowl, [Tomatillo Red Chili Salsa, [Fajita Vegetables, Rice, Black Beans, Cheese, Sour Cream, Guacamole, Lettuce]], 11.75), (Barbacoa Bowl, [Tomatillo Red Chili Salsa, [Fajita Vegetables, Rice, Black Beans, Pinto Beans, Cheese, Sour Cream, Guacamole, Lettuce]], 11.75), (Barbacoa Bowl, [Tomatillo Red Chili Salsa, [Rice, Black Beans, Cheese, Lettuce]], 9.25), (Barbacoa Bowl, [Tomatillo Red Chili Salsa, [Rice, Black Beans, Cheese]], 9.25), (Barbacoa Bowl, [Tomatillo Red Chili Salsa, [Rice, Black Beans, Sour Cream, Cheese, Lettuce]], 9.25), (Barbacoa Bowl, [Tomatillo Red Chili Salsa, [Rice, Cheese, Lettuce]], 9.25), (Barbacoa Bowl, [Tomatillo Red Chili Salsa, [Rice, Fajita Vegetables, Black Beans, Sour Cream, Cheese, Lettuce, Guacamole]], 11.75), (Barbacoa Bowl, [Tomatillo Red Chili Salsa, [Rice, Fajita Vegetables, Black Beans, Sour Cream, Cheese]], 9.25), (Barbacoa Bowl, [Tomatillo Red Chili Salsa, [Rice, Pinto Beans, Cheese, Lettuce]], 9.25), (Barbacoa Bowl, [Tomatillo Red Chili Salsa], 9.25), (Barbacoa Bowl, [Tomatillo-Green Chili Salsa (Medium), [Black Beans, Rice, Cheese, Guacamole]], 11.48), (Barbacoa Bowl, [Tomatillo-Red Chili Salsa (Hot), [Black Beans, Rice, Cheese, Sour Cream, Lettuce]], 8.99), (Barbacoa Bowl, [[Rice, Cheese]], 8.69), (Barbacoa Bowl, [[Roasted Chili Corn Salsa (Medium), Tomatillo-Red Chili Salsa (Hot)], [Pinto Beans, Rice, Fajita Veggies]], 8.99), (Barbacoa Bowl, [[Tomatillo-Green Chili Salsa (Medium), Roasted Chili Corn Salsa (Medium)], [Black Beans, Rice, Cheese, Guacamole]], 11.48), (Barbacoa Bowl, [[Tomatillo-Green Chili Salsa (Medium), Roasted Chili Corn Salsa (Medium)], [Rice, Fajita Veggies, Guacamole, Lettuce]], 11.48), (Barbacoa Bowl, [[Tomatillo-Green Chili Salsa (Medium), Tomatillo-Red Chili Salsa (Hot)], [Black Beans, Rice, Cheese, Lettuce]], 8.99), (Barbacoa Bowl, [[Tomatillo-Red Chili Salsa (Hot), Tomatillo-Green Chili Salsa (Medium)], [Rice, Pinto Beans, Fajita Veggies, Cheese, Sour Cream, Lettuce]], 8.99), (Barbacoa Bowl, [[Tomatillo-Red Chili Salsa (Hot), Tomatillo-Green Chili Salsa (Medium)], [Rice, Pinto Beans, Fajita Veggies, Lettuce]], 8.99), (Barbacoa Burrito, [Fresh Tomato (Mild), [Black Beans, Rice, Sour Cream, Cheese]], 8.69), (Barbacoa Burrito, [Fresh Tomato (Mild), [Guacamole, Rice, Black Beans]], 11.08), (Barbacoa Burrito, [Fresh Tomato Salsa (Mild), [Black Beans, Rice, Cheese, Sour Cream, Guacamole, Lettuce]], 11.48), (Barbacoa Burrito, [Fresh Tomato Salsa, [Fajita Vegetables, Rice, Black Beans, Cheese, Guacamole, Lettuce]], 11.75), (Barbacoa Burrito, [Fresh Tomato Salsa, [Fajita Vegetables, Rice, Black Beans, Cheese, Lettuce]], 9.25), (Barbacoa Burrito, [Fresh Tomato Salsa, [Fajita Vegetables, Rice, Black Beans, Sour Cream, Guacamole, Lettuce]], 11.75), (Barbacoa Burrito, [Fresh Tomato Salsa, [Fajita Vegetables, Rice, Cheese, Lettuce]], 9.25), (Barbacoa Burrito, [Fresh Tomato Salsa, [Fajita Vegetables, Rice, Cheese, Sour Cream, Guacamole, Lettuce]], 11.75), (Barbacoa Burrito, [Fresh Tomato Salsa, [Fajita Vegetables, Rice, Cheese, Sour Cream]], 9.25), (Barbacoa Burrito, [Fresh Tomato Salsa, [Rice, Black Beans, Cheese, Lettuce]], 9.25), (Barbacoa Burrito, [Fresh Tomato Salsa, [Rice, Black Beans, Cheese, Sour Cream]], 9.25), (Barbacoa Burrito, [Fresh Tomato Salsa, [Rice, Cheese]], 9.25), (Barbacoa Burrito, [Fresh Tomato Salsa, [Rice, Pinto Beans, Cheese, Lettuce]], 9.25), (Barbacoa Burrito, [Fresh Tomato Salsa, [Rice, Pinto Beans, Cheese, Sour Cream, Lettuce]], 9.25), (Barbacoa Burrito, [Fresh Tomato Salsa, [Rice, Pinto Beans, Cheese]], 9.25), (Barbacoa Burrito, [Fresh Tomato Salsa, [Rice, Pinto Beans, Guacamole, Lettuce]], 11.75), (Barbacoa Burrito, [Roasted Chili Corn Salsa (Medium), [Black Beans, Rice, Cheese, Sour Cream]], 8.99), (Barbacoa Burrito, [Roasted Chili Corn Salsa (Medium), [Black Beans, Rice, Fajita Veggies, Cheese, Lettuce]], 8.99), (Barbacoa Burrito, [Roasted Chili Corn Salsa (Medium), [Rice, Fajita Veggies, Cheese, Sour Cream, Lettuce]], 8.99), (Barbacoa Burrito, [Roasted Chili Corn Salsa, [Black Beans, Cheese, Sour Cream]], 9.25), (Barbacoa Burrito, [Roasted Chili Corn Salsa, [Fajita Vegetables, Rice, Black Beans, Sour Cream, Guacamole]], 11.75), (Barbacoa Burrito, [Roasted Chili Corn Salsa, [Fajita Vegetables, Rice, Cheese, Sour Cream, Guacamole, Lettuce]], 11.75), (Barbacoa Burrito, [Roasted Chili Corn Salsa, [Fajita Vegetables, Rice, Cheese, Sour Cream, Lettuce]], 9.25), (Barbacoa Burrito, [Roasted Chili Corn Salsa, [Fajita Vegetables, Rice, Pinto Beans, Cheese, Sour Cream, Lettuce]], 9.25), (Barbacoa Burrito, [Roasted Chili Corn Salsa, [Fajita Vegetables, Rice, Sour Cream, Guacamole]], 11.75), (Barbacoa Burrito, [Roasted Chili Corn Salsa, [Fajita Vegetables, Sour Cream, Cheese, Lettuce, Guacamole]], 11.75), (Barbacoa Burrito, [Roasted Chili Corn Salsa, [Rice, Black Beans, Cheese, Guacamole, Lettuce]], 11.75), (Barbacoa Burrito, [Roasted Chili Corn Salsa, [Rice, Black Beans, Cheese, Lettuce, Guacamole]], 11.75), (Barbacoa Burrito, [Roasted Chili Corn Salsa, [Rice, Black Beans, Cheese, Sour Cream, Lettuce]], 9.25), (Barbacoa Burrito, [Roasted Chili Corn Salsa, [Rice, Black Beans, Cheese, Sour Cream]], 9.25), (Barbacoa Burrito, [Roasted Chili Corn Salsa, [Rice, Black Beans, Sour Cream, Cheese]], 9.25), (Barbacoa Burrito, [Roasted Chili Corn Salsa, [Rice, Cheese, Sour Cream, Lettuce]], 9.25), (Barbacoa Burrito, [Roasted Chili Corn Salsa, [Rice, Pinto Beans, Cheese, Guacamole, Lettuce]], 11.75), (Barbacoa Burrito, [Roasted Chili Corn Salsa, [Rice, Pinto Beans, Cheese, Guacamole]], 11.75), (Barbacoa Burrito, [Roasted Chili Corn Salsa, [Rice, Pinto Beans, Cheese, Lettuce, Guacamole]], 11.75), (Barbacoa Burrito, [Roasted Chili Corn Salsa, [Rice, Pinto Beans, Cheese, Sour Cream, Lettuce]], 9.25), (Barbacoa Burrito, [Roasted Chili Corn Salsa, [Rice, Pinto Beans, Cheese, Sour Cream]], 9.25), (Barbacoa Burrito, [Roasted Chili Corn Salsa, [Rice, Pinto Beans, Sour Cream, Cheese]], 9.25), (Barbacoa Burrito, [Roasted Chili Corn Salsa], 9.25), (Barbacoa Burrito, [Tomatillo Green Chili Salsa, [Fajita Vegetables, Pinto Beans, Sour Cream, Cheese, Lettuce]], 9.25), (Barbacoa Burrito, [Tomatillo Green Chili Salsa, [Rice, Black Beans, Cheese, Lettuce]], 9.25), (Barbacoa Burrito, [Tomatillo Green Chili Salsa, [Rice, Black Beans, Sour Cream, Cheese, Lettuce]], 9.25), (Barbacoa Burrito, [Tomatillo Green Chili Salsa, [Rice, Black Beans, Sour Cream, Cheese]], 9.25), (Barbacoa Burrito, [Tomatillo Green Chili Salsa, [Rice, Fajita Vegetables, Pinto Beans, Sour Cream, Cheese]], 9.25), (Barbacoa Burrito, [Tomatillo Green Chili Salsa, [Rice, Pinto Beans, Cheese, Guacamole]], 11.75), (Barbacoa Burrito, [Tomatillo Green Chili Salsa], 9.25), ...]\n\n[1859 rows x 0 columns]",
      "text/html": "<div>\n<style scoped>\n    .dataframe tbody tr th:only-of-type {\n        vertical-align: middle;\n    }\n\n    .dataframe tbody tr th {\n        vertical-align: top;\n    }\n\n    .dataframe thead th {\n        text-align: right;\n    }\n</style>\n<table border=\"1\" class=\"dataframe\">\n  <thead>\n    <tr style=\"text-align: right;\">\n      <th></th>\n      <th></th>\n      <th></th>\n    </tr>\n    <tr>\n      <th>item_name</th>\n      <th>choice_description</th>\n      <th>unit_price</th>\n    </tr>\n  </thead>\n  <tbody>\n    <tr>\n      <th rowspan=\"5\" valign=\"top\">6 Pack Soft Drink</th>\n      <th>[Coke]</th>\n      <th>6.49</th>\n    </tr>\n    <tr>\n      <th>[Diet Coke]</th>\n      <th>6.49</th>\n    </tr>\n    <tr>\n      <th>[Lemonade]</th>\n      <th>6.49</th>\n    </tr>\n    <tr>\n      <th>[Nestea]</th>\n      <th>6.49</th>\n    </tr>\n    <tr>\n      <th>[Sprite]</th>\n      <th>6.49</th>\n    </tr>\n    <tr>\n      <th>...</th>\n      <th>...</th>\n      <th>...</th>\n    </tr>\n    <tr>\n      <th rowspan=\"5\" valign=\"top\">Veggie Soft Tacos</th>\n      <th>[Fresh Tomato Salsa, [Black Beans, Cheese, Sour Cream, Lettuce]]</th>\n      <th>8.75</th>\n    </tr>\n    <tr>\n      <th>[Fresh Tomato Salsa, [Fajita Vegetables, Rice, Black Beans, Pinto Beans, Cheese, Sour Cream, Guacamole, Lettuce]]</th>\n      <th>11.25</th>\n    </tr>\n    <tr>\n      <th>[Roasted Chili Corn Salsa (Medium), [Black Beans, Fajita Veggies, Cheese, Sour Cream, Lettuce]]</th>\n      <th>8.49</th>\n    </tr>\n    <tr>\n      <th>[Roasted Chili Corn Salsa, [Fajita Vegetables, Black Beans, Pinto Beans, Cheese, Lettuce]]</th>\n      <th>8.75</th>\n    </tr>\n    <tr>\n      <th>[Tomatillo Red Chili Salsa, [Fajita Vegetables, Rice, Black Beans, Cheese, Guacamole, Lettuce]]</th>\n      <th>11.25</th>\n    </tr>\n  </tbody>\n</table>\n<p>1859 rows × 0 columns</p>\n</div>"
     },
     "metadata": {},
     "execution_count": 36
    }
   ],
   "source": [
    "unitp.groupby([\"item_name\",'choice_description',\"unit_price\"]).count()\n"
   ]
  },
  {
   "cell_type": "markdown",
   "metadata": {},
   "source": [
    "### Step 6. Sort by the name of the item"
   ]
  },
  {
   "cell_type": "code",
   "execution_count": 37,
   "metadata": {},
   "outputs": [
    {
     "output_type": "execute_result",
     "data": {
      "text/plain": "              item_name choice_description  unit_price\n3389  6 Pack Soft Drink        [Diet Coke]        6.49\n341   6 Pack Soft Drink        [Diet Coke]        6.49\n1849  6 Pack Soft Drink             [Coke]        6.49\n1860  6 Pack Soft Drink        [Diet Coke]        6.49\n2713  6 Pack Soft Drink             [Coke]        6.49\n3422  6 Pack Soft Drink             [Coke]        6.49\n553   6 Pack Soft Drink        [Diet Coke]        6.49\n1916  6 Pack Soft Drink        [Diet Coke]        6.49\n1922  6 Pack Soft Drink             [Coke]        6.49\n1937  6 Pack Soft Drink        [Diet Coke]        6.49\n3836  6 Pack Soft Drink             [Coke]        6.49\n298   6 Pack Soft Drink           [Sprite]        6.49\n1976  6 Pack Soft Drink        [Diet Coke]        6.49\n1167  6 Pack Soft Drink             [Coke]        6.49\n3875  6 Pack Soft Drink        [Diet Coke]        6.49\n1124  6 Pack Soft Drink             [Coke]        6.49\n3886  6 Pack Soft Drink        [Diet Coke]        6.49\n2108  6 Pack Soft Drink             [Coke]        6.49\n3010  6 Pack Soft Drink        [Diet Coke]        6.49\n4535  6 Pack Soft Drink         [Lemonade]        6.49\n4169  6 Pack Soft Drink        [Diet Coke]        6.49\n4174  6 Pack Soft Drink             [Coke]        6.49\n4527  6 Pack Soft Drink        [Diet Coke]        6.49\n4522  6 Pack Soft Drink        [Diet Coke]        6.49\n3806  6 Pack Soft Drink           [Sprite]        6.49",
      "text/html": "<div>\n<style scoped>\n    .dataframe tbody tr th:only-of-type {\n        vertical-align: middle;\n    }\n\n    .dataframe tbody tr th {\n        vertical-align: top;\n    }\n\n    .dataframe thead th {\n        text-align: right;\n    }\n</style>\n<table border=\"1\" class=\"dataframe\">\n  <thead>\n    <tr style=\"text-align: right;\">\n      <th></th>\n      <th>item_name</th>\n      <th>choice_description</th>\n      <th>unit_price</th>\n    </tr>\n  </thead>\n  <tbody>\n    <tr>\n      <th>3389</th>\n      <td>6 Pack Soft Drink</td>\n      <td>[Diet Coke]</td>\n      <td>6.49</td>\n    </tr>\n    <tr>\n      <th>341</th>\n      <td>6 Pack Soft Drink</td>\n      <td>[Diet Coke]</td>\n      <td>6.49</td>\n    </tr>\n    <tr>\n      <th>1849</th>\n      <td>6 Pack Soft Drink</td>\n      <td>[Coke]</td>\n      <td>6.49</td>\n    </tr>\n    <tr>\n      <th>1860</th>\n      <td>6 Pack Soft Drink</td>\n      <td>[Diet Coke]</td>\n      <td>6.49</td>\n    </tr>\n    <tr>\n      <th>2713</th>\n      <td>6 Pack Soft Drink</td>\n      <td>[Coke]</td>\n      <td>6.49</td>\n    </tr>\n    <tr>\n      <th>3422</th>\n      <td>6 Pack Soft Drink</td>\n      <td>[Coke]</td>\n      <td>6.49</td>\n    </tr>\n    <tr>\n      <th>553</th>\n      <td>6 Pack Soft Drink</td>\n      <td>[Diet Coke]</td>\n      <td>6.49</td>\n    </tr>\n    <tr>\n      <th>1916</th>\n      <td>6 Pack Soft Drink</td>\n      <td>[Diet Coke]</td>\n      <td>6.49</td>\n    </tr>\n    <tr>\n      <th>1922</th>\n      <td>6 Pack Soft Drink</td>\n      <td>[Coke]</td>\n      <td>6.49</td>\n    </tr>\n    <tr>\n      <th>1937</th>\n      <td>6 Pack Soft Drink</td>\n      <td>[Diet Coke]</td>\n      <td>6.49</td>\n    </tr>\n    <tr>\n      <th>3836</th>\n      <td>6 Pack Soft Drink</td>\n      <td>[Coke]</td>\n      <td>6.49</td>\n    </tr>\n    <tr>\n      <th>298</th>\n      <td>6 Pack Soft Drink</td>\n      <td>[Sprite]</td>\n      <td>6.49</td>\n    </tr>\n    <tr>\n      <th>1976</th>\n      <td>6 Pack Soft Drink</td>\n      <td>[Diet Coke]</td>\n      <td>6.49</td>\n    </tr>\n    <tr>\n      <th>1167</th>\n      <td>6 Pack Soft Drink</td>\n      <td>[Coke]</td>\n      <td>6.49</td>\n    </tr>\n    <tr>\n      <th>3875</th>\n      <td>6 Pack Soft Drink</td>\n      <td>[Diet Coke]</td>\n      <td>6.49</td>\n    </tr>\n    <tr>\n      <th>1124</th>\n      <td>6 Pack Soft Drink</td>\n      <td>[Coke]</td>\n      <td>6.49</td>\n    </tr>\n    <tr>\n      <th>3886</th>\n      <td>6 Pack Soft Drink</td>\n      <td>[Diet Coke]</td>\n      <td>6.49</td>\n    </tr>\n    <tr>\n      <th>2108</th>\n      <td>6 Pack Soft Drink</td>\n      <td>[Coke]</td>\n      <td>6.49</td>\n    </tr>\n    <tr>\n      <th>3010</th>\n      <td>6 Pack Soft Drink</td>\n      <td>[Diet Coke]</td>\n      <td>6.49</td>\n    </tr>\n    <tr>\n      <th>4535</th>\n      <td>6 Pack Soft Drink</td>\n      <td>[Lemonade]</td>\n      <td>6.49</td>\n    </tr>\n    <tr>\n      <th>4169</th>\n      <td>6 Pack Soft Drink</td>\n      <td>[Diet Coke]</td>\n      <td>6.49</td>\n    </tr>\n    <tr>\n      <th>4174</th>\n      <td>6 Pack Soft Drink</td>\n      <td>[Coke]</td>\n      <td>6.49</td>\n    </tr>\n    <tr>\n      <th>4527</th>\n      <td>6 Pack Soft Drink</td>\n      <td>[Diet Coke]</td>\n      <td>6.49</td>\n    </tr>\n    <tr>\n      <th>4522</th>\n      <td>6 Pack Soft Drink</td>\n      <td>[Diet Coke]</td>\n      <td>6.49</td>\n    </tr>\n    <tr>\n      <th>3806</th>\n      <td>6 Pack Soft Drink</td>\n      <td>[Sprite]</td>\n      <td>6.49</td>\n    </tr>\n  </tbody>\n</table>\n</div>"
     },
     "metadata": {},
     "execution_count": 37
    }
   ],
   "source": [
    "j=unitp.sort_values('item_name',ascending = True)\n",
    "j.head(25)"
   ]
  },
  {
   "cell_type": "code",
   "execution_count": 38,
   "metadata": {
    "collapsed": false
   },
   "outputs": [],
   "source": [
    "\n",
    "\n",
    "# OR\n",
    "\n"
   ]
  },
  {
   "cell_type": "markdown",
   "metadata": {},
   "source": [
    "### Step 7. What was the quantity of the most expensive item ordered?"
   ]
  },
  {
   "cell_type": "code",
   "execution_count": 40,
   "metadata": {},
   "outputs": [
    {
     "output_type": "execute_result",
     "data": {
      "text/plain": "item_name\nBarbacoa Salad Bowl     5\nCarnitas Salad Bowl     4\nSteak Salad Bowl       21\nName: quantity, dtype: int64"
     },
     "metadata": {},
     "execution_count": 40
    }
   ],
   "source": [
    "# Segun esto el item mas caro cuesta 11.89 y se ordenaron 30 items en total (de 3 tipos diferentes).\n",
    "unitp.sort_values('unit_price',ascending = False).max()[\"unit_price\"]\n",
    "df_expensive = chipo[chipo[\"unit_price\"] == unitp.sort_values('unit_price',ascending = False).max()[\"unit_price\"]]\n",
    "df_expensive.groupby(\"item_name\").sum()[\"quantity\"]"
   ]
  },
  {
   "cell_type": "code",
   "execution_count": 41,
   "metadata": {},
   "outputs": [
    {
     "output_type": "execute_result",
     "data": {
      "text/plain": "30"
     },
     "metadata": {},
     "execution_count": 41
    }
   ],
   "source": [
    "df_expensive.sum()[\"quantity\"]"
   ]
  },
  {
   "cell_type": "code",
   "execution_count": 54,
   "metadata": {},
   "outputs": [
    {
     "output_type": "execute_result",
     "data": {
      "text/plain": "                item_name                                 choice_description  \\\n2442  Barbacoa Salad Bowl  [Tomatillo Green Chili Salsa, [Rice, Fajita Ve...   \n2957     Steak Salad Bowl  [Fresh Tomato Salsa, [Black Beans, Cheese, Gua...   \n613      Steak Salad Bowl  [Tomatillo Red Chili Salsa, [Fajita Vegetables...   \n2401     Steak Salad Bowl  [Fresh Tomato Salsa, [Fajita Vegetables, Guaca...   \n281      Steak Salad Bowl  [Tomatillo Red Chili Salsa, [Black Beans, Chee...   \n2804     Steak Salad Bowl  [Tomatillo Red Chili Salsa, [Rice, Black Beans...   \n4239  Carnitas Salad Bowl  [Tomatillo Green Chili Salsa, [Black Beans, Ch...   \n2740     Steak Salad Bowl  [Fresh Tomato Salsa, [Fajita Vegetables, Black...   \n3120     Steak Salad Bowl  [Roasted Chili Corn Salsa, [Fajita Vegetables,...   \n4313     Steak Salad Bowl  [Roasted Chili Corn Salsa, [Fajita Vegetables,...   \n3546  Barbacoa Salad Bowl                    [Fresh Tomato Salsa, Guacamole]   \n1816     Steak Salad Bowl  [Fresh Tomato Salsa, [Rice, Black Beans, Chees...   \n1311     Steak Salad Bowl  [Roasted Chili Corn Salsa, [Fajita Vegetables,...   \n2610  Carnitas Salad Bowl  [Roasted Chili Corn Salsa, [Fajita Vegetables,...   \n1159     Steak Salad Bowl  [Fresh Tomato Salsa, [Rice, Fajita Vegetables,...   \n1590     Steak Salad Bowl  [Fresh Tomato Salsa, [Fajita Vegetables, Rice,...   \n1571     Steak Salad Bowl  [Fresh Tomato Salsa, [Fajita Vegetables, Sour ...   \n3493     Steak Salad Bowl  [Roasted Chili Corn Salsa, [Fajita Vegetables,...   \n1326  Barbacoa Salad Bowl  [Fresh Tomato Salsa, [Fajita Vegetables, Rice,...   \n3350     Steak Salad Bowl  [Fresh Tomato Salsa, [Cheese, Guacamole, Lettu...   \n606      Steak Salad Bowl  [Fresh Tomato Salsa, [Pinto Beans, Cheese, Gua...   \n749      Steak Salad Bowl  [Roasted Chili Corn Salsa, [Rice, Cheese, Lett...   \n1229  Barbacoa Salad Bowl  [Fresh Tomato Salsa, [Rice, Fajita Vegetables,...   \n3749  Carnitas Salad Bowl  [Roasted Chili Corn Salsa, [Fajita Vegetables,...   \n1132  Carnitas Salad Bowl  [Fresh Tomato Salsa, [Rice, Black Beans, Chees...   \n\n      unit_price  \n2442       11.89  \n2957       11.89  \n613        11.89  \n2401       11.89  \n281        11.89  \n2804       11.89  \n4239       11.89  \n2740       11.89  \n3120       11.89  \n4313       11.89  \n3546       11.89  \n1816       11.89  \n1311       11.89  \n2610       11.89  \n1159       11.89  \n1590       11.89  \n1571       11.89  \n3493       11.89  \n1326       11.89  \n3350       11.89  \n606        11.89  \n749        11.89  \n1229       11.89  \n3749       11.89  \n1132       11.89  ",
      "text/html": "<div>\n<style scoped>\n    .dataframe tbody tr th:only-of-type {\n        vertical-align: middle;\n    }\n\n    .dataframe tbody tr th {\n        vertical-align: top;\n    }\n\n    .dataframe thead th {\n        text-align: right;\n    }\n</style>\n<table border=\"1\" class=\"dataframe\">\n  <thead>\n    <tr style=\"text-align: right;\">\n      <th></th>\n      <th>item_name</th>\n      <th>choice_description</th>\n      <th>unit_price</th>\n    </tr>\n  </thead>\n  <tbody>\n    <tr>\n      <th>2442</th>\n      <td>Barbacoa Salad Bowl</td>\n      <td>[Tomatillo Green Chili Salsa, [Rice, Fajita Ve...</td>\n      <td>11.89</td>\n    </tr>\n    <tr>\n      <th>2957</th>\n      <td>Steak Salad Bowl</td>\n      <td>[Fresh Tomato Salsa, [Black Beans, Cheese, Gua...</td>\n      <td>11.89</td>\n    </tr>\n    <tr>\n      <th>613</th>\n      <td>Steak Salad Bowl</td>\n      <td>[Tomatillo Red Chili Salsa, [Fajita Vegetables...</td>\n      <td>11.89</td>\n    </tr>\n    <tr>\n      <th>2401</th>\n      <td>Steak Salad Bowl</td>\n      <td>[Fresh Tomato Salsa, [Fajita Vegetables, Guaca...</td>\n      <td>11.89</td>\n    </tr>\n    <tr>\n      <th>281</th>\n      <td>Steak Salad Bowl</td>\n      <td>[Tomatillo Red Chili Salsa, [Black Beans, Chee...</td>\n      <td>11.89</td>\n    </tr>\n    <tr>\n      <th>2804</th>\n      <td>Steak Salad Bowl</td>\n      <td>[Tomatillo Red Chili Salsa, [Rice, Black Beans...</td>\n      <td>11.89</td>\n    </tr>\n    <tr>\n      <th>4239</th>\n      <td>Carnitas Salad Bowl</td>\n      <td>[Tomatillo Green Chili Salsa, [Black Beans, Ch...</td>\n      <td>11.89</td>\n    </tr>\n    <tr>\n      <th>2740</th>\n      <td>Steak Salad Bowl</td>\n      <td>[Fresh Tomato Salsa, [Fajita Vegetables, Black...</td>\n      <td>11.89</td>\n    </tr>\n    <tr>\n      <th>3120</th>\n      <td>Steak Salad Bowl</td>\n      <td>[Roasted Chili Corn Salsa, [Fajita Vegetables,...</td>\n      <td>11.89</td>\n    </tr>\n    <tr>\n      <th>4313</th>\n      <td>Steak Salad Bowl</td>\n      <td>[Roasted Chili Corn Salsa, [Fajita Vegetables,...</td>\n      <td>11.89</td>\n    </tr>\n    <tr>\n      <th>3546</th>\n      <td>Barbacoa Salad Bowl</td>\n      <td>[Fresh Tomato Salsa, Guacamole]</td>\n      <td>11.89</td>\n    </tr>\n    <tr>\n      <th>1816</th>\n      <td>Steak Salad Bowl</td>\n      <td>[Fresh Tomato Salsa, [Rice, Black Beans, Chees...</td>\n      <td>11.89</td>\n    </tr>\n    <tr>\n      <th>1311</th>\n      <td>Steak Salad Bowl</td>\n      <td>[Roasted Chili Corn Salsa, [Fajita Vegetables,...</td>\n      <td>11.89</td>\n    </tr>\n    <tr>\n      <th>2610</th>\n      <td>Carnitas Salad Bowl</td>\n      <td>[Roasted Chili Corn Salsa, [Fajita Vegetables,...</td>\n      <td>11.89</td>\n    </tr>\n    <tr>\n      <th>1159</th>\n      <td>Steak Salad Bowl</td>\n      <td>[Fresh Tomato Salsa, [Rice, Fajita Vegetables,...</td>\n      <td>11.89</td>\n    </tr>\n    <tr>\n      <th>1590</th>\n      <td>Steak Salad Bowl</td>\n      <td>[Fresh Tomato Salsa, [Fajita Vegetables, Rice,...</td>\n      <td>11.89</td>\n    </tr>\n    <tr>\n      <th>1571</th>\n      <td>Steak Salad Bowl</td>\n      <td>[Fresh Tomato Salsa, [Fajita Vegetables, Sour ...</td>\n      <td>11.89</td>\n    </tr>\n    <tr>\n      <th>3493</th>\n      <td>Steak Salad Bowl</td>\n      <td>[Roasted Chili Corn Salsa, [Fajita Vegetables,...</td>\n      <td>11.89</td>\n    </tr>\n    <tr>\n      <th>1326</th>\n      <td>Barbacoa Salad Bowl</td>\n      <td>[Fresh Tomato Salsa, [Fajita Vegetables, Rice,...</td>\n      <td>11.89</td>\n    </tr>\n    <tr>\n      <th>3350</th>\n      <td>Steak Salad Bowl</td>\n      <td>[Fresh Tomato Salsa, [Cheese, Guacamole, Lettu...</td>\n      <td>11.89</td>\n    </tr>\n    <tr>\n      <th>606</th>\n      <td>Steak Salad Bowl</td>\n      <td>[Fresh Tomato Salsa, [Pinto Beans, Cheese, Gua...</td>\n      <td>11.89</td>\n    </tr>\n    <tr>\n      <th>749</th>\n      <td>Steak Salad Bowl</td>\n      <td>[Roasted Chili Corn Salsa, [Rice, Cheese, Lett...</td>\n      <td>11.89</td>\n    </tr>\n    <tr>\n      <th>1229</th>\n      <td>Barbacoa Salad Bowl</td>\n      <td>[Fresh Tomato Salsa, [Rice, Fajita Vegetables,...</td>\n      <td>11.89</td>\n    </tr>\n    <tr>\n      <th>3749</th>\n      <td>Carnitas Salad Bowl</td>\n      <td>[Roasted Chili Corn Salsa, [Fajita Vegetables,...</td>\n      <td>11.89</td>\n    </tr>\n    <tr>\n      <th>1132</th>\n      <td>Carnitas Salad Bowl</td>\n      <td>[Fresh Tomato Salsa, [Rice, Black Beans, Chees...</td>\n      <td>11.89</td>\n    </tr>\n  </tbody>\n</table>\n</div>"
     },
     "metadata": {},
     "execution_count": 54
    }
   ],
   "source": [
    "j=unitp.sort_values('unit_price',ascending = False)\n",
    "j.head(25)"
   ]
  },
  {
   "cell_type": "code",
   "execution_count": 58,
   "metadata": {},
   "outputs": [
    {
     "output_type": "execute_result",
     "data": {
      "text/plain": "      order_id  quantity                     item_name choice_description  \\\n3598      1443        15  Chips and Fresh Tomato Salsa                NaN   \n\n      item_price  unit_price  \n3598       44.25        2.95  ",
      "text/html": "<div>\n<style scoped>\n    .dataframe tbody tr th:only-of-type {\n        vertical-align: middle;\n    }\n\n    .dataframe tbody tr th {\n        vertical-align: top;\n    }\n\n    .dataframe thead th {\n        text-align: right;\n    }\n</style>\n<table border=\"1\" class=\"dataframe\">\n  <thead>\n    <tr style=\"text-align: right;\">\n      <th></th>\n      <th>order_id</th>\n      <th>quantity</th>\n      <th>item_name</th>\n      <th>choice_description</th>\n      <th>item_price</th>\n      <th>unit_price</th>\n    </tr>\n  </thead>\n  <tbody>\n    <tr>\n      <th>3598</th>\n      <td>1443</td>\n      <td>15</td>\n      <td>Chips and Fresh Tomato Salsa</td>\n      <td>NaN</td>\n      <td>44.25</td>\n      <td>2.95</td>\n    </tr>\n  </tbody>\n</table>\n</div>"
     },
     "metadata": {},
     "execution_count": 58
    }
   ],
   "source": [
    "# Esto coincide con la respuesta pero NO estoy de acuerdp\n",
    "chipo.sort_values('item_price',ascending = False).head(1)"
   ]
  },
  {
   "cell_type": "code",
   "execution_count": 26,
   "metadata": {
    "collapsed": false
   },
   "outputs": [
    {
     "data": {
      "text/html": [
       "<div>\n",
       "<table border=\"1\" class=\"dataframe\">\n",
       "  <thead>\n",
       "    <tr style=\"text-align: right;\">\n",
       "      <th></th>\n",
       "      <th>order_id</th>\n",
       "      <th>quantity</th>\n",
       "      <th>item_name</th>\n",
       "      <th>choice_description</th>\n",
       "      <th>item_price</th>\n",
       "    </tr>\n",
       "  </thead>\n",
       "  <tbody>\n",
       "    <tr>\n",
       "      <th>3598</th>\n",
       "      <td>1443</td>\n",
       "      <td>15</td>\n",
       "      <td>Chips and Fresh Tomato Salsa</td>\n",
       "      <td>NaN</td>\n",
       "      <td>44.25</td>\n",
       "    </tr>\n",
       "  </tbody>\n",
       "</table>\n",
       "</div>"
      ],
      "text/plain": [
       "      order_id  quantity                     item_name choice_description  \\\n",
       "3598      1443        15  Chips and Fresh Tomato Salsa                NaN   \n",
       "\n",
       "      item_price  \n",
       "3598       44.25  "
      ]
     },
     "execution_count": 26,
     "metadata": {},
     "output_type": "execute_result"
    }
   ],
   "source": []
  },
  {
   "cell_type": "markdown",
   "metadata": {},
   "source": [
    "### Step 8. How many times was a Veggie Salad Bowl ordered?"
   ]
  },
  {
   "cell_type": "code",
   "execution_count": 55,
   "metadata": {},
   "outputs": [
    {
     "output_type": "execute_result",
     "data": {
      "text/plain": "18"
     },
     "metadata": {},
     "execution_count": 55
    }
   ],
   "source": [
    "vsb = chipo.groupby('item_name').sum().sort_values(['quantity'],ascending=False)\n",
    "vsb.head()\n",
    "vsb['quantity']['Veggie Salad Bowl']    #Muestra la columna quantity de la fila indicada (pues item_name es el index)\n",
    "#res = vsb.loc[vsb.loc[:,'item_name']==\"Veggie Salad Bowl\"]\n",
    "#res.head()"
   ]
  },
  {
   "cell_type": "code",
   "execution_count": 27,
   "metadata": {
    "collapsed": false
   },
   "outputs": [
    {
     "data": {
      "text/plain": [
       "18"
      ]
     },
     "execution_count": 27,
     "metadata": {},
     "output_type": "execute_result"
    }
   ],
   "source": []
  },
  {
   "cell_type": "markdown",
   "metadata": {},
   "source": [
    "### Step 9. How many times did someone order more than one Canned Soda?"
   ]
  },
  {
   "cell_type": "code",
   "execution_count": 59,
   "metadata": {},
   "outputs": [
    {
     "output_type": "execute_result",
     "data": {
      "text/plain": "20"
     },
     "metadata": {},
     "execution_count": 59
    }
   ],
   "source": [
    "m1 = chipo.loc[chipo.loc[:, 'quantity'] > 1]  #Hago un dataframe con los que tienen cantidad >1\n",
    "cs = m1.loc[m1.loc[:,'item_name']== \"Canned Soda\"]  #Del df anterior filtro los que ordenaron Canned Soda\n",
    "len(cs)  #Cuento las filas resultantes\n",
    "cs.shape[0] #Otra forma de contar las filas resultantes\n",
    "#cs.head(25)\n",
    "#cs.quantity.sum()"
   ]
  },
  {
   "cell_type": "code",
   "execution_count": 28,
   "metadata": {
    "collapsed": false
   },
   "outputs": [
    {
     "data": {
      "text/plain": [
       "20"
      ]
     },
     "execution_count": 28,
     "metadata": {},
     "output_type": "execute_result"
    }
   ],
   "source": []
  }
 ],
 "metadata": {
  "anaconda-cloud": {},
  "kernelspec": {
   "display_name": "Python 3.8.3 64-bit",
   "language": "python",
   "name": "python38364bit61836de9583b4678983c2459e76af05f"
  },
  "language_info": {
   "codemirror_mode": {
    "name": "ipython",
    "version": 2
   },
   "file_extension": ".py",
   "mimetype": "text/x-python",
   "name": "python",
   "nbconvert_exporter": "python",
   "pygments_lexer": "ipython2",
   "version": "3.8.3-final"
  }
 },
 "nbformat": 4,
 "nbformat_minor": 0
}