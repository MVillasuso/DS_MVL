{
 "cells": [
  {
   "cell_type": "markdown",
   "metadata": {},
   "source": [
    "# Ejercicios de pruebas para validar sintaxis y uso de funciones\n",
    "# Python ( Mónica Villasuso)\n",
    "\n",
    "**Variables, listas, diccionarios, condicionales, booleanos, funciones, while**"
   ]
  },
  {
   "cell_type": "markdown",
   "metadata": {},
   "source": [
    "------------------------------------------------------------------------------------------------------------"
   ]
  },
  {
   "cell_type": "markdown",
   "metadata": {},
   "source": [
    "## Ejercicio 1.\n",
    "\n"
   ]
  },
  {
   "cell_type": "code",
   "execution_count": 4,
   "metadata": {
    "tags": []
   },
   "outputs": [
    {
     "output_type": "stream",
     "name": "stdout",
     "text": "{'a': ['apple', 'atom'], 'b': ['bat', 'bar', 'book']}\n"
    }
   ],
   "source": [
    "words = ['apple', 'bat', 'bar', 'atom', 'book']\n",
    "by_letter = {}\n",
    "\n",
    "for word in words:\n",
    "   letter = word[0]\n",
    "   if letter not in by_letter:\n",
    "        by_letter[letter] = [word]\n",
    "   else:\n",
    "        by_letter[letter].append(word)\n",
    "\n",
    "print (by_letter)"
   ]
  },
  {
   "cell_type": "code",
   "execution_count": 7,
   "metadata": {
    "tags": []
   },
   "outputs": [
    {
     "output_type": "stream",
     "name": "stdout",
     "text": "defaultdict(<class 'list'>, {})\n['apple', 'bat', 'bar', 'atom', 'book']\ndefaultdict(<class 'list'>, {'a': ['apple']})\ndefaultdict(<class 'list'>, {'a': ['apple'], 'b': ['bat']})\ndefaultdict(<class 'list'>, {'a': ['apple'], 'b': ['bat', 'bar']})\ndefaultdict(<class 'list'>, {'a': ['apple', 'atom'], 'b': ['bat', 'bar']})\ndefaultdict(<class 'list'>, {'a': ['apple', 'atom'], 'b': ['bat', 'bar', 'book']})\n"
    }
   ],
   "source": [
    "for word in words:\n",
    "    letter = word[0]\n",
    "    by_letter.setdefault(letter, []).append(word)\n",
    "\n",
    "from collections import defaultdict\n",
    "\n",
    "by_letter = defaultdict(list)\n",
    "print(by_letter)\n",
    "print(words)\n",
    "\n",
    "\n",
    "for word in words:\n",
    "    by_letter[word[0]].append(word)\n",
    "    print(by_letter)"
   ]
  },
  {
   "cell_type": "code",
   "execution_count": 10,
   "metadata": {},
   "outputs": [
    {
     "output_type": "execute_result",
     "data": {
      "text/plain": "{1, 2, 3, 4, 6}"
     },
     "metadata": {},
     "execution_count": 10
    }
   ],
   "source": [
    "strings =['a', 'as', 'bat', 'car', 'dove', 'python']\n",
    "set(map(len, strings))\n"
   ]
  },
  {
   "cell_type": "markdown",
   "metadata": {},
   "source": [
    "1. Crea una\n"
   ]
  },
  {
   "cell_type": "code",
   "execution_count": 11,
   "metadata": {},
   "outputs": [],
   "source": [
    "def squares(n=10):\n",
    "    print('Generating squares from 1 to {0}'.format(n ** 2))\n",
    "    for i in range(1, n + 1):\n",
    "        yield i ** 2"
   ]
  },
  {
   "cell_type": "code",
   "execution_count": 12,
   "metadata": {},
   "outputs": [
    {
     "output_type": "execute_result",
     "data": {
      "text/plain": "<generator object squares at 0x7f81a6fb85d0>"
     },
     "metadata": {},
     "execution_count": 12
    }
   ],
   "source": [
    "squares(8)"
   ]
  },
  {
   "cell_type": "code",
   "execution_count": 15,
   "metadata": {
    "tags": []
   },
   "outputs": [
    {
     "output_type": "stream",
     "name": "stdout",
     "text": "Generating squares from 1 to 64\n1\n4\n9\n16\n25\n36\n49\n64\n"
    }
   ],
   "source": [
    "#GENERADORES\n",
    "gen = squares (8)\n",
    "for x in gen:\n",
    "    print(x)"
   ]
  },
  {
   "cell_type": "markdown",
   "metadata": {},
   "source": [
    "#EJEMPLO DE TRY and EXCEPT"
   ]
  },
  {
   "cell_type": "code",
   "execution_count": null,
   "metadata": {},
   "outputs": [],
   "source": [
    "def attempt_float(x):\n",
    "    try:\n",
    "        return float(x)\n",
    "    except:\n",
    "        return x"
   ]
  },
  {
   "cell_type": "code",
   "execution_count": 3,
   "metadata": {
    "tags": []
   },
   "outputs": [
    {
     "output_type": "stream",
     "name": "stdout",
     "text": "(4,)\n[0 1 2 3]\n"
    }
   ],
   "source": [
    "import numpy as np\n",
    "arr = np.arange(4)\n",
    "\n",
    "print(arr.shape)\n",
    "\n",
    "\n",
    "print(arr)\n"
   ]
  },
  {
   "cell_type": "code",
   "execution_count": 19,
   "metadata": {
    "tags": []
   },
   "outputs": [
    {
     "output_type": "stream",
     "name": "stdout",
     "text": "(4,)\n(1, 4)\n[0 1 2 3]\n[[0 1 2 3]]\n---------- Multiplica una matriz (2x3) por un vector (1x3)\n[[1. 2. 3.]\n [4. 5. 6.]]\n(2, 3)\n[1. 1. 1.]\nResult: [ 6. 15.]\n"
    }
   ],
   "source": [
    "# make it as row vector by inserting an axis along first dimension\n",
    "row_vec = arr[np.newaxis, :]     # arr[None, :]\n",
    "row_vec.shape\n",
    "\n",
    "print(arr.shape)\n",
    "print(row_vec.shape)\n",
    "\n",
    "print(arr)\n",
    "print (row_vec)\n",
    "\n",
    "print(\"---------- Multiplica una matriz (2x3) por un vector (1x3)\")\n",
    "x = np.array([[1., 2., 3.], [4., 5., 6.]])\n",
    "print(x)\n",
    "print(x.shape)\n",
    "print(np.ones(3))\n",
    "\n",
    "print( \"Result:\", np.dot(x, np.ones(3)))\n",
    "\n"
   ]
  },
  {
   "cell_type": "code",
   "execution_count": null,
   "metadata": {},
   "outputs": [],
   "source": [
    "# make it as column vector by inserting an axis along second dimension\n",
    "In [11]: col_vec = arr[:, np.newaxis]     # arr[:, None]\n",
    "In [12]: col_vec.shape\n",
    "Out[12]: (4, 1) 1D array\n",
    "In [7]: arr = np.arange(4)\n",
    "In [8]: arr.shape\n",
    "Out[8]: (4,)\n",
    "\n",
    "# make it as row vector by inserting an axis along first dimension\n",
    "In [9]: row_vec = arr[np.newaxis, :]     # arr[None, :]\n",
    "In [10]: row_vec.shape\n",
    "Out[10]: (1, 4)\n",
    "\n",
    "# make it as column vector by inserting an axis along second dimension\n",
    "In [11]: col_vec = arr[:, np.newaxis]     # arr[:, None]\n",
    "In [12]: col_vec.shape\n",
    "Out[12]: (4, 1)"
   ]
  },
  {
   "cell_type": "code",
   "execution_count": 35,
   "metadata": {
    "tags": []
   },
   "outputs": [
    {
     "output_type": "execute_result",
     "data": {
      "text/plain": "Index(['a', 'b', 'c', 'd'], dtype='object')"
     },
     "metadata": {},
     "execution_count": 35
    }
   ],
   "source": [
    "\n",
    "import pandas as pd \n",
    "\n",
    "df= pd.DataFrame(np.random.rand(4, 3),\n",
    "             columns=['foo', 'bar','mon'],\n",
    "             index=['a', 'b', 'c','d'])\n",
    "df.index\n",
    "#print(df)"
   ]
  },
  {
   "cell_type": "code",
   "execution_count": 36,
   "metadata": {},
   "outputs": [
    {
     "output_type": "execute_result",
     "data": {
      "text/plain": "a    0.583708\nb    0.484960\nc    0.543292\nd    0.635982\nName: bar, dtype: float64"
     },
     "metadata": {},
     "execution_count": 36
    }
   ],
   "source": [
    "df['bar']"
   ]
  },
  {
   "cell_type": "code",
   "execution_count": 37,
   "metadata": {},
   "outputs": [
    {
     "output_type": "execute_result",
     "data": {
      "text/plain": "        foo       bar       mon\na  0.841147  0.583708  0.909450\nb  0.226415  0.484960  0.184251\nc  0.515652  0.543292  0.921053\nd  0.160271  0.635982  0.898995",
      "text/html": "<div>\n<style scoped>\n    .dataframe tbody tr th:only-of-type {\n        vertical-align: middle;\n    }\n\n    .dataframe tbody tr th {\n        vertical-align: top;\n    }\n\n    .dataframe thead th {\n        text-align: right;\n    }\n</style>\n<table border=\"1\" class=\"dataframe\">\n  <thead>\n    <tr style=\"text-align: right;\">\n      <th></th>\n      <th>foo</th>\n      <th>bar</th>\n      <th>mon</th>\n    </tr>\n  </thead>\n  <tbody>\n    <tr>\n      <th>a</th>\n      <td>0.841147</td>\n      <td>0.583708</td>\n      <td>0.909450</td>\n    </tr>\n    <tr>\n      <th>b</th>\n      <td>0.226415</td>\n      <td>0.484960</td>\n      <td>0.184251</td>\n    </tr>\n    <tr>\n      <th>c</th>\n      <td>0.515652</td>\n      <td>0.543292</td>\n      <td>0.921053</td>\n    </tr>\n    <tr>\n      <th>d</th>\n      <td>0.160271</td>\n      <td>0.635982</td>\n      <td>0.898995</td>\n    </tr>\n  </tbody>\n</table>\n</div>"
     },
     "metadata": {},
     "execution_count": 37
    }
   ],
   "source": [
    "df"
   ]
  },
  {
   "cell_type": "code",
   "execution_count": 40,
   "metadata": {
    "tags": []
   },
   "outputs": [
    {
     "output_type": "stream",
     "name": "stdout",
     "text": "Index(['a', 'b', 'c', 'd'], dtype='object')\n"
    },
    {
     "output_type": "execute_result",
     "data": {
      "text/plain": "'a'"
     },
     "metadata": {},
     "execution_count": 40
    }
   ],
   "source": [
    "indice = df.index\n",
    "print(indice)\n",
    "indice[0]"
   ]
  },
  {
   "cell_type": "code",
   "execution_count": 41,
   "metadata": {},
   "outputs": [
    {
     "output_type": "execute_result",
     "data": {
      "text/plain": "a    0.25\nb    0.50\nc    0.75\nd    1.00\ndtype: float64"
     },
     "metadata": {},
     "execution_count": 41
    }
   ],
   "source": [
    "data_serie = pd.Series([0.25, 0.5, 0.75, 1.0],\n",
    "                 index=['a', 'b', 'c', 'd'])\n",
    "data_serie"
   ]
  },
  {
   "cell_type": "code",
   "execution_count": 43,
   "metadata": {},
   "outputs": [
    {
     "output_type": "execute_result",
     "data": {
      "text/plain": "True"
     },
     "metadata": {},
     "execution_count": 43
    }
   ],
   "source": [
    "\"d\" in data_serie"
   ]
  },
  {
   "cell_type": "code",
   "execution_count": 44,
   "metadata": {},
   "outputs": [
    {
     "output_type": "execute_result",
     "data": {
      "text/plain": "0.5"
     },
     "metadata": {},
     "execution_count": 44
    }
   ],
   "source": [
    "data_serie[\"b\"]"
   ]
  },
  {
   "cell_type": "code",
   "execution_count": 45,
   "metadata": {},
   "outputs": [
    {
     "output_type": "execute_result",
     "data": {
      "text/plain": "<bound method Series.items of a    0.25\nb    0.50\nc    0.75\nd    1.00\ndtype: float64>"
     },
     "metadata": {},
     "execution_count": 45
    }
   ],
   "source": [
    "data_serie.items"
   ]
  },
  {
   "cell_type": "code",
   "execution_count": 46,
   "metadata": {},
   "outputs": [],
   "source": [
    "data_serie[\"m\"] = 1.5"
   ]
  },
  {
   "cell_type": "code",
   "execution_count": 47,
   "metadata": {},
   "outputs": [
    {
     "output_type": "execute_result",
     "data": {
      "text/plain": "a    0.25\nb    0.50\nc    0.75\nd    1.00\nm    1.50\ndtype: float64"
     },
     "metadata": {},
     "execution_count": 47
    }
   ],
   "source": [
    "data_serie"
   ]
  },
  {
   "cell_type": "code",
   "execution_count": 48,
   "metadata": {},
   "outputs": [
    {
     "output_type": "execute_result",
     "data": {
      "text/plain": "1.5"
     },
     "metadata": {},
     "execution_count": 48
    }
   ],
   "source": [
    "data_serie[\"m\"]"
   ]
  },
  {
   "cell_type": "code",
   "execution_count": 50,
   "metadata": {},
   "outputs": [
    {
     "output_type": "execute_result",
     "data": {
      "text/plain": "d    1.0\nm    1.5\ndtype: float64"
     },
     "metadata": {},
     "execution_count": 50
    }
   ],
   "source": [
    "data_serie[data_serie>=1]"
   ]
  },
  {
   "cell_type": "code",
   "execution_count": 51,
   "metadata": {
    "tags": []
   },
   "outputs": [
    {
     "output_type": "stream",
     "name": "stdout",
     "text": "RandomState(MT19937)\n"
    }
   ],
   "source": [
    "rng = np.random.RandomState(42)\n",
    "print (rng)\n"
   ]
  },
  {
   "cell_type": "code",
   "execution_count": 52,
   "metadata": {},
   "outputs": [
    {
     "output_type": "execute_result",
     "data": {
      "text/plain": "0    6\n1    3\n2    7\n3    4\ndtype: int64"
     },
     "metadata": {},
     "execution_count": 52
    }
   ],
   "source": [
    "ser = pd.Series(rng.randint(0, 10, 4))\n",
    "ser"
   ]
  },
  {
   "cell_type": "code",
   "execution_count": 53,
   "metadata": {},
   "outputs": [],
   "source": [
    "A = rng.randint(10, size=(3, 4))"
   ]
  },
  {
   "cell_type": "code",
   "execution_count": 54,
   "metadata": {},
   "outputs": [
    {
     "output_type": "execute_result",
     "data": {
      "text/plain": "array([[6, 9, 2, 6],\n       [7, 4, 3, 7],\n       [7, 2, 5, 4]])"
     },
     "metadata": {},
     "execution_count": 54
    }
   ],
   "source": [
    "A"
   ]
  },
  {
   "cell_type": "code",
   "execution_count": 55,
   "metadata": {},
   "outputs": [],
   "source": [
    "df = pd.DataFrame(A, columns=list('QRST'))\n"
   ]
  },
  {
   "cell_type": "code",
   "execution_count": 56,
   "metadata": {},
   "outputs": [
    {
     "output_type": "execute_result",
     "data": {
      "text/plain": "   Q  R  S  T\n0  6  9  2  6\n1  7  4  3  7\n2  7  2  5  4",
      "text/html": "<div>\n<style scoped>\n    .dataframe tbody tr th:only-of-type {\n        vertical-align: middle;\n    }\n\n    .dataframe tbody tr th {\n        vertical-align: top;\n    }\n\n    .dataframe thead th {\n        text-align: right;\n    }\n</style>\n<table border=\"1\" class=\"dataframe\">\n  <thead>\n    <tr style=\"text-align: right;\">\n      <th></th>\n      <th>Q</th>\n      <th>R</th>\n      <th>S</th>\n      <th>T</th>\n    </tr>\n  </thead>\n  <tbody>\n    <tr>\n      <th>0</th>\n      <td>6</td>\n      <td>9</td>\n      <td>2</td>\n      <td>6</td>\n    </tr>\n    <tr>\n      <th>1</th>\n      <td>7</td>\n      <td>4</td>\n      <td>3</td>\n      <td>7</td>\n    </tr>\n    <tr>\n      <th>2</th>\n      <td>7</td>\n      <td>2</td>\n      <td>5</td>\n      <td>4</td>\n    </tr>\n  </tbody>\n</table>\n</div>"
     },
     "metadata": {},
     "execution_count": 56
    }
   ],
   "source": [
    "df"
   ]
  },
  {
   "cell_type": "code",
   "execution_count": 57,
   "metadata": {},
   "outputs": [
    {
     "output_type": "execute_result",
     "data": {
      "text/plain": "Q    6\nR    9\nS    2\nT    6\nName: 0, dtype: int64"
     },
     "metadata": {},
     "execution_count": 57
    }
   ],
   "source": [
    "df.iloc[0]"
   ]
  },
  {
   "cell_type": "code",
   "execution_count": 58,
   "metadata": {},
   "outputs": [
    {
     "output_type": "execute_result",
     "data": {
      "text/plain": "   Q  R  S  T\n0  0  0  0  0\n1  1 -5  1  1\n2  1 -7  3 -2",
      "text/html": "<div>\n<style scoped>\n    .dataframe tbody tr th:only-of-type {\n        vertical-align: middle;\n    }\n\n    .dataframe tbody tr th {\n        vertical-align: top;\n    }\n\n    .dataframe thead th {\n        text-align: right;\n    }\n</style>\n<table border=\"1\" class=\"dataframe\">\n  <thead>\n    <tr style=\"text-align: right;\">\n      <th></th>\n      <th>Q</th>\n      <th>R</th>\n      <th>S</th>\n      <th>T</th>\n    </tr>\n  </thead>\n  <tbody>\n    <tr>\n      <th>0</th>\n      <td>0</td>\n      <td>0</td>\n      <td>0</td>\n      <td>0</td>\n    </tr>\n    <tr>\n      <th>1</th>\n      <td>1</td>\n      <td>-5</td>\n      <td>1</td>\n      <td>1</td>\n    </tr>\n    <tr>\n      <th>2</th>\n      <td>1</td>\n      <td>-7</td>\n      <td>3</td>\n      <td>-2</td>\n    </tr>\n  </tbody>\n</table>\n</div>"
     },
     "metadata": {},
     "execution_count": 58
    }
   ],
   "source": [
    "df - df.iloc[0]"
   ]
  },
  {
   "cell_type": "code",
   "execution_count": 59,
   "metadata": {},
   "outputs": [
    {
     "output_type": "execute_result",
     "data": {
      "text/plain": "0    9\n1    4\n2    2\nName: R, dtype: int64"
     },
     "metadata": {},
     "execution_count": 59
    }
   ],
   "source": [
    "df['R']"
   ]
  },
  {
   "cell_type": "code",
   "execution_count": 60,
   "metadata": {},
   "outputs": [
    {
     "output_type": "execute_result",
     "data": {
      "text/plain": "   Q  R  S  T\n0 -3  0 -7 -3\n1  3  0 -1  3\n2  5  0  3  2",
      "text/html": "<div>\n<style scoped>\n    .dataframe tbody tr th:only-of-type {\n        vertical-align: middle;\n    }\n\n    .dataframe tbody tr th {\n        vertical-align: top;\n    }\n\n    .dataframe thead th {\n        text-align: right;\n    }\n</style>\n<table border=\"1\" class=\"dataframe\">\n  <thead>\n    <tr style=\"text-align: right;\">\n      <th></th>\n      <th>Q</th>\n      <th>R</th>\n      <th>S</th>\n      <th>T</th>\n    </tr>\n  </thead>\n  <tbody>\n    <tr>\n      <th>0</th>\n      <td>-3</td>\n      <td>0</td>\n      <td>-7</td>\n      <td>-3</td>\n    </tr>\n    <tr>\n      <th>1</th>\n      <td>3</td>\n      <td>0</td>\n      <td>-1</td>\n      <td>3</td>\n    </tr>\n    <tr>\n      <th>2</th>\n      <td>5</td>\n      <td>0</td>\n      <td>3</td>\n      <td>2</td>\n    </tr>\n  </tbody>\n</table>\n</div>"
     },
     "metadata": {},
     "execution_count": 60
    }
   ],
   "source": [
    "df.subtract(df['R'], axis=0)"
   ]
  },
  {
   "cell_type": "code",
   "execution_count": 62,
   "metadata": {},
   "outputs": [
    {
     "output_type": "execute_result",
     "data": {
      "text/plain": "   Q  R  S  T\n0  6  9  2  6\n1  7  4  3  7\n2  7  2  5  4",
      "text/html": "<div>\n<style scoped>\n    .dataframe tbody tr th:only-of-type {\n        vertical-align: middle;\n    }\n\n    .dataframe tbody tr th {\n        vertical-align: top;\n    }\n\n    .dataframe thead th {\n        text-align: right;\n    }\n</style>\n<table border=\"1\" class=\"dataframe\">\n  <thead>\n    <tr style=\"text-align: right;\">\n      <th></th>\n      <th>Q</th>\n      <th>R</th>\n      <th>S</th>\n      <th>T</th>\n    </tr>\n  </thead>\n  <tbody>\n    <tr>\n      <th>0</th>\n      <td>6</td>\n      <td>9</td>\n      <td>2</td>\n      <td>6</td>\n    </tr>\n    <tr>\n      <th>1</th>\n      <td>7</td>\n      <td>4</td>\n      <td>3</td>\n      <td>7</td>\n    </tr>\n    <tr>\n      <th>2</th>\n      <td>7</td>\n      <td>2</td>\n      <td>5</td>\n      <td>4</td>\n    </tr>\n  </tbody>\n</table>\n</div>"
     },
     "metadata": {},
     "execution_count": 62
    }
   ],
   "source": [
    "df "
   ]
  },
  {
   "cell_type": "code",
   "execution_count": 63,
   "metadata": {},
   "outputs": [
    {
     "output_type": "execute_result",
     "data": {
      "text/plain": "Q    6\nS    2\nName: 0, dtype: int64"
     },
     "metadata": {},
     "execution_count": 63
    }
   ],
   "source": [
    "df.iloc[0, ::2]  # la mitad de los elementos  (pues el step es 2, de la primera fila   (fila cero)"
   ]
  },
  {
   "cell_type": "code",
   "execution_count": 67,
   "metadata": {},
   "outputs": [
    {
     "output_type": "execute_result",
     "data": {
      "text/plain": "Q    7\nT    7\nName: 1, dtype: int64"
     },
     "metadata": {},
     "execution_count": 67
    }
   ],
   "source": [
    "df.iloc[1, ::3]   # solo el tercer elemento  (porque dice step 3) de la fila 1  "
   ]
  },
  {
   "cell_type": "code",
   "execution_count": 68,
   "metadata": {},
   "outputs": [
    {
     "output_type": "execute_result",
     "data": {
      "text/plain": "     Q   R    S   T\n0  0.0 NaN  0.0 NaN\n1  1.0 NaN  1.0 NaN\n2  1.0 NaN  3.0 NaN",
      "text/html": "<div>\n<style scoped>\n    .dataframe tbody tr th:only-of-type {\n        vertical-align: middle;\n    }\n\n    .dataframe tbody tr th {\n        vertical-align: top;\n    }\n\n    .dataframe thead th {\n        text-align: right;\n    }\n</style>\n<table border=\"1\" class=\"dataframe\">\n  <thead>\n    <tr style=\"text-align: right;\">\n      <th></th>\n      <th>Q</th>\n      <th>R</th>\n      <th>S</th>\n      <th>T</th>\n    </tr>\n  </thead>\n  <tbody>\n    <tr>\n      <th>0</th>\n      <td>0.0</td>\n      <td>NaN</td>\n      <td>0.0</td>\n      <td>NaN</td>\n    </tr>\n    <tr>\n      <th>1</th>\n      <td>1.0</td>\n      <td>NaN</td>\n      <td>1.0</td>\n      <td>NaN</td>\n    </tr>\n    <tr>\n      <th>2</th>\n      <td>1.0</td>\n      <td>NaN</td>\n      <td>3.0</td>\n      <td>NaN</td>\n    </tr>\n  </tbody>\n</table>\n</div>"
     },
     "metadata": {},
     "execution_count": 68
    }
   ],
   "source": [
    "df - df.iloc[0, ::2]"
   ]
  },
  {
   "cell_type": "code",
   "execution_count": null,
   "metadata": {},
   "outputs": [],
   "source": []
  }
 ],
 "metadata": {
  "file_extension": ".py",
  "kernelspec": {
   "display_name": "Python 3",
   "language": "python",
   "name": "python3"
  },
  "language_info": {
   "codemirror_mode": {
    "name": "ipython",
    "version": 3
   },
   "file_extension": ".py",
   "mimetype": "text/x-python",
   "name": "python",
   "nbconvert_exporter": "python",
   "pygments_lexer": "ipython3",
   "version": "3.8.3-final"
  },
  "mimetype": "text/x-python",
  "name": "python",
  "npconvert_exporter": "python",
  "pygments_lexer": "ipython3",
  "version": 3
 },
 "nbformat": 4,
 "nbformat_minor": 4
}